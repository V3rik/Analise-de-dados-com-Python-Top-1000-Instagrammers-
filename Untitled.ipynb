{
 "cells": [
  {
   "cell_type": "markdown",
   "id": "b16bd004",
   "metadata": {},
   "source": [
    "# Analisando os top 1000 perfis do instagram.\n",
    "\n",
    "1- baixar as bibliotecas.\n",
    "2- importar bibliotecas\n",
    "3- importar base de dados\n",
    "4- limpar base de dados.\n",
    "5- criar gráfico com base nos dados.\n",
    "6- realizar analise dos dados obtidos.\n",
    "\n",
    "Feito por Guilherme da Silva Pessoa Lucas..."
   ]
  },
  {
   "cell_type": "code",
   "execution_count": 3,
   "id": "6644a414",
   "metadata": {},
   "outputs": [
    {
     "data": {
      "text/html": [
       "<div>\n",
       "<style scoped>\n",
       "    .dataframe tbody tr th:only-of-type {\n",
       "        vertical-align: middle;\n",
       "    }\n",
       "\n",
       "    .dataframe tbody tr th {\n",
       "        vertical-align: top;\n",
       "    }\n",
       "\n",
       "    .dataframe thead th {\n",
       "        text-align: right;\n",
       "    }\n",
       "</style>\n",
       "<table border=\"1\" class=\"dataframe\">\n",
       "  <thead>\n",
       "    <tr style=\"text-align: right;\">\n",
       "      <th></th>\n",
       "      <th>Nome</th>\n",
       "      <th>Rank</th>\n",
       "      <th>Category</th>\n",
       "      <th>Followers</th>\n",
       "      <th>Audience Country</th>\n",
       "      <th>Authentic Engagement</th>\n",
       "      <th>Engagement Avg.</th>\n",
       "    </tr>\n",
       "  </thead>\n",
       "  <tbody>\n",
       "    <tr>\n",
       "      <th>0</th>\n",
       "      <td>cristiano</td>\n",
       "      <td>1</td>\n",
       "      <td>Sports with a ball</td>\n",
       "      <td>462.9M</td>\n",
       "      <td>India</td>\n",
       "      <td>5.5M</td>\n",
       "      <td>6.6M</td>\n",
       "    </tr>\n",
       "    <tr>\n",
       "      <th>1</th>\n",
       "      <td>leomessi</td>\n",
       "      <td>2</td>\n",
       "      <td>Sports with a ballFamily</td>\n",
       "      <td>347.2M</td>\n",
       "      <td>Argentina</td>\n",
       "      <td>3.6M</td>\n",
       "      <td>4.8M</td>\n",
       "    </tr>\n",
       "    <tr>\n",
       "      <th>2</th>\n",
       "      <td>kendalljenner</td>\n",
       "      <td>3</td>\n",
       "      <td>ModelingFashion</td>\n",
       "      <td>247.6M</td>\n",
       "      <td>United States</td>\n",
       "      <td>3M</td>\n",
       "      <td>4.9M</td>\n",
       "    </tr>\n",
       "    <tr>\n",
       "      <th>3</th>\n",
       "      <td>arianagrande</td>\n",
       "      <td>4</td>\n",
       "      <td>Music</td>\n",
       "      <td>321.4M</td>\n",
       "      <td>United States</td>\n",
       "      <td>2.4M</td>\n",
       "      <td>3.4M</td>\n",
       "    </tr>\n",
       "    <tr>\n",
       "      <th>4</th>\n",
       "      <td>zendaya</td>\n",
       "      <td>5</td>\n",
       "      <td>Cinema &amp; Actors/actressesFashion</td>\n",
       "      <td>147M</td>\n",
       "      <td>United States</td>\n",
       "      <td>4.3M</td>\n",
       "      <td>5.8M</td>\n",
       "    </tr>\n",
       "    <tr>\n",
       "      <th>...</th>\n",
       "      <td>...</td>\n",
       "      <td>...</td>\n",
       "      <td>...</td>\n",
       "      <td>...</td>\n",
       "      <td>...</td>\n",
       "      <td>...</td>\n",
       "      <td>...</td>\n",
       "    </tr>\n",
       "    <tr>\n",
       "      <th>995</th>\n",
       "      <td>nimratkhairaofficial</td>\n",
       "      <td>996</td>\n",
       "      <td>Music</td>\n",
       "      <td>8M</td>\n",
       "      <td>India</td>\n",
       "      <td>211.1K</td>\n",
       "      <td>261.8K</td>\n",
       "    </tr>\n",
       "    <tr>\n",
       "      <th>996</th>\n",
       "      <td>hanhyojoo222</td>\n",
       "      <td>997</td>\n",
       "      <td>TravelCinema &amp; Actors/actresses</td>\n",
       "      <td>4M</td>\n",
       "      <td>Indonesia</td>\n",
       "      <td>434.2K</td>\n",
       "      <td>518.2K</td>\n",
       "    </tr>\n",
       "    <tr>\n",
       "      <th>997</th>\n",
       "      <td>memphisdepay</td>\n",
       "      <td>998</td>\n",
       "      <td>Sports with a ball</td>\n",
       "      <td>15M</td>\n",
       "      <td>France</td>\n",
       "      <td>76.4K</td>\n",
       "      <td>135.5K</td>\n",
       "    </tr>\n",
       "    <tr>\n",
       "      <th>998</th>\n",
       "      <td>arminzareeiofficial</td>\n",
       "      <td>999</td>\n",
       "      <td>NaN</td>\n",
       "      <td>9.8M</td>\n",
       "      <td>Iran</td>\n",
       "      <td>135.4K</td>\n",
       "      <td>214K</td>\n",
       "    </tr>\n",
       "    <tr>\n",
       "      <th>999</th>\n",
       "      <td>noorstars</td>\n",
       "      <td>1000</td>\n",
       "      <td>Shows</td>\n",
       "      <td>13M</td>\n",
       "      <td>Iraq</td>\n",
       "      <td>117.6K</td>\n",
       "      <td>157.6K</td>\n",
       "    </tr>\n",
       "  </tbody>\n",
       "</table>\n",
       "<p>1000 rows × 7 columns</p>\n",
       "</div>"
      ],
      "text/plain": [
       "                     Nome  Rank                          Category Followers  \\\n",
       "0               cristiano     1                Sports with a ball    462.9M   \n",
       "1                leomessi     2          Sports with a ballFamily    347.2M   \n",
       "2           kendalljenner     3                   ModelingFashion    247.6M   \n",
       "3            arianagrande     4                             Music    321.4M   \n",
       "4                 zendaya     5  Cinema & Actors/actressesFashion      147M   \n",
       "..                    ...   ...                               ...       ...   \n",
       "995  nimratkhairaofficial   996                             Music        8M   \n",
       "996          hanhyojoo222   997   TravelCinema & Actors/actresses        4M   \n",
       "997          memphisdepay   998                Sports with a ball       15M   \n",
       "998   arminzareeiofficial   999                               NaN      9.8M   \n",
       "999             noorstars  1000                             Shows       13M   \n",
       "\n",
       "    Audience Country Authentic Engagement Engagement Avg.  \n",
       "0              India                 5.5M            6.6M  \n",
       "1          Argentina                 3.6M            4.8M  \n",
       "2      United States                   3M            4.9M  \n",
       "3      United States                 2.4M            3.4M  \n",
       "4      United States                 4.3M            5.8M  \n",
       "..               ...                  ...             ...  \n",
       "995            India               211.1K          261.8K  \n",
       "996        Indonesia               434.2K          518.2K  \n",
       "997           France                76.4K          135.5K  \n",
       "998             Iran               135.4K            214K  \n",
       "999             Iraq               117.6K          157.6K  \n",
       "\n",
       "[1000 rows x 7 columns]"
      ]
     },
     "metadata": {},
     "output_type": "display_data"
    },
    {
     "name": "stdout",
     "output_type": "stream",
     "text": [
      "<class 'pandas.core.frame.DataFrame'>\n",
      "RangeIndex: 1000 entries, 0 to 999\n",
      "Data columns (total 7 columns):\n",
      " #   Column                Non-Null Count  Dtype \n",
      "---  ------                --------------  ----- \n",
      " 0   Nome                  1000 non-null   object\n",
      " 1   Rank                  1000 non-null   int64 \n",
      " 2   Category              916 non-null    object\n",
      " 3   Followers             1000 non-null   object\n",
      " 4   Audience Country      986 non-null    object\n",
      " 5   Authentic Engagement  1000 non-null   object\n",
      " 6   Engagement Avg.       1000 non-null   object\n",
      "dtypes: int64(1), object(6)\n",
      "memory usage: 54.8+ KB\n",
      "None\n"
     ]
    }
   ],
   "source": [
    "# comandos para baixar bibliotecas:\n",
    "\n",
    "#biblioteca responsavel por analisar dados.\n",
    "#!pip install pandas\n",
    "\n",
    "#biblioteca responsavel por gerar os gráficos:\n",
    "#!pip install plotly_express\n",
    "\n",
    "#!pip install packagename\n",
    "\n",
    "\n",
    "\n",
    "\n",
    "#comandos para importar as bibliotecas:\n",
    "import pandas as pd\n",
    "import plotly_express as px\n",
    "\n",
    "\n",
    "\n",
    "\n",
    "\n",
    "# importando base de dados:\n",
    "tabela = pd.read_csv(\"top_1000_instagrammers.csv\") # \"campo onde vai a nossa base de dados.\" \n",
    "\n",
    "\n",
    "\n",
    "\n",
    "\n",
    "\n",
    "#Limpando tabela de dados de dados considerados inuteis.\n",
    "#Neste caso todos os dados são uteis e não há necessidade de apagar algum deles.\n",
    "\n",
    "# comando para descartar linhas que estejam com campos vazios ou dados nulos:\n",
    "\n",
    "tabela = tabela.dropna(how=\"all\", axis=1)\n",
    "#COMANDO PARA EXIBIR TABELAabs\n",
    "display(tabela)\n",
    "\n",
    "\n",
    "\n",
    "\n",
    "\n",
    "#Vamos agora buscar informações mais apuradas sobre nossos dados...\n",
    "print(tabela.info())\n",
    "\n",
    "\n",
    "\n"
   ]
  },
  {
   "cell_type": "code",
   "execution_count": 4,
   "id": "688ea33a",
   "metadata": {},
   "outputs": [
    {
     "data": {
      "application/vnd.plotly.v1+json": {
       "config": {
        "plotlyServerURL": "https://plot.ly"
       },
       "data": [
        {
         "alignmentgroup": "True",
         "bingroup": "x",
         "hovertemplate": "Followers=462.9M<br>Category=%{x}<br>count=%{y}<extra></extra>",
         "legendgroup": "462.9M",
         "marker": {
          "color": "#636efa",
          "pattern": {
           "shape": ""
          }
         },
         "name": "462.9M",
         "offsetgroup": "462.9M",
         "orientation": "v",
         "showlegend": true,
         "texttemplate": "%{value}",
         "type": "histogram",
         "x": [
          "Sports with a ball"
         ],
         "xaxis": "x",
         "yaxis": "y"
        },
        {
         "alignmentgroup": "True",
         "bingroup": "x",
         "hovertemplate": "Followers=347.2M<br>Category=%{x}<br>count=%{y}<extra></extra>",
         "legendgroup": "347.2M",
         "marker": {
          "color": "#EF553B",
          "pattern": {
           "shape": ""
          }
         },
         "name": "347.2M",
         "offsetgroup": "347.2M",
         "orientation": "v",
         "showlegend": true,
         "texttemplate": "%{value}",
         "type": "histogram",
         "x": [
          "Sports with a ballFamily"
         ],
         "xaxis": "x",
         "yaxis": "y"
        },
        {
         "alignmentgroup": "True",
         "bingroup": "x",
         "hovertemplate": "Followers=247.6M<br>Category=%{x}<br>count=%{y}<extra></extra>",
         "legendgroup": "247.6M",
         "marker": {
          "color": "#00cc96",
          "pattern": {
           "shape": ""
          }
         },
         "name": "247.6M",
         "offsetgroup": "247.6M",
         "orientation": "v",
         "showlegend": true,
         "texttemplate": "%{value}",
         "type": "histogram",
         "x": [
          "ModelingFashion"
         ],
         "xaxis": "x",
         "yaxis": "y"
        },
        {
         "alignmentgroup": "True",
         "bingroup": "x",
         "hovertemplate": "Followers=321.4M<br>Category=%{x}<br>count=%{y}<extra></extra>",
         "legendgroup": "321.4M",
         "marker": {
          "color": "#ab63fa",
          "pattern": {
           "shape": ""
          }
         },
         "name": "321.4M",
         "offsetgroup": "321.4M",
         "orientation": "v",
         "showlegend": true,
         "texttemplate": "%{value}",
         "type": "histogram",
         "x": [
          "Music"
         ],
         "xaxis": "x",
         "yaxis": "y"
        },
        {
         "alignmentgroup": "True",
         "bingroup": "x",
         "hovertemplate": "Followers=147M<br>Category=%{x}<br>count=%{y}<extra></extra>",
         "legendgroup": "147M",
         "marker": {
          "color": "#FFA15A",
          "pattern": {
           "shape": ""
          }
         },
         "name": "147M",
         "offsetgroup": "147M",
         "orientation": "v",
         "showlegend": true,
         "texttemplate": "%{value}",
         "type": "histogram",
         "x": [
          "Cinema & Actors/actressesFashion"
         ],
         "xaxis": "x",
         "yaxis": "y"
        },
        {
         "alignmentgroup": "True",
         "bingroup": "x",
         "hovertemplate": "Followers=323.6M<br>Category=%{x}<br>count=%{y}<extra></extra>",
         "legendgroup": "323.6M",
         "marker": {
          "color": "#19d3f3",
          "pattern": {
           "shape": ""
          }
         },
         "name": "323.6M",
         "offsetgroup": "323.6M",
         "orientation": "v",
         "showlegend": true,
         "texttemplate": "%{value}",
         "type": "histogram",
         "x": [
          "FashionBeauty"
         ],
         "xaxis": "x",
         "yaxis": "y"
        },
        {
         "alignmentgroup": "True",
         "bingroup": "x",
         "hovertemplate": "Followers=218.2M<br>Category=%{x}<br>count=%{y}<extra></extra>",
         "legendgroup": "218.2M",
         "marker": {
          "color": "#FF6692",
          "pattern": {
           "shape": ""
          }
         },
         "name": "218.2M",
         "offsetgroup": "218.2M",
         "orientation": "v",
         "showlegend": true,
         "texttemplate": "%{value}",
         "type": "histogram",
         "x": [
          "Music"
         ],
         "xaxis": "x",
         "yaxis": "y"
        },
        {
         "alignmentgroup": "True",
         "bingroup": "x",
         "hovertemplate": "Followers=357M<br>Category=%{x}<br>count=%{y}<extra></extra>",
         "legendgroup": "357M",
         "marker": {
          "color": "#B6E880",
          "pattern": {
           "shape": ""
          }
         },
         "name": "357M",
         "offsetgroup": "357M",
         "orientation": "v",
         "showlegend": true,
         "texttemplate": "%{value}",
         "type": "histogram",
         "x": [
          "FashionModelingBeauty"
         ],
         "xaxis": "x",
         "yaxis": "y"
        },
        {
         "alignmentgroup": "True",
         "bingroup": "x",
         "hovertemplate": "Followers=334.9M<br>Category=%{x}<br>count=%{y}<extra></extra>",
         "legendgroup": "334.9M",
         "marker": {
          "color": "#FF97FF",
          "pattern": {
           "shape": ""
          }
         },
         "name": "334.9M",
         "offsetgroup": "334.9M",
         "orientation": "v",
         "showlegend": true,
         "texttemplate": "%{value}",
         "type": "histogram",
         "x": [
          "MusicLifestyle"
         ],
         "xaxis": "x",
         "yaxis": "y"
        },
        {
         "alignmentgroup": "True",
         "bingroup": "x",
         "hovertemplate": "Followers=46.3M<br>Category=%{x}<br>count=%{y}<extra></extra>",
         "legendgroup": "46.3M",
         "marker": {
          "color": "#FECB52",
          "pattern": {
           "shape": ""
          }
         },
         "name": "46.3M",
         "offsetgroup": "46.3M",
         "orientation": "v",
         "showlegend": true,
         "texttemplate": "%{value}",
         "type": "histogram",
         "x": [
          null,
          "MusicFashion"
         ],
         "xaxis": "x",
         "yaxis": "y"
        },
        {
         "alignmentgroup": "True",
         "bingroup": "x",
         "hovertemplate": "Followers=79.9M<br>Category=%{x}<br>count=%{y}<extra></extra>",
         "legendgroup": "79.9M",
         "marker": {
          "color": "#636efa",
          "pattern": {
           "shape": ""
          }
         },
         "name": "79.9M",
         "offsetgroup": "79.9M",
         "orientation": "v",
         "showlegend": true,
         "texttemplate": "%{value}",
         "type": "histogram",
         "x": [
          "Music"
         ],
         "xaxis": "x",
         "yaxis": "y"
        },
        {
         "alignmentgroup": "True",
         "bingroup": "x",
         "hovertemplate": "Followers=68.2M<br>Category=%{x}<br>count=%{y}<extra></extra>",
         "legendgroup": "68.2M",
         "marker": {
          "color": "#EF553B",
          "pattern": {
           "shape": ""
          }
         },
         "name": "68.2M",
         "offsetgroup": "68.2M",
         "orientation": "v",
         "showlegend": true,
         "texttemplate": "%{value}",
         "type": "histogram",
         "x": [
          "Music",
          "Finance & EconomicsBusiness & Careers"
         ],
         "xaxis": "x",
         "yaxis": "y"
        },
        {
         "alignmentgroup": "True",
         "bingroup": "x",
         "hovertemplate": "Followers=206.9M<br>Category=%{x}<br>count=%{y}<extra></extra>",
         "legendgroup": "206.9M",
         "marker": {
          "color": "#00cc96",
          "pattern": {
           "shape": ""
          }
         },
         "name": "206.9M",
         "offsetgroup": "206.9M",
         "orientation": "v",
         "showlegend": true,
         "texttemplate": "%{value}",
         "type": "histogram",
         "x": [
          "Sports with a ball"
         ],
         "xaxis": "x",
         "yaxis": "y"
        },
        {
         "alignmentgroup": "True",
         "bingroup": "x",
         "hovertemplate": "Followers=67.6M<br>Category=%{x}<br>count=%{y}<extra></extra>",
         "legendgroup": "67.6M",
         "marker": {
          "color": "#ab63fa",
          "pattern": {
           "shape": ""
          }
         },
         "name": "67.6M",
         "offsetgroup": "67.6M",
         "orientation": "v",
         "showlegend": true,
         "texttemplate": "%{value}",
         "type": "histogram",
         "x": [
          "Cinema & Actors/actresses"
         ],
         "xaxis": "x",
         "yaxis": "y"
        },
        {
         "alignmentgroup": "True",
         "bingroup": "x",
         "hovertemplate": "Followers=38.1M<br>Category=%{x}<br>count=%{y}<extra></extra>",
         "legendgroup": "38.1M",
         "marker": {
          "color": "#FFA15A",
          "pattern": {
           "shape": ""
          }
         },
         "name": "38.1M",
         "offsetgroup": "38.1M",
         "orientation": "v",
         "showlegend": true,
         "texttemplate": "%{value}",
         "type": "histogram",
         "x": [
          null
         ],
         "xaxis": "x",
         "yaxis": "y"
        },
        {
         "alignmentgroup": "True",
         "bingroup": "x",
         "hovertemplate": "Followers=36.5M<br>Category=%{x}<br>count=%{y}<extra></extra>",
         "legendgroup": "36.5M",
         "marker": {
          "color": "#19d3f3",
          "pattern": {
           "shape": ""
          }
         },
         "name": "36.5M",
         "offsetgroup": "36.5M",
         "orientation": "v",
         "showlegend": true,
         "texttemplate": "%{value}",
         "type": "histogram",
         "x": [
          "Lifestyle"
         ],
         "xaxis": "x",
         "yaxis": "y"
        },
        {
         "alignmentgroup": "True",
         "bingroup": "x",
         "hovertemplate": "Followers=37.4M<br>Category=%{x}<br>count=%{y}<extra></extra>",
         "legendgroup": "37.4M",
         "marker": {
          "color": "#FF6692",
          "pattern": {
           "shape": ""
          }
         },
         "name": "37.4M",
         "offsetgroup": "37.4M",
         "orientation": "v",
         "showlegend": true,
         "texttemplate": "%{value}",
         "type": "histogram",
         "x": [
          null,
          "Art/ArtistsCinema & Actors/actressesMusic",
          "Cinema & Actors/actresses",
          "Cinema & Actors/actressesComics & sketches"
         ],
         "xaxis": "x",
         "yaxis": "y"
        },
        {
         "alignmentgroup": "True",
         "bingroup": "x",
         "hovertemplate": "Followers=267.4M<br>Category=%{x}<br>count=%{y}<extra></extra>",
         "legendgroup": "267.4M",
         "marker": {
          "color": "#B6E880",
          "pattern": {
           "shape": ""
          }
         },
         "name": "267.4M",
         "offsetgroup": "267.4M",
         "orientation": "v",
         "showlegend": true,
         "texttemplate": "%{value}",
         "type": "histogram",
         "x": [
          "MusicFashion"
         ],
         "xaxis": "x",
         "yaxis": "y"
        },
        {
         "alignmentgroup": "True",
         "bingroup": "x",
         "hovertemplate": "Followers=260.4M<br>Category=%{x}<br>count=%{y}<extra></extra>",
         "legendgroup": "260.4M",
         "marker": {
          "color": "#FF97FF",
          "pattern": {
           "shape": ""
          }
         },
         "name": "260.4M",
         "offsetgroup": "260.4M",
         "orientation": "v",
         "showlegend": true,
         "texttemplate": "%{value}",
         "type": "histogram",
         "x": [
          "Clothing & OutfitsLifestyle"
         ],
         "xaxis": "x",
         "yaxis": "y"
        },
        {
         "alignmentgroup": "True",
         "bingroup": "x",
         "hovertemplate": "Followers=62.1M<br>Category=%{x}<br>count=%{y}<extra></extra>",
         "legendgroup": "62.1M",
         "marker": {
          "color": "#FECB52",
          "pattern": {
           "shape": ""
          }
         },
         "name": "62.1M",
         "offsetgroup": "62.1M",
         "orientation": "v",
         "showlegend": true,
         "texttemplate": "%{value}",
         "type": "histogram",
         "x": [
          "MusicBeauty"
         ],
         "xaxis": "x",
         "yaxis": "y"
        },
        {
         "alignmentgroup": "True",
         "bingroup": "x",
         "hovertemplate": "Followers=104.3M<br>Category=%{x}<br>count=%{y}<extra></extra>",
         "legendgroup": "104.3M",
         "marker": {
          "color": "#636efa",
          "pattern": {
           "shape": ""
          }
         },
         "name": "104.3M",
         "offsetgroup": "104.3M",
         "orientation": "v",
         "showlegend": true,
         "texttemplate": "%{value}",
         "type": "histogram",
         "x": [
          "Music"
         ],
         "xaxis": "x",
         "yaxis": "y"
        },
        {
         "alignmentgroup": "True",
         "bingroup": "x",
         "hovertemplate": "Followers=176.2M<br>Category=%{x}<br>count=%{y}<extra></extra>",
         "legendgroup": "176.2M",
         "marker": {
          "color": "#EF553B",
          "pattern": {
           "shape": ""
          }
         },
         "name": "176.2M",
         "offsetgroup": "176.2M",
         "orientation": "v",
         "showlegend": true,
         "texttemplate": "%{value}",
         "type": "histogram",
         "x": [
          "Sports with a ball"
         ],
         "xaxis": "x",
         "yaxis": "y"
        },
        {
         "alignmentgroup": "True",
         "bingroup": "x",
         "hovertemplate": "Followers=78.6M<br>Category=%{x}<br>count=%{y}<extra></extra>",
         "legendgroup": "78.6M",
         "marker": {
          "color": "#00cc96",
          "pattern": {
           "shape": ""
          }
         },
         "name": "78.6M",
         "offsetgroup": "78.6M",
         "orientation": "v",
         "showlegend": true,
         "texttemplate": "%{value}",
         "type": "histogram",
         "x": [
          "Sports with a ball",
          "SciencePhotography",
          "SciencePhotography"
         ],
         "xaxis": "x",
         "yaxis": "y"
        },
        {
         "alignmentgroup": "True",
         "bingroup": "x",
         "hovertemplate": "Followers=245.9M<br>Category=%{x}<br>count=%{y}<extra></extra>",
         "legendgroup": "245.9M",
         "marker": {
          "color": "#ab63fa",
          "pattern": {
           "shape": ""
          }
         },
         "name": "245.9M",
         "offsetgroup": "245.9M",
         "orientation": "v",
         "showlegend": true,
         "texttemplate": "%{value}",
         "type": "histogram",
         "x": [
          "Music"
         ],
         "xaxis": "x",
         "yaxis": "y"
        },
        {
         "alignmentgroup": "True",
         "bingroup": "x",
         "hovertemplate": "Followers=61M<br>Category=%{x}<br>count=%{y}<extra></extra>",
         "legendgroup": "61M",
         "marker": {
          "color": "#FFA15A",
          "pattern": {
           "shape": ""
          }
         },
         "name": "61M",
         "offsetgroup": "61M",
         "orientation": "v",
         "showlegend": true,
         "texttemplate": "%{value}",
         "type": "histogram",
         "x": [
          "Music"
         ],
         "xaxis": "x",
         "yaxis": "y"
        },
        {
         "alignmentgroup": "True",
         "bingroup": "x",
         "hovertemplate": "Followers=41.4M<br>Category=%{x}<br>count=%{y}<extra></extra>",
         "legendgroup": "41.4M",
         "marker": {
          "color": "#19d3f3",
          "pattern": {
           "shape": ""
          }
         },
         "name": "41.4M",
         "offsetgroup": "41.4M",
         "orientation": "v",
         "showlegend": true,
         "texttemplate": "%{value}",
         "type": "histogram",
         "x": [
          "Music"
         ],
         "xaxis": "x",
         "yaxis": "y"
        },
        {
         "alignmentgroup": "True",
         "bingroup": "x",
         "hovertemplate": "Followers=197.8M<br>Category=%{x}<br>count=%{y}<extra></extra>",
         "legendgroup": "197.8M",
         "marker": {
          "color": "#FF6692",
          "pattern": {
           "shape": ""
          }
         },
         "name": "197.8M",
         "offsetgroup": "197.8M",
         "orientation": "v",
         "showlegend": true,
         "texttemplate": "%{value}",
         "type": "histogram",
         "x": [
          "Music"
         ],
         "xaxis": "x",
         "yaxis": "y"
        },
        {
         "alignmentgroup": "True",
         "bingroup": "x",
         "hovertemplate": "Followers=528.4M<br>Category=%{x}<br>count=%{y}<extra></extra>",
         "legendgroup": "528.4M",
         "marker": {
          "color": "#B6E880",
          "pattern": {
           "shape": ""
          }
         },
         "name": "528.4M",
         "offsetgroup": "528.4M",
         "orientation": "v",
         "showlegend": true,
         "texttemplate": "%{value}",
         "type": "histogram",
         "x": [
          "Photography"
         ],
         "xaxis": "x",
         "yaxis": "y"
        },
        {
         "alignmentgroup": "True",
         "bingroup": "x",
         "hovertemplate": "Followers=43M<br>Category=%{x}<br>count=%{y}<extra></extra>",
         "legendgroup": "43M",
         "marker": {
          "color": "#FF97FF",
          "pattern": {
           "shape": ""
          }
         },
         "name": "43M",
         "offsetgroup": "43M",
         "orientation": "v",
         "showlegend": true,
         "texttemplate": "%{value}",
         "type": "histogram",
         "x": [
          "Music",
          "ModelingCinema & Actors/actresses"
         ],
         "xaxis": "x",
         "yaxis": "y"
        },
        {
         "alignmentgroup": "True",
         "bingroup": "x",
         "hovertemplate": "Followers=66M<br>Category=%{x}<br>count=%{y}<extra></extra>",
         "legendgroup": "66M",
         "marker": {
          "color": "#FECB52",
          "pattern": {
           "shape": ""
          }
         },
         "name": "66M",
         "offsetgroup": "66M",
         "orientation": "v",
         "showlegend": true,
         "texttemplate": "%{value}",
         "type": "histogram",
         "x": [
          "Music"
         ],
         "xaxis": "x",
         "yaxis": "y"
        },
        {
         "alignmentgroup": "True",
         "bingroup": "x",
         "hovertemplate": "Followers=137.3M<br>Category=%{x}<br>count=%{y}<extra></extra>",
         "legendgroup": "137.3M",
         "marker": {
          "color": "#636efa",
          "pattern": {
           "shape": ""
          }
         },
         "name": "137.3M",
         "offsetgroup": "137.3M",
         "orientation": "v",
         "showlegend": true,
         "texttemplate": "%{value}",
         "type": "histogram",
         "x": [
          "MusicFashion"
         ],
         "xaxis": "x",
         "yaxis": "y"
        },
        {
         "alignmentgroup": "True",
         "bingroup": "x",
         "hovertemplate": "Followers=189M<br>Category=%{x}<br>count=%{y}<extra></extra>",
         "legendgroup": "189M",
         "marker": {
          "color": "#EF553B",
          "pattern": {
           "shape": ""
          }
         },
         "name": "189M",
         "offsetgroup": "189M",
         "orientation": "v",
         "showlegend": true,
         "texttemplate": "%{value}",
         "type": "histogram",
         "x": [
          "Lifestyle"
         ],
         "xaxis": "x",
         "yaxis": "y"
        },
        {
         "alignmentgroup": "True",
         "bingroup": "x",
         "hovertemplate": "Followers=54.5M<br>Category=%{x}<br>count=%{y}<extra></extra>",
         "legendgroup": "54.5M",
         "marker": {
          "color": "#00cc96",
          "pattern": {
           "shape": ""
          }
         },
         "name": "54.5M",
         "offsetgroup": "54.5M",
         "orientation": "v",
         "showlegend": true,
         "texttemplate": "%{value}",
         "type": "histogram",
         "x": [
          "Music"
         ],
         "xaxis": "x",
         "yaxis": "y"
        },
        {
         "alignmentgroup": "True",
         "bingroup": "x",
         "hovertemplate": "Followers=46.2M<br>Category=%{x}<br>count=%{y}<extra></extra>",
         "legendgroup": "46.2M",
         "marker": {
          "color": "#ab63fa",
          "pattern": {
           "shape": ""
          }
         },
         "name": "46.2M",
         "offsetgroup": "46.2M",
         "orientation": "v",
         "showlegend": true,
         "texttemplate": "%{value}",
         "type": "histogram",
         "x": [
          "Music"
         ],
         "xaxis": "x",
         "yaxis": "y"
        },
        {
         "alignmentgroup": "True",
         "bingroup": "x",
         "hovertemplate": "Followers=36M<br>Category=%{x}<br>count=%{y}<extra></extra>",
         "legendgroup": "36M",
         "marker": {
          "color": "#FFA15A",
          "pattern": {
           "shape": ""
          }
         },
         "name": "36M",
         "offsetgroup": "36M",
         "orientation": "v",
         "showlegend": true,
         "texttemplate": "%{value}",
         "type": "histogram",
         "x": [
          "Lifestyle",
          "Modeling"
         ],
         "xaxis": "x",
         "yaxis": "y"
        },
        {
         "alignmentgroup": "True",
         "bingroup": "x",
         "hovertemplate": "Followers=53.2M<br>Category=%{x}<br>count=%{y}<extra></extra>",
         "legendgroup": "53.2M",
         "marker": {
          "color": "#19d3f3",
          "pattern": {
           "shape": ""
          }
         },
         "name": "53.2M",
         "offsetgroup": "53.2M",
         "orientation": "v",
         "showlegend": true,
         "texttemplate": "%{value}",
         "type": "histogram",
         "x": [
          "Cinema & Actors/actresses",
          "Cinema & Actors/actresses",
          "Modeling"
         ],
         "xaxis": "x",
         "yaxis": "y"
        },
        {
         "alignmentgroup": "True",
         "bingroup": "x",
         "hovertemplate": "Followers=74.9M<br>Category=%{x}<br>count=%{y}<extra></extra>",
         "legendgroup": "74.9M",
         "marker": {
          "color": "#FF6692",
          "pattern": {
           "shape": ""
          }
         },
         "name": "74.9M",
         "offsetgroup": "74.9M",
         "orientation": "v",
         "showlegend": true,
         "texttemplate": "%{value}",
         "type": "histogram",
         "x": [
          "ModelingLifestyle"
         ],
         "xaxis": "x",
         "yaxis": "y"
        },
        {
         "alignmentgroup": "True",
         "bingroup": "x",
         "hovertemplate": "Followers=217.5M<br>Category=%{x}<br>count=%{y}<extra></extra>",
         "legendgroup": "217.5M",
         "marker": {
          "color": "#B6E880",
          "pattern": {
           "shape": ""
          }
         },
         "name": "217.5M",
         "offsetgroup": "217.5M",
         "orientation": "v",
         "showlegend": true,
         "texttemplate": "%{value}",
         "type": "histogram",
         "x": [
          "MusicCinema & Actors/actresses"
         ],
         "xaxis": "x",
         "yaxis": "y"
        },
        {
         "alignmentgroup": "True",
         "bingroup": "x",
         "hovertemplate": "Followers=127.4M<br>Category=%{x}<br>count=%{y}<extra></extra>",
         "legendgroup": "127.4M",
         "marker": {
          "color": "#FF97FF",
          "pattern": {
           "shape": ""
          }
         },
         "name": "127.4M",
         "offsetgroup": "127.4M",
         "orientation": "v",
         "showlegend": true,
         "texttemplate": "%{value}",
         "type": "histogram",
         "x": [
          "Sports with a ball"
         ],
         "xaxis": "x",
         "yaxis": "y"
        },
        {
         "alignmentgroup": "True",
         "bingroup": "x",
         "hovertemplate": "Followers=327.3M<br>Category=%{x}<br>count=%{y}<extra></extra>",
         "legendgroup": "327.3M",
         "marker": {
          "color": "#FECB52",
          "pattern": {
           "shape": ""
          }
         },
         "name": "327.3M",
         "offsetgroup": "327.3M",
         "orientation": "v",
         "showlegend": true,
         "texttemplate": "%{value}",
         "type": "histogram",
         "x": [
          "Cinema & Actors/actressesFitness & Gym"
         ],
         "xaxis": "x",
         "yaxis": "y"
        },
        {
         "alignmentgroup": "True",
         "bingroup": "x",
         "hovertemplate": "Followers=50.6M<br>Category=%{x}<br>count=%{y}<extra></extra>",
         "legendgroup": "50.6M",
         "marker": {
          "color": "#636efa",
          "pattern": {
           "shape": ""
          }
         },
         "name": "50.6M",
         "offsetgroup": "50.6M",
         "orientation": "v",
         "showlegend": true,
         "texttemplate": "%{value}",
         "type": "histogram",
         "x": [
          "Music"
         ],
         "xaxis": "x",
         "yaxis": "y"
        },
        {
         "alignmentgroup": "True",
         "bingroup": "x",
         "hovertemplate": "Followers=39M<br>Category=%{x}<br>count=%{y}<extra></extra>",
         "legendgroup": "39M",
         "marker": {
          "color": "#EF553B",
          "pattern": {
           "shape": ""
          }
         },
         "name": "39M",
         "offsetgroup": "39M",
         "orientation": "v",
         "showlegend": true,
         "texttemplate": "%{value}",
         "type": "histogram",
         "x": [
          "LifestyleFashionClothing & Outfits"
         ],
         "xaxis": "x",
         "yaxis": "y"
        },
        {
         "alignmentgroup": "True",
         "bingroup": "x",
         "hovertemplate": "Followers=116.6M<br>Category=%{x}<br>count=%{y}<extra></extra>",
         "legendgroup": "116.6M",
         "marker": {
          "color": "#00cc96",
          "pattern": {
           "shape": ""
          }
         },
         "name": "116.6M",
         "offsetgroup": "116.6M",
         "orientation": "v",
         "showlegend": true,
         "texttemplate": "%{value}",
         "type": "histogram",
         "x": [
          "Music"
         ],
         "xaxis": "x",
         "yaxis": "y"
        },
        {
         "alignmentgroup": "True",
         "bingroup": "x",
         "hovertemplate": "Followers=65.6M<br>Category=%{x}<br>count=%{y}<extra></extra>",
         "legendgroup": "65.6M",
         "marker": {
          "color": "#ab63fa",
          "pattern": {
           "shape": ""
          }
         },
         "name": "65.6M",
         "offsetgroup": "65.6M",
         "orientation": "v",
         "showlegend": true,
         "texttemplate": "%{value}",
         "type": "histogram",
         "x": [
          "Beauty"
         ],
         "xaxis": "x",
         "yaxis": "y"
        },
        {
         "alignmentgroup": "True",
         "bingroup": "x",
         "hovertemplate": "Followers=178.2M<br>Category=%{x}<br>count=%{y}<extra></extra>",
         "legendgroup": "178.2M",
         "marker": {
          "color": "#FFA15A",
          "pattern": {
           "shape": ""
          }
         },
         "name": "178.2M",
         "offsetgroup": "178.2M",
         "orientation": "v",
         "showlegend": true,
         "texttemplate": "%{value}",
         "type": "histogram",
         "x": [
          "Music"
         ],
         "xaxis": "x",
         "yaxis": "y"
        },
        {
         "alignmentgroup": "True",
         "bingroup": "x",
         "hovertemplate": "Followers=29.2M<br>Category=%{x}<br>count=%{y}<extra></extra>",
         "legendgroup": "29.2M",
         "marker": {
          "color": "#19d3f3",
          "pattern": {
           "shape": ""
          }
         },
         "name": "29.2M",
         "offsetgroup": "29.2M",
         "orientation": "v",
         "showlegend": true,
         "texttemplate": "%{value}",
         "type": "histogram",
         "x": [
          "MusicLifestyle"
         ],
         "xaxis": "x",
         "yaxis": "y"
        },
        {
         "alignmentgroup": "True",
         "bingroup": "x",
         "hovertemplate": "Followers=45.8M<br>Category=%{x}<br>count=%{y}<extra></extra>",
         "legendgroup": "45.8M",
         "marker": {
          "color": "#FF6692",
          "pattern": {
           "shape": ""
          }
         },
         "name": "45.8M",
         "offsetgroup": "45.8M",
         "orientation": "v",
         "showlegend": true,
         "texttemplate": "%{value}",
         "type": "histogram",
         "x": [
          "Music",
          "Music",
          "Fitness & Gym"
         ],
         "xaxis": "x",
         "yaxis": "y"
        },
        {
         "alignmentgroup": "True",
         "bingroup": "x",
         "hovertemplate": "Followers=29.4M<br>Category=%{x}<br>count=%{y}<extra></extra>",
         "legendgroup": "29.4M",
         "marker": {
          "color": "#B6E880",
          "pattern": {
           "shape": ""
          }
         },
         "name": "29.4M",
         "offsetgroup": "29.4M",
         "orientation": "v",
         "showlegend": true,
         "texttemplate": "%{value}",
         "type": "histogram",
         "x": [
          "Cinema & Actors/actresses",
          null,
          "Music"
         ],
         "xaxis": "x",
         "yaxis": "y"
        },
        {
         "alignmentgroup": "True",
         "bingroup": "x",
         "hovertemplate": "Followers=27M<br>Category=%{x}<br>count=%{y}<extra></extra>",
         "legendgroup": "27M",
         "marker": {
          "color": "#FF97FF",
          "pattern": {
           "shape": ""
          }
         },
         "name": "27M",
         "offsetgroup": "27M",
         "orientation": "v",
         "showlegend": true,
         "texttemplate": "%{value}",
         "type": "histogram",
         "x": [
          "Art/Artists",
          "Sports with a ball",
          "Cinema & Actors/actresses"
         ],
         "xaxis": "x",
         "yaxis": "y"
        },
        {
         "alignmentgroup": "True",
         "bingroup": "x",
         "hovertemplate": "Followers=30.1M<br>Category=%{x}<br>count=%{y}<extra></extra>",
         "legendgroup": "30.1M",
         "marker": {
          "color": "#FECB52",
          "pattern": {
           "shape": ""
          }
         },
         "name": "30.1M",
         "offsetgroup": "30.1M",
         "orientation": "v",
         "showlegend": true,
         "texttemplate": "%{value}",
         "type": "histogram",
         "x": [
          "Cinema & Actors/actresses",
          "Music"
         ],
         "xaxis": "x",
         "yaxis": "y"
        },
        {
         "alignmentgroup": "True",
         "bingroup": "x",
         "hovertemplate": "Followers=69.4M<br>Category=%{x}<br>count=%{y}<extra></extra>",
         "legendgroup": "69.4M",
         "marker": {
          "color": "#636efa",
          "pattern": {
           "shape": ""
          }
         },
         "name": "69.4M",
         "offsetgroup": "69.4M",
         "orientation": "v",
         "showlegend": true,
         "texttemplate": "%{value}",
         "type": "histogram",
         "x": [
          "Music"
         ],
         "xaxis": "x",
         "yaxis": "y"
        },
        {
         "alignmentgroup": "True",
         "bingroup": "x",
         "hovertemplate": "Followers=72.4M<br>Category=%{x}<br>count=%{y}<extra></extra>",
         "legendgroup": "72.4M",
         "marker": {
          "color": "#EF553B",
          "pattern": {
           "shape": ""
          }
         },
         "name": "72.4M",
         "offsetgroup": "72.4M",
         "orientation": "v",
         "showlegend": true,
         "texttemplate": "%{value}",
         "type": "histogram",
         "x": [
          "Sports with a ball"
         ],
         "xaxis": "x",
         "yaxis": "y"
        },
        {
         "alignmentgroup": "True",
         "bingroup": "x",
         "hovertemplate": "Followers=26.6M<br>Category=%{x}<br>count=%{y}<extra></extra>",
         "legendgroup": "26.6M",
         "marker": {
          "color": "#00cc96",
          "pattern": {
           "shape": ""
          }
         },
         "name": "26.6M",
         "offsetgroup": "26.6M",
         "orientation": "v",
         "showlegend": true,
         "texttemplate": "%{value}",
         "type": "histogram",
         "x": [
          "Cinema & Actors/actressesMusic",
          "Beauty"
         ],
         "xaxis": "x",
         "yaxis": "y"
        },
        {
         "alignmentgroup": "True",
         "bingroup": "x",
         "hovertemplate": "Followers=67.2M<br>Category=%{x}<br>count=%{y}<extra></extra>",
         "legendgroup": "67.2M",
         "marker": {
          "color": "#ab63fa",
          "pattern": {
           "shape": ""
          }
         },
         "name": "67.2M",
         "offsetgroup": "67.2M",
         "orientation": "v",
         "showlegend": true,
         "texttemplate": "%{value}",
         "type": "histogram",
         "x": [
          "Cinema & Actors/actresses"
         ],
         "xaxis": "x",
         "yaxis": "y"
        },
        {
         "alignmentgroup": "True",
         "bingroup": "x",
         "hovertemplate": "Followers=27.1M<br>Category=%{x}<br>count=%{y}<extra></extra>",
         "legendgroup": "27.1M",
         "marker": {
          "color": "#FFA15A",
          "pattern": {
           "shape": ""
          }
         },
         "name": "27.1M",
         "offsetgroup": "27.1M",
         "orientation": "v",
         "showlegend": true,
         "texttemplate": "%{value}",
         "type": "histogram",
         "x": [
          "MusicCinema & Actors/actresses",
          "Cinema & Actors/actresses"
         ],
         "xaxis": "x",
         "yaxis": "y"
        },
        {
         "alignmentgroup": "True",
         "bingroup": "x",
         "hovertemplate": "Followers=59.3M<br>Category=%{x}<br>count=%{y}<extra></extra>",
         "legendgroup": "59.3M",
         "marker": {
          "color": "#19d3f3",
          "pattern": {
           "shape": ""
          }
         },
         "name": "59.3M",
         "offsetgroup": "59.3M",
         "orientation": "v",
         "showlegend": true,
         "texttemplate": "%{value}",
         "type": "histogram",
         "x": [
          "Cinema & Actors/actresses"
         ],
         "xaxis": "x",
         "yaxis": "y"
        },
        {
         "alignmentgroup": "True",
         "bingroup": "x",
         "hovertemplate": "Followers=85.1M<br>Category=%{x}<br>count=%{y}<extra></extra>",
         "legendgroup": "85.1M",
         "marker": {
          "color": "#FF6692",
          "pattern": {
           "shape": ""
          }
         },
         "name": "85.1M",
         "offsetgroup": "85.1M",
         "orientation": "v",
         "showlegend": true,
         "texttemplate": "%{value}",
         "type": "histogram",
         "x": [
          "Music"
         ],
         "xaxis": "x",
         "yaxis": "y"
        },
        {
         "alignmentgroup": "True",
         "bingroup": "x",
         "hovertemplate": "Followers=48.1M<br>Category=%{x}<br>count=%{y}<extra></extra>",
         "legendgroup": "48.1M",
         "marker": {
          "color": "#B6E880",
          "pattern": {
           "shape": ""
          }
         },
         "name": "48.1M",
         "offsetgroup": "48.1M",
         "orientation": "v",
         "showlegend": true,
         "texttemplate": "%{value}",
         "type": "histogram",
         "x": [
          "Cinema & Actors/actresses"
         ],
         "xaxis": "x",
         "yaxis": "y"
        },
        {
         "alignmentgroup": "True",
         "bingroup": "x",
         "hovertemplate": "Followers=64.4M<br>Category=%{x}<br>count=%{y}<extra></extra>",
         "legendgroup": "64.4M",
         "marker": {
          "color": "#FF97FF",
          "pattern": {
           "shape": ""
          }
         },
         "name": "64.4M",
         "offsetgroup": "64.4M",
         "orientation": "v",
         "showlegend": true,
         "texttemplate": "%{value}",
         "type": "histogram",
         "x": [
          "Music"
         ],
         "xaxis": "x",
         "yaxis": "y"
        },
        {
         "alignmentgroup": "True",
         "bingroup": "x",
         "hovertemplate": "Followers=24.7M<br>Category=%{x}<br>count=%{y}<extra></extra>",
         "legendgroup": "24.7M",
         "marker": {
          "color": "#FECB52",
          "pattern": {
           "shape": ""
          }
         },
         "name": "24.7M",
         "offsetgroup": "24.7M",
         "orientation": "v",
         "showlegend": true,
         "texttemplate": "%{value}",
         "type": "histogram",
         "x": [
          "Cinema & Actors/actresses",
          "ShowsHumor & Fun & Happiness",
          "PhotographyTravel"
         ],
         "xaxis": "x",
         "yaxis": "y"
        },
        {
         "alignmentgroup": "True",
         "bingroup": "x",
         "hovertemplate": "Followers=32.9M<br>Category=%{x}<br>count=%{y}<extra></extra>",
         "legendgroup": "32.9M",
         "marker": {
          "color": "#636efa",
          "pattern": {
           "shape": ""
          }
         },
         "name": "32.9M",
         "offsetgroup": "32.9M",
         "orientation": "v",
         "showlegend": true,
         "texttemplate": "%{value}",
         "type": "histogram",
         "x": [
          "Cinema & Actors/actresses",
          "MusicArt/Artists"
         ],
         "xaxis": "x",
         "yaxis": "y"
        },
        {
         "alignmentgroup": "True",
         "bingroup": "x",
         "hovertemplate": "Followers=48.9M<br>Category=%{x}<br>count=%{y}<extra></extra>",
         "legendgroup": "48.9M",
         "marker": {
          "color": "#EF553B",
          "pattern": {
           "shape": ""
          }
         },
         "name": "48.9M",
         "offsetgroup": "48.9M",
         "orientation": "v",
         "showlegend": true,
         "texttemplate": "%{value}",
         "type": "histogram",
         "x": [
          "LifestyleShows",
          "ShowsBeautyFamily"
         ],
         "xaxis": "x",
         "yaxis": "y"
        },
        {
         "alignmentgroup": "True",
         "bingroup": "x",
         "hovertemplate": "Followers=24.2M<br>Category=%{x}<br>count=%{y}<extra></extra>",
         "legendgroup": "24.2M",
         "marker": {
          "color": "#00cc96",
          "pattern": {
           "shape": ""
          }
         },
         "name": "24.2M",
         "offsetgroup": "24.2M",
         "orientation": "v",
         "showlegend": true,
         "texttemplate": "%{value}",
         "type": "histogram",
         "x": [
          "Music",
          "BeautyModelingCinema & Actors/actresses"
         ],
         "xaxis": "x",
         "yaxis": "y"
        },
        {
         "alignmentgroup": "True",
         "bingroup": "x",
         "hovertemplate": "Followers=55.1M<br>Category=%{x}<br>count=%{y}<extra></extra>",
         "legendgroup": "55.1M",
         "marker": {
          "color": "#ab63fa",
          "pattern": {
           "shape": ""
          }
         },
         "name": "55.1M",
         "offsetgroup": "55.1M",
         "orientation": "v",
         "showlegend": true,
         "texttemplate": "%{value}",
         "type": "histogram",
         "x": [
          "Cinema & Actors/actresses"
         ],
         "xaxis": "x",
         "yaxis": "y"
        },
        {
         "alignmentgroup": "True",
         "bingroup": "x",
         "hovertemplate": "Followers=35.2M<br>Category=%{x}<br>count=%{y}<extra></extra>",
         "legendgroup": "35.2M",
         "marker": {
          "color": "#FFA15A",
          "pattern": {
           "shape": ""
          }
         },
         "name": "35.2M",
         "offsetgroup": "35.2M",
         "orientation": "v",
         "showlegend": true,
         "texttemplate": "%{value}",
         "type": "histogram",
         "x": [
          "Clothing & OutfitsLifestyle"
         ],
         "xaxis": "x",
         "yaxis": "y"
        },
        {
         "alignmentgroup": "True",
         "bingroup": "x",
         "hovertemplate": "Followers=49M<br>Category=%{x}<br>count=%{y}<extra></extra>",
         "legendgroup": "49M",
         "marker": {
          "color": "#19d3f3",
          "pattern": {
           "shape": ""
          }
         },
         "name": "49M",
         "offsetgroup": "49M",
         "orientation": "v",
         "showlegend": true,
         "texttemplate": "%{value}",
         "type": "histogram",
         "x": [
          "Music"
         ],
         "xaxis": "x",
         "yaxis": "y"
        },
        {
         "alignmentgroup": "True",
         "bingroup": "x",
         "hovertemplate": "Followers=54.6M<br>Category=%{x}<br>count=%{y}<extra></extra>",
         "legendgroup": "54.6M",
         "marker": {
          "color": "#FF6692",
          "pattern": {
           "shape": ""
          }
         },
         "name": "54.6M",
         "offsetgroup": "54.6M",
         "orientation": "v",
         "showlegend": true,
         "texttemplate": "%{value}",
         "type": "histogram",
         "x": [
          "Sports with a ball"
         ],
         "xaxis": "x",
         "yaxis": "y"
        },
        {
         "alignmentgroup": "True",
         "bingroup": "x",
         "hovertemplate": "Followers=51.9M<br>Category=%{x}<br>count=%{y}<extra></extra>",
         "legendgroup": "51.9M",
         "marker": {
          "color": "#B6E880",
          "pattern": {
           "shape": ""
          }
         },
         "name": "51.9M",
         "offsetgroup": "51.9M",
         "orientation": "v",
         "showlegend": true,
         "texttemplate": "%{value}",
         "type": "histogram",
         "x": [
          "Sports with a ball"
         ],
         "xaxis": "x",
         "yaxis": "y"
        },
        {
         "alignmentgroup": "True",
         "bingroup": "x",
         "hovertemplate": "Followers=22.2M<br>Category=%{x}<br>count=%{y}<extra></extra>",
         "legendgroup": "22.2M",
         "marker": {
          "color": "#FF97FF",
          "pattern": {
           "shape": ""
          }
         },
         "name": "22.2M",
         "offsetgroup": "22.2M",
         "orientation": "v",
         "showlegend": true,
         "texttemplate": "%{value}",
         "type": "histogram",
         "x": [
          "Cinema & Actors/actressesModelingLifestyle",
          "Sports with a ball",
          "Sports with a ball"
         ],
         "xaxis": "x",
         "yaxis": "y"
        },
        {
         "alignmentgroup": "True",
         "bingroup": "x",
         "hovertemplate": "Followers=23M<br>Category=%{x}<br>count=%{y}<extra></extra>",
         "legendgroup": "23M",
         "marker": {
          "color": "#FECB52",
          "pattern": {
           "shape": ""
          }
         },
         "name": "23M",
         "offsetgroup": "23M",
         "orientation": "v",
         "showlegend": true,
         "texttemplate": "%{value}",
         "type": "histogram",
         "x": [
          "Cinema & Actors/actresses",
          "Cinema & Actors/actresses",
          "Sports with a ball",
          "Cinema & Actors/actressesLifestyle"
         ],
         "xaxis": "x",
         "yaxis": "y"
        },
        {
         "alignmentgroup": "True",
         "bingroup": "x",
         "hovertemplate": "Followers=28.5M<br>Category=%{x}<br>count=%{y}<extra></extra>",
         "legendgroup": "28.5M",
         "marker": {
          "color": "#636efa",
          "pattern": {
           "shape": ""
          }
         },
         "name": "28.5M",
         "offsetgroup": "28.5M",
         "orientation": "v",
         "showlegend": true,
         "texttemplate": "%{value}",
         "type": "histogram",
         "x": [
          "Cinema & Actors/actresses"
         ],
         "xaxis": "x",
         "yaxis": "y"
        },
        {
         "alignmentgroup": "True",
         "bingroup": "x",
         "hovertemplate": "Followers=30.2M<br>Category=%{x}<br>count=%{y}<extra></extra>",
         "legendgroup": "30.2M",
         "marker": {
          "color": "#EF553B",
          "pattern": {
           "shape": ""
          }
         },
         "name": "30.2M",
         "offsetgroup": "30.2M",
         "orientation": "v",
         "showlegend": true,
         "texttemplate": "%{value}",
         "type": "histogram",
         "x": [
          "Music"
         ],
         "xaxis": "x",
         "yaxis": "y"
        },
        {
         "alignmentgroup": "True",
         "bingroup": "x",
         "hovertemplate": "Followers=47.7M<br>Category=%{x}<br>count=%{y}<extra></extra>",
         "legendgroup": "47.7M",
         "marker": {
          "color": "#00cc96",
          "pattern": {
           "shape": ""
          }
         },
         "name": "47.7M",
         "offsetgroup": "47.7M",
         "orientation": "v",
         "showlegend": true,
         "texttemplate": "%{value}",
         "type": "histogram",
         "x": [
          "Sports with a ball",
          "Music"
         ],
         "xaxis": "x",
         "yaxis": "y"
        },
        {
         "alignmentgroup": "True",
         "bingroup": "x",
         "hovertemplate": "Followers=83.8M<br>Category=%{x}<br>count=%{y}<extra></extra>",
         "legendgroup": "83.8M",
         "marker": {
          "color": "#ab63fa",
          "pattern": {
           "shape": ""
          }
         },
         "name": "83.8M",
         "offsetgroup": "83.8M",
         "orientation": "v",
         "showlegend": true,
         "texttemplate": "%{value}",
         "type": "histogram",
         "x": [
          "Cinema & Actors/actresses"
         ],
         "xaxis": "x",
         "yaxis": "y"
        },
        {
         "alignmentgroup": "True",
         "bingroup": "x",
         "hovertemplate": "Followers=23.3M<br>Category=%{x}<br>count=%{y}<extra></extra>",
         "legendgroup": "23.3M",
         "marker": {
          "color": "#FFA15A",
          "pattern": {
           "shape": ""
          }
         },
         "name": "23.3M",
         "offsetgroup": "23.3M",
         "orientation": "v",
         "showlegend": true,
         "texttemplate": "%{value}",
         "type": "histogram",
         "x": [
          "Music",
          "Fitness & Gym"
         ],
         "xaxis": "x",
         "yaxis": "y"
        },
        {
         "alignmentgroup": "True",
         "bingroup": "x",
         "hovertemplate": "Followers=121.8M<br>Category=%{x}<br>count=%{y}<extra></extra>",
         "legendgroup": "121.8M",
         "marker": {
          "color": "#19d3f3",
          "pattern": {
           "shape": ""
          }
         },
         "name": "121.8M",
         "offsetgroup": "121.8M",
         "orientation": "v",
         "showlegend": true,
         "texttemplate": "%{value}",
         "type": "histogram",
         "x": [
          "Sports with a ball"
         ],
         "xaxis": "x",
         "yaxis": "y"
        },
        {
         "alignmentgroup": "True",
         "bingroup": "x",
         "hovertemplate": "Followers=21.6M<br>Category=%{x}<br>count=%{y}<extra></extra>",
         "legendgroup": "21.6M",
         "marker": {
          "color": "#FF6692",
          "pattern": {
           "shape": ""
          }
         },
         "name": "21.6M",
         "offsetgroup": "21.6M",
         "orientation": "v",
         "showlegend": true,
         "texttemplate": "%{value}",
         "type": "histogram",
         "x": [
          "ModelingLifestyleBeauty",
          "Cinema & Actors/actresses"
         ],
         "xaxis": "x",
         "yaxis": "y"
        },
        {
         "alignmentgroup": "True",
         "bingroup": "x",
         "hovertemplate": "Followers=29M<br>Category=%{x}<br>count=%{y}<extra></extra>",
         "legendgroup": "29M",
         "marker": {
          "color": "#B6E880",
          "pattern": {
           "shape": ""
          }
         },
         "name": "29M",
         "offsetgroup": "29M",
         "orientation": "v",
         "showlegend": true,
         "texttemplate": "%{value}",
         "type": "histogram",
         "x": [
          "Cinema & Actors/actresses",
          "Racing Sports"
         ],
         "xaxis": "x",
         "yaxis": "y"
        },
        {
         "alignmentgroup": "True",
         "bingroup": "x",
         "hovertemplate": "Followers=115.1M<br>Category=%{x}<br>count=%{y}<extra></extra>",
         "legendgroup": "115.1M",
         "marker": {
          "color": "#FF97FF",
          "pattern": {
           "shape": ""
          }
         },
         "name": "115.1M",
         "offsetgroup": "115.1M",
         "orientation": "v",
         "showlegend": true,
         "texttemplate": "%{value}",
         "type": "histogram",
         "x": [
          "Music"
         ],
         "xaxis": "x",
         "yaxis": "y"
        },
        {
         "alignmentgroup": "True",
         "bingroup": "x",
         "hovertemplate": "Followers=110M<br>Category=%{x}<br>count=%{y}<extra></extra>",
         "legendgroup": "110M",
         "marker": {
          "color": "#FECB52",
          "pattern": {
           "shape": ""
          }
         },
         "name": "110M",
         "offsetgroup": "110M",
         "orientation": "v",
         "showlegend": true,
         "texttemplate": "%{value}",
         "type": "histogram",
         "x": [
          "Sports with a ball"
         ],
         "xaxis": "x",
         "yaxis": "y"
        },
        {
         "alignmentgroup": "True",
         "bingroup": "x",
         "hovertemplate": "Followers=30M<br>Category=%{x}<br>count=%{y}<extra></extra>",
         "legendgroup": "30M",
         "marker": {
          "color": "#636efa",
          "pattern": {
           "shape": ""
          }
         },
         "name": "30M",
         "offsetgroup": "30M",
         "orientation": "v",
         "showlegend": true,
         "texttemplate": "%{value}",
         "type": "histogram",
         "x": [
          "Cinema & Actors/actresses"
         ],
         "xaxis": "x",
         "yaxis": "y"
        },
        {
         "alignmentgroup": "True",
         "bingroup": "x",
         "hovertemplate": "Followers=136.3M<br>Category=%{x}<br>count=%{y}<extra></extra>",
         "legendgroup": "136.3M",
         "marker": {
          "color": "#EF553B",
          "pattern": {
           "shape": ""
          }
         },
         "name": "136.3M",
         "offsetgroup": "136.3M",
         "orientation": "v",
         "showlegend": true,
         "texttemplate": "%{value}",
         "type": "histogram",
         "x": [
          "Music"
         ],
         "xaxis": "x",
         "yaxis": "y"
        },
        {
         "alignmentgroup": "True",
         "bingroup": "x",
         "hovertemplate": "Followers=32.3M<br>Category=%{x}<br>count=%{y}<extra></extra>",
         "legendgroup": "32.3M",
         "marker": {
          "color": "#00cc96",
          "pattern": {
           "shape": ""
          }
         },
         "name": "32.3M",
         "offsetgroup": "32.3M",
         "orientation": "v",
         "showlegend": true,
         "texttemplate": "%{value}",
         "type": "histogram",
         "x": [
          "BeautyArt/ArtistsCinema & Actors/actresses",
          "Humor & Fun & HappinessClothing & Outfits",
          "Cinema & Actors/actresses",
          "MusicModelingArt/Artists"
         ],
         "xaxis": "x",
         "yaxis": "y"
        },
        {
         "alignmentgroup": "True",
         "bingroup": "x",
         "hovertemplate": "Followers=52.1M<br>Category=%{x}<br>count=%{y}<extra></extra>",
         "legendgroup": "52.1M",
         "marker": {
          "color": "#ab63fa",
          "pattern": {
           "shape": ""
          }
         },
         "name": "52.1M",
         "offsetgroup": "52.1M",
         "orientation": "v",
         "showlegend": true,
         "texttemplate": "%{value}",
         "type": "histogram",
         "x": [
          "Cinema & Actors/actressesLifestyle"
         ],
         "xaxis": "x",
         "yaxis": "y"
        },
        {
         "alignmentgroup": "True",
         "bingroup": "x",
         "hovertemplate": "Followers=14.4M<br>Category=%{x}<br>count=%{y}<extra></extra>",
         "legendgroup": "14.4M",
         "marker": {
          "color": "#FFA15A",
          "pattern": {
           "shape": ""
          }
         },
         "name": "14.4M",
         "offsetgroup": "14.4M",
         "orientation": "v",
         "showlegend": true,
         "texttemplate": "%{value}",
         "type": "histogram",
         "x": [
          "LifestyleMusic",
          "Modeling",
          "Music",
          "Lifestyle",
          "Lifestyle",
          "Cinema & Actors/actresses"
         ],
         "xaxis": "x",
         "yaxis": "y"
        },
        {
         "alignmentgroup": "True",
         "bingroup": "x",
         "hovertemplate": "Followers=28.9M<br>Category=%{x}<br>count=%{y}<extra></extra>",
         "legendgroup": "28.9M",
         "marker": {
          "color": "#19d3f3",
          "pattern": {
           "shape": ""
          }
         },
         "name": "28.9M",
         "offsetgroup": "28.9M",
         "orientation": "v",
         "showlegend": true,
         "texttemplate": "%{value}",
         "type": "histogram",
         "x": [
          "Music"
         ],
         "xaxis": "x",
         "yaxis": "y"
        },
        {
         "alignmentgroup": "True",
         "bingroup": "x",
         "hovertemplate": "Followers=67.8M<br>Category=%{x}<br>count=%{y}<extra></extra>",
         "legendgroup": "67.8M",
         "marker": {
          "color": "#FF6692",
          "pattern": {
           "shape": ""
          }
         },
         "name": "67.8M",
         "offsetgroup": "67.8M",
         "orientation": "v",
         "showlegend": true,
         "texttemplate": "%{value}",
         "type": "histogram",
         "x": [
          "Cinema & Actors/actresses"
         ],
         "xaxis": "x",
         "yaxis": "y"
        },
        {
         "alignmentgroup": "True",
         "bingroup": "x",
         "hovertemplate": "Followers=34.5M<br>Category=%{x}<br>count=%{y}<extra></extra>",
         "legendgroup": "34.5M",
         "marker": {
          "color": "#B6E880",
          "pattern": {
           "shape": ""
          }
         },
         "name": "34.5M",
         "offsetgroup": "34.5M",
         "orientation": "v",
         "showlegend": true,
         "texttemplate": "%{value}",
         "type": "histogram",
         "x": [
          "Music"
         ],
         "xaxis": "x",
         "yaxis": "y"
        },
        {
         "alignmentgroup": "True",
         "bingroup": "x",
         "hovertemplate": "Followers=45.9M<br>Category=%{x}<br>count=%{y}<extra></extra>",
         "legendgroup": "45.9M",
         "marker": {
          "color": "#FF97FF",
          "pattern": {
           "shape": ""
          }
         },
         "name": "45.9M",
         "offsetgroup": "45.9M",
         "orientation": "v",
         "showlegend": true,
         "texttemplate": "%{value}",
         "type": "histogram",
         "x": [
          "LifestyleModeling"
         ],
         "xaxis": "x",
         "yaxis": "y"
        },
        {
         "alignmentgroup": "True",
         "bingroup": "x",
         "hovertemplate": "Followers=55.9M<br>Category=%{x}<br>count=%{y}<extra></extra>",
         "legendgroup": "55.9M",
         "marker": {
          "color": "#FECB52",
          "pattern": {
           "shape": ""
          }
         },
         "name": "55.9M",
         "offsetgroup": "55.9M",
         "orientation": "v",
         "showlegend": true,
         "texttemplate": "%{value}",
         "type": "histogram",
         "x": [
          "Sports with a ball"
         ],
         "xaxis": "x",
         "yaxis": "y"
        },
        {
         "alignmentgroup": "True",
         "bingroup": "x",
         "hovertemplate": "Followers=53.9M<br>Category=%{x}<br>count=%{y}<extra></extra>",
         "legendgroup": "53.9M",
         "marker": {
          "color": "#636efa",
          "pattern": {
           "shape": ""
          }
         },
         "name": "53.9M",
         "offsetgroup": "53.9M",
         "orientation": "v",
         "showlegend": true,
         "texttemplate": "%{value}",
         "type": "histogram",
         "x": [
          "Cinema & Actors/actresses"
         ],
         "xaxis": "x",
         "yaxis": "y"
        },
        {
         "alignmentgroup": "True",
         "bingroup": "x",
         "hovertemplate": "Followers=20M<br>Category=%{x}<br>count=%{y}<extra></extra>",
         "legendgroup": "20M",
         "marker": {
          "color": "#EF553B",
          "pattern": {
           "shape": ""
          }
         },
         "name": "20M",
         "offsetgroup": "20M",
         "orientation": "v",
         "showlegend": true,
         "texttemplate": "%{value}",
         "type": "histogram",
         "x": [
          "ModelingFamily",
          "ShowsHumor & Fun & Happiness",
          null
         ],
         "xaxis": "x",
         "yaxis": "y"
        },
        {
         "alignmentgroup": "True",
         "bingroup": "x",
         "hovertemplate": "Followers=21.9M<br>Category=%{x}<br>count=%{y}<extra></extra>",
         "legendgroup": "21.9M",
         "marker": {
          "color": "#00cc96",
          "pattern": {
           "shape": ""
          }
         },
         "name": "21.9M",
         "offsetgroup": "21.9M",
         "orientation": "v",
         "showlegend": true,
         "texttemplate": "%{value}",
         "type": "histogram",
         "x": [
          "Music",
          "Computers & Gadgets"
         ],
         "xaxis": "x",
         "yaxis": "y"
        },
        {
         "alignmentgroup": "True",
         "bingroup": "x",
         "hovertemplate": "Followers=9.6M<br>Category=%{x}<br>count=%{y}<extra></extra>",
         "legendgroup": "9.6M",
         "marker": {
          "color": "#ab63fa",
          "pattern": {
           "shape": ""
          }
         },
         "name": "9.6M",
         "offsetgroup": "9.6M",
         "orientation": "v",
         "showlegend": true,
         "texttemplate": "%{value}",
         "type": "histogram",
         "x": [
          null,
          "Cinema & Actors/actresses",
          "Cinema & Actors/actresses",
          "Sports with a ball",
          "Music",
          "Cinema & Actors/actresses",
          "Music",
          "Music",
          "Sports with a ball"
         ],
         "xaxis": "x",
         "yaxis": "y"
        },
        {
         "alignmentgroup": "True",
         "bingroup": "x",
         "hovertemplate": "Followers=17M<br>Category=%{x}<br>count=%{y}<extra></extra>",
         "legendgroup": "17M",
         "marker": {
          "color": "#FFA15A",
          "pattern": {
           "shape": ""
          }
         },
         "name": "17M",
         "offsetgroup": "17M",
         "orientation": "v",
         "showlegend": true,
         "texttemplate": "%{value}",
         "type": "histogram",
         "x": [
          null,
          "Computers & Gadgets",
          "MusicCinema & Actors/actressesFashion",
          "Art/Artists"
         ],
         "xaxis": "x",
         "yaxis": "y"
        },
        {
         "alignmentgroup": "True",
         "bingroup": "x",
         "hovertemplate": "Followers=26.1M<br>Category=%{x}<br>count=%{y}<extra></extra>",
         "legendgroup": "26.1M",
         "marker": {
          "color": "#19d3f3",
          "pattern": {
           "shape": ""
          }
         },
         "name": "26.1M",
         "offsetgroup": "26.1M",
         "orientation": "v",
         "showlegend": true,
         "texttemplate": "%{value}",
         "type": "histogram",
         "x": [
          "MusicModeling"
         ],
         "xaxis": "x",
         "yaxis": "y"
        },
        {
         "alignmentgroup": "True",
         "bingroup": "x",
         "hovertemplate": "Followers=80.2M<br>Category=%{x}<br>count=%{y}<extra></extra>",
         "legendgroup": "80.2M",
         "marker": {
          "color": "#FF6692",
          "pattern": {
           "shape": ""
          }
         },
         "name": "80.2M",
         "offsetgroup": "80.2M",
         "orientation": "v",
         "showlegend": true,
         "texttemplate": "%{value}",
         "type": "histogram",
         "x": [
          "Cinema & Actors/actresses"
         ],
         "xaxis": "x",
         "yaxis": "y"
        },
        {
         "alignmentgroup": "True",
         "bingroup": "x",
         "hovertemplate": "Followers=24.1M<br>Category=%{x}<br>count=%{y}<extra></extra>",
         "legendgroup": "24.1M",
         "marker": {
          "color": "#B6E880",
          "pattern": {
           "shape": ""
          }
         },
         "name": "24.1M",
         "offsetgroup": "24.1M",
         "orientation": "v",
         "showlegend": true,
         "texttemplate": "%{value}",
         "type": "histogram",
         "x": [
          "Cinema & Actors/actressesModeling"
         ],
         "xaxis": "x",
         "yaxis": "y"
        },
        {
         "alignmentgroup": "True",
         "bingroup": "x",
         "hovertemplate": "Followers=40.7M<br>Category=%{x}<br>count=%{y}<extra></extra>",
         "legendgroup": "40.7M",
         "marker": {
          "color": "#FF97FF",
          "pattern": {
           "shape": ""
          }
         },
         "name": "40.7M",
         "offsetgroup": "40.7M",
         "orientation": "v",
         "showlegend": true,
         "texttemplate": "%{value}",
         "type": "histogram",
         "x": [
          "Cinema & Actors/actresses",
          "Cinema & Actors/actresses"
         ],
         "xaxis": "x",
         "yaxis": "y"
        },
        {
         "alignmentgroup": "True",
         "bingroup": "x",
         "hovertemplate": "Followers=14.3M<br>Category=%{x}<br>count=%{y}<extra></extra>",
         "legendgroup": "14.3M",
         "marker": {
          "color": "#FECB52",
          "pattern": {
           "shape": ""
          }
         },
         "name": "14.3M",
         "offsetgroup": "14.3M",
         "orientation": "v",
         "showlegend": true,
         "texttemplate": "%{value}",
         "type": "histogram",
         "x": [
          "Cinema & Actors/actresses",
          "Business & Careers",
          null
         ],
         "xaxis": "x",
         "yaxis": "y"
        },
        {
         "alignmentgroup": "True",
         "bingroup": "x",
         "hovertemplate": "Followers=40.4M<br>Category=%{x}<br>count=%{y}<extra></extra>",
         "legendgroup": "40.4M",
         "marker": {
          "color": "#636efa",
          "pattern": {
           "shape": ""
          }
         },
         "name": "40.4M",
         "offsetgroup": "40.4M",
         "orientation": "v",
         "showlegend": true,
         "texttemplate": "%{value}",
         "type": "histogram",
         "x": [
          "Beauty"
         ],
         "xaxis": "x",
         "yaxis": "y"
        },
        {
         "alignmentgroup": "True",
         "bingroup": "x",
         "hovertemplate": "Followers=227.6M<br>Category=%{x}<br>count=%{y}<extra></extra>",
         "legendgroup": "227.6M",
         "marker": {
          "color": "#EF553B",
          "pattern": {
           "shape": ""
          }
         },
         "name": "227.6M",
         "offsetgroup": "227.6M",
         "orientation": "v",
         "showlegend": true,
         "texttemplate": "%{value}",
         "type": "histogram",
         "x": [
          "Fitness & GymShopping & RetailClothing & Outfits"
         ],
         "xaxis": "x",
         "yaxis": "y"
        },
        {
         "alignmentgroup": "True",
         "bingroup": "x",
         "hovertemplate": "Followers=24.6M<br>Category=%{x}<br>count=%{y}<extra></extra>",
         "legendgroup": "24.6M",
         "marker": {
          "color": "#00cc96",
          "pattern": {
           "shape": ""
          }
         },
         "name": "24.6M",
         "offsetgroup": "24.6M",
         "orientation": "v",
         "showlegend": true,
         "texttemplate": "%{value}",
         "type": "histogram",
         "x": [
          "MusicCinema & Actors/actresses",
          "Music",
          "Sports with a ball",
          "Music"
         ],
         "xaxis": "x",
         "yaxis": "y"
        },
        {
         "alignmentgroup": "True",
         "bingroup": "x",
         "hovertemplate": "Followers=25.4M<br>Category=%{x}<br>count=%{y}<extra></extra>",
         "legendgroup": "25.4M",
         "marker": {
          "color": "#ab63fa",
          "pattern": {
           "shape": ""
          }
         },
         "name": "25.4M",
         "offsetgroup": "25.4M",
         "orientation": "v",
         "showlegend": true,
         "texttemplate": "%{value}",
         "type": "histogram",
         "x": [
          "Cinema & Actors/actresses",
          "MusicArt/Artists"
         ],
         "xaxis": "x",
         "yaxis": "y"
        },
        {
         "alignmentgroup": "True",
         "bingroup": "x",
         "hovertemplate": "Followers=27.8M<br>Category=%{x}<br>count=%{y}<extra></extra>",
         "legendgroup": "27.8M",
         "marker": {
          "color": "#FFA15A",
          "pattern": {
           "shape": ""
          }
         },
         "name": "27.8M",
         "offsetgroup": "27.8M",
         "orientation": "v",
         "showlegend": true,
         "texttemplate": "%{value}",
         "type": "histogram",
         "x": [
          "Fitness & GymLifestyle",
          "Computers & GadgetsPhotography"
         ],
         "xaxis": "x",
         "yaxis": "y"
        },
        {
         "alignmentgroup": "True",
         "bingroup": "x",
         "hovertemplate": "Followers=43.3M<br>Category=%{x}<br>count=%{y}<extra></extra>",
         "legendgroup": "43.3M",
         "marker": {
          "color": "#19d3f3",
          "pattern": {
           "shape": ""
          }
         },
         "name": "43.3M",
         "offsetgroup": "43.3M",
         "orientation": "v",
         "showlegend": true,
         "texttemplate": "%{value}",
         "type": "histogram",
         "x": [
          "Cinema & Actors/actresses"
         ],
         "xaxis": "x",
         "yaxis": "y"
        },
        {
         "alignmentgroup": "True",
         "bingroup": "x",
         "hovertemplate": "Followers=167.2M<br>Category=%{x}<br>count=%{y}<extra></extra>",
         "legendgroup": "167.2M",
         "marker": {
          "color": "#FF6692",
          "pattern": {
           "shape": ""
          }
         },
         "name": "167.2M",
         "offsetgroup": "167.2M",
         "orientation": "v",
         "showlegend": true,
         "texttemplate": "%{value}",
         "type": "histogram",
         "x": [
          "Music"
         ],
         "xaxis": "x",
         "yaxis": "y"
        },
        {
         "alignmentgroup": "True",
         "bingroup": "x",
         "hovertemplate": "Followers=20.4M<br>Category=%{x}<br>count=%{y}<extra></extra>",
         "legendgroup": "20.4M",
         "marker": {
          "color": "#B6E880",
          "pattern": {
           "shape": ""
          }
         },
         "name": "20.4M",
         "offsetgroup": "20.4M",
         "orientation": "v",
         "showlegend": true,
         "texttemplate": "%{value}",
         "type": "histogram",
         "x": [
          "Cinema & Actors/actresses",
          "Shows",
          "ShowsCinema & Actors/actresses"
         ],
         "xaxis": "x",
         "yaxis": "y"
        },
        {
         "alignmentgroup": "True",
         "bingroup": "x",
         "hovertemplate": "Followers=81.7M<br>Category=%{x}<br>count=%{y}<extra></extra>",
         "legendgroup": "81.7M",
         "marker": {
          "color": "#FF97FF",
          "pattern": {
           "shape": ""
          }
         },
         "name": "81.7M",
         "offsetgroup": "81.7M",
         "orientation": "v",
         "showlegend": true,
         "texttemplate": "%{value}",
         "type": "histogram",
         "x": [
          "Cinema & Actors/actresses"
         ],
         "xaxis": "x",
         "yaxis": "y"
        },
        {
         "alignmentgroup": "True",
         "bingroup": "x",
         "hovertemplate": "Followers=42M<br>Category=%{x}<br>count=%{y}<extra></extra>",
         "legendgroup": "42M",
         "marker": {
          "color": "#FECB52",
          "pattern": {
           "shape": ""
          }
         },
         "name": "42M",
         "offsetgroup": "42M",
         "orientation": "v",
         "showlegend": true,
         "texttemplate": "%{value}",
         "type": "histogram",
         "x": [
          "Cinema & Actors/actressesShows"
         ],
         "xaxis": "x",
         "yaxis": "y"
        },
        {
         "alignmentgroup": "True",
         "bingroup": "x",
         "hovertemplate": "Followers=62.6M<br>Category=%{x}<br>count=%{y}<extra></extra>",
         "legendgroup": "62.6M",
         "marker": {
          "color": "#636efa",
          "pattern": {
           "shape": ""
          }
         },
         "name": "62.6M",
         "offsetgroup": "62.6M",
         "orientation": "v",
         "showlegend": true,
         "texttemplate": "%{value}",
         "type": "histogram",
         "x": [
          "Cinema & Actors/actresses"
         ],
         "xaxis": "x",
         "yaxis": "y"
        },
        {
         "alignmentgroup": "True",
         "bingroup": "x",
         "hovertemplate": "Followers=35.4M<br>Category=%{x}<br>count=%{y}<extra></extra>",
         "legendgroup": "35.4M",
         "marker": {
          "color": "#EF553B",
          "pattern": {
           "shape": ""
          }
         },
         "name": "35.4M",
         "offsetgroup": "35.4M",
         "orientation": "v",
         "showlegend": true,
         "texttemplate": "%{value}",
         "type": "histogram",
         "x": [
          "Music",
          "Cinema & Actors/actresses",
          "Finance & EconomicsBusiness & CareersFamily"
         ],
         "xaxis": "x",
         "yaxis": "y"
        },
        {
         "alignmentgroup": "True",
         "bingroup": "x",
         "hovertemplate": "Followers=12.1M<br>Category=%{x}<br>count=%{y}<extra></extra>",
         "legendgroup": "12.1M",
         "marker": {
          "color": "#00cc96",
          "pattern": {
           "shape": ""
          }
         },
         "name": "12.1M",
         "offsetgroup": "12.1M",
         "orientation": "v",
         "showlegend": true,
         "texttemplate": "%{value}",
         "type": "histogram",
         "x": [
          null,
          "Music",
          "LifestylePhotography"
         ],
         "xaxis": "x",
         "yaxis": "y"
        },
        {
         "alignmentgroup": "True",
         "bingroup": "x",
         "hovertemplate": "Followers=53.1M<br>Category=%{x}<br>count=%{y}<extra></extra>",
         "legendgroup": "53.1M",
         "marker": {
          "color": "#ab63fa",
          "pattern": {
           "shape": ""
          }
         },
         "name": "53.1M",
         "offsetgroup": "53.1M",
         "orientation": "v",
         "showlegend": true,
         "texttemplate": "%{value}",
         "type": "histogram",
         "x": [
          "MusicCinema & Actors/actresses",
          "BeautyCinema & Actors/actresses"
         ],
         "xaxis": "x",
         "yaxis": "y"
        },
        {
         "alignmentgroup": "True",
         "bingroup": "x",
         "hovertemplate": "Followers=49.7M<br>Category=%{x}<br>count=%{y}<extra></extra>",
         "legendgroup": "49.7M",
         "marker": {
          "color": "#FFA15A",
          "pattern": {
           "shape": ""
          }
         },
         "name": "49.7M",
         "offsetgroup": "49.7M",
         "orientation": "v",
         "showlegend": true,
         "texttemplate": "%{value}",
         "type": "histogram",
         "x": [
          "Modeling"
         ],
         "xaxis": "x",
         "yaxis": "y"
        },
        {
         "alignmentgroup": "True",
         "bingroup": "x",
         "hovertemplate": "Followers=23.4M<br>Category=%{x}<br>count=%{y}<extra></extra>",
         "legendgroup": "23.4M",
         "marker": {
          "color": "#19d3f3",
          "pattern": {
           "shape": ""
          }
         },
         "name": "23.4M",
         "offsetgroup": "23.4M",
         "orientation": "v",
         "showlegend": true,
         "texttemplate": "%{value}",
         "type": "histogram",
         "x": [
          "Lifestyle",
          "Cinema & Actors/actresses"
         ],
         "xaxis": "x",
         "yaxis": "y"
        },
        {
         "alignmentgroup": "True",
         "bingroup": "x",
         "hovertemplate": "Followers=19M<br>Category=%{x}<br>count=%{y}<extra></extra>",
         "legendgroup": "19M",
         "marker": {
          "color": "#FF6692",
          "pattern": {
           "shape": ""
          }
         },
         "name": "19M",
         "offsetgroup": "19M",
         "orientation": "v",
         "showlegend": true,
         "texttemplate": "%{value}",
         "type": "histogram",
         "x": [
          "ShowsHumor & Fun & Happiness",
          "MusicCinema & Actors/actressesModeling",
          "Fitness & Gym"
         ],
         "xaxis": "x",
         "yaxis": "y"
        },
        {
         "alignmentgroup": "True",
         "bingroup": "x",
         "hovertemplate": "Followers=20.9M<br>Category=%{x}<br>count=%{y}<extra></extra>",
         "legendgroup": "20.9M",
         "marker": {
          "color": "#B6E880",
          "pattern": {
           "shape": ""
          }
         },
         "name": "20.9M",
         "offsetgroup": "20.9M",
         "orientation": "v",
         "showlegend": true,
         "texttemplate": "%{value}",
         "type": "histogram",
         "x": [
          "Music",
          "Humor & Fun & Happiness",
          "Cinema & Actors/actresses"
         ],
         "xaxis": "x",
         "yaxis": "y"
        },
        {
         "alignmentgroup": "True",
         "bingroup": "x",
         "hovertemplate": "Followers=75.6M<br>Category=%{x}<br>count=%{y}<extra></extra>",
         "legendgroup": "75.6M",
         "marker": {
          "color": "#FF97FF",
          "pattern": {
           "shape": ""
          }
         },
         "name": "75.6M",
         "offsetgroup": "75.6M",
         "orientation": "v",
         "showlegend": true,
         "texttemplate": "%{value}",
         "type": "histogram",
         "x": [
          "Music"
         ],
         "xaxis": "x",
         "yaxis": "y"
        },
        {
         "alignmentgroup": "True",
         "bingroup": "x",
         "hovertemplate": "Followers=43.5M<br>Category=%{x}<br>count=%{y}<extra></extra>",
         "legendgroup": "43.5M",
         "marker": {
          "color": "#FECB52",
          "pattern": {
           "shape": ""
          }
         },
         "name": "43.5M",
         "offsetgroup": "43.5M",
         "orientation": "v",
         "showlegend": true,
         "texttemplate": "%{value}",
         "type": "histogram",
         "x": [
          "Cinema & Actors/actresses"
         ],
         "xaxis": "x",
         "yaxis": "y"
        },
        {
         "alignmentgroup": "True",
         "bingroup": "x",
         "hovertemplate": "Followers=12.6M<br>Category=%{x}<br>count=%{y}<extra></extra>",
         "legendgroup": "12.6M",
         "marker": {
          "color": "#636efa",
          "pattern": {
           "shape": ""
          }
         },
         "name": "12.6M",
         "offsetgroup": "12.6M",
         "orientation": "v",
         "showlegend": true,
         "texttemplate": "%{value}",
         "type": "histogram",
         "x": [
          "Cinema & Actors/actresses",
          "MusicCinema & Actors/actresses"
         ],
         "xaxis": "x",
         "yaxis": "y"
        },
        {
         "alignmentgroup": "True",
         "bingroup": "x",
         "hovertemplate": "Followers=73.4M<br>Category=%{x}<br>count=%{y}<extra></extra>",
         "legendgroup": "73.4M",
         "marker": {
          "color": "#EF553B",
          "pattern": {
           "shape": ""
          }
         },
         "name": "73.4M",
         "offsetgroup": "73.4M",
         "orientation": "v",
         "showlegend": true,
         "texttemplate": "%{value}",
         "type": "histogram",
         "x": [
          "Cinema & Actors/actresses"
         ],
         "xaxis": "x",
         "yaxis": "y"
        },
        {
         "alignmentgroup": "True",
         "bingroup": "x",
         "hovertemplate": "Followers=21.3M<br>Category=%{x}<br>count=%{y}<extra></extra>",
         "legendgroup": "21.3M",
         "marker": {
          "color": "#00cc96",
          "pattern": {
           "shape": ""
          }
         },
         "name": "21.3M",
         "offsetgroup": "21.3M",
         "orientation": "v",
         "showlegend": true,
         "texttemplate": "%{value}",
         "type": "histogram",
         "x": [
          "Sports with a ball",
          "Cinema & Actors/actresses",
          "Art/ArtistsCinema & Actors/actressesShows"
         ],
         "xaxis": "x",
         "yaxis": "y"
        },
        {
         "alignmentgroup": "True",
         "bingroup": "x",
         "hovertemplate": "Followers=29.5M<br>Category=%{x}<br>count=%{y}<extra></extra>",
         "legendgroup": "29.5M",
         "marker": {
          "color": "#ab63fa",
          "pattern": {
           "shape": ""
          }
         },
         "name": "29.5M",
         "offsetgroup": "29.5M",
         "orientation": "v",
         "showlegend": true,
         "texttemplate": "%{value}",
         "type": "histogram",
         "x": [
          "Modeling",
          "MusicLifestyle"
         ],
         "xaxis": "x",
         "yaxis": "y"
        },
        {
         "alignmentgroup": "True",
         "bingroup": "x",
         "hovertemplate": "Followers=16.8M<br>Category=%{x}<br>count=%{y}<extra></extra>",
         "legendgroup": "16.8M",
         "marker": {
          "color": "#FFA15A",
          "pattern": {
           "shape": ""
          }
         },
         "name": "16.8M",
         "offsetgroup": "16.8M",
         "orientation": "v",
         "showlegend": true,
         "texttemplate": "%{value}",
         "type": "histogram",
         "x": [
          "LifestyleModeling",
          "Humor & Fun & Happiness",
          "Humor & Fun & Happiness",
          "Cinema & Actors/actresses"
         ],
         "xaxis": "x",
         "yaxis": "y"
        },
        {
         "alignmentgroup": "True",
         "bingroup": "x",
         "hovertemplate": "Followers=41.6M<br>Category=%{x}<br>count=%{y}<extra></extra>",
         "legendgroup": "41.6M",
         "marker": {
          "color": "#19d3f3",
          "pattern": {
           "shape": ""
          }
         },
         "name": "41.6M",
         "offsetgroup": "41.6M",
         "orientation": "v",
         "showlegend": true,
         "texttemplate": "%{value}",
         "type": "histogram",
         "x": [
          "Music"
         ],
         "xaxis": "x",
         "yaxis": "y"
        },
        {
         "alignmentgroup": "True",
         "bingroup": "x",
         "hovertemplate": "Followers=62.7M<br>Category=%{x}<br>count=%{y}<extra></extra>",
         "legendgroup": "62.7M",
         "marker": {
          "color": "#FF6692",
          "pattern": {
           "shape": ""
          }
         },
         "name": "62.7M",
         "offsetgroup": "62.7M",
         "orientation": "v",
         "showlegend": true,
         "texttemplate": "%{value}",
         "type": "histogram",
         "x": [
          "Music"
         ],
         "xaxis": "x",
         "yaxis": "y"
        },
        {
         "alignmentgroup": "True",
         "bingroup": "x",
         "hovertemplate": "Followers=53M<br>Category=%{x}<br>count=%{y}<extra></extra>",
         "legendgroup": "53M",
         "marker": {
          "color": "#B6E880",
          "pattern": {
           "shape": ""
          }
         },
         "name": "53M",
         "offsetgroup": "53M",
         "orientation": "v",
         "showlegend": true,
         "texttemplate": "%{value}",
         "type": "histogram",
         "x": [
          "Cinema & Actors/actressesArt/Artists",
          "Cinema & Actors/actresses"
         ],
         "xaxis": "x",
         "yaxis": "y"
        },
        {
         "alignmentgroup": "True",
         "bingroup": "x",
         "hovertemplate": "Followers=232.2M<br>Category=%{x}<br>count=%{y}<extra></extra>",
         "legendgroup": "232.2M",
         "marker": {
          "color": "#FF97FF",
          "pattern": {
           "shape": ""
          }
         },
         "name": "232.2M",
         "offsetgroup": "232.2M",
         "orientation": "v",
         "showlegend": true,
         "texttemplate": "%{value}",
         "type": "histogram",
         "x": [
          "Nature & landscapesSciencePhotography"
         ],
         "xaxis": "x",
         "yaxis": "y"
        },
        {
         "alignmentgroup": "True",
         "bingroup": "x",
         "hovertemplate": "Followers=31.8M<br>Category=%{x}<br>count=%{y}<extra></extra>",
         "legendgroup": "31.8M",
         "marker": {
          "color": "#FECB52",
          "pattern": {
           "shape": ""
          }
         },
         "name": "31.8M",
         "offsetgroup": "31.8M",
         "orientation": "v",
         "showlegend": true,
         "texttemplate": "%{value}",
         "type": "histogram",
         "x": [
          "Music",
          "Humor & Fun & Happiness",
          "ShowsCinema & Actors/actresses"
         ],
         "xaxis": "x",
         "yaxis": "y"
        },
        {
         "alignmentgroup": "True",
         "bingroup": "x",
         "hovertemplate": "Followers=62.2M<br>Category=%{x}<br>count=%{y}<extra></extra>",
         "legendgroup": "62.2M",
         "marker": {
          "color": "#636efa",
          "pattern": {
           "shape": ""
          }
         },
         "name": "62.2M",
         "offsetgroup": "62.2M",
         "orientation": "v",
         "showlegend": true,
         "texttemplate": "%{value}",
         "type": "histogram",
         "x": [
          "Cinema & Actors/actresses"
         ],
         "xaxis": "x",
         "yaxis": "y"
        },
        {
         "alignmentgroup": "True",
         "bingroup": "x",
         "hovertemplate": "Followers=47.8M<br>Category=%{x}<br>count=%{y}<extra></extra>",
         "legendgroup": "47.8M",
         "marker": {
          "color": "#EF553B",
          "pattern": {
           "shape": ""
          }
         },
         "name": "47.8M",
         "offsetgroup": "47.8M",
         "orientation": "v",
         "showlegend": true,
         "texttemplate": "%{value}",
         "type": "histogram",
         "x": [
          "Sports with a ball"
         ],
         "xaxis": "x",
         "yaxis": "y"
        },
        {
         "alignmentgroup": "True",
         "bingroup": "x",
         "hovertemplate": "Followers=41.2M<br>Category=%{x}<br>count=%{y}<extra></extra>",
         "legendgroup": "41.2M",
         "marker": {
          "color": "#00cc96",
          "pattern": {
           "shape": ""
          }
         },
         "name": "41.2M",
         "offsetgroup": "41.2M",
         "orientation": "v",
         "showlegend": true,
         "texttemplate": "%{value}",
         "type": "histogram",
         "x": [
          "Cinema & Actors/actressesMusicShows"
         ],
         "xaxis": "x",
         "yaxis": "y"
        },
        {
         "alignmentgroup": "True",
         "bingroup": "x",
         "hovertemplate": "Followers=27.4M<br>Category=%{x}<br>count=%{y}<extra></extra>",
         "legendgroup": "27.4M",
         "marker": {
          "color": "#ab63fa",
          "pattern": {
           "shape": ""
          }
         },
         "name": "27.4M",
         "offsetgroup": "27.4M",
         "orientation": "v",
         "showlegend": true,
         "texttemplate": "%{value}",
         "type": "histogram",
         "x": [
          "Music",
          "Music",
          "Music"
         ],
         "xaxis": "x",
         "yaxis": "y"
        },
        {
         "alignmentgroup": "True",
         "bingroup": "x",
         "hovertemplate": "Followers=57.2M<br>Category=%{x}<br>count=%{y}<extra></extra>",
         "legendgroup": "57.2M",
         "marker": {
          "color": "#FFA15A",
          "pattern": {
           "shape": ""
          }
         },
         "name": "57.2M",
         "offsetgroup": "57.2M",
         "orientation": "v",
         "showlegend": true,
         "texttemplate": "%{value}",
         "type": "histogram",
         "x": [
          "Sports with a ball"
         ],
         "xaxis": "x",
         "yaxis": "y"
        },
        {
         "alignmentgroup": "True",
         "bingroup": "x",
         "hovertemplate": "Followers=23.6M<br>Category=%{x}<br>count=%{y}<extra></extra>",
         "legendgroup": "23.6M",
         "marker": {
          "color": "#19d3f3",
          "pattern": {
           "shape": ""
          }
         },
         "name": "23.6M",
         "offsetgroup": "23.6M",
         "orientation": "v",
         "showlegend": true,
         "texttemplate": "%{value}",
         "type": "histogram",
         "x": [
          "ShowsLifestyle"
         ],
         "xaxis": "x",
         "yaxis": "y"
        },
        {
         "alignmentgroup": "True",
         "bingroup": "x",
         "hovertemplate": "Followers=30.7M<br>Category=%{x}<br>count=%{y}<extra></extra>",
         "legendgroup": "30.7M",
         "marker": {
          "color": "#FF6692",
          "pattern": {
           "shape": ""
          }
         },
         "name": "30.7M",
         "offsetgroup": "30.7M",
         "orientation": "v",
         "showlegend": true,
         "texttemplate": "%{value}",
         "type": "histogram",
         "x": [
          "Cinema & Actors/actresses",
          "Cinema & Actors/actresses"
         ],
         "xaxis": "x",
         "yaxis": "y"
        },
        {
         "alignmentgroup": "True",
         "bingroup": "x",
         "hovertemplate": "Followers=16M<br>Category=%{x}<br>count=%{y}<extra></extra>",
         "legendgroup": "16M",
         "marker": {
          "color": "#B6E880",
          "pattern": {
           "shape": ""
          }
         },
         "name": "16M",
         "offsetgroup": "16M",
         "orientation": "v",
         "showlegend": true,
         "texttemplate": "%{value}",
         "type": "histogram",
         "x": [
          "Cinema & Actors/actresses",
          "Music",
          "Lifestyle",
          "Cinema & Actors/actresses",
          "Cinema & Actors/actresses",
          "Music"
         ],
         "xaxis": "x",
         "yaxis": "y"
        },
        {
         "alignmentgroup": "True",
         "bingroup": "x",
         "hovertemplate": "Followers=29.1M<br>Category=%{x}<br>count=%{y}<extra></extra>",
         "legendgroup": "29.1M",
         "marker": {
          "color": "#FF97FF",
          "pattern": {
           "shape": ""
          }
         },
         "name": "29.1M",
         "offsetgroup": "29.1M",
         "orientation": "v",
         "showlegend": true,
         "texttemplate": "%{value}",
         "type": "histogram",
         "x": [
          "Music"
         ],
         "xaxis": "x",
         "yaxis": "y"
        },
        {
         "alignmentgroup": "True",
         "bingroup": "x",
         "hovertemplate": "Followers=40.3M<br>Category=%{x}<br>count=%{y}<extra></extra>",
         "legendgroup": "40.3M",
         "marker": {
          "color": "#FECB52",
          "pattern": {
           "shape": ""
          }
         },
         "name": "40.3M",
         "offsetgroup": "40.3M",
         "orientation": "v",
         "showlegend": true,
         "texttemplate": "%{value}",
         "type": "histogram",
         "x": [
          "Music"
         ],
         "xaxis": "x",
         "yaxis": "y"
        },
        {
         "alignmentgroup": "True",
         "bingroup": "x",
         "hovertemplate": "Followers=35.3M<br>Category=%{x}<br>count=%{y}<extra></extra>",
         "legendgroup": "35.3M",
         "marker": {
          "color": "#636efa",
          "pattern": {
           "shape": ""
          }
         },
         "name": "35.3M",
         "offsetgroup": "35.3M",
         "orientation": "v",
         "showlegend": true,
         "texttemplate": "%{value}",
         "type": "histogram",
         "x": [
          "Cinema & Actors/actresses"
         ],
         "xaxis": "x",
         "yaxis": "y"
        },
        {
         "alignmentgroup": "True",
         "bingroup": "x",
         "hovertemplate": "Followers=24.4M<br>Category=%{x}<br>count=%{y}<extra></extra>",
         "legendgroup": "24.4M",
         "marker": {
          "color": "#EF553B",
          "pattern": {
           "shape": ""
          }
         },
         "name": "24.4M",
         "offsetgroup": "24.4M",
         "orientation": "v",
         "showlegend": true,
         "texttemplate": "%{value}",
         "type": "histogram",
         "x": [
          "Cinema & Actors/actresses",
          "Sports with a ballLifestyle",
          "Music",
          "Music"
         ],
         "xaxis": "x",
         "yaxis": "y"
        },
        {
         "alignmentgroup": "True",
         "bingroup": "x",
         "hovertemplate": "Followers=13.6M<br>Category=%{x}<br>count=%{y}<extra></extra>",
         "legendgroup": "13.6M",
         "marker": {
          "color": "#00cc96",
          "pattern": {
           "shape": ""
          }
         },
         "name": "13.6M",
         "offsetgroup": "13.6M",
         "orientation": "v",
         "showlegend": true,
         "texttemplate": "%{value}",
         "type": "histogram",
         "x": [
          "LifestyleCinema & Actors/actresses",
          "Music",
          "Lifestyle",
          "Business & Careers",
          "Lifestyle",
          "Sports with a ball"
         ],
         "xaxis": "x",
         "yaxis": "y"
        },
        {
         "alignmentgroup": "True",
         "bingroup": "x",
         "hovertemplate": "Followers=17.1M<br>Category=%{x}<br>count=%{y}<extra></extra>",
         "legendgroup": "17.1M",
         "marker": {
          "color": "#ab63fa",
          "pattern": {
           "shape": ""
          }
         },
         "name": "17.1M",
         "offsetgroup": "17.1M",
         "orientation": "v",
         "showlegend": true,
         "texttemplate": "%{value}",
         "type": "histogram",
         "x": [
          "LifestyleSports with a ball"
         ],
         "xaxis": "x",
         "yaxis": "y"
        },
        {
         "alignmentgroup": "True",
         "bingroup": "x",
         "hovertemplate": "Followers=20.7M<br>Category=%{x}<br>count=%{y}<extra></extra>",
         "legendgroup": "20.7M",
         "marker": {
          "color": "#FFA15A",
          "pattern": {
           "shape": ""
          }
         },
         "name": "20.7M",
         "offsetgroup": "20.7M",
         "orientation": "v",
         "showlegend": true,
         "texttemplate": "%{value}",
         "type": "histogram",
         "x": [
          "Cinema & Actors/actresses",
          "FamilyMusic",
          "ModelingFashion"
         ],
         "xaxis": "x",
         "yaxis": "y"
        },
        {
         "alignmentgroup": "True",
         "bingroup": "x",
         "hovertemplate": "Followers=44.1M<br>Category=%{x}<br>count=%{y}<extra></extra>",
         "legendgroup": "44.1M",
         "marker": {
          "color": "#19d3f3",
          "pattern": {
           "shape": ""
          }
         },
         "name": "44.1M",
         "offsetgroup": "44.1M",
         "orientation": "v",
         "showlegend": true,
         "texttemplate": "%{value}",
         "type": "histogram",
         "x": [
          "Sports with a ball"
         ],
         "xaxis": "x",
         "yaxis": "y"
        },
        {
         "alignmentgroup": "True",
         "bingroup": "x",
         "hovertemplate": "Followers=95.7M<br>Category=%{x}<br>count=%{y}<extra></extra>",
         "legendgroup": "95.7M",
         "marker": {
          "color": "#FF6692",
          "pattern": {
           "shape": ""
          }
         },
         "name": "95.7M",
         "offsetgroup": "95.7M",
         "orientation": "v",
         "showlegend": true,
         "texttemplate": "%{value}",
         "type": "histogram",
         "x": [
          "Sports with a ball"
         ],
         "xaxis": "x",
         "yaxis": "y"
        },
        {
         "alignmentgroup": "True",
         "bingroup": "x",
         "hovertemplate": "Followers=50.8M<br>Category=%{x}<br>count=%{y}<extra></extra>",
         "legendgroup": "50.8M",
         "marker": {
          "color": "#B6E880",
          "pattern": {
           "shape": ""
          }
         },
         "name": "50.8M",
         "offsetgroup": "50.8M",
         "orientation": "v",
         "showlegend": true,
         "texttemplate": "%{value}",
         "type": "histogram",
         "x": [
          "Sports with a ball"
         ],
         "xaxis": "x",
         "yaxis": "y"
        },
        {
         "alignmentgroup": "True",
         "bingroup": "x",
         "hovertemplate": "Followers=36.2M<br>Category=%{x}<br>count=%{y}<extra></extra>",
         "legendgroup": "36.2M",
         "marker": {
          "color": "#FF97FF",
          "pattern": {
           "shape": ""
          }
         },
         "name": "36.2M",
         "offsetgroup": "36.2M",
         "orientation": "v",
         "showlegend": true,
         "texttemplate": "%{value}",
         "type": "histogram",
         "x": [
          "Cinema & Actors/actressesMusic"
         ],
         "xaxis": "x",
         "yaxis": "y"
        },
        {
         "alignmentgroup": "True",
         "bingroup": "x",
         "hovertemplate": "Followers=14.1M<br>Category=%{x}<br>count=%{y}<extra></extra>",
         "legendgroup": "14.1M",
         "marker": {
          "color": "#FECB52",
          "pattern": {
           "shape": ""
          }
         },
         "name": "14.1M",
         "offsetgroup": "14.1M",
         "orientation": "v",
         "showlegend": true,
         "texttemplate": "%{value}",
         "type": "histogram",
         "x": [
          "Music",
          "Cinema & Actors/actresses",
          "Music",
          "LifestyleMusic",
          "MusicCinema & Actors/actresses",
          "Cinema & Actors/actresses",
          "Cars & MotorbikesLuxury",
          "Sports with a ball"
         ],
         "xaxis": "x",
         "yaxis": "y"
        },
        {
         "alignmentgroup": "True",
         "bingroup": "x",
         "hovertemplate": "Followers=10.8M<br>Category=%{x}<br>count=%{y}<extra></extra>",
         "legendgroup": "10.8M",
         "marker": {
          "color": "#636efa",
          "pattern": {
           "shape": ""
          }
         },
         "name": "10.8M",
         "offsetgroup": "10.8M",
         "orientation": "v",
         "showlegend": true,
         "texttemplate": "%{value}",
         "type": "histogram",
         "x": [
          null,
          "MusicLifestyle"
         ],
         "xaxis": "x",
         "yaxis": "y"
        },
        {
         "alignmentgroup": "True",
         "bingroup": "x",
         "hovertemplate": "Followers=20.6M<br>Category=%{x}<br>count=%{y}<extra></extra>",
         "legendgroup": "20.6M",
         "marker": {
          "color": "#EF553B",
          "pattern": {
           "shape": ""
          }
         },
         "name": "20.6M",
         "offsetgroup": "20.6M",
         "orientation": "v",
         "showlegend": true,
         "texttemplate": "%{value}",
         "type": "histogram",
         "x": [
          "Cinema & Actors/actresses"
         ],
         "xaxis": "x",
         "yaxis": "y"
        },
        {
         "alignmentgroup": "True",
         "bingroup": "x",
         "hovertemplate": "Followers=49.8M<br>Category=%{x}<br>count=%{y}<extra></extra>",
         "legendgroup": "49.8M",
         "marker": {
          "color": "#00cc96",
          "pattern": {
           "shape": ""
          }
         },
         "name": "49.8M",
         "offsetgroup": "49.8M",
         "orientation": "v",
         "showlegend": true,
         "texttemplate": "%{value}",
         "type": "histogram",
         "x": [
          "Sports with a ball"
         ],
         "xaxis": "x",
         "yaxis": "y"
        },
        {
         "alignmentgroup": "True",
         "bingroup": "x",
         "hovertemplate": "Followers=9.8M<br>Category=%{x}<br>count=%{y}<extra></extra>",
         "legendgroup": "9.8M",
         "marker": {
          "color": "#ab63fa",
          "pattern": {
           "shape": ""
          }
         },
         "name": "9.8M",
         "offsetgroup": "9.8M",
         "orientation": "v",
         "showlegend": true,
         "texttemplate": "%{value}",
         "type": "histogram",
         "x": [
          null,
          "Music",
          "Music",
          "MusicModeling",
          "Lifestyle",
          "Shows",
          "Cinema & Actors/actressesModeling",
          "Shows",
          null
         ],
         "xaxis": "x",
         "yaxis": "y"
        },
        {
         "alignmentgroup": "True",
         "bingroup": "x",
         "hovertemplate": "Followers=21.2M<br>Category=%{x}<br>count=%{y}<extra></extra>",
         "legendgroup": "21.2M",
         "marker": {
          "color": "#FFA15A",
          "pattern": {
           "shape": ""
          }
         },
         "name": "21.2M",
         "offsetgroup": "21.2M",
         "orientation": "v",
         "showlegend": true,
         "texttemplate": "%{value}",
         "type": "histogram",
         "x": [
          "ShowsCinema & Actors/actresses",
          "PhotographyFashion",
          "Music"
         ],
         "xaxis": "x",
         "yaxis": "y"
        },
        {
         "alignmentgroup": "True",
         "bingroup": "x",
         "hovertemplate": "Followers=15.9M<br>Category=%{x}<br>count=%{y}<extra></extra>",
         "legendgroup": "15.9M",
         "marker": {
          "color": "#19d3f3",
          "pattern": {
           "shape": ""
          }
         },
         "name": "15.9M",
         "offsetgroup": "15.9M",
         "orientation": "v",
         "showlegend": true,
         "texttemplate": "%{value}",
         "type": "histogram",
         "x": [
          "LifestyleShows",
          "Computers & GadgetsMachinery & Technologies",
          "Sports with a ball",
          "Music"
         ],
         "xaxis": "x",
         "yaxis": "y"
        },
        {
         "alignmentgroup": "True",
         "bingroup": "x",
         "hovertemplate": "Followers=25.8M<br>Category=%{x}<br>count=%{y}<extra></extra>",
         "legendgroup": "25.8M",
         "marker": {
          "color": "#FF6692",
          "pattern": {
           "shape": ""
          }
         },
         "name": "25.8M",
         "offsetgroup": "25.8M",
         "orientation": "v",
         "showlegend": true,
         "texttemplate": "%{value}",
         "type": "histogram",
         "x": [
          "Lifestyle"
         ],
         "xaxis": "x",
         "yaxis": "y"
        },
        {
         "alignmentgroup": "True",
         "bingroup": "x",
         "hovertemplate": "Followers=18.9M<br>Category=%{x}<br>count=%{y}<extra></extra>",
         "legendgroup": "18.9M",
         "marker": {
          "color": "#B6E880",
          "pattern": {
           "shape": ""
          }
         },
         "name": "18.9M",
         "offsetgroup": "18.9M",
         "orientation": "v",
         "showlegend": true,
         "texttemplate": "%{value}",
         "type": "histogram",
         "x": [
          "Lifestyle",
          "BeautyLifestyle"
         ],
         "xaxis": "x",
         "yaxis": "y"
        },
        {
         "alignmentgroup": "True",
         "bingroup": "x",
         "hovertemplate": "Followers=24.5M<br>Category=%{x}<br>count=%{y}<extra></extra>",
         "legendgroup": "24.5M",
         "marker": {
          "color": "#FF97FF",
          "pattern": {
           "shape": ""
          }
         },
         "name": "24.5M",
         "offsetgroup": "24.5M",
         "orientation": "v",
         "showlegend": true,
         "texttemplate": "%{value}",
         "type": "histogram",
         "x": [
          "Sports with a ball",
          "Cinema & Actors/actresses"
         ],
         "xaxis": "x",
         "yaxis": "y"
        },
        {
         "alignmentgroup": "True",
         "bingroup": "x",
         "hovertemplate": "Followers=37M<br>Category=%{x}<br>count=%{y}<extra></extra>",
         "legendgroup": "37M",
         "marker": {
          "color": "#FECB52",
          "pattern": {
           "shape": ""
          }
         },
         "name": "37M",
         "offsetgroup": "37M",
         "orientation": "v",
         "showlegend": true,
         "texttemplate": "%{value}",
         "type": "histogram",
         "x": [
          "Food & Cooking",
          "Cinema & Actors/actresses"
         ],
         "xaxis": "x",
         "yaxis": "y"
        },
        {
         "alignmentgroup": "True",
         "bingroup": "x",
         "hovertemplate": "Followers=8.5M<br>Category=%{x}<br>count=%{y}<extra></extra>",
         "legendgroup": "8.5M",
         "marker": {
          "color": "#636efa",
          "pattern": {
           "shape": ""
          }
         },
         "name": "8.5M",
         "offsetgroup": "8.5M",
         "orientation": "v",
         "showlegend": true,
         "texttemplate": "%{value}",
         "type": "histogram",
         "x": [
          "Lifestyle",
          "ShowsHumor & Fun & Happiness",
          "Cinema & Actors/actresses",
          "Cinema & Actors/actresses",
          "Cinema & Actors/actressesMusic",
          "Cinema & Actors/actressesLifestyle",
          "Cinema & Actors/actressesMusic"
         ],
         "xaxis": "x",
         "yaxis": "y"
        },
        {
         "alignmentgroup": "True",
         "bingroup": "x",
         "hovertemplate": "Followers=44.5M<br>Category=%{x}<br>count=%{y}<extra></extra>",
         "legendgroup": "44.5M",
         "marker": {
          "color": "#EF553B",
          "pattern": {
           "shape": ""
          }
         },
         "name": "44.5M",
         "offsetgroup": "44.5M",
         "orientation": "v",
         "showlegend": true,
         "texttemplate": "%{value}",
         "type": "histogram",
         "x": [
          "Cinema & Actors/actresses"
         ],
         "xaxis": "x",
         "yaxis": "y"
        },
        {
         "alignmentgroup": "True",
         "bingroup": "x",
         "hovertemplate": "Followers=44.7M<br>Category=%{x}<br>count=%{y}<extra></extra>",
         "legendgroup": "44.7M",
         "marker": {
          "color": "#00cc96",
          "pattern": {
           "shape": ""
          }
         },
         "name": "44.7M",
         "offsetgroup": "44.7M",
         "orientation": "v",
         "showlegend": true,
         "texttemplate": "%{value}",
         "type": "histogram",
         "x": [
          "Sports with a ballFamily"
         ],
         "xaxis": "x",
         "yaxis": "y"
        },
        {
         "alignmentgroup": "True",
         "bingroup": "x",
         "hovertemplate": "Followers=20.5M<br>Category=%{x}<br>count=%{y}<extra></extra>",
         "legendgroup": "20.5M",
         "marker": {
          "color": "#ab63fa",
          "pattern": {
           "shape": ""
          }
         },
         "name": "20.5M",
         "offsetgroup": "20.5M",
         "orientation": "v",
         "showlegend": true,
         "texttemplate": "%{value}",
         "type": "histogram",
         "x": [
          "Cinema & Actors/actressesShows",
          "Humor & Fun & Happiness"
         ],
         "xaxis": "x",
         "yaxis": "y"
        },
        {
         "alignmentgroup": "True",
         "bingroup": "x",
         "hovertemplate": "Followers=65.5M<br>Category=%{x}<br>count=%{y}<extra></extra>",
         "legendgroup": "65.5M",
         "marker": {
          "color": "#FFA15A",
          "pattern": {
           "shape": ""
          }
         },
         "name": "65.5M",
         "offsetgroup": "65.5M",
         "orientation": "v",
         "showlegend": true,
         "texttemplate": "%{value}",
         "type": "histogram",
         "x": [
          "MusicArt/ArtistsCinema & Actors/actresses"
         ],
         "xaxis": "x",
         "yaxis": "y"
        },
        {
         "alignmentgroup": "True",
         "bingroup": "x",
         "hovertemplate": "Followers=13M<br>Category=%{x}<br>count=%{y}<extra></extra>",
         "legendgroup": "13M",
         "marker": {
          "color": "#19d3f3",
          "pattern": {
           "shape": ""
          }
         },
         "name": "13M",
         "offsetgroup": "13M",
         "orientation": "v",
         "showlegend": true,
         "texttemplate": "%{value}",
         "type": "histogram",
         "x": [
          "Music",
          "Music",
          null,
          "Shows"
         ],
         "xaxis": "x",
         "yaxis": "y"
        },
        {
         "alignmentgroup": "True",
         "bingroup": "x",
         "hovertemplate": "Followers=19.1M<br>Category=%{x}<br>count=%{y}<extra></extra>",
         "legendgroup": "19.1M",
         "marker": {
          "color": "#FF6692",
          "pattern": {
           "shape": ""
          }
         },
         "name": "19.1M",
         "offsetgroup": "19.1M",
         "orientation": "v",
         "showlegend": true,
         "texttemplate": "%{value}",
         "type": "histogram",
         "x": [
          "Cinema & Actors/actresses",
          "Sports with a ball",
          "Cinema & Actors/actressesLifestyle"
         ],
         "xaxis": "x",
         "yaxis": "y"
        },
        {
         "alignmentgroup": "True",
         "bingroup": "x",
         "hovertemplate": "Followers=24.3M<br>Category=%{x}<br>count=%{y}<extra></extra>",
         "legendgroup": "24.3M",
         "marker": {
          "color": "#B6E880",
          "pattern": {
           "shape": ""
          }
         },
         "name": "24.3M",
         "offsetgroup": "24.3M",
         "orientation": "v",
         "showlegend": true,
         "texttemplate": "%{value}",
         "type": "histogram",
         "x": [
          "Sports with a ball",
          "Cinema & Actors/actresses",
          "LifestyleModelingCinema & Actors/actresses",
          "LifestyleModelingCinema & Actors/actresses"
         ],
         "xaxis": "x",
         "yaxis": "y"
        },
        {
         "alignmentgroup": "True",
         "bingroup": "x",
         "hovertemplate": "Followers=10.7M<br>Category=%{x}<br>count=%{y}<extra></extra>",
         "legendgroup": "10.7M",
         "marker": {
          "color": "#FF97FF",
          "pattern": {
           "shape": ""
          }
         },
         "name": "10.7M",
         "offsetgroup": "10.7M",
         "orientation": "v",
         "showlegend": true,
         "texttemplate": "%{value}",
         "type": "histogram",
         "x": [
          "LifestyleModeling",
          "Cinema & Actors/actresses",
          "Lifestyle",
          "Sports with a ball",
          "LifestyleSports with a ball",
          "Lifestyle",
          "ModelingBeauty"
         ],
         "xaxis": "x",
         "yaxis": "y"
        },
        {
         "alignmentgroup": "True",
         "bingroup": "x",
         "hovertemplate": "Followers=10.3M<br>Category=%{x}<br>count=%{y}<extra></extra>",
         "legendgroup": "10.3M",
         "marker": {
          "color": "#FECB52",
          "pattern": {
           "shape": ""
          }
         },
         "name": "10.3M",
         "offsetgroup": "10.3M",
         "orientation": "v",
         "showlegend": true,
         "texttemplate": "%{value}",
         "type": "histogram",
         "x": [
          "Lifestyle",
          "Lifestyle",
          "Cinema & Actors/actressesLifestyle",
          "MusicCinema & Actors/actresses",
          "Shows",
          "Lifestyle"
         ],
         "xaxis": "x",
         "yaxis": "y"
        },
        {
         "alignmentgroup": "True",
         "bingroup": "x",
         "hovertemplate": "Followers=54.7M<br>Category=%{x}<br>count=%{y}<extra></extra>",
         "legendgroup": "54.7M",
         "marker": {
          "color": "#636efa",
          "pattern": {
           "shape": ""
          }
         },
         "name": "54.7M",
         "offsetgroup": "54.7M",
         "orientation": "v",
         "showlegend": true,
         "texttemplate": "%{value}",
         "type": "histogram",
         "x": [
          "Sports with a ball"
         ],
         "xaxis": "x",
         "yaxis": "y"
        },
        {
         "alignmentgroup": "True",
         "bingroup": "x",
         "hovertemplate": "Followers=52.3M<br>Category=%{x}<br>count=%{y}<extra></extra>",
         "legendgroup": "52.3M",
         "marker": {
          "color": "#EF553B",
          "pattern": {
           "shape": ""
          }
         },
         "name": "52.3M",
         "offsetgroup": "52.3M",
         "orientation": "v",
         "showlegend": true,
         "texttemplate": "%{value}",
         "type": "histogram",
         "x": [
          "Sports with a ball"
         ],
         "xaxis": "x",
         "yaxis": "y"
        },
        {
         "alignmentgroup": "True",
         "bingroup": "x",
         "hovertemplate": "Followers=35.9M<br>Category=%{x}<br>count=%{y}<extra></extra>",
         "legendgroup": "35.9M",
         "marker": {
          "color": "#00cc96",
          "pattern": {
           "shape": ""
          }
         },
         "name": "35.9M",
         "offsetgroup": "35.9M",
         "orientation": "v",
         "showlegend": true,
         "texttemplate": "%{value}",
         "type": "histogram",
         "x": [
          "MusicCinema & Actors/actresses"
         ],
         "xaxis": "x",
         "yaxis": "y"
        },
        {
         "alignmentgroup": "True",
         "bingroup": "x",
         "hovertemplate": "Followers=6.6M<br>Category=%{x}<br>count=%{y}<extra></extra>",
         "legendgroup": "6.6M",
         "marker": {
          "color": "#ab63fa",
          "pattern": {
           "shape": ""
          }
         },
         "name": "6.6M",
         "offsetgroup": "6.6M",
         "orientation": "v",
         "showlegend": true,
         "texttemplate": "%{value}",
         "type": "histogram",
         "x": [
          null,
          null,
          "Fashion",
          "LifestyleModeling"
         ],
         "xaxis": "x",
         "yaxis": "y"
        },
        {
         "alignmentgroup": "True",
         "bingroup": "x",
         "hovertemplate": "Followers=21.4M<br>Category=%{x}<br>count=%{y}<extra></extra>",
         "legendgroup": "21.4M",
         "marker": {
          "color": "#FFA15A",
          "pattern": {
           "shape": ""
          }
         },
         "name": "21.4M",
         "offsetgroup": "21.4M",
         "orientation": "v",
         "showlegend": true,
         "texttemplate": "%{value}",
         "type": "histogram",
         "x": [
          "ShowsHumor & Fun & Happiness",
          "Music"
         ],
         "xaxis": "x",
         "yaxis": "y"
        },
        {
         "alignmentgroup": "True",
         "bingroup": "x",
         "hovertemplate": "Followers=13.5M<br>Category=%{x}<br>count=%{y}<extra></extra>",
         "legendgroup": "13.5M",
         "marker": {
          "color": "#19d3f3",
          "pattern": {
           "shape": ""
          }
         },
         "name": "13.5M",
         "offsetgroup": "13.5M",
         "orientation": "v",
         "showlegend": true,
         "texttemplate": "%{value}",
         "type": "histogram",
         "x": [
          "Music",
          "Cinema & Actors/actresses",
          "Music",
          "Cinema & Actors/actresses",
          "Cinema & Actors/actressesModelingLifestyle",
          "Sports with a ball",
          "Cinema & Actors/actresses",
          "Machinery & TechnologiesComputers & Gadgets",
          "Sports with a ball"
         ],
         "xaxis": "x",
         "yaxis": "y"
        },
        {
         "alignmentgroup": "True",
         "bingroup": "x",
         "hovertemplate": "Followers=25.7M<br>Category=%{x}<br>count=%{y}<extra></extra>",
         "legendgroup": "25.7M",
         "marker": {
          "color": "#FF6692",
          "pattern": {
           "shape": ""
          }
         },
         "name": "25.7M",
         "offsetgroup": "25.7M",
         "orientation": "v",
         "showlegend": true,
         "texttemplate": "%{value}",
         "type": "histogram",
         "x": [
          "Cinema & Actors/actresses",
          "Music",
          "Lifestyle"
         ],
         "xaxis": "x",
         "yaxis": "y"
        },
        {
         "alignmentgroup": "True",
         "bingroup": "x",
         "hovertemplate": "Followers=14.6M<br>Category=%{x}<br>count=%{y}<extra></extra>",
         "legendgroup": "14.6M",
         "marker": {
          "color": "#B6E880",
          "pattern": {
           "shape": ""
          }
         },
         "name": "14.6M",
         "offsetgroup": "14.6M",
         "orientation": "v",
         "showlegend": true,
         "texttemplate": "%{value}",
         "type": "histogram",
         "x": [
          "Cinema & Actors/actresses",
          "Cinema & Actors/actresses",
          "Cinema & Actors/actresses",
          "Cinema & Actors/actresses",
          "Lifestyle",
          "MusicFashion"
         ],
         "xaxis": "x",
         "yaxis": "y"
        },
        {
         "alignmentgroup": "True",
         "bingroup": "x",
         "hovertemplate": "Followers=14M<br>Category=%{x}<br>count=%{y}<extra></extra>",
         "legendgroup": "14M",
         "marker": {
          "color": "#FF97FF",
          "pattern": {
           "shape": ""
          }
         },
         "name": "14M",
         "offsetgroup": "14M",
         "orientation": "v",
         "showlegend": true,
         "texttemplate": "%{value}",
         "type": "histogram",
         "x": [
          "Lifestyle",
          "MusicFamily"
         ],
         "xaxis": "x",
         "yaxis": "y"
        },
        {
         "alignmentgroup": "True",
         "bingroup": "x",
         "hovertemplate": "Followers=16.6M<br>Category=%{x}<br>count=%{y}<extra></extra>",
         "legendgroup": "16.6M",
         "marker": {
          "color": "#FECB52",
          "pattern": {
           "shape": ""
          }
         },
         "name": "16.6M",
         "offsetgroup": "16.6M",
         "orientation": "v",
         "showlegend": true,
         "texttemplate": "%{value}",
         "type": "histogram",
         "x": [
          "Music",
          "Lifestyle",
          "Music"
         ],
         "xaxis": "x",
         "yaxis": "y"
        },
        {
         "alignmentgroup": "True",
         "bingroup": "x",
         "hovertemplate": "Followers=28.8M<br>Category=%{x}<br>count=%{y}<extra></extra>",
         "legendgroup": "28.8M",
         "marker": {
          "color": "#636efa",
          "pattern": {
           "shape": ""
          }
         },
         "name": "28.8M",
         "offsetgroup": "28.8M",
         "orientation": "v",
         "showlegend": true,
         "texttemplate": "%{value}",
         "type": "histogram",
         "x": [
          "Music"
         ],
         "xaxis": "x",
         "yaxis": "y"
        },
        {
         "alignmentgroup": "True",
         "bingroup": "x",
         "hovertemplate": "Followers=6.9M<br>Category=%{x}<br>count=%{y}<extra></extra>",
         "legendgroup": "6.9M",
         "marker": {
          "color": "#EF553B",
          "pattern": {
           "shape": ""
          }
         },
         "name": "6.9M",
         "offsetgroup": "6.9M",
         "orientation": "v",
         "showlegend": true,
         "texttemplate": "%{value}",
         "type": "histogram",
         "x": [
          "Modeling",
          null,
          "Music",
          null,
          "Cinema & Actors/actresses",
          null,
          "EducationHumor & Fun & Happiness",
          "Music",
          "Music",
          "Shows",
          "Lifestyle",
          "Lifestyle",
          "ShowsModeling"
         ],
         "xaxis": "x",
         "yaxis": "y"
        },
        {
         "alignmentgroup": "True",
         "bingroup": "x",
         "hovertemplate": "Followers=33.1M<br>Category=%{x}<br>count=%{y}<extra></extra>",
         "legendgroup": "33.1M",
         "marker": {
          "color": "#00cc96",
          "pattern": {
           "shape": ""
          }
         },
         "name": "33.1M",
         "offsetgroup": "33.1M",
         "orientation": "v",
         "showlegend": true,
         "texttemplate": "%{value}",
         "type": "histogram",
         "x": [
          "Sports with a ball",
          "FashionModeling"
         ],
         "xaxis": "x",
         "yaxis": "y"
        },
        {
         "alignmentgroup": "True",
         "bingroup": "x",
         "hovertemplate": "Followers=21.7M<br>Category=%{x}<br>count=%{y}<extra></extra>",
         "legendgroup": "21.7M",
         "marker": {
          "color": "#ab63fa",
          "pattern": {
           "shape": ""
          }
         },
         "name": "21.7M",
         "offsetgroup": "21.7M",
         "orientation": "v",
         "showlegend": true,
         "texttemplate": "%{value}",
         "type": "histogram",
         "x": [
          "Sports with a ball",
          "Humor & Fun & Happiness"
         ],
         "xaxis": "x",
         "yaxis": "y"
        },
        {
         "alignmentgroup": "True",
         "bingroup": "x",
         "hovertemplate": "Followers=12.3M<br>Category=%{x}<br>count=%{y}<extra></extra>",
         "legendgroup": "12.3M",
         "marker": {
          "color": "#FFA15A",
          "pattern": {
           "shape": ""
          }
         },
         "name": "12.3M",
         "offsetgroup": "12.3M",
         "orientation": "v",
         "showlegend": true,
         "texttemplate": "%{value}",
         "type": "histogram",
         "x": [
          "Music",
          "Cinema & Actors/actresses",
          null,
          "Sports with a ball",
          "ModelingFashion",
          "Adult content"
         ],
         "xaxis": "x",
         "yaxis": "y"
        },
        {
         "alignmentgroup": "True",
         "bingroup": "x",
         "hovertemplate": "Followers=62.9M<br>Category=%{x}<br>count=%{y}<extra></extra>",
         "legendgroup": "62.9M",
         "marker": {
          "color": "#19d3f3",
          "pattern": {
           "shape": ""
          }
         },
         "name": "62.9M",
         "offsetgroup": "62.9M",
         "orientation": "v",
         "showlegend": true,
         "texttemplate": "%{value}",
         "type": "histogram",
         "x": [
          "Music"
         ],
         "xaxis": "x",
         "yaxis": "y"
        },
        {
         "alignmentgroup": "True",
         "bingroup": "x",
         "hovertemplate": "Followers=16.1M<br>Category=%{x}<br>count=%{y}<extra></extra>",
         "legendgroup": "16.1M",
         "marker": {
          "color": "#FF6692",
          "pattern": {
           "shape": ""
          }
         },
         "name": "16.1M",
         "offsetgroup": "16.1M",
         "orientation": "v",
         "showlegend": true,
         "texttemplate": "%{value}",
         "type": "histogram",
         "x": [
          "Music",
          "MusicCinema & Actors/actressesLifestyle"
         ],
         "xaxis": "x",
         "yaxis": "y"
        },
        {
         "alignmentgroup": "True",
         "bingroup": "x",
         "hovertemplate": "Followers=25.5M<br>Category=%{x}<br>count=%{y}<extra></extra>",
         "legendgroup": "25.5M",
         "marker": {
          "color": "#B6E880",
          "pattern": {
           "shape": ""
          }
         },
         "name": "25.5M",
         "offsetgroup": "25.5M",
         "orientation": "v",
         "showlegend": true,
         "texttemplate": "%{value}",
         "type": "histogram",
         "x": [
          "Cinema & Actors/actresses"
         ],
         "xaxis": "x",
         "yaxis": "y"
        },
        {
         "alignmentgroup": "True",
         "bingroup": "x",
         "hovertemplate": "Followers=18.5M<br>Category=%{x}<br>count=%{y}<extra></extra>",
         "legendgroup": "18.5M",
         "marker": {
          "color": "#FF97FF",
          "pattern": {
           "shape": ""
          }
         },
         "name": "18.5M",
         "offsetgroup": "18.5M",
         "orientation": "v",
         "showlegend": true,
         "texttemplate": "%{value}",
         "type": "histogram",
         "x": [
          "Music"
         ],
         "xaxis": "x",
         "yaxis": "y"
        },
        {
         "alignmentgroup": "True",
         "bingroup": "x",
         "hovertemplate": "Followers=70.4M<br>Category=%{x}<br>count=%{y}<extra></extra>",
         "legendgroup": "70.4M",
         "marker": {
          "color": "#FECB52",
          "pattern": {
           "shape": ""
          }
         },
         "name": "70.4M",
         "offsetgroup": "70.4M",
         "orientation": "v",
         "showlegend": true,
         "texttemplate": "%{value}",
         "type": "histogram",
         "x": [
          "Music"
         ],
         "xaxis": "x",
         "yaxis": "y"
        },
        {
         "alignmentgroup": "True",
         "bingroup": "x",
         "hovertemplate": "Followers=10.9M<br>Category=%{x}<br>count=%{y}<extra></extra>",
         "legendgroup": "10.9M",
         "marker": {
          "color": "#636efa",
          "pattern": {
           "shape": ""
          }
         },
         "name": "10.9M",
         "offsetgroup": "10.9M",
         "orientation": "v",
         "showlegend": true,
         "texttemplate": "%{value}",
         "type": "histogram",
         "x": [
          "Cinema & Actors/actresses",
          "Sports with a ball",
          "MusicCinema & Actors/actresses"
         ],
         "xaxis": "x",
         "yaxis": "y"
        },
        {
         "alignmentgroup": "True",
         "bingroup": "x",
         "hovertemplate": "Followers=74.5M<br>Category=%{x}<br>count=%{y}<extra></extra>",
         "legendgroup": "74.5M",
         "marker": {
          "color": "#EF553B",
          "pattern": {
           "shape": ""
          }
         },
         "name": "74.5M",
         "offsetgroup": "74.5M",
         "orientation": "v",
         "showlegend": true,
         "texttemplate": "%{value}",
         "type": "histogram",
         "x": [
          "FamilySports with a ball"
         ],
         "xaxis": "x",
         "yaxis": "y"
        },
        {
         "alignmentgroup": "True",
         "bingroup": "x",
         "hovertemplate": "Followers=17.7M<br>Category=%{x}<br>count=%{y}<extra></extra>",
         "legendgroup": "17.7M",
         "marker": {
          "color": "#00cc96",
          "pattern": {
           "shape": ""
          }
         },
         "name": "17.7M",
         "offsetgroup": "17.7M",
         "orientation": "v",
         "showlegend": true,
         "texttemplate": "%{value}",
         "type": "histogram",
         "x": [
          "LifestyleCinema & Actors/actresses",
          "Sports with a ball"
         ],
         "xaxis": "x",
         "yaxis": "y"
        },
        {
         "alignmentgroup": "True",
         "bingroup": "x",
         "hovertemplate": "Followers=19.8M<br>Category=%{x}<br>count=%{y}<extra></extra>",
         "legendgroup": "19.8M",
         "marker": {
          "color": "#ab63fa",
          "pattern": {
           "shape": ""
          }
         },
         "name": "19.8M",
         "offsetgroup": "19.8M",
         "orientation": "v",
         "showlegend": true,
         "texttemplate": "%{value}",
         "type": "histogram",
         "x": [
          "Music",
          "Lifestyle",
          "Racing Sports"
         ],
         "xaxis": "x",
         "yaxis": "y"
        },
        {
         "alignmentgroup": "True",
         "bingroup": "x",
         "hovertemplate": "Followers=9M<br>Category=%{x}<br>count=%{y}<extra></extra>",
         "legendgroup": "9M",
         "marker": {
          "color": "#FFA15A",
          "pattern": {
           "shape": ""
          }
         },
         "name": "9M",
         "offsetgroup": "9M",
         "orientation": "v",
         "showlegend": true,
         "texttemplate": "%{value}",
         "type": "histogram",
         "x": [
          "Lifestyle",
          "Sports with a ball",
          "Fitness & Gym",
          "Sports with a ball",
          "Sports with a ball",
          "Food & Cooking",
          "Lifestyle",
          null,
          "BeautyModelingAdult content",
          "Music",
          "Lifestyle"
         ],
         "xaxis": "x",
         "yaxis": "y"
        },
        {
         "alignmentgroup": "True",
         "bingroup": "x",
         "hovertemplate": "Followers=15.5M<br>Category=%{x}<br>count=%{y}<extra></extra>",
         "legendgroup": "15.5M",
         "marker": {
          "color": "#19d3f3",
          "pattern": {
           "shape": ""
          }
         },
         "name": "15.5M",
         "offsetgroup": "15.5M",
         "orientation": "v",
         "showlegend": true,
         "texttemplate": "%{value}",
         "type": "histogram",
         "x": [
          "Cinema & Actors/actresses",
          "Modeling",
          "Music"
         ],
         "xaxis": "x",
         "yaxis": "y"
        },
        {
         "alignmentgroup": "True",
         "bingroup": "x",
         "hovertemplate": "Followers=9.1M<br>Category=%{x}<br>count=%{y}<extra></extra>",
         "legendgroup": "9.1M",
         "marker": {
          "color": "#FF6692",
          "pattern": {
           "shape": ""
          }
         },
         "name": "9.1M",
         "offsetgroup": "9.1M",
         "orientation": "v",
         "showlegend": true,
         "texttemplate": "%{value}",
         "type": "histogram",
         "x": [
          null,
          "Sports with a ball",
          "Fitness & Gym",
          "Lifestyle"
         ],
         "xaxis": "x",
         "yaxis": "y"
        },
        {
         "alignmentgroup": "True",
         "bingroup": "x",
         "hovertemplate": "Followers=31.3M<br>Category=%{x}<br>count=%{y}<extra></extra>",
         "legendgroup": "31.3M",
         "marker": {
          "color": "#B6E880",
          "pattern": {
           "shape": ""
          }
         },
         "name": "31.3M",
         "offsetgroup": "31.3M",
         "orientation": "v",
         "showlegend": true,
         "texttemplate": "%{value}",
         "type": "histogram",
         "x": [
          "Lifestyle",
          "Sports with a ballShows"
         ],
         "xaxis": "x",
         "yaxis": "y"
        },
        {
         "alignmentgroup": "True",
         "bingroup": "x",
         "hovertemplate": "Followers=22.1M<br>Category=%{x}<br>count=%{y}<extra></extra>",
         "legendgroup": "22.1M",
         "marker": {
          "color": "#FF97FF",
          "pattern": {
           "shape": ""
          }
         },
         "name": "22.1M",
         "offsetgroup": "22.1M",
         "orientation": "v",
         "showlegend": true,
         "texttemplate": "%{value}",
         "type": "histogram",
         "x": [
          "Modeling",
          "Cinema & Actors/actressesModeling"
         ],
         "xaxis": "x",
         "yaxis": "y"
        },
        {
         "alignmentgroup": "True",
         "bingroup": "x",
         "hovertemplate": "Followers=23.1M<br>Category=%{x}<br>count=%{y}<extra></extra>",
         "legendgroup": "23.1M",
         "marker": {
          "color": "#FECB52",
          "pattern": {
           "shape": ""
          }
         },
         "name": "23.1M",
         "offsetgroup": "23.1M",
         "orientation": "v",
         "showlegend": true,
         "texttemplate": "%{value}",
         "type": "histogram",
         "x": [
          "Cinema & Actors/actresses"
         ],
         "xaxis": "x",
         "yaxis": "y"
        },
        {
         "alignmentgroup": "True",
         "bingroup": "x",
         "hovertemplate": "Followers=15.1M<br>Category=%{x}<br>count=%{y}<extra></extra>",
         "legendgroup": "15.1M",
         "marker": {
          "color": "#636efa",
          "pattern": {
           "shape": ""
          }
         },
         "name": "15.1M",
         "offsetgroup": "15.1M",
         "orientation": "v",
         "showlegend": true,
         "texttemplate": "%{value}",
         "type": "histogram",
         "x": [
          "Music",
          null,
          "FamilyLifestyleCinema & Actors/actresses"
         ],
         "xaxis": "x",
         "yaxis": "y"
        },
        {
         "alignmentgroup": "True",
         "bingroup": "x",
         "hovertemplate": "Followers=27.2M<br>Category=%{x}<br>count=%{y}<extra></extra>",
         "legendgroup": "27.2M",
         "marker": {
          "color": "#EF553B",
          "pattern": {
           "shape": ""
          }
         },
         "name": "27.2M",
         "offsetgroup": "27.2M",
         "orientation": "v",
         "showlegend": true,
         "texttemplate": "%{value}",
         "type": "histogram",
         "x": [
          "Music"
         ],
         "xaxis": "x",
         "yaxis": "y"
        },
        {
         "alignmentgroup": "True",
         "bingroup": "x",
         "hovertemplate": "Followers=10M<br>Category=%{x}<br>count=%{y}<extra></extra>",
         "legendgroup": "10M",
         "marker": {
          "color": "#00cc96",
          "pattern": {
           "shape": ""
          }
         },
         "name": "10M",
         "offsetgroup": "10M",
         "orientation": "v",
         "showlegend": true,
         "texttemplate": "%{value}",
         "type": "histogram",
         "x": [
          "LifestyleArt/Artists",
          "Management & MarketingMusic",
          "Music",
          "ModelingLifestyle",
          "Lifestyle"
         ],
         "xaxis": "x",
         "yaxis": "y"
        },
        {
         "alignmentgroup": "True",
         "bingroup": "x",
         "hovertemplate": "Followers=17.9M<br>Category=%{x}<br>count=%{y}<extra></extra>",
         "legendgroup": "17.9M",
         "marker": {
          "color": "#ab63fa",
          "pattern": {
           "shape": ""
          }
         },
         "name": "17.9M",
         "offsetgroup": "17.9M",
         "orientation": "v",
         "showlegend": true,
         "texttemplate": "%{value}",
         "type": "histogram",
         "x": [
          "Clothing & OutfitsMusic",
          "ModelingFashion",
          "Sports with a ball"
         ],
         "xaxis": "x",
         "yaxis": "y"
        },
        {
         "alignmentgroup": "True",
         "bingroup": "x",
         "hovertemplate": "Followers=38M<br>Category=%{x}<br>count=%{y}<extra></extra>",
         "legendgroup": "38M",
         "marker": {
          "color": "#FFA15A",
          "pattern": {
           "shape": ""
          }
         },
         "name": "38M",
         "offsetgroup": "38M",
         "orientation": "v",
         "showlegend": true,
         "texttemplate": "%{value}",
         "type": "histogram",
         "x": [
          "Cinema & Actors/actresses"
         ],
         "xaxis": "x",
         "yaxis": "y"
        },
        {
         "alignmentgroup": "True",
         "bingroup": "x",
         "hovertemplate": "Followers=23.5M<br>Category=%{x}<br>count=%{y}<extra></extra>",
         "legendgroup": "23.5M",
         "marker": {
          "color": "#19d3f3",
          "pattern": {
           "shape": ""
          }
         },
         "name": "23.5M",
         "offsetgroup": "23.5M",
         "orientation": "v",
         "showlegend": true,
         "texttemplate": "%{value}",
         "type": "histogram",
         "x": [
          "Sports with a ball",
          "Business & Careers",
          "Cinema & Actors/actresses"
         ],
         "xaxis": "x",
         "yaxis": "y"
        },
        {
         "alignmentgroup": "True",
         "bingroup": "x",
         "hovertemplate": "Followers=61.2M<br>Category=%{x}<br>count=%{y}<extra></extra>",
         "legendgroup": "61.2M",
         "marker": {
          "color": "#FF6692",
          "pattern": {
           "shape": ""
          }
         },
         "name": "61.2M",
         "offsetgroup": "61.2M",
         "orientation": "v",
         "showlegend": true,
         "texttemplate": "%{value}",
         "type": "histogram",
         "x": [
          "Sports with a ball",
          "Sports with a ball"
         ],
         "xaxis": "x",
         "yaxis": "y"
        },
        {
         "alignmentgroup": "True",
         "bingroup": "x",
         "hovertemplate": "Followers=27.9M<br>Category=%{x}<br>count=%{y}<extra></extra>",
         "legendgroup": "27.9M",
         "marker": {
          "color": "#B6E880",
          "pattern": {
           "shape": ""
          }
         },
         "name": "27.9M",
         "offsetgroup": "27.9M",
         "orientation": "v",
         "showlegend": true,
         "texttemplate": "%{value}",
         "type": "histogram",
         "x": [
          "ModelingCinema & Actors/actresses"
         ],
         "xaxis": "x",
         "yaxis": "y"
        },
        {
         "alignmentgroup": "True",
         "bingroup": "x",
         "hovertemplate": "Followers=17.4M<br>Category=%{x}<br>count=%{y}<extra></extra>",
         "legendgroup": "17.4M",
         "marker": {
          "color": "#FF97FF",
          "pattern": {
           "shape": ""
          }
         },
         "name": "17.4M",
         "offsetgroup": "17.4M",
         "orientation": "v",
         "showlegend": true,
         "texttemplate": "%{value}",
         "type": "histogram",
         "x": [
          "ShowsAdult content",
          "Sports with a ballLiterature & Journalism"
         ],
         "xaxis": "x",
         "yaxis": "y"
        },
        {
         "alignmentgroup": "True",
         "bingroup": "x",
         "hovertemplate": "Followers=13.8M<br>Category=%{x}<br>count=%{y}<extra></extra>",
         "legendgroup": "13.8M",
         "marker": {
          "color": "#FECB52",
          "pattern": {
           "shape": ""
          }
         },
         "name": "13.8M",
         "offsetgroup": "13.8M",
         "orientation": "v",
         "showlegend": true,
         "texttemplate": "%{value}",
         "type": "histogram",
         "x": [
          "Music",
          "Lifestyle",
          "MusicShows"
         ],
         "xaxis": "x",
         "yaxis": "y"
        },
        {
         "alignmentgroup": "True",
         "bingroup": "x",
         "hovertemplate": "Followers=9.4M<br>Category=%{x}<br>count=%{y}<extra></extra>",
         "legendgroup": "9.4M",
         "marker": {
          "color": "#636efa",
          "pattern": {
           "shape": ""
          }
         },
         "name": "9.4M",
         "offsetgroup": "9.4M",
         "orientation": "v",
         "showlegend": true,
         "texttemplate": "%{value}",
         "type": "histogram",
         "x": [
          "Lifestyle",
          "ShowsCinema & Actors/actresses",
          "FamilyLifestyle",
          "Sports with a ball",
          "FamilyCinema & Actors/actresses",
          "ShowsFamily",
          "Music",
          "Cinema & Actors/actressesModelingFashion",
          "Lifestyle"
         ],
         "xaxis": "x",
         "yaxis": "y"
        },
        {
         "alignmentgroup": "True",
         "bingroup": "x",
         "hovertemplate": "Followers=18.3M<br>Category=%{x}<br>count=%{y}<extra></extra>",
         "legendgroup": "18.3M",
         "marker": {
          "color": "#EF553B",
          "pattern": {
           "shape": ""
          }
         },
         "name": "18.3M",
         "offsetgroup": "18.3M",
         "orientation": "v",
         "showlegend": true,
         "texttemplate": "%{value}",
         "type": "histogram",
         "x": [
          "Music",
          "Literature & JournalismBusiness & CareersFinance & Economics",
          "Modeling"
         ],
         "xaxis": "x",
         "yaxis": "y"
        },
        {
         "alignmentgroup": "True",
         "bingroup": "x",
         "hovertemplate": "Followers=12.9M<br>Category=%{x}<br>count=%{y}<extra></extra>",
         "legendgroup": "12.9M",
         "marker": {
          "color": "#00cc96",
          "pattern": {
           "shape": ""
          }
         },
         "name": "12.9M",
         "offsetgroup": "12.9M",
         "orientation": "v",
         "showlegend": true,
         "texttemplate": "%{value}",
         "type": "histogram",
         "x": [
          "Sports with a ball",
          "Lifestyle",
          "Music",
          "Sports with a ballLifestyle"
         ],
         "xaxis": "x",
         "yaxis": "y"
        },
        {
         "alignmentgroup": "True",
         "bingroup": "x",
         "hovertemplate": "Followers=7.6M<br>Category=%{x}<br>count=%{y}<extra></extra>",
         "legendgroup": "7.6M",
         "marker": {
          "color": "#ab63fa",
          "pattern": {
           "shape": ""
          }
         },
         "name": "7.6M",
         "offsetgroup": "7.6M",
         "orientation": "v",
         "showlegend": true,
         "texttemplate": "%{value}",
         "type": "histogram",
         "x": [
          "Cinema & Actors/actressesModeling",
          "Cinema & Actors/actresses",
          "Lifestyle",
          "Lifestyle",
          "Music",
          "Sports with a ball",
          null,
          "Music"
         ],
         "xaxis": "x",
         "yaxis": "y"
        },
        {
         "alignmentgroup": "True",
         "bingroup": "x",
         "hovertemplate": "Followers=8.7M<br>Category=%{x}<br>count=%{y}<extra></extra>",
         "legendgroup": "8.7M",
         "marker": {
          "color": "#FFA15A",
          "pattern": {
           "shape": ""
          }
         },
         "name": "8.7M",
         "offsetgroup": "8.7M",
         "orientation": "v",
         "showlegend": true,
         "texttemplate": "%{value}",
         "type": "histogram",
         "x": [
          "LifestyleMusic",
          "Cinema & Actors/actresses",
          "Shows",
          "Lifestyle",
          "LifestyleModeling",
          "Sports with a ball",
          "LifestyleCinema & Actors/actressesModeling"
         ],
         "xaxis": "x",
         "yaxis": "y"
        },
        {
         "alignmentgroup": "True",
         "bingroup": "x",
         "hovertemplate": "Followers=15.2M<br>Category=%{x}<br>count=%{y}<extra></extra>",
         "legendgroup": "15.2M",
         "marker": {
          "color": "#19d3f3",
          "pattern": {
           "shape": ""
          }
         },
         "name": "15.2M",
         "offsetgroup": "15.2M",
         "orientation": "v",
         "showlegend": true,
         "texttemplate": "%{value}",
         "type": "histogram",
         "x": [
          "FamilyLifestyle",
          "Fashion",
          "Music"
         ],
         "xaxis": "x",
         "yaxis": "y"
        },
        {
         "alignmentgroup": "True",
         "bingroup": "x",
         "hovertemplate": "Followers=6.3M<br>Category=%{x}<br>count=%{y}<extra></extra>",
         "legendgroup": "6.3M",
         "marker": {
          "color": "#FF6692",
          "pattern": {
           "shape": ""
          }
         },
         "name": "6.3M",
         "offsetgroup": "6.3M",
         "orientation": "v",
         "showlegend": true,
         "texttemplate": "%{value}",
         "type": "histogram",
         "x": [
          null,
          "LifestyleMusicCinema & Actors/actresses",
          "LifestyleMusicCinema & Actors/actresses",
          "MusicCinema & Actors/actressesFashion",
          "Music",
          "Cinema & Actors/actressesMusic",
          "Lifestyle",
          "Sports with a ball",
          "LifestyleFamily"
         ],
         "xaxis": "x",
         "yaxis": "y"
        },
        {
         "alignmentgroup": "True",
         "bingroup": "x",
         "hovertemplate": "Followers=10.2M<br>Category=%{x}<br>count=%{y}<extra></extra>",
         "legendgroup": "10.2M",
         "marker": {
          "color": "#B6E880",
          "pattern": {
           "shape": ""
          }
         },
         "name": "10.2M",
         "offsetgroup": "10.2M",
         "orientation": "v",
         "showlegend": true,
         "texttemplate": "%{value}",
         "type": "histogram",
         "x": [
          null,
          "LifestyleModeling",
          "MusicCinema & Actors/actresses",
          "Cinema & Actors/actresses",
          null
         ],
         "xaxis": "x",
         "yaxis": "y"
        },
        {
         "alignmentgroup": "True",
         "bingroup": "x",
         "hovertemplate": "Followers=11.1M<br>Category=%{x}<br>count=%{y}<extra></extra>",
         "legendgroup": "11.1M",
         "marker": {
          "color": "#FF97FF",
          "pattern": {
           "shape": ""
          }
         },
         "name": "11.1M",
         "offsetgroup": "11.1M",
         "orientation": "v",
         "showlegend": true,
         "texttemplate": "%{value}",
         "type": "histogram",
         "x": [
          "Shows",
          "Lifestyle"
         ],
         "xaxis": "x",
         "yaxis": "y"
        },
        {
         "alignmentgroup": "True",
         "bingroup": "x",
         "hovertemplate": "Followers=5.6M<br>Category=%{x}<br>count=%{y}<extra></extra>",
         "legendgroup": "5.6M",
         "marker": {
          "color": "#FECB52",
          "pattern": {
           "shape": ""
          }
         },
         "name": "5.6M",
         "offsetgroup": "5.6M",
         "orientation": "v",
         "showlegend": true,
         "texttemplate": "%{value}",
         "type": "histogram",
         "x": [
          null,
          null,
          "Humor & Fun & HappinessShowsCinema & Actors/actresses",
          "LifestyleCinema & Actors/actresses",
          "Humor & Fun & HappinessShowsCinema & Actors/actresses"
         ],
         "xaxis": "x",
         "yaxis": "y"
        },
        {
         "alignmentgroup": "True",
         "bingroup": "x",
         "hovertemplate": "Followers=22.3M<br>Category=%{x}<br>count=%{y}<extra></extra>",
         "legendgroup": "22.3M",
         "marker": {
          "color": "#636efa",
          "pattern": {
           "shape": ""
          }
         },
         "name": "22.3M",
         "offsetgroup": "22.3M",
         "orientation": "v",
         "showlegend": true,
         "texttemplate": "%{value}",
         "type": "histogram",
         "x": [
          "MusicArt/ArtistsCinema & Actors/actresses"
         ],
         "xaxis": "x",
         "yaxis": "y"
        },
        {
         "alignmentgroup": "True",
         "bingroup": "x",
         "hovertemplate": "Followers=15M<br>Category=%{x}<br>count=%{y}<extra></extra>",
         "legendgroup": "15M",
         "marker": {
          "color": "#EF553B",
          "pattern": {
           "shape": ""
          }
         },
         "name": "15M",
         "offsetgroup": "15M",
         "orientation": "v",
         "showlegend": true,
         "texttemplate": "%{value}",
         "type": "histogram",
         "x": [
          "Music",
          "Cinema & Actors/actresses",
          "ScienceMachinery & Technologies",
          "Cinema & Actors/actressesModeling",
          "Sports with a ball"
         ],
         "xaxis": "x",
         "yaxis": "y"
        },
        {
         "alignmentgroup": "True",
         "bingroup": "x",
         "hovertemplate": "Followers=15.3M<br>Category=%{x}<br>count=%{y}<extra></extra>",
         "legendgroup": "15.3M",
         "marker": {
          "color": "#00cc96",
          "pattern": {
           "shape": ""
          }
         },
         "name": "15.3M",
         "offsetgroup": "15.3M",
         "orientation": "v",
         "showlegend": true,
         "texttemplate": "%{value}",
         "type": "histogram",
         "x": [
          "FamilySports with a ball",
          "Music",
          "Music",
          "Cinema & Actors/actresses",
          "Fitness & Gym"
         ],
         "xaxis": "x",
         "yaxis": "y"
        },
        {
         "alignmentgroup": "True",
         "bingroup": "x",
         "hovertemplate": "Followers=67.4M<br>Category=%{x}<br>count=%{y}<extra></extra>",
         "legendgroup": "67.4M",
         "marker": {
          "color": "#ab63fa",
          "pattern": {
           "shape": ""
          }
         },
         "name": "67.4M",
         "offsetgroup": "67.4M",
         "orientation": "v",
         "showlegend": true,
         "texttemplate": "%{value}",
         "type": "histogram",
         "x": [
          "Sports with a ball"
         ],
         "xaxis": "x",
         "yaxis": "y"
        },
        {
         "alignmentgroup": "True",
         "bingroup": "x",
         "hovertemplate": "Followers=9.3M<br>Category=%{x}<br>count=%{y}<extra></extra>",
         "legendgroup": "9.3M",
         "marker": {
          "color": "#FFA15A",
          "pattern": {
           "shape": ""
          }
         },
         "name": "9.3M",
         "offsetgroup": "9.3M",
         "orientation": "v",
         "showlegend": true,
         "texttemplate": "%{value}",
         "type": "histogram",
         "x": [
          "Lifestyle",
          "Cinema & Actors/actresses",
          "MusicArt/Artists"
         ],
         "xaxis": "x",
         "yaxis": "y"
        },
        {
         "alignmentgroup": "True",
         "bingroup": "x",
         "hovertemplate": "Followers=32.8M<br>Category=%{x}<br>count=%{y}<extra></extra>",
         "legendgroup": "32.8M",
         "marker": {
          "color": "#19d3f3",
          "pattern": {
           "shape": ""
          }
         },
         "name": "32.8M",
         "offsetgroup": "32.8M",
         "orientation": "v",
         "showlegend": true,
         "texttemplate": "%{value}",
         "type": "histogram",
         "x": [
          "Music",
          "Music"
         ],
         "xaxis": "x",
         "yaxis": "y"
        },
        {
         "alignmentgroup": "True",
         "bingroup": "x",
         "hovertemplate": "Followers=14.9M<br>Category=%{x}<br>count=%{y}<extra></extra>",
         "legendgroup": "14.9M",
         "marker": {
          "color": "#FF6692",
          "pattern": {
           "shape": ""
          }
         },
         "name": "14.9M",
         "offsetgroup": "14.9M",
         "orientation": "v",
         "showlegend": true,
         "texttemplate": "%{value}",
         "type": "histogram",
         "x": [
          "Cinema & Actors/actresses",
          "LifestyleCinema & Actors/actressesMusic",
          "Music",
          "Art/Artists"
         ],
         "xaxis": "x",
         "yaxis": "y"
        },
        {
         "alignmentgroup": "True",
         "bingroup": "x",
         "hovertemplate": "Followers=18.7M<br>Category=%{x}<br>count=%{y}<extra></extra>",
         "legendgroup": "18.7M",
         "marker": {
          "color": "#B6E880",
          "pattern": {
           "shape": ""
          }
         },
         "name": "18.7M",
         "offsetgroup": "18.7M",
         "orientation": "v",
         "showlegend": true,
         "texttemplate": "%{value}",
         "type": "histogram",
         "x": [
          "Music",
          "Adult content",
          "Sports with a ball",
          "Cinema & Actors/actresses"
         ],
         "xaxis": "x",
         "yaxis": "y"
        },
        {
         "alignmentgroup": "True",
         "bingroup": "x",
         "hovertemplate": "Followers=13.7M<br>Category=%{x}<br>count=%{y}<extra></extra>",
         "legendgroup": "13.7M",
         "marker": {
          "color": "#FF97FF",
          "pattern": {
           "shape": ""
          }
         },
         "name": "13.7M",
         "offsetgroup": "13.7M",
         "orientation": "v",
         "showlegend": true,
         "texttemplate": "%{value}",
         "type": "histogram",
         "x": [
          null,
          "MusicCinema & Actors/actresses",
          "Cinema & Actors/actresses",
          "Cinema & Actors/actresses"
         ],
         "xaxis": "x",
         "yaxis": "y"
        },
        {
         "alignmentgroup": "True",
         "bingroup": "x",
         "hovertemplate": "Followers=44M<br>Category=%{x}<br>count=%{y}<extra></extra>",
         "legendgroup": "44M",
         "marker": {
          "color": "#FECB52",
          "pattern": {
           "shape": ""
          }
         },
         "name": "44M",
         "offsetgroup": "44M",
         "orientation": "v",
         "showlegend": true,
         "texttemplate": "%{value}",
         "type": "histogram",
         "x": [
          "Music"
         ],
         "xaxis": "x",
         "yaxis": "y"
        },
        {
         "alignmentgroup": "True",
         "bingroup": "x",
         "hovertemplate": "Followers=27.3M<br>Category=%{x}<br>count=%{y}<extra></extra>",
         "legendgroup": "27.3M",
         "marker": {
          "color": "#636efa",
          "pattern": {
           "shape": ""
          }
         },
         "name": "27.3M",
         "offsetgroup": "27.3M",
         "orientation": "v",
         "showlegend": true,
         "texttemplate": "%{value}",
         "type": "histogram",
         "x": [
          "LifestyleArt/Artists",
          "LifestyleFamily"
         ],
         "xaxis": "x",
         "yaxis": "y"
        },
        {
         "alignmentgroup": "True",
         "bingroup": "x",
         "hovertemplate": "Followers=35.1M<br>Category=%{x}<br>count=%{y}<extra></extra>",
         "legendgroup": "35.1M",
         "marker": {
          "color": "#EF553B",
          "pattern": {
           "shape": ""
          }
         },
         "name": "35.1M",
         "offsetgroup": "35.1M",
         "orientation": "v",
         "showlegend": true,
         "texttemplate": "%{value}",
         "type": "histogram",
         "x": [
          "Sports with a ballLifestyle"
         ],
         "xaxis": "x",
         "yaxis": "y"
        },
        {
         "alignmentgroup": "True",
         "bingroup": "x",
         "hovertemplate": "Followers=14.2M<br>Category=%{x}<br>count=%{y}<extra></extra>",
         "legendgroup": "14.2M",
         "marker": {
          "color": "#00cc96",
          "pattern": {
           "shape": ""
          }
         },
         "name": "14.2M",
         "offsetgroup": "14.2M",
         "orientation": "v",
         "showlegend": true,
         "texttemplate": "%{value}",
         "type": "histogram",
         "x": [
          "Music",
          "Cinema & Actors/actressesLifestyle",
          "Music",
          "ModelingLifestyle",
          "MusicKids & Toys",
          "ShowsCinema & Actors/actresses",
          "Sports with a ball"
         ],
         "xaxis": "x",
         "yaxis": "y"
        },
        {
         "alignmentgroup": "True",
         "bingroup": "x",
         "hovertemplate": "Followers=43.2M<br>Category=%{x}<br>count=%{y}<extra></extra>",
         "legendgroup": "43.2M",
         "marker": {
          "color": "#ab63fa",
          "pattern": {
           "shape": ""
          }
         },
         "name": "43.2M",
         "offsetgroup": "43.2M",
         "orientation": "v",
         "showlegend": true,
         "texttemplate": "%{value}",
         "type": "histogram",
         "x": [
          "Cinema & Actors/actresses"
         ],
         "xaxis": "x",
         "yaxis": "y"
        },
        {
         "alignmentgroup": "True",
         "bingroup": "x",
         "hovertemplate": "Followers=13.1M<br>Category=%{x}<br>count=%{y}<extra></extra>",
         "legendgroup": "13.1M",
         "marker": {
          "color": "#FFA15A",
          "pattern": {
           "shape": ""
          }
         },
         "name": "13.1M",
         "offsetgroup": "13.1M",
         "orientation": "v",
         "showlegend": true,
         "texttemplate": "%{value}",
         "type": "histogram",
         "x": [
          "Music",
          "LifestyleSports with a ball",
          "Cinema & Actors/actresses",
          "Cinema & Actors/actresses"
         ],
         "xaxis": "x",
         "yaxis": "y"
        },
        {
         "alignmentgroup": "True",
         "bingroup": "x",
         "hovertemplate": "Followers=8M<br>Category=%{x}<br>count=%{y}<extra></extra>",
         "legendgroup": "8M",
         "marker": {
          "color": "#19d3f3",
          "pattern": {
           "shape": ""
          }
         },
         "name": "8M",
         "offsetgroup": "8M",
         "orientation": "v",
         "showlegend": true,
         "texttemplate": "%{value}",
         "type": "histogram",
         "x": [
          "Lifestyle",
          "Racing Sports",
          "LifestyleBeauty",
          "Art/Artists",
          "Cinema & Actors/actressesLifestyle",
          "Music"
         ],
         "xaxis": "x",
         "yaxis": "y"
        },
        {
         "alignmentgroup": "True",
         "bingroup": "x",
         "hovertemplate": "Followers=5.8M<br>Category=%{x}<br>count=%{y}<extra></extra>",
         "legendgroup": "5.8M",
         "marker": {
          "color": "#FF6692",
          "pattern": {
           "shape": ""
          }
         },
         "name": "5.8M",
         "offsetgroup": "5.8M",
         "orientation": "v",
         "showlegend": true,
         "texttemplate": "%{value}",
         "type": "histogram",
         "x": [
          null,
          "Lifestyle",
          "Shows",
          null,
          "Cinema & Actors/actresses"
         ],
         "xaxis": "x",
         "yaxis": "y"
        },
        {
         "alignmentgroup": "True",
         "bingroup": "x",
         "hovertemplate": "Followers=5.7M<br>Category=%{x}<br>count=%{y}<extra></extra>",
         "legendgroup": "5.7M",
         "marker": {
          "color": "#B6E880",
          "pattern": {
           "shape": ""
          }
         },
         "name": "5.7M",
         "offsetgroup": "5.7M",
         "orientation": "v",
         "showlegend": true,
         "texttemplate": "%{value}",
         "type": "histogram",
         "x": [
          "Lifestyle",
          "FamilyShows"
         ],
         "xaxis": "x",
         "yaxis": "y"
        },
        {
         "alignmentgroup": "True",
         "bingroup": "x",
         "hovertemplate": "Followers=12.5M<br>Category=%{x}<br>count=%{y}<extra></extra>",
         "legendgroup": "12.5M",
         "marker": {
          "color": "#FF97FF",
          "pattern": {
           "shape": ""
          }
         },
         "name": "12.5M",
         "offsetgroup": "12.5M",
         "orientation": "v",
         "showlegend": true,
         "texttemplate": "%{value}",
         "type": "histogram",
         "x": [
          "Modeling",
          "Family",
          "Music",
          "Sports with a ball"
         ],
         "xaxis": "x",
         "yaxis": "y"
        },
        {
         "alignmentgroup": "True",
         "bingroup": "x",
         "hovertemplate": "Followers=16.5M<br>Category=%{x}<br>count=%{y}<extra></extra>",
         "legendgroup": "16.5M",
         "marker": {
          "color": "#FECB52",
          "pattern": {
           "shape": ""
          }
         },
         "name": "16.5M",
         "offsetgroup": "16.5M",
         "orientation": "v",
         "showlegend": true,
         "texttemplate": "%{value}",
         "type": "histogram",
         "x": [
          "Music"
         ],
         "xaxis": "x",
         "yaxis": "y"
        },
        {
         "alignmentgroup": "True",
         "bingroup": "x",
         "hovertemplate": "Followers=5.5M<br>Category=%{x}<br>count=%{y}<extra></extra>",
         "legendgroup": "5.5M",
         "marker": {
          "color": "#636efa",
          "pattern": {
           "shape": ""
          }
         },
         "name": "5.5M",
         "offsetgroup": "5.5M",
         "orientation": "v",
         "showlegend": true,
         "texttemplate": "%{value}",
         "type": "histogram",
         "x": [
          null,
          null,
          null
         ],
         "xaxis": "x",
         "yaxis": "y"
        },
        {
         "alignmentgroup": "True",
         "bingroup": "x",
         "hovertemplate": "Followers=8.2M<br>Category=%{x}<br>count=%{y}<extra></extra>",
         "legendgroup": "8.2M",
         "marker": {
          "color": "#EF553B",
          "pattern": {
           "shape": ""
          }
         },
         "name": "8.2M",
         "offsetgroup": "8.2M",
         "orientation": "v",
         "showlegend": true,
         "texttemplate": "%{value}",
         "type": "histogram",
         "x": [
          "LifestyleMusic",
          null,
          "Lifestyle",
          "Cinema & Actors/actressesLifestyle",
          "FashionLifestyleBeauty",
          null
         ],
         "xaxis": "x",
         "yaxis": "y"
        },
        {
         "alignmentgroup": "True",
         "bingroup": "x",
         "hovertemplate": "Followers=33.8M<br>Category=%{x}<br>count=%{y}<extra></extra>",
         "legendgroup": "33.8M",
         "marker": {
          "color": "#00cc96",
          "pattern": {
           "shape": ""
          }
         },
         "name": "33.8M",
         "offsetgroup": "33.8M",
         "orientation": "v",
         "showlegend": true,
         "texttemplate": "%{value}",
         "type": "histogram",
         "x": [
          "BeautyFamilyLifestyle"
         ],
         "xaxis": "x",
         "yaxis": "y"
        },
        {
         "alignmentgroup": "True",
         "bingroup": "x",
         "hovertemplate": "Followers=14.7M<br>Category=%{x}<br>count=%{y}<extra></extra>",
         "legendgroup": "14.7M",
         "marker": {
          "color": "#ab63fa",
          "pattern": {
           "shape": ""
          }
         },
         "name": "14.7M",
         "offsetgroup": "14.7M",
         "orientation": "v",
         "showlegend": true,
         "texttemplate": "%{value}",
         "type": "histogram",
         "x": [
          "Computers & GadgetsBusiness & Careers",
          "Music"
         ],
         "xaxis": "x",
         "yaxis": "y"
        },
        {
         "alignmentgroup": "True",
         "bingroup": "x",
         "hovertemplate": "Followers=22.6M<br>Category=%{x}<br>count=%{y}<extra></extra>",
         "legendgroup": "22.6M",
         "marker": {
          "color": "#FFA15A",
          "pattern": {
           "shape": ""
          }
         },
         "name": "22.6M",
         "offsetgroup": "22.6M",
         "orientation": "v",
         "showlegend": true,
         "texttemplate": "%{value}",
         "type": "histogram",
         "x": [
          "Cinema & Actors/actresses"
         ],
         "xaxis": "x",
         "yaxis": "y"
        },
        {
         "alignmentgroup": "True",
         "bingroup": "x",
         "hovertemplate": "Followers=26.8M<br>Category=%{x}<br>count=%{y}<extra></extra>",
         "legendgroup": "26.8M",
         "marker": {
          "color": "#19d3f3",
          "pattern": {
           "shape": ""
          }
         },
         "name": "26.8M",
         "offsetgroup": "26.8M",
         "orientation": "v",
         "showlegend": true,
         "texttemplate": "%{value}",
         "type": "histogram",
         "x": [
          "Sports with a ball"
         ],
         "xaxis": "x",
         "yaxis": "y"
        },
        {
         "alignmentgroup": "True",
         "bingroup": "x",
         "hovertemplate": "Followers=58.6M<br>Category=%{x}<br>count=%{y}<extra></extra>",
         "legendgroup": "58.6M",
         "marker": {
          "color": "#FF6692",
          "pattern": {
           "shape": ""
          }
         },
         "name": "58.6M",
         "offsetgroup": "58.6M",
         "orientation": "v",
         "showlegend": true,
         "texttemplate": "%{value}",
         "type": "histogram",
         "x": [
          "Humor & Fun & Happiness"
         ],
         "xaxis": "x",
         "yaxis": "y"
        },
        {
         "alignmentgroup": "True",
         "bingroup": "x",
         "hovertemplate": "Followers=4.8M<br>Category=%{x}<br>count=%{y}<extra></extra>",
         "legendgroup": "4.8M",
         "marker": {
          "color": "#B6E880",
          "pattern": {
           "shape": ""
          }
         },
         "name": "4.8M",
         "offsetgroup": "4.8M",
         "orientation": "v",
         "showlegend": true,
         "texttemplate": "%{value}",
         "type": "histogram",
         "x": [
          null,
          "Music",
          "Sports with a ball",
          "FamilyCinema & Actors/actresses"
         ],
         "xaxis": "x",
         "yaxis": "y"
        },
        {
         "alignmentgroup": "True",
         "bingroup": "x",
         "hovertemplate": "Followers=8.4M<br>Category=%{x}<br>count=%{y}<extra></extra>",
         "legendgroup": "8.4M",
         "marker": {
          "color": "#FF97FF",
          "pattern": {
           "shape": ""
          }
         },
         "name": "8.4M",
         "offsetgroup": "8.4M",
         "orientation": "v",
         "showlegend": true,
         "texttemplate": "%{value}",
         "type": "histogram",
         "x": [
          null,
          "BeautyCinema & Actors/actressesModeling",
          "Humor & Fun & Happiness",
          "Sports with a ball",
          "Shows"
         ],
         "xaxis": "x",
         "yaxis": "y"
        },
        {
         "alignmentgroup": "True",
         "bingroup": "x",
         "hovertemplate": "Followers=8.3M<br>Category=%{x}<br>count=%{y}<extra></extra>",
         "legendgroup": "8.3M",
         "marker": {
          "color": "#FECB52",
          "pattern": {
           "shape": ""
          }
         },
         "name": "8.3M",
         "offsetgroup": "8.3M",
         "orientation": "v",
         "showlegend": true,
         "texttemplate": "%{value}",
         "type": "histogram",
         "x": [
          "Cinema & Actors/actresses",
          "BeautyLifestyle"
         ],
         "xaxis": "x",
         "yaxis": "y"
        },
        {
         "alignmentgroup": "True",
         "bingroup": "x",
         "hovertemplate": "Followers=5.9M<br>Category=%{x}<br>count=%{y}<extra></extra>",
         "legendgroup": "5.9M",
         "marker": {
          "color": "#636efa",
          "pattern": {
           "shape": ""
          }
         },
         "name": "5.9M",
         "offsetgroup": "5.9M",
         "orientation": "v",
         "showlegend": true,
         "texttemplate": "%{value}",
         "type": "histogram",
         "x": [
          "LifestyleMusic",
          null,
          null,
          null
         ],
         "xaxis": "x",
         "yaxis": "y"
        },
        {
         "alignmentgroup": "True",
         "bingroup": "x",
         "hovertemplate": "Followers=6.5M<br>Category=%{x}<br>count=%{y}<extra></extra>",
         "legendgroup": "6.5M",
         "marker": {
          "color": "#EF553B",
          "pattern": {
           "shape": ""
          }
         },
         "name": "6.5M",
         "offsetgroup": "6.5M",
         "orientation": "v",
         "showlegend": true,
         "texttemplate": "%{value}",
         "type": "histogram",
         "x": [
          "Humor & Fun & Happiness",
          "Lifestyle",
          "Lifestyle",
          null,
          "LifestyleCinema & Actors/actresses"
         ],
         "xaxis": "x",
         "yaxis": "y"
        },
        {
         "alignmentgroup": "True",
         "bingroup": "x",
         "hovertemplate": "Followers=12M<br>Category=%{x}<br>count=%{y}<extra></extra>",
         "legendgroup": "12M",
         "marker": {
          "color": "#00cc96",
          "pattern": {
           "shape": ""
          }
         },
         "name": "12M",
         "offsetgroup": "12M",
         "orientation": "v",
         "showlegend": true,
         "texttemplate": "%{value}",
         "type": "histogram",
         "x": [
          null,
          "Lifestyle",
          "Cinema & Actors/actresses"
         ],
         "xaxis": "x",
         "yaxis": "y"
        },
        {
         "alignmentgroup": "True",
         "bingroup": "x",
         "hovertemplate": "Followers=7.3M<br>Category=%{x}<br>count=%{y}<extra></extra>",
         "legendgroup": "7.3M",
         "marker": {
          "color": "#ab63fa",
          "pattern": {
           "shape": ""
          }
         },
         "name": "7.3M",
         "offsetgroup": "7.3M",
         "orientation": "v",
         "showlegend": true,
         "texttemplate": "%{value}",
         "type": "histogram",
         "x": [
          null,
          null,
          null,
          "Shows",
          "Music",
          "LifestyleCinema & Actors/actresses",
          "Lifestyle",
          "Lifestyle",
          "Music",
          "Music",
          "Shows",
          "LifestyleSports with a ball",
          "Adult content",
          "Music"
         ],
         "xaxis": "x",
         "yaxis": "y"
        },
        {
         "alignmentgroup": "True",
         "bingroup": "x",
         "hovertemplate": "Followers=10.5M<br>Category=%{x}<br>count=%{y}<extra></extra>",
         "legendgroup": "10.5M",
         "marker": {
          "color": "#FFA15A",
          "pattern": {
           "shape": ""
          }
         },
         "name": "10.5M",
         "offsetgroup": "10.5M",
         "orientation": "v",
         "showlegend": true,
         "texttemplate": "%{value}",
         "type": "histogram",
         "x": [
          "Music",
          "MusicLifestyle"
         ],
         "xaxis": "x",
         "yaxis": "y"
        },
        {
         "alignmentgroup": "True",
         "bingroup": "x",
         "hovertemplate": "Followers=12.8M<br>Category=%{x}<br>count=%{y}<extra></extra>",
         "legendgroup": "12.8M",
         "marker": {
          "color": "#19d3f3",
          "pattern": {
           "shape": ""
          }
         },
         "name": "12.8M",
         "offsetgroup": "12.8M",
         "orientation": "v",
         "showlegend": true,
         "texttemplate": "%{value}",
         "type": "histogram",
         "x": [
          "MusicCinema & Actors/actressesModeling",
          "ShowsCinema & Actors/actresses",
          "FamilyMusic",
          "Sports with a ball",
          "Computers & GadgetsMachinery & Technologies"
         ],
         "xaxis": "x",
         "yaxis": "y"
        },
        {
         "alignmentgroup": "True",
         "bingroup": "x",
         "hovertemplate": "Followers=16.9M<br>Category=%{x}<br>count=%{y}<extra></extra>",
         "legendgroup": "16.9M",
         "marker": {
          "color": "#FF6692",
          "pattern": {
           "shape": ""
          }
         },
         "name": "16.9M",
         "offsetgroup": "16.9M",
         "orientation": "v",
         "showlegend": true,
         "texttemplate": "%{value}",
         "type": "histogram",
         "x": [
          "Music",
          "Sports with a ball",
          "Modeling",
          "Art/Artists"
         ],
         "xaxis": "x",
         "yaxis": "y"
        },
        {
         "alignmentgroup": "True",
         "bingroup": "x",
         "hovertemplate": "Followers=18.4M<br>Category=%{x}<br>count=%{y}<extra></extra>",
         "legendgroup": "18.4M",
         "marker": {
          "color": "#B6E880",
          "pattern": {
           "shape": ""
          }
         },
         "name": "18.4M",
         "offsetgroup": "18.4M",
         "orientation": "v",
         "showlegend": true,
         "texttemplate": "%{value}",
         "type": "histogram",
         "x": [
          "Art/ArtistsBeauty",
          "Sports with a ballLifestyle",
          "Literature & JournalismBusiness & CareersFinance & Economics",
          "ShowsFamily",
          "Music"
         ],
         "xaxis": "x",
         "yaxis": "y"
        },
        {
         "alignmentgroup": "True",
         "bingroup": "x",
         "hovertemplate": "Followers=17.3M<br>Category=%{x}<br>count=%{y}<extra></extra>",
         "legendgroup": "17.3M",
         "marker": {
          "color": "#FF97FF",
          "pattern": {
           "shape": ""
          }
         },
         "name": "17.3M",
         "offsetgroup": "17.3M",
         "orientation": "v",
         "showlegend": true,
         "texttemplate": "%{value}",
         "type": "histogram",
         "x": [
          "BeautyCinema & Actors/actressesModeling",
          "BeautyCinema & Actors/actressesFashion"
         ],
         "xaxis": "x",
         "yaxis": "y"
        },
        {
         "alignmentgroup": "True",
         "bingroup": "x",
         "hovertemplate": "Followers=14.8M<br>Category=%{x}<br>count=%{y}<extra></extra>",
         "legendgroup": "14.8M",
         "marker": {
          "color": "#FECB52",
          "pattern": {
           "shape": ""
          }
         },
         "name": "14.8M",
         "offsetgroup": "14.8M",
         "orientation": "v",
         "showlegend": true,
         "texttemplate": "%{value}",
         "type": "histogram",
         "x": [
          "Cinema & Actors/actresses",
          "Cinema & Actors/actressesModelingFashion"
         ],
         "xaxis": "x",
         "yaxis": "y"
        },
        {
         "alignmentgroup": "True",
         "bingroup": "x",
         "hovertemplate": "Followers=5.3M<br>Category=%{x}<br>count=%{y}<extra></extra>",
         "legendgroup": "5.3M",
         "marker": {
          "color": "#636efa",
          "pattern": {
           "shape": ""
          }
         },
         "name": "5.3M",
         "offsetgroup": "5.3M",
         "orientation": "v",
         "showlegend": true,
         "texttemplate": "%{value}",
         "type": "histogram",
         "x": [
          null,
          null
         ],
         "xaxis": "x",
         "yaxis": "y"
        },
        {
         "alignmentgroup": "True",
         "bingroup": "x",
         "hovertemplate": "Followers=22.9M<br>Category=%{x}<br>count=%{y}<extra></extra>",
         "legendgroup": "22.9M",
         "marker": {
          "color": "#EF553B",
          "pattern": {
           "shape": ""
          }
         },
         "name": "22.9M",
         "offsetgroup": "22.9M",
         "orientation": "v",
         "showlegend": true,
         "texttemplate": "%{value}",
         "type": "histogram",
         "x": [
          "Beauty"
         ],
         "xaxis": "x",
         "yaxis": "y"
        },
        {
         "alignmentgroup": "True",
         "bingroup": "x",
         "hovertemplate": "Followers=22.4M<br>Category=%{x}<br>count=%{y}<extra></extra>",
         "legendgroup": "22.4M",
         "marker": {
          "color": "#00cc96",
          "pattern": {
           "shape": ""
          }
         },
         "name": "22.4M",
         "offsetgroup": "22.4M",
         "orientation": "v",
         "showlegend": true,
         "texttemplate": "%{value}",
         "type": "histogram",
         "x": [
          "Music",
          "Lifestyle",
          "ShowsHumor & Fun & Happiness"
         ],
         "xaxis": "x",
         "yaxis": "y"
        },
        {
         "alignmentgroup": "True",
         "bingroup": "x",
         "hovertemplate": "Followers=40.1M<br>Category=%{x}<br>count=%{y}<extra></extra>",
         "legendgroup": "40.1M",
         "marker": {
          "color": "#ab63fa",
          "pattern": {
           "shape": ""
          }
         },
         "name": "40.1M",
         "offsetgroup": "40.1M",
         "orientation": "v",
         "showlegend": true,
         "texttemplate": "%{value}",
         "type": "histogram",
         "x": [
          "Cinema & Actors/actressesModelingClothing & Outfits"
         ],
         "xaxis": "x",
         "yaxis": "y"
        },
        {
         "alignmentgroup": "True",
         "bingroup": "x",
         "hovertemplate": "Followers=9.9M<br>Category=%{x}<br>count=%{y}<extra></extra>",
         "legendgroup": "9.9M",
         "marker": {
          "color": "#FFA15A",
          "pattern": {
           "shape": ""
          }
         },
         "name": "9.9M",
         "offsetgroup": "9.9M",
         "orientation": "v",
         "showlegend": true,
         "texttemplate": "%{value}",
         "type": "histogram",
         "x": [
          "Music",
          "Sports with a ball",
          "FamilyLifestyle",
          "Lifestyle",
          "Cinema & Actors/actressesHumor & Fun & HappinessModeling",
          "MusicCinema & Actors/actressesLifestyle",
          "Sports with a ball"
         ],
         "xaxis": "x",
         "yaxis": "y"
        },
        {
         "alignmentgroup": "True",
         "bingroup": "x",
         "hovertemplate": "Followers=11.6M<br>Category=%{x}<br>count=%{y}<extra></extra>",
         "legendgroup": "11.6M",
         "marker": {
          "color": "#19d3f3",
          "pattern": {
           "shape": ""
          }
         },
         "name": "11.6M",
         "offsetgroup": "11.6M",
         "orientation": "v",
         "showlegend": true,
         "texttemplate": "%{value}",
         "type": "histogram",
         "x": [
          "Music",
          "Sports with a ball",
          "ModelingLifestyle",
          "Beauty",
          "Cinema & Actors/actressesMusic",
          "Music",
          "Lifestyle",
          "Sports with a ball"
         ],
         "xaxis": "x",
         "yaxis": "y"
        },
        {
         "alignmentgroup": "True",
         "bingroup": "x",
         "hovertemplate": "Followers=18M<br>Category=%{x}<br>count=%{y}<extra></extra>",
         "legendgroup": "18M",
         "marker": {
          "color": "#FF6692",
          "pattern": {
           "shape": ""
          }
         },
         "name": "18M",
         "offsetgroup": "18M",
         "orientation": "v",
         "showlegend": true,
         "texttemplate": "%{value}",
         "type": "histogram",
         "x": [
          "Sports with a ball"
         ],
         "xaxis": "x",
         "yaxis": "y"
        },
        {
         "alignmentgroup": "True",
         "bingroup": "x",
         "hovertemplate": "Followers=65.4M<br>Category=%{x}<br>count=%{y}<extra></extra>",
         "legendgroup": "65.4M",
         "marker": {
          "color": "#B6E880",
          "pattern": {
           "shape": ""
          }
         },
         "name": "65.4M",
         "offsetgroup": "65.4M",
         "orientation": "v",
         "showlegend": true,
         "texttemplate": "%{value}",
         "type": "histogram",
         "x": [
          "Cinema & Actors/actressesComics & sketchesShows"
         ],
         "xaxis": "x",
         "yaxis": "y"
        },
        {
         "alignmentgroup": "True",
         "bingroup": "x",
         "hovertemplate": "Followers=11M<br>Category=%{x}<br>count=%{y}<extra></extra>",
         "legendgroup": "11M",
         "marker": {
          "color": "#FF97FF",
          "pattern": {
           "shape": ""
          }
         },
         "name": "11M",
         "offsetgroup": "11M",
         "orientation": "v",
         "showlegend": true,
         "texttemplate": "%{value}",
         "type": "histogram",
         "x": [
          null,
          "Music",
          "Cinema & Actors/actresses"
         ],
         "xaxis": "x",
         "yaxis": "y"
        },
        {
         "alignmentgroup": "True",
         "bingroup": "x",
         "hovertemplate": "Followers=17.2M<br>Category=%{x}<br>count=%{y}<extra></extra>",
         "legendgroup": "17.2M",
         "marker": {
          "color": "#FECB52",
          "pattern": {
           "shape": ""
          }
         },
         "name": "17.2M",
         "offsetgroup": "17.2M",
         "orientation": "v",
         "showlegend": true,
         "texttemplate": "%{value}",
         "type": "histogram",
         "x": [
          "Music",
          "Modeling",
          "MusicCinema & Actors/actresses",
          "Cinema & Actors/actresses"
         ],
         "xaxis": "x",
         "yaxis": "y"
        },
        {
         "alignmentgroup": "True",
         "bingroup": "x",
         "hovertemplate": "Followers=52.8M<br>Category=%{x}<br>count=%{y}<extra></extra>",
         "legendgroup": "52.8M",
         "marker": {
          "color": "#636efa",
          "pattern": {
           "shape": ""
          }
         },
         "name": "52.8M",
         "offsetgroup": "52.8M",
         "orientation": "v",
         "showlegend": true,
         "texttemplate": "%{value}",
         "type": "histogram",
         "x": [
          "Music"
         ],
         "xaxis": "x",
         "yaxis": "y"
        },
        {
         "alignmentgroup": "True",
         "bingroup": "x",
         "hovertemplate": "Followers=59M<br>Category=%{x}<br>count=%{y}<extra></extra>",
         "legendgroup": "59M",
         "marker": {
          "color": "#EF553B",
          "pattern": {
           "shape": ""
          }
         },
         "name": "59M",
         "offsetgroup": "59M",
         "orientation": "v",
         "showlegend": true,
         "texttemplate": "%{value}",
         "type": "histogram",
         "x": [
          "Sports with a ball"
         ],
         "xaxis": "x",
         "yaxis": "y"
        },
        {
         "alignmentgroup": "True",
         "bingroup": "x",
         "hovertemplate": "Followers=20.2M<br>Category=%{x}<br>count=%{y}<extra></extra>",
         "legendgroup": "20.2M",
         "marker": {
          "color": "#00cc96",
          "pattern": {
           "shape": ""
          }
         },
         "name": "20.2M",
         "offsetgroup": "20.2M",
         "orientation": "v",
         "showlegend": true,
         "texttemplate": "%{value}",
         "type": "histogram",
         "x": [
          "Cinema & Actors/actresses",
          "Finance & EconomicsBusiness & Careers"
         ],
         "xaxis": "x",
         "yaxis": "y"
        },
        {
         "alignmentgroup": "True",
         "bingroup": "x",
         "hovertemplate": "Followers=10.1M<br>Category=%{x}<br>count=%{y}<extra></extra>",
         "legendgroup": "10.1M",
         "marker": {
          "color": "#ab63fa",
          "pattern": {
           "shape": ""
          }
         },
         "name": "10.1M",
         "offsetgroup": "10.1M",
         "orientation": "v",
         "showlegend": true,
         "texttemplate": "%{value}",
         "type": "histogram",
         "x": [
          "LifestyleMusic",
          "Music",
          "Sports with a ball",
          "Music",
          "Animals",
          "Music"
         ],
         "xaxis": "x",
         "yaxis": "y"
        },
        {
         "alignmentgroup": "True",
         "bingroup": "x",
         "hovertemplate": "Followers=25M<br>Category=%{x}<br>count=%{y}<extra></extra>",
         "legendgroup": "25M",
         "marker": {
          "color": "#FFA15A",
          "pattern": {
           "shape": ""
          }
         },
         "name": "25M",
         "offsetgroup": "25M",
         "orientation": "v",
         "showlegend": true,
         "texttemplate": "%{value}",
         "type": "histogram",
         "x": [
          "MusicClothing & Outfits",
          "Sports with a ball"
         ],
         "xaxis": "x",
         "yaxis": "y"
        },
        {
         "alignmentgroup": "True",
         "bingroup": "x",
         "hovertemplate": "Followers=32M<br>Category=%{x}<br>count=%{y}<extra></extra>",
         "legendgroup": "32M",
         "marker": {
          "color": "#19d3f3",
          "pattern": {
           "shape": ""
          }
         },
         "name": "32M",
         "offsetgroup": "32M",
         "orientation": "v",
         "showlegend": true,
         "texttemplate": "%{value}",
         "type": "histogram",
         "x": [
          "MusicCinema & Actors/actresses"
         ],
         "xaxis": "x",
         "yaxis": "y"
        },
        {
         "alignmentgroup": "True",
         "bingroup": "x",
         "hovertemplate": "Followers=13.4M<br>Category=%{x}<br>count=%{y}<extra></extra>",
         "legendgroup": "13.4M",
         "marker": {
          "color": "#FF6692",
          "pattern": {
           "shape": ""
          }
         },
         "name": "13.4M",
         "offsetgroup": "13.4M",
         "orientation": "v",
         "showlegend": true,
         "texttemplate": "%{value}",
         "type": "histogram",
         "x": [
          "FashionCinema & Actors/actresses",
          "Cinema & Actors/actresses",
          "Music",
          "Fitness & Gym",
          "Fitness & Gym",
          "Cinema & Actors/actresses"
         ],
         "xaxis": "x",
         "yaxis": "y"
        },
        {
         "alignmentgroup": "True",
         "bingroup": "x",
         "hovertemplate": "Followers=7.8M<br>Category=%{x}<br>count=%{y}<extra></extra>",
         "legendgroup": "7.8M",
         "marker": {
          "color": "#B6E880",
          "pattern": {
           "shape": ""
          }
         },
         "name": "7.8M",
         "offsetgroup": "7.8M",
         "orientation": "v",
         "showlegend": true,
         "texttemplate": "%{value}",
         "type": "histogram",
         "x": [
          "Art/Artists",
          "Sports with a ball"
         ],
         "xaxis": "x",
         "yaxis": "y"
        },
        {
         "alignmentgroup": "True",
         "bingroup": "x",
         "hovertemplate": "Followers=50.3M<br>Category=%{x}<br>count=%{y}<extra></extra>",
         "legendgroup": "50.3M",
         "marker": {
          "color": "#FF97FF",
          "pattern": {
           "shape": ""
          }
         },
         "name": "50.3M",
         "offsetgroup": "50.3M",
         "orientation": "v",
         "showlegend": true,
         "texttemplate": "%{value}",
         "type": "histogram",
         "x": [
          "Finance & EconomicsBusiness & CareersFamily"
         ],
         "xaxis": "x",
         "yaxis": "y"
        },
        {
         "alignmentgroup": "True",
         "bingroup": "x",
         "hovertemplate": "Followers=23.9M<br>Category=%{x}<br>count=%{y}<extra></extra>",
         "legendgroup": "23.9M",
         "marker": {
          "color": "#FECB52",
          "pattern": {
           "shape": ""
          }
         },
         "name": "23.9M",
         "offsetgroup": "23.9M",
         "orientation": "v",
         "showlegend": true,
         "texttemplate": "%{value}",
         "type": "histogram",
         "x": [
          "Art/ArtistsShows",
          "Cinema & Actors/actresses"
         ],
         "xaxis": "x",
         "yaxis": "y"
        },
        {
         "alignmentgroup": "True",
         "bingroup": "x",
         "hovertemplate": "Followers=19.5M<br>Category=%{x}<br>count=%{y}<extra></extra>",
         "legendgroup": "19.5M",
         "marker": {
          "color": "#636efa",
          "pattern": {
           "shape": ""
          }
         },
         "name": "19.5M",
         "offsetgroup": "19.5M",
         "orientation": "v",
         "showlegend": true,
         "texttemplate": "%{value}",
         "type": "histogram",
         "x": [
          "Cinema & Actors/actressesHumor & Fun & Happiness"
         ],
         "xaxis": "x",
         "yaxis": "y"
        },
        {
         "alignmentgroup": "True",
         "bingroup": "x",
         "hovertemplate": "Followers=12.2M<br>Category=%{x}<br>count=%{y}<extra></extra>",
         "legendgroup": "12.2M",
         "marker": {
          "color": "#EF553B",
          "pattern": {
           "shape": ""
          }
         },
         "name": "12.2M",
         "offsetgroup": "12.2M",
         "orientation": "v",
         "showlegend": true,
         "texttemplate": "%{value}",
         "type": "histogram",
         "x": [
          "Music",
          "Cinema & Actors/actresses",
          "Cinema & Actors/actresses",
          "Cinema & Actors/actresses",
          "MusicModelingArt/Artists",
          "Cinema & Actors/actresses",
          "Cinema & Actors/actresses"
         ],
         "xaxis": "x",
         "yaxis": "y"
        },
        {
         "alignmentgroup": "True",
         "bingroup": "x",
         "hovertemplate": "Followers=19.9M<br>Category=%{x}<br>count=%{y}<extra></extra>",
         "legendgroup": "19.9M",
         "marker": {
          "color": "#00cc96",
          "pattern": {
           "shape": ""
          }
         },
         "name": "19.9M",
         "offsetgroup": "19.9M",
         "orientation": "v",
         "showlegend": true,
         "texttemplate": "%{value}",
         "type": "histogram",
         "x": [
          "ModelingLifestyleFashion",
          "Cinema & Actors/actressesModeling",
          "Music",
          "Art/ArtistsFashionModeling",
          "Racing Sports"
         ],
         "xaxis": "x",
         "yaxis": "y"
        },
        {
         "alignmentgroup": "True",
         "bingroup": "x",
         "hovertemplate": "Followers=38.9M<br>Category=%{x}<br>count=%{y}<extra></extra>",
         "legendgroup": "38.9M",
         "marker": {
          "color": "#ab63fa",
          "pattern": {
           "shape": ""
          }
         },
         "name": "38.9M",
         "offsetgroup": "38.9M",
         "orientation": "v",
         "showlegend": true,
         "texttemplate": "%{value}",
         "type": "histogram",
         "x": [
          "Beauty"
         ],
         "xaxis": "x",
         "yaxis": "y"
        },
        {
         "alignmentgroup": "True",
         "bingroup": "x",
         "hovertemplate": "Followers=19.4M<br>Category=%{x}<br>count=%{y}<extra></extra>",
         "legendgroup": "19.4M",
         "marker": {
          "color": "#FFA15A",
          "pattern": {
           "shape": ""
          }
         },
         "name": "19.4M",
         "offsetgroup": "19.4M",
         "orientation": "v",
         "showlegend": true,
         "texttemplate": "%{value}",
         "type": "histogram",
         "x": [
          "Cinema & Actors/actressesLifestyle",
          "ModelingFashionLifestyle"
         ],
         "xaxis": "x",
         "yaxis": "y"
        },
        {
         "alignmentgroup": "True",
         "bingroup": "x",
         "hovertemplate": "Followers=148.8M<br>Category=%{x}<br>count=%{y}<extra></extra>",
         "legendgroup": "148.8M",
         "marker": {
          "color": "#19d3f3",
          "pattern": {
           "shape": ""
          }
         },
         "name": "148.8M",
         "offsetgroup": "148.8M",
         "orientation": "v",
         "showlegend": true,
         "texttemplate": "%{value}",
         "type": "histogram",
         "x": [
          "Cinema & Actors/actresses"
         ],
         "xaxis": "x",
         "yaxis": "y"
        },
        {
         "alignmentgroup": "True",
         "bingroup": "x",
         "hovertemplate": "Followers=26.5M<br>Category=%{x}<br>count=%{y}<extra></extra>",
         "legendgroup": "26.5M",
         "marker": {
          "color": "#FF6692",
          "pattern": {
           "shape": ""
          }
         },
         "name": "26.5M",
         "offsetgroup": "26.5M",
         "orientation": "v",
         "showlegend": true,
         "texttemplate": "%{value}",
         "type": "histogram",
         "x": [
          "Modeling"
         ],
         "xaxis": "x",
         "yaxis": "y"
        },
        {
         "alignmentgroup": "True",
         "bingroup": "x",
         "hovertemplate": "Followers=43.1M<br>Category=%{x}<br>count=%{y}<extra></extra>",
         "legendgroup": "43.1M",
         "marker": {
          "color": "#B6E880",
          "pattern": {
           "shape": ""
          }
         },
         "name": "43.1M",
         "offsetgroup": "43.1M",
         "orientation": "v",
         "showlegend": true,
         "texttemplate": "%{value}",
         "type": "histogram",
         "x": [
          "Cinema & Actors/actresses"
         ],
         "xaxis": "x",
         "yaxis": "y"
        },
        {
         "alignmentgroup": "True",
         "bingroup": "x",
         "hovertemplate": "Followers=27.7M<br>Category=%{x}<br>count=%{y}<extra></extra>",
         "legendgroup": "27.7M",
         "marker": {
          "color": "#FF97FF",
          "pattern": {
           "shape": ""
          }
         },
         "name": "27.7M",
         "offsetgroup": "27.7M",
         "orientation": "v",
         "showlegend": true,
         "texttemplate": "%{value}",
         "type": "histogram",
         "x": [
          "MusicArt/Artists"
         ],
         "xaxis": "x",
         "yaxis": "y"
        },
        {
         "alignmentgroup": "True",
         "bingroup": "x",
         "hovertemplate": "Followers=27.5M<br>Category=%{x}<br>count=%{y}<extra></extra>",
         "legendgroup": "27.5M",
         "marker": {
          "color": "#FECB52",
          "pattern": {
           "shape": ""
          }
         },
         "name": "27.5M",
         "offsetgroup": "27.5M",
         "orientation": "v",
         "showlegend": true,
         "texttemplate": "%{value}",
         "type": "histogram",
         "x": [
          "Music",
          "Beauty"
         ],
         "xaxis": "x",
         "yaxis": "y"
        },
        {
         "alignmentgroup": "True",
         "bingroup": "x",
         "hovertemplate": "Followers=8.1M<br>Category=%{x}<br>count=%{y}<extra></extra>",
         "legendgroup": "8.1M",
         "marker": {
          "color": "#636efa",
          "pattern": {
           "shape": ""
          }
         },
         "name": "8.1M",
         "offsetgroup": "8.1M",
         "orientation": "v",
         "showlegend": true,
         "texttemplate": "%{value}",
         "type": "histogram",
         "x": [
          "Cinema & Actors/actresses",
          "LifestyleArt/Artists",
          "Music",
          "Sports with a ball",
          "Beauty",
          null,
          null,
          null,
          "BeautyCinema & Actors/actresses"
         ],
         "xaxis": "x",
         "yaxis": "y"
        },
        {
         "alignmentgroup": "True",
         "bingroup": "x",
         "hovertemplate": "Followers=4.9M<br>Category=%{x}<br>count=%{y}<extra></extra>",
         "legendgroup": "4.9M",
         "marker": {
          "color": "#EF553B",
          "pattern": {
           "shape": ""
          }
         },
         "name": "4.9M",
         "offsetgroup": "4.9M",
         "orientation": "v",
         "showlegend": true,
         "texttemplate": "%{value}",
         "type": "histogram",
         "x": [
          null,
          null,
          "Cinema & Actors/actresses",
          "Music",
          "LifestyleCinema & Actors/actresses"
         ],
         "xaxis": "x",
         "yaxis": "y"
        },
        {
         "alignmentgroup": "True",
         "bingroup": "x",
         "hovertemplate": "Followers=18.1M<br>Category=%{x}<br>count=%{y}<extra></extra>",
         "legendgroup": "18.1M",
         "marker": {
          "color": "#00cc96",
          "pattern": {
           "shape": ""
          }
         },
         "name": "18.1M",
         "offsetgroup": "18.1M",
         "orientation": "v",
         "showlegend": true,
         "texttemplate": "%{value}",
         "type": "histogram",
         "x": [
          "Music",
          "Cinema & Actors/actresses",
          "Humor & Fun & Happiness"
         ],
         "xaxis": "x",
         "yaxis": "y"
        },
        {
         "alignmentgroup": "True",
         "bingroup": "x",
         "hovertemplate": "Followers=13.9M<br>Category=%{x}<br>count=%{y}<extra></extra>",
         "legendgroup": "13.9M",
         "marker": {
          "color": "#ab63fa",
          "pattern": {
           "shape": ""
          }
         },
         "name": "13.9M",
         "offsetgroup": "13.9M",
         "orientation": "v",
         "showlegend": true,
         "texttemplate": "%{value}",
         "type": "histogram",
         "x": [
          "MusicArt/Artists",
          "MusicLifestyle",
          "MusicCinema & Actors/actresses",
          "Adult content",
          "Cinema & Actors/actressesModeling",
          "Racing Sports",
          "Music",
          "Lifestyle"
         ],
         "xaxis": "x",
         "yaxis": "y"
        },
        {
         "alignmentgroup": "True",
         "bingroup": "x",
         "hovertemplate": "Followers=58.2M<br>Category=%{x}<br>count=%{y}<extra></extra>",
         "legendgroup": "58.2M",
         "marker": {
          "color": "#FFA15A",
          "pattern": {
           "shape": ""
          }
         },
         "name": "58.2M",
         "offsetgroup": "58.2M",
         "orientation": "v",
         "showlegend": true,
         "texttemplate": "%{value}",
         "type": "histogram",
         "x": [
          "Humor & Fun & Happiness"
         ],
         "xaxis": "x",
         "yaxis": "y"
        },
        {
         "alignmentgroup": "True",
         "bingroup": "x",
         "hovertemplate": "Followers=5.1M<br>Category=%{x}<br>count=%{y}<extra></extra>",
         "legendgroup": "5.1M",
         "marker": {
          "color": "#19d3f3",
          "pattern": {
           "shape": ""
          }
         },
         "name": "5.1M",
         "offsetgroup": "5.1M",
         "orientation": "v",
         "showlegend": true,
         "texttemplate": "%{value}",
         "type": "histogram",
         "x": [
          "Lifestyle",
          "Music",
          null,
          "LifestyleFashion"
         ],
         "xaxis": "x",
         "yaxis": "y"
        },
        {
         "alignmentgroup": "True",
         "bingroup": "x",
         "hovertemplate": "Followers=7.9M<br>Category=%{x}<br>count=%{y}<extra></extra>",
         "legendgroup": "7.9M",
         "marker": {
          "color": "#FF6692",
          "pattern": {
           "shape": ""
          }
         },
         "name": "7.9M",
         "offsetgroup": "7.9M",
         "orientation": "v",
         "showlegend": true,
         "texttemplate": "%{value}",
         "type": "histogram",
         "x": [
          null,
          "Lifestyle",
          "Music",
          "MusicLifestyle",
          null,
          "Computers & GadgetsMachinery & Technologies"
         ],
         "xaxis": "x",
         "yaxis": "y"
        },
        {
         "alignmentgroup": "True",
         "bingroup": "x",
         "hovertemplate": "Followers=13.2M<br>Category=%{x}<br>count=%{y}<extra></extra>",
         "legendgroup": "13.2M",
         "marker": {
          "color": "#B6E880",
          "pattern": {
           "shape": ""
          }
         },
         "name": "13.2M",
         "offsetgroup": "13.2M",
         "orientation": "v",
         "showlegend": true,
         "texttemplate": "%{value}",
         "type": "histogram",
         "x": [
          "Cinema & Actors/actresses",
          "LifestyleBeauty",
          "Lifestyle",
          "Family",
          "Art/ArtistsFashionMusic"
         ],
         "xaxis": "x",
         "yaxis": "y"
        },
        {
         "alignmentgroup": "True",
         "bingroup": "x",
         "hovertemplate": "Followers=6.2M<br>Category=%{x}<br>count=%{y}<extra></extra>",
         "legendgroup": "6.2M",
         "marker": {
          "color": "#FF97FF",
          "pattern": {
           "shape": ""
          }
         },
         "name": "6.2M",
         "offsetgroup": "6.2M",
         "orientation": "v",
         "showlegend": true,
         "texttemplate": "%{value}",
         "type": "histogram",
         "x": [
          null,
          null,
          "Sports with a ball"
         ],
         "xaxis": "x",
         "yaxis": "y"
        },
        {
         "alignmentgroup": "True",
         "bingroup": "x",
         "hovertemplate": "Followers=13.3M<br>Category=%{x}<br>count=%{y}<extra></extra>",
         "legendgroup": "13.3M",
         "marker": {
          "color": "#FECB52",
          "pattern": {
           "shape": ""
          }
         },
         "name": "13.3M",
         "offsetgroup": "13.3M",
         "orientation": "v",
         "showlegend": true,
         "texttemplate": "%{value}",
         "type": "histogram",
         "x": [
          "Cinema & Actors/actresses",
          "Cinema & Actors/actresses"
         ],
         "xaxis": "x",
         "yaxis": "y"
        },
        {
         "alignmentgroup": "True",
         "bingroup": "x",
         "hovertemplate": "Followers=34.8M<br>Category=%{x}<br>count=%{y}<extra></extra>",
         "legendgroup": "34.8M",
         "marker": {
          "color": "#636efa",
          "pattern": {
           "shape": ""
          }
         },
         "name": "34.8M",
         "offsetgroup": "34.8M",
         "orientation": "v",
         "showlegend": true,
         "texttemplate": "%{value}",
         "type": "histogram",
         "x": [
          "Music",
          "Sports with a ball"
         ],
         "xaxis": "x",
         "yaxis": "y"
        },
        {
         "alignmentgroup": "True",
         "bingroup": "x",
         "hovertemplate": "Followers=33.7M<br>Category=%{x}<br>count=%{y}<extra></extra>",
         "legendgroup": "33.7M",
         "marker": {
          "color": "#EF553B",
          "pattern": {
           "shape": ""
          }
         },
         "name": "33.7M",
         "offsetgroup": "33.7M",
         "orientation": "v",
         "showlegend": true,
         "texttemplate": "%{value}",
         "type": "histogram",
         "x": [
          "Cinema & Actors/actresses"
         ],
         "xaxis": "x",
         "yaxis": "y"
        },
        {
         "alignmentgroup": "True",
         "bingroup": "x",
         "hovertemplate": "Followers=16.2M<br>Category=%{x}<br>count=%{y}<extra></extra>",
         "legendgroup": "16.2M",
         "marker": {
          "color": "#00cc96",
          "pattern": {
           "shape": ""
          }
         },
         "name": "16.2M",
         "offsetgroup": "16.2M",
         "orientation": "v",
         "showlegend": true,
         "texttemplate": "%{value}",
         "type": "histogram",
         "x": [
          "Sports with a ball",
          "Art/ArtistsCinema & Actors/actresses"
         ],
         "xaxis": "x",
         "yaxis": "y"
        },
        {
         "alignmentgroup": "True",
         "bingroup": "x",
         "hovertemplate": "Followers=6.4M<br>Category=%{x}<br>count=%{y}<extra></extra>",
         "legendgroup": "6.4M",
         "marker": {
          "color": "#ab63fa",
          "pattern": {
           "shape": ""
          }
         },
         "name": "6.4M",
         "offsetgroup": "6.4M",
         "orientation": "v",
         "showlegend": true,
         "texttemplate": "%{value}",
         "type": "histogram",
         "x": [
          null,
          "Music",
          "Lifestyle"
         ],
         "xaxis": "x",
         "yaxis": "y"
        },
        {
         "alignmentgroup": "True",
         "bingroup": "x",
         "hovertemplate": "Followers=19.6M<br>Category=%{x}<br>count=%{y}<extra></extra>",
         "legendgroup": "19.6M",
         "marker": {
          "color": "#FFA15A",
          "pattern": {
           "shape": ""
          }
         },
         "name": "19.6M",
         "offsetgroup": "19.6M",
         "orientation": "v",
         "showlegend": true,
         "texttemplate": "%{value}",
         "type": "histogram",
         "x": [
          "Modeling"
         ],
         "xaxis": "x",
         "yaxis": "y"
        },
        {
         "alignmentgroup": "True",
         "bingroup": "x",
         "hovertemplate": "Followers=6.7M<br>Category=%{x}<br>count=%{y}<extra></extra>",
         "legendgroup": "6.7M",
         "marker": {
          "color": "#19d3f3",
          "pattern": {
           "shape": ""
          }
         },
         "name": "6.7M",
         "offsetgroup": "6.7M",
         "orientation": "v",
         "showlegend": true,
         "texttemplate": "%{value}",
         "type": "histogram",
         "x": [
          "Lifestyle",
          "Beauty",
          "Lifestyle",
          "LifestyleMusic",
          "Fitness & Gym"
         ],
         "xaxis": "x",
         "yaxis": "y"
        },
        {
         "alignmentgroup": "True",
         "bingroup": "x",
         "hovertemplate": "Followers=5.4M<br>Category=%{x}<br>count=%{y}<extra></extra>",
         "legendgroup": "5.4M",
         "marker": {
          "color": "#FF6692",
          "pattern": {
           "shape": ""
          }
         },
         "name": "5.4M",
         "offsetgroup": "5.4M",
         "orientation": "v",
         "showlegend": true,
         "texttemplate": "%{value}",
         "type": "histogram",
         "x": [
          "LifestyleMusic",
          "Cinema & Actors/actresses",
          "Music",
          "Sports with a ball",
          "Adult content",
          "Music"
         ],
         "xaxis": "x",
         "yaxis": "y"
        },
        {
         "alignmentgroup": "True",
         "bingroup": "x",
         "hovertemplate": "Followers=16.4M<br>Category=%{x}<br>count=%{y}<extra></extra>",
         "legendgroup": "16.4M",
         "marker": {
          "color": "#B6E880",
          "pattern": {
           "shape": ""
          }
         },
         "name": "16.4M",
         "offsetgroup": "16.4M",
         "orientation": "v",
         "showlegend": true,
         "texttemplate": "%{value}",
         "type": "histogram",
         "x": [
          "Music",
          "Music"
         ],
         "xaxis": "x",
         "yaxis": "y"
        },
        {
         "alignmentgroup": "True",
         "bingroup": "x",
         "hovertemplate": "Followers=46.4M<br>Category=%{x}<br>count=%{y}<extra></extra>",
         "legendgroup": "46.4M",
         "marker": {
          "color": "#FF97FF",
          "pattern": {
           "shape": ""
          }
         },
         "name": "46.4M",
         "offsetgroup": "46.4M",
         "orientation": "v",
         "showlegend": true,
         "texttemplate": "%{value}",
         "type": "histogram",
         "x": [
          "Cinema & Actors/actresses"
         ],
         "xaxis": "x",
         "yaxis": "y"
        },
        {
         "alignmentgroup": "True",
         "bingroup": "x",
         "hovertemplate": "Followers=6M<br>Category=%{x}<br>count=%{y}<extra></extra>",
         "legendgroup": "6M",
         "marker": {
          "color": "#FECB52",
          "pattern": {
           "shape": ""
          }
         },
         "name": "6M",
         "offsetgroup": "6M",
         "orientation": "v",
         "showlegend": true,
         "texttemplate": "%{value}",
         "type": "histogram",
         "x": [
          "LifestyleCinema & Actors/actresses",
          "Music",
          "Lifestyle",
          "LifestyleMusic",
          "LifestyleMusic"
         ],
         "xaxis": "x",
         "yaxis": "y"
        },
        {
         "alignmentgroup": "True",
         "bingroup": "x",
         "hovertemplate": "Followers=39.5M<br>Category=%{x}<br>count=%{y}<extra></extra>",
         "legendgroup": "39.5M",
         "marker": {
          "color": "#636efa",
          "pattern": {
           "shape": ""
          }
         },
         "name": "39.5M",
         "offsetgroup": "39.5M",
         "orientation": "v",
         "showlegend": true,
         "texttemplate": "%{value}",
         "type": "histogram",
         "x": [
          "Music",
          "Sports with a ball"
         ],
         "xaxis": "x",
         "yaxis": "y"
        },
        {
         "alignmentgroup": "True",
         "bingroup": "x",
         "hovertemplate": "Followers=46.1M<br>Category=%{x}<br>count=%{y}<extra></extra>",
         "legendgroup": "46.1M",
         "marker": {
          "color": "#EF553B",
          "pattern": {
           "shape": ""
          }
         },
         "name": "46.1M",
         "offsetgroup": "46.1M",
         "orientation": "v",
         "showlegend": true,
         "texttemplate": "%{value}",
         "type": "histogram",
         "x": [
          "Cinema & Actors/actresses"
         ],
         "xaxis": "x",
         "yaxis": "y"
        },
        {
         "alignmentgroup": "True",
         "bingroup": "x",
         "hovertemplate": "Followers=19.2M<br>Category=%{x}<br>count=%{y}<extra></extra>",
         "legendgroup": "19.2M",
         "marker": {
          "color": "#00cc96",
          "pattern": {
           "shape": ""
          }
         },
         "name": "19.2M",
         "offsetgroup": "19.2M",
         "orientation": "v",
         "showlegend": true,
         "texttemplate": "%{value}",
         "type": "histogram",
         "x": [
          "Music"
         ],
         "xaxis": "x",
         "yaxis": "y"
        },
        {
         "alignmentgroup": "True",
         "bingroup": "x",
         "hovertemplate": "Followers=17.5M<br>Category=%{x}<br>count=%{y}<extra></extra>",
         "legendgroup": "17.5M",
         "marker": {
          "color": "#ab63fa",
          "pattern": {
           "shape": ""
          }
         },
         "name": "17.5M",
         "offsetgroup": "17.5M",
         "orientation": "v",
         "showlegend": true,
         "texttemplate": "%{value}",
         "type": "histogram",
         "x": [
          "Business & Careers",
          "Sports with a ball"
         ],
         "xaxis": "x",
         "yaxis": "y"
        },
        {
         "alignmentgroup": "True",
         "bingroup": "x",
         "hovertemplate": "Followers=29.8M<br>Category=%{x}<br>count=%{y}<extra></extra>",
         "legendgroup": "29.8M",
         "marker": {
          "color": "#FFA15A",
          "pattern": {
           "shape": ""
          }
         },
         "name": "29.8M",
         "offsetgroup": "29.8M",
         "orientation": "v",
         "showlegend": true,
         "texttemplate": "%{value}",
         "type": "histogram",
         "x": [
          "Cinema & Actors/actresses"
         ],
         "xaxis": "x",
         "yaxis": "y"
        },
        {
         "alignmentgroup": "True",
         "bingroup": "x",
         "hovertemplate": "Followers=36.4M<br>Category=%{x}<br>count=%{y}<extra></extra>",
         "legendgroup": "36.4M",
         "marker": {
          "color": "#19d3f3",
          "pattern": {
           "shape": ""
          }
         },
         "name": "36.4M",
         "offsetgroup": "36.4M",
         "orientation": "v",
         "showlegend": true,
         "texttemplate": "%{value}",
         "type": "histogram",
         "x": [
          "Sports with a ball"
         ],
         "xaxis": "x",
         "yaxis": "y"
        },
        {
         "alignmentgroup": "True",
         "bingroup": "x",
         "hovertemplate": "Followers=9.5M<br>Category=%{x}<br>count=%{y}<extra></extra>",
         "legendgroup": "9.5M",
         "marker": {
          "color": "#FF6692",
          "pattern": {
           "shape": ""
          }
         },
         "name": "9.5M",
         "offsetgroup": "9.5M",
         "orientation": "v",
         "showlegend": true,
         "texttemplate": "%{value}",
         "type": "histogram",
         "x": [
          "Management & MarketingMusic",
          "MusicCinema & Actors/actresses",
          "Music",
          "Lifestyle"
         ],
         "xaxis": "x",
         "yaxis": "y"
        },
        {
         "alignmentgroup": "True",
         "bingroup": "x",
         "hovertemplate": "Followers=7.1M<br>Category=%{x}<br>count=%{y}<extra></extra>",
         "legendgroup": "7.1M",
         "marker": {
          "color": "#B6E880",
          "pattern": {
           "shape": ""
          }
         },
         "name": "7.1M",
         "offsetgroup": "7.1M",
         "orientation": "v",
         "showlegend": true,
         "texttemplate": "%{value}",
         "type": "histogram",
         "x": [
          "Cinema & Actors/actressesLifestyle",
          "FamilyLifestyleShows",
          "ModelingLifestyle",
          "BeautyLifestyleFashion"
         ],
         "xaxis": "x",
         "yaxis": "y"
        },
        {
         "alignmentgroup": "True",
         "bingroup": "x",
         "hovertemplate": "Followers=7.4M<br>Category=%{x}<br>count=%{y}<extra></extra>",
         "legendgroup": "7.4M",
         "marker": {
          "color": "#FF97FF",
          "pattern": {
           "shape": ""
          }
         },
         "name": "7.4M",
         "offsetgroup": "7.4M",
         "orientation": "v",
         "showlegend": true,
         "texttemplate": "%{value}",
         "type": "histogram",
         "x": [
          "Humor & Fun & Happiness",
          "Sports with a ball",
          "Family",
          "MusicCinema & Actors/actresses",
          "LifestyleMusic",
          "Cinema & Actors/actresses",
          "LifestyleSports with a ball",
          "Computers & GadgetsMachinery & Technologies",
          "Shows"
         ],
         "xaxis": "x",
         "yaxis": "y"
        },
        {
         "alignmentgroup": "True",
         "bingroup": "x",
         "hovertemplate": "Followers=11.8M<br>Category=%{x}<br>count=%{y}<extra></extra>",
         "legendgroup": "11.8M",
         "marker": {
          "color": "#FECB52",
          "pattern": {
           "shape": ""
          }
         },
         "name": "11.8M",
         "offsetgroup": "11.8M",
         "orientation": "v",
         "showlegend": true,
         "texttemplate": "%{value}",
         "type": "histogram",
         "x": [
          "LifestyleFamily",
          "Cinema & Actors/actressesModelingFashion"
         ],
         "xaxis": "x",
         "yaxis": "y"
        },
        {
         "alignmentgroup": "True",
         "bingroup": "x",
         "hovertemplate": "Followers=22.7M<br>Category=%{x}<br>count=%{y}<extra></extra>",
         "legendgroup": "22.7M",
         "marker": {
          "color": "#636efa",
          "pattern": {
           "shape": ""
          }
         },
         "name": "22.7M",
         "offsetgroup": "22.7M",
         "orientation": "v",
         "showlegend": true,
         "texttemplate": "%{value}",
         "type": "histogram",
         "x": [
          "MusicArt/ArtistsCinema & Actors/actresses",
          "MusicCinema & Actors/actressesModeling",
          "MusicCinema & Actors/actresses"
         ],
         "xaxis": "x",
         "yaxis": "y"
        },
        {
         "alignmentgroup": "True",
         "bingroup": "x",
         "hovertemplate": "Followers=11.5M<br>Category=%{x}<br>count=%{y}<extra></extra>",
         "legendgroup": "11.5M",
         "marker": {
          "color": "#EF553B",
          "pattern": {
           "shape": ""
          }
         },
         "name": "11.5M",
         "offsetgroup": "11.5M",
         "orientation": "v",
         "showlegend": true,
         "texttemplate": "%{value}",
         "type": "histogram",
         "x": [
          "Lifestyle",
          "BeautyCinema & Actors/actressesModeling",
          "Sports with a ball",
          "Sports with a ball"
         ],
         "xaxis": "x",
         "yaxis": "y"
        },
        {
         "alignmentgroup": "True",
         "bingroup": "x",
         "hovertemplate": "Followers=33.5M<br>Category=%{x}<br>count=%{y}<extra></extra>",
         "legendgroup": "33.5M",
         "marker": {
          "color": "#00cc96",
          "pattern": {
           "shape": ""
          }
         },
         "name": "33.5M",
         "offsetgroup": "33.5M",
         "orientation": "v",
         "showlegend": true,
         "texttemplate": "%{value}",
         "type": "histogram",
         "x": [
          "Fitness & Gym"
         ],
         "xaxis": "x",
         "yaxis": "y"
        },
        {
         "alignmentgroup": "True",
         "bingroup": "x",
         "hovertemplate": "Followers=43.8M<br>Category=%{x}<br>count=%{y}<extra></extra>",
         "legendgroup": "43.8M",
         "marker": {
          "color": "#ab63fa",
          "pattern": {
           "shape": ""
          }
         },
         "name": "43.8M",
         "offsetgroup": "43.8M",
         "orientation": "v",
         "showlegend": true,
         "texttemplate": "%{value}",
         "type": "histogram",
         "x": [
          "Music"
         ],
         "xaxis": "x",
         "yaxis": "y"
        },
        {
         "alignmentgroup": "True",
         "bingroup": "x",
         "hovertemplate": "Followers=9.7M<br>Category=%{x}<br>count=%{y}<extra></extra>",
         "legendgroup": "9.7M",
         "marker": {
          "color": "#FFA15A",
          "pattern": {
           "shape": ""
          }
         },
         "name": "9.7M",
         "offsetgroup": "9.7M",
         "orientation": "v",
         "showlegend": true,
         "texttemplate": "%{value}",
         "type": "histogram",
         "x": [
          "MusicShows",
          "Lifestyle",
          "Music"
         ],
         "xaxis": "x",
         "yaxis": "y"
        },
        {
         "alignmentgroup": "True",
         "bingroup": "x",
         "hovertemplate": "Followers=43.4M<br>Category=%{x}<br>count=%{y}<extra></extra>",
         "legendgroup": "43.4M",
         "marker": {
          "color": "#19d3f3",
          "pattern": {
           "shape": ""
          }
         },
         "name": "43.4M",
         "offsetgroup": "43.4M",
         "orientation": "v",
         "showlegend": true,
         "texttemplate": "%{value}",
         "type": "histogram",
         "x": [
          "Music"
         ],
         "xaxis": "x",
         "yaxis": "y"
        },
        {
         "alignmentgroup": "True",
         "bingroup": "x",
         "hovertemplate": "Followers=45.2M<br>Category=%{x}<br>count=%{y}<extra></extra>",
         "legendgroup": "45.2M",
         "marker": {
          "color": "#FF6692",
          "pattern": {
           "shape": ""
          }
         },
         "name": "45.2M",
         "offsetgroup": "45.2M",
         "orientation": "v",
         "showlegend": true,
         "texttemplate": "%{value}",
         "type": "histogram",
         "x": [
          "Sports with a ballClothing & Outfits"
         ],
         "xaxis": "x",
         "yaxis": "y"
        },
        {
         "alignmentgroup": "True",
         "bingroup": "x",
         "hovertemplate": "Followers=30.5M<br>Category=%{x}<br>count=%{y}<extra></extra>",
         "legendgroup": "30.5M",
         "marker": {
          "color": "#B6E880",
          "pattern": {
           "shape": ""
          }
         },
         "name": "30.5M",
         "offsetgroup": "30.5M",
         "orientation": "v",
         "showlegend": true,
         "texttemplate": "%{value}",
         "type": "histogram",
         "x": [
          "Cinema & Actors/actresses"
         ],
         "xaxis": "x",
         "yaxis": "y"
        },
        {
         "alignmentgroup": "True",
         "bingroup": "x",
         "hovertemplate": "Followers=28.4M<br>Category=%{x}<br>count=%{y}<extra></extra>",
         "legendgroup": "28.4M",
         "marker": {
          "color": "#FF97FF",
          "pattern": {
           "shape": ""
          }
         },
         "name": "28.4M",
         "offsetgroup": "28.4M",
         "orientation": "v",
         "showlegend": true,
         "texttemplate": "%{value}",
         "type": "histogram",
         "x": [
          "Cinema & Actors/actressesModeling",
          "Fitness & Gym"
         ],
         "xaxis": "x",
         "yaxis": "y"
        },
        {
         "alignmentgroup": "True",
         "bingroup": "x",
         "hovertemplate": "Followers=11.4M<br>Category=%{x}<br>count=%{y}<extra></extra>",
         "legendgroup": "11.4M",
         "marker": {
          "color": "#FECB52",
          "pattern": {
           "shape": ""
          }
         },
         "name": "11.4M",
         "offsetgroup": "11.4M",
         "orientation": "v",
         "showlegend": true,
         "texttemplate": "%{value}",
         "type": "histogram",
         "x": [
          "MusicArt/ArtistsCinema & Actors/actresses",
          "MusicCinema & Actors/actressesFashion"
         ],
         "xaxis": "x",
         "yaxis": "y"
        },
        {
         "alignmentgroup": "True",
         "bingroup": "x",
         "hovertemplate": "Followers=11.7M<br>Category=%{x}<br>count=%{y}<extra></extra>",
         "legendgroup": "11.7M",
         "marker": {
          "color": "#636efa",
          "pattern": {
           "shape": ""
          }
         },
         "name": "11.7M",
         "offsetgroup": "11.7M",
         "orientation": "v",
         "showlegend": true,
         "texttemplate": "%{value}",
         "type": "histogram",
         "x": [
          "Literature & JournalismTrainers & Coaches",
          "LifestyleArt/Artists",
          "Cinema & Actors/actresses",
          "Music"
         ],
         "xaxis": "x",
         "yaxis": "y"
        },
        {
         "alignmentgroup": "True",
         "bingroup": "x",
         "hovertemplate": "Followers=8.6M<br>Category=%{x}<br>count=%{y}<extra></extra>",
         "legendgroup": "8.6M",
         "marker": {
          "color": "#EF553B",
          "pattern": {
           "shape": ""
          }
         },
         "name": "8.6M",
         "offsetgroup": "8.6M",
         "orientation": "v",
         "showlegend": true,
         "texttemplate": "%{value}",
         "type": "histogram",
         "x": [
          "Literature & JournalismShows",
          "Sports with a ball",
          "LifestyleBeauty",
          null
         ],
         "xaxis": "x",
         "yaxis": "y"
        },
        {
         "alignmentgroup": "True",
         "bingroup": "x",
         "hovertemplate": "Followers=33.3M<br>Category=%{x}<br>count=%{y}<extra></extra>",
         "legendgroup": "33.3M",
         "marker": {
          "color": "#00cc96",
          "pattern": {
           "shape": ""
          }
         },
         "name": "33.3M",
         "offsetgroup": "33.3M",
         "orientation": "v",
         "showlegend": true,
         "texttemplate": "%{value}",
         "type": "histogram",
         "x": [
          "Sports with a ball"
         ],
         "xaxis": "x",
         "yaxis": "y"
        },
        {
         "alignmentgroup": "True",
         "bingroup": "x",
         "hovertemplate": "Followers=29.3M<br>Category=%{x}<br>count=%{y}<extra></extra>",
         "legendgroup": "29.3M",
         "marker": {
          "color": "#ab63fa",
          "pattern": {
           "shape": ""
          }
         },
         "name": "29.3M",
         "offsetgroup": "29.3M",
         "orientation": "v",
         "showlegend": true,
         "texttemplate": "%{value}",
         "type": "histogram",
         "x": [
          "Cinema & Actors/actresses"
         ],
         "xaxis": "x",
         "yaxis": "y"
        },
        {
         "alignmentgroup": "True",
         "bingroup": "x",
         "hovertemplate": "Followers=24.9M<br>Category=%{x}<br>count=%{y}<extra></extra>",
         "legendgroup": "24.9M",
         "marker": {
          "color": "#FFA15A",
          "pattern": {
           "shape": ""
          }
         },
         "name": "24.9M",
         "offsetgroup": "24.9M",
         "orientation": "v",
         "showlegend": true,
         "texttemplate": "%{value}",
         "type": "histogram",
         "x": [
          "Sports with a ball"
         ],
         "xaxis": "x",
         "yaxis": "y"
        },
        {
         "alignmentgroup": "True",
         "bingroup": "x",
         "hovertemplate": "Followers=8.8M<br>Category=%{x}<br>count=%{y}<extra></extra>",
         "legendgroup": "8.8M",
         "marker": {
          "color": "#19d3f3",
          "pattern": {
           "shape": ""
          }
         },
         "name": "8.8M",
         "offsetgroup": "8.8M",
         "orientation": "v",
         "showlegend": true,
         "texttemplate": "%{value}",
         "type": "histogram",
         "x": [
          null,
          "ShowsCinema & Actors/actressesLifestyle",
          "Music",
          "Cinema & Actors/actresses",
          "Humor & Fun & HappinessLifestyleBeauty"
         ],
         "xaxis": "x",
         "yaxis": "y"
        },
        {
         "alignmentgroup": "True",
         "bingroup": "x",
         "hovertemplate": "Followers=3.7M<br>Category=%{x}<br>count=%{y}<extra></extra>",
         "legendgroup": "3.7M",
         "marker": {
          "color": "#FF6692",
          "pattern": {
           "shape": ""
          }
         },
         "name": "3.7M",
         "offsetgroup": "3.7M",
         "orientation": "v",
         "showlegend": true,
         "texttemplate": "%{value}",
         "type": "histogram",
         "x": [
          "Lifestyle",
          "LifestyleMusicSports with a ball",
          "Lifestyle",
          "Lifestyle",
          "Lifestyle"
         ],
         "xaxis": "x",
         "yaxis": "y"
        },
        {
         "alignmentgroup": "True",
         "bingroup": "x",
         "hovertemplate": "Followers=47.4M<br>Category=%{x}<br>count=%{y}<extra></extra>",
         "legendgroup": "47.4M",
         "marker": {
          "color": "#B6E880",
          "pattern": {
           "shape": ""
          }
         },
         "name": "47.4M",
         "offsetgroup": "47.4M",
         "orientation": "v",
         "showlegend": true,
         "texttemplate": "%{value}",
         "type": "histogram",
         "x": [
          "Finance & Economics"
         ],
         "xaxis": "x",
         "yaxis": "y"
        },
        {
         "alignmentgroup": "True",
         "bingroup": "x",
         "hovertemplate": "Followers=46.9M<br>Category=%{x}<br>count=%{y}<extra></extra>",
         "legendgroup": "46.9M",
         "marker": {
          "color": "#FF97FF",
          "pattern": {
           "shape": ""
          }
         },
         "name": "46.9M",
         "offsetgroup": "46.9M",
         "orientation": "v",
         "showlegend": true,
         "texttemplate": "%{value}",
         "type": "histogram",
         "x": [
          "Food & Cooking"
         ],
         "xaxis": "x",
         "yaxis": "y"
        },
        {
         "alignmentgroup": "True",
         "bingroup": "x",
         "hovertemplate": "Followers=25.9M<br>Category=%{x}<br>count=%{y}<extra></extra>",
         "legendgroup": "25.9M",
         "marker": {
          "color": "#FECB52",
          "pattern": {
           "shape": ""
          }
         },
         "name": "25.9M",
         "offsetgroup": "25.9M",
         "orientation": "v",
         "showlegend": true,
         "texttemplate": "%{value}",
         "type": "histogram",
         "x": [
          "Computers & Gadgets"
         ],
         "xaxis": "x",
         "yaxis": "y"
        },
        {
         "alignmentgroup": "True",
         "bingroup": "x",
         "hovertemplate": "Followers=20.1M<br>Category=%{x}<br>count=%{y}<extra></extra>",
         "legendgroup": "20.1M",
         "marker": {
          "color": "#636efa",
          "pattern": {
           "shape": ""
          }
         },
         "name": "20.1M",
         "offsetgroup": "20.1M",
         "orientation": "v",
         "showlegend": true,
         "texttemplate": "%{value}",
         "type": "histogram",
         "x": [
          "ShowsCinema & Actors/actresses",
          "Cinema & Actors/actresses",
          "Beauty"
         ],
         "xaxis": "x",
         "yaxis": "y"
        },
        {
         "alignmentgroup": "True",
         "bingroup": "x",
         "hovertemplate": "Followers=9.2M<br>Category=%{x}<br>count=%{y}<extra></extra>",
         "legendgroup": "9.2M",
         "marker": {
          "color": "#EF553B",
          "pattern": {
           "shape": ""
          }
         },
         "name": "9.2M",
         "offsetgroup": "9.2M",
         "orientation": "v",
         "showlegend": true,
         "texttemplate": "%{value}",
         "type": "histogram",
         "x": [
          "Cinema & Actors/actresses",
          "Music",
          "Sports with a ball",
          "Shows"
         ],
         "xaxis": "x",
         "yaxis": "y"
        },
        {
         "alignmentgroup": "True",
         "bingroup": "x",
         "hovertemplate": "Followers=53.6M<br>Category=%{x}<br>count=%{y}<extra></extra>",
         "legendgroup": "53.6M",
         "marker": {
          "color": "#00cc96",
          "pattern": {
           "shape": ""
          }
         },
         "name": "53.6M",
         "offsetgroup": "53.6M",
         "orientation": "v",
         "showlegend": true,
         "texttemplate": "%{value}",
         "type": "histogram",
         "x": [
          "Cinema & Actors/actressesFamily"
         ],
         "xaxis": "x",
         "yaxis": "y"
        },
        {
         "alignmentgroup": "True",
         "bingroup": "x",
         "hovertemplate": "Followers=54.2M<br>Category=%{x}<br>count=%{y}<extra></extra>",
         "legendgroup": "54.2M",
         "marker": {
          "color": "#ab63fa",
          "pattern": {
           "shape": ""
          }
         },
         "name": "54.2M",
         "offsetgroup": "54.2M",
         "orientation": "v",
         "showlegend": true,
         "texttemplate": "%{value}",
         "type": "histogram",
         "x": [
          "Cinema & Actors/actresses"
         ],
         "xaxis": "x",
         "yaxis": "y"
        },
        {
         "alignmentgroup": "True",
         "bingroup": "x",
         "hovertemplate": "Followers=21.1M<br>Category=%{x}<br>count=%{y}<extra></extra>",
         "legendgroup": "21.1M",
         "marker": {
          "color": "#FFA15A",
          "pattern": {
           "shape": ""
          }
         },
         "name": "21.1M",
         "offsetgroup": "21.1M",
         "orientation": "v",
         "showlegend": true,
         "texttemplate": "%{value}",
         "type": "histogram",
         "x": [
          "Cinema & Actors/actresses"
         ],
         "xaxis": "x",
         "yaxis": "y"
        },
        {
         "alignmentgroup": "True",
         "bingroup": "x",
         "hovertemplate": "Followers=4.7M<br>Category=%{x}<br>count=%{y}<extra></extra>",
         "legendgroup": "4.7M",
         "marker": {
          "color": "#19d3f3",
          "pattern": {
           "shape": ""
          }
         },
         "name": "4.7M",
         "offsetgroup": "4.7M",
         "orientation": "v",
         "showlegend": true,
         "texttemplate": "%{value}",
         "type": "histogram",
         "x": [
          null,
          "LifestyleMusicArt/Artists"
         ],
         "xaxis": "x",
         "yaxis": "y"
        },
        {
         "alignmentgroup": "True",
         "bingroup": "x",
         "hovertemplate": "Followers=5.2M<br>Category=%{x}<br>count=%{y}<extra></extra>",
         "legendgroup": "5.2M",
         "marker": {
          "color": "#FF6692",
          "pattern": {
           "shape": ""
          }
         },
         "name": "5.2M",
         "offsetgroup": "5.2M",
         "orientation": "v",
         "showlegend": true,
         "texttemplate": "%{value}",
         "type": "histogram",
         "x": [
          "Shows",
          "ShowsMusic"
         ],
         "xaxis": "x",
         "yaxis": "y"
        },
        {
         "alignmentgroup": "True",
         "bingroup": "x",
         "hovertemplate": "Followers=6.1M<br>Category=%{x}<br>count=%{y}<extra></extra>",
         "legendgroup": "6.1M",
         "marker": {
          "color": "#B6E880",
          "pattern": {
           "shape": ""
          }
         },
         "name": "6.1M",
         "offsetgroup": "6.1M",
         "orientation": "v",
         "showlegend": true,
         "texttemplate": "%{value}",
         "type": "histogram",
         "x": [
          "Lifestyle",
          "Cinema & Actors/actresses",
          "LifestyleShowsComputers & Gadgets",
          "Lifestyle",
          "Beauty",
          null,
          "Cinema & Actors/actresses"
         ],
         "xaxis": "x",
         "yaxis": "y"
        },
        {
         "alignmentgroup": "True",
         "bingroup": "x",
         "hovertemplate": "Followers=26.7M<br>Category=%{x}<br>count=%{y}<extra></extra>",
         "legendgroup": "26.7M",
         "marker": {
          "color": "#FF97FF",
          "pattern": {
           "shape": ""
          }
         },
         "name": "26.7M",
         "offsetgroup": "26.7M",
         "orientation": "v",
         "showlegend": true,
         "texttemplate": "%{value}",
         "type": "histogram",
         "x": [
          "Sports with a ball"
         ],
         "xaxis": "x",
         "yaxis": "y"
        },
        {
         "alignmentgroup": "True",
         "bingroup": "x",
         "hovertemplate": "Followers=7M<br>Category=%{x}<br>count=%{y}<extra></extra>",
         "legendgroup": "7M",
         "marker": {
          "color": "#FECB52",
          "pattern": {
           "shape": ""
          }
         },
         "name": "7M",
         "offsetgroup": "7M",
         "orientation": "v",
         "showlegend": true,
         "texttemplate": "%{value}",
         "type": "histogram",
         "x": [
          "LifestyleMusic",
          "LifestylePhotography",
          "Music",
          "ModelingMusic",
          "Family",
          "Family",
          "LifestyleModeling"
         ],
         "xaxis": "x",
         "yaxis": "y"
        },
        {
         "alignmentgroup": "True",
         "bingroup": "x",
         "hovertemplate": "Followers=11.3M<br>Category=%{x}<br>count=%{y}<extra></extra>",
         "legendgroup": "11.3M",
         "marker": {
          "color": "#636efa",
          "pattern": {
           "shape": ""
          }
         },
         "name": "11.3M",
         "offsetgroup": "11.3M",
         "orientation": "v",
         "showlegend": true,
         "texttemplate": "%{value}",
         "type": "histogram",
         "x": [
          "FashionModeling",
          "Cinema & Actors/actresses"
         ],
         "xaxis": "x",
         "yaxis": "y"
        },
        {
         "alignmentgroup": "True",
         "bingroup": "x",
         "hovertemplate": "Followers=3.9M<br>Category=%{x}<br>count=%{y}<extra></extra>",
         "legendgroup": "3.9M",
         "marker": {
          "color": "#EF553B",
          "pattern": {
           "shape": ""
          }
         },
         "name": "3.9M",
         "offsetgroup": "3.9M",
         "orientation": "v",
         "showlegend": true,
         "texttemplate": "%{value}",
         "type": "histogram",
         "x": [
          null,
          null,
          "Music"
         ],
         "xaxis": "x",
         "yaxis": "y"
        },
        {
         "alignmentgroup": "True",
         "bingroup": "x",
         "hovertemplate": "Followers=10.4M<br>Category=%{x}<br>count=%{y}<extra></extra>",
         "legendgroup": "10.4M",
         "marker": {
          "color": "#00cc96",
          "pattern": {
           "shape": ""
          }
         },
         "name": "10.4M",
         "offsetgroup": "10.4M",
         "orientation": "v",
         "showlegend": true,
         "texttemplate": "%{value}",
         "type": "histogram",
         "x": [
          "Cinema & Actors/actresses",
          "Shows",
          "LifestyleBeauty",
          "Cinema & Actors/actresses"
         ],
         "xaxis": "x",
         "yaxis": "y"
        },
        {
         "alignmentgroup": "True",
         "bingroup": "x",
         "hovertemplate": "Followers=10.6M<br>Category=%{x}<br>count=%{y}<extra></extra>",
         "legendgroup": "10.6M",
         "marker": {
          "color": "#ab63fa",
          "pattern": {
           "shape": ""
          }
         },
         "name": "10.6M",
         "offsetgroup": "10.6M",
         "orientation": "v",
         "showlegend": true,
         "texttemplate": "%{value}",
         "type": "histogram",
         "x": [
          "Sports with a ball",
          null,
          "MusicShows",
          "Cinema & Actors/actresses",
          "ShowsCinema & Actors/actressesModeling"
         ],
         "xaxis": "x",
         "yaxis": "y"
        },
        {
         "alignmentgroup": "True",
         "bingroup": "x",
         "hovertemplate": "Followers=4.2M<br>Category=%{x}<br>count=%{y}<extra></extra>",
         "legendgroup": "4.2M",
         "marker": {
          "color": "#FFA15A",
          "pattern": {
           "shape": ""
          }
         },
         "name": "4.2M",
         "offsetgroup": "4.2M",
         "orientation": "v",
         "showlegend": true,
         "texttemplate": "%{value}",
         "type": "histogram",
         "x": [
          "Music",
          null,
          "Lifestyle"
         ],
         "xaxis": "x",
         "yaxis": "y"
        },
        {
         "alignmentgroup": "True",
         "bingroup": "x",
         "hovertemplate": "Followers=57.9M<br>Category=%{x}<br>count=%{y}<extra></extra>",
         "legendgroup": "57.9M",
         "marker": {
          "color": "#19d3f3",
          "pattern": {
           "shape": ""
          }
         },
         "name": "57.9M",
         "offsetgroup": "57.9M",
         "orientation": "v",
         "showlegend": true,
         "texttemplate": "%{value}",
         "type": "histogram",
         "x": [
          "Sports with a ball"
         ],
         "xaxis": "x",
         "yaxis": "y"
        },
        {
         "alignmentgroup": "True",
         "bingroup": "x",
         "hovertemplate": "Followers=4.3M<br>Category=%{x}<br>count=%{y}<extra></extra>",
         "legendgroup": "4.3M",
         "marker": {
          "color": "#FF6692",
          "pattern": {
           "shape": ""
          }
         },
         "name": "4.3M",
         "offsetgroup": "4.3M",
         "orientation": "v",
         "showlegend": true,
         "texttemplate": "%{value}",
         "type": "histogram",
         "x": [
          "Cinema & Actors/actresses",
          "Lifestyle"
         ],
         "xaxis": "x",
         "yaxis": "y"
        },
        {
         "alignmentgroup": "True",
         "bingroup": "x",
         "hovertemplate": "Followers=34.2M<br>Category=%{x}<br>count=%{y}<extra></extra>",
         "legendgroup": "34.2M",
         "marker": {
          "color": "#B6E880",
          "pattern": {
           "shape": ""
          }
         },
         "name": "34.2M",
         "offsetgroup": "34.2M",
         "orientation": "v",
         "showlegend": true,
         "texttemplate": "%{value}",
         "type": "histogram",
         "x": [
          "Sports with a ball"
         ],
         "xaxis": "x",
         "yaxis": "y"
        },
        {
         "alignmentgroup": "True",
         "bingroup": "x",
         "hovertemplate": "Followers=54M<br>Category=%{x}<br>count=%{y}<extra></extra>",
         "legendgroup": "54M",
         "marker": {
          "color": "#FF97FF",
          "pattern": {
           "shape": ""
          }
         },
         "name": "54M",
         "offsetgroup": "54M",
         "orientation": "v",
         "showlegend": true,
         "texttemplate": "%{value}",
         "type": "histogram",
         "x": [
          "Sports with a ball"
         ],
         "xaxis": "x",
         "yaxis": "y"
        },
        {
         "alignmentgroup": "True",
         "bingroup": "x",
         "hovertemplate": "Followers=14.5M<br>Category=%{x}<br>count=%{y}<extra></extra>",
         "legendgroup": "14.5M",
         "marker": {
          "color": "#FECB52",
          "pattern": {
           "shape": ""
          }
         },
         "name": "14.5M",
         "offsetgroup": "14.5M",
         "orientation": "v",
         "showlegend": true,
         "texttemplate": "%{value}",
         "type": "histogram",
         "x": [
          "Cinema & Actors/actresses",
          "Sports with a ball",
          "Sports with a ball"
         ],
         "xaxis": "x",
         "yaxis": "y"
        },
        {
         "alignmentgroup": "True",
         "bingroup": "x",
         "hovertemplate": "Followers=24M<br>Category=%{x}<br>count=%{y}<extra></extra>",
         "legendgroup": "24M",
         "marker": {
          "color": "#636efa",
          "pattern": {
           "shape": ""
          }
         },
         "name": "24M",
         "offsetgroup": "24M",
         "orientation": "v",
         "showlegend": true,
         "texttemplate": "%{value}",
         "type": "histogram",
         "x": [
          "Humor & Fun & Happiness"
         ],
         "xaxis": "x",
         "yaxis": "y"
        },
        {
         "alignmentgroup": "True",
         "bingroup": "x",
         "hovertemplate": "Followers=74.6M<br>Category=%{x}<br>count=%{y}<extra></extra>",
         "legendgroup": "74.6M",
         "marker": {
          "color": "#EF553B",
          "pattern": {
           "shape": ""
          }
         },
         "name": "74.6M",
         "offsetgroup": "74.6M",
         "orientation": "v",
         "showlegend": true,
         "texttemplate": "%{value}",
         "type": "histogram",
         "x": [
          "LifestyleMusic"
         ],
         "xaxis": "x",
         "yaxis": "y"
        },
        {
         "alignmentgroup": "True",
         "bingroup": "x",
         "hovertemplate": "Followers=34.3M<br>Category=%{x}<br>count=%{y}<extra></extra>",
         "legendgroup": "34.3M",
         "marker": {
          "color": "#00cc96",
          "pattern": {
           "shape": ""
          }
         },
         "name": "34.3M",
         "offsetgroup": "34.3M",
         "orientation": "v",
         "showlegend": true,
         "texttemplate": "%{value}",
         "type": "histogram",
         "x": [
          "Sports with a ball"
         ],
         "xaxis": "x",
         "yaxis": "y"
        },
        {
         "alignmentgroup": "True",
         "bingroup": "x",
         "hovertemplate": "Followers=5M<br>Category=%{x}<br>count=%{y}<extra></extra>",
         "legendgroup": "5M",
         "marker": {
          "color": "#ab63fa",
          "pattern": {
           "shape": ""
          }
         },
         "name": "5M",
         "offsetgroup": "5M",
         "orientation": "v",
         "showlegend": true,
         "texttemplate": "%{value}",
         "type": "histogram",
         "x": [
          "Cinema & Actors/actresses",
          "Sports with a ball",
          "MusicArt/Artists",
          "Music",
          "Modeling"
         ],
         "xaxis": "x",
         "yaxis": "y"
        },
        {
         "alignmentgroup": "True",
         "bingroup": "x",
         "hovertemplate": "Followers=8.9M<br>Category=%{x}<br>count=%{y}<extra></extra>",
         "legendgroup": "8.9M",
         "marker": {
          "color": "#FFA15A",
          "pattern": {
           "shape": ""
          }
         },
         "name": "8.9M",
         "offsetgroup": "8.9M",
         "orientation": "v",
         "showlegend": true,
         "texttemplate": "%{value}",
         "type": "histogram",
         "x": [
          "Fitness & Gym"
         ],
         "xaxis": "x",
         "yaxis": "y"
        },
        {
         "alignmentgroup": "True",
         "bingroup": "x",
         "hovertemplate": "Followers=18.6M<br>Category=%{x}<br>count=%{y}<extra></extra>",
         "legendgroup": "18.6M",
         "marker": {
          "color": "#19d3f3",
          "pattern": {
           "shape": ""
          }
         },
         "name": "18.6M",
         "offsetgroup": "18.6M",
         "orientation": "v",
         "showlegend": true,
         "texttemplate": "%{value}",
         "type": "histogram",
         "x": [
          "Shows"
         ],
         "xaxis": "x",
         "yaxis": "y"
        },
        {
         "alignmentgroup": "True",
         "bingroup": "x",
         "hovertemplate": "Followers=4.4M<br>Category=%{x}<br>count=%{y}<extra></extra>",
         "legendgroup": "4.4M",
         "marker": {
          "color": "#FF6692",
          "pattern": {
           "shape": ""
          }
         },
         "name": "4.4M",
         "offsetgroup": "4.4M",
         "orientation": "v",
         "showlegend": true,
         "texttemplate": "%{value}",
         "type": "histogram",
         "x": [
          "Music",
          "Cinema & Actors/actresses",
          "Music"
         ],
         "xaxis": "x",
         "yaxis": "y"
        },
        {
         "alignmentgroup": "True",
         "bingroup": "x",
         "hovertemplate": "Followers=2.5M<br>Category=%{x}<br>count=%{y}<extra></extra>",
         "legendgroup": "2.5M",
         "marker": {
          "color": "#B6E880",
          "pattern": {
           "shape": ""
          }
         },
         "name": "2.5M",
         "offsetgroup": "2.5M",
         "orientation": "v",
         "showlegend": true,
         "texttemplate": "%{value}",
         "type": "histogram",
         "x": [
          null,
          null
         ],
         "xaxis": "x",
         "yaxis": "y"
        },
        {
         "alignmentgroup": "True",
         "bingroup": "x",
         "hovertemplate": "Followers=22.5M<br>Category=%{x}<br>count=%{y}<extra></extra>",
         "legendgroup": "22.5M",
         "marker": {
          "color": "#FF97FF",
          "pattern": {
           "shape": ""
          }
         },
         "name": "22.5M",
         "offsetgroup": "22.5M",
         "orientation": "v",
         "showlegend": true,
         "texttemplate": "%{value}",
         "type": "histogram",
         "x": [
          "Music"
         ],
         "xaxis": "x",
         "yaxis": "y"
        },
        {
         "alignmentgroup": "True",
         "bingroup": "x",
         "hovertemplate": "Followers=16.7M<br>Category=%{x}<br>count=%{y}<extra></extra>",
         "legendgroup": "16.7M",
         "marker": {
          "color": "#FECB52",
          "pattern": {
           "shape": ""
          }
         },
         "name": "16.7M",
         "offsetgroup": "16.7M",
         "orientation": "v",
         "showlegend": true,
         "texttemplate": "%{value}",
         "type": "histogram",
         "x": [
          "MusicCinema & Actors/actresses"
         ],
         "xaxis": "x",
         "yaxis": "y"
        },
        {
         "alignmentgroup": "True",
         "bingroup": "x",
         "hovertemplate": "Followers=4.5M<br>Category=%{x}<br>count=%{y}<extra></extra>",
         "legendgroup": "4.5M",
         "marker": {
          "color": "#636efa",
          "pattern": {
           "shape": ""
          }
         },
         "name": "4.5M",
         "offsetgroup": "4.5M",
         "orientation": "v",
         "showlegend": true,
         "texttemplate": "%{value}",
         "type": "histogram",
         "x": [
          null,
          "Cinema & Actors/actresses",
          "Literature & JournalismCinema & Actors/actresses"
         ],
         "xaxis": "x",
         "yaxis": "y"
        },
        {
         "alignmentgroup": "True",
         "bingroup": "x",
         "hovertemplate": "Followers=15.4M<br>Category=%{x}<br>count=%{y}<extra></extra>",
         "legendgroup": "15.4M",
         "marker": {
          "color": "#EF553B",
          "pattern": {
           "shape": ""
          }
         },
         "name": "15.4M",
         "offsetgroup": "15.4M",
         "orientation": "v",
         "showlegend": true,
         "texttemplate": "%{value}",
         "type": "histogram",
         "x": [
          "Modeling",
          "Beauty"
         ],
         "xaxis": "x",
         "yaxis": "y"
        },
        {
         "alignmentgroup": "True",
         "bingroup": "x",
         "hovertemplate": "Followers=3.8M<br>Category=%{x}<br>count=%{y}<extra></extra>",
         "legendgroup": "3.8M",
         "marker": {
          "color": "#00cc96",
          "pattern": {
           "shape": ""
          }
         },
         "name": "3.8M",
         "offsetgroup": "3.8M",
         "orientation": "v",
         "showlegend": true,
         "texttemplate": "%{value}",
         "type": "histogram",
         "x": [
          "Humor & Fun & Happiness",
          "Cinema & Actors/actresses"
         ],
         "xaxis": "x",
         "yaxis": "y"
        },
        {
         "alignmentgroup": "True",
         "bingroup": "x",
         "hovertemplate": "Followers=3M<br>Category=%{x}<br>count=%{y}<extra></extra>",
         "legendgroup": "3M",
         "marker": {
          "color": "#ab63fa",
          "pattern": {
           "shape": ""
          }
         },
         "name": "3M",
         "offsetgroup": "3M",
         "orientation": "v",
         "showlegend": true,
         "texttemplate": "%{value}",
         "type": "histogram",
         "x": [
          null,
          null,
          null,
          null
         ],
         "xaxis": "x",
         "yaxis": "y"
        },
        {
         "alignmentgroup": "True",
         "bingroup": "x",
         "hovertemplate": "Followers=21.5M<br>Category=%{x}<br>count=%{y}<extra></extra>",
         "legendgroup": "21.5M",
         "marker": {
          "color": "#FFA15A",
          "pattern": {
           "shape": ""
          }
         },
         "name": "21.5M",
         "offsetgroup": "21.5M",
         "orientation": "v",
         "showlegend": true,
         "texttemplate": "%{value}",
         "type": "histogram",
         "x": [
          "Cinema & Actors/actresses",
          "Humor & Fun & Happiness",
          "Family"
         ],
         "xaxis": "x",
         "yaxis": "y"
        },
        {
         "alignmentgroup": "True",
         "bingroup": "x",
         "hovertemplate": "Followers=12.4M<br>Category=%{x}<br>count=%{y}<extra></extra>",
         "legendgroup": "12.4M",
         "marker": {
          "color": "#19d3f3",
          "pattern": {
           "shape": ""
          }
         },
         "name": "12.4M",
         "offsetgroup": "12.4M",
         "orientation": "v",
         "showlegend": true,
         "texttemplate": "%{value}",
         "type": "histogram",
         "x": [
          null,
          "Sports with a ball"
         ],
         "xaxis": "x",
         "yaxis": "y"
        },
        {
         "alignmentgroup": "True",
         "bingroup": "x",
         "hovertemplate": "Followers=69M<br>Category=%{x}<br>count=%{y}<extra></extra>",
         "legendgroup": "69M",
         "marker": {
          "color": "#FF6692",
          "pattern": {
           "shape": ""
          }
         },
         "name": "69M",
         "offsetgroup": "69M",
         "orientation": "v",
         "showlegend": true,
         "texttemplate": "%{value}",
         "type": "histogram",
         "x": [
          "Sports with a ball"
         ],
         "xaxis": "x",
         "yaxis": "y"
        },
        {
         "alignmentgroup": "True",
         "bingroup": "x",
         "hovertemplate": "Followers=2.9M<br>Category=%{x}<br>count=%{y}<extra></extra>",
         "legendgroup": "2.9M",
         "marker": {
          "color": "#B6E880",
          "pattern": {
           "shape": ""
          }
         },
         "name": "2.9M",
         "offsetgroup": "2.9M",
         "orientation": "v",
         "showlegend": true,
         "texttemplate": "%{value}",
         "type": "histogram",
         "x": [
          null
         ],
         "xaxis": "x",
         "yaxis": "y"
        },
        {
         "alignmentgroup": "True",
         "bingroup": "x",
         "hovertemplate": "Followers=11.9M<br>Category=%{x}<br>count=%{y}<extra></extra>",
         "legendgroup": "11.9M",
         "marker": {
          "color": "#FF97FF",
          "pattern": {
           "shape": ""
          }
         },
         "name": "11.9M",
         "offsetgroup": "11.9M",
         "orientation": "v",
         "showlegend": true,
         "texttemplate": "%{value}",
         "type": "histogram",
         "x": [
          "Adult content",
          "Shows"
         ],
         "xaxis": "x",
         "yaxis": "y"
        },
        {
         "alignmentgroup": "True",
         "bingroup": "x",
         "hovertemplate": "Followers=15.6M<br>Category=%{x}<br>count=%{y}<extra></extra>",
         "legendgroup": "15.6M",
         "marker": {
          "color": "#FECB52",
          "pattern": {
           "shape": ""
          }
         },
         "name": "15.6M",
         "offsetgroup": "15.6M",
         "orientation": "v",
         "showlegend": true,
         "texttemplate": "%{value}",
         "type": "histogram",
         "x": [
          "Sports with a ballLifestyleKids & Toys",
          "Sports with a ball"
         ],
         "xaxis": "x",
         "yaxis": "y"
        },
        {
         "alignmentgroup": "True",
         "bingroup": "x",
         "hovertemplate": "Followers=7.7M<br>Category=%{x}<br>count=%{y}<extra></extra>",
         "legendgroup": "7.7M",
         "marker": {
          "color": "#636efa",
          "pattern": {
           "shape": ""
          }
         },
         "name": "7.7M",
         "offsetgroup": "7.7M",
         "orientation": "v",
         "showlegend": true,
         "texttemplate": "%{value}",
         "type": "histogram",
         "x": [
          "Lifestyle",
          "Beauty",
          "Modeling"
         ],
         "xaxis": "x",
         "yaxis": "y"
        },
        {
         "alignmentgroup": "True",
         "bingroup": "x",
         "hovertemplate": "Followers=4.1M<br>Category=%{x}<br>count=%{y}<extra></extra>",
         "legendgroup": "4.1M",
         "marker": {
          "color": "#EF553B",
          "pattern": {
           "shape": ""
          }
         },
         "name": "4.1M",
         "offsetgroup": "4.1M",
         "orientation": "v",
         "showlegend": true,
         "texttemplate": "%{value}",
         "type": "histogram",
         "x": [
          null,
          "Music",
          "Music"
         ],
         "xaxis": "x",
         "yaxis": "y"
        },
        {
         "alignmentgroup": "True",
         "bingroup": "x",
         "hovertemplate": "Followers=29.7M<br>Category=%{x}<br>count=%{y}<extra></extra>",
         "legendgroup": "29.7M",
         "marker": {
          "color": "#00cc96",
          "pattern": {
           "shape": ""
          }
         },
         "name": "29.7M",
         "offsetgroup": "29.7M",
         "orientation": "v",
         "showlegend": true,
         "texttemplate": "%{value}",
         "type": "histogram",
         "x": [
          "MusicArt/Artists"
         ],
         "xaxis": "x",
         "yaxis": "y"
        },
        {
         "alignmentgroup": "True",
         "bingroup": "x",
         "hovertemplate": "Followers=39.7M<br>Category=%{x}<br>count=%{y}<extra></extra>",
         "legendgroup": "39.7M",
         "marker": {
          "color": "#ab63fa",
          "pattern": {
           "shape": ""
          }
         },
         "name": "39.7M",
         "offsetgroup": "39.7M",
         "orientation": "v",
         "showlegend": true,
         "texttemplate": "%{value}",
         "type": "histogram",
         "x": [
          "Sports with a ball"
         ],
         "xaxis": "x",
         "yaxis": "y"
        },
        {
         "alignmentgroup": "True",
         "bingroup": "x",
         "hovertemplate": "Followers=1.6M<br>Category=%{x}<br>count=%{y}<extra></extra>",
         "legendgroup": "1.6M",
         "marker": {
          "color": "#FFA15A",
          "pattern": {
           "shape": ""
          }
         },
         "name": "1.6M",
         "offsetgroup": "1.6M",
         "orientation": "v",
         "showlegend": true,
         "texttemplate": "%{value}",
         "type": "histogram",
         "x": [
          "Photography"
         ],
         "xaxis": "x",
         "yaxis": "y"
        },
        {
         "alignmentgroup": "True",
         "bingroup": "x",
         "hovertemplate": "Followers=3.1M<br>Category=%{x}<br>count=%{y}<extra></extra>",
         "legendgroup": "3.1M",
         "marker": {
          "color": "#19d3f3",
          "pattern": {
           "shape": ""
          }
         },
         "name": "3.1M",
         "offsetgroup": "3.1M",
         "orientation": "v",
         "showlegend": true,
         "texttemplate": "%{value}",
         "type": "histogram",
         "x": [
          "Cinema & Actors/actressesMusic",
          "Music"
         ],
         "xaxis": "x",
         "yaxis": "y"
        },
        {
         "alignmentgroup": "True",
         "bingroup": "x",
         "hovertemplate": "Followers=31.5M<br>Category=%{x}<br>count=%{y}<extra></extra>",
         "legendgroup": "31.5M",
         "marker": {
          "color": "#FF6692",
          "pattern": {
           "shape": ""
          }
         },
         "name": "31.5M",
         "offsetgroup": "31.5M",
         "orientation": "v",
         "showlegend": true,
         "texttemplate": "%{value}",
         "type": "histogram",
         "x": [
          "Sports with a ball"
         ],
         "xaxis": "x",
         "yaxis": "y"
        },
        {
         "alignmentgroup": "True",
         "bingroup": "x",
         "hovertemplate": "Followers=30.4M<br>Category=%{x}<br>count=%{y}<extra></extra>",
         "legendgroup": "30.4M",
         "marker": {
          "color": "#B6E880",
          "pattern": {
           "shape": ""
          }
         },
         "name": "30.4M",
         "offsetgroup": "30.4M",
         "orientation": "v",
         "showlegend": true,
         "texttemplate": "%{value}",
         "type": "histogram",
         "x": [
          "Cinema & Actors/actressesShows"
         ],
         "xaxis": "x",
         "yaxis": "y"
        },
        {
         "alignmentgroup": "True",
         "bingroup": "x",
         "hovertemplate": "Followers=7.5M<br>Category=%{x}<br>count=%{y}<extra></extra>",
         "legendgroup": "7.5M",
         "marker": {
          "color": "#FF97FF",
          "pattern": {
           "shape": ""
          }
         },
         "name": "7.5M",
         "offsetgroup": "7.5M",
         "orientation": "v",
         "showlegend": true,
         "texttemplate": "%{value}",
         "type": "histogram",
         "x": [
          "Lifestyle",
          "Music",
          "Shows"
         ],
         "xaxis": "x",
         "yaxis": "y"
        },
        {
         "alignmentgroup": "True",
         "bingroup": "x",
         "hovertemplate": "Followers=4.6M<br>Category=%{x}<br>count=%{y}<extra></extra>",
         "legendgroup": "4.6M",
         "marker": {
          "color": "#FECB52",
          "pattern": {
           "shape": ""
          }
         },
         "name": "4.6M",
         "offsetgroup": "4.6M",
         "orientation": "v",
         "showlegend": true,
         "texttemplate": "%{value}",
         "type": "histogram",
         "x": [
          null,
          "Music"
         ],
         "xaxis": "x",
         "yaxis": "y"
        },
        {
         "alignmentgroup": "True",
         "bingroup": "x",
         "hovertemplate": "Followers=6.8M<br>Category=%{x}<br>count=%{y}<extra></extra>",
         "legendgroup": "6.8M",
         "marker": {
          "color": "#636efa",
          "pattern": {
           "shape": ""
          }
         },
         "name": "6.8M",
         "offsetgroup": "6.8M",
         "orientation": "v",
         "showlegend": true,
         "texttemplate": "%{value}",
         "type": "histogram",
         "x": [
          "LifestyleModelingFashion",
          "Lifestyle",
          null
         ],
         "xaxis": "x",
         "yaxis": "y"
        },
        {
         "alignmentgroup": "True",
         "bingroup": "x",
         "hovertemplate": "Followers=39.6M<br>Category=%{x}<br>count=%{y}<extra></extra>",
         "legendgroup": "39.6M",
         "marker": {
          "color": "#EF553B",
          "pattern": {
           "shape": ""
          }
         },
         "name": "39.6M",
         "offsetgroup": "39.6M",
         "orientation": "v",
         "showlegend": true,
         "texttemplate": "%{value}",
         "type": "histogram",
         "x": [
          "Music",
          "Literature & JournalismFashion"
         ],
         "xaxis": "x",
         "yaxis": "y"
        },
        {
         "alignmentgroup": "True",
         "bingroup": "x",
         "hovertemplate": "Followers=3.5M<br>Category=%{x}<br>count=%{y}<extra></extra>",
         "legendgroup": "3.5M",
         "marker": {
          "color": "#00cc96",
          "pattern": {
           "shape": ""
          }
         },
         "name": "3.5M",
         "offsetgroup": "3.5M",
         "orientation": "v",
         "showlegend": true,
         "texttemplate": "%{value}",
         "type": "histogram",
         "x": [
          null,
          "LifestylePhotography",
          "Art/Artists",
          "Lifestyle",
          "BeautyHumor & Fun & HappinessCinema & Actors/actresses"
         ],
         "xaxis": "x",
         "yaxis": "y"
        },
        {
         "alignmentgroup": "True",
         "bingroup": "x",
         "hovertemplate": "Followers=18.8M<br>Category=%{x}<br>count=%{y}<extra></extra>",
         "legendgroup": "18.8M",
         "marker": {
          "color": "#ab63fa",
          "pattern": {
           "shape": ""
          }
         },
         "name": "18.8M",
         "offsetgroup": "18.8M",
         "orientation": "v",
         "showlegend": true,
         "texttemplate": "%{value}",
         "type": "histogram",
         "x": [
          "Modeling"
         ],
         "xaxis": "x",
         "yaxis": "y"
        },
        {
         "alignmentgroup": "True",
         "bingroup": "x",
         "hovertemplate": "Followers=123.7M<br>Category=%{x}<br>count=%{y}<extra></extra>",
         "legendgroup": "123.7M",
         "marker": {
          "color": "#FFA15A",
          "pattern": {
           "shape": ""
          }
         },
         "name": "123.7M",
         "offsetgroup": "123.7M",
         "orientation": "v",
         "showlegend": true,
         "texttemplate": "%{value}",
         "type": "histogram",
         "x": [
          "ShowsCinema & Actors/actresses"
         ],
         "xaxis": "x",
         "yaxis": "y"
        },
        {
         "alignmentgroup": "True",
         "bingroup": "x",
         "hovertemplate": "Followers=3.2M<br>Category=%{x}<br>count=%{y}<extra></extra>",
         "legendgroup": "3.2M",
         "marker": {
          "color": "#19d3f3",
          "pattern": {
           "shape": ""
          }
         },
         "name": "3.2M",
         "offsetgroup": "3.2M",
         "orientation": "v",
         "showlegend": true,
         "texttemplate": "%{value}",
         "type": "histogram",
         "x": [
          "LifestyleCinema & Actors/actresses",
          null
         ],
         "xaxis": "x",
         "yaxis": "y"
        },
        {
         "alignmentgroup": "True",
         "bingroup": "x",
         "hovertemplate": "Followers=25.3M<br>Category=%{x}<br>count=%{y}<extra></extra>",
         "legendgroup": "25.3M",
         "marker": {
          "color": "#FF6692",
          "pattern": {
           "shape": ""
          }
         },
         "name": "25.3M",
         "offsetgroup": "25.3M",
         "orientation": "v",
         "showlegend": true,
         "texttemplate": "%{value}",
         "type": "histogram",
         "x": [
          "Cinema & Actors/actressesLifestyle"
         ],
         "xaxis": "x",
         "yaxis": "y"
        },
        {
         "alignmentgroup": "True",
         "bingroup": "x",
         "hovertemplate": "Followers=19.3M<br>Category=%{x}<br>count=%{y}<extra></extra>",
         "legendgroup": "19.3M",
         "marker": {
          "color": "#B6E880",
          "pattern": {
           "shape": ""
          }
         },
         "name": "19.3M",
         "offsetgroup": "19.3M",
         "orientation": "v",
         "showlegend": true,
         "texttemplate": "%{value}",
         "type": "histogram",
         "x": [
          "Sports with a ball"
         ],
         "xaxis": "x",
         "yaxis": "y"
        },
        {
         "alignmentgroup": "True",
         "bingroup": "x",
         "hovertemplate": "Followers=12.7M<br>Category=%{x}<br>count=%{y}<extra></extra>",
         "legendgroup": "12.7M",
         "marker": {
          "color": "#FF97FF",
          "pattern": {
           "shape": ""
          }
         },
         "name": "12.7M",
         "offsetgroup": "12.7M",
         "orientation": "v",
         "showlegend": true,
         "texttemplate": "%{value}",
         "type": "histogram",
         "x": [
          "MusicLifestyle"
         ],
         "xaxis": "x",
         "yaxis": "y"
        },
        {
         "alignmentgroup": "True",
         "bingroup": "x",
         "hovertemplate": "Followers=4M<br>Category=%{x}<br>count=%{y}<extra></extra>",
         "legendgroup": "4M",
         "marker": {
          "color": "#FECB52",
          "pattern": {
           "shape": ""
          }
         },
         "name": "4M",
         "offsetgroup": "4M",
         "orientation": "v",
         "showlegend": true,
         "texttemplate": "%{value}",
         "type": "histogram",
         "x": [
          "Sports with a ball",
          "Lifestyle",
          null,
          "TravelCinema & Actors/actresses"
         ],
         "xaxis": "x",
         "yaxis": "y"
        },
        {
         "alignmentgroup": "True",
         "bingroup": "x",
         "hovertemplate": "Followers=22M<br>Category=%{x}<br>count=%{y}<extra></extra>",
         "legendgroup": "22M",
         "marker": {
          "color": "#636efa",
          "pattern": {
           "shape": ""
          }
         },
         "name": "22M",
         "offsetgroup": "22M",
         "orientation": "v",
         "showlegend": true,
         "texttemplate": "%{value}",
         "type": "histogram",
         "x": [
          "MusicCinema & Actors/actresses"
         ],
         "xaxis": "x",
         "yaxis": "y"
        },
        {
         "alignmentgroup": "True",
         "bingroup": "x",
         "hovertemplate": "Followers=15.7M<br>Category=%{x}<br>count=%{y}<extra></extra>",
         "legendgroup": "15.7M",
         "marker": {
          "color": "#EF553B",
          "pattern": {
           "shape": ""
          }
         },
         "name": "15.7M",
         "offsetgroup": "15.7M",
         "orientation": "v",
         "showlegend": true,
         "texttemplate": "%{value}",
         "type": "histogram",
         "x": [
          "Business & CareersFinance & Economics"
         ],
         "xaxis": "x",
         "yaxis": "y"
        },
        {
         "alignmentgroup": "True",
         "bingroup": "x",
         "hovertemplate": "Followers=3.6M<br>Category=%{x}<br>count=%{y}<extra></extra>",
         "legendgroup": "3.6M",
         "marker": {
          "color": "#00cc96",
          "pattern": {
           "shape": ""
          }
         },
         "name": "3.6M",
         "offsetgroup": "3.6M",
         "orientation": "v",
         "showlegend": true,
         "texttemplate": "%{value}",
         "type": "histogram",
         "x": [
          "Cinema & Actors/actresses"
         ],
         "xaxis": "x",
         "yaxis": "y"
        },
        {
         "alignmentgroup": "True",
         "bingroup": "x",
         "hovertemplate": "Followers=21M<br>Category=%{x}<br>count=%{y}<extra></extra>",
         "legendgroup": "21M",
         "marker": {
          "color": "#ab63fa",
          "pattern": {
           "shape": ""
          }
         },
         "name": "21M",
         "offsetgroup": "21M",
         "orientation": "v",
         "showlegend": true,
         "texttemplate": "%{value}",
         "type": "histogram",
         "x": [
          "Music"
         ],
         "xaxis": "x",
         "yaxis": "y"
        },
        {
         "alignmentgroup": "True",
         "bingroup": "x",
         "hovertemplate": "Followers=16.3M<br>Category=%{x}<br>count=%{y}<extra></extra>",
         "legendgroup": "16.3M",
         "marker": {
          "color": "#FFA15A",
          "pattern": {
           "shape": ""
          }
         },
         "name": "16.3M",
         "offsetgroup": "16.3M",
         "orientation": "v",
         "showlegend": true,
         "texttemplate": "%{value}",
         "type": "histogram",
         "x": [
          "Cinema & Actors/actressesLifestyle"
         ],
         "xaxis": "x",
         "yaxis": "y"
        },
        {
         "alignmentgroup": "True",
         "bingroup": "x",
         "hovertemplate": "Followers=38.4M<br>Category=%{x}<br>count=%{y}<extra></extra>",
         "legendgroup": "38.4M",
         "marker": {
          "color": "#19d3f3",
          "pattern": {
           "shape": ""
          }
         },
         "name": "38.4M",
         "offsetgroup": "38.4M",
         "orientation": "v",
         "showlegend": true,
         "texttemplate": "%{value}",
         "type": "histogram",
         "x": [
          "MusicArt/Artists"
         ],
         "xaxis": "x",
         "yaxis": "y"
        },
        {
         "alignmentgroup": "True",
         "bingroup": "x",
         "hovertemplate": "Followers=7.2M<br>Category=%{x}<br>count=%{y}<extra></extra>",
         "legendgroup": "7.2M",
         "marker": {
          "color": "#FF6692",
          "pattern": {
           "shape": ""
          }
         },
         "name": "7.2M",
         "offsetgroup": "7.2M",
         "orientation": "v",
         "showlegend": true,
         "texttemplate": "%{value}",
         "type": "histogram",
         "x": [
          "Cinema & Actors/actressesLifestyle"
         ],
         "xaxis": "x",
         "yaxis": "y"
        },
        {
         "alignmentgroup": "True",
         "bingroup": "x",
         "hovertemplate": "Followers=26M<br>Category=%{x}<br>count=%{y}<extra></extra>",
         "legendgroup": "26M",
         "marker": {
          "color": "#B6E880",
          "pattern": {
           "shape": ""
          }
         },
         "name": "26M",
         "offsetgroup": "26M",
         "orientation": "v",
         "showlegend": true,
         "texttemplate": "%{value}",
         "type": "histogram",
         "x": [
          "Cinema & Actors/actresses"
         ],
         "xaxis": "x",
         "yaxis": "y"
        },
        {
         "alignmentgroup": "True",
         "bingroup": "x",
         "hovertemplate": "Followers=17.8M<br>Category=%{x}<br>count=%{y}<extra></extra>",
         "legendgroup": "17.8M",
         "marker": {
          "color": "#FF97FF",
          "pattern": {
           "shape": ""
          }
         },
         "name": "17.8M",
         "offsetgroup": "17.8M",
         "orientation": "v",
         "showlegend": true,
         "texttemplate": "%{value}",
         "type": "histogram",
         "x": [
          "ShowsCinema & Actors/actresses"
         ],
         "xaxis": "x",
         "yaxis": "y"
        },
        {
         "alignmentgroup": "True",
         "bingroup": "x",
         "hovertemplate": "Followers=11.2M<br>Category=%{x}<br>count=%{y}<extra></extra>",
         "legendgroup": "11.2M",
         "marker": {
          "color": "#FECB52",
          "pattern": {
           "shape": ""
          }
         },
         "name": "11.2M",
         "offsetgroup": "11.2M",
         "orientation": "v",
         "showlegend": true,
         "texttemplate": "%{value}",
         "type": "histogram",
         "x": [
          "Cinema & Actors/actresses"
         ],
         "xaxis": "x",
         "yaxis": "y"
        },
        {
         "alignmentgroup": "True",
         "bingroup": "x",
         "hovertemplate": "Followers=19.7M<br>Category=%{x}<br>count=%{y}<extra></extra>",
         "legendgroup": "19.7M",
         "marker": {
          "color": "#636efa",
          "pattern": {
           "shape": ""
          }
         },
         "name": "19.7M",
         "offsetgroup": "19.7M",
         "orientation": "v",
         "showlegend": true,
         "texttemplate": "%{value}",
         "type": "histogram",
         "x": [
          "Modeling"
         ],
         "xaxis": "x",
         "yaxis": "y"
        },
        {
         "alignmentgroup": "True",
         "bingroup": "x",
         "hovertemplate": "Followers=2.6M<br>Category=%{x}<br>count=%{y}<extra></extra>",
         "legendgroup": "2.6M",
         "marker": {
          "color": "#EF553B",
          "pattern": {
           "shape": ""
          }
         },
         "name": "2.6M",
         "offsetgroup": "2.6M",
         "orientation": "v",
         "showlegend": true,
         "texttemplate": "%{value}",
         "type": "histogram",
         "x": [
          "Humor & Fun & HappinessCinema & Actors/actresses"
         ],
         "xaxis": "x",
         "yaxis": "y"
        },
        {
         "alignmentgroup": "True",
         "bingroup": "x",
         "hovertemplate": "Followers=15.8M<br>Category=%{x}<br>count=%{y}<extra></extra>",
         "legendgroup": "15.8M",
         "marker": {
          "color": "#00cc96",
          "pattern": {
           "shape": ""
          }
         },
         "name": "15.8M",
         "offsetgroup": "15.8M",
         "orientation": "v",
         "showlegend": true,
         "texttemplate": "%{value}",
         "type": "histogram",
         "x": [
          "Cinema & Actors/actressesFashion"
         ],
         "xaxis": "x",
         "yaxis": "y"
        },
        {
         "alignmentgroup": "True",
         "bingroup": "x",
         "hovertemplate": "Followers=24.8M<br>Category=%{x}<br>count=%{y}<extra></extra>",
         "legendgroup": "24.8M",
         "marker": {
          "color": "#ab63fa",
          "pattern": {
           "shape": ""
          }
         },
         "name": "24.8M",
         "offsetgroup": "24.8M",
         "orientation": "v",
         "showlegend": true,
         "texttemplate": "%{value}",
         "type": "histogram",
         "x": [
          "LifestyleSports with a ball"
         ],
         "xaxis": "x",
         "yaxis": "y"
        },
        {
         "alignmentgroup": "True",
         "bingroup": "x",
         "hovertemplate": "Followers=3.4M<br>Category=%{x}<br>count=%{y}<extra></extra>",
         "legendgroup": "3.4M",
         "marker": {
          "color": "#FFA15A",
          "pattern": {
           "shape": ""
          }
         },
         "name": "3.4M",
         "offsetgroup": "3.4M",
         "orientation": "v",
         "showlegend": true,
         "texttemplate": "%{value}",
         "type": "histogram",
         "x": [
          null
         ],
         "xaxis": "x",
         "yaxis": "y"
        }
       ],
       "layout": {
        "barmode": "relative",
        "legend": {
         "title": {
          "text": "Followers"
         },
         "tracegroupgap": 0
        },
        "margin": {
         "t": 60
        },
        "template": {
         "data": {
          "bar": [
           {
            "error_x": {
             "color": "#2a3f5f"
            },
            "error_y": {
             "color": "#2a3f5f"
            },
            "marker": {
             "line": {
              "color": "#E5ECF6",
              "width": 0.5
             },
             "pattern": {
              "fillmode": "overlay",
              "size": 10,
              "solidity": 0.2
             }
            },
            "type": "bar"
           }
          ],
          "barpolar": [
           {
            "marker": {
             "line": {
              "color": "#E5ECF6",
              "width": 0.5
             },
             "pattern": {
              "fillmode": "overlay",
              "size": 10,
              "solidity": 0.2
             }
            },
            "type": "barpolar"
           }
          ],
          "carpet": [
           {
            "aaxis": {
             "endlinecolor": "#2a3f5f",
             "gridcolor": "white",
             "linecolor": "white",
             "minorgridcolor": "white",
             "startlinecolor": "#2a3f5f"
            },
            "baxis": {
             "endlinecolor": "#2a3f5f",
             "gridcolor": "white",
             "linecolor": "white",
             "minorgridcolor": "white",
             "startlinecolor": "#2a3f5f"
            },
            "type": "carpet"
           }
          ],
          "choropleth": [
           {
            "colorbar": {
             "outlinewidth": 0,
             "ticks": ""
            },
            "type": "choropleth"
           }
          ],
          "contour": [
           {
            "colorbar": {
             "outlinewidth": 0,
             "ticks": ""
            },
            "colorscale": [
             [
              0,
              "#0d0887"
             ],
             [
              0.1111111111111111,
              "#46039f"
             ],
             [
              0.2222222222222222,
              "#7201a8"
             ],
             [
              0.3333333333333333,
              "#9c179e"
             ],
             [
              0.4444444444444444,
              "#bd3786"
             ],
             [
              0.5555555555555556,
              "#d8576b"
             ],
             [
              0.6666666666666666,
              "#ed7953"
             ],
             [
              0.7777777777777778,
              "#fb9f3a"
             ],
             [
              0.8888888888888888,
              "#fdca26"
             ],
             [
              1,
              "#f0f921"
             ]
            ],
            "type": "contour"
           }
          ],
          "contourcarpet": [
           {
            "colorbar": {
             "outlinewidth": 0,
             "ticks": ""
            },
            "type": "contourcarpet"
           }
          ],
          "heatmap": [
           {
            "colorbar": {
             "outlinewidth": 0,
             "ticks": ""
            },
            "colorscale": [
             [
              0,
              "#0d0887"
             ],
             [
              0.1111111111111111,
              "#46039f"
             ],
             [
              0.2222222222222222,
              "#7201a8"
             ],
             [
              0.3333333333333333,
              "#9c179e"
             ],
             [
              0.4444444444444444,
              "#bd3786"
             ],
             [
              0.5555555555555556,
              "#d8576b"
             ],
             [
              0.6666666666666666,
              "#ed7953"
             ],
             [
              0.7777777777777778,
              "#fb9f3a"
             ],
             [
              0.8888888888888888,
              "#fdca26"
             ],
             [
              1,
              "#f0f921"
             ]
            ],
            "type": "heatmap"
           }
          ],
          "heatmapgl": [
           {
            "colorbar": {
             "outlinewidth": 0,
             "ticks": ""
            },
            "colorscale": [
             [
              0,
              "#0d0887"
             ],
             [
              0.1111111111111111,
              "#46039f"
             ],
             [
              0.2222222222222222,
              "#7201a8"
             ],
             [
              0.3333333333333333,
              "#9c179e"
             ],
             [
              0.4444444444444444,
              "#bd3786"
             ],
             [
              0.5555555555555556,
              "#d8576b"
             ],
             [
              0.6666666666666666,
              "#ed7953"
             ],
             [
              0.7777777777777778,
              "#fb9f3a"
             ],
             [
              0.8888888888888888,
              "#fdca26"
             ],
             [
              1,
              "#f0f921"
             ]
            ],
            "type": "heatmapgl"
           }
          ],
          "histogram": [
           {
            "marker": {
             "pattern": {
              "fillmode": "overlay",
              "size": 10,
              "solidity": 0.2
             }
            },
            "type": "histogram"
           }
          ],
          "histogram2d": [
           {
            "colorbar": {
             "outlinewidth": 0,
             "ticks": ""
            },
            "colorscale": [
             [
              0,
              "#0d0887"
             ],
             [
              0.1111111111111111,
              "#46039f"
             ],
             [
              0.2222222222222222,
              "#7201a8"
             ],
             [
              0.3333333333333333,
              "#9c179e"
             ],
             [
              0.4444444444444444,
              "#bd3786"
             ],
             [
              0.5555555555555556,
              "#d8576b"
             ],
             [
              0.6666666666666666,
              "#ed7953"
             ],
             [
              0.7777777777777778,
              "#fb9f3a"
             ],
             [
              0.8888888888888888,
              "#fdca26"
             ],
             [
              1,
              "#f0f921"
             ]
            ],
            "type": "histogram2d"
           }
          ],
          "histogram2dcontour": [
           {
            "colorbar": {
             "outlinewidth": 0,
             "ticks": ""
            },
            "colorscale": [
             [
              0,
              "#0d0887"
             ],
             [
              0.1111111111111111,
              "#46039f"
             ],
             [
              0.2222222222222222,
              "#7201a8"
             ],
             [
              0.3333333333333333,
              "#9c179e"
             ],
             [
              0.4444444444444444,
              "#bd3786"
             ],
             [
              0.5555555555555556,
              "#d8576b"
             ],
             [
              0.6666666666666666,
              "#ed7953"
             ],
             [
              0.7777777777777778,
              "#fb9f3a"
             ],
             [
              0.8888888888888888,
              "#fdca26"
             ],
             [
              1,
              "#f0f921"
             ]
            ],
            "type": "histogram2dcontour"
           }
          ],
          "mesh3d": [
           {
            "colorbar": {
             "outlinewidth": 0,
             "ticks": ""
            },
            "type": "mesh3d"
           }
          ],
          "parcoords": [
           {
            "line": {
             "colorbar": {
              "outlinewidth": 0,
              "ticks": ""
             }
            },
            "type": "parcoords"
           }
          ],
          "pie": [
           {
            "automargin": true,
            "type": "pie"
           }
          ],
          "scatter": [
           {
            "fillpattern": {
             "fillmode": "overlay",
             "size": 10,
             "solidity": 0.2
            },
            "type": "scatter"
           }
          ],
          "scatter3d": [
           {
            "line": {
             "colorbar": {
              "outlinewidth": 0,
              "ticks": ""
             }
            },
            "marker": {
             "colorbar": {
              "outlinewidth": 0,
              "ticks": ""
             }
            },
            "type": "scatter3d"
           }
          ],
          "scattercarpet": [
           {
            "marker": {
             "colorbar": {
              "outlinewidth": 0,
              "ticks": ""
             }
            },
            "type": "scattercarpet"
           }
          ],
          "scattergeo": [
           {
            "marker": {
             "colorbar": {
              "outlinewidth": 0,
              "ticks": ""
             }
            },
            "type": "scattergeo"
           }
          ],
          "scattergl": [
           {
            "marker": {
             "colorbar": {
              "outlinewidth": 0,
              "ticks": ""
             }
            },
            "type": "scattergl"
           }
          ],
          "scattermapbox": [
           {
            "marker": {
             "colorbar": {
              "outlinewidth": 0,
              "ticks": ""
             }
            },
            "type": "scattermapbox"
           }
          ],
          "scatterpolar": [
           {
            "marker": {
             "colorbar": {
              "outlinewidth": 0,
              "ticks": ""
             }
            },
            "type": "scatterpolar"
           }
          ],
          "scatterpolargl": [
           {
            "marker": {
             "colorbar": {
              "outlinewidth": 0,
              "ticks": ""
             }
            },
            "type": "scatterpolargl"
           }
          ],
          "scatterternary": [
           {
            "marker": {
             "colorbar": {
              "outlinewidth": 0,
              "ticks": ""
             }
            },
            "type": "scatterternary"
           }
          ],
          "surface": [
           {
            "colorbar": {
             "outlinewidth": 0,
             "ticks": ""
            },
            "colorscale": [
             [
              0,
              "#0d0887"
             ],
             [
              0.1111111111111111,
              "#46039f"
             ],
             [
              0.2222222222222222,
              "#7201a8"
             ],
             [
              0.3333333333333333,
              "#9c179e"
             ],
             [
              0.4444444444444444,
              "#bd3786"
             ],
             [
              0.5555555555555556,
              "#d8576b"
             ],
             [
              0.6666666666666666,
              "#ed7953"
             ],
             [
              0.7777777777777778,
              "#fb9f3a"
             ],
             [
              0.8888888888888888,
              "#fdca26"
             ],
             [
              1,
              "#f0f921"
             ]
            ],
            "type": "surface"
           }
          ],
          "table": [
           {
            "cells": {
             "fill": {
              "color": "#EBF0F8"
             },
             "line": {
              "color": "white"
             }
            },
            "header": {
             "fill": {
              "color": "#C8D4E3"
             },
             "line": {
              "color": "white"
             }
            },
            "type": "table"
           }
          ]
         },
         "layout": {
          "annotationdefaults": {
           "arrowcolor": "#2a3f5f",
           "arrowhead": 0,
           "arrowwidth": 1
          },
          "autotypenumbers": "strict",
          "coloraxis": {
           "colorbar": {
            "outlinewidth": 0,
            "ticks": ""
           }
          },
          "colorscale": {
           "diverging": [
            [
             0,
             "#8e0152"
            ],
            [
             0.1,
             "#c51b7d"
            ],
            [
             0.2,
             "#de77ae"
            ],
            [
             0.3,
             "#f1b6da"
            ],
            [
             0.4,
             "#fde0ef"
            ],
            [
             0.5,
             "#f7f7f7"
            ],
            [
             0.6,
             "#e6f5d0"
            ],
            [
             0.7,
             "#b8e186"
            ],
            [
             0.8,
             "#7fbc41"
            ],
            [
             0.9,
             "#4d9221"
            ],
            [
             1,
             "#276419"
            ]
           ],
           "sequential": [
            [
             0,
             "#0d0887"
            ],
            [
             0.1111111111111111,
             "#46039f"
            ],
            [
             0.2222222222222222,
             "#7201a8"
            ],
            [
             0.3333333333333333,
             "#9c179e"
            ],
            [
             0.4444444444444444,
             "#bd3786"
            ],
            [
             0.5555555555555556,
             "#d8576b"
            ],
            [
             0.6666666666666666,
             "#ed7953"
            ],
            [
             0.7777777777777778,
             "#fb9f3a"
            ],
            [
             0.8888888888888888,
             "#fdca26"
            ],
            [
             1,
             "#f0f921"
            ]
           ],
           "sequentialminus": [
            [
             0,
             "#0d0887"
            ],
            [
             0.1111111111111111,
             "#46039f"
            ],
            [
             0.2222222222222222,
             "#7201a8"
            ],
            [
             0.3333333333333333,
             "#9c179e"
            ],
            [
             0.4444444444444444,
             "#bd3786"
            ],
            [
             0.5555555555555556,
             "#d8576b"
            ],
            [
             0.6666666666666666,
             "#ed7953"
            ],
            [
             0.7777777777777778,
             "#fb9f3a"
            ],
            [
             0.8888888888888888,
             "#fdca26"
            ],
            [
             1,
             "#f0f921"
            ]
           ]
          },
          "colorway": [
           "#636efa",
           "#EF553B",
           "#00cc96",
           "#ab63fa",
           "#FFA15A",
           "#19d3f3",
           "#FF6692",
           "#B6E880",
           "#FF97FF",
           "#FECB52"
          ],
          "font": {
           "color": "#2a3f5f"
          },
          "geo": {
           "bgcolor": "white",
           "lakecolor": "white",
           "landcolor": "#E5ECF6",
           "showlakes": true,
           "showland": true,
           "subunitcolor": "white"
          },
          "hoverlabel": {
           "align": "left"
          },
          "hovermode": "closest",
          "mapbox": {
           "style": "light"
          },
          "paper_bgcolor": "white",
          "plot_bgcolor": "#E5ECF6",
          "polar": {
           "angularaxis": {
            "gridcolor": "white",
            "linecolor": "white",
            "ticks": ""
           },
           "bgcolor": "#E5ECF6",
           "radialaxis": {
            "gridcolor": "white",
            "linecolor": "white",
            "ticks": ""
           }
          },
          "scene": {
           "xaxis": {
            "backgroundcolor": "#E5ECF6",
            "gridcolor": "white",
            "gridwidth": 2,
            "linecolor": "white",
            "showbackground": true,
            "ticks": "",
            "zerolinecolor": "white"
           },
           "yaxis": {
            "backgroundcolor": "#E5ECF6",
            "gridcolor": "white",
            "gridwidth": 2,
            "linecolor": "white",
            "showbackground": true,
            "ticks": "",
            "zerolinecolor": "white"
           },
           "zaxis": {
            "backgroundcolor": "#E5ECF6",
            "gridcolor": "white",
            "gridwidth": 2,
            "linecolor": "white",
            "showbackground": true,
            "ticks": "",
            "zerolinecolor": "white"
           }
          },
          "shapedefaults": {
           "line": {
            "color": "#2a3f5f"
           }
          },
          "ternary": {
           "aaxis": {
            "gridcolor": "white",
            "linecolor": "white",
            "ticks": ""
           },
           "baxis": {
            "gridcolor": "white",
            "linecolor": "white",
            "ticks": ""
           },
           "bgcolor": "#E5ECF6",
           "caxis": {
            "gridcolor": "white",
            "linecolor": "white",
            "ticks": ""
           }
          },
          "title": {
           "x": 0.05
          },
          "xaxis": {
           "automargin": true,
           "gridcolor": "white",
           "linecolor": "white",
           "ticks": "",
           "title": {
            "standoff": 15
           },
           "zerolinecolor": "white",
           "zerolinewidth": 2
          },
          "yaxis": {
           "automargin": true,
           "gridcolor": "white",
           "linecolor": "white",
           "ticks": "",
           "title": {
            "standoff": 15
           },
           "zerolinecolor": "white",
           "zerolinewidth": 2
          }
         }
        },
        "xaxis": {
         "anchor": "y",
         "domain": [
          0,
          1
         ],
         "title": {
          "text": "Category"
         }
        },
        "yaxis": {
         "anchor": "x",
         "domain": [
          0,
          1
         ],
         "title": {
          "text": "count"
         }
        }
       }
      },
      "text/html": [
       "<div>                            <div id=\"156bacc5-d893-4a48-8ba5-d8f79cdfc82e\" class=\"plotly-graph-div\" style=\"height:525px; width:100%;\"></div>            <script type=\"text/javascript\">                require([\"plotly\"], function(Plotly) {                    window.PLOTLYENV=window.PLOTLYENV || {};                                    if (document.getElementById(\"156bacc5-d893-4a48-8ba5-d8f79cdfc82e\")) {                    Plotly.newPlot(                        \"156bacc5-d893-4a48-8ba5-d8f79cdfc82e\",                        [{\"alignmentgroup\":\"True\",\"bingroup\":\"x\",\"hovertemplate\":\"Followers=462.9M<br>Category=%{x}<br>count=%{y}<extra></extra>\",\"legendgroup\":\"462.9M\",\"marker\":{\"color\":\"#636efa\",\"pattern\":{\"shape\":\"\"}},\"name\":\"462.9M\",\"offsetgroup\":\"462.9M\",\"orientation\":\"v\",\"showlegend\":true,\"texttemplate\":\"%{value}\",\"x\":[\"Sports with a ball\"],\"xaxis\":\"x\",\"yaxis\":\"y\",\"type\":\"histogram\"},{\"alignmentgroup\":\"True\",\"bingroup\":\"x\",\"hovertemplate\":\"Followers=347.2M<br>Category=%{x}<br>count=%{y}<extra></extra>\",\"legendgroup\":\"347.2M\",\"marker\":{\"color\":\"#EF553B\",\"pattern\":{\"shape\":\"\"}},\"name\":\"347.2M\",\"offsetgroup\":\"347.2M\",\"orientation\":\"v\",\"showlegend\":true,\"texttemplate\":\"%{value}\",\"x\":[\"Sports with a ballFamily\"],\"xaxis\":\"x\",\"yaxis\":\"y\",\"type\":\"histogram\"},{\"alignmentgroup\":\"True\",\"bingroup\":\"x\",\"hovertemplate\":\"Followers=247.6M<br>Category=%{x}<br>count=%{y}<extra></extra>\",\"legendgroup\":\"247.6M\",\"marker\":{\"color\":\"#00cc96\",\"pattern\":{\"shape\":\"\"}},\"name\":\"247.6M\",\"offsetgroup\":\"247.6M\",\"orientation\":\"v\",\"showlegend\":true,\"texttemplate\":\"%{value}\",\"x\":[\"ModelingFashion\"],\"xaxis\":\"x\",\"yaxis\":\"y\",\"type\":\"histogram\"},{\"alignmentgroup\":\"True\",\"bingroup\":\"x\",\"hovertemplate\":\"Followers=321.4M<br>Category=%{x}<br>count=%{y}<extra></extra>\",\"legendgroup\":\"321.4M\",\"marker\":{\"color\":\"#ab63fa\",\"pattern\":{\"shape\":\"\"}},\"name\":\"321.4M\",\"offsetgroup\":\"321.4M\",\"orientation\":\"v\",\"showlegend\":true,\"texttemplate\":\"%{value}\",\"x\":[\"Music\"],\"xaxis\":\"x\",\"yaxis\":\"y\",\"type\":\"histogram\"},{\"alignmentgroup\":\"True\",\"bingroup\":\"x\",\"hovertemplate\":\"Followers=147M<br>Category=%{x}<br>count=%{y}<extra></extra>\",\"legendgroup\":\"147M\",\"marker\":{\"color\":\"#FFA15A\",\"pattern\":{\"shape\":\"\"}},\"name\":\"147M\",\"offsetgroup\":\"147M\",\"orientation\":\"v\",\"showlegend\":true,\"texttemplate\":\"%{value}\",\"x\":[\"Cinema & Actors/actressesFashion\"],\"xaxis\":\"x\",\"yaxis\":\"y\",\"type\":\"histogram\"},{\"alignmentgroup\":\"True\",\"bingroup\":\"x\",\"hovertemplate\":\"Followers=323.6M<br>Category=%{x}<br>count=%{y}<extra></extra>\",\"legendgroup\":\"323.6M\",\"marker\":{\"color\":\"#19d3f3\",\"pattern\":{\"shape\":\"\"}},\"name\":\"323.6M\",\"offsetgroup\":\"323.6M\",\"orientation\":\"v\",\"showlegend\":true,\"texttemplate\":\"%{value}\",\"x\":[\"FashionBeauty\"],\"xaxis\":\"x\",\"yaxis\":\"y\",\"type\":\"histogram\"},{\"alignmentgroup\":\"True\",\"bingroup\":\"x\",\"hovertemplate\":\"Followers=218.2M<br>Category=%{x}<br>count=%{y}<extra></extra>\",\"legendgroup\":\"218.2M\",\"marker\":{\"color\":\"#FF6692\",\"pattern\":{\"shape\":\"\"}},\"name\":\"218.2M\",\"offsetgroup\":\"218.2M\",\"orientation\":\"v\",\"showlegend\":true,\"texttemplate\":\"%{value}\",\"x\":[\"Music\"],\"xaxis\":\"x\",\"yaxis\":\"y\",\"type\":\"histogram\"},{\"alignmentgroup\":\"True\",\"bingroup\":\"x\",\"hovertemplate\":\"Followers=357M<br>Category=%{x}<br>count=%{y}<extra></extra>\",\"legendgroup\":\"357M\",\"marker\":{\"color\":\"#B6E880\",\"pattern\":{\"shape\":\"\"}},\"name\":\"357M\",\"offsetgroup\":\"357M\",\"orientation\":\"v\",\"showlegend\":true,\"texttemplate\":\"%{value}\",\"x\":[\"FashionModelingBeauty\"],\"xaxis\":\"x\",\"yaxis\":\"y\",\"type\":\"histogram\"},{\"alignmentgroup\":\"True\",\"bingroup\":\"x\",\"hovertemplate\":\"Followers=334.9M<br>Category=%{x}<br>count=%{y}<extra></extra>\",\"legendgroup\":\"334.9M\",\"marker\":{\"color\":\"#FF97FF\",\"pattern\":{\"shape\":\"\"}},\"name\":\"334.9M\",\"offsetgroup\":\"334.9M\",\"orientation\":\"v\",\"showlegend\":true,\"texttemplate\":\"%{value}\",\"x\":[\"MusicLifestyle\"],\"xaxis\":\"x\",\"yaxis\":\"y\",\"type\":\"histogram\"},{\"alignmentgroup\":\"True\",\"bingroup\":\"x\",\"hovertemplate\":\"Followers=46.3M<br>Category=%{x}<br>count=%{y}<extra></extra>\",\"legendgroup\":\"46.3M\",\"marker\":{\"color\":\"#FECB52\",\"pattern\":{\"shape\":\"\"}},\"name\":\"46.3M\",\"offsetgroup\":\"46.3M\",\"orientation\":\"v\",\"showlegend\":true,\"texttemplate\":\"%{value}\",\"x\":[null,\"MusicFashion\"],\"xaxis\":\"x\",\"yaxis\":\"y\",\"type\":\"histogram\"},{\"alignmentgroup\":\"True\",\"bingroup\":\"x\",\"hovertemplate\":\"Followers=79.9M<br>Category=%{x}<br>count=%{y}<extra></extra>\",\"legendgroup\":\"79.9M\",\"marker\":{\"color\":\"#636efa\",\"pattern\":{\"shape\":\"\"}},\"name\":\"79.9M\",\"offsetgroup\":\"79.9M\",\"orientation\":\"v\",\"showlegend\":true,\"texttemplate\":\"%{value}\",\"x\":[\"Music\"],\"xaxis\":\"x\",\"yaxis\":\"y\",\"type\":\"histogram\"},{\"alignmentgroup\":\"True\",\"bingroup\":\"x\",\"hovertemplate\":\"Followers=68.2M<br>Category=%{x}<br>count=%{y}<extra></extra>\",\"legendgroup\":\"68.2M\",\"marker\":{\"color\":\"#EF553B\",\"pattern\":{\"shape\":\"\"}},\"name\":\"68.2M\",\"offsetgroup\":\"68.2M\",\"orientation\":\"v\",\"showlegend\":true,\"texttemplate\":\"%{value}\",\"x\":[\"Music\",\"Finance & EconomicsBusiness & Careers\"],\"xaxis\":\"x\",\"yaxis\":\"y\",\"type\":\"histogram\"},{\"alignmentgroup\":\"True\",\"bingroup\":\"x\",\"hovertemplate\":\"Followers=206.9M<br>Category=%{x}<br>count=%{y}<extra></extra>\",\"legendgroup\":\"206.9M\",\"marker\":{\"color\":\"#00cc96\",\"pattern\":{\"shape\":\"\"}},\"name\":\"206.9M\",\"offsetgroup\":\"206.9M\",\"orientation\":\"v\",\"showlegend\":true,\"texttemplate\":\"%{value}\",\"x\":[\"Sports with a ball\"],\"xaxis\":\"x\",\"yaxis\":\"y\",\"type\":\"histogram\"},{\"alignmentgroup\":\"True\",\"bingroup\":\"x\",\"hovertemplate\":\"Followers=67.6M<br>Category=%{x}<br>count=%{y}<extra></extra>\",\"legendgroup\":\"67.6M\",\"marker\":{\"color\":\"#ab63fa\",\"pattern\":{\"shape\":\"\"}},\"name\":\"67.6M\",\"offsetgroup\":\"67.6M\",\"orientation\":\"v\",\"showlegend\":true,\"texttemplate\":\"%{value}\",\"x\":[\"Cinema & Actors/actresses\"],\"xaxis\":\"x\",\"yaxis\":\"y\",\"type\":\"histogram\"},{\"alignmentgroup\":\"True\",\"bingroup\":\"x\",\"hovertemplate\":\"Followers=38.1M<br>Category=%{x}<br>count=%{y}<extra></extra>\",\"legendgroup\":\"38.1M\",\"marker\":{\"color\":\"#FFA15A\",\"pattern\":{\"shape\":\"\"}},\"name\":\"38.1M\",\"offsetgroup\":\"38.1M\",\"orientation\":\"v\",\"showlegend\":true,\"texttemplate\":\"%{value}\",\"x\":[null],\"xaxis\":\"x\",\"yaxis\":\"y\",\"type\":\"histogram\"},{\"alignmentgroup\":\"True\",\"bingroup\":\"x\",\"hovertemplate\":\"Followers=36.5M<br>Category=%{x}<br>count=%{y}<extra></extra>\",\"legendgroup\":\"36.5M\",\"marker\":{\"color\":\"#19d3f3\",\"pattern\":{\"shape\":\"\"}},\"name\":\"36.5M\",\"offsetgroup\":\"36.5M\",\"orientation\":\"v\",\"showlegend\":true,\"texttemplate\":\"%{value}\",\"x\":[\"Lifestyle\"],\"xaxis\":\"x\",\"yaxis\":\"y\",\"type\":\"histogram\"},{\"alignmentgroup\":\"True\",\"bingroup\":\"x\",\"hovertemplate\":\"Followers=37.4M<br>Category=%{x}<br>count=%{y}<extra></extra>\",\"legendgroup\":\"37.4M\",\"marker\":{\"color\":\"#FF6692\",\"pattern\":{\"shape\":\"\"}},\"name\":\"37.4M\",\"offsetgroup\":\"37.4M\",\"orientation\":\"v\",\"showlegend\":true,\"texttemplate\":\"%{value}\",\"x\":[null,\"Art/ArtistsCinema & Actors/actressesMusic\",\"Cinema & Actors/actresses\",\"Cinema & Actors/actressesComics & sketches\"],\"xaxis\":\"x\",\"yaxis\":\"y\",\"type\":\"histogram\"},{\"alignmentgroup\":\"True\",\"bingroup\":\"x\",\"hovertemplate\":\"Followers=267.4M<br>Category=%{x}<br>count=%{y}<extra></extra>\",\"legendgroup\":\"267.4M\",\"marker\":{\"color\":\"#B6E880\",\"pattern\":{\"shape\":\"\"}},\"name\":\"267.4M\",\"offsetgroup\":\"267.4M\",\"orientation\":\"v\",\"showlegend\":true,\"texttemplate\":\"%{value}\",\"x\":[\"MusicFashion\"],\"xaxis\":\"x\",\"yaxis\":\"y\",\"type\":\"histogram\"},{\"alignmentgroup\":\"True\",\"bingroup\":\"x\",\"hovertemplate\":\"Followers=260.4M<br>Category=%{x}<br>count=%{y}<extra></extra>\",\"legendgroup\":\"260.4M\",\"marker\":{\"color\":\"#FF97FF\",\"pattern\":{\"shape\":\"\"}},\"name\":\"260.4M\",\"offsetgroup\":\"260.4M\",\"orientation\":\"v\",\"showlegend\":true,\"texttemplate\":\"%{value}\",\"x\":[\"Clothing & OutfitsLifestyle\"],\"xaxis\":\"x\",\"yaxis\":\"y\",\"type\":\"histogram\"},{\"alignmentgroup\":\"True\",\"bingroup\":\"x\",\"hovertemplate\":\"Followers=62.1M<br>Category=%{x}<br>count=%{y}<extra></extra>\",\"legendgroup\":\"62.1M\",\"marker\":{\"color\":\"#FECB52\",\"pattern\":{\"shape\":\"\"}},\"name\":\"62.1M\",\"offsetgroup\":\"62.1M\",\"orientation\":\"v\",\"showlegend\":true,\"texttemplate\":\"%{value}\",\"x\":[\"MusicBeauty\"],\"xaxis\":\"x\",\"yaxis\":\"y\",\"type\":\"histogram\"},{\"alignmentgroup\":\"True\",\"bingroup\":\"x\",\"hovertemplate\":\"Followers=104.3M<br>Category=%{x}<br>count=%{y}<extra></extra>\",\"legendgroup\":\"104.3M\",\"marker\":{\"color\":\"#636efa\",\"pattern\":{\"shape\":\"\"}},\"name\":\"104.3M\",\"offsetgroup\":\"104.3M\",\"orientation\":\"v\",\"showlegend\":true,\"texttemplate\":\"%{value}\",\"x\":[\"Music\"],\"xaxis\":\"x\",\"yaxis\":\"y\",\"type\":\"histogram\"},{\"alignmentgroup\":\"True\",\"bingroup\":\"x\",\"hovertemplate\":\"Followers=176.2M<br>Category=%{x}<br>count=%{y}<extra></extra>\",\"legendgroup\":\"176.2M\",\"marker\":{\"color\":\"#EF553B\",\"pattern\":{\"shape\":\"\"}},\"name\":\"176.2M\",\"offsetgroup\":\"176.2M\",\"orientation\":\"v\",\"showlegend\":true,\"texttemplate\":\"%{value}\",\"x\":[\"Sports with a ball\"],\"xaxis\":\"x\",\"yaxis\":\"y\",\"type\":\"histogram\"},{\"alignmentgroup\":\"True\",\"bingroup\":\"x\",\"hovertemplate\":\"Followers=78.6M<br>Category=%{x}<br>count=%{y}<extra></extra>\",\"legendgroup\":\"78.6M\",\"marker\":{\"color\":\"#00cc96\",\"pattern\":{\"shape\":\"\"}},\"name\":\"78.6M\",\"offsetgroup\":\"78.6M\",\"orientation\":\"v\",\"showlegend\":true,\"texttemplate\":\"%{value}\",\"x\":[\"Sports with a ball\",\"SciencePhotography\",\"SciencePhotography\"],\"xaxis\":\"x\",\"yaxis\":\"y\",\"type\":\"histogram\"},{\"alignmentgroup\":\"True\",\"bingroup\":\"x\",\"hovertemplate\":\"Followers=245.9M<br>Category=%{x}<br>count=%{y}<extra></extra>\",\"legendgroup\":\"245.9M\",\"marker\":{\"color\":\"#ab63fa\",\"pattern\":{\"shape\":\"\"}},\"name\":\"245.9M\",\"offsetgroup\":\"245.9M\",\"orientation\":\"v\",\"showlegend\":true,\"texttemplate\":\"%{value}\",\"x\":[\"Music\"],\"xaxis\":\"x\",\"yaxis\":\"y\",\"type\":\"histogram\"},{\"alignmentgroup\":\"True\",\"bingroup\":\"x\",\"hovertemplate\":\"Followers=61M<br>Category=%{x}<br>count=%{y}<extra></extra>\",\"legendgroup\":\"61M\",\"marker\":{\"color\":\"#FFA15A\",\"pattern\":{\"shape\":\"\"}},\"name\":\"61M\",\"offsetgroup\":\"61M\",\"orientation\":\"v\",\"showlegend\":true,\"texttemplate\":\"%{value}\",\"x\":[\"Music\"],\"xaxis\":\"x\",\"yaxis\":\"y\",\"type\":\"histogram\"},{\"alignmentgroup\":\"True\",\"bingroup\":\"x\",\"hovertemplate\":\"Followers=41.4M<br>Category=%{x}<br>count=%{y}<extra></extra>\",\"legendgroup\":\"41.4M\",\"marker\":{\"color\":\"#19d3f3\",\"pattern\":{\"shape\":\"\"}},\"name\":\"41.4M\",\"offsetgroup\":\"41.4M\",\"orientation\":\"v\",\"showlegend\":true,\"texttemplate\":\"%{value}\",\"x\":[\"Music\"],\"xaxis\":\"x\",\"yaxis\":\"y\",\"type\":\"histogram\"},{\"alignmentgroup\":\"True\",\"bingroup\":\"x\",\"hovertemplate\":\"Followers=197.8M<br>Category=%{x}<br>count=%{y}<extra></extra>\",\"legendgroup\":\"197.8M\",\"marker\":{\"color\":\"#FF6692\",\"pattern\":{\"shape\":\"\"}},\"name\":\"197.8M\",\"offsetgroup\":\"197.8M\",\"orientation\":\"v\",\"showlegend\":true,\"texttemplate\":\"%{value}\",\"x\":[\"Music\"],\"xaxis\":\"x\",\"yaxis\":\"y\",\"type\":\"histogram\"},{\"alignmentgroup\":\"True\",\"bingroup\":\"x\",\"hovertemplate\":\"Followers=528.4M<br>Category=%{x}<br>count=%{y}<extra></extra>\",\"legendgroup\":\"528.4M\",\"marker\":{\"color\":\"#B6E880\",\"pattern\":{\"shape\":\"\"}},\"name\":\"528.4M\",\"offsetgroup\":\"528.4M\",\"orientation\":\"v\",\"showlegend\":true,\"texttemplate\":\"%{value}\",\"x\":[\"Photography\"],\"xaxis\":\"x\",\"yaxis\":\"y\",\"type\":\"histogram\"},{\"alignmentgroup\":\"True\",\"bingroup\":\"x\",\"hovertemplate\":\"Followers=43M<br>Category=%{x}<br>count=%{y}<extra></extra>\",\"legendgroup\":\"43M\",\"marker\":{\"color\":\"#FF97FF\",\"pattern\":{\"shape\":\"\"}},\"name\":\"43M\",\"offsetgroup\":\"43M\",\"orientation\":\"v\",\"showlegend\":true,\"texttemplate\":\"%{value}\",\"x\":[\"Music\",\"ModelingCinema & Actors/actresses\"],\"xaxis\":\"x\",\"yaxis\":\"y\",\"type\":\"histogram\"},{\"alignmentgroup\":\"True\",\"bingroup\":\"x\",\"hovertemplate\":\"Followers=66M<br>Category=%{x}<br>count=%{y}<extra></extra>\",\"legendgroup\":\"66M\",\"marker\":{\"color\":\"#FECB52\",\"pattern\":{\"shape\":\"\"}},\"name\":\"66M\",\"offsetgroup\":\"66M\",\"orientation\":\"v\",\"showlegend\":true,\"texttemplate\":\"%{value}\",\"x\":[\"Music\"],\"xaxis\":\"x\",\"yaxis\":\"y\",\"type\":\"histogram\"},{\"alignmentgroup\":\"True\",\"bingroup\":\"x\",\"hovertemplate\":\"Followers=137.3M<br>Category=%{x}<br>count=%{y}<extra></extra>\",\"legendgroup\":\"137.3M\",\"marker\":{\"color\":\"#636efa\",\"pattern\":{\"shape\":\"\"}},\"name\":\"137.3M\",\"offsetgroup\":\"137.3M\",\"orientation\":\"v\",\"showlegend\":true,\"texttemplate\":\"%{value}\",\"x\":[\"MusicFashion\"],\"xaxis\":\"x\",\"yaxis\":\"y\",\"type\":\"histogram\"},{\"alignmentgroup\":\"True\",\"bingroup\":\"x\",\"hovertemplate\":\"Followers=189M<br>Category=%{x}<br>count=%{y}<extra></extra>\",\"legendgroup\":\"189M\",\"marker\":{\"color\":\"#EF553B\",\"pattern\":{\"shape\":\"\"}},\"name\":\"189M\",\"offsetgroup\":\"189M\",\"orientation\":\"v\",\"showlegend\":true,\"texttemplate\":\"%{value}\",\"x\":[\"Lifestyle\"],\"xaxis\":\"x\",\"yaxis\":\"y\",\"type\":\"histogram\"},{\"alignmentgroup\":\"True\",\"bingroup\":\"x\",\"hovertemplate\":\"Followers=54.5M<br>Category=%{x}<br>count=%{y}<extra></extra>\",\"legendgroup\":\"54.5M\",\"marker\":{\"color\":\"#00cc96\",\"pattern\":{\"shape\":\"\"}},\"name\":\"54.5M\",\"offsetgroup\":\"54.5M\",\"orientation\":\"v\",\"showlegend\":true,\"texttemplate\":\"%{value}\",\"x\":[\"Music\"],\"xaxis\":\"x\",\"yaxis\":\"y\",\"type\":\"histogram\"},{\"alignmentgroup\":\"True\",\"bingroup\":\"x\",\"hovertemplate\":\"Followers=46.2M<br>Category=%{x}<br>count=%{y}<extra></extra>\",\"legendgroup\":\"46.2M\",\"marker\":{\"color\":\"#ab63fa\",\"pattern\":{\"shape\":\"\"}},\"name\":\"46.2M\",\"offsetgroup\":\"46.2M\",\"orientation\":\"v\",\"showlegend\":true,\"texttemplate\":\"%{value}\",\"x\":[\"Music\"],\"xaxis\":\"x\",\"yaxis\":\"y\",\"type\":\"histogram\"},{\"alignmentgroup\":\"True\",\"bingroup\":\"x\",\"hovertemplate\":\"Followers=36M<br>Category=%{x}<br>count=%{y}<extra></extra>\",\"legendgroup\":\"36M\",\"marker\":{\"color\":\"#FFA15A\",\"pattern\":{\"shape\":\"\"}},\"name\":\"36M\",\"offsetgroup\":\"36M\",\"orientation\":\"v\",\"showlegend\":true,\"texttemplate\":\"%{value}\",\"x\":[\"Lifestyle\",\"Modeling\"],\"xaxis\":\"x\",\"yaxis\":\"y\",\"type\":\"histogram\"},{\"alignmentgroup\":\"True\",\"bingroup\":\"x\",\"hovertemplate\":\"Followers=53.2M<br>Category=%{x}<br>count=%{y}<extra></extra>\",\"legendgroup\":\"53.2M\",\"marker\":{\"color\":\"#19d3f3\",\"pattern\":{\"shape\":\"\"}},\"name\":\"53.2M\",\"offsetgroup\":\"53.2M\",\"orientation\":\"v\",\"showlegend\":true,\"texttemplate\":\"%{value}\",\"x\":[\"Cinema & Actors/actresses\",\"Cinema & Actors/actresses\",\"Modeling\"],\"xaxis\":\"x\",\"yaxis\":\"y\",\"type\":\"histogram\"},{\"alignmentgroup\":\"True\",\"bingroup\":\"x\",\"hovertemplate\":\"Followers=74.9M<br>Category=%{x}<br>count=%{y}<extra></extra>\",\"legendgroup\":\"74.9M\",\"marker\":{\"color\":\"#FF6692\",\"pattern\":{\"shape\":\"\"}},\"name\":\"74.9M\",\"offsetgroup\":\"74.9M\",\"orientation\":\"v\",\"showlegend\":true,\"texttemplate\":\"%{value}\",\"x\":[\"ModelingLifestyle\"],\"xaxis\":\"x\",\"yaxis\":\"y\",\"type\":\"histogram\"},{\"alignmentgroup\":\"True\",\"bingroup\":\"x\",\"hovertemplate\":\"Followers=217.5M<br>Category=%{x}<br>count=%{y}<extra></extra>\",\"legendgroup\":\"217.5M\",\"marker\":{\"color\":\"#B6E880\",\"pattern\":{\"shape\":\"\"}},\"name\":\"217.5M\",\"offsetgroup\":\"217.5M\",\"orientation\":\"v\",\"showlegend\":true,\"texttemplate\":\"%{value}\",\"x\":[\"MusicCinema & Actors/actresses\"],\"xaxis\":\"x\",\"yaxis\":\"y\",\"type\":\"histogram\"},{\"alignmentgroup\":\"True\",\"bingroup\":\"x\",\"hovertemplate\":\"Followers=127.4M<br>Category=%{x}<br>count=%{y}<extra></extra>\",\"legendgroup\":\"127.4M\",\"marker\":{\"color\":\"#FF97FF\",\"pattern\":{\"shape\":\"\"}},\"name\":\"127.4M\",\"offsetgroup\":\"127.4M\",\"orientation\":\"v\",\"showlegend\":true,\"texttemplate\":\"%{value}\",\"x\":[\"Sports with a ball\"],\"xaxis\":\"x\",\"yaxis\":\"y\",\"type\":\"histogram\"},{\"alignmentgroup\":\"True\",\"bingroup\":\"x\",\"hovertemplate\":\"Followers=327.3M<br>Category=%{x}<br>count=%{y}<extra></extra>\",\"legendgroup\":\"327.3M\",\"marker\":{\"color\":\"#FECB52\",\"pattern\":{\"shape\":\"\"}},\"name\":\"327.3M\",\"offsetgroup\":\"327.3M\",\"orientation\":\"v\",\"showlegend\":true,\"texttemplate\":\"%{value}\",\"x\":[\"Cinema & Actors/actressesFitness & Gym\"],\"xaxis\":\"x\",\"yaxis\":\"y\",\"type\":\"histogram\"},{\"alignmentgroup\":\"True\",\"bingroup\":\"x\",\"hovertemplate\":\"Followers=50.6M<br>Category=%{x}<br>count=%{y}<extra></extra>\",\"legendgroup\":\"50.6M\",\"marker\":{\"color\":\"#636efa\",\"pattern\":{\"shape\":\"\"}},\"name\":\"50.6M\",\"offsetgroup\":\"50.6M\",\"orientation\":\"v\",\"showlegend\":true,\"texttemplate\":\"%{value}\",\"x\":[\"Music\"],\"xaxis\":\"x\",\"yaxis\":\"y\",\"type\":\"histogram\"},{\"alignmentgroup\":\"True\",\"bingroup\":\"x\",\"hovertemplate\":\"Followers=39M<br>Category=%{x}<br>count=%{y}<extra></extra>\",\"legendgroup\":\"39M\",\"marker\":{\"color\":\"#EF553B\",\"pattern\":{\"shape\":\"\"}},\"name\":\"39M\",\"offsetgroup\":\"39M\",\"orientation\":\"v\",\"showlegend\":true,\"texttemplate\":\"%{value}\",\"x\":[\"LifestyleFashionClothing & Outfits\"],\"xaxis\":\"x\",\"yaxis\":\"y\",\"type\":\"histogram\"},{\"alignmentgroup\":\"True\",\"bingroup\":\"x\",\"hovertemplate\":\"Followers=116.6M<br>Category=%{x}<br>count=%{y}<extra></extra>\",\"legendgroup\":\"116.6M\",\"marker\":{\"color\":\"#00cc96\",\"pattern\":{\"shape\":\"\"}},\"name\":\"116.6M\",\"offsetgroup\":\"116.6M\",\"orientation\":\"v\",\"showlegend\":true,\"texttemplate\":\"%{value}\",\"x\":[\"Music\"],\"xaxis\":\"x\",\"yaxis\":\"y\",\"type\":\"histogram\"},{\"alignmentgroup\":\"True\",\"bingroup\":\"x\",\"hovertemplate\":\"Followers=65.6M<br>Category=%{x}<br>count=%{y}<extra></extra>\",\"legendgroup\":\"65.6M\",\"marker\":{\"color\":\"#ab63fa\",\"pattern\":{\"shape\":\"\"}},\"name\":\"65.6M\",\"offsetgroup\":\"65.6M\",\"orientation\":\"v\",\"showlegend\":true,\"texttemplate\":\"%{value}\",\"x\":[\"Beauty\"],\"xaxis\":\"x\",\"yaxis\":\"y\",\"type\":\"histogram\"},{\"alignmentgroup\":\"True\",\"bingroup\":\"x\",\"hovertemplate\":\"Followers=178.2M<br>Category=%{x}<br>count=%{y}<extra></extra>\",\"legendgroup\":\"178.2M\",\"marker\":{\"color\":\"#FFA15A\",\"pattern\":{\"shape\":\"\"}},\"name\":\"178.2M\",\"offsetgroup\":\"178.2M\",\"orientation\":\"v\",\"showlegend\":true,\"texttemplate\":\"%{value}\",\"x\":[\"Music\"],\"xaxis\":\"x\",\"yaxis\":\"y\",\"type\":\"histogram\"},{\"alignmentgroup\":\"True\",\"bingroup\":\"x\",\"hovertemplate\":\"Followers=29.2M<br>Category=%{x}<br>count=%{y}<extra></extra>\",\"legendgroup\":\"29.2M\",\"marker\":{\"color\":\"#19d3f3\",\"pattern\":{\"shape\":\"\"}},\"name\":\"29.2M\",\"offsetgroup\":\"29.2M\",\"orientation\":\"v\",\"showlegend\":true,\"texttemplate\":\"%{value}\",\"x\":[\"MusicLifestyle\"],\"xaxis\":\"x\",\"yaxis\":\"y\",\"type\":\"histogram\"},{\"alignmentgroup\":\"True\",\"bingroup\":\"x\",\"hovertemplate\":\"Followers=45.8M<br>Category=%{x}<br>count=%{y}<extra></extra>\",\"legendgroup\":\"45.8M\",\"marker\":{\"color\":\"#FF6692\",\"pattern\":{\"shape\":\"\"}},\"name\":\"45.8M\",\"offsetgroup\":\"45.8M\",\"orientation\":\"v\",\"showlegend\":true,\"texttemplate\":\"%{value}\",\"x\":[\"Music\",\"Music\",\"Fitness & Gym\"],\"xaxis\":\"x\",\"yaxis\":\"y\",\"type\":\"histogram\"},{\"alignmentgroup\":\"True\",\"bingroup\":\"x\",\"hovertemplate\":\"Followers=29.4M<br>Category=%{x}<br>count=%{y}<extra></extra>\",\"legendgroup\":\"29.4M\",\"marker\":{\"color\":\"#B6E880\",\"pattern\":{\"shape\":\"\"}},\"name\":\"29.4M\",\"offsetgroup\":\"29.4M\",\"orientation\":\"v\",\"showlegend\":true,\"texttemplate\":\"%{value}\",\"x\":[\"Cinema & Actors/actresses\",null,\"Music\"],\"xaxis\":\"x\",\"yaxis\":\"y\",\"type\":\"histogram\"},{\"alignmentgroup\":\"True\",\"bingroup\":\"x\",\"hovertemplate\":\"Followers=27M<br>Category=%{x}<br>count=%{y}<extra></extra>\",\"legendgroup\":\"27M\",\"marker\":{\"color\":\"#FF97FF\",\"pattern\":{\"shape\":\"\"}},\"name\":\"27M\",\"offsetgroup\":\"27M\",\"orientation\":\"v\",\"showlegend\":true,\"texttemplate\":\"%{value}\",\"x\":[\"Art/Artists\",\"Sports with a ball\",\"Cinema & Actors/actresses\"],\"xaxis\":\"x\",\"yaxis\":\"y\",\"type\":\"histogram\"},{\"alignmentgroup\":\"True\",\"bingroup\":\"x\",\"hovertemplate\":\"Followers=30.1M<br>Category=%{x}<br>count=%{y}<extra></extra>\",\"legendgroup\":\"30.1M\",\"marker\":{\"color\":\"#FECB52\",\"pattern\":{\"shape\":\"\"}},\"name\":\"30.1M\",\"offsetgroup\":\"30.1M\",\"orientation\":\"v\",\"showlegend\":true,\"texttemplate\":\"%{value}\",\"x\":[\"Cinema & Actors/actresses\",\"Music\"],\"xaxis\":\"x\",\"yaxis\":\"y\",\"type\":\"histogram\"},{\"alignmentgroup\":\"True\",\"bingroup\":\"x\",\"hovertemplate\":\"Followers=69.4M<br>Category=%{x}<br>count=%{y}<extra></extra>\",\"legendgroup\":\"69.4M\",\"marker\":{\"color\":\"#636efa\",\"pattern\":{\"shape\":\"\"}},\"name\":\"69.4M\",\"offsetgroup\":\"69.4M\",\"orientation\":\"v\",\"showlegend\":true,\"texttemplate\":\"%{value}\",\"x\":[\"Music\"],\"xaxis\":\"x\",\"yaxis\":\"y\",\"type\":\"histogram\"},{\"alignmentgroup\":\"True\",\"bingroup\":\"x\",\"hovertemplate\":\"Followers=72.4M<br>Category=%{x}<br>count=%{y}<extra></extra>\",\"legendgroup\":\"72.4M\",\"marker\":{\"color\":\"#EF553B\",\"pattern\":{\"shape\":\"\"}},\"name\":\"72.4M\",\"offsetgroup\":\"72.4M\",\"orientation\":\"v\",\"showlegend\":true,\"texttemplate\":\"%{value}\",\"x\":[\"Sports with a ball\"],\"xaxis\":\"x\",\"yaxis\":\"y\",\"type\":\"histogram\"},{\"alignmentgroup\":\"True\",\"bingroup\":\"x\",\"hovertemplate\":\"Followers=26.6M<br>Category=%{x}<br>count=%{y}<extra></extra>\",\"legendgroup\":\"26.6M\",\"marker\":{\"color\":\"#00cc96\",\"pattern\":{\"shape\":\"\"}},\"name\":\"26.6M\",\"offsetgroup\":\"26.6M\",\"orientation\":\"v\",\"showlegend\":true,\"texttemplate\":\"%{value}\",\"x\":[\"Cinema & Actors/actressesMusic\",\"Beauty\"],\"xaxis\":\"x\",\"yaxis\":\"y\",\"type\":\"histogram\"},{\"alignmentgroup\":\"True\",\"bingroup\":\"x\",\"hovertemplate\":\"Followers=67.2M<br>Category=%{x}<br>count=%{y}<extra></extra>\",\"legendgroup\":\"67.2M\",\"marker\":{\"color\":\"#ab63fa\",\"pattern\":{\"shape\":\"\"}},\"name\":\"67.2M\",\"offsetgroup\":\"67.2M\",\"orientation\":\"v\",\"showlegend\":true,\"texttemplate\":\"%{value}\",\"x\":[\"Cinema & Actors/actresses\"],\"xaxis\":\"x\",\"yaxis\":\"y\",\"type\":\"histogram\"},{\"alignmentgroup\":\"True\",\"bingroup\":\"x\",\"hovertemplate\":\"Followers=27.1M<br>Category=%{x}<br>count=%{y}<extra></extra>\",\"legendgroup\":\"27.1M\",\"marker\":{\"color\":\"#FFA15A\",\"pattern\":{\"shape\":\"\"}},\"name\":\"27.1M\",\"offsetgroup\":\"27.1M\",\"orientation\":\"v\",\"showlegend\":true,\"texttemplate\":\"%{value}\",\"x\":[\"MusicCinema & Actors/actresses\",\"Cinema & Actors/actresses\"],\"xaxis\":\"x\",\"yaxis\":\"y\",\"type\":\"histogram\"},{\"alignmentgroup\":\"True\",\"bingroup\":\"x\",\"hovertemplate\":\"Followers=59.3M<br>Category=%{x}<br>count=%{y}<extra></extra>\",\"legendgroup\":\"59.3M\",\"marker\":{\"color\":\"#19d3f3\",\"pattern\":{\"shape\":\"\"}},\"name\":\"59.3M\",\"offsetgroup\":\"59.3M\",\"orientation\":\"v\",\"showlegend\":true,\"texttemplate\":\"%{value}\",\"x\":[\"Cinema & Actors/actresses\"],\"xaxis\":\"x\",\"yaxis\":\"y\",\"type\":\"histogram\"},{\"alignmentgroup\":\"True\",\"bingroup\":\"x\",\"hovertemplate\":\"Followers=85.1M<br>Category=%{x}<br>count=%{y}<extra></extra>\",\"legendgroup\":\"85.1M\",\"marker\":{\"color\":\"#FF6692\",\"pattern\":{\"shape\":\"\"}},\"name\":\"85.1M\",\"offsetgroup\":\"85.1M\",\"orientation\":\"v\",\"showlegend\":true,\"texttemplate\":\"%{value}\",\"x\":[\"Music\"],\"xaxis\":\"x\",\"yaxis\":\"y\",\"type\":\"histogram\"},{\"alignmentgroup\":\"True\",\"bingroup\":\"x\",\"hovertemplate\":\"Followers=48.1M<br>Category=%{x}<br>count=%{y}<extra></extra>\",\"legendgroup\":\"48.1M\",\"marker\":{\"color\":\"#B6E880\",\"pattern\":{\"shape\":\"\"}},\"name\":\"48.1M\",\"offsetgroup\":\"48.1M\",\"orientation\":\"v\",\"showlegend\":true,\"texttemplate\":\"%{value}\",\"x\":[\"Cinema & Actors/actresses\"],\"xaxis\":\"x\",\"yaxis\":\"y\",\"type\":\"histogram\"},{\"alignmentgroup\":\"True\",\"bingroup\":\"x\",\"hovertemplate\":\"Followers=64.4M<br>Category=%{x}<br>count=%{y}<extra></extra>\",\"legendgroup\":\"64.4M\",\"marker\":{\"color\":\"#FF97FF\",\"pattern\":{\"shape\":\"\"}},\"name\":\"64.4M\",\"offsetgroup\":\"64.4M\",\"orientation\":\"v\",\"showlegend\":true,\"texttemplate\":\"%{value}\",\"x\":[\"Music\"],\"xaxis\":\"x\",\"yaxis\":\"y\",\"type\":\"histogram\"},{\"alignmentgroup\":\"True\",\"bingroup\":\"x\",\"hovertemplate\":\"Followers=24.7M<br>Category=%{x}<br>count=%{y}<extra></extra>\",\"legendgroup\":\"24.7M\",\"marker\":{\"color\":\"#FECB52\",\"pattern\":{\"shape\":\"\"}},\"name\":\"24.7M\",\"offsetgroup\":\"24.7M\",\"orientation\":\"v\",\"showlegend\":true,\"texttemplate\":\"%{value}\",\"x\":[\"Cinema & Actors/actresses\",\"ShowsHumor & Fun & Happiness\",\"PhotographyTravel\"],\"xaxis\":\"x\",\"yaxis\":\"y\",\"type\":\"histogram\"},{\"alignmentgroup\":\"True\",\"bingroup\":\"x\",\"hovertemplate\":\"Followers=32.9M<br>Category=%{x}<br>count=%{y}<extra></extra>\",\"legendgroup\":\"32.9M\",\"marker\":{\"color\":\"#636efa\",\"pattern\":{\"shape\":\"\"}},\"name\":\"32.9M\",\"offsetgroup\":\"32.9M\",\"orientation\":\"v\",\"showlegend\":true,\"texttemplate\":\"%{value}\",\"x\":[\"Cinema & Actors/actresses\",\"MusicArt/Artists\"],\"xaxis\":\"x\",\"yaxis\":\"y\",\"type\":\"histogram\"},{\"alignmentgroup\":\"True\",\"bingroup\":\"x\",\"hovertemplate\":\"Followers=48.9M<br>Category=%{x}<br>count=%{y}<extra></extra>\",\"legendgroup\":\"48.9M\",\"marker\":{\"color\":\"#EF553B\",\"pattern\":{\"shape\":\"\"}},\"name\":\"48.9M\",\"offsetgroup\":\"48.9M\",\"orientation\":\"v\",\"showlegend\":true,\"texttemplate\":\"%{value}\",\"x\":[\"LifestyleShows\",\"ShowsBeautyFamily\"],\"xaxis\":\"x\",\"yaxis\":\"y\",\"type\":\"histogram\"},{\"alignmentgroup\":\"True\",\"bingroup\":\"x\",\"hovertemplate\":\"Followers=24.2M<br>Category=%{x}<br>count=%{y}<extra></extra>\",\"legendgroup\":\"24.2M\",\"marker\":{\"color\":\"#00cc96\",\"pattern\":{\"shape\":\"\"}},\"name\":\"24.2M\",\"offsetgroup\":\"24.2M\",\"orientation\":\"v\",\"showlegend\":true,\"texttemplate\":\"%{value}\",\"x\":[\"Music\",\"BeautyModelingCinema & Actors/actresses\"],\"xaxis\":\"x\",\"yaxis\":\"y\",\"type\":\"histogram\"},{\"alignmentgroup\":\"True\",\"bingroup\":\"x\",\"hovertemplate\":\"Followers=55.1M<br>Category=%{x}<br>count=%{y}<extra></extra>\",\"legendgroup\":\"55.1M\",\"marker\":{\"color\":\"#ab63fa\",\"pattern\":{\"shape\":\"\"}},\"name\":\"55.1M\",\"offsetgroup\":\"55.1M\",\"orientation\":\"v\",\"showlegend\":true,\"texttemplate\":\"%{value}\",\"x\":[\"Cinema & Actors/actresses\"],\"xaxis\":\"x\",\"yaxis\":\"y\",\"type\":\"histogram\"},{\"alignmentgroup\":\"True\",\"bingroup\":\"x\",\"hovertemplate\":\"Followers=35.2M<br>Category=%{x}<br>count=%{y}<extra></extra>\",\"legendgroup\":\"35.2M\",\"marker\":{\"color\":\"#FFA15A\",\"pattern\":{\"shape\":\"\"}},\"name\":\"35.2M\",\"offsetgroup\":\"35.2M\",\"orientation\":\"v\",\"showlegend\":true,\"texttemplate\":\"%{value}\",\"x\":[\"Clothing & OutfitsLifestyle\"],\"xaxis\":\"x\",\"yaxis\":\"y\",\"type\":\"histogram\"},{\"alignmentgroup\":\"True\",\"bingroup\":\"x\",\"hovertemplate\":\"Followers=49M<br>Category=%{x}<br>count=%{y}<extra></extra>\",\"legendgroup\":\"49M\",\"marker\":{\"color\":\"#19d3f3\",\"pattern\":{\"shape\":\"\"}},\"name\":\"49M\",\"offsetgroup\":\"49M\",\"orientation\":\"v\",\"showlegend\":true,\"texttemplate\":\"%{value}\",\"x\":[\"Music\"],\"xaxis\":\"x\",\"yaxis\":\"y\",\"type\":\"histogram\"},{\"alignmentgroup\":\"True\",\"bingroup\":\"x\",\"hovertemplate\":\"Followers=54.6M<br>Category=%{x}<br>count=%{y}<extra></extra>\",\"legendgroup\":\"54.6M\",\"marker\":{\"color\":\"#FF6692\",\"pattern\":{\"shape\":\"\"}},\"name\":\"54.6M\",\"offsetgroup\":\"54.6M\",\"orientation\":\"v\",\"showlegend\":true,\"texttemplate\":\"%{value}\",\"x\":[\"Sports with a ball\"],\"xaxis\":\"x\",\"yaxis\":\"y\",\"type\":\"histogram\"},{\"alignmentgroup\":\"True\",\"bingroup\":\"x\",\"hovertemplate\":\"Followers=51.9M<br>Category=%{x}<br>count=%{y}<extra></extra>\",\"legendgroup\":\"51.9M\",\"marker\":{\"color\":\"#B6E880\",\"pattern\":{\"shape\":\"\"}},\"name\":\"51.9M\",\"offsetgroup\":\"51.9M\",\"orientation\":\"v\",\"showlegend\":true,\"texttemplate\":\"%{value}\",\"x\":[\"Sports with a ball\"],\"xaxis\":\"x\",\"yaxis\":\"y\",\"type\":\"histogram\"},{\"alignmentgroup\":\"True\",\"bingroup\":\"x\",\"hovertemplate\":\"Followers=22.2M<br>Category=%{x}<br>count=%{y}<extra></extra>\",\"legendgroup\":\"22.2M\",\"marker\":{\"color\":\"#FF97FF\",\"pattern\":{\"shape\":\"\"}},\"name\":\"22.2M\",\"offsetgroup\":\"22.2M\",\"orientation\":\"v\",\"showlegend\":true,\"texttemplate\":\"%{value}\",\"x\":[\"Cinema & Actors/actressesModelingLifestyle\",\"Sports with a ball\",\"Sports with a ball\"],\"xaxis\":\"x\",\"yaxis\":\"y\",\"type\":\"histogram\"},{\"alignmentgroup\":\"True\",\"bingroup\":\"x\",\"hovertemplate\":\"Followers=23M<br>Category=%{x}<br>count=%{y}<extra></extra>\",\"legendgroup\":\"23M\",\"marker\":{\"color\":\"#FECB52\",\"pattern\":{\"shape\":\"\"}},\"name\":\"23M\",\"offsetgroup\":\"23M\",\"orientation\":\"v\",\"showlegend\":true,\"texttemplate\":\"%{value}\",\"x\":[\"Cinema & Actors/actresses\",\"Cinema & Actors/actresses\",\"Sports with a ball\",\"Cinema & Actors/actressesLifestyle\"],\"xaxis\":\"x\",\"yaxis\":\"y\",\"type\":\"histogram\"},{\"alignmentgroup\":\"True\",\"bingroup\":\"x\",\"hovertemplate\":\"Followers=28.5M<br>Category=%{x}<br>count=%{y}<extra></extra>\",\"legendgroup\":\"28.5M\",\"marker\":{\"color\":\"#636efa\",\"pattern\":{\"shape\":\"\"}},\"name\":\"28.5M\",\"offsetgroup\":\"28.5M\",\"orientation\":\"v\",\"showlegend\":true,\"texttemplate\":\"%{value}\",\"x\":[\"Cinema & Actors/actresses\"],\"xaxis\":\"x\",\"yaxis\":\"y\",\"type\":\"histogram\"},{\"alignmentgroup\":\"True\",\"bingroup\":\"x\",\"hovertemplate\":\"Followers=30.2M<br>Category=%{x}<br>count=%{y}<extra></extra>\",\"legendgroup\":\"30.2M\",\"marker\":{\"color\":\"#EF553B\",\"pattern\":{\"shape\":\"\"}},\"name\":\"30.2M\",\"offsetgroup\":\"30.2M\",\"orientation\":\"v\",\"showlegend\":true,\"texttemplate\":\"%{value}\",\"x\":[\"Music\"],\"xaxis\":\"x\",\"yaxis\":\"y\",\"type\":\"histogram\"},{\"alignmentgroup\":\"True\",\"bingroup\":\"x\",\"hovertemplate\":\"Followers=47.7M<br>Category=%{x}<br>count=%{y}<extra></extra>\",\"legendgroup\":\"47.7M\",\"marker\":{\"color\":\"#00cc96\",\"pattern\":{\"shape\":\"\"}},\"name\":\"47.7M\",\"offsetgroup\":\"47.7M\",\"orientation\":\"v\",\"showlegend\":true,\"texttemplate\":\"%{value}\",\"x\":[\"Sports with a ball\",\"Music\"],\"xaxis\":\"x\",\"yaxis\":\"y\",\"type\":\"histogram\"},{\"alignmentgroup\":\"True\",\"bingroup\":\"x\",\"hovertemplate\":\"Followers=83.8M<br>Category=%{x}<br>count=%{y}<extra></extra>\",\"legendgroup\":\"83.8M\",\"marker\":{\"color\":\"#ab63fa\",\"pattern\":{\"shape\":\"\"}},\"name\":\"83.8M\",\"offsetgroup\":\"83.8M\",\"orientation\":\"v\",\"showlegend\":true,\"texttemplate\":\"%{value}\",\"x\":[\"Cinema & Actors/actresses\"],\"xaxis\":\"x\",\"yaxis\":\"y\",\"type\":\"histogram\"},{\"alignmentgroup\":\"True\",\"bingroup\":\"x\",\"hovertemplate\":\"Followers=23.3M<br>Category=%{x}<br>count=%{y}<extra></extra>\",\"legendgroup\":\"23.3M\",\"marker\":{\"color\":\"#FFA15A\",\"pattern\":{\"shape\":\"\"}},\"name\":\"23.3M\",\"offsetgroup\":\"23.3M\",\"orientation\":\"v\",\"showlegend\":true,\"texttemplate\":\"%{value}\",\"x\":[\"Music\",\"Fitness & Gym\"],\"xaxis\":\"x\",\"yaxis\":\"y\",\"type\":\"histogram\"},{\"alignmentgroup\":\"True\",\"bingroup\":\"x\",\"hovertemplate\":\"Followers=121.8M<br>Category=%{x}<br>count=%{y}<extra></extra>\",\"legendgroup\":\"121.8M\",\"marker\":{\"color\":\"#19d3f3\",\"pattern\":{\"shape\":\"\"}},\"name\":\"121.8M\",\"offsetgroup\":\"121.8M\",\"orientation\":\"v\",\"showlegend\":true,\"texttemplate\":\"%{value}\",\"x\":[\"Sports with a ball\"],\"xaxis\":\"x\",\"yaxis\":\"y\",\"type\":\"histogram\"},{\"alignmentgroup\":\"True\",\"bingroup\":\"x\",\"hovertemplate\":\"Followers=21.6M<br>Category=%{x}<br>count=%{y}<extra></extra>\",\"legendgroup\":\"21.6M\",\"marker\":{\"color\":\"#FF6692\",\"pattern\":{\"shape\":\"\"}},\"name\":\"21.6M\",\"offsetgroup\":\"21.6M\",\"orientation\":\"v\",\"showlegend\":true,\"texttemplate\":\"%{value}\",\"x\":[\"ModelingLifestyleBeauty\",\"Cinema & Actors/actresses\"],\"xaxis\":\"x\",\"yaxis\":\"y\",\"type\":\"histogram\"},{\"alignmentgroup\":\"True\",\"bingroup\":\"x\",\"hovertemplate\":\"Followers=29M<br>Category=%{x}<br>count=%{y}<extra></extra>\",\"legendgroup\":\"29M\",\"marker\":{\"color\":\"#B6E880\",\"pattern\":{\"shape\":\"\"}},\"name\":\"29M\",\"offsetgroup\":\"29M\",\"orientation\":\"v\",\"showlegend\":true,\"texttemplate\":\"%{value}\",\"x\":[\"Cinema & Actors/actresses\",\"Racing Sports\"],\"xaxis\":\"x\",\"yaxis\":\"y\",\"type\":\"histogram\"},{\"alignmentgroup\":\"True\",\"bingroup\":\"x\",\"hovertemplate\":\"Followers=115.1M<br>Category=%{x}<br>count=%{y}<extra></extra>\",\"legendgroup\":\"115.1M\",\"marker\":{\"color\":\"#FF97FF\",\"pattern\":{\"shape\":\"\"}},\"name\":\"115.1M\",\"offsetgroup\":\"115.1M\",\"orientation\":\"v\",\"showlegend\":true,\"texttemplate\":\"%{value}\",\"x\":[\"Music\"],\"xaxis\":\"x\",\"yaxis\":\"y\",\"type\":\"histogram\"},{\"alignmentgroup\":\"True\",\"bingroup\":\"x\",\"hovertemplate\":\"Followers=110M<br>Category=%{x}<br>count=%{y}<extra></extra>\",\"legendgroup\":\"110M\",\"marker\":{\"color\":\"#FECB52\",\"pattern\":{\"shape\":\"\"}},\"name\":\"110M\",\"offsetgroup\":\"110M\",\"orientation\":\"v\",\"showlegend\":true,\"texttemplate\":\"%{value}\",\"x\":[\"Sports with a ball\"],\"xaxis\":\"x\",\"yaxis\":\"y\",\"type\":\"histogram\"},{\"alignmentgroup\":\"True\",\"bingroup\":\"x\",\"hovertemplate\":\"Followers=30M<br>Category=%{x}<br>count=%{y}<extra></extra>\",\"legendgroup\":\"30M\",\"marker\":{\"color\":\"#636efa\",\"pattern\":{\"shape\":\"\"}},\"name\":\"30M\",\"offsetgroup\":\"30M\",\"orientation\":\"v\",\"showlegend\":true,\"texttemplate\":\"%{value}\",\"x\":[\"Cinema & Actors/actresses\"],\"xaxis\":\"x\",\"yaxis\":\"y\",\"type\":\"histogram\"},{\"alignmentgroup\":\"True\",\"bingroup\":\"x\",\"hovertemplate\":\"Followers=136.3M<br>Category=%{x}<br>count=%{y}<extra></extra>\",\"legendgroup\":\"136.3M\",\"marker\":{\"color\":\"#EF553B\",\"pattern\":{\"shape\":\"\"}},\"name\":\"136.3M\",\"offsetgroup\":\"136.3M\",\"orientation\":\"v\",\"showlegend\":true,\"texttemplate\":\"%{value}\",\"x\":[\"Music\"],\"xaxis\":\"x\",\"yaxis\":\"y\",\"type\":\"histogram\"},{\"alignmentgroup\":\"True\",\"bingroup\":\"x\",\"hovertemplate\":\"Followers=32.3M<br>Category=%{x}<br>count=%{y}<extra></extra>\",\"legendgroup\":\"32.3M\",\"marker\":{\"color\":\"#00cc96\",\"pattern\":{\"shape\":\"\"}},\"name\":\"32.3M\",\"offsetgroup\":\"32.3M\",\"orientation\":\"v\",\"showlegend\":true,\"texttemplate\":\"%{value}\",\"x\":[\"BeautyArt/ArtistsCinema & Actors/actresses\",\"Humor & Fun & HappinessClothing & Outfits\",\"Cinema & Actors/actresses\",\"MusicModelingArt/Artists\"],\"xaxis\":\"x\",\"yaxis\":\"y\",\"type\":\"histogram\"},{\"alignmentgroup\":\"True\",\"bingroup\":\"x\",\"hovertemplate\":\"Followers=52.1M<br>Category=%{x}<br>count=%{y}<extra></extra>\",\"legendgroup\":\"52.1M\",\"marker\":{\"color\":\"#ab63fa\",\"pattern\":{\"shape\":\"\"}},\"name\":\"52.1M\",\"offsetgroup\":\"52.1M\",\"orientation\":\"v\",\"showlegend\":true,\"texttemplate\":\"%{value}\",\"x\":[\"Cinema & Actors/actressesLifestyle\"],\"xaxis\":\"x\",\"yaxis\":\"y\",\"type\":\"histogram\"},{\"alignmentgroup\":\"True\",\"bingroup\":\"x\",\"hovertemplate\":\"Followers=14.4M<br>Category=%{x}<br>count=%{y}<extra></extra>\",\"legendgroup\":\"14.4M\",\"marker\":{\"color\":\"#FFA15A\",\"pattern\":{\"shape\":\"\"}},\"name\":\"14.4M\",\"offsetgroup\":\"14.4M\",\"orientation\":\"v\",\"showlegend\":true,\"texttemplate\":\"%{value}\",\"x\":[\"LifestyleMusic\",\"Modeling\",\"Music\",\"Lifestyle\",\"Lifestyle\",\"Cinema & Actors/actresses\"],\"xaxis\":\"x\",\"yaxis\":\"y\",\"type\":\"histogram\"},{\"alignmentgroup\":\"True\",\"bingroup\":\"x\",\"hovertemplate\":\"Followers=28.9M<br>Category=%{x}<br>count=%{y}<extra></extra>\",\"legendgroup\":\"28.9M\",\"marker\":{\"color\":\"#19d3f3\",\"pattern\":{\"shape\":\"\"}},\"name\":\"28.9M\",\"offsetgroup\":\"28.9M\",\"orientation\":\"v\",\"showlegend\":true,\"texttemplate\":\"%{value}\",\"x\":[\"Music\"],\"xaxis\":\"x\",\"yaxis\":\"y\",\"type\":\"histogram\"},{\"alignmentgroup\":\"True\",\"bingroup\":\"x\",\"hovertemplate\":\"Followers=67.8M<br>Category=%{x}<br>count=%{y}<extra></extra>\",\"legendgroup\":\"67.8M\",\"marker\":{\"color\":\"#FF6692\",\"pattern\":{\"shape\":\"\"}},\"name\":\"67.8M\",\"offsetgroup\":\"67.8M\",\"orientation\":\"v\",\"showlegend\":true,\"texttemplate\":\"%{value}\",\"x\":[\"Cinema & Actors/actresses\"],\"xaxis\":\"x\",\"yaxis\":\"y\",\"type\":\"histogram\"},{\"alignmentgroup\":\"True\",\"bingroup\":\"x\",\"hovertemplate\":\"Followers=34.5M<br>Category=%{x}<br>count=%{y}<extra></extra>\",\"legendgroup\":\"34.5M\",\"marker\":{\"color\":\"#B6E880\",\"pattern\":{\"shape\":\"\"}},\"name\":\"34.5M\",\"offsetgroup\":\"34.5M\",\"orientation\":\"v\",\"showlegend\":true,\"texttemplate\":\"%{value}\",\"x\":[\"Music\"],\"xaxis\":\"x\",\"yaxis\":\"y\",\"type\":\"histogram\"},{\"alignmentgroup\":\"True\",\"bingroup\":\"x\",\"hovertemplate\":\"Followers=45.9M<br>Category=%{x}<br>count=%{y}<extra></extra>\",\"legendgroup\":\"45.9M\",\"marker\":{\"color\":\"#FF97FF\",\"pattern\":{\"shape\":\"\"}},\"name\":\"45.9M\",\"offsetgroup\":\"45.9M\",\"orientation\":\"v\",\"showlegend\":true,\"texttemplate\":\"%{value}\",\"x\":[\"LifestyleModeling\"],\"xaxis\":\"x\",\"yaxis\":\"y\",\"type\":\"histogram\"},{\"alignmentgroup\":\"True\",\"bingroup\":\"x\",\"hovertemplate\":\"Followers=55.9M<br>Category=%{x}<br>count=%{y}<extra></extra>\",\"legendgroup\":\"55.9M\",\"marker\":{\"color\":\"#FECB52\",\"pattern\":{\"shape\":\"\"}},\"name\":\"55.9M\",\"offsetgroup\":\"55.9M\",\"orientation\":\"v\",\"showlegend\":true,\"texttemplate\":\"%{value}\",\"x\":[\"Sports with a ball\"],\"xaxis\":\"x\",\"yaxis\":\"y\",\"type\":\"histogram\"},{\"alignmentgroup\":\"True\",\"bingroup\":\"x\",\"hovertemplate\":\"Followers=53.9M<br>Category=%{x}<br>count=%{y}<extra></extra>\",\"legendgroup\":\"53.9M\",\"marker\":{\"color\":\"#636efa\",\"pattern\":{\"shape\":\"\"}},\"name\":\"53.9M\",\"offsetgroup\":\"53.9M\",\"orientation\":\"v\",\"showlegend\":true,\"texttemplate\":\"%{value}\",\"x\":[\"Cinema & Actors/actresses\"],\"xaxis\":\"x\",\"yaxis\":\"y\",\"type\":\"histogram\"},{\"alignmentgroup\":\"True\",\"bingroup\":\"x\",\"hovertemplate\":\"Followers=20M<br>Category=%{x}<br>count=%{y}<extra></extra>\",\"legendgroup\":\"20M\",\"marker\":{\"color\":\"#EF553B\",\"pattern\":{\"shape\":\"\"}},\"name\":\"20M\",\"offsetgroup\":\"20M\",\"orientation\":\"v\",\"showlegend\":true,\"texttemplate\":\"%{value}\",\"x\":[\"ModelingFamily\",\"ShowsHumor & Fun & Happiness\",null],\"xaxis\":\"x\",\"yaxis\":\"y\",\"type\":\"histogram\"},{\"alignmentgroup\":\"True\",\"bingroup\":\"x\",\"hovertemplate\":\"Followers=21.9M<br>Category=%{x}<br>count=%{y}<extra></extra>\",\"legendgroup\":\"21.9M\",\"marker\":{\"color\":\"#00cc96\",\"pattern\":{\"shape\":\"\"}},\"name\":\"21.9M\",\"offsetgroup\":\"21.9M\",\"orientation\":\"v\",\"showlegend\":true,\"texttemplate\":\"%{value}\",\"x\":[\"Music\",\"Computers & Gadgets\"],\"xaxis\":\"x\",\"yaxis\":\"y\",\"type\":\"histogram\"},{\"alignmentgroup\":\"True\",\"bingroup\":\"x\",\"hovertemplate\":\"Followers=9.6M<br>Category=%{x}<br>count=%{y}<extra></extra>\",\"legendgroup\":\"9.6M\",\"marker\":{\"color\":\"#ab63fa\",\"pattern\":{\"shape\":\"\"}},\"name\":\"9.6M\",\"offsetgroup\":\"9.6M\",\"orientation\":\"v\",\"showlegend\":true,\"texttemplate\":\"%{value}\",\"x\":[null,\"Cinema & Actors/actresses\",\"Cinema & Actors/actresses\",\"Sports with a ball\",\"Music\",\"Cinema & Actors/actresses\",\"Music\",\"Music\",\"Sports with a ball\"],\"xaxis\":\"x\",\"yaxis\":\"y\",\"type\":\"histogram\"},{\"alignmentgroup\":\"True\",\"bingroup\":\"x\",\"hovertemplate\":\"Followers=17M<br>Category=%{x}<br>count=%{y}<extra></extra>\",\"legendgroup\":\"17M\",\"marker\":{\"color\":\"#FFA15A\",\"pattern\":{\"shape\":\"\"}},\"name\":\"17M\",\"offsetgroup\":\"17M\",\"orientation\":\"v\",\"showlegend\":true,\"texttemplate\":\"%{value}\",\"x\":[null,\"Computers & Gadgets\",\"MusicCinema & Actors/actressesFashion\",\"Art/Artists\"],\"xaxis\":\"x\",\"yaxis\":\"y\",\"type\":\"histogram\"},{\"alignmentgroup\":\"True\",\"bingroup\":\"x\",\"hovertemplate\":\"Followers=26.1M<br>Category=%{x}<br>count=%{y}<extra></extra>\",\"legendgroup\":\"26.1M\",\"marker\":{\"color\":\"#19d3f3\",\"pattern\":{\"shape\":\"\"}},\"name\":\"26.1M\",\"offsetgroup\":\"26.1M\",\"orientation\":\"v\",\"showlegend\":true,\"texttemplate\":\"%{value}\",\"x\":[\"MusicModeling\"],\"xaxis\":\"x\",\"yaxis\":\"y\",\"type\":\"histogram\"},{\"alignmentgroup\":\"True\",\"bingroup\":\"x\",\"hovertemplate\":\"Followers=80.2M<br>Category=%{x}<br>count=%{y}<extra></extra>\",\"legendgroup\":\"80.2M\",\"marker\":{\"color\":\"#FF6692\",\"pattern\":{\"shape\":\"\"}},\"name\":\"80.2M\",\"offsetgroup\":\"80.2M\",\"orientation\":\"v\",\"showlegend\":true,\"texttemplate\":\"%{value}\",\"x\":[\"Cinema & Actors/actresses\"],\"xaxis\":\"x\",\"yaxis\":\"y\",\"type\":\"histogram\"},{\"alignmentgroup\":\"True\",\"bingroup\":\"x\",\"hovertemplate\":\"Followers=24.1M<br>Category=%{x}<br>count=%{y}<extra></extra>\",\"legendgroup\":\"24.1M\",\"marker\":{\"color\":\"#B6E880\",\"pattern\":{\"shape\":\"\"}},\"name\":\"24.1M\",\"offsetgroup\":\"24.1M\",\"orientation\":\"v\",\"showlegend\":true,\"texttemplate\":\"%{value}\",\"x\":[\"Cinema & Actors/actressesModeling\"],\"xaxis\":\"x\",\"yaxis\":\"y\",\"type\":\"histogram\"},{\"alignmentgroup\":\"True\",\"bingroup\":\"x\",\"hovertemplate\":\"Followers=40.7M<br>Category=%{x}<br>count=%{y}<extra></extra>\",\"legendgroup\":\"40.7M\",\"marker\":{\"color\":\"#FF97FF\",\"pattern\":{\"shape\":\"\"}},\"name\":\"40.7M\",\"offsetgroup\":\"40.7M\",\"orientation\":\"v\",\"showlegend\":true,\"texttemplate\":\"%{value}\",\"x\":[\"Cinema & Actors/actresses\",\"Cinema & Actors/actresses\"],\"xaxis\":\"x\",\"yaxis\":\"y\",\"type\":\"histogram\"},{\"alignmentgroup\":\"True\",\"bingroup\":\"x\",\"hovertemplate\":\"Followers=14.3M<br>Category=%{x}<br>count=%{y}<extra></extra>\",\"legendgroup\":\"14.3M\",\"marker\":{\"color\":\"#FECB52\",\"pattern\":{\"shape\":\"\"}},\"name\":\"14.3M\",\"offsetgroup\":\"14.3M\",\"orientation\":\"v\",\"showlegend\":true,\"texttemplate\":\"%{value}\",\"x\":[\"Cinema & Actors/actresses\",\"Business & Careers\",null],\"xaxis\":\"x\",\"yaxis\":\"y\",\"type\":\"histogram\"},{\"alignmentgroup\":\"True\",\"bingroup\":\"x\",\"hovertemplate\":\"Followers=40.4M<br>Category=%{x}<br>count=%{y}<extra></extra>\",\"legendgroup\":\"40.4M\",\"marker\":{\"color\":\"#636efa\",\"pattern\":{\"shape\":\"\"}},\"name\":\"40.4M\",\"offsetgroup\":\"40.4M\",\"orientation\":\"v\",\"showlegend\":true,\"texttemplate\":\"%{value}\",\"x\":[\"Beauty\"],\"xaxis\":\"x\",\"yaxis\":\"y\",\"type\":\"histogram\"},{\"alignmentgroup\":\"True\",\"bingroup\":\"x\",\"hovertemplate\":\"Followers=227.6M<br>Category=%{x}<br>count=%{y}<extra></extra>\",\"legendgroup\":\"227.6M\",\"marker\":{\"color\":\"#EF553B\",\"pattern\":{\"shape\":\"\"}},\"name\":\"227.6M\",\"offsetgroup\":\"227.6M\",\"orientation\":\"v\",\"showlegend\":true,\"texttemplate\":\"%{value}\",\"x\":[\"Fitness & GymShopping & RetailClothing & Outfits\"],\"xaxis\":\"x\",\"yaxis\":\"y\",\"type\":\"histogram\"},{\"alignmentgroup\":\"True\",\"bingroup\":\"x\",\"hovertemplate\":\"Followers=24.6M<br>Category=%{x}<br>count=%{y}<extra></extra>\",\"legendgroup\":\"24.6M\",\"marker\":{\"color\":\"#00cc96\",\"pattern\":{\"shape\":\"\"}},\"name\":\"24.6M\",\"offsetgroup\":\"24.6M\",\"orientation\":\"v\",\"showlegend\":true,\"texttemplate\":\"%{value}\",\"x\":[\"MusicCinema & Actors/actresses\",\"Music\",\"Sports with a ball\",\"Music\"],\"xaxis\":\"x\",\"yaxis\":\"y\",\"type\":\"histogram\"},{\"alignmentgroup\":\"True\",\"bingroup\":\"x\",\"hovertemplate\":\"Followers=25.4M<br>Category=%{x}<br>count=%{y}<extra></extra>\",\"legendgroup\":\"25.4M\",\"marker\":{\"color\":\"#ab63fa\",\"pattern\":{\"shape\":\"\"}},\"name\":\"25.4M\",\"offsetgroup\":\"25.4M\",\"orientation\":\"v\",\"showlegend\":true,\"texttemplate\":\"%{value}\",\"x\":[\"Cinema & Actors/actresses\",\"MusicArt/Artists\"],\"xaxis\":\"x\",\"yaxis\":\"y\",\"type\":\"histogram\"},{\"alignmentgroup\":\"True\",\"bingroup\":\"x\",\"hovertemplate\":\"Followers=27.8M<br>Category=%{x}<br>count=%{y}<extra></extra>\",\"legendgroup\":\"27.8M\",\"marker\":{\"color\":\"#FFA15A\",\"pattern\":{\"shape\":\"\"}},\"name\":\"27.8M\",\"offsetgroup\":\"27.8M\",\"orientation\":\"v\",\"showlegend\":true,\"texttemplate\":\"%{value}\",\"x\":[\"Fitness & GymLifestyle\",\"Computers & GadgetsPhotography\"],\"xaxis\":\"x\",\"yaxis\":\"y\",\"type\":\"histogram\"},{\"alignmentgroup\":\"True\",\"bingroup\":\"x\",\"hovertemplate\":\"Followers=43.3M<br>Category=%{x}<br>count=%{y}<extra></extra>\",\"legendgroup\":\"43.3M\",\"marker\":{\"color\":\"#19d3f3\",\"pattern\":{\"shape\":\"\"}},\"name\":\"43.3M\",\"offsetgroup\":\"43.3M\",\"orientation\":\"v\",\"showlegend\":true,\"texttemplate\":\"%{value}\",\"x\":[\"Cinema & Actors/actresses\"],\"xaxis\":\"x\",\"yaxis\":\"y\",\"type\":\"histogram\"},{\"alignmentgroup\":\"True\",\"bingroup\":\"x\",\"hovertemplate\":\"Followers=167.2M<br>Category=%{x}<br>count=%{y}<extra></extra>\",\"legendgroup\":\"167.2M\",\"marker\":{\"color\":\"#FF6692\",\"pattern\":{\"shape\":\"\"}},\"name\":\"167.2M\",\"offsetgroup\":\"167.2M\",\"orientation\":\"v\",\"showlegend\":true,\"texttemplate\":\"%{value}\",\"x\":[\"Music\"],\"xaxis\":\"x\",\"yaxis\":\"y\",\"type\":\"histogram\"},{\"alignmentgroup\":\"True\",\"bingroup\":\"x\",\"hovertemplate\":\"Followers=20.4M<br>Category=%{x}<br>count=%{y}<extra></extra>\",\"legendgroup\":\"20.4M\",\"marker\":{\"color\":\"#B6E880\",\"pattern\":{\"shape\":\"\"}},\"name\":\"20.4M\",\"offsetgroup\":\"20.4M\",\"orientation\":\"v\",\"showlegend\":true,\"texttemplate\":\"%{value}\",\"x\":[\"Cinema & Actors/actresses\",\"Shows\",\"ShowsCinema & Actors/actresses\"],\"xaxis\":\"x\",\"yaxis\":\"y\",\"type\":\"histogram\"},{\"alignmentgroup\":\"True\",\"bingroup\":\"x\",\"hovertemplate\":\"Followers=81.7M<br>Category=%{x}<br>count=%{y}<extra></extra>\",\"legendgroup\":\"81.7M\",\"marker\":{\"color\":\"#FF97FF\",\"pattern\":{\"shape\":\"\"}},\"name\":\"81.7M\",\"offsetgroup\":\"81.7M\",\"orientation\":\"v\",\"showlegend\":true,\"texttemplate\":\"%{value}\",\"x\":[\"Cinema & Actors/actresses\"],\"xaxis\":\"x\",\"yaxis\":\"y\",\"type\":\"histogram\"},{\"alignmentgroup\":\"True\",\"bingroup\":\"x\",\"hovertemplate\":\"Followers=42M<br>Category=%{x}<br>count=%{y}<extra></extra>\",\"legendgroup\":\"42M\",\"marker\":{\"color\":\"#FECB52\",\"pattern\":{\"shape\":\"\"}},\"name\":\"42M\",\"offsetgroup\":\"42M\",\"orientation\":\"v\",\"showlegend\":true,\"texttemplate\":\"%{value}\",\"x\":[\"Cinema & Actors/actressesShows\"],\"xaxis\":\"x\",\"yaxis\":\"y\",\"type\":\"histogram\"},{\"alignmentgroup\":\"True\",\"bingroup\":\"x\",\"hovertemplate\":\"Followers=62.6M<br>Category=%{x}<br>count=%{y}<extra></extra>\",\"legendgroup\":\"62.6M\",\"marker\":{\"color\":\"#636efa\",\"pattern\":{\"shape\":\"\"}},\"name\":\"62.6M\",\"offsetgroup\":\"62.6M\",\"orientation\":\"v\",\"showlegend\":true,\"texttemplate\":\"%{value}\",\"x\":[\"Cinema & Actors/actresses\"],\"xaxis\":\"x\",\"yaxis\":\"y\",\"type\":\"histogram\"},{\"alignmentgroup\":\"True\",\"bingroup\":\"x\",\"hovertemplate\":\"Followers=35.4M<br>Category=%{x}<br>count=%{y}<extra></extra>\",\"legendgroup\":\"35.4M\",\"marker\":{\"color\":\"#EF553B\",\"pattern\":{\"shape\":\"\"}},\"name\":\"35.4M\",\"offsetgroup\":\"35.4M\",\"orientation\":\"v\",\"showlegend\":true,\"texttemplate\":\"%{value}\",\"x\":[\"Music\",\"Cinema & Actors/actresses\",\"Finance & EconomicsBusiness & CareersFamily\"],\"xaxis\":\"x\",\"yaxis\":\"y\",\"type\":\"histogram\"},{\"alignmentgroup\":\"True\",\"bingroup\":\"x\",\"hovertemplate\":\"Followers=12.1M<br>Category=%{x}<br>count=%{y}<extra></extra>\",\"legendgroup\":\"12.1M\",\"marker\":{\"color\":\"#00cc96\",\"pattern\":{\"shape\":\"\"}},\"name\":\"12.1M\",\"offsetgroup\":\"12.1M\",\"orientation\":\"v\",\"showlegend\":true,\"texttemplate\":\"%{value}\",\"x\":[null,\"Music\",\"LifestylePhotography\"],\"xaxis\":\"x\",\"yaxis\":\"y\",\"type\":\"histogram\"},{\"alignmentgroup\":\"True\",\"bingroup\":\"x\",\"hovertemplate\":\"Followers=53.1M<br>Category=%{x}<br>count=%{y}<extra></extra>\",\"legendgroup\":\"53.1M\",\"marker\":{\"color\":\"#ab63fa\",\"pattern\":{\"shape\":\"\"}},\"name\":\"53.1M\",\"offsetgroup\":\"53.1M\",\"orientation\":\"v\",\"showlegend\":true,\"texttemplate\":\"%{value}\",\"x\":[\"MusicCinema & Actors/actresses\",\"BeautyCinema & Actors/actresses\"],\"xaxis\":\"x\",\"yaxis\":\"y\",\"type\":\"histogram\"},{\"alignmentgroup\":\"True\",\"bingroup\":\"x\",\"hovertemplate\":\"Followers=49.7M<br>Category=%{x}<br>count=%{y}<extra></extra>\",\"legendgroup\":\"49.7M\",\"marker\":{\"color\":\"#FFA15A\",\"pattern\":{\"shape\":\"\"}},\"name\":\"49.7M\",\"offsetgroup\":\"49.7M\",\"orientation\":\"v\",\"showlegend\":true,\"texttemplate\":\"%{value}\",\"x\":[\"Modeling\"],\"xaxis\":\"x\",\"yaxis\":\"y\",\"type\":\"histogram\"},{\"alignmentgroup\":\"True\",\"bingroup\":\"x\",\"hovertemplate\":\"Followers=23.4M<br>Category=%{x}<br>count=%{y}<extra></extra>\",\"legendgroup\":\"23.4M\",\"marker\":{\"color\":\"#19d3f3\",\"pattern\":{\"shape\":\"\"}},\"name\":\"23.4M\",\"offsetgroup\":\"23.4M\",\"orientation\":\"v\",\"showlegend\":true,\"texttemplate\":\"%{value}\",\"x\":[\"Lifestyle\",\"Cinema & Actors/actresses\"],\"xaxis\":\"x\",\"yaxis\":\"y\",\"type\":\"histogram\"},{\"alignmentgroup\":\"True\",\"bingroup\":\"x\",\"hovertemplate\":\"Followers=19M<br>Category=%{x}<br>count=%{y}<extra></extra>\",\"legendgroup\":\"19M\",\"marker\":{\"color\":\"#FF6692\",\"pattern\":{\"shape\":\"\"}},\"name\":\"19M\",\"offsetgroup\":\"19M\",\"orientation\":\"v\",\"showlegend\":true,\"texttemplate\":\"%{value}\",\"x\":[\"ShowsHumor & Fun & Happiness\",\"MusicCinema & Actors/actressesModeling\",\"Fitness & Gym\"],\"xaxis\":\"x\",\"yaxis\":\"y\",\"type\":\"histogram\"},{\"alignmentgroup\":\"True\",\"bingroup\":\"x\",\"hovertemplate\":\"Followers=20.9M<br>Category=%{x}<br>count=%{y}<extra></extra>\",\"legendgroup\":\"20.9M\",\"marker\":{\"color\":\"#B6E880\",\"pattern\":{\"shape\":\"\"}},\"name\":\"20.9M\",\"offsetgroup\":\"20.9M\",\"orientation\":\"v\",\"showlegend\":true,\"texttemplate\":\"%{value}\",\"x\":[\"Music\",\"Humor & Fun & Happiness\",\"Cinema & Actors/actresses\"],\"xaxis\":\"x\",\"yaxis\":\"y\",\"type\":\"histogram\"},{\"alignmentgroup\":\"True\",\"bingroup\":\"x\",\"hovertemplate\":\"Followers=75.6M<br>Category=%{x}<br>count=%{y}<extra></extra>\",\"legendgroup\":\"75.6M\",\"marker\":{\"color\":\"#FF97FF\",\"pattern\":{\"shape\":\"\"}},\"name\":\"75.6M\",\"offsetgroup\":\"75.6M\",\"orientation\":\"v\",\"showlegend\":true,\"texttemplate\":\"%{value}\",\"x\":[\"Music\"],\"xaxis\":\"x\",\"yaxis\":\"y\",\"type\":\"histogram\"},{\"alignmentgroup\":\"True\",\"bingroup\":\"x\",\"hovertemplate\":\"Followers=43.5M<br>Category=%{x}<br>count=%{y}<extra></extra>\",\"legendgroup\":\"43.5M\",\"marker\":{\"color\":\"#FECB52\",\"pattern\":{\"shape\":\"\"}},\"name\":\"43.5M\",\"offsetgroup\":\"43.5M\",\"orientation\":\"v\",\"showlegend\":true,\"texttemplate\":\"%{value}\",\"x\":[\"Cinema & Actors/actresses\"],\"xaxis\":\"x\",\"yaxis\":\"y\",\"type\":\"histogram\"},{\"alignmentgroup\":\"True\",\"bingroup\":\"x\",\"hovertemplate\":\"Followers=12.6M<br>Category=%{x}<br>count=%{y}<extra></extra>\",\"legendgroup\":\"12.6M\",\"marker\":{\"color\":\"#636efa\",\"pattern\":{\"shape\":\"\"}},\"name\":\"12.6M\",\"offsetgroup\":\"12.6M\",\"orientation\":\"v\",\"showlegend\":true,\"texttemplate\":\"%{value}\",\"x\":[\"Cinema & Actors/actresses\",\"MusicCinema & Actors/actresses\"],\"xaxis\":\"x\",\"yaxis\":\"y\",\"type\":\"histogram\"},{\"alignmentgroup\":\"True\",\"bingroup\":\"x\",\"hovertemplate\":\"Followers=73.4M<br>Category=%{x}<br>count=%{y}<extra></extra>\",\"legendgroup\":\"73.4M\",\"marker\":{\"color\":\"#EF553B\",\"pattern\":{\"shape\":\"\"}},\"name\":\"73.4M\",\"offsetgroup\":\"73.4M\",\"orientation\":\"v\",\"showlegend\":true,\"texttemplate\":\"%{value}\",\"x\":[\"Cinema & Actors/actresses\"],\"xaxis\":\"x\",\"yaxis\":\"y\",\"type\":\"histogram\"},{\"alignmentgroup\":\"True\",\"bingroup\":\"x\",\"hovertemplate\":\"Followers=21.3M<br>Category=%{x}<br>count=%{y}<extra></extra>\",\"legendgroup\":\"21.3M\",\"marker\":{\"color\":\"#00cc96\",\"pattern\":{\"shape\":\"\"}},\"name\":\"21.3M\",\"offsetgroup\":\"21.3M\",\"orientation\":\"v\",\"showlegend\":true,\"texttemplate\":\"%{value}\",\"x\":[\"Sports with a ball\",\"Cinema & Actors/actresses\",\"Art/ArtistsCinema & Actors/actressesShows\"],\"xaxis\":\"x\",\"yaxis\":\"y\",\"type\":\"histogram\"},{\"alignmentgroup\":\"True\",\"bingroup\":\"x\",\"hovertemplate\":\"Followers=29.5M<br>Category=%{x}<br>count=%{y}<extra></extra>\",\"legendgroup\":\"29.5M\",\"marker\":{\"color\":\"#ab63fa\",\"pattern\":{\"shape\":\"\"}},\"name\":\"29.5M\",\"offsetgroup\":\"29.5M\",\"orientation\":\"v\",\"showlegend\":true,\"texttemplate\":\"%{value}\",\"x\":[\"Modeling\",\"MusicLifestyle\"],\"xaxis\":\"x\",\"yaxis\":\"y\",\"type\":\"histogram\"},{\"alignmentgroup\":\"True\",\"bingroup\":\"x\",\"hovertemplate\":\"Followers=16.8M<br>Category=%{x}<br>count=%{y}<extra></extra>\",\"legendgroup\":\"16.8M\",\"marker\":{\"color\":\"#FFA15A\",\"pattern\":{\"shape\":\"\"}},\"name\":\"16.8M\",\"offsetgroup\":\"16.8M\",\"orientation\":\"v\",\"showlegend\":true,\"texttemplate\":\"%{value}\",\"x\":[\"LifestyleModeling\",\"Humor & Fun & Happiness\",\"Humor & Fun & Happiness\",\"Cinema & Actors/actresses\"],\"xaxis\":\"x\",\"yaxis\":\"y\",\"type\":\"histogram\"},{\"alignmentgroup\":\"True\",\"bingroup\":\"x\",\"hovertemplate\":\"Followers=41.6M<br>Category=%{x}<br>count=%{y}<extra></extra>\",\"legendgroup\":\"41.6M\",\"marker\":{\"color\":\"#19d3f3\",\"pattern\":{\"shape\":\"\"}},\"name\":\"41.6M\",\"offsetgroup\":\"41.6M\",\"orientation\":\"v\",\"showlegend\":true,\"texttemplate\":\"%{value}\",\"x\":[\"Music\"],\"xaxis\":\"x\",\"yaxis\":\"y\",\"type\":\"histogram\"},{\"alignmentgroup\":\"True\",\"bingroup\":\"x\",\"hovertemplate\":\"Followers=62.7M<br>Category=%{x}<br>count=%{y}<extra></extra>\",\"legendgroup\":\"62.7M\",\"marker\":{\"color\":\"#FF6692\",\"pattern\":{\"shape\":\"\"}},\"name\":\"62.7M\",\"offsetgroup\":\"62.7M\",\"orientation\":\"v\",\"showlegend\":true,\"texttemplate\":\"%{value}\",\"x\":[\"Music\"],\"xaxis\":\"x\",\"yaxis\":\"y\",\"type\":\"histogram\"},{\"alignmentgroup\":\"True\",\"bingroup\":\"x\",\"hovertemplate\":\"Followers=53M<br>Category=%{x}<br>count=%{y}<extra></extra>\",\"legendgroup\":\"53M\",\"marker\":{\"color\":\"#B6E880\",\"pattern\":{\"shape\":\"\"}},\"name\":\"53M\",\"offsetgroup\":\"53M\",\"orientation\":\"v\",\"showlegend\":true,\"texttemplate\":\"%{value}\",\"x\":[\"Cinema & Actors/actressesArt/Artists\",\"Cinema & Actors/actresses\"],\"xaxis\":\"x\",\"yaxis\":\"y\",\"type\":\"histogram\"},{\"alignmentgroup\":\"True\",\"bingroup\":\"x\",\"hovertemplate\":\"Followers=232.2M<br>Category=%{x}<br>count=%{y}<extra></extra>\",\"legendgroup\":\"232.2M\",\"marker\":{\"color\":\"#FF97FF\",\"pattern\":{\"shape\":\"\"}},\"name\":\"232.2M\",\"offsetgroup\":\"232.2M\",\"orientation\":\"v\",\"showlegend\":true,\"texttemplate\":\"%{value}\",\"x\":[\"Nature & landscapesSciencePhotography\"],\"xaxis\":\"x\",\"yaxis\":\"y\",\"type\":\"histogram\"},{\"alignmentgroup\":\"True\",\"bingroup\":\"x\",\"hovertemplate\":\"Followers=31.8M<br>Category=%{x}<br>count=%{y}<extra></extra>\",\"legendgroup\":\"31.8M\",\"marker\":{\"color\":\"#FECB52\",\"pattern\":{\"shape\":\"\"}},\"name\":\"31.8M\",\"offsetgroup\":\"31.8M\",\"orientation\":\"v\",\"showlegend\":true,\"texttemplate\":\"%{value}\",\"x\":[\"Music\",\"Humor & Fun & Happiness\",\"ShowsCinema & Actors/actresses\"],\"xaxis\":\"x\",\"yaxis\":\"y\",\"type\":\"histogram\"},{\"alignmentgroup\":\"True\",\"bingroup\":\"x\",\"hovertemplate\":\"Followers=62.2M<br>Category=%{x}<br>count=%{y}<extra></extra>\",\"legendgroup\":\"62.2M\",\"marker\":{\"color\":\"#636efa\",\"pattern\":{\"shape\":\"\"}},\"name\":\"62.2M\",\"offsetgroup\":\"62.2M\",\"orientation\":\"v\",\"showlegend\":true,\"texttemplate\":\"%{value}\",\"x\":[\"Cinema & Actors/actresses\"],\"xaxis\":\"x\",\"yaxis\":\"y\",\"type\":\"histogram\"},{\"alignmentgroup\":\"True\",\"bingroup\":\"x\",\"hovertemplate\":\"Followers=47.8M<br>Category=%{x}<br>count=%{y}<extra></extra>\",\"legendgroup\":\"47.8M\",\"marker\":{\"color\":\"#EF553B\",\"pattern\":{\"shape\":\"\"}},\"name\":\"47.8M\",\"offsetgroup\":\"47.8M\",\"orientation\":\"v\",\"showlegend\":true,\"texttemplate\":\"%{value}\",\"x\":[\"Sports with a ball\"],\"xaxis\":\"x\",\"yaxis\":\"y\",\"type\":\"histogram\"},{\"alignmentgroup\":\"True\",\"bingroup\":\"x\",\"hovertemplate\":\"Followers=41.2M<br>Category=%{x}<br>count=%{y}<extra></extra>\",\"legendgroup\":\"41.2M\",\"marker\":{\"color\":\"#00cc96\",\"pattern\":{\"shape\":\"\"}},\"name\":\"41.2M\",\"offsetgroup\":\"41.2M\",\"orientation\":\"v\",\"showlegend\":true,\"texttemplate\":\"%{value}\",\"x\":[\"Cinema & Actors/actressesMusicShows\"],\"xaxis\":\"x\",\"yaxis\":\"y\",\"type\":\"histogram\"},{\"alignmentgroup\":\"True\",\"bingroup\":\"x\",\"hovertemplate\":\"Followers=27.4M<br>Category=%{x}<br>count=%{y}<extra></extra>\",\"legendgroup\":\"27.4M\",\"marker\":{\"color\":\"#ab63fa\",\"pattern\":{\"shape\":\"\"}},\"name\":\"27.4M\",\"offsetgroup\":\"27.4M\",\"orientation\":\"v\",\"showlegend\":true,\"texttemplate\":\"%{value}\",\"x\":[\"Music\",\"Music\",\"Music\"],\"xaxis\":\"x\",\"yaxis\":\"y\",\"type\":\"histogram\"},{\"alignmentgroup\":\"True\",\"bingroup\":\"x\",\"hovertemplate\":\"Followers=57.2M<br>Category=%{x}<br>count=%{y}<extra></extra>\",\"legendgroup\":\"57.2M\",\"marker\":{\"color\":\"#FFA15A\",\"pattern\":{\"shape\":\"\"}},\"name\":\"57.2M\",\"offsetgroup\":\"57.2M\",\"orientation\":\"v\",\"showlegend\":true,\"texttemplate\":\"%{value}\",\"x\":[\"Sports with a ball\"],\"xaxis\":\"x\",\"yaxis\":\"y\",\"type\":\"histogram\"},{\"alignmentgroup\":\"True\",\"bingroup\":\"x\",\"hovertemplate\":\"Followers=23.6M<br>Category=%{x}<br>count=%{y}<extra></extra>\",\"legendgroup\":\"23.6M\",\"marker\":{\"color\":\"#19d3f3\",\"pattern\":{\"shape\":\"\"}},\"name\":\"23.6M\",\"offsetgroup\":\"23.6M\",\"orientation\":\"v\",\"showlegend\":true,\"texttemplate\":\"%{value}\",\"x\":[\"ShowsLifestyle\"],\"xaxis\":\"x\",\"yaxis\":\"y\",\"type\":\"histogram\"},{\"alignmentgroup\":\"True\",\"bingroup\":\"x\",\"hovertemplate\":\"Followers=30.7M<br>Category=%{x}<br>count=%{y}<extra></extra>\",\"legendgroup\":\"30.7M\",\"marker\":{\"color\":\"#FF6692\",\"pattern\":{\"shape\":\"\"}},\"name\":\"30.7M\",\"offsetgroup\":\"30.7M\",\"orientation\":\"v\",\"showlegend\":true,\"texttemplate\":\"%{value}\",\"x\":[\"Cinema & Actors/actresses\",\"Cinema & Actors/actresses\"],\"xaxis\":\"x\",\"yaxis\":\"y\",\"type\":\"histogram\"},{\"alignmentgroup\":\"True\",\"bingroup\":\"x\",\"hovertemplate\":\"Followers=16M<br>Category=%{x}<br>count=%{y}<extra></extra>\",\"legendgroup\":\"16M\",\"marker\":{\"color\":\"#B6E880\",\"pattern\":{\"shape\":\"\"}},\"name\":\"16M\",\"offsetgroup\":\"16M\",\"orientation\":\"v\",\"showlegend\":true,\"texttemplate\":\"%{value}\",\"x\":[\"Cinema & Actors/actresses\",\"Music\",\"Lifestyle\",\"Cinema & Actors/actresses\",\"Cinema & Actors/actresses\",\"Music\"],\"xaxis\":\"x\",\"yaxis\":\"y\",\"type\":\"histogram\"},{\"alignmentgroup\":\"True\",\"bingroup\":\"x\",\"hovertemplate\":\"Followers=29.1M<br>Category=%{x}<br>count=%{y}<extra></extra>\",\"legendgroup\":\"29.1M\",\"marker\":{\"color\":\"#FF97FF\",\"pattern\":{\"shape\":\"\"}},\"name\":\"29.1M\",\"offsetgroup\":\"29.1M\",\"orientation\":\"v\",\"showlegend\":true,\"texttemplate\":\"%{value}\",\"x\":[\"Music\"],\"xaxis\":\"x\",\"yaxis\":\"y\",\"type\":\"histogram\"},{\"alignmentgroup\":\"True\",\"bingroup\":\"x\",\"hovertemplate\":\"Followers=40.3M<br>Category=%{x}<br>count=%{y}<extra></extra>\",\"legendgroup\":\"40.3M\",\"marker\":{\"color\":\"#FECB52\",\"pattern\":{\"shape\":\"\"}},\"name\":\"40.3M\",\"offsetgroup\":\"40.3M\",\"orientation\":\"v\",\"showlegend\":true,\"texttemplate\":\"%{value}\",\"x\":[\"Music\"],\"xaxis\":\"x\",\"yaxis\":\"y\",\"type\":\"histogram\"},{\"alignmentgroup\":\"True\",\"bingroup\":\"x\",\"hovertemplate\":\"Followers=35.3M<br>Category=%{x}<br>count=%{y}<extra></extra>\",\"legendgroup\":\"35.3M\",\"marker\":{\"color\":\"#636efa\",\"pattern\":{\"shape\":\"\"}},\"name\":\"35.3M\",\"offsetgroup\":\"35.3M\",\"orientation\":\"v\",\"showlegend\":true,\"texttemplate\":\"%{value}\",\"x\":[\"Cinema & Actors/actresses\"],\"xaxis\":\"x\",\"yaxis\":\"y\",\"type\":\"histogram\"},{\"alignmentgroup\":\"True\",\"bingroup\":\"x\",\"hovertemplate\":\"Followers=24.4M<br>Category=%{x}<br>count=%{y}<extra></extra>\",\"legendgroup\":\"24.4M\",\"marker\":{\"color\":\"#EF553B\",\"pattern\":{\"shape\":\"\"}},\"name\":\"24.4M\",\"offsetgroup\":\"24.4M\",\"orientation\":\"v\",\"showlegend\":true,\"texttemplate\":\"%{value}\",\"x\":[\"Cinema & Actors/actresses\",\"Sports with a ballLifestyle\",\"Music\",\"Music\"],\"xaxis\":\"x\",\"yaxis\":\"y\",\"type\":\"histogram\"},{\"alignmentgroup\":\"True\",\"bingroup\":\"x\",\"hovertemplate\":\"Followers=13.6M<br>Category=%{x}<br>count=%{y}<extra></extra>\",\"legendgroup\":\"13.6M\",\"marker\":{\"color\":\"#00cc96\",\"pattern\":{\"shape\":\"\"}},\"name\":\"13.6M\",\"offsetgroup\":\"13.6M\",\"orientation\":\"v\",\"showlegend\":true,\"texttemplate\":\"%{value}\",\"x\":[\"LifestyleCinema & Actors/actresses\",\"Music\",\"Lifestyle\",\"Business & Careers\",\"Lifestyle\",\"Sports with a ball\"],\"xaxis\":\"x\",\"yaxis\":\"y\",\"type\":\"histogram\"},{\"alignmentgroup\":\"True\",\"bingroup\":\"x\",\"hovertemplate\":\"Followers=17.1M<br>Category=%{x}<br>count=%{y}<extra></extra>\",\"legendgroup\":\"17.1M\",\"marker\":{\"color\":\"#ab63fa\",\"pattern\":{\"shape\":\"\"}},\"name\":\"17.1M\",\"offsetgroup\":\"17.1M\",\"orientation\":\"v\",\"showlegend\":true,\"texttemplate\":\"%{value}\",\"x\":[\"LifestyleSports with a ball\"],\"xaxis\":\"x\",\"yaxis\":\"y\",\"type\":\"histogram\"},{\"alignmentgroup\":\"True\",\"bingroup\":\"x\",\"hovertemplate\":\"Followers=20.7M<br>Category=%{x}<br>count=%{y}<extra></extra>\",\"legendgroup\":\"20.7M\",\"marker\":{\"color\":\"#FFA15A\",\"pattern\":{\"shape\":\"\"}},\"name\":\"20.7M\",\"offsetgroup\":\"20.7M\",\"orientation\":\"v\",\"showlegend\":true,\"texttemplate\":\"%{value}\",\"x\":[\"Cinema & Actors/actresses\",\"FamilyMusic\",\"ModelingFashion\"],\"xaxis\":\"x\",\"yaxis\":\"y\",\"type\":\"histogram\"},{\"alignmentgroup\":\"True\",\"bingroup\":\"x\",\"hovertemplate\":\"Followers=44.1M<br>Category=%{x}<br>count=%{y}<extra></extra>\",\"legendgroup\":\"44.1M\",\"marker\":{\"color\":\"#19d3f3\",\"pattern\":{\"shape\":\"\"}},\"name\":\"44.1M\",\"offsetgroup\":\"44.1M\",\"orientation\":\"v\",\"showlegend\":true,\"texttemplate\":\"%{value}\",\"x\":[\"Sports with a ball\"],\"xaxis\":\"x\",\"yaxis\":\"y\",\"type\":\"histogram\"},{\"alignmentgroup\":\"True\",\"bingroup\":\"x\",\"hovertemplate\":\"Followers=95.7M<br>Category=%{x}<br>count=%{y}<extra></extra>\",\"legendgroup\":\"95.7M\",\"marker\":{\"color\":\"#FF6692\",\"pattern\":{\"shape\":\"\"}},\"name\":\"95.7M\",\"offsetgroup\":\"95.7M\",\"orientation\":\"v\",\"showlegend\":true,\"texttemplate\":\"%{value}\",\"x\":[\"Sports with a ball\"],\"xaxis\":\"x\",\"yaxis\":\"y\",\"type\":\"histogram\"},{\"alignmentgroup\":\"True\",\"bingroup\":\"x\",\"hovertemplate\":\"Followers=50.8M<br>Category=%{x}<br>count=%{y}<extra></extra>\",\"legendgroup\":\"50.8M\",\"marker\":{\"color\":\"#B6E880\",\"pattern\":{\"shape\":\"\"}},\"name\":\"50.8M\",\"offsetgroup\":\"50.8M\",\"orientation\":\"v\",\"showlegend\":true,\"texttemplate\":\"%{value}\",\"x\":[\"Sports with a ball\"],\"xaxis\":\"x\",\"yaxis\":\"y\",\"type\":\"histogram\"},{\"alignmentgroup\":\"True\",\"bingroup\":\"x\",\"hovertemplate\":\"Followers=36.2M<br>Category=%{x}<br>count=%{y}<extra></extra>\",\"legendgroup\":\"36.2M\",\"marker\":{\"color\":\"#FF97FF\",\"pattern\":{\"shape\":\"\"}},\"name\":\"36.2M\",\"offsetgroup\":\"36.2M\",\"orientation\":\"v\",\"showlegend\":true,\"texttemplate\":\"%{value}\",\"x\":[\"Cinema & Actors/actressesMusic\"],\"xaxis\":\"x\",\"yaxis\":\"y\",\"type\":\"histogram\"},{\"alignmentgroup\":\"True\",\"bingroup\":\"x\",\"hovertemplate\":\"Followers=14.1M<br>Category=%{x}<br>count=%{y}<extra></extra>\",\"legendgroup\":\"14.1M\",\"marker\":{\"color\":\"#FECB52\",\"pattern\":{\"shape\":\"\"}},\"name\":\"14.1M\",\"offsetgroup\":\"14.1M\",\"orientation\":\"v\",\"showlegend\":true,\"texttemplate\":\"%{value}\",\"x\":[\"Music\",\"Cinema & Actors/actresses\",\"Music\",\"LifestyleMusic\",\"MusicCinema & Actors/actresses\",\"Cinema & Actors/actresses\",\"Cars & MotorbikesLuxury\",\"Sports with a ball\"],\"xaxis\":\"x\",\"yaxis\":\"y\",\"type\":\"histogram\"},{\"alignmentgroup\":\"True\",\"bingroup\":\"x\",\"hovertemplate\":\"Followers=10.8M<br>Category=%{x}<br>count=%{y}<extra></extra>\",\"legendgroup\":\"10.8M\",\"marker\":{\"color\":\"#636efa\",\"pattern\":{\"shape\":\"\"}},\"name\":\"10.8M\",\"offsetgroup\":\"10.8M\",\"orientation\":\"v\",\"showlegend\":true,\"texttemplate\":\"%{value}\",\"x\":[null,\"MusicLifestyle\"],\"xaxis\":\"x\",\"yaxis\":\"y\",\"type\":\"histogram\"},{\"alignmentgroup\":\"True\",\"bingroup\":\"x\",\"hovertemplate\":\"Followers=20.6M<br>Category=%{x}<br>count=%{y}<extra></extra>\",\"legendgroup\":\"20.6M\",\"marker\":{\"color\":\"#EF553B\",\"pattern\":{\"shape\":\"\"}},\"name\":\"20.6M\",\"offsetgroup\":\"20.6M\",\"orientation\":\"v\",\"showlegend\":true,\"texttemplate\":\"%{value}\",\"x\":[\"Cinema & Actors/actresses\"],\"xaxis\":\"x\",\"yaxis\":\"y\",\"type\":\"histogram\"},{\"alignmentgroup\":\"True\",\"bingroup\":\"x\",\"hovertemplate\":\"Followers=49.8M<br>Category=%{x}<br>count=%{y}<extra></extra>\",\"legendgroup\":\"49.8M\",\"marker\":{\"color\":\"#00cc96\",\"pattern\":{\"shape\":\"\"}},\"name\":\"49.8M\",\"offsetgroup\":\"49.8M\",\"orientation\":\"v\",\"showlegend\":true,\"texttemplate\":\"%{value}\",\"x\":[\"Sports with a ball\"],\"xaxis\":\"x\",\"yaxis\":\"y\",\"type\":\"histogram\"},{\"alignmentgroup\":\"True\",\"bingroup\":\"x\",\"hovertemplate\":\"Followers=9.8M<br>Category=%{x}<br>count=%{y}<extra></extra>\",\"legendgroup\":\"9.8M\",\"marker\":{\"color\":\"#ab63fa\",\"pattern\":{\"shape\":\"\"}},\"name\":\"9.8M\",\"offsetgroup\":\"9.8M\",\"orientation\":\"v\",\"showlegend\":true,\"texttemplate\":\"%{value}\",\"x\":[null,\"Music\",\"Music\",\"MusicModeling\",\"Lifestyle\",\"Shows\",\"Cinema & Actors/actressesModeling\",\"Shows\",null],\"xaxis\":\"x\",\"yaxis\":\"y\",\"type\":\"histogram\"},{\"alignmentgroup\":\"True\",\"bingroup\":\"x\",\"hovertemplate\":\"Followers=21.2M<br>Category=%{x}<br>count=%{y}<extra></extra>\",\"legendgroup\":\"21.2M\",\"marker\":{\"color\":\"#FFA15A\",\"pattern\":{\"shape\":\"\"}},\"name\":\"21.2M\",\"offsetgroup\":\"21.2M\",\"orientation\":\"v\",\"showlegend\":true,\"texttemplate\":\"%{value}\",\"x\":[\"ShowsCinema & Actors/actresses\",\"PhotographyFashion\",\"Music\"],\"xaxis\":\"x\",\"yaxis\":\"y\",\"type\":\"histogram\"},{\"alignmentgroup\":\"True\",\"bingroup\":\"x\",\"hovertemplate\":\"Followers=15.9M<br>Category=%{x}<br>count=%{y}<extra></extra>\",\"legendgroup\":\"15.9M\",\"marker\":{\"color\":\"#19d3f3\",\"pattern\":{\"shape\":\"\"}},\"name\":\"15.9M\",\"offsetgroup\":\"15.9M\",\"orientation\":\"v\",\"showlegend\":true,\"texttemplate\":\"%{value}\",\"x\":[\"LifestyleShows\",\"Computers & GadgetsMachinery & Technologies\",\"Sports with a ball\",\"Music\"],\"xaxis\":\"x\",\"yaxis\":\"y\",\"type\":\"histogram\"},{\"alignmentgroup\":\"True\",\"bingroup\":\"x\",\"hovertemplate\":\"Followers=25.8M<br>Category=%{x}<br>count=%{y}<extra></extra>\",\"legendgroup\":\"25.8M\",\"marker\":{\"color\":\"#FF6692\",\"pattern\":{\"shape\":\"\"}},\"name\":\"25.8M\",\"offsetgroup\":\"25.8M\",\"orientation\":\"v\",\"showlegend\":true,\"texttemplate\":\"%{value}\",\"x\":[\"Lifestyle\"],\"xaxis\":\"x\",\"yaxis\":\"y\",\"type\":\"histogram\"},{\"alignmentgroup\":\"True\",\"bingroup\":\"x\",\"hovertemplate\":\"Followers=18.9M<br>Category=%{x}<br>count=%{y}<extra></extra>\",\"legendgroup\":\"18.9M\",\"marker\":{\"color\":\"#B6E880\",\"pattern\":{\"shape\":\"\"}},\"name\":\"18.9M\",\"offsetgroup\":\"18.9M\",\"orientation\":\"v\",\"showlegend\":true,\"texttemplate\":\"%{value}\",\"x\":[\"Lifestyle\",\"BeautyLifestyle\"],\"xaxis\":\"x\",\"yaxis\":\"y\",\"type\":\"histogram\"},{\"alignmentgroup\":\"True\",\"bingroup\":\"x\",\"hovertemplate\":\"Followers=24.5M<br>Category=%{x}<br>count=%{y}<extra></extra>\",\"legendgroup\":\"24.5M\",\"marker\":{\"color\":\"#FF97FF\",\"pattern\":{\"shape\":\"\"}},\"name\":\"24.5M\",\"offsetgroup\":\"24.5M\",\"orientation\":\"v\",\"showlegend\":true,\"texttemplate\":\"%{value}\",\"x\":[\"Sports with a ball\",\"Cinema & Actors/actresses\"],\"xaxis\":\"x\",\"yaxis\":\"y\",\"type\":\"histogram\"},{\"alignmentgroup\":\"True\",\"bingroup\":\"x\",\"hovertemplate\":\"Followers=37M<br>Category=%{x}<br>count=%{y}<extra></extra>\",\"legendgroup\":\"37M\",\"marker\":{\"color\":\"#FECB52\",\"pattern\":{\"shape\":\"\"}},\"name\":\"37M\",\"offsetgroup\":\"37M\",\"orientation\":\"v\",\"showlegend\":true,\"texttemplate\":\"%{value}\",\"x\":[\"Food & Cooking\",\"Cinema & Actors/actresses\"],\"xaxis\":\"x\",\"yaxis\":\"y\",\"type\":\"histogram\"},{\"alignmentgroup\":\"True\",\"bingroup\":\"x\",\"hovertemplate\":\"Followers=8.5M<br>Category=%{x}<br>count=%{y}<extra></extra>\",\"legendgroup\":\"8.5M\",\"marker\":{\"color\":\"#636efa\",\"pattern\":{\"shape\":\"\"}},\"name\":\"8.5M\",\"offsetgroup\":\"8.5M\",\"orientation\":\"v\",\"showlegend\":true,\"texttemplate\":\"%{value}\",\"x\":[\"Lifestyle\",\"ShowsHumor & Fun & Happiness\",\"Cinema & Actors/actresses\",\"Cinema & Actors/actresses\",\"Cinema & Actors/actressesMusic\",\"Cinema & Actors/actressesLifestyle\",\"Cinema & Actors/actressesMusic\"],\"xaxis\":\"x\",\"yaxis\":\"y\",\"type\":\"histogram\"},{\"alignmentgroup\":\"True\",\"bingroup\":\"x\",\"hovertemplate\":\"Followers=44.5M<br>Category=%{x}<br>count=%{y}<extra></extra>\",\"legendgroup\":\"44.5M\",\"marker\":{\"color\":\"#EF553B\",\"pattern\":{\"shape\":\"\"}},\"name\":\"44.5M\",\"offsetgroup\":\"44.5M\",\"orientation\":\"v\",\"showlegend\":true,\"texttemplate\":\"%{value}\",\"x\":[\"Cinema & Actors/actresses\"],\"xaxis\":\"x\",\"yaxis\":\"y\",\"type\":\"histogram\"},{\"alignmentgroup\":\"True\",\"bingroup\":\"x\",\"hovertemplate\":\"Followers=44.7M<br>Category=%{x}<br>count=%{y}<extra></extra>\",\"legendgroup\":\"44.7M\",\"marker\":{\"color\":\"#00cc96\",\"pattern\":{\"shape\":\"\"}},\"name\":\"44.7M\",\"offsetgroup\":\"44.7M\",\"orientation\":\"v\",\"showlegend\":true,\"texttemplate\":\"%{value}\",\"x\":[\"Sports with a ballFamily\"],\"xaxis\":\"x\",\"yaxis\":\"y\",\"type\":\"histogram\"},{\"alignmentgroup\":\"True\",\"bingroup\":\"x\",\"hovertemplate\":\"Followers=20.5M<br>Category=%{x}<br>count=%{y}<extra></extra>\",\"legendgroup\":\"20.5M\",\"marker\":{\"color\":\"#ab63fa\",\"pattern\":{\"shape\":\"\"}},\"name\":\"20.5M\",\"offsetgroup\":\"20.5M\",\"orientation\":\"v\",\"showlegend\":true,\"texttemplate\":\"%{value}\",\"x\":[\"Cinema & Actors/actressesShows\",\"Humor & Fun & Happiness\"],\"xaxis\":\"x\",\"yaxis\":\"y\",\"type\":\"histogram\"},{\"alignmentgroup\":\"True\",\"bingroup\":\"x\",\"hovertemplate\":\"Followers=65.5M<br>Category=%{x}<br>count=%{y}<extra></extra>\",\"legendgroup\":\"65.5M\",\"marker\":{\"color\":\"#FFA15A\",\"pattern\":{\"shape\":\"\"}},\"name\":\"65.5M\",\"offsetgroup\":\"65.5M\",\"orientation\":\"v\",\"showlegend\":true,\"texttemplate\":\"%{value}\",\"x\":[\"MusicArt/ArtistsCinema & Actors/actresses\"],\"xaxis\":\"x\",\"yaxis\":\"y\",\"type\":\"histogram\"},{\"alignmentgroup\":\"True\",\"bingroup\":\"x\",\"hovertemplate\":\"Followers=13M<br>Category=%{x}<br>count=%{y}<extra></extra>\",\"legendgroup\":\"13M\",\"marker\":{\"color\":\"#19d3f3\",\"pattern\":{\"shape\":\"\"}},\"name\":\"13M\",\"offsetgroup\":\"13M\",\"orientation\":\"v\",\"showlegend\":true,\"texttemplate\":\"%{value}\",\"x\":[\"Music\",\"Music\",null,\"Shows\"],\"xaxis\":\"x\",\"yaxis\":\"y\",\"type\":\"histogram\"},{\"alignmentgroup\":\"True\",\"bingroup\":\"x\",\"hovertemplate\":\"Followers=19.1M<br>Category=%{x}<br>count=%{y}<extra></extra>\",\"legendgroup\":\"19.1M\",\"marker\":{\"color\":\"#FF6692\",\"pattern\":{\"shape\":\"\"}},\"name\":\"19.1M\",\"offsetgroup\":\"19.1M\",\"orientation\":\"v\",\"showlegend\":true,\"texttemplate\":\"%{value}\",\"x\":[\"Cinema & Actors/actresses\",\"Sports with a ball\",\"Cinema & Actors/actressesLifestyle\"],\"xaxis\":\"x\",\"yaxis\":\"y\",\"type\":\"histogram\"},{\"alignmentgroup\":\"True\",\"bingroup\":\"x\",\"hovertemplate\":\"Followers=24.3M<br>Category=%{x}<br>count=%{y}<extra></extra>\",\"legendgroup\":\"24.3M\",\"marker\":{\"color\":\"#B6E880\",\"pattern\":{\"shape\":\"\"}},\"name\":\"24.3M\",\"offsetgroup\":\"24.3M\",\"orientation\":\"v\",\"showlegend\":true,\"texttemplate\":\"%{value}\",\"x\":[\"Sports with a ball\",\"Cinema & Actors/actresses\",\"LifestyleModelingCinema & Actors/actresses\",\"LifestyleModelingCinema & Actors/actresses\"],\"xaxis\":\"x\",\"yaxis\":\"y\",\"type\":\"histogram\"},{\"alignmentgroup\":\"True\",\"bingroup\":\"x\",\"hovertemplate\":\"Followers=10.7M<br>Category=%{x}<br>count=%{y}<extra></extra>\",\"legendgroup\":\"10.7M\",\"marker\":{\"color\":\"#FF97FF\",\"pattern\":{\"shape\":\"\"}},\"name\":\"10.7M\",\"offsetgroup\":\"10.7M\",\"orientation\":\"v\",\"showlegend\":true,\"texttemplate\":\"%{value}\",\"x\":[\"LifestyleModeling\",\"Cinema & Actors/actresses\",\"Lifestyle\",\"Sports with a ball\",\"LifestyleSports with a ball\",\"Lifestyle\",\"ModelingBeauty\"],\"xaxis\":\"x\",\"yaxis\":\"y\",\"type\":\"histogram\"},{\"alignmentgroup\":\"True\",\"bingroup\":\"x\",\"hovertemplate\":\"Followers=10.3M<br>Category=%{x}<br>count=%{y}<extra></extra>\",\"legendgroup\":\"10.3M\",\"marker\":{\"color\":\"#FECB52\",\"pattern\":{\"shape\":\"\"}},\"name\":\"10.3M\",\"offsetgroup\":\"10.3M\",\"orientation\":\"v\",\"showlegend\":true,\"texttemplate\":\"%{value}\",\"x\":[\"Lifestyle\",\"Lifestyle\",\"Cinema & Actors/actressesLifestyle\",\"MusicCinema & Actors/actresses\",\"Shows\",\"Lifestyle\"],\"xaxis\":\"x\",\"yaxis\":\"y\",\"type\":\"histogram\"},{\"alignmentgroup\":\"True\",\"bingroup\":\"x\",\"hovertemplate\":\"Followers=54.7M<br>Category=%{x}<br>count=%{y}<extra></extra>\",\"legendgroup\":\"54.7M\",\"marker\":{\"color\":\"#636efa\",\"pattern\":{\"shape\":\"\"}},\"name\":\"54.7M\",\"offsetgroup\":\"54.7M\",\"orientation\":\"v\",\"showlegend\":true,\"texttemplate\":\"%{value}\",\"x\":[\"Sports with a ball\"],\"xaxis\":\"x\",\"yaxis\":\"y\",\"type\":\"histogram\"},{\"alignmentgroup\":\"True\",\"bingroup\":\"x\",\"hovertemplate\":\"Followers=52.3M<br>Category=%{x}<br>count=%{y}<extra></extra>\",\"legendgroup\":\"52.3M\",\"marker\":{\"color\":\"#EF553B\",\"pattern\":{\"shape\":\"\"}},\"name\":\"52.3M\",\"offsetgroup\":\"52.3M\",\"orientation\":\"v\",\"showlegend\":true,\"texttemplate\":\"%{value}\",\"x\":[\"Sports with a ball\"],\"xaxis\":\"x\",\"yaxis\":\"y\",\"type\":\"histogram\"},{\"alignmentgroup\":\"True\",\"bingroup\":\"x\",\"hovertemplate\":\"Followers=35.9M<br>Category=%{x}<br>count=%{y}<extra></extra>\",\"legendgroup\":\"35.9M\",\"marker\":{\"color\":\"#00cc96\",\"pattern\":{\"shape\":\"\"}},\"name\":\"35.9M\",\"offsetgroup\":\"35.9M\",\"orientation\":\"v\",\"showlegend\":true,\"texttemplate\":\"%{value}\",\"x\":[\"MusicCinema & Actors/actresses\"],\"xaxis\":\"x\",\"yaxis\":\"y\",\"type\":\"histogram\"},{\"alignmentgroup\":\"True\",\"bingroup\":\"x\",\"hovertemplate\":\"Followers=6.6M<br>Category=%{x}<br>count=%{y}<extra></extra>\",\"legendgroup\":\"6.6M\",\"marker\":{\"color\":\"#ab63fa\",\"pattern\":{\"shape\":\"\"}},\"name\":\"6.6M\",\"offsetgroup\":\"6.6M\",\"orientation\":\"v\",\"showlegend\":true,\"texttemplate\":\"%{value}\",\"x\":[null,null,\"Fashion\",\"LifestyleModeling\"],\"xaxis\":\"x\",\"yaxis\":\"y\",\"type\":\"histogram\"},{\"alignmentgroup\":\"True\",\"bingroup\":\"x\",\"hovertemplate\":\"Followers=21.4M<br>Category=%{x}<br>count=%{y}<extra></extra>\",\"legendgroup\":\"21.4M\",\"marker\":{\"color\":\"#FFA15A\",\"pattern\":{\"shape\":\"\"}},\"name\":\"21.4M\",\"offsetgroup\":\"21.4M\",\"orientation\":\"v\",\"showlegend\":true,\"texttemplate\":\"%{value}\",\"x\":[\"ShowsHumor & Fun & Happiness\",\"Music\"],\"xaxis\":\"x\",\"yaxis\":\"y\",\"type\":\"histogram\"},{\"alignmentgroup\":\"True\",\"bingroup\":\"x\",\"hovertemplate\":\"Followers=13.5M<br>Category=%{x}<br>count=%{y}<extra></extra>\",\"legendgroup\":\"13.5M\",\"marker\":{\"color\":\"#19d3f3\",\"pattern\":{\"shape\":\"\"}},\"name\":\"13.5M\",\"offsetgroup\":\"13.5M\",\"orientation\":\"v\",\"showlegend\":true,\"texttemplate\":\"%{value}\",\"x\":[\"Music\",\"Cinema & Actors/actresses\",\"Music\",\"Cinema & Actors/actresses\",\"Cinema & Actors/actressesModelingLifestyle\",\"Sports with a ball\",\"Cinema & Actors/actresses\",\"Machinery & TechnologiesComputers & Gadgets\",\"Sports with a ball\"],\"xaxis\":\"x\",\"yaxis\":\"y\",\"type\":\"histogram\"},{\"alignmentgroup\":\"True\",\"bingroup\":\"x\",\"hovertemplate\":\"Followers=25.7M<br>Category=%{x}<br>count=%{y}<extra></extra>\",\"legendgroup\":\"25.7M\",\"marker\":{\"color\":\"#FF6692\",\"pattern\":{\"shape\":\"\"}},\"name\":\"25.7M\",\"offsetgroup\":\"25.7M\",\"orientation\":\"v\",\"showlegend\":true,\"texttemplate\":\"%{value}\",\"x\":[\"Cinema & Actors/actresses\",\"Music\",\"Lifestyle\"],\"xaxis\":\"x\",\"yaxis\":\"y\",\"type\":\"histogram\"},{\"alignmentgroup\":\"True\",\"bingroup\":\"x\",\"hovertemplate\":\"Followers=14.6M<br>Category=%{x}<br>count=%{y}<extra></extra>\",\"legendgroup\":\"14.6M\",\"marker\":{\"color\":\"#B6E880\",\"pattern\":{\"shape\":\"\"}},\"name\":\"14.6M\",\"offsetgroup\":\"14.6M\",\"orientation\":\"v\",\"showlegend\":true,\"texttemplate\":\"%{value}\",\"x\":[\"Cinema & Actors/actresses\",\"Cinema & Actors/actresses\",\"Cinema & Actors/actresses\",\"Cinema & Actors/actresses\",\"Lifestyle\",\"MusicFashion\"],\"xaxis\":\"x\",\"yaxis\":\"y\",\"type\":\"histogram\"},{\"alignmentgroup\":\"True\",\"bingroup\":\"x\",\"hovertemplate\":\"Followers=14M<br>Category=%{x}<br>count=%{y}<extra></extra>\",\"legendgroup\":\"14M\",\"marker\":{\"color\":\"#FF97FF\",\"pattern\":{\"shape\":\"\"}},\"name\":\"14M\",\"offsetgroup\":\"14M\",\"orientation\":\"v\",\"showlegend\":true,\"texttemplate\":\"%{value}\",\"x\":[\"Lifestyle\",\"MusicFamily\"],\"xaxis\":\"x\",\"yaxis\":\"y\",\"type\":\"histogram\"},{\"alignmentgroup\":\"True\",\"bingroup\":\"x\",\"hovertemplate\":\"Followers=16.6M<br>Category=%{x}<br>count=%{y}<extra></extra>\",\"legendgroup\":\"16.6M\",\"marker\":{\"color\":\"#FECB52\",\"pattern\":{\"shape\":\"\"}},\"name\":\"16.6M\",\"offsetgroup\":\"16.6M\",\"orientation\":\"v\",\"showlegend\":true,\"texttemplate\":\"%{value}\",\"x\":[\"Music\",\"Lifestyle\",\"Music\"],\"xaxis\":\"x\",\"yaxis\":\"y\",\"type\":\"histogram\"},{\"alignmentgroup\":\"True\",\"bingroup\":\"x\",\"hovertemplate\":\"Followers=28.8M<br>Category=%{x}<br>count=%{y}<extra></extra>\",\"legendgroup\":\"28.8M\",\"marker\":{\"color\":\"#636efa\",\"pattern\":{\"shape\":\"\"}},\"name\":\"28.8M\",\"offsetgroup\":\"28.8M\",\"orientation\":\"v\",\"showlegend\":true,\"texttemplate\":\"%{value}\",\"x\":[\"Music\"],\"xaxis\":\"x\",\"yaxis\":\"y\",\"type\":\"histogram\"},{\"alignmentgroup\":\"True\",\"bingroup\":\"x\",\"hovertemplate\":\"Followers=6.9M<br>Category=%{x}<br>count=%{y}<extra></extra>\",\"legendgroup\":\"6.9M\",\"marker\":{\"color\":\"#EF553B\",\"pattern\":{\"shape\":\"\"}},\"name\":\"6.9M\",\"offsetgroup\":\"6.9M\",\"orientation\":\"v\",\"showlegend\":true,\"texttemplate\":\"%{value}\",\"x\":[\"Modeling\",null,\"Music\",null,\"Cinema & Actors/actresses\",null,\"EducationHumor & Fun & Happiness\",\"Music\",\"Music\",\"Shows\",\"Lifestyle\",\"Lifestyle\",\"ShowsModeling\"],\"xaxis\":\"x\",\"yaxis\":\"y\",\"type\":\"histogram\"},{\"alignmentgroup\":\"True\",\"bingroup\":\"x\",\"hovertemplate\":\"Followers=33.1M<br>Category=%{x}<br>count=%{y}<extra></extra>\",\"legendgroup\":\"33.1M\",\"marker\":{\"color\":\"#00cc96\",\"pattern\":{\"shape\":\"\"}},\"name\":\"33.1M\",\"offsetgroup\":\"33.1M\",\"orientation\":\"v\",\"showlegend\":true,\"texttemplate\":\"%{value}\",\"x\":[\"Sports with a ball\",\"FashionModeling\"],\"xaxis\":\"x\",\"yaxis\":\"y\",\"type\":\"histogram\"},{\"alignmentgroup\":\"True\",\"bingroup\":\"x\",\"hovertemplate\":\"Followers=21.7M<br>Category=%{x}<br>count=%{y}<extra></extra>\",\"legendgroup\":\"21.7M\",\"marker\":{\"color\":\"#ab63fa\",\"pattern\":{\"shape\":\"\"}},\"name\":\"21.7M\",\"offsetgroup\":\"21.7M\",\"orientation\":\"v\",\"showlegend\":true,\"texttemplate\":\"%{value}\",\"x\":[\"Sports with a ball\",\"Humor & Fun & Happiness\"],\"xaxis\":\"x\",\"yaxis\":\"y\",\"type\":\"histogram\"},{\"alignmentgroup\":\"True\",\"bingroup\":\"x\",\"hovertemplate\":\"Followers=12.3M<br>Category=%{x}<br>count=%{y}<extra></extra>\",\"legendgroup\":\"12.3M\",\"marker\":{\"color\":\"#FFA15A\",\"pattern\":{\"shape\":\"\"}},\"name\":\"12.3M\",\"offsetgroup\":\"12.3M\",\"orientation\":\"v\",\"showlegend\":true,\"texttemplate\":\"%{value}\",\"x\":[\"Music\",\"Cinema & Actors/actresses\",null,\"Sports with a ball\",\"ModelingFashion\",\"Adult content\"],\"xaxis\":\"x\",\"yaxis\":\"y\",\"type\":\"histogram\"},{\"alignmentgroup\":\"True\",\"bingroup\":\"x\",\"hovertemplate\":\"Followers=62.9M<br>Category=%{x}<br>count=%{y}<extra></extra>\",\"legendgroup\":\"62.9M\",\"marker\":{\"color\":\"#19d3f3\",\"pattern\":{\"shape\":\"\"}},\"name\":\"62.9M\",\"offsetgroup\":\"62.9M\",\"orientation\":\"v\",\"showlegend\":true,\"texttemplate\":\"%{value}\",\"x\":[\"Music\"],\"xaxis\":\"x\",\"yaxis\":\"y\",\"type\":\"histogram\"},{\"alignmentgroup\":\"True\",\"bingroup\":\"x\",\"hovertemplate\":\"Followers=16.1M<br>Category=%{x}<br>count=%{y}<extra></extra>\",\"legendgroup\":\"16.1M\",\"marker\":{\"color\":\"#FF6692\",\"pattern\":{\"shape\":\"\"}},\"name\":\"16.1M\",\"offsetgroup\":\"16.1M\",\"orientation\":\"v\",\"showlegend\":true,\"texttemplate\":\"%{value}\",\"x\":[\"Music\",\"MusicCinema & Actors/actressesLifestyle\"],\"xaxis\":\"x\",\"yaxis\":\"y\",\"type\":\"histogram\"},{\"alignmentgroup\":\"True\",\"bingroup\":\"x\",\"hovertemplate\":\"Followers=25.5M<br>Category=%{x}<br>count=%{y}<extra></extra>\",\"legendgroup\":\"25.5M\",\"marker\":{\"color\":\"#B6E880\",\"pattern\":{\"shape\":\"\"}},\"name\":\"25.5M\",\"offsetgroup\":\"25.5M\",\"orientation\":\"v\",\"showlegend\":true,\"texttemplate\":\"%{value}\",\"x\":[\"Cinema & Actors/actresses\"],\"xaxis\":\"x\",\"yaxis\":\"y\",\"type\":\"histogram\"},{\"alignmentgroup\":\"True\",\"bingroup\":\"x\",\"hovertemplate\":\"Followers=18.5M<br>Category=%{x}<br>count=%{y}<extra></extra>\",\"legendgroup\":\"18.5M\",\"marker\":{\"color\":\"#FF97FF\",\"pattern\":{\"shape\":\"\"}},\"name\":\"18.5M\",\"offsetgroup\":\"18.5M\",\"orientation\":\"v\",\"showlegend\":true,\"texttemplate\":\"%{value}\",\"x\":[\"Music\"],\"xaxis\":\"x\",\"yaxis\":\"y\",\"type\":\"histogram\"},{\"alignmentgroup\":\"True\",\"bingroup\":\"x\",\"hovertemplate\":\"Followers=70.4M<br>Category=%{x}<br>count=%{y}<extra></extra>\",\"legendgroup\":\"70.4M\",\"marker\":{\"color\":\"#FECB52\",\"pattern\":{\"shape\":\"\"}},\"name\":\"70.4M\",\"offsetgroup\":\"70.4M\",\"orientation\":\"v\",\"showlegend\":true,\"texttemplate\":\"%{value}\",\"x\":[\"Music\"],\"xaxis\":\"x\",\"yaxis\":\"y\",\"type\":\"histogram\"},{\"alignmentgroup\":\"True\",\"bingroup\":\"x\",\"hovertemplate\":\"Followers=10.9M<br>Category=%{x}<br>count=%{y}<extra></extra>\",\"legendgroup\":\"10.9M\",\"marker\":{\"color\":\"#636efa\",\"pattern\":{\"shape\":\"\"}},\"name\":\"10.9M\",\"offsetgroup\":\"10.9M\",\"orientation\":\"v\",\"showlegend\":true,\"texttemplate\":\"%{value}\",\"x\":[\"Cinema & Actors/actresses\",\"Sports with a ball\",\"MusicCinema & Actors/actresses\"],\"xaxis\":\"x\",\"yaxis\":\"y\",\"type\":\"histogram\"},{\"alignmentgroup\":\"True\",\"bingroup\":\"x\",\"hovertemplate\":\"Followers=74.5M<br>Category=%{x}<br>count=%{y}<extra></extra>\",\"legendgroup\":\"74.5M\",\"marker\":{\"color\":\"#EF553B\",\"pattern\":{\"shape\":\"\"}},\"name\":\"74.5M\",\"offsetgroup\":\"74.5M\",\"orientation\":\"v\",\"showlegend\":true,\"texttemplate\":\"%{value}\",\"x\":[\"FamilySports with a ball\"],\"xaxis\":\"x\",\"yaxis\":\"y\",\"type\":\"histogram\"},{\"alignmentgroup\":\"True\",\"bingroup\":\"x\",\"hovertemplate\":\"Followers=17.7M<br>Category=%{x}<br>count=%{y}<extra></extra>\",\"legendgroup\":\"17.7M\",\"marker\":{\"color\":\"#00cc96\",\"pattern\":{\"shape\":\"\"}},\"name\":\"17.7M\",\"offsetgroup\":\"17.7M\",\"orientation\":\"v\",\"showlegend\":true,\"texttemplate\":\"%{value}\",\"x\":[\"LifestyleCinema & Actors/actresses\",\"Sports with a ball\"],\"xaxis\":\"x\",\"yaxis\":\"y\",\"type\":\"histogram\"},{\"alignmentgroup\":\"True\",\"bingroup\":\"x\",\"hovertemplate\":\"Followers=19.8M<br>Category=%{x}<br>count=%{y}<extra></extra>\",\"legendgroup\":\"19.8M\",\"marker\":{\"color\":\"#ab63fa\",\"pattern\":{\"shape\":\"\"}},\"name\":\"19.8M\",\"offsetgroup\":\"19.8M\",\"orientation\":\"v\",\"showlegend\":true,\"texttemplate\":\"%{value}\",\"x\":[\"Music\",\"Lifestyle\",\"Racing Sports\"],\"xaxis\":\"x\",\"yaxis\":\"y\",\"type\":\"histogram\"},{\"alignmentgroup\":\"True\",\"bingroup\":\"x\",\"hovertemplate\":\"Followers=9M<br>Category=%{x}<br>count=%{y}<extra></extra>\",\"legendgroup\":\"9M\",\"marker\":{\"color\":\"#FFA15A\",\"pattern\":{\"shape\":\"\"}},\"name\":\"9M\",\"offsetgroup\":\"9M\",\"orientation\":\"v\",\"showlegend\":true,\"texttemplate\":\"%{value}\",\"x\":[\"Lifestyle\",\"Sports with a ball\",\"Fitness & Gym\",\"Sports with a ball\",\"Sports with a ball\",\"Food & Cooking\",\"Lifestyle\",null,\"BeautyModelingAdult content\",\"Music\",\"Lifestyle\"],\"xaxis\":\"x\",\"yaxis\":\"y\",\"type\":\"histogram\"},{\"alignmentgroup\":\"True\",\"bingroup\":\"x\",\"hovertemplate\":\"Followers=15.5M<br>Category=%{x}<br>count=%{y}<extra></extra>\",\"legendgroup\":\"15.5M\",\"marker\":{\"color\":\"#19d3f3\",\"pattern\":{\"shape\":\"\"}},\"name\":\"15.5M\",\"offsetgroup\":\"15.5M\",\"orientation\":\"v\",\"showlegend\":true,\"texttemplate\":\"%{value}\",\"x\":[\"Cinema & Actors/actresses\",\"Modeling\",\"Music\"],\"xaxis\":\"x\",\"yaxis\":\"y\",\"type\":\"histogram\"},{\"alignmentgroup\":\"True\",\"bingroup\":\"x\",\"hovertemplate\":\"Followers=9.1M<br>Category=%{x}<br>count=%{y}<extra></extra>\",\"legendgroup\":\"9.1M\",\"marker\":{\"color\":\"#FF6692\",\"pattern\":{\"shape\":\"\"}},\"name\":\"9.1M\",\"offsetgroup\":\"9.1M\",\"orientation\":\"v\",\"showlegend\":true,\"texttemplate\":\"%{value}\",\"x\":[null,\"Sports with a ball\",\"Fitness & Gym\",\"Lifestyle\"],\"xaxis\":\"x\",\"yaxis\":\"y\",\"type\":\"histogram\"},{\"alignmentgroup\":\"True\",\"bingroup\":\"x\",\"hovertemplate\":\"Followers=31.3M<br>Category=%{x}<br>count=%{y}<extra></extra>\",\"legendgroup\":\"31.3M\",\"marker\":{\"color\":\"#B6E880\",\"pattern\":{\"shape\":\"\"}},\"name\":\"31.3M\",\"offsetgroup\":\"31.3M\",\"orientation\":\"v\",\"showlegend\":true,\"texttemplate\":\"%{value}\",\"x\":[\"Lifestyle\",\"Sports with a ballShows\"],\"xaxis\":\"x\",\"yaxis\":\"y\",\"type\":\"histogram\"},{\"alignmentgroup\":\"True\",\"bingroup\":\"x\",\"hovertemplate\":\"Followers=22.1M<br>Category=%{x}<br>count=%{y}<extra></extra>\",\"legendgroup\":\"22.1M\",\"marker\":{\"color\":\"#FF97FF\",\"pattern\":{\"shape\":\"\"}},\"name\":\"22.1M\",\"offsetgroup\":\"22.1M\",\"orientation\":\"v\",\"showlegend\":true,\"texttemplate\":\"%{value}\",\"x\":[\"Modeling\",\"Cinema & Actors/actressesModeling\"],\"xaxis\":\"x\",\"yaxis\":\"y\",\"type\":\"histogram\"},{\"alignmentgroup\":\"True\",\"bingroup\":\"x\",\"hovertemplate\":\"Followers=23.1M<br>Category=%{x}<br>count=%{y}<extra></extra>\",\"legendgroup\":\"23.1M\",\"marker\":{\"color\":\"#FECB52\",\"pattern\":{\"shape\":\"\"}},\"name\":\"23.1M\",\"offsetgroup\":\"23.1M\",\"orientation\":\"v\",\"showlegend\":true,\"texttemplate\":\"%{value}\",\"x\":[\"Cinema & Actors/actresses\"],\"xaxis\":\"x\",\"yaxis\":\"y\",\"type\":\"histogram\"},{\"alignmentgroup\":\"True\",\"bingroup\":\"x\",\"hovertemplate\":\"Followers=15.1M<br>Category=%{x}<br>count=%{y}<extra></extra>\",\"legendgroup\":\"15.1M\",\"marker\":{\"color\":\"#636efa\",\"pattern\":{\"shape\":\"\"}},\"name\":\"15.1M\",\"offsetgroup\":\"15.1M\",\"orientation\":\"v\",\"showlegend\":true,\"texttemplate\":\"%{value}\",\"x\":[\"Music\",null,\"FamilyLifestyleCinema & Actors/actresses\"],\"xaxis\":\"x\",\"yaxis\":\"y\",\"type\":\"histogram\"},{\"alignmentgroup\":\"True\",\"bingroup\":\"x\",\"hovertemplate\":\"Followers=27.2M<br>Category=%{x}<br>count=%{y}<extra></extra>\",\"legendgroup\":\"27.2M\",\"marker\":{\"color\":\"#EF553B\",\"pattern\":{\"shape\":\"\"}},\"name\":\"27.2M\",\"offsetgroup\":\"27.2M\",\"orientation\":\"v\",\"showlegend\":true,\"texttemplate\":\"%{value}\",\"x\":[\"Music\"],\"xaxis\":\"x\",\"yaxis\":\"y\",\"type\":\"histogram\"},{\"alignmentgroup\":\"True\",\"bingroup\":\"x\",\"hovertemplate\":\"Followers=10M<br>Category=%{x}<br>count=%{y}<extra></extra>\",\"legendgroup\":\"10M\",\"marker\":{\"color\":\"#00cc96\",\"pattern\":{\"shape\":\"\"}},\"name\":\"10M\",\"offsetgroup\":\"10M\",\"orientation\":\"v\",\"showlegend\":true,\"texttemplate\":\"%{value}\",\"x\":[\"LifestyleArt/Artists\",\"Management & MarketingMusic\",\"Music\",\"ModelingLifestyle\",\"Lifestyle\"],\"xaxis\":\"x\",\"yaxis\":\"y\",\"type\":\"histogram\"},{\"alignmentgroup\":\"True\",\"bingroup\":\"x\",\"hovertemplate\":\"Followers=17.9M<br>Category=%{x}<br>count=%{y}<extra></extra>\",\"legendgroup\":\"17.9M\",\"marker\":{\"color\":\"#ab63fa\",\"pattern\":{\"shape\":\"\"}},\"name\":\"17.9M\",\"offsetgroup\":\"17.9M\",\"orientation\":\"v\",\"showlegend\":true,\"texttemplate\":\"%{value}\",\"x\":[\"Clothing & OutfitsMusic\",\"ModelingFashion\",\"Sports with a ball\"],\"xaxis\":\"x\",\"yaxis\":\"y\",\"type\":\"histogram\"},{\"alignmentgroup\":\"True\",\"bingroup\":\"x\",\"hovertemplate\":\"Followers=38M<br>Category=%{x}<br>count=%{y}<extra></extra>\",\"legendgroup\":\"38M\",\"marker\":{\"color\":\"#FFA15A\",\"pattern\":{\"shape\":\"\"}},\"name\":\"38M\",\"offsetgroup\":\"38M\",\"orientation\":\"v\",\"showlegend\":true,\"texttemplate\":\"%{value}\",\"x\":[\"Cinema & Actors/actresses\"],\"xaxis\":\"x\",\"yaxis\":\"y\",\"type\":\"histogram\"},{\"alignmentgroup\":\"True\",\"bingroup\":\"x\",\"hovertemplate\":\"Followers=23.5M<br>Category=%{x}<br>count=%{y}<extra></extra>\",\"legendgroup\":\"23.5M\",\"marker\":{\"color\":\"#19d3f3\",\"pattern\":{\"shape\":\"\"}},\"name\":\"23.5M\",\"offsetgroup\":\"23.5M\",\"orientation\":\"v\",\"showlegend\":true,\"texttemplate\":\"%{value}\",\"x\":[\"Sports with a ball\",\"Business & Careers\",\"Cinema & Actors/actresses\"],\"xaxis\":\"x\",\"yaxis\":\"y\",\"type\":\"histogram\"},{\"alignmentgroup\":\"True\",\"bingroup\":\"x\",\"hovertemplate\":\"Followers=61.2M<br>Category=%{x}<br>count=%{y}<extra></extra>\",\"legendgroup\":\"61.2M\",\"marker\":{\"color\":\"#FF6692\",\"pattern\":{\"shape\":\"\"}},\"name\":\"61.2M\",\"offsetgroup\":\"61.2M\",\"orientation\":\"v\",\"showlegend\":true,\"texttemplate\":\"%{value}\",\"x\":[\"Sports with a ball\",\"Sports with a ball\"],\"xaxis\":\"x\",\"yaxis\":\"y\",\"type\":\"histogram\"},{\"alignmentgroup\":\"True\",\"bingroup\":\"x\",\"hovertemplate\":\"Followers=27.9M<br>Category=%{x}<br>count=%{y}<extra></extra>\",\"legendgroup\":\"27.9M\",\"marker\":{\"color\":\"#B6E880\",\"pattern\":{\"shape\":\"\"}},\"name\":\"27.9M\",\"offsetgroup\":\"27.9M\",\"orientation\":\"v\",\"showlegend\":true,\"texttemplate\":\"%{value}\",\"x\":[\"ModelingCinema & Actors/actresses\"],\"xaxis\":\"x\",\"yaxis\":\"y\",\"type\":\"histogram\"},{\"alignmentgroup\":\"True\",\"bingroup\":\"x\",\"hovertemplate\":\"Followers=17.4M<br>Category=%{x}<br>count=%{y}<extra></extra>\",\"legendgroup\":\"17.4M\",\"marker\":{\"color\":\"#FF97FF\",\"pattern\":{\"shape\":\"\"}},\"name\":\"17.4M\",\"offsetgroup\":\"17.4M\",\"orientation\":\"v\",\"showlegend\":true,\"texttemplate\":\"%{value}\",\"x\":[\"ShowsAdult content\",\"Sports with a ballLiterature & Journalism\"],\"xaxis\":\"x\",\"yaxis\":\"y\",\"type\":\"histogram\"},{\"alignmentgroup\":\"True\",\"bingroup\":\"x\",\"hovertemplate\":\"Followers=13.8M<br>Category=%{x}<br>count=%{y}<extra></extra>\",\"legendgroup\":\"13.8M\",\"marker\":{\"color\":\"#FECB52\",\"pattern\":{\"shape\":\"\"}},\"name\":\"13.8M\",\"offsetgroup\":\"13.8M\",\"orientation\":\"v\",\"showlegend\":true,\"texttemplate\":\"%{value}\",\"x\":[\"Music\",\"Lifestyle\",\"MusicShows\"],\"xaxis\":\"x\",\"yaxis\":\"y\",\"type\":\"histogram\"},{\"alignmentgroup\":\"True\",\"bingroup\":\"x\",\"hovertemplate\":\"Followers=9.4M<br>Category=%{x}<br>count=%{y}<extra></extra>\",\"legendgroup\":\"9.4M\",\"marker\":{\"color\":\"#636efa\",\"pattern\":{\"shape\":\"\"}},\"name\":\"9.4M\",\"offsetgroup\":\"9.4M\",\"orientation\":\"v\",\"showlegend\":true,\"texttemplate\":\"%{value}\",\"x\":[\"Lifestyle\",\"ShowsCinema & Actors/actresses\",\"FamilyLifestyle\",\"Sports with a ball\",\"FamilyCinema & Actors/actresses\",\"ShowsFamily\",\"Music\",\"Cinema & Actors/actressesModelingFashion\",\"Lifestyle\"],\"xaxis\":\"x\",\"yaxis\":\"y\",\"type\":\"histogram\"},{\"alignmentgroup\":\"True\",\"bingroup\":\"x\",\"hovertemplate\":\"Followers=18.3M<br>Category=%{x}<br>count=%{y}<extra></extra>\",\"legendgroup\":\"18.3M\",\"marker\":{\"color\":\"#EF553B\",\"pattern\":{\"shape\":\"\"}},\"name\":\"18.3M\",\"offsetgroup\":\"18.3M\",\"orientation\":\"v\",\"showlegend\":true,\"texttemplate\":\"%{value}\",\"x\":[\"Music\",\"Literature & JournalismBusiness & CareersFinance & Economics\",\"Modeling\"],\"xaxis\":\"x\",\"yaxis\":\"y\",\"type\":\"histogram\"},{\"alignmentgroup\":\"True\",\"bingroup\":\"x\",\"hovertemplate\":\"Followers=12.9M<br>Category=%{x}<br>count=%{y}<extra></extra>\",\"legendgroup\":\"12.9M\",\"marker\":{\"color\":\"#00cc96\",\"pattern\":{\"shape\":\"\"}},\"name\":\"12.9M\",\"offsetgroup\":\"12.9M\",\"orientation\":\"v\",\"showlegend\":true,\"texttemplate\":\"%{value}\",\"x\":[\"Sports with a ball\",\"Lifestyle\",\"Music\",\"Sports with a ballLifestyle\"],\"xaxis\":\"x\",\"yaxis\":\"y\",\"type\":\"histogram\"},{\"alignmentgroup\":\"True\",\"bingroup\":\"x\",\"hovertemplate\":\"Followers=7.6M<br>Category=%{x}<br>count=%{y}<extra></extra>\",\"legendgroup\":\"7.6M\",\"marker\":{\"color\":\"#ab63fa\",\"pattern\":{\"shape\":\"\"}},\"name\":\"7.6M\",\"offsetgroup\":\"7.6M\",\"orientation\":\"v\",\"showlegend\":true,\"texttemplate\":\"%{value}\",\"x\":[\"Cinema & Actors/actressesModeling\",\"Cinema & Actors/actresses\",\"Lifestyle\",\"Lifestyle\",\"Music\",\"Sports with a ball\",null,\"Music\"],\"xaxis\":\"x\",\"yaxis\":\"y\",\"type\":\"histogram\"},{\"alignmentgroup\":\"True\",\"bingroup\":\"x\",\"hovertemplate\":\"Followers=8.7M<br>Category=%{x}<br>count=%{y}<extra></extra>\",\"legendgroup\":\"8.7M\",\"marker\":{\"color\":\"#FFA15A\",\"pattern\":{\"shape\":\"\"}},\"name\":\"8.7M\",\"offsetgroup\":\"8.7M\",\"orientation\":\"v\",\"showlegend\":true,\"texttemplate\":\"%{value}\",\"x\":[\"LifestyleMusic\",\"Cinema & Actors/actresses\",\"Shows\",\"Lifestyle\",\"LifestyleModeling\",\"Sports with a ball\",\"LifestyleCinema & Actors/actressesModeling\"],\"xaxis\":\"x\",\"yaxis\":\"y\",\"type\":\"histogram\"},{\"alignmentgroup\":\"True\",\"bingroup\":\"x\",\"hovertemplate\":\"Followers=15.2M<br>Category=%{x}<br>count=%{y}<extra></extra>\",\"legendgroup\":\"15.2M\",\"marker\":{\"color\":\"#19d3f3\",\"pattern\":{\"shape\":\"\"}},\"name\":\"15.2M\",\"offsetgroup\":\"15.2M\",\"orientation\":\"v\",\"showlegend\":true,\"texttemplate\":\"%{value}\",\"x\":[\"FamilyLifestyle\",\"Fashion\",\"Music\"],\"xaxis\":\"x\",\"yaxis\":\"y\",\"type\":\"histogram\"},{\"alignmentgroup\":\"True\",\"bingroup\":\"x\",\"hovertemplate\":\"Followers=6.3M<br>Category=%{x}<br>count=%{y}<extra></extra>\",\"legendgroup\":\"6.3M\",\"marker\":{\"color\":\"#FF6692\",\"pattern\":{\"shape\":\"\"}},\"name\":\"6.3M\",\"offsetgroup\":\"6.3M\",\"orientation\":\"v\",\"showlegend\":true,\"texttemplate\":\"%{value}\",\"x\":[null,\"LifestyleMusicCinema & Actors/actresses\",\"LifestyleMusicCinema & Actors/actresses\",\"MusicCinema & Actors/actressesFashion\",\"Music\",\"Cinema & Actors/actressesMusic\",\"Lifestyle\",\"Sports with a ball\",\"LifestyleFamily\"],\"xaxis\":\"x\",\"yaxis\":\"y\",\"type\":\"histogram\"},{\"alignmentgroup\":\"True\",\"bingroup\":\"x\",\"hovertemplate\":\"Followers=10.2M<br>Category=%{x}<br>count=%{y}<extra></extra>\",\"legendgroup\":\"10.2M\",\"marker\":{\"color\":\"#B6E880\",\"pattern\":{\"shape\":\"\"}},\"name\":\"10.2M\",\"offsetgroup\":\"10.2M\",\"orientation\":\"v\",\"showlegend\":true,\"texttemplate\":\"%{value}\",\"x\":[null,\"LifestyleModeling\",\"MusicCinema & Actors/actresses\",\"Cinema & Actors/actresses\",null],\"xaxis\":\"x\",\"yaxis\":\"y\",\"type\":\"histogram\"},{\"alignmentgroup\":\"True\",\"bingroup\":\"x\",\"hovertemplate\":\"Followers=11.1M<br>Category=%{x}<br>count=%{y}<extra></extra>\",\"legendgroup\":\"11.1M\",\"marker\":{\"color\":\"#FF97FF\",\"pattern\":{\"shape\":\"\"}},\"name\":\"11.1M\",\"offsetgroup\":\"11.1M\",\"orientation\":\"v\",\"showlegend\":true,\"texttemplate\":\"%{value}\",\"x\":[\"Shows\",\"Lifestyle\"],\"xaxis\":\"x\",\"yaxis\":\"y\",\"type\":\"histogram\"},{\"alignmentgroup\":\"True\",\"bingroup\":\"x\",\"hovertemplate\":\"Followers=5.6M<br>Category=%{x}<br>count=%{y}<extra></extra>\",\"legendgroup\":\"5.6M\",\"marker\":{\"color\":\"#FECB52\",\"pattern\":{\"shape\":\"\"}},\"name\":\"5.6M\",\"offsetgroup\":\"5.6M\",\"orientation\":\"v\",\"showlegend\":true,\"texttemplate\":\"%{value}\",\"x\":[null,null,\"Humor & Fun & HappinessShowsCinema & Actors/actresses\",\"LifestyleCinema & Actors/actresses\",\"Humor & Fun & HappinessShowsCinema & Actors/actresses\"],\"xaxis\":\"x\",\"yaxis\":\"y\",\"type\":\"histogram\"},{\"alignmentgroup\":\"True\",\"bingroup\":\"x\",\"hovertemplate\":\"Followers=22.3M<br>Category=%{x}<br>count=%{y}<extra></extra>\",\"legendgroup\":\"22.3M\",\"marker\":{\"color\":\"#636efa\",\"pattern\":{\"shape\":\"\"}},\"name\":\"22.3M\",\"offsetgroup\":\"22.3M\",\"orientation\":\"v\",\"showlegend\":true,\"texttemplate\":\"%{value}\",\"x\":[\"MusicArt/ArtistsCinema & Actors/actresses\"],\"xaxis\":\"x\",\"yaxis\":\"y\",\"type\":\"histogram\"},{\"alignmentgroup\":\"True\",\"bingroup\":\"x\",\"hovertemplate\":\"Followers=15M<br>Category=%{x}<br>count=%{y}<extra></extra>\",\"legendgroup\":\"15M\",\"marker\":{\"color\":\"#EF553B\",\"pattern\":{\"shape\":\"\"}},\"name\":\"15M\",\"offsetgroup\":\"15M\",\"orientation\":\"v\",\"showlegend\":true,\"texttemplate\":\"%{value}\",\"x\":[\"Music\",\"Cinema & Actors/actresses\",\"ScienceMachinery & Technologies\",\"Cinema & Actors/actressesModeling\",\"Sports with a ball\"],\"xaxis\":\"x\",\"yaxis\":\"y\",\"type\":\"histogram\"},{\"alignmentgroup\":\"True\",\"bingroup\":\"x\",\"hovertemplate\":\"Followers=15.3M<br>Category=%{x}<br>count=%{y}<extra></extra>\",\"legendgroup\":\"15.3M\",\"marker\":{\"color\":\"#00cc96\",\"pattern\":{\"shape\":\"\"}},\"name\":\"15.3M\",\"offsetgroup\":\"15.3M\",\"orientation\":\"v\",\"showlegend\":true,\"texttemplate\":\"%{value}\",\"x\":[\"FamilySports with a ball\",\"Music\",\"Music\",\"Cinema & Actors/actresses\",\"Fitness & Gym\"],\"xaxis\":\"x\",\"yaxis\":\"y\",\"type\":\"histogram\"},{\"alignmentgroup\":\"True\",\"bingroup\":\"x\",\"hovertemplate\":\"Followers=67.4M<br>Category=%{x}<br>count=%{y}<extra></extra>\",\"legendgroup\":\"67.4M\",\"marker\":{\"color\":\"#ab63fa\",\"pattern\":{\"shape\":\"\"}},\"name\":\"67.4M\",\"offsetgroup\":\"67.4M\",\"orientation\":\"v\",\"showlegend\":true,\"texttemplate\":\"%{value}\",\"x\":[\"Sports with a ball\"],\"xaxis\":\"x\",\"yaxis\":\"y\",\"type\":\"histogram\"},{\"alignmentgroup\":\"True\",\"bingroup\":\"x\",\"hovertemplate\":\"Followers=9.3M<br>Category=%{x}<br>count=%{y}<extra></extra>\",\"legendgroup\":\"9.3M\",\"marker\":{\"color\":\"#FFA15A\",\"pattern\":{\"shape\":\"\"}},\"name\":\"9.3M\",\"offsetgroup\":\"9.3M\",\"orientation\":\"v\",\"showlegend\":true,\"texttemplate\":\"%{value}\",\"x\":[\"Lifestyle\",\"Cinema & Actors/actresses\",\"MusicArt/Artists\"],\"xaxis\":\"x\",\"yaxis\":\"y\",\"type\":\"histogram\"},{\"alignmentgroup\":\"True\",\"bingroup\":\"x\",\"hovertemplate\":\"Followers=32.8M<br>Category=%{x}<br>count=%{y}<extra></extra>\",\"legendgroup\":\"32.8M\",\"marker\":{\"color\":\"#19d3f3\",\"pattern\":{\"shape\":\"\"}},\"name\":\"32.8M\",\"offsetgroup\":\"32.8M\",\"orientation\":\"v\",\"showlegend\":true,\"texttemplate\":\"%{value}\",\"x\":[\"Music\",\"Music\"],\"xaxis\":\"x\",\"yaxis\":\"y\",\"type\":\"histogram\"},{\"alignmentgroup\":\"True\",\"bingroup\":\"x\",\"hovertemplate\":\"Followers=14.9M<br>Category=%{x}<br>count=%{y}<extra></extra>\",\"legendgroup\":\"14.9M\",\"marker\":{\"color\":\"#FF6692\",\"pattern\":{\"shape\":\"\"}},\"name\":\"14.9M\",\"offsetgroup\":\"14.9M\",\"orientation\":\"v\",\"showlegend\":true,\"texttemplate\":\"%{value}\",\"x\":[\"Cinema & Actors/actresses\",\"LifestyleCinema & Actors/actressesMusic\",\"Music\",\"Art/Artists\"],\"xaxis\":\"x\",\"yaxis\":\"y\",\"type\":\"histogram\"},{\"alignmentgroup\":\"True\",\"bingroup\":\"x\",\"hovertemplate\":\"Followers=18.7M<br>Category=%{x}<br>count=%{y}<extra></extra>\",\"legendgroup\":\"18.7M\",\"marker\":{\"color\":\"#B6E880\",\"pattern\":{\"shape\":\"\"}},\"name\":\"18.7M\",\"offsetgroup\":\"18.7M\",\"orientation\":\"v\",\"showlegend\":true,\"texttemplate\":\"%{value}\",\"x\":[\"Music\",\"Adult content\",\"Sports with a ball\",\"Cinema & Actors/actresses\"],\"xaxis\":\"x\",\"yaxis\":\"y\",\"type\":\"histogram\"},{\"alignmentgroup\":\"True\",\"bingroup\":\"x\",\"hovertemplate\":\"Followers=13.7M<br>Category=%{x}<br>count=%{y}<extra></extra>\",\"legendgroup\":\"13.7M\",\"marker\":{\"color\":\"#FF97FF\",\"pattern\":{\"shape\":\"\"}},\"name\":\"13.7M\",\"offsetgroup\":\"13.7M\",\"orientation\":\"v\",\"showlegend\":true,\"texttemplate\":\"%{value}\",\"x\":[null,\"MusicCinema & Actors/actresses\",\"Cinema & Actors/actresses\",\"Cinema & Actors/actresses\"],\"xaxis\":\"x\",\"yaxis\":\"y\",\"type\":\"histogram\"},{\"alignmentgroup\":\"True\",\"bingroup\":\"x\",\"hovertemplate\":\"Followers=44M<br>Category=%{x}<br>count=%{y}<extra></extra>\",\"legendgroup\":\"44M\",\"marker\":{\"color\":\"#FECB52\",\"pattern\":{\"shape\":\"\"}},\"name\":\"44M\",\"offsetgroup\":\"44M\",\"orientation\":\"v\",\"showlegend\":true,\"texttemplate\":\"%{value}\",\"x\":[\"Music\"],\"xaxis\":\"x\",\"yaxis\":\"y\",\"type\":\"histogram\"},{\"alignmentgroup\":\"True\",\"bingroup\":\"x\",\"hovertemplate\":\"Followers=27.3M<br>Category=%{x}<br>count=%{y}<extra></extra>\",\"legendgroup\":\"27.3M\",\"marker\":{\"color\":\"#636efa\",\"pattern\":{\"shape\":\"\"}},\"name\":\"27.3M\",\"offsetgroup\":\"27.3M\",\"orientation\":\"v\",\"showlegend\":true,\"texttemplate\":\"%{value}\",\"x\":[\"LifestyleArt/Artists\",\"LifestyleFamily\"],\"xaxis\":\"x\",\"yaxis\":\"y\",\"type\":\"histogram\"},{\"alignmentgroup\":\"True\",\"bingroup\":\"x\",\"hovertemplate\":\"Followers=35.1M<br>Category=%{x}<br>count=%{y}<extra></extra>\",\"legendgroup\":\"35.1M\",\"marker\":{\"color\":\"#EF553B\",\"pattern\":{\"shape\":\"\"}},\"name\":\"35.1M\",\"offsetgroup\":\"35.1M\",\"orientation\":\"v\",\"showlegend\":true,\"texttemplate\":\"%{value}\",\"x\":[\"Sports with a ballLifestyle\"],\"xaxis\":\"x\",\"yaxis\":\"y\",\"type\":\"histogram\"},{\"alignmentgroup\":\"True\",\"bingroup\":\"x\",\"hovertemplate\":\"Followers=14.2M<br>Category=%{x}<br>count=%{y}<extra></extra>\",\"legendgroup\":\"14.2M\",\"marker\":{\"color\":\"#00cc96\",\"pattern\":{\"shape\":\"\"}},\"name\":\"14.2M\",\"offsetgroup\":\"14.2M\",\"orientation\":\"v\",\"showlegend\":true,\"texttemplate\":\"%{value}\",\"x\":[\"Music\",\"Cinema & Actors/actressesLifestyle\",\"Music\",\"ModelingLifestyle\",\"MusicKids & Toys\",\"ShowsCinema & Actors/actresses\",\"Sports with a ball\"],\"xaxis\":\"x\",\"yaxis\":\"y\",\"type\":\"histogram\"},{\"alignmentgroup\":\"True\",\"bingroup\":\"x\",\"hovertemplate\":\"Followers=43.2M<br>Category=%{x}<br>count=%{y}<extra></extra>\",\"legendgroup\":\"43.2M\",\"marker\":{\"color\":\"#ab63fa\",\"pattern\":{\"shape\":\"\"}},\"name\":\"43.2M\",\"offsetgroup\":\"43.2M\",\"orientation\":\"v\",\"showlegend\":true,\"texttemplate\":\"%{value}\",\"x\":[\"Cinema & Actors/actresses\"],\"xaxis\":\"x\",\"yaxis\":\"y\",\"type\":\"histogram\"},{\"alignmentgroup\":\"True\",\"bingroup\":\"x\",\"hovertemplate\":\"Followers=13.1M<br>Category=%{x}<br>count=%{y}<extra></extra>\",\"legendgroup\":\"13.1M\",\"marker\":{\"color\":\"#FFA15A\",\"pattern\":{\"shape\":\"\"}},\"name\":\"13.1M\",\"offsetgroup\":\"13.1M\",\"orientation\":\"v\",\"showlegend\":true,\"texttemplate\":\"%{value}\",\"x\":[\"Music\",\"LifestyleSports with a ball\",\"Cinema & Actors/actresses\",\"Cinema & Actors/actresses\"],\"xaxis\":\"x\",\"yaxis\":\"y\",\"type\":\"histogram\"},{\"alignmentgroup\":\"True\",\"bingroup\":\"x\",\"hovertemplate\":\"Followers=8M<br>Category=%{x}<br>count=%{y}<extra></extra>\",\"legendgroup\":\"8M\",\"marker\":{\"color\":\"#19d3f3\",\"pattern\":{\"shape\":\"\"}},\"name\":\"8M\",\"offsetgroup\":\"8M\",\"orientation\":\"v\",\"showlegend\":true,\"texttemplate\":\"%{value}\",\"x\":[\"Lifestyle\",\"Racing Sports\",\"LifestyleBeauty\",\"Art/Artists\",\"Cinema & Actors/actressesLifestyle\",\"Music\"],\"xaxis\":\"x\",\"yaxis\":\"y\",\"type\":\"histogram\"},{\"alignmentgroup\":\"True\",\"bingroup\":\"x\",\"hovertemplate\":\"Followers=5.8M<br>Category=%{x}<br>count=%{y}<extra></extra>\",\"legendgroup\":\"5.8M\",\"marker\":{\"color\":\"#FF6692\",\"pattern\":{\"shape\":\"\"}},\"name\":\"5.8M\",\"offsetgroup\":\"5.8M\",\"orientation\":\"v\",\"showlegend\":true,\"texttemplate\":\"%{value}\",\"x\":[null,\"Lifestyle\",\"Shows\",null,\"Cinema & Actors/actresses\"],\"xaxis\":\"x\",\"yaxis\":\"y\",\"type\":\"histogram\"},{\"alignmentgroup\":\"True\",\"bingroup\":\"x\",\"hovertemplate\":\"Followers=5.7M<br>Category=%{x}<br>count=%{y}<extra></extra>\",\"legendgroup\":\"5.7M\",\"marker\":{\"color\":\"#B6E880\",\"pattern\":{\"shape\":\"\"}},\"name\":\"5.7M\",\"offsetgroup\":\"5.7M\",\"orientation\":\"v\",\"showlegend\":true,\"texttemplate\":\"%{value}\",\"x\":[\"Lifestyle\",\"FamilyShows\"],\"xaxis\":\"x\",\"yaxis\":\"y\",\"type\":\"histogram\"},{\"alignmentgroup\":\"True\",\"bingroup\":\"x\",\"hovertemplate\":\"Followers=12.5M<br>Category=%{x}<br>count=%{y}<extra></extra>\",\"legendgroup\":\"12.5M\",\"marker\":{\"color\":\"#FF97FF\",\"pattern\":{\"shape\":\"\"}},\"name\":\"12.5M\",\"offsetgroup\":\"12.5M\",\"orientation\":\"v\",\"showlegend\":true,\"texttemplate\":\"%{value}\",\"x\":[\"Modeling\",\"Family\",\"Music\",\"Sports with a ball\"],\"xaxis\":\"x\",\"yaxis\":\"y\",\"type\":\"histogram\"},{\"alignmentgroup\":\"True\",\"bingroup\":\"x\",\"hovertemplate\":\"Followers=16.5M<br>Category=%{x}<br>count=%{y}<extra></extra>\",\"legendgroup\":\"16.5M\",\"marker\":{\"color\":\"#FECB52\",\"pattern\":{\"shape\":\"\"}},\"name\":\"16.5M\",\"offsetgroup\":\"16.5M\",\"orientation\":\"v\",\"showlegend\":true,\"texttemplate\":\"%{value}\",\"x\":[\"Music\"],\"xaxis\":\"x\",\"yaxis\":\"y\",\"type\":\"histogram\"},{\"alignmentgroup\":\"True\",\"bingroup\":\"x\",\"hovertemplate\":\"Followers=5.5M<br>Category=%{x}<br>count=%{y}<extra></extra>\",\"legendgroup\":\"5.5M\",\"marker\":{\"color\":\"#636efa\",\"pattern\":{\"shape\":\"\"}},\"name\":\"5.5M\",\"offsetgroup\":\"5.5M\",\"orientation\":\"v\",\"showlegend\":true,\"texttemplate\":\"%{value}\",\"x\":[null,null,null],\"xaxis\":\"x\",\"yaxis\":\"y\",\"type\":\"histogram\"},{\"alignmentgroup\":\"True\",\"bingroup\":\"x\",\"hovertemplate\":\"Followers=8.2M<br>Category=%{x}<br>count=%{y}<extra></extra>\",\"legendgroup\":\"8.2M\",\"marker\":{\"color\":\"#EF553B\",\"pattern\":{\"shape\":\"\"}},\"name\":\"8.2M\",\"offsetgroup\":\"8.2M\",\"orientation\":\"v\",\"showlegend\":true,\"texttemplate\":\"%{value}\",\"x\":[\"LifestyleMusic\",null,\"Lifestyle\",\"Cinema & Actors/actressesLifestyle\",\"FashionLifestyleBeauty\",null],\"xaxis\":\"x\",\"yaxis\":\"y\",\"type\":\"histogram\"},{\"alignmentgroup\":\"True\",\"bingroup\":\"x\",\"hovertemplate\":\"Followers=33.8M<br>Category=%{x}<br>count=%{y}<extra></extra>\",\"legendgroup\":\"33.8M\",\"marker\":{\"color\":\"#00cc96\",\"pattern\":{\"shape\":\"\"}},\"name\":\"33.8M\",\"offsetgroup\":\"33.8M\",\"orientation\":\"v\",\"showlegend\":true,\"texttemplate\":\"%{value}\",\"x\":[\"BeautyFamilyLifestyle\"],\"xaxis\":\"x\",\"yaxis\":\"y\",\"type\":\"histogram\"},{\"alignmentgroup\":\"True\",\"bingroup\":\"x\",\"hovertemplate\":\"Followers=14.7M<br>Category=%{x}<br>count=%{y}<extra></extra>\",\"legendgroup\":\"14.7M\",\"marker\":{\"color\":\"#ab63fa\",\"pattern\":{\"shape\":\"\"}},\"name\":\"14.7M\",\"offsetgroup\":\"14.7M\",\"orientation\":\"v\",\"showlegend\":true,\"texttemplate\":\"%{value}\",\"x\":[\"Computers & GadgetsBusiness & Careers\",\"Music\"],\"xaxis\":\"x\",\"yaxis\":\"y\",\"type\":\"histogram\"},{\"alignmentgroup\":\"True\",\"bingroup\":\"x\",\"hovertemplate\":\"Followers=22.6M<br>Category=%{x}<br>count=%{y}<extra></extra>\",\"legendgroup\":\"22.6M\",\"marker\":{\"color\":\"#FFA15A\",\"pattern\":{\"shape\":\"\"}},\"name\":\"22.6M\",\"offsetgroup\":\"22.6M\",\"orientation\":\"v\",\"showlegend\":true,\"texttemplate\":\"%{value}\",\"x\":[\"Cinema & Actors/actresses\"],\"xaxis\":\"x\",\"yaxis\":\"y\",\"type\":\"histogram\"},{\"alignmentgroup\":\"True\",\"bingroup\":\"x\",\"hovertemplate\":\"Followers=26.8M<br>Category=%{x}<br>count=%{y}<extra></extra>\",\"legendgroup\":\"26.8M\",\"marker\":{\"color\":\"#19d3f3\",\"pattern\":{\"shape\":\"\"}},\"name\":\"26.8M\",\"offsetgroup\":\"26.8M\",\"orientation\":\"v\",\"showlegend\":true,\"texttemplate\":\"%{value}\",\"x\":[\"Sports with a ball\"],\"xaxis\":\"x\",\"yaxis\":\"y\",\"type\":\"histogram\"},{\"alignmentgroup\":\"True\",\"bingroup\":\"x\",\"hovertemplate\":\"Followers=58.6M<br>Category=%{x}<br>count=%{y}<extra></extra>\",\"legendgroup\":\"58.6M\",\"marker\":{\"color\":\"#FF6692\",\"pattern\":{\"shape\":\"\"}},\"name\":\"58.6M\",\"offsetgroup\":\"58.6M\",\"orientation\":\"v\",\"showlegend\":true,\"texttemplate\":\"%{value}\",\"x\":[\"Humor & Fun & Happiness\"],\"xaxis\":\"x\",\"yaxis\":\"y\",\"type\":\"histogram\"},{\"alignmentgroup\":\"True\",\"bingroup\":\"x\",\"hovertemplate\":\"Followers=4.8M<br>Category=%{x}<br>count=%{y}<extra></extra>\",\"legendgroup\":\"4.8M\",\"marker\":{\"color\":\"#B6E880\",\"pattern\":{\"shape\":\"\"}},\"name\":\"4.8M\",\"offsetgroup\":\"4.8M\",\"orientation\":\"v\",\"showlegend\":true,\"texttemplate\":\"%{value}\",\"x\":[null,\"Music\",\"Sports with a ball\",\"FamilyCinema & Actors/actresses\"],\"xaxis\":\"x\",\"yaxis\":\"y\",\"type\":\"histogram\"},{\"alignmentgroup\":\"True\",\"bingroup\":\"x\",\"hovertemplate\":\"Followers=8.4M<br>Category=%{x}<br>count=%{y}<extra></extra>\",\"legendgroup\":\"8.4M\",\"marker\":{\"color\":\"#FF97FF\",\"pattern\":{\"shape\":\"\"}},\"name\":\"8.4M\",\"offsetgroup\":\"8.4M\",\"orientation\":\"v\",\"showlegend\":true,\"texttemplate\":\"%{value}\",\"x\":[null,\"BeautyCinema & Actors/actressesModeling\",\"Humor & Fun & Happiness\",\"Sports with a ball\",\"Shows\"],\"xaxis\":\"x\",\"yaxis\":\"y\",\"type\":\"histogram\"},{\"alignmentgroup\":\"True\",\"bingroup\":\"x\",\"hovertemplate\":\"Followers=8.3M<br>Category=%{x}<br>count=%{y}<extra></extra>\",\"legendgroup\":\"8.3M\",\"marker\":{\"color\":\"#FECB52\",\"pattern\":{\"shape\":\"\"}},\"name\":\"8.3M\",\"offsetgroup\":\"8.3M\",\"orientation\":\"v\",\"showlegend\":true,\"texttemplate\":\"%{value}\",\"x\":[\"Cinema & Actors/actresses\",\"BeautyLifestyle\"],\"xaxis\":\"x\",\"yaxis\":\"y\",\"type\":\"histogram\"},{\"alignmentgroup\":\"True\",\"bingroup\":\"x\",\"hovertemplate\":\"Followers=5.9M<br>Category=%{x}<br>count=%{y}<extra></extra>\",\"legendgroup\":\"5.9M\",\"marker\":{\"color\":\"#636efa\",\"pattern\":{\"shape\":\"\"}},\"name\":\"5.9M\",\"offsetgroup\":\"5.9M\",\"orientation\":\"v\",\"showlegend\":true,\"texttemplate\":\"%{value}\",\"x\":[\"LifestyleMusic\",null,null,null],\"xaxis\":\"x\",\"yaxis\":\"y\",\"type\":\"histogram\"},{\"alignmentgroup\":\"True\",\"bingroup\":\"x\",\"hovertemplate\":\"Followers=6.5M<br>Category=%{x}<br>count=%{y}<extra></extra>\",\"legendgroup\":\"6.5M\",\"marker\":{\"color\":\"#EF553B\",\"pattern\":{\"shape\":\"\"}},\"name\":\"6.5M\",\"offsetgroup\":\"6.5M\",\"orientation\":\"v\",\"showlegend\":true,\"texttemplate\":\"%{value}\",\"x\":[\"Humor & Fun & Happiness\",\"Lifestyle\",\"Lifestyle\",null,\"LifestyleCinema & Actors/actresses\"],\"xaxis\":\"x\",\"yaxis\":\"y\",\"type\":\"histogram\"},{\"alignmentgroup\":\"True\",\"bingroup\":\"x\",\"hovertemplate\":\"Followers=12M<br>Category=%{x}<br>count=%{y}<extra></extra>\",\"legendgroup\":\"12M\",\"marker\":{\"color\":\"#00cc96\",\"pattern\":{\"shape\":\"\"}},\"name\":\"12M\",\"offsetgroup\":\"12M\",\"orientation\":\"v\",\"showlegend\":true,\"texttemplate\":\"%{value}\",\"x\":[null,\"Lifestyle\",\"Cinema & Actors/actresses\"],\"xaxis\":\"x\",\"yaxis\":\"y\",\"type\":\"histogram\"},{\"alignmentgroup\":\"True\",\"bingroup\":\"x\",\"hovertemplate\":\"Followers=7.3M<br>Category=%{x}<br>count=%{y}<extra></extra>\",\"legendgroup\":\"7.3M\",\"marker\":{\"color\":\"#ab63fa\",\"pattern\":{\"shape\":\"\"}},\"name\":\"7.3M\",\"offsetgroup\":\"7.3M\",\"orientation\":\"v\",\"showlegend\":true,\"texttemplate\":\"%{value}\",\"x\":[null,null,null,\"Shows\",\"Music\",\"LifestyleCinema & Actors/actresses\",\"Lifestyle\",\"Lifestyle\",\"Music\",\"Music\",\"Shows\",\"LifestyleSports with a ball\",\"Adult content\",\"Music\"],\"xaxis\":\"x\",\"yaxis\":\"y\",\"type\":\"histogram\"},{\"alignmentgroup\":\"True\",\"bingroup\":\"x\",\"hovertemplate\":\"Followers=10.5M<br>Category=%{x}<br>count=%{y}<extra></extra>\",\"legendgroup\":\"10.5M\",\"marker\":{\"color\":\"#FFA15A\",\"pattern\":{\"shape\":\"\"}},\"name\":\"10.5M\",\"offsetgroup\":\"10.5M\",\"orientation\":\"v\",\"showlegend\":true,\"texttemplate\":\"%{value}\",\"x\":[\"Music\",\"MusicLifestyle\"],\"xaxis\":\"x\",\"yaxis\":\"y\",\"type\":\"histogram\"},{\"alignmentgroup\":\"True\",\"bingroup\":\"x\",\"hovertemplate\":\"Followers=12.8M<br>Category=%{x}<br>count=%{y}<extra></extra>\",\"legendgroup\":\"12.8M\",\"marker\":{\"color\":\"#19d3f3\",\"pattern\":{\"shape\":\"\"}},\"name\":\"12.8M\",\"offsetgroup\":\"12.8M\",\"orientation\":\"v\",\"showlegend\":true,\"texttemplate\":\"%{value}\",\"x\":[\"MusicCinema & Actors/actressesModeling\",\"ShowsCinema & Actors/actresses\",\"FamilyMusic\",\"Sports with a ball\",\"Computers & GadgetsMachinery & Technologies\"],\"xaxis\":\"x\",\"yaxis\":\"y\",\"type\":\"histogram\"},{\"alignmentgroup\":\"True\",\"bingroup\":\"x\",\"hovertemplate\":\"Followers=16.9M<br>Category=%{x}<br>count=%{y}<extra></extra>\",\"legendgroup\":\"16.9M\",\"marker\":{\"color\":\"#FF6692\",\"pattern\":{\"shape\":\"\"}},\"name\":\"16.9M\",\"offsetgroup\":\"16.9M\",\"orientation\":\"v\",\"showlegend\":true,\"texttemplate\":\"%{value}\",\"x\":[\"Music\",\"Sports with a ball\",\"Modeling\",\"Art/Artists\"],\"xaxis\":\"x\",\"yaxis\":\"y\",\"type\":\"histogram\"},{\"alignmentgroup\":\"True\",\"bingroup\":\"x\",\"hovertemplate\":\"Followers=18.4M<br>Category=%{x}<br>count=%{y}<extra></extra>\",\"legendgroup\":\"18.4M\",\"marker\":{\"color\":\"#B6E880\",\"pattern\":{\"shape\":\"\"}},\"name\":\"18.4M\",\"offsetgroup\":\"18.4M\",\"orientation\":\"v\",\"showlegend\":true,\"texttemplate\":\"%{value}\",\"x\":[\"Art/ArtistsBeauty\",\"Sports with a ballLifestyle\",\"Literature & JournalismBusiness & CareersFinance & Economics\",\"ShowsFamily\",\"Music\"],\"xaxis\":\"x\",\"yaxis\":\"y\",\"type\":\"histogram\"},{\"alignmentgroup\":\"True\",\"bingroup\":\"x\",\"hovertemplate\":\"Followers=17.3M<br>Category=%{x}<br>count=%{y}<extra></extra>\",\"legendgroup\":\"17.3M\",\"marker\":{\"color\":\"#FF97FF\",\"pattern\":{\"shape\":\"\"}},\"name\":\"17.3M\",\"offsetgroup\":\"17.3M\",\"orientation\":\"v\",\"showlegend\":true,\"texttemplate\":\"%{value}\",\"x\":[\"BeautyCinema & Actors/actressesModeling\",\"BeautyCinema & Actors/actressesFashion\"],\"xaxis\":\"x\",\"yaxis\":\"y\",\"type\":\"histogram\"},{\"alignmentgroup\":\"True\",\"bingroup\":\"x\",\"hovertemplate\":\"Followers=14.8M<br>Category=%{x}<br>count=%{y}<extra></extra>\",\"legendgroup\":\"14.8M\",\"marker\":{\"color\":\"#FECB52\",\"pattern\":{\"shape\":\"\"}},\"name\":\"14.8M\",\"offsetgroup\":\"14.8M\",\"orientation\":\"v\",\"showlegend\":true,\"texttemplate\":\"%{value}\",\"x\":[\"Cinema & Actors/actresses\",\"Cinema & Actors/actressesModelingFashion\"],\"xaxis\":\"x\",\"yaxis\":\"y\",\"type\":\"histogram\"},{\"alignmentgroup\":\"True\",\"bingroup\":\"x\",\"hovertemplate\":\"Followers=5.3M<br>Category=%{x}<br>count=%{y}<extra></extra>\",\"legendgroup\":\"5.3M\",\"marker\":{\"color\":\"#636efa\",\"pattern\":{\"shape\":\"\"}},\"name\":\"5.3M\",\"offsetgroup\":\"5.3M\",\"orientation\":\"v\",\"showlegend\":true,\"texttemplate\":\"%{value}\",\"x\":[null,null],\"xaxis\":\"x\",\"yaxis\":\"y\",\"type\":\"histogram\"},{\"alignmentgroup\":\"True\",\"bingroup\":\"x\",\"hovertemplate\":\"Followers=22.9M<br>Category=%{x}<br>count=%{y}<extra></extra>\",\"legendgroup\":\"22.9M\",\"marker\":{\"color\":\"#EF553B\",\"pattern\":{\"shape\":\"\"}},\"name\":\"22.9M\",\"offsetgroup\":\"22.9M\",\"orientation\":\"v\",\"showlegend\":true,\"texttemplate\":\"%{value}\",\"x\":[\"Beauty\"],\"xaxis\":\"x\",\"yaxis\":\"y\",\"type\":\"histogram\"},{\"alignmentgroup\":\"True\",\"bingroup\":\"x\",\"hovertemplate\":\"Followers=22.4M<br>Category=%{x}<br>count=%{y}<extra></extra>\",\"legendgroup\":\"22.4M\",\"marker\":{\"color\":\"#00cc96\",\"pattern\":{\"shape\":\"\"}},\"name\":\"22.4M\",\"offsetgroup\":\"22.4M\",\"orientation\":\"v\",\"showlegend\":true,\"texttemplate\":\"%{value}\",\"x\":[\"Music\",\"Lifestyle\",\"ShowsHumor & Fun & Happiness\"],\"xaxis\":\"x\",\"yaxis\":\"y\",\"type\":\"histogram\"},{\"alignmentgroup\":\"True\",\"bingroup\":\"x\",\"hovertemplate\":\"Followers=40.1M<br>Category=%{x}<br>count=%{y}<extra></extra>\",\"legendgroup\":\"40.1M\",\"marker\":{\"color\":\"#ab63fa\",\"pattern\":{\"shape\":\"\"}},\"name\":\"40.1M\",\"offsetgroup\":\"40.1M\",\"orientation\":\"v\",\"showlegend\":true,\"texttemplate\":\"%{value}\",\"x\":[\"Cinema & Actors/actressesModelingClothing & Outfits\"],\"xaxis\":\"x\",\"yaxis\":\"y\",\"type\":\"histogram\"},{\"alignmentgroup\":\"True\",\"bingroup\":\"x\",\"hovertemplate\":\"Followers=9.9M<br>Category=%{x}<br>count=%{y}<extra></extra>\",\"legendgroup\":\"9.9M\",\"marker\":{\"color\":\"#FFA15A\",\"pattern\":{\"shape\":\"\"}},\"name\":\"9.9M\",\"offsetgroup\":\"9.9M\",\"orientation\":\"v\",\"showlegend\":true,\"texttemplate\":\"%{value}\",\"x\":[\"Music\",\"Sports with a ball\",\"FamilyLifestyle\",\"Lifestyle\",\"Cinema & Actors/actressesHumor & Fun & HappinessModeling\",\"MusicCinema & Actors/actressesLifestyle\",\"Sports with a ball\"],\"xaxis\":\"x\",\"yaxis\":\"y\",\"type\":\"histogram\"},{\"alignmentgroup\":\"True\",\"bingroup\":\"x\",\"hovertemplate\":\"Followers=11.6M<br>Category=%{x}<br>count=%{y}<extra></extra>\",\"legendgroup\":\"11.6M\",\"marker\":{\"color\":\"#19d3f3\",\"pattern\":{\"shape\":\"\"}},\"name\":\"11.6M\",\"offsetgroup\":\"11.6M\",\"orientation\":\"v\",\"showlegend\":true,\"texttemplate\":\"%{value}\",\"x\":[\"Music\",\"Sports with a ball\",\"ModelingLifestyle\",\"Beauty\",\"Cinema & Actors/actressesMusic\",\"Music\",\"Lifestyle\",\"Sports with a ball\"],\"xaxis\":\"x\",\"yaxis\":\"y\",\"type\":\"histogram\"},{\"alignmentgroup\":\"True\",\"bingroup\":\"x\",\"hovertemplate\":\"Followers=18M<br>Category=%{x}<br>count=%{y}<extra></extra>\",\"legendgroup\":\"18M\",\"marker\":{\"color\":\"#FF6692\",\"pattern\":{\"shape\":\"\"}},\"name\":\"18M\",\"offsetgroup\":\"18M\",\"orientation\":\"v\",\"showlegend\":true,\"texttemplate\":\"%{value}\",\"x\":[\"Sports with a ball\"],\"xaxis\":\"x\",\"yaxis\":\"y\",\"type\":\"histogram\"},{\"alignmentgroup\":\"True\",\"bingroup\":\"x\",\"hovertemplate\":\"Followers=65.4M<br>Category=%{x}<br>count=%{y}<extra></extra>\",\"legendgroup\":\"65.4M\",\"marker\":{\"color\":\"#B6E880\",\"pattern\":{\"shape\":\"\"}},\"name\":\"65.4M\",\"offsetgroup\":\"65.4M\",\"orientation\":\"v\",\"showlegend\":true,\"texttemplate\":\"%{value}\",\"x\":[\"Cinema & Actors/actressesComics & sketchesShows\"],\"xaxis\":\"x\",\"yaxis\":\"y\",\"type\":\"histogram\"},{\"alignmentgroup\":\"True\",\"bingroup\":\"x\",\"hovertemplate\":\"Followers=11M<br>Category=%{x}<br>count=%{y}<extra></extra>\",\"legendgroup\":\"11M\",\"marker\":{\"color\":\"#FF97FF\",\"pattern\":{\"shape\":\"\"}},\"name\":\"11M\",\"offsetgroup\":\"11M\",\"orientation\":\"v\",\"showlegend\":true,\"texttemplate\":\"%{value}\",\"x\":[null,\"Music\",\"Cinema & Actors/actresses\"],\"xaxis\":\"x\",\"yaxis\":\"y\",\"type\":\"histogram\"},{\"alignmentgroup\":\"True\",\"bingroup\":\"x\",\"hovertemplate\":\"Followers=17.2M<br>Category=%{x}<br>count=%{y}<extra></extra>\",\"legendgroup\":\"17.2M\",\"marker\":{\"color\":\"#FECB52\",\"pattern\":{\"shape\":\"\"}},\"name\":\"17.2M\",\"offsetgroup\":\"17.2M\",\"orientation\":\"v\",\"showlegend\":true,\"texttemplate\":\"%{value}\",\"x\":[\"Music\",\"Modeling\",\"MusicCinema & Actors/actresses\",\"Cinema & Actors/actresses\"],\"xaxis\":\"x\",\"yaxis\":\"y\",\"type\":\"histogram\"},{\"alignmentgroup\":\"True\",\"bingroup\":\"x\",\"hovertemplate\":\"Followers=52.8M<br>Category=%{x}<br>count=%{y}<extra></extra>\",\"legendgroup\":\"52.8M\",\"marker\":{\"color\":\"#636efa\",\"pattern\":{\"shape\":\"\"}},\"name\":\"52.8M\",\"offsetgroup\":\"52.8M\",\"orientation\":\"v\",\"showlegend\":true,\"texttemplate\":\"%{value}\",\"x\":[\"Music\"],\"xaxis\":\"x\",\"yaxis\":\"y\",\"type\":\"histogram\"},{\"alignmentgroup\":\"True\",\"bingroup\":\"x\",\"hovertemplate\":\"Followers=59M<br>Category=%{x}<br>count=%{y}<extra></extra>\",\"legendgroup\":\"59M\",\"marker\":{\"color\":\"#EF553B\",\"pattern\":{\"shape\":\"\"}},\"name\":\"59M\",\"offsetgroup\":\"59M\",\"orientation\":\"v\",\"showlegend\":true,\"texttemplate\":\"%{value}\",\"x\":[\"Sports with a ball\"],\"xaxis\":\"x\",\"yaxis\":\"y\",\"type\":\"histogram\"},{\"alignmentgroup\":\"True\",\"bingroup\":\"x\",\"hovertemplate\":\"Followers=20.2M<br>Category=%{x}<br>count=%{y}<extra></extra>\",\"legendgroup\":\"20.2M\",\"marker\":{\"color\":\"#00cc96\",\"pattern\":{\"shape\":\"\"}},\"name\":\"20.2M\",\"offsetgroup\":\"20.2M\",\"orientation\":\"v\",\"showlegend\":true,\"texttemplate\":\"%{value}\",\"x\":[\"Cinema & Actors/actresses\",\"Finance & EconomicsBusiness & Careers\"],\"xaxis\":\"x\",\"yaxis\":\"y\",\"type\":\"histogram\"},{\"alignmentgroup\":\"True\",\"bingroup\":\"x\",\"hovertemplate\":\"Followers=10.1M<br>Category=%{x}<br>count=%{y}<extra></extra>\",\"legendgroup\":\"10.1M\",\"marker\":{\"color\":\"#ab63fa\",\"pattern\":{\"shape\":\"\"}},\"name\":\"10.1M\",\"offsetgroup\":\"10.1M\",\"orientation\":\"v\",\"showlegend\":true,\"texttemplate\":\"%{value}\",\"x\":[\"LifestyleMusic\",\"Music\",\"Sports with a ball\",\"Music\",\"Animals\",\"Music\"],\"xaxis\":\"x\",\"yaxis\":\"y\",\"type\":\"histogram\"},{\"alignmentgroup\":\"True\",\"bingroup\":\"x\",\"hovertemplate\":\"Followers=25M<br>Category=%{x}<br>count=%{y}<extra></extra>\",\"legendgroup\":\"25M\",\"marker\":{\"color\":\"#FFA15A\",\"pattern\":{\"shape\":\"\"}},\"name\":\"25M\",\"offsetgroup\":\"25M\",\"orientation\":\"v\",\"showlegend\":true,\"texttemplate\":\"%{value}\",\"x\":[\"MusicClothing & Outfits\",\"Sports with a ball\"],\"xaxis\":\"x\",\"yaxis\":\"y\",\"type\":\"histogram\"},{\"alignmentgroup\":\"True\",\"bingroup\":\"x\",\"hovertemplate\":\"Followers=32M<br>Category=%{x}<br>count=%{y}<extra></extra>\",\"legendgroup\":\"32M\",\"marker\":{\"color\":\"#19d3f3\",\"pattern\":{\"shape\":\"\"}},\"name\":\"32M\",\"offsetgroup\":\"32M\",\"orientation\":\"v\",\"showlegend\":true,\"texttemplate\":\"%{value}\",\"x\":[\"MusicCinema & Actors/actresses\"],\"xaxis\":\"x\",\"yaxis\":\"y\",\"type\":\"histogram\"},{\"alignmentgroup\":\"True\",\"bingroup\":\"x\",\"hovertemplate\":\"Followers=13.4M<br>Category=%{x}<br>count=%{y}<extra></extra>\",\"legendgroup\":\"13.4M\",\"marker\":{\"color\":\"#FF6692\",\"pattern\":{\"shape\":\"\"}},\"name\":\"13.4M\",\"offsetgroup\":\"13.4M\",\"orientation\":\"v\",\"showlegend\":true,\"texttemplate\":\"%{value}\",\"x\":[\"FashionCinema & Actors/actresses\",\"Cinema & Actors/actresses\",\"Music\",\"Fitness & Gym\",\"Fitness & Gym\",\"Cinema & Actors/actresses\"],\"xaxis\":\"x\",\"yaxis\":\"y\",\"type\":\"histogram\"},{\"alignmentgroup\":\"True\",\"bingroup\":\"x\",\"hovertemplate\":\"Followers=7.8M<br>Category=%{x}<br>count=%{y}<extra></extra>\",\"legendgroup\":\"7.8M\",\"marker\":{\"color\":\"#B6E880\",\"pattern\":{\"shape\":\"\"}},\"name\":\"7.8M\",\"offsetgroup\":\"7.8M\",\"orientation\":\"v\",\"showlegend\":true,\"texttemplate\":\"%{value}\",\"x\":[\"Art/Artists\",\"Sports with a ball\"],\"xaxis\":\"x\",\"yaxis\":\"y\",\"type\":\"histogram\"},{\"alignmentgroup\":\"True\",\"bingroup\":\"x\",\"hovertemplate\":\"Followers=50.3M<br>Category=%{x}<br>count=%{y}<extra></extra>\",\"legendgroup\":\"50.3M\",\"marker\":{\"color\":\"#FF97FF\",\"pattern\":{\"shape\":\"\"}},\"name\":\"50.3M\",\"offsetgroup\":\"50.3M\",\"orientation\":\"v\",\"showlegend\":true,\"texttemplate\":\"%{value}\",\"x\":[\"Finance & EconomicsBusiness & CareersFamily\"],\"xaxis\":\"x\",\"yaxis\":\"y\",\"type\":\"histogram\"},{\"alignmentgroup\":\"True\",\"bingroup\":\"x\",\"hovertemplate\":\"Followers=23.9M<br>Category=%{x}<br>count=%{y}<extra></extra>\",\"legendgroup\":\"23.9M\",\"marker\":{\"color\":\"#FECB52\",\"pattern\":{\"shape\":\"\"}},\"name\":\"23.9M\",\"offsetgroup\":\"23.9M\",\"orientation\":\"v\",\"showlegend\":true,\"texttemplate\":\"%{value}\",\"x\":[\"Art/ArtistsShows\",\"Cinema & Actors/actresses\"],\"xaxis\":\"x\",\"yaxis\":\"y\",\"type\":\"histogram\"},{\"alignmentgroup\":\"True\",\"bingroup\":\"x\",\"hovertemplate\":\"Followers=19.5M<br>Category=%{x}<br>count=%{y}<extra></extra>\",\"legendgroup\":\"19.5M\",\"marker\":{\"color\":\"#636efa\",\"pattern\":{\"shape\":\"\"}},\"name\":\"19.5M\",\"offsetgroup\":\"19.5M\",\"orientation\":\"v\",\"showlegend\":true,\"texttemplate\":\"%{value}\",\"x\":[\"Cinema & Actors/actressesHumor & Fun & Happiness\"],\"xaxis\":\"x\",\"yaxis\":\"y\",\"type\":\"histogram\"},{\"alignmentgroup\":\"True\",\"bingroup\":\"x\",\"hovertemplate\":\"Followers=12.2M<br>Category=%{x}<br>count=%{y}<extra></extra>\",\"legendgroup\":\"12.2M\",\"marker\":{\"color\":\"#EF553B\",\"pattern\":{\"shape\":\"\"}},\"name\":\"12.2M\",\"offsetgroup\":\"12.2M\",\"orientation\":\"v\",\"showlegend\":true,\"texttemplate\":\"%{value}\",\"x\":[\"Music\",\"Cinema & Actors/actresses\",\"Cinema & Actors/actresses\",\"Cinema & Actors/actresses\",\"MusicModelingArt/Artists\",\"Cinema & Actors/actresses\",\"Cinema & Actors/actresses\"],\"xaxis\":\"x\",\"yaxis\":\"y\",\"type\":\"histogram\"},{\"alignmentgroup\":\"True\",\"bingroup\":\"x\",\"hovertemplate\":\"Followers=19.9M<br>Category=%{x}<br>count=%{y}<extra></extra>\",\"legendgroup\":\"19.9M\",\"marker\":{\"color\":\"#00cc96\",\"pattern\":{\"shape\":\"\"}},\"name\":\"19.9M\",\"offsetgroup\":\"19.9M\",\"orientation\":\"v\",\"showlegend\":true,\"texttemplate\":\"%{value}\",\"x\":[\"ModelingLifestyleFashion\",\"Cinema & Actors/actressesModeling\",\"Music\",\"Art/ArtistsFashionModeling\",\"Racing Sports\"],\"xaxis\":\"x\",\"yaxis\":\"y\",\"type\":\"histogram\"},{\"alignmentgroup\":\"True\",\"bingroup\":\"x\",\"hovertemplate\":\"Followers=38.9M<br>Category=%{x}<br>count=%{y}<extra></extra>\",\"legendgroup\":\"38.9M\",\"marker\":{\"color\":\"#ab63fa\",\"pattern\":{\"shape\":\"\"}},\"name\":\"38.9M\",\"offsetgroup\":\"38.9M\",\"orientation\":\"v\",\"showlegend\":true,\"texttemplate\":\"%{value}\",\"x\":[\"Beauty\"],\"xaxis\":\"x\",\"yaxis\":\"y\",\"type\":\"histogram\"},{\"alignmentgroup\":\"True\",\"bingroup\":\"x\",\"hovertemplate\":\"Followers=19.4M<br>Category=%{x}<br>count=%{y}<extra></extra>\",\"legendgroup\":\"19.4M\",\"marker\":{\"color\":\"#FFA15A\",\"pattern\":{\"shape\":\"\"}},\"name\":\"19.4M\",\"offsetgroup\":\"19.4M\",\"orientation\":\"v\",\"showlegend\":true,\"texttemplate\":\"%{value}\",\"x\":[\"Cinema & Actors/actressesLifestyle\",\"ModelingFashionLifestyle\"],\"xaxis\":\"x\",\"yaxis\":\"y\",\"type\":\"histogram\"},{\"alignmentgroup\":\"True\",\"bingroup\":\"x\",\"hovertemplate\":\"Followers=148.8M<br>Category=%{x}<br>count=%{y}<extra></extra>\",\"legendgroup\":\"148.8M\",\"marker\":{\"color\":\"#19d3f3\",\"pattern\":{\"shape\":\"\"}},\"name\":\"148.8M\",\"offsetgroup\":\"148.8M\",\"orientation\":\"v\",\"showlegend\":true,\"texttemplate\":\"%{value}\",\"x\":[\"Cinema & Actors/actresses\"],\"xaxis\":\"x\",\"yaxis\":\"y\",\"type\":\"histogram\"},{\"alignmentgroup\":\"True\",\"bingroup\":\"x\",\"hovertemplate\":\"Followers=26.5M<br>Category=%{x}<br>count=%{y}<extra></extra>\",\"legendgroup\":\"26.5M\",\"marker\":{\"color\":\"#FF6692\",\"pattern\":{\"shape\":\"\"}},\"name\":\"26.5M\",\"offsetgroup\":\"26.5M\",\"orientation\":\"v\",\"showlegend\":true,\"texttemplate\":\"%{value}\",\"x\":[\"Modeling\"],\"xaxis\":\"x\",\"yaxis\":\"y\",\"type\":\"histogram\"},{\"alignmentgroup\":\"True\",\"bingroup\":\"x\",\"hovertemplate\":\"Followers=43.1M<br>Category=%{x}<br>count=%{y}<extra></extra>\",\"legendgroup\":\"43.1M\",\"marker\":{\"color\":\"#B6E880\",\"pattern\":{\"shape\":\"\"}},\"name\":\"43.1M\",\"offsetgroup\":\"43.1M\",\"orientation\":\"v\",\"showlegend\":true,\"texttemplate\":\"%{value}\",\"x\":[\"Cinema & Actors/actresses\"],\"xaxis\":\"x\",\"yaxis\":\"y\",\"type\":\"histogram\"},{\"alignmentgroup\":\"True\",\"bingroup\":\"x\",\"hovertemplate\":\"Followers=27.7M<br>Category=%{x}<br>count=%{y}<extra></extra>\",\"legendgroup\":\"27.7M\",\"marker\":{\"color\":\"#FF97FF\",\"pattern\":{\"shape\":\"\"}},\"name\":\"27.7M\",\"offsetgroup\":\"27.7M\",\"orientation\":\"v\",\"showlegend\":true,\"texttemplate\":\"%{value}\",\"x\":[\"MusicArt/Artists\"],\"xaxis\":\"x\",\"yaxis\":\"y\",\"type\":\"histogram\"},{\"alignmentgroup\":\"True\",\"bingroup\":\"x\",\"hovertemplate\":\"Followers=27.5M<br>Category=%{x}<br>count=%{y}<extra></extra>\",\"legendgroup\":\"27.5M\",\"marker\":{\"color\":\"#FECB52\",\"pattern\":{\"shape\":\"\"}},\"name\":\"27.5M\",\"offsetgroup\":\"27.5M\",\"orientation\":\"v\",\"showlegend\":true,\"texttemplate\":\"%{value}\",\"x\":[\"Music\",\"Beauty\"],\"xaxis\":\"x\",\"yaxis\":\"y\",\"type\":\"histogram\"},{\"alignmentgroup\":\"True\",\"bingroup\":\"x\",\"hovertemplate\":\"Followers=8.1M<br>Category=%{x}<br>count=%{y}<extra></extra>\",\"legendgroup\":\"8.1M\",\"marker\":{\"color\":\"#636efa\",\"pattern\":{\"shape\":\"\"}},\"name\":\"8.1M\",\"offsetgroup\":\"8.1M\",\"orientation\":\"v\",\"showlegend\":true,\"texttemplate\":\"%{value}\",\"x\":[\"Cinema & Actors/actresses\",\"LifestyleArt/Artists\",\"Music\",\"Sports with a ball\",\"Beauty\",null,null,null,\"BeautyCinema & Actors/actresses\"],\"xaxis\":\"x\",\"yaxis\":\"y\",\"type\":\"histogram\"},{\"alignmentgroup\":\"True\",\"bingroup\":\"x\",\"hovertemplate\":\"Followers=4.9M<br>Category=%{x}<br>count=%{y}<extra></extra>\",\"legendgroup\":\"4.9M\",\"marker\":{\"color\":\"#EF553B\",\"pattern\":{\"shape\":\"\"}},\"name\":\"4.9M\",\"offsetgroup\":\"4.9M\",\"orientation\":\"v\",\"showlegend\":true,\"texttemplate\":\"%{value}\",\"x\":[null,null,\"Cinema & Actors/actresses\",\"Music\",\"LifestyleCinema & Actors/actresses\"],\"xaxis\":\"x\",\"yaxis\":\"y\",\"type\":\"histogram\"},{\"alignmentgroup\":\"True\",\"bingroup\":\"x\",\"hovertemplate\":\"Followers=18.1M<br>Category=%{x}<br>count=%{y}<extra></extra>\",\"legendgroup\":\"18.1M\",\"marker\":{\"color\":\"#00cc96\",\"pattern\":{\"shape\":\"\"}},\"name\":\"18.1M\",\"offsetgroup\":\"18.1M\",\"orientation\":\"v\",\"showlegend\":true,\"texttemplate\":\"%{value}\",\"x\":[\"Music\",\"Cinema & Actors/actresses\",\"Humor & Fun & Happiness\"],\"xaxis\":\"x\",\"yaxis\":\"y\",\"type\":\"histogram\"},{\"alignmentgroup\":\"True\",\"bingroup\":\"x\",\"hovertemplate\":\"Followers=13.9M<br>Category=%{x}<br>count=%{y}<extra></extra>\",\"legendgroup\":\"13.9M\",\"marker\":{\"color\":\"#ab63fa\",\"pattern\":{\"shape\":\"\"}},\"name\":\"13.9M\",\"offsetgroup\":\"13.9M\",\"orientation\":\"v\",\"showlegend\":true,\"texttemplate\":\"%{value}\",\"x\":[\"MusicArt/Artists\",\"MusicLifestyle\",\"MusicCinema & Actors/actresses\",\"Adult content\",\"Cinema & Actors/actressesModeling\",\"Racing Sports\",\"Music\",\"Lifestyle\"],\"xaxis\":\"x\",\"yaxis\":\"y\",\"type\":\"histogram\"},{\"alignmentgroup\":\"True\",\"bingroup\":\"x\",\"hovertemplate\":\"Followers=58.2M<br>Category=%{x}<br>count=%{y}<extra></extra>\",\"legendgroup\":\"58.2M\",\"marker\":{\"color\":\"#FFA15A\",\"pattern\":{\"shape\":\"\"}},\"name\":\"58.2M\",\"offsetgroup\":\"58.2M\",\"orientation\":\"v\",\"showlegend\":true,\"texttemplate\":\"%{value}\",\"x\":[\"Humor & Fun & Happiness\"],\"xaxis\":\"x\",\"yaxis\":\"y\",\"type\":\"histogram\"},{\"alignmentgroup\":\"True\",\"bingroup\":\"x\",\"hovertemplate\":\"Followers=5.1M<br>Category=%{x}<br>count=%{y}<extra></extra>\",\"legendgroup\":\"5.1M\",\"marker\":{\"color\":\"#19d3f3\",\"pattern\":{\"shape\":\"\"}},\"name\":\"5.1M\",\"offsetgroup\":\"5.1M\",\"orientation\":\"v\",\"showlegend\":true,\"texttemplate\":\"%{value}\",\"x\":[\"Lifestyle\",\"Music\",null,\"LifestyleFashion\"],\"xaxis\":\"x\",\"yaxis\":\"y\",\"type\":\"histogram\"},{\"alignmentgroup\":\"True\",\"bingroup\":\"x\",\"hovertemplate\":\"Followers=7.9M<br>Category=%{x}<br>count=%{y}<extra></extra>\",\"legendgroup\":\"7.9M\",\"marker\":{\"color\":\"#FF6692\",\"pattern\":{\"shape\":\"\"}},\"name\":\"7.9M\",\"offsetgroup\":\"7.9M\",\"orientation\":\"v\",\"showlegend\":true,\"texttemplate\":\"%{value}\",\"x\":[null,\"Lifestyle\",\"Music\",\"MusicLifestyle\",null,\"Computers & GadgetsMachinery & Technologies\"],\"xaxis\":\"x\",\"yaxis\":\"y\",\"type\":\"histogram\"},{\"alignmentgroup\":\"True\",\"bingroup\":\"x\",\"hovertemplate\":\"Followers=13.2M<br>Category=%{x}<br>count=%{y}<extra></extra>\",\"legendgroup\":\"13.2M\",\"marker\":{\"color\":\"#B6E880\",\"pattern\":{\"shape\":\"\"}},\"name\":\"13.2M\",\"offsetgroup\":\"13.2M\",\"orientation\":\"v\",\"showlegend\":true,\"texttemplate\":\"%{value}\",\"x\":[\"Cinema & Actors/actresses\",\"LifestyleBeauty\",\"Lifestyle\",\"Family\",\"Art/ArtistsFashionMusic\"],\"xaxis\":\"x\",\"yaxis\":\"y\",\"type\":\"histogram\"},{\"alignmentgroup\":\"True\",\"bingroup\":\"x\",\"hovertemplate\":\"Followers=6.2M<br>Category=%{x}<br>count=%{y}<extra></extra>\",\"legendgroup\":\"6.2M\",\"marker\":{\"color\":\"#FF97FF\",\"pattern\":{\"shape\":\"\"}},\"name\":\"6.2M\",\"offsetgroup\":\"6.2M\",\"orientation\":\"v\",\"showlegend\":true,\"texttemplate\":\"%{value}\",\"x\":[null,null,\"Sports with a ball\"],\"xaxis\":\"x\",\"yaxis\":\"y\",\"type\":\"histogram\"},{\"alignmentgroup\":\"True\",\"bingroup\":\"x\",\"hovertemplate\":\"Followers=13.3M<br>Category=%{x}<br>count=%{y}<extra></extra>\",\"legendgroup\":\"13.3M\",\"marker\":{\"color\":\"#FECB52\",\"pattern\":{\"shape\":\"\"}},\"name\":\"13.3M\",\"offsetgroup\":\"13.3M\",\"orientation\":\"v\",\"showlegend\":true,\"texttemplate\":\"%{value}\",\"x\":[\"Cinema & Actors/actresses\",\"Cinema & Actors/actresses\"],\"xaxis\":\"x\",\"yaxis\":\"y\",\"type\":\"histogram\"},{\"alignmentgroup\":\"True\",\"bingroup\":\"x\",\"hovertemplate\":\"Followers=34.8M<br>Category=%{x}<br>count=%{y}<extra></extra>\",\"legendgroup\":\"34.8M\",\"marker\":{\"color\":\"#636efa\",\"pattern\":{\"shape\":\"\"}},\"name\":\"34.8M\",\"offsetgroup\":\"34.8M\",\"orientation\":\"v\",\"showlegend\":true,\"texttemplate\":\"%{value}\",\"x\":[\"Music\",\"Sports with a ball\"],\"xaxis\":\"x\",\"yaxis\":\"y\",\"type\":\"histogram\"},{\"alignmentgroup\":\"True\",\"bingroup\":\"x\",\"hovertemplate\":\"Followers=33.7M<br>Category=%{x}<br>count=%{y}<extra></extra>\",\"legendgroup\":\"33.7M\",\"marker\":{\"color\":\"#EF553B\",\"pattern\":{\"shape\":\"\"}},\"name\":\"33.7M\",\"offsetgroup\":\"33.7M\",\"orientation\":\"v\",\"showlegend\":true,\"texttemplate\":\"%{value}\",\"x\":[\"Cinema & Actors/actresses\"],\"xaxis\":\"x\",\"yaxis\":\"y\",\"type\":\"histogram\"},{\"alignmentgroup\":\"True\",\"bingroup\":\"x\",\"hovertemplate\":\"Followers=16.2M<br>Category=%{x}<br>count=%{y}<extra></extra>\",\"legendgroup\":\"16.2M\",\"marker\":{\"color\":\"#00cc96\",\"pattern\":{\"shape\":\"\"}},\"name\":\"16.2M\",\"offsetgroup\":\"16.2M\",\"orientation\":\"v\",\"showlegend\":true,\"texttemplate\":\"%{value}\",\"x\":[\"Sports with a ball\",\"Art/ArtistsCinema & Actors/actresses\"],\"xaxis\":\"x\",\"yaxis\":\"y\",\"type\":\"histogram\"},{\"alignmentgroup\":\"True\",\"bingroup\":\"x\",\"hovertemplate\":\"Followers=6.4M<br>Category=%{x}<br>count=%{y}<extra></extra>\",\"legendgroup\":\"6.4M\",\"marker\":{\"color\":\"#ab63fa\",\"pattern\":{\"shape\":\"\"}},\"name\":\"6.4M\",\"offsetgroup\":\"6.4M\",\"orientation\":\"v\",\"showlegend\":true,\"texttemplate\":\"%{value}\",\"x\":[null,\"Music\",\"Lifestyle\"],\"xaxis\":\"x\",\"yaxis\":\"y\",\"type\":\"histogram\"},{\"alignmentgroup\":\"True\",\"bingroup\":\"x\",\"hovertemplate\":\"Followers=19.6M<br>Category=%{x}<br>count=%{y}<extra></extra>\",\"legendgroup\":\"19.6M\",\"marker\":{\"color\":\"#FFA15A\",\"pattern\":{\"shape\":\"\"}},\"name\":\"19.6M\",\"offsetgroup\":\"19.6M\",\"orientation\":\"v\",\"showlegend\":true,\"texttemplate\":\"%{value}\",\"x\":[\"Modeling\"],\"xaxis\":\"x\",\"yaxis\":\"y\",\"type\":\"histogram\"},{\"alignmentgroup\":\"True\",\"bingroup\":\"x\",\"hovertemplate\":\"Followers=6.7M<br>Category=%{x}<br>count=%{y}<extra></extra>\",\"legendgroup\":\"6.7M\",\"marker\":{\"color\":\"#19d3f3\",\"pattern\":{\"shape\":\"\"}},\"name\":\"6.7M\",\"offsetgroup\":\"6.7M\",\"orientation\":\"v\",\"showlegend\":true,\"texttemplate\":\"%{value}\",\"x\":[\"Lifestyle\",\"Beauty\",\"Lifestyle\",\"LifestyleMusic\",\"Fitness & Gym\"],\"xaxis\":\"x\",\"yaxis\":\"y\",\"type\":\"histogram\"},{\"alignmentgroup\":\"True\",\"bingroup\":\"x\",\"hovertemplate\":\"Followers=5.4M<br>Category=%{x}<br>count=%{y}<extra></extra>\",\"legendgroup\":\"5.4M\",\"marker\":{\"color\":\"#FF6692\",\"pattern\":{\"shape\":\"\"}},\"name\":\"5.4M\",\"offsetgroup\":\"5.4M\",\"orientation\":\"v\",\"showlegend\":true,\"texttemplate\":\"%{value}\",\"x\":[\"LifestyleMusic\",\"Cinema & Actors/actresses\",\"Music\",\"Sports with a ball\",\"Adult content\",\"Music\"],\"xaxis\":\"x\",\"yaxis\":\"y\",\"type\":\"histogram\"},{\"alignmentgroup\":\"True\",\"bingroup\":\"x\",\"hovertemplate\":\"Followers=16.4M<br>Category=%{x}<br>count=%{y}<extra></extra>\",\"legendgroup\":\"16.4M\",\"marker\":{\"color\":\"#B6E880\",\"pattern\":{\"shape\":\"\"}},\"name\":\"16.4M\",\"offsetgroup\":\"16.4M\",\"orientation\":\"v\",\"showlegend\":true,\"texttemplate\":\"%{value}\",\"x\":[\"Music\",\"Music\"],\"xaxis\":\"x\",\"yaxis\":\"y\",\"type\":\"histogram\"},{\"alignmentgroup\":\"True\",\"bingroup\":\"x\",\"hovertemplate\":\"Followers=46.4M<br>Category=%{x}<br>count=%{y}<extra></extra>\",\"legendgroup\":\"46.4M\",\"marker\":{\"color\":\"#FF97FF\",\"pattern\":{\"shape\":\"\"}},\"name\":\"46.4M\",\"offsetgroup\":\"46.4M\",\"orientation\":\"v\",\"showlegend\":true,\"texttemplate\":\"%{value}\",\"x\":[\"Cinema & Actors/actresses\"],\"xaxis\":\"x\",\"yaxis\":\"y\",\"type\":\"histogram\"},{\"alignmentgroup\":\"True\",\"bingroup\":\"x\",\"hovertemplate\":\"Followers=6M<br>Category=%{x}<br>count=%{y}<extra></extra>\",\"legendgroup\":\"6M\",\"marker\":{\"color\":\"#FECB52\",\"pattern\":{\"shape\":\"\"}},\"name\":\"6M\",\"offsetgroup\":\"6M\",\"orientation\":\"v\",\"showlegend\":true,\"texttemplate\":\"%{value}\",\"x\":[\"LifestyleCinema & Actors/actresses\",\"Music\",\"Lifestyle\",\"LifestyleMusic\",\"LifestyleMusic\"],\"xaxis\":\"x\",\"yaxis\":\"y\",\"type\":\"histogram\"},{\"alignmentgroup\":\"True\",\"bingroup\":\"x\",\"hovertemplate\":\"Followers=39.5M<br>Category=%{x}<br>count=%{y}<extra></extra>\",\"legendgroup\":\"39.5M\",\"marker\":{\"color\":\"#636efa\",\"pattern\":{\"shape\":\"\"}},\"name\":\"39.5M\",\"offsetgroup\":\"39.5M\",\"orientation\":\"v\",\"showlegend\":true,\"texttemplate\":\"%{value}\",\"x\":[\"Music\",\"Sports with a ball\"],\"xaxis\":\"x\",\"yaxis\":\"y\",\"type\":\"histogram\"},{\"alignmentgroup\":\"True\",\"bingroup\":\"x\",\"hovertemplate\":\"Followers=46.1M<br>Category=%{x}<br>count=%{y}<extra></extra>\",\"legendgroup\":\"46.1M\",\"marker\":{\"color\":\"#EF553B\",\"pattern\":{\"shape\":\"\"}},\"name\":\"46.1M\",\"offsetgroup\":\"46.1M\",\"orientation\":\"v\",\"showlegend\":true,\"texttemplate\":\"%{value}\",\"x\":[\"Cinema & Actors/actresses\"],\"xaxis\":\"x\",\"yaxis\":\"y\",\"type\":\"histogram\"},{\"alignmentgroup\":\"True\",\"bingroup\":\"x\",\"hovertemplate\":\"Followers=19.2M<br>Category=%{x}<br>count=%{y}<extra></extra>\",\"legendgroup\":\"19.2M\",\"marker\":{\"color\":\"#00cc96\",\"pattern\":{\"shape\":\"\"}},\"name\":\"19.2M\",\"offsetgroup\":\"19.2M\",\"orientation\":\"v\",\"showlegend\":true,\"texttemplate\":\"%{value}\",\"x\":[\"Music\"],\"xaxis\":\"x\",\"yaxis\":\"y\",\"type\":\"histogram\"},{\"alignmentgroup\":\"True\",\"bingroup\":\"x\",\"hovertemplate\":\"Followers=17.5M<br>Category=%{x}<br>count=%{y}<extra></extra>\",\"legendgroup\":\"17.5M\",\"marker\":{\"color\":\"#ab63fa\",\"pattern\":{\"shape\":\"\"}},\"name\":\"17.5M\",\"offsetgroup\":\"17.5M\",\"orientation\":\"v\",\"showlegend\":true,\"texttemplate\":\"%{value}\",\"x\":[\"Business & Careers\",\"Sports with a ball\"],\"xaxis\":\"x\",\"yaxis\":\"y\",\"type\":\"histogram\"},{\"alignmentgroup\":\"True\",\"bingroup\":\"x\",\"hovertemplate\":\"Followers=29.8M<br>Category=%{x}<br>count=%{y}<extra></extra>\",\"legendgroup\":\"29.8M\",\"marker\":{\"color\":\"#FFA15A\",\"pattern\":{\"shape\":\"\"}},\"name\":\"29.8M\",\"offsetgroup\":\"29.8M\",\"orientation\":\"v\",\"showlegend\":true,\"texttemplate\":\"%{value}\",\"x\":[\"Cinema & Actors/actresses\"],\"xaxis\":\"x\",\"yaxis\":\"y\",\"type\":\"histogram\"},{\"alignmentgroup\":\"True\",\"bingroup\":\"x\",\"hovertemplate\":\"Followers=36.4M<br>Category=%{x}<br>count=%{y}<extra></extra>\",\"legendgroup\":\"36.4M\",\"marker\":{\"color\":\"#19d3f3\",\"pattern\":{\"shape\":\"\"}},\"name\":\"36.4M\",\"offsetgroup\":\"36.4M\",\"orientation\":\"v\",\"showlegend\":true,\"texttemplate\":\"%{value}\",\"x\":[\"Sports with a ball\"],\"xaxis\":\"x\",\"yaxis\":\"y\",\"type\":\"histogram\"},{\"alignmentgroup\":\"True\",\"bingroup\":\"x\",\"hovertemplate\":\"Followers=9.5M<br>Category=%{x}<br>count=%{y}<extra></extra>\",\"legendgroup\":\"9.5M\",\"marker\":{\"color\":\"#FF6692\",\"pattern\":{\"shape\":\"\"}},\"name\":\"9.5M\",\"offsetgroup\":\"9.5M\",\"orientation\":\"v\",\"showlegend\":true,\"texttemplate\":\"%{value}\",\"x\":[\"Management & MarketingMusic\",\"MusicCinema & Actors/actresses\",\"Music\",\"Lifestyle\"],\"xaxis\":\"x\",\"yaxis\":\"y\",\"type\":\"histogram\"},{\"alignmentgroup\":\"True\",\"bingroup\":\"x\",\"hovertemplate\":\"Followers=7.1M<br>Category=%{x}<br>count=%{y}<extra></extra>\",\"legendgroup\":\"7.1M\",\"marker\":{\"color\":\"#B6E880\",\"pattern\":{\"shape\":\"\"}},\"name\":\"7.1M\",\"offsetgroup\":\"7.1M\",\"orientation\":\"v\",\"showlegend\":true,\"texttemplate\":\"%{value}\",\"x\":[\"Cinema & Actors/actressesLifestyle\",\"FamilyLifestyleShows\",\"ModelingLifestyle\",\"BeautyLifestyleFashion\"],\"xaxis\":\"x\",\"yaxis\":\"y\",\"type\":\"histogram\"},{\"alignmentgroup\":\"True\",\"bingroup\":\"x\",\"hovertemplate\":\"Followers=7.4M<br>Category=%{x}<br>count=%{y}<extra></extra>\",\"legendgroup\":\"7.4M\",\"marker\":{\"color\":\"#FF97FF\",\"pattern\":{\"shape\":\"\"}},\"name\":\"7.4M\",\"offsetgroup\":\"7.4M\",\"orientation\":\"v\",\"showlegend\":true,\"texttemplate\":\"%{value}\",\"x\":[\"Humor & Fun & Happiness\",\"Sports with a ball\",\"Family\",\"MusicCinema & Actors/actresses\",\"LifestyleMusic\",\"Cinema & Actors/actresses\",\"LifestyleSports with a ball\",\"Computers & GadgetsMachinery & Technologies\",\"Shows\"],\"xaxis\":\"x\",\"yaxis\":\"y\",\"type\":\"histogram\"},{\"alignmentgroup\":\"True\",\"bingroup\":\"x\",\"hovertemplate\":\"Followers=11.8M<br>Category=%{x}<br>count=%{y}<extra></extra>\",\"legendgroup\":\"11.8M\",\"marker\":{\"color\":\"#FECB52\",\"pattern\":{\"shape\":\"\"}},\"name\":\"11.8M\",\"offsetgroup\":\"11.8M\",\"orientation\":\"v\",\"showlegend\":true,\"texttemplate\":\"%{value}\",\"x\":[\"LifestyleFamily\",\"Cinema & Actors/actressesModelingFashion\"],\"xaxis\":\"x\",\"yaxis\":\"y\",\"type\":\"histogram\"},{\"alignmentgroup\":\"True\",\"bingroup\":\"x\",\"hovertemplate\":\"Followers=22.7M<br>Category=%{x}<br>count=%{y}<extra></extra>\",\"legendgroup\":\"22.7M\",\"marker\":{\"color\":\"#636efa\",\"pattern\":{\"shape\":\"\"}},\"name\":\"22.7M\",\"offsetgroup\":\"22.7M\",\"orientation\":\"v\",\"showlegend\":true,\"texttemplate\":\"%{value}\",\"x\":[\"MusicArt/ArtistsCinema & Actors/actresses\",\"MusicCinema & Actors/actressesModeling\",\"MusicCinema & Actors/actresses\"],\"xaxis\":\"x\",\"yaxis\":\"y\",\"type\":\"histogram\"},{\"alignmentgroup\":\"True\",\"bingroup\":\"x\",\"hovertemplate\":\"Followers=11.5M<br>Category=%{x}<br>count=%{y}<extra></extra>\",\"legendgroup\":\"11.5M\",\"marker\":{\"color\":\"#EF553B\",\"pattern\":{\"shape\":\"\"}},\"name\":\"11.5M\",\"offsetgroup\":\"11.5M\",\"orientation\":\"v\",\"showlegend\":true,\"texttemplate\":\"%{value}\",\"x\":[\"Lifestyle\",\"BeautyCinema & Actors/actressesModeling\",\"Sports with a ball\",\"Sports with a ball\"],\"xaxis\":\"x\",\"yaxis\":\"y\",\"type\":\"histogram\"},{\"alignmentgroup\":\"True\",\"bingroup\":\"x\",\"hovertemplate\":\"Followers=33.5M<br>Category=%{x}<br>count=%{y}<extra></extra>\",\"legendgroup\":\"33.5M\",\"marker\":{\"color\":\"#00cc96\",\"pattern\":{\"shape\":\"\"}},\"name\":\"33.5M\",\"offsetgroup\":\"33.5M\",\"orientation\":\"v\",\"showlegend\":true,\"texttemplate\":\"%{value}\",\"x\":[\"Fitness & Gym\"],\"xaxis\":\"x\",\"yaxis\":\"y\",\"type\":\"histogram\"},{\"alignmentgroup\":\"True\",\"bingroup\":\"x\",\"hovertemplate\":\"Followers=43.8M<br>Category=%{x}<br>count=%{y}<extra></extra>\",\"legendgroup\":\"43.8M\",\"marker\":{\"color\":\"#ab63fa\",\"pattern\":{\"shape\":\"\"}},\"name\":\"43.8M\",\"offsetgroup\":\"43.8M\",\"orientation\":\"v\",\"showlegend\":true,\"texttemplate\":\"%{value}\",\"x\":[\"Music\"],\"xaxis\":\"x\",\"yaxis\":\"y\",\"type\":\"histogram\"},{\"alignmentgroup\":\"True\",\"bingroup\":\"x\",\"hovertemplate\":\"Followers=9.7M<br>Category=%{x}<br>count=%{y}<extra></extra>\",\"legendgroup\":\"9.7M\",\"marker\":{\"color\":\"#FFA15A\",\"pattern\":{\"shape\":\"\"}},\"name\":\"9.7M\",\"offsetgroup\":\"9.7M\",\"orientation\":\"v\",\"showlegend\":true,\"texttemplate\":\"%{value}\",\"x\":[\"MusicShows\",\"Lifestyle\",\"Music\"],\"xaxis\":\"x\",\"yaxis\":\"y\",\"type\":\"histogram\"},{\"alignmentgroup\":\"True\",\"bingroup\":\"x\",\"hovertemplate\":\"Followers=43.4M<br>Category=%{x}<br>count=%{y}<extra></extra>\",\"legendgroup\":\"43.4M\",\"marker\":{\"color\":\"#19d3f3\",\"pattern\":{\"shape\":\"\"}},\"name\":\"43.4M\",\"offsetgroup\":\"43.4M\",\"orientation\":\"v\",\"showlegend\":true,\"texttemplate\":\"%{value}\",\"x\":[\"Music\"],\"xaxis\":\"x\",\"yaxis\":\"y\",\"type\":\"histogram\"},{\"alignmentgroup\":\"True\",\"bingroup\":\"x\",\"hovertemplate\":\"Followers=45.2M<br>Category=%{x}<br>count=%{y}<extra></extra>\",\"legendgroup\":\"45.2M\",\"marker\":{\"color\":\"#FF6692\",\"pattern\":{\"shape\":\"\"}},\"name\":\"45.2M\",\"offsetgroup\":\"45.2M\",\"orientation\":\"v\",\"showlegend\":true,\"texttemplate\":\"%{value}\",\"x\":[\"Sports with a ballClothing & Outfits\"],\"xaxis\":\"x\",\"yaxis\":\"y\",\"type\":\"histogram\"},{\"alignmentgroup\":\"True\",\"bingroup\":\"x\",\"hovertemplate\":\"Followers=30.5M<br>Category=%{x}<br>count=%{y}<extra></extra>\",\"legendgroup\":\"30.5M\",\"marker\":{\"color\":\"#B6E880\",\"pattern\":{\"shape\":\"\"}},\"name\":\"30.5M\",\"offsetgroup\":\"30.5M\",\"orientation\":\"v\",\"showlegend\":true,\"texttemplate\":\"%{value}\",\"x\":[\"Cinema & Actors/actresses\"],\"xaxis\":\"x\",\"yaxis\":\"y\",\"type\":\"histogram\"},{\"alignmentgroup\":\"True\",\"bingroup\":\"x\",\"hovertemplate\":\"Followers=28.4M<br>Category=%{x}<br>count=%{y}<extra></extra>\",\"legendgroup\":\"28.4M\",\"marker\":{\"color\":\"#FF97FF\",\"pattern\":{\"shape\":\"\"}},\"name\":\"28.4M\",\"offsetgroup\":\"28.4M\",\"orientation\":\"v\",\"showlegend\":true,\"texttemplate\":\"%{value}\",\"x\":[\"Cinema & Actors/actressesModeling\",\"Fitness & Gym\"],\"xaxis\":\"x\",\"yaxis\":\"y\",\"type\":\"histogram\"},{\"alignmentgroup\":\"True\",\"bingroup\":\"x\",\"hovertemplate\":\"Followers=11.4M<br>Category=%{x}<br>count=%{y}<extra></extra>\",\"legendgroup\":\"11.4M\",\"marker\":{\"color\":\"#FECB52\",\"pattern\":{\"shape\":\"\"}},\"name\":\"11.4M\",\"offsetgroup\":\"11.4M\",\"orientation\":\"v\",\"showlegend\":true,\"texttemplate\":\"%{value}\",\"x\":[\"MusicArt/ArtistsCinema & Actors/actresses\",\"MusicCinema & Actors/actressesFashion\"],\"xaxis\":\"x\",\"yaxis\":\"y\",\"type\":\"histogram\"},{\"alignmentgroup\":\"True\",\"bingroup\":\"x\",\"hovertemplate\":\"Followers=11.7M<br>Category=%{x}<br>count=%{y}<extra></extra>\",\"legendgroup\":\"11.7M\",\"marker\":{\"color\":\"#636efa\",\"pattern\":{\"shape\":\"\"}},\"name\":\"11.7M\",\"offsetgroup\":\"11.7M\",\"orientation\":\"v\",\"showlegend\":true,\"texttemplate\":\"%{value}\",\"x\":[\"Literature & JournalismTrainers & Coaches\",\"LifestyleArt/Artists\",\"Cinema & Actors/actresses\",\"Music\"],\"xaxis\":\"x\",\"yaxis\":\"y\",\"type\":\"histogram\"},{\"alignmentgroup\":\"True\",\"bingroup\":\"x\",\"hovertemplate\":\"Followers=8.6M<br>Category=%{x}<br>count=%{y}<extra></extra>\",\"legendgroup\":\"8.6M\",\"marker\":{\"color\":\"#EF553B\",\"pattern\":{\"shape\":\"\"}},\"name\":\"8.6M\",\"offsetgroup\":\"8.6M\",\"orientation\":\"v\",\"showlegend\":true,\"texttemplate\":\"%{value}\",\"x\":[\"Literature & JournalismShows\",\"Sports with a ball\",\"LifestyleBeauty\",null],\"xaxis\":\"x\",\"yaxis\":\"y\",\"type\":\"histogram\"},{\"alignmentgroup\":\"True\",\"bingroup\":\"x\",\"hovertemplate\":\"Followers=33.3M<br>Category=%{x}<br>count=%{y}<extra></extra>\",\"legendgroup\":\"33.3M\",\"marker\":{\"color\":\"#00cc96\",\"pattern\":{\"shape\":\"\"}},\"name\":\"33.3M\",\"offsetgroup\":\"33.3M\",\"orientation\":\"v\",\"showlegend\":true,\"texttemplate\":\"%{value}\",\"x\":[\"Sports with a ball\"],\"xaxis\":\"x\",\"yaxis\":\"y\",\"type\":\"histogram\"},{\"alignmentgroup\":\"True\",\"bingroup\":\"x\",\"hovertemplate\":\"Followers=29.3M<br>Category=%{x}<br>count=%{y}<extra></extra>\",\"legendgroup\":\"29.3M\",\"marker\":{\"color\":\"#ab63fa\",\"pattern\":{\"shape\":\"\"}},\"name\":\"29.3M\",\"offsetgroup\":\"29.3M\",\"orientation\":\"v\",\"showlegend\":true,\"texttemplate\":\"%{value}\",\"x\":[\"Cinema & Actors/actresses\"],\"xaxis\":\"x\",\"yaxis\":\"y\",\"type\":\"histogram\"},{\"alignmentgroup\":\"True\",\"bingroup\":\"x\",\"hovertemplate\":\"Followers=24.9M<br>Category=%{x}<br>count=%{y}<extra></extra>\",\"legendgroup\":\"24.9M\",\"marker\":{\"color\":\"#FFA15A\",\"pattern\":{\"shape\":\"\"}},\"name\":\"24.9M\",\"offsetgroup\":\"24.9M\",\"orientation\":\"v\",\"showlegend\":true,\"texttemplate\":\"%{value}\",\"x\":[\"Sports with a ball\"],\"xaxis\":\"x\",\"yaxis\":\"y\",\"type\":\"histogram\"},{\"alignmentgroup\":\"True\",\"bingroup\":\"x\",\"hovertemplate\":\"Followers=8.8M<br>Category=%{x}<br>count=%{y}<extra></extra>\",\"legendgroup\":\"8.8M\",\"marker\":{\"color\":\"#19d3f3\",\"pattern\":{\"shape\":\"\"}},\"name\":\"8.8M\",\"offsetgroup\":\"8.8M\",\"orientation\":\"v\",\"showlegend\":true,\"texttemplate\":\"%{value}\",\"x\":[null,\"ShowsCinema & Actors/actressesLifestyle\",\"Music\",\"Cinema & Actors/actresses\",\"Humor & Fun & HappinessLifestyleBeauty\"],\"xaxis\":\"x\",\"yaxis\":\"y\",\"type\":\"histogram\"},{\"alignmentgroup\":\"True\",\"bingroup\":\"x\",\"hovertemplate\":\"Followers=3.7M<br>Category=%{x}<br>count=%{y}<extra></extra>\",\"legendgroup\":\"3.7M\",\"marker\":{\"color\":\"#FF6692\",\"pattern\":{\"shape\":\"\"}},\"name\":\"3.7M\",\"offsetgroup\":\"3.7M\",\"orientation\":\"v\",\"showlegend\":true,\"texttemplate\":\"%{value}\",\"x\":[\"Lifestyle\",\"LifestyleMusicSports with a ball\",\"Lifestyle\",\"Lifestyle\",\"Lifestyle\"],\"xaxis\":\"x\",\"yaxis\":\"y\",\"type\":\"histogram\"},{\"alignmentgroup\":\"True\",\"bingroup\":\"x\",\"hovertemplate\":\"Followers=47.4M<br>Category=%{x}<br>count=%{y}<extra></extra>\",\"legendgroup\":\"47.4M\",\"marker\":{\"color\":\"#B6E880\",\"pattern\":{\"shape\":\"\"}},\"name\":\"47.4M\",\"offsetgroup\":\"47.4M\",\"orientation\":\"v\",\"showlegend\":true,\"texttemplate\":\"%{value}\",\"x\":[\"Finance & Economics\"],\"xaxis\":\"x\",\"yaxis\":\"y\",\"type\":\"histogram\"},{\"alignmentgroup\":\"True\",\"bingroup\":\"x\",\"hovertemplate\":\"Followers=46.9M<br>Category=%{x}<br>count=%{y}<extra></extra>\",\"legendgroup\":\"46.9M\",\"marker\":{\"color\":\"#FF97FF\",\"pattern\":{\"shape\":\"\"}},\"name\":\"46.9M\",\"offsetgroup\":\"46.9M\",\"orientation\":\"v\",\"showlegend\":true,\"texttemplate\":\"%{value}\",\"x\":[\"Food & Cooking\"],\"xaxis\":\"x\",\"yaxis\":\"y\",\"type\":\"histogram\"},{\"alignmentgroup\":\"True\",\"bingroup\":\"x\",\"hovertemplate\":\"Followers=25.9M<br>Category=%{x}<br>count=%{y}<extra></extra>\",\"legendgroup\":\"25.9M\",\"marker\":{\"color\":\"#FECB52\",\"pattern\":{\"shape\":\"\"}},\"name\":\"25.9M\",\"offsetgroup\":\"25.9M\",\"orientation\":\"v\",\"showlegend\":true,\"texttemplate\":\"%{value}\",\"x\":[\"Computers & Gadgets\"],\"xaxis\":\"x\",\"yaxis\":\"y\",\"type\":\"histogram\"},{\"alignmentgroup\":\"True\",\"bingroup\":\"x\",\"hovertemplate\":\"Followers=20.1M<br>Category=%{x}<br>count=%{y}<extra></extra>\",\"legendgroup\":\"20.1M\",\"marker\":{\"color\":\"#636efa\",\"pattern\":{\"shape\":\"\"}},\"name\":\"20.1M\",\"offsetgroup\":\"20.1M\",\"orientation\":\"v\",\"showlegend\":true,\"texttemplate\":\"%{value}\",\"x\":[\"ShowsCinema & Actors/actresses\",\"Cinema & Actors/actresses\",\"Beauty\"],\"xaxis\":\"x\",\"yaxis\":\"y\",\"type\":\"histogram\"},{\"alignmentgroup\":\"True\",\"bingroup\":\"x\",\"hovertemplate\":\"Followers=9.2M<br>Category=%{x}<br>count=%{y}<extra></extra>\",\"legendgroup\":\"9.2M\",\"marker\":{\"color\":\"#EF553B\",\"pattern\":{\"shape\":\"\"}},\"name\":\"9.2M\",\"offsetgroup\":\"9.2M\",\"orientation\":\"v\",\"showlegend\":true,\"texttemplate\":\"%{value}\",\"x\":[\"Cinema & Actors/actresses\",\"Music\",\"Sports with a ball\",\"Shows\"],\"xaxis\":\"x\",\"yaxis\":\"y\",\"type\":\"histogram\"},{\"alignmentgroup\":\"True\",\"bingroup\":\"x\",\"hovertemplate\":\"Followers=53.6M<br>Category=%{x}<br>count=%{y}<extra></extra>\",\"legendgroup\":\"53.6M\",\"marker\":{\"color\":\"#00cc96\",\"pattern\":{\"shape\":\"\"}},\"name\":\"53.6M\",\"offsetgroup\":\"53.6M\",\"orientation\":\"v\",\"showlegend\":true,\"texttemplate\":\"%{value}\",\"x\":[\"Cinema & Actors/actressesFamily\"],\"xaxis\":\"x\",\"yaxis\":\"y\",\"type\":\"histogram\"},{\"alignmentgroup\":\"True\",\"bingroup\":\"x\",\"hovertemplate\":\"Followers=54.2M<br>Category=%{x}<br>count=%{y}<extra></extra>\",\"legendgroup\":\"54.2M\",\"marker\":{\"color\":\"#ab63fa\",\"pattern\":{\"shape\":\"\"}},\"name\":\"54.2M\",\"offsetgroup\":\"54.2M\",\"orientation\":\"v\",\"showlegend\":true,\"texttemplate\":\"%{value}\",\"x\":[\"Cinema & Actors/actresses\"],\"xaxis\":\"x\",\"yaxis\":\"y\",\"type\":\"histogram\"},{\"alignmentgroup\":\"True\",\"bingroup\":\"x\",\"hovertemplate\":\"Followers=21.1M<br>Category=%{x}<br>count=%{y}<extra></extra>\",\"legendgroup\":\"21.1M\",\"marker\":{\"color\":\"#FFA15A\",\"pattern\":{\"shape\":\"\"}},\"name\":\"21.1M\",\"offsetgroup\":\"21.1M\",\"orientation\":\"v\",\"showlegend\":true,\"texttemplate\":\"%{value}\",\"x\":[\"Cinema & Actors/actresses\"],\"xaxis\":\"x\",\"yaxis\":\"y\",\"type\":\"histogram\"},{\"alignmentgroup\":\"True\",\"bingroup\":\"x\",\"hovertemplate\":\"Followers=4.7M<br>Category=%{x}<br>count=%{y}<extra></extra>\",\"legendgroup\":\"4.7M\",\"marker\":{\"color\":\"#19d3f3\",\"pattern\":{\"shape\":\"\"}},\"name\":\"4.7M\",\"offsetgroup\":\"4.7M\",\"orientation\":\"v\",\"showlegend\":true,\"texttemplate\":\"%{value}\",\"x\":[null,\"LifestyleMusicArt/Artists\"],\"xaxis\":\"x\",\"yaxis\":\"y\",\"type\":\"histogram\"},{\"alignmentgroup\":\"True\",\"bingroup\":\"x\",\"hovertemplate\":\"Followers=5.2M<br>Category=%{x}<br>count=%{y}<extra></extra>\",\"legendgroup\":\"5.2M\",\"marker\":{\"color\":\"#FF6692\",\"pattern\":{\"shape\":\"\"}},\"name\":\"5.2M\",\"offsetgroup\":\"5.2M\",\"orientation\":\"v\",\"showlegend\":true,\"texttemplate\":\"%{value}\",\"x\":[\"Shows\",\"ShowsMusic\"],\"xaxis\":\"x\",\"yaxis\":\"y\",\"type\":\"histogram\"},{\"alignmentgroup\":\"True\",\"bingroup\":\"x\",\"hovertemplate\":\"Followers=6.1M<br>Category=%{x}<br>count=%{y}<extra></extra>\",\"legendgroup\":\"6.1M\",\"marker\":{\"color\":\"#B6E880\",\"pattern\":{\"shape\":\"\"}},\"name\":\"6.1M\",\"offsetgroup\":\"6.1M\",\"orientation\":\"v\",\"showlegend\":true,\"texttemplate\":\"%{value}\",\"x\":[\"Lifestyle\",\"Cinema & Actors/actresses\",\"LifestyleShowsComputers & Gadgets\",\"Lifestyle\",\"Beauty\",null,\"Cinema & Actors/actresses\"],\"xaxis\":\"x\",\"yaxis\":\"y\",\"type\":\"histogram\"},{\"alignmentgroup\":\"True\",\"bingroup\":\"x\",\"hovertemplate\":\"Followers=26.7M<br>Category=%{x}<br>count=%{y}<extra></extra>\",\"legendgroup\":\"26.7M\",\"marker\":{\"color\":\"#FF97FF\",\"pattern\":{\"shape\":\"\"}},\"name\":\"26.7M\",\"offsetgroup\":\"26.7M\",\"orientation\":\"v\",\"showlegend\":true,\"texttemplate\":\"%{value}\",\"x\":[\"Sports with a ball\"],\"xaxis\":\"x\",\"yaxis\":\"y\",\"type\":\"histogram\"},{\"alignmentgroup\":\"True\",\"bingroup\":\"x\",\"hovertemplate\":\"Followers=7M<br>Category=%{x}<br>count=%{y}<extra></extra>\",\"legendgroup\":\"7M\",\"marker\":{\"color\":\"#FECB52\",\"pattern\":{\"shape\":\"\"}},\"name\":\"7M\",\"offsetgroup\":\"7M\",\"orientation\":\"v\",\"showlegend\":true,\"texttemplate\":\"%{value}\",\"x\":[\"LifestyleMusic\",\"LifestylePhotography\",\"Music\",\"ModelingMusic\",\"Family\",\"Family\",\"LifestyleModeling\"],\"xaxis\":\"x\",\"yaxis\":\"y\",\"type\":\"histogram\"},{\"alignmentgroup\":\"True\",\"bingroup\":\"x\",\"hovertemplate\":\"Followers=11.3M<br>Category=%{x}<br>count=%{y}<extra></extra>\",\"legendgroup\":\"11.3M\",\"marker\":{\"color\":\"#636efa\",\"pattern\":{\"shape\":\"\"}},\"name\":\"11.3M\",\"offsetgroup\":\"11.3M\",\"orientation\":\"v\",\"showlegend\":true,\"texttemplate\":\"%{value}\",\"x\":[\"FashionModeling\",\"Cinema & Actors/actresses\"],\"xaxis\":\"x\",\"yaxis\":\"y\",\"type\":\"histogram\"},{\"alignmentgroup\":\"True\",\"bingroup\":\"x\",\"hovertemplate\":\"Followers=3.9M<br>Category=%{x}<br>count=%{y}<extra></extra>\",\"legendgroup\":\"3.9M\",\"marker\":{\"color\":\"#EF553B\",\"pattern\":{\"shape\":\"\"}},\"name\":\"3.9M\",\"offsetgroup\":\"3.9M\",\"orientation\":\"v\",\"showlegend\":true,\"texttemplate\":\"%{value}\",\"x\":[null,null,\"Music\"],\"xaxis\":\"x\",\"yaxis\":\"y\",\"type\":\"histogram\"},{\"alignmentgroup\":\"True\",\"bingroup\":\"x\",\"hovertemplate\":\"Followers=10.4M<br>Category=%{x}<br>count=%{y}<extra></extra>\",\"legendgroup\":\"10.4M\",\"marker\":{\"color\":\"#00cc96\",\"pattern\":{\"shape\":\"\"}},\"name\":\"10.4M\",\"offsetgroup\":\"10.4M\",\"orientation\":\"v\",\"showlegend\":true,\"texttemplate\":\"%{value}\",\"x\":[\"Cinema & Actors/actresses\",\"Shows\",\"LifestyleBeauty\",\"Cinema & Actors/actresses\"],\"xaxis\":\"x\",\"yaxis\":\"y\",\"type\":\"histogram\"},{\"alignmentgroup\":\"True\",\"bingroup\":\"x\",\"hovertemplate\":\"Followers=10.6M<br>Category=%{x}<br>count=%{y}<extra></extra>\",\"legendgroup\":\"10.6M\",\"marker\":{\"color\":\"#ab63fa\",\"pattern\":{\"shape\":\"\"}},\"name\":\"10.6M\",\"offsetgroup\":\"10.6M\",\"orientation\":\"v\",\"showlegend\":true,\"texttemplate\":\"%{value}\",\"x\":[\"Sports with a ball\",null,\"MusicShows\",\"Cinema & Actors/actresses\",\"ShowsCinema & Actors/actressesModeling\"],\"xaxis\":\"x\",\"yaxis\":\"y\",\"type\":\"histogram\"},{\"alignmentgroup\":\"True\",\"bingroup\":\"x\",\"hovertemplate\":\"Followers=4.2M<br>Category=%{x}<br>count=%{y}<extra></extra>\",\"legendgroup\":\"4.2M\",\"marker\":{\"color\":\"#FFA15A\",\"pattern\":{\"shape\":\"\"}},\"name\":\"4.2M\",\"offsetgroup\":\"4.2M\",\"orientation\":\"v\",\"showlegend\":true,\"texttemplate\":\"%{value}\",\"x\":[\"Music\",null,\"Lifestyle\"],\"xaxis\":\"x\",\"yaxis\":\"y\",\"type\":\"histogram\"},{\"alignmentgroup\":\"True\",\"bingroup\":\"x\",\"hovertemplate\":\"Followers=57.9M<br>Category=%{x}<br>count=%{y}<extra></extra>\",\"legendgroup\":\"57.9M\",\"marker\":{\"color\":\"#19d3f3\",\"pattern\":{\"shape\":\"\"}},\"name\":\"57.9M\",\"offsetgroup\":\"57.9M\",\"orientation\":\"v\",\"showlegend\":true,\"texttemplate\":\"%{value}\",\"x\":[\"Sports with a ball\"],\"xaxis\":\"x\",\"yaxis\":\"y\",\"type\":\"histogram\"},{\"alignmentgroup\":\"True\",\"bingroup\":\"x\",\"hovertemplate\":\"Followers=4.3M<br>Category=%{x}<br>count=%{y}<extra></extra>\",\"legendgroup\":\"4.3M\",\"marker\":{\"color\":\"#FF6692\",\"pattern\":{\"shape\":\"\"}},\"name\":\"4.3M\",\"offsetgroup\":\"4.3M\",\"orientation\":\"v\",\"showlegend\":true,\"texttemplate\":\"%{value}\",\"x\":[\"Cinema & Actors/actresses\",\"Lifestyle\"],\"xaxis\":\"x\",\"yaxis\":\"y\",\"type\":\"histogram\"},{\"alignmentgroup\":\"True\",\"bingroup\":\"x\",\"hovertemplate\":\"Followers=34.2M<br>Category=%{x}<br>count=%{y}<extra></extra>\",\"legendgroup\":\"34.2M\",\"marker\":{\"color\":\"#B6E880\",\"pattern\":{\"shape\":\"\"}},\"name\":\"34.2M\",\"offsetgroup\":\"34.2M\",\"orientation\":\"v\",\"showlegend\":true,\"texttemplate\":\"%{value}\",\"x\":[\"Sports with a ball\"],\"xaxis\":\"x\",\"yaxis\":\"y\",\"type\":\"histogram\"},{\"alignmentgroup\":\"True\",\"bingroup\":\"x\",\"hovertemplate\":\"Followers=54M<br>Category=%{x}<br>count=%{y}<extra></extra>\",\"legendgroup\":\"54M\",\"marker\":{\"color\":\"#FF97FF\",\"pattern\":{\"shape\":\"\"}},\"name\":\"54M\",\"offsetgroup\":\"54M\",\"orientation\":\"v\",\"showlegend\":true,\"texttemplate\":\"%{value}\",\"x\":[\"Sports with a ball\"],\"xaxis\":\"x\",\"yaxis\":\"y\",\"type\":\"histogram\"},{\"alignmentgroup\":\"True\",\"bingroup\":\"x\",\"hovertemplate\":\"Followers=14.5M<br>Category=%{x}<br>count=%{y}<extra></extra>\",\"legendgroup\":\"14.5M\",\"marker\":{\"color\":\"#FECB52\",\"pattern\":{\"shape\":\"\"}},\"name\":\"14.5M\",\"offsetgroup\":\"14.5M\",\"orientation\":\"v\",\"showlegend\":true,\"texttemplate\":\"%{value}\",\"x\":[\"Cinema & Actors/actresses\",\"Sports with a ball\",\"Sports with a ball\"],\"xaxis\":\"x\",\"yaxis\":\"y\",\"type\":\"histogram\"},{\"alignmentgroup\":\"True\",\"bingroup\":\"x\",\"hovertemplate\":\"Followers=24M<br>Category=%{x}<br>count=%{y}<extra></extra>\",\"legendgroup\":\"24M\",\"marker\":{\"color\":\"#636efa\",\"pattern\":{\"shape\":\"\"}},\"name\":\"24M\",\"offsetgroup\":\"24M\",\"orientation\":\"v\",\"showlegend\":true,\"texttemplate\":\"%{value}\",\"x\":[\"Humor & Fun & Happiness\"],\"xaxis\":\"x\",\"yaxis\":\"y\",\"type\":\"histogram\"},{\"alignmentgroup\":\"True\",\"bingroup\":\"x\",\"hovertemplate\":\"Followers=74.6M<br>Category=%{x}<br>count=%{y}<extra></extra>\",\"legendgroup\":\"74.6M\",\"marker\":{\"color\":\"#EF553B\",\"pattern\":{\"shape\":\"\"}},\"name\":\"74.6M\",\"offsetgroup\":\"74.6M\",\"orientation\":\"v\",\"showlegend\":true,\"texttemplate\":\"%{value}\",\"x\":[\"LifestyleMusic\"],\"xaxis\":\"x\",\"yaxis\":\"y\",\"type\":\"histogram\"},{\"alignmentgroup\":\"True\",\"bingroup\":\"x\",\"hovertemplate\":\"Followers=34.3M<br>Category=%{x}<br>count=%{y}<extra></extra>\",\"legendgroup\":\"34.3M\",\"marker\":{\"color\":\"#00cc96\",\"pattern\":{\"shape\":\"\"}},\"name\":\"34.3M\",\"offsetgroup\":\"34.3M\",\"orientation\":\"v\",\"showlegend\":true,\"texttemplate\":\"%{value}\",\"x\":[\"Sports with a ball\"],\"xaxis\":\"x\",\"yaxis\":\"y\",\"type\":\"histogram\"},{\"alignmentgroup\":\"True\",\"bingroup\":\"x\",\"hovertemplate\":\"Followers=5M<br>Category=%{x}<br>count=%{y}<extra></extra>\",\"legendgroup\":\"5M\",\"marker\":{\"color\":\"#ab63fa\",\"pattern\":{\"shape\":\"\"}},\"name\":\"5M\",\"offsetgroup\":\"5M\",\"orientation\":\"v\",\"showlegend\":true,\"texttemplate\":\"%{value}\",\"x\":[\"Cinema & Actors/actresses\",\"Sports with a ball\",\"MusicArt/Artists\",\"Music\",\"Modeling\"],\"xaxis\":\"x\",\"yaxis\":\"y\",\"type\":\"histogram\"},{\"alignmentgroup\":\"True\",\"bingroup\":\"x\",\"hovertemplate\":\"Followers=8.9M<br>Category=%{x}<br>count=%{y}<extra></extra>\",\"legendgroup\":\"8.9M\",\"marker\":{\"color\":\"#FFA15A\",\"pattern\":{\"shape\":\"\"}},\"name\":\"8.9M\",\"offsetgroup\":\"8.9M\",\"orientation\":\"v\",\"showlegend\":true,\"texttemplate\":\"%{value}\",\"x\":[\"Fitness & Gym\"],\"xaxis\":\"x\",\"yaxis\":\"y\",\"type\":\"histogram\"},{\"alignmentgroup\":\"True\",\"bingroup\":\"x\",\"hovertemplate\":\"Followers=18.6M<br>Category=%{x}<br>count=%{y}<extra></extra>\",\"legendgroup\":\"18.6M\",\"marker\":{\"color\":\"#19d3f3\",\"pattern\":{\"shape\":\"\"}},\"name\":\"18.6M\",\"offsetgroup\":\"18.6M\",\"orientation\":\"v\",\"showlegend\":true,\"texttemplate\":\"%{value}\",\"x\":[\"Shows\"],\"xaxis\":\"x\",\"yaxis\":\"y\",\"type\":\"histogram\"},{\"alignmentgroup\":\"True\",\"bingroup\":\"x\",\"hovertemplate\":\"Followers=4.4M<br>Category=%{x}<br>count=%{y}<extra></extra>\",\"legendgroup\":\"4.4M\",\"marker\":{\"color\":\"#FF6692\",\"pattern\":{\"shape\":\"\"}},\"name\":\"4.4M\",\"offsetgroup\":\"4.4M\",\"orientation\":\"v\",\"showlegend\":true,\"texttemplate\":\"%{value}\",\"x\":[\"Music\",\"Cinema & Actors/actresses\",\"Music\"],\"xaxis\":\"x\",\"yaxis\":\"y\",\"type\":\"histogram\"},{\"alignmentgroup\":\"True\",\"bingroup\":\"x\",\"hovertemplate\":\"Followers=2.5M<br>Category=%{x}<br>count=%{y}<extra></extra>\",\"legendgroup\":\"2.5M\",\"marker\":{\"color\":\"#B6E880\",\"pattern\":{\"shape\":\"\"}},\"name\":\"2.5M\",\"offsetgroup\":\"2.5M\",\"orientation\":\"v\",\"showlegend\":true,\"texttemplate\":\"%{value}\",\"x\":[null,null],\"xaxis\":\"x\",\"yaxis\":\"y\",\"type\":\"histogram\"},{\"alignmentgroup\":\"True\",\"bingroup\":\"x\",\"hovertemplate\":\"Followers=22.5M<br>Category=%{x}<br>count=%{y}<extra></extra>\",\"legendgroup\":\"22.5M\",\"marker\":{\"color\":\"#FF97FF\",\"pattern\":{\"shape\":\"\"}},\"name\":\"22.5M\",\"offsetgroup\":\"22.5M\",\"orientation\":\"v\",\"showlegend\":true,\"texttemplate\":\"%{value}\",\"x\":[\"Music\"],\"xaxis\":\"x\",\"yaxis\":\"y\",\"type\":\"histogram\"},{\"alignmentgroup\":\"True\",\"bingroup\":\"x\",\"hovertemplate\":\"Followers=16.7M<br>Category=%{x}<br>count=%{y}<extra></extra>\",\"legendgroup\":\"16.7M\",\"marker\":{\"color\":\"#FECB52\",\"pattern\":{\"shape\":\"\"}},\"name\":\"16.7M\",\"offsetgroup\":\"16.7M\",\"orientation\":\"v\",\"showlegend\":true,\"texttemplate\":\"%{value}\",\"x\":[\"MusicCinema & Actors/actresses\"],\"xaxis\":\"x\",\"yaxis\":\"y\",\"type\":\"histogram\"},{\"alignmentgroup\":\"True\",\"bingroup\":\"x\",\"hovertemplate\":\"Followers=4.5M<br>Category=%{x}<br>count=%{y}<extra></extra>\",\"legendgroup\":\"4.5M\",\"marker\":{\"color\":\"#636efa\",\"pattern\":{\"shape\":\"\"}},\"name\":\"4.5M\",\"offsetgroup\":\"4.5M\",\"orientation\":\"v\",\"showlegend\":true,\"texttemplate\":\"%{value}\",\"x\":[null,\"Cinema & Actors/actresses\",\"Literature & JournalismCinema & Actors/actresses\"],\"xaxis\":\"x\",\"yaxis\":\"y\",\"type\":\"histogram\"},{\"alignmentgroup\":\"True\",\"bingroup\":\"x\",\"hovertemplate\":\"Followers=15.4M<br>Category=%{x}<br>count=%{y}<extra></extra>\",\"legendgroup\":\"15.4M\",\"marker\":{\"color\":\"#EF553B\",\"pattern\":{\"shape\":\"\"}},\"name\":\"15.4M\",\"offsetgroup\":\"15.4M\",\"orientation\":\"v\",\"showlegend\":true,\"texttemplate\":\"%{value}\",\"x\":[\"Modeling\",\"Beauty\"],\"xaxis\":\"x\",\"yaxis\":\"y\",\"type\":\"histogram\"},{\"alignmentgroup\":\"True\",\"bingroup\":\"x\",\"hovertemplate\":\"Followers=3.8M<br>Category=%{x}<br>count=%{y}<extra></extra>\",\"legendgroup\":\"3.8M\",\"marker\":{\"color\":\"#00cc96\",\"pattern\":{\"shape\":\"\"}},\"name\":\"3.8M\",\"offsetgroup\":\"3.8M\",\"orientation\":\"v\",\"showlegend\":true,\"texttemplate\":\"%{value}\",\"x\":[\"Humor & Fun & Happiness\",\"Cinema & Actors/actresses\"],\"xaxis\":\"x\",\"yaxis\":\"y\",\"type\":\"histogram\"},{\"alignmentgroup\":\"True\",\"bingroup\":\"x\",\"hovertemplate\":\"Followers=3M<br>Category=%{x}<br>count=%{y}<extra></extra>\",\"legendgroup\":\"3M\",\"marker\":{\"color\":\"#ab63fa\",\"pattern\":{\"shape\":\"\"}},\"name\":\"3M\",\"offsetgroup\":\"3M\",\"orientation\":\"v\",\"showlegend\":true,\"texttemplate\":\"%{value}\",\"x\":[null,null,null,null],\"xaxis\":\"x\",\"yaxis\":\"y\",\"type\":\"histogram\"},{\"alignmentgroup\":\"True\",\"bingroup\":\"x\",\"hovertemplate\":\"Followers=21.5M<br>Category=%{x}<br>count=%{y}<extra></extra>\",\"legendgroup\":\"21.5M\",\"marker\":{\"color\":\"#FFA15A\",\"pattern\":{\"shape\":\"\"}},\"name\":\"21.5M\",\"offsetgroup\":\"21.5M\",\"orientation\":\"v\",\"showlegend\":true,\"texttemplate\":\"%{value}\",\"x\":[\"Cinema & Actors/actresses\",\"Humor & Fun & Happiness\",\"Family\"],\"xaxis\":\"x\",\"yaxis\":\"y\",\"type\":\"histogram\"},{\"alignmentgroup\":\"True\",\"bingroup\":\"x\",\"hovertemplate\":\"Followers=12.4M<br>Category=%{x}<br>count=%{y}<extra></extra>\",\"legendgroup\":\"12.4M\",\"marker\":{\"color\":\"#19d3f3\",\"pattern\":{\"shape\":\"\"}},\"name\":\"12.4M\",\"offsetgroup\":\"12.4M\",\"orientation\":\"v\",\"showlegend\":true,\"texttemplate\":\"%{value}\",\"x\":[null,\"Sports with a ball\"],\"xaxis\":\"x\",\"yaxis\":\"y\",\"type\":\"histogram\"},{\"alignmentgroup\":\"True\",\"bingroup\":\"x\",\"hovertemplate\":\"Followers=69M<br>Category=%{x}<br>count=%{y}<extra></extra>\",\"legendgroup\":\"69M\",\"marker\":{\"color\":\"#FF6692\",\"pattern\":{\"shape\":\"\"}},\"name\":\"69M\",\"offsetgroup\":\"69M\",\"orientation\":\"v\",\"showlegend\":true,\"texttemplate\":\"%{value}\",\"x\":[\"Sports with a ball\"],\"xaxis\":\"x\",\"yaxis\":\"y\",\"type\":\"histogram\"},{\"alignmentgroup\":\"True\",\"bingroup\":\"x\",\"hovertemplate\":\"Followers=2.9M<br>Category=%{x}<br>count=%{y}<extra></extra>\",\"legendgroup\":\"2.9M\",\"marker\":{\"color\":\"#B6E880\",\"pattern\":{\"shape\":\"\"}},\"name\":\"2.9M\",\"offsetgroup\":\"2.9M\",\"orientation\":\"v\",\"showlegend\":true,\"texttemplate\":\"%{value}\",\"x\":[null],\"xaxis\":\"x\",\"yaxis\":\"y\",\"type\":\"histogram\"},{\"alignmentgroup\":\"True\",\"bingroup\":\"x\",\"hovertemplate\":\"Followers=11.9M<br>Category=%{x}<br>count=%{y}<extra></extra>\",\"legendgroup\":\"11.9M\",\"marker\":{\"color\":\"#FF97FF\",\"pattern\":{\"shape\":\"\"}},\"name\":\"11.9M\",\"offsetgroup\":\"11.9M\",\"orientation\":\"v\",\"showlegend\":true,\"texttemplate\":\"%{value}\",\"x\":[\"Adult content\",\"Shows\"],\"xaxis\":\"x\",\"yaxis\":\"y\",\"type\":\"histogram\"},{\"alignmentgroup\":\"True\",\"bingroup\":\"x\",\"hovertemplate\":\"Followers=15.6M<br>Category=%{x}<br>count=%{y}<extra></extra>\",\"legendgroup\":\"15.6M\",\"marker\":{\"color\":\"#FECB52\",\"pattern\":{\"shape\":\"\"}},\"name\":\"15.6M\",\"offsetgroup\":\"15.6M\",\"orientation\":\"v\",\"showlegend\":true,\"texttemplate\":\"%{value}\",\"x\":[\"Sports with a ballLifestyleKids & Toys\",\"Sports with a ball\"],\"xaxis\":\"x\",\"yaxis\":\"y\",\"type\":\"histogram\"},{\"alignmentgroup\":\"True\",\"bingroup\":\"x\",\"hovertemplate\":\"Followers=7.7M<br>Category=%{x}<br>count=%{y}<extra></extra>\",\"legendgroup\":\"7.7M\",\"marker\":{\"color\":\"#636efa\",\"pattern\":{\"shape\":\"\"}},\"name\":\"7.7M\",\"offsetgroup\":\"7.7M\",\"orientation\":\"v\",\"showlegend\":true,\"texttemplate\":\"%{value}\",\"x\":[\"Lifestyle\",\"Beauty\",\"Modeling\"],\"xaxis\":\"x\",\"yaxis\":\"y\",\"type\":\"histogram\"},{\"alignmentgroup\":\"True\",\"bingroup\":\"x\",\"hovertemplate\":\"Followers=4.1M<br>Category=%{x}<br>count=%{y}<extra></extra>\",\"legendgroup\":\"4.1M\",\"marker\":{\"color\":\"#EF553B\",\"pattern\":{\"shape\":\"\"}},\"name\":\"4.1M\",\"offsetgroup\":\"4.1M\",\"orientation\":\"v\",\"showlegend\":true,\"texttemplate\":\"%{value}\",\"x\":[null,\"Music\",\"Music\"],\"xaxis\":\"x\",\"yaxis\":\"y\",\"type\":\"histogram\"},{\"alignmentgroup\":\"True\",\"bingroup\":\"x\",\"hovertemplate\":\"Followers=29.7M<br>Category=%{x}<br>count=%{y}<extra></extra>\",\"legendgroup\":\"29.7M\",\"marker\":{\"color\":\"#00cc96\",\"pattern\":{\"shape\":\"\"}},\"name\":\"29.7M\",\"offsetgroup\":\"29.7M\",\"orientation\":\"v\",\"showlegend\":true,\"texttemplate\":\"%{value}\",\"x\":[\"MusicArt/Artists\"],\"xaxis\":\"x\",\"yaxis\":\"y\",\"type\":\"histogram\"},{\"alignmentgroup\":\"True\",\"bingroup\":\"x\",\"hovertemplate\":\"Followers=39.7M<br>Category=%{x}<br>count=%{y}<extra></extra>\",\"legendgroup\":\"39.7M\",\"marker\":{\"color\":\"#ab63fa\",\"pattern\":{\"shape\":\"\"}},\"name\":\"39.7M\",\"offsetgroup\":\"39.7M\",\"orientation\":\"v\",\"showlegend\":true,\"texttemplate\":\"%{value}\",\"x\":[\"Sports with a ball\"],\"xaxis\":\"x\",\"yaxis\":\"y\",\"type\":\"histogram\"},{\"alignmentgroup\":\"True\",\"bingroup\":\"x\",\"hovertemplate\":\"Followers=1.6M<br>Category=%{x}<br>count=%{y}<extra></extra>\",\"legendgroup\":\"1.6M\",\"marker\":{\"color\":\"#FFA15A\",\"pattern\":{\"shape\":\"\"}},\"name\":\"1.6M\",\"offsetgroup\":\"1.6M\",\"orientation\":\"v\",\"showlegend\":true,\"texttemplate\":\"%{value}\",\"x\":[\"Photography\"],\"xaxis\":\"x\",\"yaxis\":\"y\",\"type\":\"histogram\"},{\"alignmentgroup\":\"True\",\"bingroup\":\"x\",\"hovertemplate\":\"Followers=3.1M<br>Category=%{x}<br>count=%{y}<extra></extra>\",\"legendgroup\":\"3.1M\",\"marker\":{\"color\":\"#19d3f3\",\"pattern\":{\"shape\":\"\"}},\"name\":\"3.1M\",\"offsetgroup\":\"3.1M\",\"orientation\":\"v\",\"showlegend\":true,\"texttemplate\":\"%{value}\",\"x\":[\"Cinema & Actors/actressesMusic\",\"Music\"],\"xaxis\":\"x\",\"yaxis\":\"y\",\"type\":\"histogram\"},{\"alignmentgroup\":\"True\",\"bingroup\":\"x\",\"hovertemplate\":\"Followers=31.5M<br>Category=%{x}<br>count=%{y}<extra></extra>\",\"legendgroup\":\"31.5M\",\"marker\":{\"color\":\"#FF6692\",\"pattern\":{\"shape\":\"\"}},\"name\":\"31.5M\",\"offsetgroup\":\"31.5M\",\"orientation\":\"v\",\"showlegend\":true,\"texttemplate\":\"%{value}\",\"x\":[\"Sports with a ball\"],\"xaxis\":\"x\",\"yaxis\":\"y\",\"type\":\"histogram\"},{\"alignmentgroup\":\"True\",\"bingroup\":\"x\",\"hovertemplate\":\"Followers=30.4M<br>Category=%{x}<br>count=%{y}<extra></extra>\",\"legendgroup\":\"30.4M\",\"marker\":{\"color\":\"#B6E880\",\"pattern\":{\"shape\":\"\"}},\"name\":\"30.4M\",\"offsetgroup\":\"30.4M\",\"orientation\":\"v\",\"showlegend\":true,\"texttemplate\":\"%{value}\",\"x\":[\"Cinema & Actors/actressesShows\"],\"xaxis\":\"x\",\"yaxis\":\"y\",\"type\":\"histogram\"},{\"alignmentgroup\":\"True\",\"bingroup\":\"x\",\"hovertemplate\":\"Followers=7.5M<br>Category=%{x}<br>count=%{y}<extra></extra>\",\"legendgroup\":\"7.5M\",\"marker\":{\"color\":\"#FF97FF\",\"pattern\":{\"shape\":\"\"}},\"name\":\"7.5M\",\"offsetgroup\":\"7.5M\",\"orientation\":\"v\",\"showlegend\":true,\"texttemplate\":\"%{value}\",\"x\":[\"Lifestyle\",\"Music\",\"Shows\"],\"xaxis\":\"x\",\"yaxis\":\"y\",\"type\":\"histogram\"},{\"alignmentgroup\":\"True\",\"bingroup\":\"x\",\"hovertemplate\":\"Followers=4.6M<br>Category=%{x}<br>count=%{y}<extra></extra>\",\"legendgroup\":\"4.6M\",\"marker\":{\"color\":\"#FECB52\",\"pattern\":{\"shape\":\"\"}},\"name\":\"4.6M\",\"offsetgroup\":\"4.6M\",\"orientation\":\"v\",\"showlegend\":true,\"texttemplate\":\"%{value}\",\"x\":[null,\"Music\"],\"xaxis\":\"x\",\"yaxis\":\"y\",\"type\":\"histogram\"},{\"alignmentgroup\":\"True\",\"bingroup\":\"x\",\"hovertemplate\":\"Followers=6.8M<br>Category=%{x}<br>count=%{y}<extra></extra>\",\"legendgroup\":\"6.8M\",\"marker\":{\"color\":\"#636efa\",\"pattern\":{\"shape\":\"\"}},\"name\":\"6.8M\",\"offsetgroup\":\"6.8M\",\"orientation\":\"v\",\"showlegend\":true,\"texttemplate\":\"%{value}\",\"x\":[\"LifestyleModelingFashion\",\"Lifestyle\",null],\"xaxis\":\"x\",\"yaxis\":\"y\",\"type\":\"histogram\"},{\"alignmentgroup\":\"True\",\"bingroup\":\"x\",\"hovertemplate\":\"Followers=39.6M<br>Category=%{x}<br>count=%{y}<extra></extra>\",\"legendgroup\":\"39.6M\",\"marker\":{\"color\":\"#EF553B\",\"pattern\":{\"shape\":\"\"}},\"name\":\"39.6M\",\"offsetgroup\":\"39.6M\",\"orientation\":\"v\",\"showlegend\":true,\"texttemplate\":\"%{value}\",\"x\":[\"Music\",\"Literature & JournalismFashion\"],\"xaxis\":\"x\",\"yaxis\":\"y\",\"type\":\"histogram\"},{\"alignmentgroup\":\"True\",\"bingroup\":\"x\",\"hovertemplate\":\"Followers=3.5M<br>Category=%{x}<br>count=%{y}<extra></extra>\",\"legendgroup\":\"3.5M\",\"marker\":{\"color\":\"#00cc96\",\"pattern\":{\"shape\":\"\"}},\"name\":\"3.5M\",\"offsetgroup\":\"3.5M\",\"orientation\":\"v\",\"showlegend\":true,\"texttemplate\":\"%{value}\",\"x\":[null,\"LifestylePhotography\",\"Art/Artists\",\"Lifestyle\",\"BeautyHumor & Fun & HappinessCinema & Actors/actresses\"],\"xaxis\":\"x\",\"yaxis\":\"y\",\"type\":\"histogram\"},{\"alignmentgroup\":\"True\",\"bingroup\":\"x\",\"hovertemplate\":\"Followers=18.8M<br>Category=%{x}<br>count=%{y}<extra></extra>\",\"legendgroup\":\"18.8M\",\"marker\":{\"color\":\"#ab63fa\",\"pattern\":{\"shape\":\"\"}},\"name\":\"18.8M\",\"offsetgroup\":\"18.8M\",\"orientation\":\"v\",\"showlegend\":true,\"texttemplate\":\"%{value}\",\"x\":[\"Modeling\"],\"xaxis\":\"x\",\"yaxis\":\"y\",\"type\":\"histogram\"},{\"alignmentgroup\":\"True\",\"bingroup\":\"x\",\"hovertemplate\":\"Followers=123.7M<br>Category=%{x}<br>count=%{y}<extra></extra>\",\"legendgroup\":\"123.7M\",\"marker\":{\"color\":\"#FFA15A\",\"pattern\":{\"shape\":\"\"}},\"name\":\"123.7M\",\"offsetgroup\":\"123.7M\",\"orientation\":\"v\",\"showlegend\":true,\"texttemplate\":\"%{value}\",\"x\":[\"ShowsCinema & Actors/actresses\"],\"xaxis\":\"x\",\"yaxis\":\"y\",\"type\":\"histogram\"},{\"alignmentgroup\":\"True\",\"bingroup\":\"x\",\"hovertemplate\":\"Followers=3.2M<br>Category=%{x}<br>count=%{y}<extra></extra>\",\"legendgroup\":\"3.2M\",\"marker\":{\"color\":\"#19d3f3\",\"pattern\":{\"shape\":\"\"}},\"name\":\"3.2M\",\"offsetgroup\":\"3.2M\",\"orientation\":\"v\",\"showlegend\":true,\"texttemplate\":\"%{value}\",\"x\":[\"LifestyleCinema & Actors/actresses\",null],\"xaxis\":\"x\",\"yaxis\":\"y\",\"type\":\"histogram\"},{\"alignmentgroup\":\"True\",\"bingroup\":\"x\",\"hovertemplate\":\"Followers=25.3M<br>Category=%{x}<br>count=%{y}<extra></extra>\",\"legendgroup\":\"25.3M\",\"marker\":{\"color\":\"#FF6692\",\"pattern\":{\"shape\":\"\"}},\"name\":\"25.3M\",\"offsetgroup\":\"25.3M\",\"orientation\":\"v\",\"showlegend\":true,\"texttemplate\":\"%{value}\",\"x\":[\"Cinema & Actors/actressesLifestyle\"],\"xaxis\":\"x\",\"yaxis\":\"y\",\"type\":\"histogram\"},{\"alignmentgroup\":\"True\",\"bingroup\":\"x\",\"hovertemplate\":\"Followers=19.3M<br>Category=%{x}<br>count=%{y}<extra></extra>\",\"legendgroup\":\"19.3M\",\"marker\":{\"color\":\"#B6E880\",\"pattern\":{\"shape\":\"\"}},\"name\":\"19.3M\",\"offsetgroup\":\"19.3M\",\"orientation\":\"v\",\"showlegend\":true,\"texttemplate\":\"%{value}\",\"x\":[\"Sports with a ball\"],\"xaxis\":\"x\",\"yaxis\":\"y\",\"type\":\"histogram\"},{\"alignmentgroup\":\"True\",\"bingroup\":\"x\",\"hovertemplate\":\"Followers=12.7M<br>Category=%{x}<br>count=%{y}<extra></extra>\",\"legendgroup\":\"12.7M\",\"marker\":{\"color\":\"#FF97FF\",\"pattern\":{\"shape\":\"\"}},\"name\":\"12.7M\",\"offsetgroup\":\"12.7M\",\"orientation\":\"v\",\"showlegend\":true,\"texttemplate\":\"%{value}\",\"x\":[\"MusicLifestyle\"],\"xaxis\":\"x\",\"yaxis\":\"y\",\"type\":\"histogram\"},{\"alignmentgroup\":\"True\",\"bingroup\":\"x\",\"hovertemplate\":\"Followers=4M<br>Category=%{x}<br>count=%{y}<extra></extra>\",\"legendgroup\":\"4M\",\"marker\":{\"color\":\"#FECB52\",\"pattern\":{\"shape\":\"\"}},\"name\":\"4M\",\"offsetgroup\":\"4M\",\"orientation\":\"v\",\"showlegend\":true,\"texttemplate\":\"%{value}\",\"x\":[\"Sports with a ball\",\"Lifestyle\",null,\"TravelCinema & Actors/actresses\"],\"xaxis\":\"x\",\"yaxis\":\"y\",\"type\":\"histogram\"},{\"alignmentgroup\":\"True\",\"bingroup\":\"x\",\"hovertemplate\":\"Followers=22M<br>Category=%{x}<br>count=%{y}<extra></extra>\",\"legendgroup\":\"22M\",\"marker\":{\"color\":\"#636efa\",\"pattern\":{\"shape\":\"\"}},\"name\":\"22M\",\"offsetgroup\":\"22M\",\"orientation\":\"v\",\"showlegend\":true,\"texttemplate\":\"%{value}\",\"x\":[\"MusicCinema & Actors/actresses\"],\"xaxis\":\"x\",\"yaxis\":\"y\",\"type\":\"histogram\"},{\"alignmentgroup\":\"True\",\"bingroup\":\"x\",\"hovertemplate\":\"Followers=15.7M<br>Category=%{x}<br>count=%{y}<extra></extra>\",\"legendgroup\":\"15.7M\",\"marker\":{\"color\":\"#EF553B\",\"pattern\":{\"shape\":\"\"}},\"name\":\"15.7M\",\"offsetgroup\":\"15.7M\",\"orientation\":\"v\",\"showlegend\":true,\"texttemplate\":\"%{value}\",\"x\":[\"Business & CareersFinance & Economics\"],\"xaxis\":\"x\",\"yaxis\":\"y\",\"type\":\"histogram\"},{\"alignmentgroup\":\"True\",\"bingroup\":\"x\",\"hovertemplate\":\"Followers=3.6M<br>Category=%{x}<br>count=%{y}<extra></extra>\",\"legendgroup\":\"3.6M\",\"marker\":{\"color\":\"#00cc96\",\"pattern\":{\"shape\":\"\"}},\"name\":\"3.6M\",\"offsetgroup\":\"3.6M\",\"orientation\":\"v\",\"showlegend\":true,\"texttemplate\":\"%{value}\",\"x\":[\"Cinema & Actors/actresses\"],\"xaxis\":\"x\",\"yaxis\":\"y\",\"type\":\"histogram\"},{\"alignmentgroup\":\"True\",\"bingroup\":\"x\",\"hovertemplate\":\"Followers=21M<br>Category=%{x}<br>count=%{y}<extra></extra>\",\"legendgroup\":\"21M\",\"marker\":{\"color\":\"#ab63fa\",\"pattern\":{\"shape\":\"\"}},\"name\":\"21M\",\"offsetgroup\":\"21M\",\"orientation\":\"v\",\"showlegend\":true,\"texttemplate\":\"%{value}\",\"x\":[\"Music\"],\"xaxis\":\"x\",\"yaxis\":\"y\",\"type\":\"histogram\"},{\"alignmentgroup\":\"True\",\"bingroup\":\"x\",\"hovertemplate\":\"Followers=16.3M<br>Category=%{x}<br>count=%{y}<extra></extra>\",\"legendgroup\":\"16.3M\",\"marker\":{\"color\":\"#FFA15A\",\"pattern\":{\"shape\":\"\"}},\"name\":\"16.3M\",\"offsetgroup\":\"16.3M\",\"orientation\":\"v\",\"showlegend\":true,\"texttemplate\":\"%{value}\",\"x\":[\"Cinema & Actors/actressesLifestyle\"],\"xaxis\":\"x\",\"yaxis\":\"y\",\"type\":\"histogram\"},{\"alignmentgroup\":\"True\",\"bingroup\":\"x\",\"hovertemplate\":\"Followers=38.4M<br>Category=%{x}<br>count=%{y}<extra></extra>\",\"legendgroup\":\"38.4M\",\"marker\":{\"color\":\"#19d3f3\",\"pattern\":{\"shape\":\"\"}},\"name\":\"38.4M\",\"offsetgroup\":\"38.4M\",\"orientation\":\"v\",\"showlegend\":true,\"texttemplate\":\"%{value}\",\"x\":[\"MusicArt/Artists\"],\"xaxis\":\"x\",\"yaxis\":\"y\",\"type\":\"histogram\"},{\"alignmentgroup\":\"True\",\"bingroup\":\"x\",\"hovertemplate\":\"Followers=7.2M<br>Category=%{x}<br>count=%{y}<extra></extra>\",\"legendgroup\":\"7.2M\",\"marker\":{\"color\":\"#FF6692\",\"pattern\":{\"shape\":\"\"}},\"name\":\"7.2M\",\"offsetgroup\":\"7.2M\",\"orientation\":\"v\",\"showlegend\":true,\"texttemplate\":\"%{value}\",\"x\":[\"Cinema & Actors/actressesLifestyle\"],\"xaxis\":\"x\",\"yaxis\":\"y\",\"type\":\"histogram\"},{\"alignmentgroup\":\"True\",\"bingroup\":\"x\",\"hovertemplate\":\"Followers=26M<br>Category=%{x}<br>count=%{y}<extra></extra>\",\"legendgroup\":\"26M\",\"marker\":{\"color\":\"#B6E880\",\"pattern\":{\"shape\":\"\"}},\"name\":\"26M\",\"offsetgroup\":\"26M\",\"orientation\":\"v\",\"showlegend\":true,\"texttemplate\":\"%{value}\",\"x\":[\"Cinema & Actors/actresses\"],\"xaxis\":\"x\",\"yaxis\":\"y\",\"type\":\"histogram\"},{\"alignmentgroup\":\"True\",\"bingroup\":\"x\",\"hovertemplate\":\"Followers=17.8M<br>Category=%{x}<br>count=%{y}<extra></extra>\",\"legendgroup\":\"17.8M\",\"marker\":{\"color\":\"#FF97FF\",\"pattern\":{\"shape\":\"\"}},\"name\":\"17.8M\",\"offsetgroup\":\"17.8M\",\"orientation\":\"v\",\"showlegend\":true,\"texttemplate\":\"%{value}\",\"x\":[\"ShowsCinema & Actors/actresses\"],\"xaxis\":\"x\",\"yaxis\":\"y\",\"type\":\"histogram\"},{\"alignmentgroup\":\"True\",\"bingroup\":\"x\",\"hovertemplate\":\"Followers=11.2M<br>Category=%{x}<br>count=%{y}<extra></extra>\",\"legendgroup\":\"11.2M\",\"marker\":{\"color\":\"#FECB52\",\"pattern\":{\"shape\":\"\"}},\"name\":\"11.2M\",\"offsetgroup\":\"11.2M\",\"orientation\":\"v\",\"showlegend\":true,\"texttemplate\":\"%{value}\",\"x\":[\"Cinema & Actors/actresses\"],\"xaxis\":\"x\",\"yaxis\":\"y\",\"type\":\"histogram\"},{\"alignmentgroup\":\"True\",\"bingroup\":\"x\",\"hovertemplate\":\"Followers=19.7M<br>Category=%{x}<br>count=%{y}<extra></extra>\",\"legendgroup\":\"19.7M\",\"marker\":{\"color\":\"#636efa\",\"pattern\":{\"shape\":\"\"}},\"name\":\"19.7M\",\"offsetgroup\":\"19.7M\",\"orientation\":\"v\",\"showlegend\":true,\"texttemplate\":\"%{value}\",\"x\":[\"Modeling\"],\"xaxis\":\"x\",\"yaxis\":\"y\",\"type\":\"histogram\"},{\"alignmentgroup\":\"True\",\"bingroup\":\"x\",\"hovertemplate\":\"Followers=2.6M<br>Category=%{x}<br>count=%{y}<extra></extra>\",\"legendgroup\":\"2.6M\",\"marker\":{\"color\":\"#EF553B\",\"pattern\":{\"shape\":\"\"}},\"name\":\"2.6M\",\"offsetgroup\":\"2.6M\",\"orientation\":\"v\",\"showlegend\":true,\"texttemplate\":\"%{value}\",\"x\":[\"Humor & Fun & HappinessCinema & Actors/actresses\"],\"xaxis\":\"x\",\"yaxis\":\"y\",\"type\":\"histogram\"},{\"alignmentgroup\":\"True\",\"bingroup\":\"x\",\"hovertemplate\":\"Followers=15.8M<br>Category=%{x}<br>count=%{y}<extra></extra>\",\"legendgroup\":\"15.8M\",\"marker\":{\"color\":\"#00cc96\",\"pattern\":{\"shape\":\"\"}},\"name\":\"15.8M\",\"offsetgroup\":\"15.8M\",\"orientation\":\"v\",\"showlegend\":true,\"texttemplate\":\"%{value}\",\"x\":[\"Cinema & Actors/actressesFashion\"],\"xaxis\":\"x\",\"yaxis\":\"y\",\"type\":\"histogram\"},{\"alignmentgroup\":\"True\",\"bingroup\":\"x\",\"hovertemplate\":\"Followers=24.8M<br>Category=%{x}<br>count=%{y}<extra></extra>\",\"legendgroup\":\"24.8M\",\"marker\":{\"color\":\"#ab63fa\",\"pattern\":{\"shape\":\"\"}},\"name\":\"24.8M\",\"offsetgroup\":\"24.8M\",\"orientation\":\"v\",\"showlegend\":true,\"texttemplate\":\"%{value}\",\"x\":[\"LifestyleSports with a ball\"],\"xaxis\":\"x\",\"yaxis\":\"y\",\"type\":\"histogram\"},{\"alignmentgroup\":\"True\",\"bingroup\":\"x\",\"hovertemplate\":\"Followers=3.4M<br>Category=%{x}<br>count=%{y}<extra></extra>\",\"legendgroup\":\"3.4M\",\"marker\":{\"color\":\"#FFA15A\",\"pattern\":{\"shape\":\"\"}},\"name\":\"3.4M\",\"offsetgroup\":\"3.4M\",\"orientation\":\"v\",\"showlegend\":true,\"texttemplate\":\"%{value}\",\"x\":[null],\"xaxis\":\"x\",\"yaxis\":\"y\",\"type\":\"histogram\"}],                        {\"template\":{\"data\":{\"histogram2dcontour\":[{\"type\":\"histogram2dcontour\",\"colorbar\":{\"outlinewidth\":0,\"ticks\":\"\"},\"colorscale\":[[0.0,\"#0d0887\"],[0.1111111111111111,\"#46039f\"],[0.2222222222222222,\"#7201a8\"],[0.3333333333333333,\"#9c179e\"],[0.4444444444444444,\"#bd3786\"],[0.5555555555555556,\"#d8576b\"],[0.6666666666666666,\"#ed7953\"],[0.7777777777777778,\"#fb9f3a\"],[0.8888888888888888,\"#fdca26\"],[1.0,\"#f0f921\"]]}],\"choropleth\":[{\"type\":\"choropleth\",\"colorbar\":{\"outlinewidth\":0,\"ticks\":\"\"}}],\"histogram2d\":[{\"type\":\"histogram2d\",\"colorbar\":{\"outlinewidth\":0,\"ticks\":\"\"},\"colorscale\":[[0.0,\"#0d0887\"],[0.1111111111111111,\"#46039f\"],[0.2222222222222222,\"#7201a8\"],[0.3333333333333333,\"#9c179e\"],[0.4444444444444444,\"#bd3786\"],[0.5555555555555556,\"#d8576b\"],[0.6666666666666666,\"#ed7953\"],[0.7777777777777778,\"#fb9f3a\"],[0.8888888888888888,\"#fdca26\"],[1.0,\"#f0f921\"]]}],\"heatmap\":[{\"type\":\"heatmap\",\"colorbar\":{\"outlinewidth\":0,\"ticks\":\"\"},\"colorscale\":[[0.0,\"#0d0887\"],[0.1111111111111111,\"#46039f\"],[0.2222222222222222,\"#7201a8\"],[0.3333333333333333,\"#9c179e\"],[0.4444444444444444,\"#bd3786\"],[0.5555555555555556,\"#d8576b\"],[0.6666666666666666,\"#ed7953\"],[0.7777777777777778,\"#fb9f3a\"],[0.8888888888888888,\"#fdca26\"],[1.0,\"#f0f921\"]]}],\"heatmapgl\":[{\"type\":\"heatmapgl\",\"colorbar\":{\"outlinewidth\":0,\"ticks\":\"\"},\"colorscale\":[[0.0,\"#0d0887\"],[0.1111111111111111,\"#46039f\"],[0.2222222222222222,\"#7201a8\"],[0.3333333333333333,\"#9c179e\"],[0.4444444444444444,\"#bd3786\"],[0.5555555555555556,\"#d8576b\"],[0.6666666666666666,\"#ed7953\"],[0.7777777777777778,\"#fb9f3a\"],[0.8888888888888888,\"#fdca26\"],[1.0,\"#f0f921\"]]}],\"contourcarpet\":[{\"type\":\"contourcarpet\",\"colorbar\":{\"outlinewidth\":0,\"ticks\":\"\"}}],\"contour\":[{\"type\":\"contour\",\"colorbar\":{\"outlinewidth\":0,\"ticks\":\"\"},\"colorscale\":[[0.0,\"#0d0887\"],[0.1111111111111111,\"#46039f\"],[0.2222222222222222,\"#7201a8\"],[0.3333333333333333,\"#9c179e\"],[0.4444444444444444,\"#bd3786\"],[0.5555555555555556,\"#d8576b\"],[0.6666666666666666,\"#ed7953\"],[0.7777777777777778,\"#fb9f3a\"],[0.8888888888888888,\"#fdca26\"],[1.0,\"#f0f921\"]]}],\"surface\":[{\"type\":\"surface\",\"colorbar\":{\"outlinewidth\":0,\"ticks\":\"\"},\"colorscale\":[[0.0,\"#0d0887\"],[0.1111111111111111,\"#46039f\"],[0.2222222222222222,\"#7201a8\"],[0.3333333333333333,\"#9c179e\"],[0.4444444444444444,\"#bd3786\"],[0.5555555555555556,\"#d8576b\"],[0.6666666666666666,\"#ed7953\"],[0.7777777777777778,\"#fb9f3a\"],[0.8888888888888888,\"#fdca26\"],[1.0,\"#f0f921\"]]}],\"mesh3d\":[{\"type\":\"mesh3d\",\"colorbar\":{\"outlinewidth\":0,\"ticks\":\"\"}}],\"scatter\":[{\"fillpattern\":{\"fillmode\":\"overlay\",\"size\":10,\"solidity\":0.2},\"type\":\"scatter\"}],\"parcoords\":[{\"type\":\"parcoords\",\"line\":{\"colorbar\":{\"outlinewidth\":0,\"ticks\":\"\"}}}],\"scatterpolargl\":[{\"type\":\"scatterpolargl\",\"marker\":{\"colorbar\":{\"outlinewidth\":0,\"ticks\":\"\"}}}],\"bar\":[{\"error_x\":{\"color\":\"#2a3f5f\"},\"error_y\":{\"color\":\"#2a3f5f\"},\"marker\":{\"line\":{\"color\":\"#E5ECF6\",\"width\":0.5},\"pattern\":{\"fillmode\":\"overlay\",\"size\":10,\"solidity\":0.2}},\"type\":\"bar\"}],\"scattergeo\":[{\"type\":\"scattergeo\",\"marker\":{\"colorbar\":{\"outlinewidth\":0,\"ticks\":\"\"}}}],\"scatterpolar\":[{\"type\":\"scatterpolar\",\"marker\":{\"colorbar\":{\"outlinewidth\":0,\"ticks\":\"\"}}}],\"histogram\":[{\"marker\":{\"pattern\":{\"fillmode\":\"overlay\",\"size\":10,\"solidity\":0.2}},\"type\":\"histogram\"}],\"scattergl\":[{\"type\":\"scattergl\",\"marker\":{\"colorbar\":{\"outlinewidth\":0,\"ticks\":\"\"}}}],\"scatter3d\":[{\"type\":\"scatter3d\",\"line\":{\"colorbar\":{\"outlinewidth\":0,\"ticks\":\"\"}},\"marker\":{\"colorbar\":{\"outlinewidth\":0,\"ticks\":\"\"}}}],\"scattermapbox\":[{\"type\":\"scattermapbox\",\"marker\":{\"colorbar\":{\"outlinewidth\":0,\"ticks\":\"\"}}}],\"scatterternary\":[{\"type\":\"scatterternary\",\"marker\":{\"colorbar\":{\"outlinewidth\":0,\"ticks\":\"\"}}}],\"scattercarpet\":[{\"type\":\"scattercarpet\",\"marker\":{\"colorbar\":{\"outlinewidth\":0,\"ticks\":\"\"}}}],\"carpet\":[{\"aaxis\":{\"endlinecolor\":\"#2a3f5f\",\"gridcolor\":\"white\",\"linecolor\":\"white\",\"minorgridcolor\":\"white\",\"startlinecolor\":\"#2a3f5f\"},\"baxis\":{\"endlinecolor\":\"#2a3f5f\",\"gridcolor\":\"white\",\"linecolor\":\"white\",\"minorgridcolor\":\"white\",\"startlinecolor\":\"#2a3f5f\"},\"type\":\"carpet\"}],\"table\":[{\"cells\":{\"fill\":{\"color\":\"#EBF0F8\"},\"line\":{\"color\":\"white\"}},\"header\":{\"fill\":{\"color\":\"#C8D4E3\"},\"line\":{\"color\":\"white\"}},\"type\":\"table\"}],\"barpolar\":[{\"marker\":{\"line\":{\"color\":\"#E5ECF6\",\"width\":0.5},\"pattern\":{\"fillmode\":\"overlay\",\"size\":10,\"solidity\":0.2}},\"type\":\"barpolar\"}],\"pie\":[{\"automargin\":true,\"type\":\"pie\"}]},\"layout\":{\"autotypenumbers\":\"strict\",\"colorway\":[\"#636efa\",\"#EF553B\",\"#00cc96\",\"#ab63fa\",\"#FFA15A\",\"#19d3f3\",\"#FF6692\",\"#B6E880\",\"#FF97FF\",\"#FECB52\"],\"font\":{\"color\":\"#2a3f5f\"},\"hovermode\":\"closest\",\"hoverlabel\":{\"align\":\"left\"},\"paper_bgcolor\":\"white\",\"plot_bgcolor\":\"#E5ECF6\",\"polar\":{\"bgcolor\":\"#E5ECF6\",\"angularaxis\":{\"gridcolor\":\"white\",\"linecolor\":\"white\",\"ticks\":\"\"},\"radialaxis\":{\"gridcolor\":\"white\",\"linecolor\":\"white\",\"ticks\":\"\"}},\"ternary\":{\"bgcolor\":\"#E5ECF6\",\"aaxis\":{\"gridcolor\":\"white\",\"linecolor\":\"white\",\"ticks\":\"\"},\"baxis\":{\"gridcolor\":\"white\",\"linecolor\":\"white\",\"ticks\":\"\"},\"caxis\":{\"gridcolor\":\"white\",\"linecolor\":\"white\",\"ticks\":\"\"}},\"coloraxis\":{\"colorbar\":{\"outlinewidth\":0,\"ticks\":\"\"}},\"colorscale\":{\"sequential\":[[0.0,\"#0d0887\"],[0.1111111111111111,\"#46039f\"],[0.2222222222222222,\"#7201a8\"],[0.3333333333333333,\"#9c179e\"],[0.4444444444444444,\"#bd3786\"],[0.5555555555555556,\"#d8576b\"],[0.6666666666666666,\"#ed7953\"],[0.7777777777777778,\"#fb9f3a\"],[0.8888888888888888,\"#fdca26\"],[1.0,\"#f0f921\"]],\"sequentialminus\":[[0.0,\"#0d0887\"],[0.1111111111111111,\"#46039f\"],[0.2222222222222222,\"#7201a8\"],[0.3333333333333333,\"#9c179e\"],[0.4444444444444444,\"#bd3786\"],[0.5555555555555556,\"#d8576b\"],[0.6666666666666666,\"#ed7953\"],[0.7777777777777778,\"#fb9f3a\"],[0.8888888888888888,\"#fdca26\"],[1.0,\"#f0f921\"]],\"diverging\":[[0,\"#8e0152\"],[0.1,\"#c51b7d\"],[0.2,\"#de77ae\"],[0.3,\"#f1b6da\"],[0.4,\"#fde0ef\"],[0.5,\"#f7f7f7\"],[0.6,\"#e6f5d0\"],[0.7,\"#b8e186\"],[0.8,\"#7fbc41\"],[0.9,\"#4d9221\"],[1,\"#276419\"]]},\"xaxis\":{\"gridcolor\":\"white\",\"linecolor\":\"white\",\"ticks\":\"\",\"title\":{\"standoff\":15},\"zerolinecolor\":\"white\",\"automargin\":true,\"zerolinewidth\":2},\"yaxis\":{\"gridcolor\":\"white\",\"linecolor\":\"white\",\"ticks\":\"\",\"title\":{\"standoff\":15},\"zerolinecolor\":\"white\",\"automargin\":true,\"zerolinewidth\":2},\"scene\":{\"xaxis\":{\"backgroundcolor\":\"#E5ECF6\",\"gridcolor\":\"white\",\"linecolor\":\"white\",\"showbackground\":true,\"ticks\":\"\",\"zerolinecolor\":\"white\",\"gridwidth\":2},\"yaxis\":{\"backgroundcolor\":\"#E5ECF6\",\"gridcolor\":\"white\",\"linecolor\":\"white\",\"showbackground\":true,\"ticks\":\"\",\"zerolinecolor\":\"white\",\"gridwidth\":2},\"zaxis\":{\"backgroundcolor\":\"#E5ECF6\",\"gridcolor\":\"white\",\"linecolor\":\"white\",\"showbackground\":true,\"ticks\":\"\",\"zerolinecolor\":\"white\",\"gridwidth\":2}},\"shapedefaults\":{\"line\":{\"color\":\"#2a3f5f\"}},\"annotationdefaults\":{\"arrowcolor\":\"#2a3f5f\",\"arrowhead\":0,\"arrowwidth\":1},\"geo\":{\"bgcolor\":\"white\",\"landcolor\":\"#E5ECF6\",\"subunitcolor\":\"white\",\"showland\":true,\"showlakes\":true,\"lakecolor\":\"white\"},\"title\":{\"x\":0.05},\"mapbox\":{\"style\":\"light\"}}},\"xaxis\":{\"anchor\":\"y\",\"domain\":[0.0,1.0],\"title\":{\"text\":\"Category\"}},\"yaxis\":{\"anchor\":\"x\",\"domain\":[0.0,1.0],\"title\":{\"text\":\"count\"}},\"legend\":{\"title\":{\"text\":\"Followers\"},\"tracegroupgap\":0},\"margin\":{\"t\":60},\"barmode\":\"relative\"},                        {\"responsive\": true}                    ).then(function(){\n",
       "                            \n",
       "var gd = document.getElementById('156bacc5-d893-4a48-8ba5-d8f79cdfc82e');\n",
       "var x = new MutationObserver(function (mutations, observer) {{\n",
       "        var display = window.getComputedStyle(gd).display;\n",
       "        if (!display || display === 'none') {{\n",
       "            console.log([gd, 'removed!']);\n",
       "            Plotly.purge(gd);\n",
       "            observer.disconnect();\n",
       "        }}\n",
       "}});\n",
       "\n",
       "// Listen for the removal of the full notebook cells\n",
       "var notebookContainer = gd.closest('#notebook-container');\n",
       "if (notebookContainer) {{\n",
       "    x.observe(notebookContainer, {childList: true});\n",
       "}}\n",
       "\n",
       "// Listen for the clearing of the current output cell\n",
       "var outputEl = gd.closest('.output');\n",
       "if (outputEl) {{\n",
       "    x.observe(outputEl, {childList: true});\n",
       "}}\n",
       "\n",
       "                        })                };                });            </script>        </div>"
      ]
     },
     "metadata": {},
     "output_type": "display_data"
    }
   ],
   "source": [
    "# relação entre categoria e seguidores:\n",
    "\n",
    "grafico = px.histogram(tabela, x=\"Category\", color=\"Followers\", text_auto=True)\n",
    "grafico.show()\n"
   ]
  },
  {
   "cell_type": "markdown",
   "id": "c9716c67",
   "metadata": {},
   "source": [
    "As categorias com a maior quantidade de seguidores são: \n",
    "1- música.\n",
    "2- finanças e economia negócios e carreiras.\n",
    "3- esporte com bola. \n",
    "4- cinema artístico e ator/atriz.\n"
   ]
  },
  {
   "cell_type": "code",
   "execution_count": 5,
   "id": "a17f3283",
   "metadata": {},
   "outputs": [
    {
     "data": {
      "application/vnd.plotly.v1+json": {
       "config": {
        "plotlyServerURL": "https://plot.ly"
       },
       "data": [
        {
         "alignmentgroup": "True",
         "bingroup": "x",
         "hovertemplate": "Followers=462.9M<br>Audience Country=%{x}<br>count=%{y}<extra></extra>",
         "legendgroup": "462.9M",
         "marker": {
          "color": "#636efa",
          "pattern": {
           "shape": ""
          }
         },
         "name": "462.9M",
         "offsetgroup": "462.9M",
         "orientation": "v",
         "showlegend": true,
         "texttemplate": "%{value}",
         "type": "histogram",
         "x": [
          "India"
         ],
         "xaxis": "x",
         "yaxis": "y"
        },
        {
         "alignmentgroup": "True",
         "bingroup": "x",
         "hovertemplate": "Followers=347.2M<br>Audience Country=%{x}<br>count=%{y}<extra></extra>",
         "legendgroup": "347.2M",
         "marker": {
          "color": "#EF553B",
          "pattern": {
           "shape": ""
          }
         },
         "name": "347.2M",
         "offsetgroup": "347.2M",
         "orientation": "v",
         "showlegend": true,
         "texttemplate": "%{value}",
         "type": "histogram",
         "x": [
          "Argentina"
         ],
         "xaxis": "x",
         "yaxis": "y"
        },
        {
         "alignmentgroup": "True",
         "bingroup": "x",
         "hovertemplate": "Followers=247.6M<br>Audience Country=%{x}<br>count=%{y}<extra></extra>",
         "legendgroup": "247.6M",
         "marker": {
          "color": "#00cc96",
          "pattern": {
           "shape": ""
          }
         },
         "name": "247.6M",
         "offsetgroup": "247.6M",
         "orientation": "v",
         "showlegend": true,
         "texttemplate": "%{value}",
         "type": "histogram",
         "x": [
          "United States"
         ],
         "xaxis": "x",
         "yaxis": "y"
        },
        {
         "alignmentgroup": "True",
         "bingroup": "x",
         "hovertemplate": "Followers=321.4M<br>Audience Country=%{x}<br>count=%{y}<extra></extra>",
         "legendgroup": "321.4M",
         "marker": {
          "color": "#ab63fa",
          "pattern": {
           "shape": ""
          }
         },
         "name": "321.4M",
         "offsetgroup": "321.4M",
         "orientation": "v",
         "showlegend": true,
         "texttemplate": "%{value}",
         "type": "histogram",
         "x": [
          "United States"
         ],
         "xaxis": "x",
         "yaxis": "y"
        },
        {
         "alignmentgroup": "True",
         "bingroup": "x",
         "hovertemplate": "Followers=147M<br>Audience Country=%{x}<br>count=%{y}<extra></extra>",
         "legendgroup": "147M",
         "marker": {
          "color": "#FFA15A",
          "pattern": {
           "shape": ""
          }
         },
         "name": "147M",
         "offsetgroup": "147M",
         "orientation": "v",
         "showlegend": true,
         "texttemplate": "%{value}",
         "type": "histogram",
         "x": [
          "United States"
         ],
         "xaxis": "x",
         "yaxis": "y"
        },
        {
         "alignmentgroup": "True",
         "bingroup": "x",
         "hovertemplate": "Followers=323.6M<br>Audience Country=%{x}<br>count=%{y}<extra></extra>",
         "legendgroup": "323.6M",
         "marker": {
          "color": "#19d3f3",
          "pattern": {
           "shape": ""
          }
         },
         "name": "323.6M",
         "offsetgroup": "323.6M",
         "orientation": "v",
         "showlegend": true,
         "texttemplate": "%{value}",
         "type": "histogram",
         "x": [
          "United States"
         ],
         "xaxis": "x",
         "yaxis": "y"
        },
        {
         "alignmentgroup": "True",
         "bingroup": "x",
         "hovertemplate": "Followers=218.2M<br>Audience Country=%{x}<br>count=%{y}<extra></extra>",
         "legendgroup": "218.2M",
         "marker": {
          "color": "#FF6692",
          "pattern": {
           "shape": ""
          }
         },
         "name": "218.2M",
         "offsetgroup": "218.2M",
         "orientation": "v",
         "showlegend": true,
         "texttemplate": "%{value}",
         "type": "histogram",
         "x": [
          "Brazil"
         ],
         "xaxis": "x",
         "yaxis": "y"
        },
        {
         "alignmentgroup": "True",
         "bingroup": "x",
         "hovertemplate": "Followers=357M<br>Audience Country=%{x}<br>count=%{y}<extra></extra>",
         "legendgroup": "357M",
         "marker": {
          "color": "#B6E880",
          "pattern": {
           "shape": ""
          }
         },
         "name": "357M",
         "offsetgroup": "357M",
         "orientation": "v",
         "showlegend": true,
         "texttemplate": "%{value}",
         "type": "histogram",
         "x": [
          "United States"
         ],
         "xaxis": "x",
         "yaxis": "y"
        },
        {
         "alignmentgroup": "True",
         "bingroup": "x",
         "hovertemplate": "Followers=334.9M<br>Audience Country=%{x}<br>count=%{y}<extra></extra>",
         "legendgroup": "334.9M",
         "marker": {
          "color": "#FF97FF",
          "pattern": {
           "shape": ""
          }
         },
         "name": "334.9M",
         "offsetgroup": "334.9M",
         "orientation": "v",
         "showlegend": true,
         "texttemplate": "%{value}",
         "type": "histogram",
         "x": [
          "United States"
         ],
         "xaxis": "x",
         "yaxis": "y"
        },
        {
         "alignmentgroup": "True",
         "bingroup": "x",
         "hovertemplate": "Followers=46.3M<br>Audience Country=%{x}<br>count=%{y}<extra></extra>",
         "legendgroup": "46.3M",
         "marker": {
          "color": "#FECB52",
          "pattern": {
           "shape": ""
          }
         },
         "name": "46.3M",
         "offsetgroup": "46.3M",
         "orientation": "v",
         "showlegend": true,
         "texttemplate": "%{value}",
         "type": "histogram",
         "x": [
          "United States",
          "United States"
         ],
         "xaxis": "x",
         "yaxis": "y"
        },
        {
         "alignmentgroup": "True",
         "bingroup": "x",
         "hovertemplate": "Followers=79.9M<br>Audience Country=%{x}<br>count=%{y}<extra></extra>",
         "legendgroup": "79.9M",
         "marker": {
          "color": "#636efa",
          "pattern": {
           "shape": ""
          }
         },
         "name": "79.9M",
         "offsetgroup": "79.9M",
         "orientation": "v",
         "showlegend": true,
         "texttemplate": "%{value}",
         "type": "histogram",
         "x": [
          "Indonesia"
         ],
         "xaxis": "x",
         "yaxis": "y"
        },
        {
         "alignmentgroup": "True",
         "bingroup": "x",
         "hovertemplate": "Followers=68.2M<br>Audience Country=%{x}<br>count=%{y}<extra></extra>",
         "legendgroup": "68.2M",
         "marker": {
          "color": "#EF553B",
          "pattern": {
           "shape": ""
          }
         },
         "name": "68.2M",
         "offsetgroup": "68.2M",
         "orientation": "v",
         "showlegend": true,
         "texttemplate": "%{value}",
         "type": "histogram",
         "x": [
          "Indonesia",
          "India"
         ],
         "xaxis": "x",
         "yaxis": "y"
        },
        {
         "alignmentgroup": "True",
         "bingroup": "x",
         "hovertemplate": "Followers=206.9M<br>Audience Country=%{x}<br>count=%{y}<extra></extra>",
         "legendgroup": "206.9M",
         "marker": {
          "color": "#00cc96",
          "pattern": {
           "shape": ""
          }
         },
         "name": "206.9M",
         "offsetgroup": "206.9M",
         "orientation": "v",
         "showlegend": true,
         "texttemplate": "%{value}",
         "type": "histogram",
         "x": [
          "India"
         ],
         "xaxis": "x",
         "yaxis": "y"
        },
        {
         "alignmentgroup": "True",
         "bingroup": "x",
         "hovertemplate": "Followers=67.6M<br>Audience Country=%{x}<br>count=%{y}<extra></extra>",
         "legendgroup": "67.6M",
         "marker": {
          "color": "#ab63fa",
          "pattern": {
           "shape": ""
          }
         },
         "name": "67.6M",
         "offsetgroup": "67.6M",
         "orientation": "v",
         "showlegend": true,
         "texttemplate": "%{value}",
         "type": "histogram",
         "x": [
          "United States"
         ],
         "xaxis": "x",
         "yaxis": "y"
        },
        {
         "alignmentgroup": "True",
         "bingroup": "x",
         "hovertemplate": "Followers=38.1M<br>Audience Country=%{x}<br>count=%{y}<extra></extra>",
         "legendgroup": "38.1M",
         "marker": {
          "color": "#FFA15A",
          "pattern": {
           "shape": ""
          }
         },
         "name": "38.1M",
         "offsetgroup": "38.1M",
         "orientation": "v",
         "showlegend": true,
         "texttemplate": "%{value}",
         "type": "histogram",
         "x": [
          null
         ],
         "xaxis": "x",
         "yaxis": "y"
        },
        {
         "alignmentgroup": "True",
         "bingroup": "x",
         "hovertemplate": "Followers=36.5M<br>Audience Country=%{x}<br>count=%{y}<extra></extra>",
         "legendgroup": "36.5M",
         "marker": {
          "color": "#19d3f3",
          "pattern": {
           "shape": ""
          }
         },
         "name": "36.5M",
         "offsetgroup": "36.5M",
         "orientation": "v",
         "showlegend": true,
         "texttemplate": "%{value}",
         "type": "histogram",
         "x": [
          null
         ],
         "xaxis": "x",
         "yaxis": "y"
        },
        {
         "alignmentgroup": "True",
         "bingroup": "x",
         "hovertemplate": "Followers=37.4M<br>Audience Country=%{x}<br>count=%{y}<extra></extra>",
         "legendgroup": "37.4M",
         "marker": {
          "color": "#FF6692",
          "pattern": {
           "shape": ""
          }
         },
         "name": "37.4M",
         "offsetgroup": "37.4M",
         "orientation": "v",
         "showlegend": true,
         "texttemplate": "%{value}",
         "type": "histogram",
         "x": [
          "United States",
          "South Korea",
          "United States",
          "India"
         ],
         "xaxis": "x",
         "yaxis": "y"
        },
        {
         "alignmentgroup": "True",
         "bingroup": "x",
         "hovertemplate": "Followers=267.4M<br>Audience Country=%{x}<br>count=%{y}<extra></extra>",
         "legendgroup": "267.4M",
         "marker": {
          "color": "#B6E880",
          "pattern": {
           "shape": ""
          }
         },
         "name": "267.4M",
         "offsetgroup": "267.4M",
         "orientation": "v",
         "showlegend": true,
         "texttemplate": "%{value}",
         "type": "histogram",
         "x": [
          "United States"
         ],
         "xaxis": "x",
         "yaxis": "y"
        },
        {
         "alignmentgroup": "True",
         "bingroup": "x",
         "hovertemplate": "Followers=260.4M<br>Audience Country=%{x}<br>count=%{y}<extra></extra>",
         "legendgroup": "260.4M",
         "marker": {
          "color": "#FF97FF",
          "pattern": {
           "shape": ""
          }
         },
         "name": "260.4M",
         "offsetgroup": "260.4M",
         "orientation": "v",
         "showlegend": true,
         "texttemplate": "%{value}",
         "type": "histogram",
         "x": [
          "United States"
         ],
         "xaxis": "x",
         "yaxis": "y"
        },
        {
         "alignmentgroup": "True",
         "bingroup": "x",
         "hovertemplate": "Followers=62.1M<br>Audience Country=%{x}<br>count=%{y}<extra></extra>",
         "legendgroup": "62.1M",
         "marker": {
          "color": "#FECB52",
          "pattern": {
           "shape": ""
          }
         },
         "name": "62.1M",
         "offsetgroup": "62.1M",
         "orientation": "v",
         "showlegend": true,
         "texttemplate": "%{value}",
         "type": "histogram",
         "x": [
          "Indonesia"
         ],
         "xaxis": "x",
         "yaxis": "y"
        },
        {
         "alignmentgroup": "True",
         "bingroup": "x",
         "hovertemplate": "Followers=104.3M<br>Audience Country=%{x}<br>count=%{y}<extra></extra>",
         "legendgroup": "104.3M",
         "marker": {
          "color": "#636efa",
          "pattern": {
           "shape": ""
          }
         },
         "name": "104.3M",
         "offsetgroup": "104.3M",
         "orientation": "v",
         "showlegend": true,
         "texttemplate": "%{value}",
         "type": "histogram",
         "x": [
          "United States"
         ],
         "xaxis": "x",
         "yaxis": "y"
        },
        {
         "alignmentgroup": "True",
         "bingroup": "x",
         "hovertemplate": "Followers=176.2M<br>Audience Country=%{x}<br>count=%{y}<extra></extra>",
         "legendgroup": "176.2M",
         "marker": {
          "color": "#EF553B",
          "pattern": {
           "shape": ""
          }
         },
         "name": "176.2M",
         "offsetgroup": "176.2M",
         "orientation": "v",
         "showlegend": true,
         "texttemplate": "%{value}",
         "type": "histogram",
         "x": [
          "Brazil"
         ],
         "xaxis": "x",
         "yaxis": "y"
        },
        {
         "alignmentgroup": "True",
         "bingroup": "x",
         "hovertemplate": "Followers=78.6M<br>Audience Country=%{x}<br>count=%{y}<extra></extra>",
         "legendgroup": "78.6M",
         "marker": {
          "color": "#00cc96",
          "pattern": {
           "shape": ""
          }
         },
         "name": "78.6M",
         "offsetgroup": "78.6M",
         "orientation": "v",
         "showlegend": true,
         "texttemplate": "%{value}",
         "type": "histogram",
         "x": [
          "India",
          "India",
          "India"
         ],
         "xaxis": "x",
         "yaxis": "y"
        },
        {
         "alignmentgroup": "True",
         "bingroup": "x",
         "hovertemplate": "Followers=245.9M<br>Audience Country=%{x}<br>count=%{y}<extra></extra>",
         "legendgroup": "245.9M",
         "marker": {
          "color": "#ab63fa",
          "pattern": {
           "shape": ""
          }
         },
         "name": "245.9M",
         "offsetgroup": "245.9M",
         "orientation": "v",
         "showlegend": true,
         "texttemplate": "%{value}",
         "type": "histogram",
         "x": [
          "India"
         ],
         "xaxis": "x",
         "yaxis": "y"
        },
        {
         "alignmentgroup": "True",
         "bingroup": "x",
         "hovertemplate": "Followers=61M<br>Audience Country=%{x}<br>count=%{y}<extra></extra>",
         "legendgroup": "61M",
         "marker": {
          "color": "#FFA15A",
          "pattern": {
           "shape": ""
          }
         },
         "name": "61M",
         "offsetgroup": "61M",
         "orientation": "v",
         "showlegend": true,
         "texttemplate": "%{value}",
         "type": "histogram",
         "x": [
          "Indonesia"
         ],
         "xaxis": "x",
         "yaxis": "y"
        },
        {
         "alignmentgroup": "True",
         "bingroup": "x",
         "hovertemplate": "Followers=41.4M<br>Audience Country=%{x}<br>count=%{y}<extra></extra>",
         "legendgroup": "41.4M",
         "marker": {
          "color": "#19d3f3",
          "pattern": {
           "shape": ""
          }
         },
         "name": "41.4M",
         "offsetgroup": "41.4M",
         "orientation": "v",
         "showlegend": true,
         "texttemplate": "%{value}",
         "type": "histogram",
         "x": [
          "United States"
         ],
         "xaxis": "x",
         "yaxis": "y"
        },
        {
         "alignmentgroup": "True",
         "bingroup": "x",
         "hovertemplate": "Followers=197.8M<br>Audience Country=%{x}<br>count=%{y}<extra></extra>",
         "legendgroup": "197.8M",
         "marker": {
          "color": "#FF6692",
          "pattern": {
           "shape": ""
          }
         },
         "name": "197.8M",
         "offsetgroup": "197.8M",
         "orientation": "v",
         "showlegend": true,
         "texttemplate": "%{value}",
         "type": "histogram",
         "x": [
          "United States"
         ],
         "xaxis": "x",
         "yaxis": "y"
        },
        {
         "alignmentgroup": "True",
         "bingroup": "x",
         "hovertemplate": "Followers=528.4M<br>Audience Country=%{x}<br>count=%{y}<extra></extra>",
         "legendgroup": "528.4M",
         "marker": {
          "color": "#B6E880",
          "pattern": {
           "shape": ""
          }
         },
         "name": "528.4M",
         "offsetgroup": "528.4M",
         "orientation": "v",
         "showlegend": true,
         "texttemplate": "%{value}",
         "type": "histogram",
         "x": [
          "India"
         ],
         "xaxis": "x",
         "yaxis": "y"
        },
        {
         "alignmentgroup": "True",
         "bingroup": "x",
         "hovertemplate": "Followers=43M<br>Audience Country=%{x}<br>count=%{y}<extra></extra>",
         "legendgroup": "43M",
         "marker": {
          "color": "#FF97FF",
          "pattern": {
           "shape": ""
          }
         },
         "name": "43M",
         "offsetgroup": "43M",
         "orientation": "v",
         "showlegend": true,
         "texttemplate": "%{value}",
         "type": "histogram",
         "x": [
          null,
          "United States"
         ],
         "xaxis": "x",
         "yaxis": "y"
        },
        {
         "alignmentgroup": "True",
         "bingroup": "x",
         "hovertemplate": "Followers=66M<br>Audience Country=%{x}<br>count=%{y}<extra></extra>",
         "legendgroup": "66M",
         "marker": {
          "color": "#FECB52",
          "pattern": {
           "shape": ""
          }
         },
         "name": "66M",
         "offsetgroup": "66M",
         "orientation": "v",
         "showlegend": true,
         "texttemplate": "%{value}",
         "type": "histogram",
         "x": [
          "Indonesia"
         ],
         "xaxis": "x",
         "yaxis": "y"
        },
        {
         "alignmentgroup": "True",
         "bingroup": "x",
         "hovertemplate": "Followers=137.3M<br>Audience Country=%{x}<br>count=%{y}<extra></extra>",
         "legendgroup": "137.3M",
         "marker": {
          "color": "#636efa",
          "pattern": {
           "shape": ""
          }
         },
         "name": "137.3M",
         "offsetgroup": "137.3M",
         "orientation": "v",
         "showlegend": true,
         "texttemplate": "%{value}",
         "type": "histogram",
         "x": [
          "United States"
         ],
         "xaxis": "x",
         "yaxis": "y"
        },
        {
         "alignmentgroup": "True",
         "bingroup": "x",
         "hovertemplate": "Followers=189M<br>Audience Country=%{x}<br>count=%{y}<extra></extra>",
         "legendgroup": "189M",
         "marker": {
          "color": "#EF553B",
          "pattern": {
           "shape": ""
          }
         },
         "name": "189M",
         "offsetgroup": "189M",
         "orientation": "v",
         "showlegend": true,
         "texttemplate": "%{value}",
         "type": "histogram",
         "x": [
          "United States"
         ],
         "xaxis": "x",
         "yaxis": "y"
        },
        {
         "alignmentgroup": "True",
         "bingroup": "x",
         "hovertemplate": "Followers=54.5M<br>Audience Country=%{x}<br>count=%{y}<extra></extra>",
         "legendgroup": "54.5M",
         "marker": {
          "color": "#00cc96",
          "pattern": {
           "shape": ""
          }
         },
         "name": "54.5M",
         "offsetgroup": "54.5M",
         "orientation": "v",
         "showlegend": true,
         "texttemplate": "%{value}",
         "type": "histogram",
         "x": [
          "Mexico"
         ],
         "xaxis": "x",
         "yaxis": "y"
        },
        {
         "alignmentgroup": "True",
         "bingroup": "x",
         "hovertemplate": "Followers=46.2M<br>Audience Country=%{x}<br>count=%{y}<extra></extra>",
         "legendgroup": "46.2M",
         "marker": {
          "color": "#ab63fa",
          "pattern": {
           "shape": ""
          }
         },
         "name": "46.2M",
         "offsetgroup": "46.2M",
         "orientation": "v",
         "showlegend": true,
         "texttemplate": "%{value}",
         "type": "histogram",
         "x": [
          "India"
         ],
         "xaxis": "x",
         "yaxis": "y"
        },
        {
         "alignmentgroup": "True",
         "bingroup": "x",
         "hovertemplate": "Followers=36M<br>Audience Country=%{x}<br>count=%{y}<extra></extra>",
         "legendgroup": "36M",
         "marker": {
          "color": "#FFA15A",
          "pattern": {
           "shape": ""
          }
         },
         "name": "36M",
         "offsetgroup": "36M",
         "orientation": "v",
         "showlegend": true,
         "texttemplate": "%{value}",
         "type": "histogram",
         "x": [
          null,
          "United States"
         ],
         "xaxis": "x",
         "yaxis": "y"
        },
        {
         "alignmentgroup": "True",
         "bingroup": "x",
         "hovertemplate": "Followers=53.2M<br>Audience Country=%{x}<br>count=%{y}<extra></extra>",
         "legendgroup": "53.2M",
         "marker": {
          "color": "#19d3f3",
          "pattern": {
           "shape": ""
          }
         },
         "name": "53.2M",
         "offsetgroup": "53.2M",
         "orientation": "v",
         "showlegend": true,
         "texttemplate": "%{value}",
         "type": "histogram",
         "x": [
          "Brazil",
          "India",
          "United States"
         ],
         "xaxis": "x",
         "yaxis": "y"
        },
        {
         "alignmentgroup": "True",
         "bingroup": "x",
         "hovertemplate": "Followers=74.9M<br>Audience Country=%{x}<br>count=%{y}<extra></extra>",
         "legendgroup": "74.9M",
         "marker": {
          "color": "#FF6692",
          "pattern": {
           "shape": ""
          }
         },
         "name": "74.9M",
         "offsetgroup": "74.9M",
         "orientation": "v",
         "showlegend": true,
         "texttemplate": "%{value}",
         "type": "histogram",
         "x": [
          "United States"
         ],
         "xaxis": "x",
         "yaxis": "y"
        },
        {
         "alignmentgroup": "True",
         "bingroup": "x",
         "hovertemplate": "Followers=217.5M<br>Audience Country=%{x}<br>count=%{y}<extra></extra>",
         "legendgroup": "217.5M",
         "marker": {
          "color": "#B6E880",
          "pattern": {
           "shape": ""
          }
         },
         "name": "217.5M",
         "offsetgroup": "217.5M",
         "orientation": "v",
         "showlegend": true,
         "texttemplate": "%{value}",
         "type": "histogram",
         "x": [
          "United States"
         ],
         "xaxis": "x",
         "yaxis": "y"
        },
        {
         "alignmentgroup": "True",
         "bingroup": "x",
         "hovertemplate": "Followers=127.4M<br>Audience Country=%{x}<br>count=%{y}<extra></extra>",
         "legendgroup": "127.4M",
         "marker": {
          "color": "#FF97FF",
          "pattern": {
           "shape": ""
          }
         },
         "name": "127.4M",
         "offsetgroup": "127.4M",
         "orientation": "v",
         "showlegend": true,
         "texttemplate": "%{value}",
         "type": "histogram",
         "x": [
          "United States"
         ],
         "xaxis": "x",
         "yaxis": "y"
        },
        {
         "alignmentgroup": "True",
         "bingroup": "x",
         "hovertemplate": "Followers=327.3M<br>Audience Country=%{x}<br>count=%{y}<extra></extra>",
         "legendgroup": "327.3M",
         "marker": {
          "color": "#FECB52",
          "pattern": {
           "shape": ""
          }
         },
         "name": "327.3M",
         "offsetgroup": "327.3M",
         "orientation": "v",
         "showlegend": true,
         "texttemplate": "%{value}",
         "type": "histogram",
         "x": [
          "India"
         ],
         "xaxis": "x",
         "yaxis": "y"
        },
        {
         "alignmentgroup": "True",
         "bingroup": "x",
         "hovertemplate": "Followers=50.6M<br>Audience Country=%{x}<br>count=%{y}<extra></extra>",
         "legendgroup": "50.6M",
         "marker": {
          "color": "#636efa",
          "pattern": {
           "shape": ""
          }
         },
         "name": "50.6M",
         "offsetgroup": "50.6M",
         "orientation": "v",
         "showlegend": true,
         "texttemplate": "%{value}",
         "type": "histogram",
         "x": [
          "United States"
         ],
         "xaxis": "x",
         "yaxis": "y"
        },
        {
         "alignmentgroup": "True",
         "bingroup": "x",
         "hovertemplate": "Followers=39M<br>Audience Country=%{x}<br>count=%{y}<extra></extra>",
         "legendgroup": "39M",
         "marker": {
          "color": "#EF553B",
          "pattern": {
           "shape": ""
          }
         },
         "name": "39M",
         "offsetgroup": "39M",
         "orientation": "v",
         "showlegend": true,
         "texttemplate": "%{value}",
         "type": "histogram",
         "x": [
          "India"
         ],
         "xaxis": "x",
         "yaxis": "y"
        },
        {
         "alignmentgroup": "True",
         "bingroup": "x",
         "hovertemplate": "Followers=116.6M<br>Audience Country=%{x}<br>count=%{y}<extra></extra>",
         "legendgroup": "116.6M",
         "marker": {
          "color": "#00cc96",
          "pattern": {
           "shape": ""
          }
         },
         "name": "116.6M",
         "offsetgroup": "116.6M",
         "orientation": "v",
         "showlegend": true,
         "texttemplate": "%{value}",
         "type": "histogram",
         "x": [
          "United States"
         ],
         "xaxis": "x",
         "yaxis": "y"
        },
        {
         "alignmentgroup": "True",
         "bingroup": "x",
         "hovertemplate": "Followers=65.6M<br>Audience Country=%{x}<br>count=%{y}<extra></extra>",
         "legendgroup": "65.6M",
         "marker": {
          "color": "#ab63fa",
          "pattern": {
           "shape": ""
          }
         },
         "name": "65.6M",
         "offsetgroup": "65.6M",
         "orientation": "v",
         "showlegend": true,
         "texttemplate": "%{value}",
         "type": "histogram",
         "x": [
          "India"
         ],
         "xaxis": "x",
         "yaxis": "y"
        },
        {
         "alignmentgroup": "True",
         "bingroup": "x",
         "hovertemplate": "Followers=178.2M<br>Audience Country=%{x}<br>count=%{y}<extra></extra>",
         "legendgroup": "178.2M",
         "marker": {
          "color": "#FFA15A",
          "pattern": {
           "shape": ""
          }
         },
         "name": "178.2M",
         "offsetgroup": "178.2M",
         "orientation": "v",
         "showlegend": true,
         "texttemplate": "%{value}",
         "type": "histogram",
         "x": [
          "United States"
         ],
         "xaxis": "x",
         "yaxis": "y"
        },
        {
         "alignmentgroup": "True",
         "bingroup": "x",
         "hovertemplate": "Followers=29.2M<br>Audience Country=%{x}<br>count=%{y}<extra></extra>",
         "legendgroup": "29.2M",
         "marker": {
          "color": "#19d3f3",
          "pattern": {
           "shape": ""
          }
         },
         "name": "29.2M",
         "offsetgroup": "29.2M",
         "orientation": "v",
         "showlegend": true,
         "texttemplate": "%{value}",
         "type": "histogram",
         "x": [
          "Indonesia"
         ],
         "xaxis": "x",
         "yaxis": "y"
        },
        {
         "alignmentgroup": "True",
         "bingroup": "x",
         "hovertemplate": "Followers=45.8M<br>Audience Country=%{x}<br>count=%{y}<extra></extra>",
         "legendgroup": "45.8M",
         "marker": {
          "color": "#FF6692",
          "pattern": {
           "shape": ""
          }
         },
         "name": "45.8M",
         "offsetgroup": "45.8M",
         "orientation": "v",
         "showlegend": true,
         "texttemplate": "%{value}",
         "type": "histogram",
         "x": [
          "United States",
          "Argentina",
          "United States"
         ],
         "xaxis": "x",
         "yaxis": "y"
        },
        {
         "alignmentgroup": "True",
         "bingroup": "x",
         "hovertemplate": "Followers=29.4M<br>Audience Country=%{x}<br>count=%{y}<extra></extra>",
         "legendgroup": "29.4M",
         "marker": {
          "color": "#B6E880",
          "pattern": {
           "shape": ""
          }
         },
         "name": "29.4M",
         "offsetgroup": "29.4M",
         "orientation": "v",
         "showlegend": true,
         "texttemplate": "%{value}",
         "type": "histogram",
         "x": [
          "Russia",
          null,
          null
         ],
         "xaxis": "x",
         "yaxis": "y"
        },
        {
         "alignmentgroup": "True",
         "bingroup": "x",
         "hovertemplate": "Followers=27M<br>Audience Country=%{x}<br>count=%{y}<extra></extra>",
         "legendgroup": "27M",
         "marker": {
          "color": "#FF97FF",
          "pattern": {
           "shape": ""
          }
         },
         "name": "27M",
         "offsetgroup": "27M",
         "orientation": "v",
         "showlegend": true,
         "texttemplate": "%{value}",
         "type": "histogram",
         "x": [
          "South Korea",
          "Spain",
          "United States"
         ],
         "xaxis": "x",
         "yaxis": "y"
        },
        {
         "alignmentgroup": "True",
         "bingroup": "x",
         "hovertemplate": "Followers=30.1M<br>Audience Country=%{x}<br>count=%{y}<extra></extra>",
         "legendgroup": "30.1M",
         "marker": {
          "color": "#FECB52",
          "pattern": {
           "shape": ""
          }
         },
         "name": "30.1M",
         "offsetgroup": "30.1M",
         "orientation": "v",
         "showlegend": true,
         "texttemplate": "%{value}",
         "type": "histogram",
         "x": [
          "Indonesia",
          "United States"
         ],
         "xaxis": "x",
         "yaxis": "y"
        },
        {
         "alignmentgroup": "True",
         "bingroup": "x",
         "hovertemplate": "Followers=69.4M<br>Audience Country=%{x}<br>count=%{y}<extra></extra>",
         "legendgroup": "69.4M",
         "marker": {
          "color": "#636efa",
          "pattern": {
           "shape": ""
          }
         },
         "name": "69.4M",
         "offsetgroup": "69.4M",
         "orientation": "v",
         "showlegend": true,
         "texttemplate": "%{value}",
         "type": "histogram",
         "x": [
          "Brazil"
         ],
         "xaxis": "x",
         "yaxis": "y"
        },
        {
         "alignmentgroup": "True",
         "bingroup": "x",
         "hovertemplate": "Followers=72.4M<br>Audience Country=%{x}<br>count=%{y}<extra></extra>",
         "legendgroup": "72.4M",
         "marker": {
          "color": "#EF553B",
          "pattern": {
           "shape": ""
          }
         },
         "name": "72.4M",
         "offsetgroup": "72.4M",
         "orientation": "v",
         "showlegend": true,
         "texttemplate": "%{value}",
         "type": "histogram",
         "x": [
          "France"
         ],
         "xaxis": "x",
         "yaxis": "y"
        },
        {
         "alignmentgroup": "True",
         "bingroup": "x",
         "hovertemplate": "Followers=26.6M<br>Audience Country=%{x}<br>count=%{y}<extra></extra>",
         "legendgroup": "26.6M",
         "marker": {
          "color": "#00cc96",
          "pattern": {
           "shape": ""
          }
         },
         "name": "26.6M",
         "offsetgroup": "26.6M",
         "orientation": "v",
         "showlegend": true,
         "texttemplate": "%{value}",
         "type": "histogram",
         "x": [
          "India",
          "Indonesia"
         ],
         "xaxis": "x",
         "yaxis": "y"
        },
        {
         "alignmentgroup": "True",
         "bingroup": "x",
         "hovertemplate": "Followers=67.2M<br>Audience Country=%{x}<br>count=%{y}<extra></extra>",
         "legendgroup": "67.2M",
         "marker": {
          "color": "#ab63fa",
          "pattern": {
           "shape": ""
          }
         },
         "name": "67.2M",
         "offsetgroup": "67.2M",
         "orientation": "v",
         "showlegend": true,
         "texttemplate": "%{value}",
         "type": "histogram",
         "x": [
          "India"
         ],
         "xaxis": "x",
         "yaxis": "y"
        },
        {
         "alignmentgroup": "True",
         "bingroup": "x",
         "hovertemplate": "Followers=27.1M<br>Audience Country=%{x}<br>count=%{y}<extra></extra>",
         "legendgroup": "27.1M",
         "marker": {
          "color": "#FFA15A",
          "pattern": {
           "shape": ""
          }
         },
         "name": "27.1M",
         "offsetgroup": "27.1M",
         "orientation": "v",
         "showlegend": true,
         "texttemplate": "%{value}",
         "type": "histogram",
         "x": [
          "India",
          "Brazil"
         ],
         "xaxis": "x",
         "yaxis": "y"
        },
        {
         "alignmentgroup": "True",
         "bingroup": "x",
         "hovertemplate": "Followers=59.3M<br>Audience Country=%{x}<br>count=%{y}<extra></extra>",
         "legendgroup": "59.3M",
         "marker": {
          "color": "#19d3f3",
          "pattern": {
           "shape": ""
          }
         },
         "name": "59.3M",
         "offsetgroup": "59.3M",
         "orientation": "v",
         "showlegend": true,
         "texttemplate": "%{value}",
         "type": "histogram",
         "x": [
          "India"
         ],
         "xaxis": "x",
         "yaxis": "y"
        },
        {
         "alignmentgroup": "True",
         "bingroup": "x",
         "hovertemplate": "Followers=85.1M<br>Audience Country=%{x}<br>count=%{y}<extra></extra>",
         "legendgroup": "85.1M",
         "marker": {
          "color": "#FF6692",
          "pattern": {
           "shape": ""
          }
         },
         "name": "85.1M",
         "offsetgroup": "85.1M",
         "orientation": "v",
         "showlegend": true,
         "texttemplate": "%{value}",
         "type": "histogram",
         "x": [
          "Mexico"
         ],
         "xaxis": "x",
         "yaxis": "y"
        },
        {
         "alignmentgroup": "True",
         "bingroup": "x",
         "hovertemplate": "Followers=48.1M<br>Audience Country=%{x}<br>count=%{y}<extra></extra>",
         "legendgroup": "48.1M",
         "marker": {
          "color": "#B6E880",
          "pattern": {
           "shape": ""
          }
         },
         "name": "48.1M",
         "offsetgroup": "48.1M",
         "orientation": "v",
         "showlegend": true,
         "texttemplate": "%{value}",
         "type": "histogram",
         "x": [
          "United States"
         ],
         "xaxis": "x",
         "yaxis": "y"
        },
        {
         "alignmentgroup": "True",
         "bingroup": "x",
         "hovertemplate": "Followers=64.4M<br>Audience Country=%{x}<br>count=%{y}<extra></extra>",
         "legendgroup": "64.4M",
         "marker": {
          "color": "#FF97FF",
          "pattern": {
           "shape": ""
          }
         },
         "name": "64.4M",
         "offsetgroup": "64.4M",
         "orientation": "v",
         "showlegend": true,
         "texttemplate": "%{value}",
         "type": "histogram",
         "x": [
          "Brazil"
         ],
         "xaxis": "x",
         "yaxis": "y"
        },
        {
         "alignmentgroup": "True",
         "bingroup": "x",
         "hovertemplate": "Followers=24.7M<br>Audience Country=%{x}<br>count=%{y}<extra></extra>",
         "legendgroup": "24.7M",
         "marker": {
          "color": "#FECB52",
          "pattern": {
           "shape": ""
          }
         },
         "name": "24.7M",
         "offsetgroup": "24.7M",
         "orientation": "v",
         "showlegend": true,
         "texttemplate": "%{value}",
         "type": "histogram",
         "x": [
          "Brazil",
          "Indonesia",
          "United States"
         ],
         "xaxis": "x",
         "yaxis": "y"
        },
        {
         "alignmentgroup": "True",
         "bingroup": "x",
         "hovertemplate": "Followers=32.9M<br>Audience Country=%{x}<br>count=%{y}<extra></extra>",
         "legendgroup": "32.9M",
         "marker": {
          "color": "#636efa",
          "pattern": {
           "shape": ""
          }
         },
         "name": "32.9M",
         "offsetgroup": "32.9M",
         "orientation": "v",
         "showlegend": true,
         "texttemplate": "%{value}",
         "type": "histogram",
         "x": [
          "India",
          "United States"
         ],
         "xaxis": "x",
         "yaxis": "y"
        },
        {
         "alignmentgroup": "True",
         "bingroup": "x",
         "hovertemplate": "Followers=48.9M<br>Audience Country=%{x}<br>count=%{y}<extra></extra>",
         "legendgroup": "48.9M",
         "marker": {
          "color": "#EF553B",
          "pattern": {
           "shape": ""
          }
         },
         "name": "48.9M",
         "offsetgroup": "48.9M",
         "orientation": "v",
         "showlegend": true,
         "texttemplate": "%{value}",
         "type": "histogram",
         "x": [
          "United States",
          "United States"
         ],
         "xaxis": "x",
         "yaxis": "y"
        },
        {
         "alignmentgroup": "True",
         "bingroup": "x",
         "hovertemplate": "Followers=24.2M<br>Audience Country=%{x}<br>count=%{y}<extra></extra>",
         "legendgroup": "24.2M",
         "marker": {
          "color": "#00cc96",
          "pattern": {
           "shape": ""
          }
         },
         "name": "24.2M",
         "offsetgroup": "24.2M",
         "orientation": "v",
         "showlegend": true,
         "texttemplate": "%{value}",
         "type": "histogram",
         "x": [
          "United States",
          "India"
         ],
         "xaxis": "x",
         "yaxis": "y"
        },
        {
         "alignmentgroup": "True",
         "bingroup": "x",
         "hovertemplate": "Followers=55.1M<br>Audience Country=%{x}<br>count=%{y}<extra></extra>",
         "legendgroup": "55.1M",
         "marker": {
          "color": "#ab63fa",
          "pattern": {
           "shape": ""
          }
         },
         "name": "55.1M",
         "offsetgroup": "55.1M",
         "orientation": "v",
         "showlegend": true,
         "texttemplate": "%{value}",
         "type": "histogram",
         "x": [
          "India"
         ],
         "xaxis": "x",
         "yaxis": "y"
        },
        {
         "alignmentgroup": "True",
         "bingroup": "x",
         "hovertemplate": "Followers=35.2M<br>Audience Country=%{x}<br>count=%{y}<extra></extra>",
         "legendgroup": "35.2M",
         "marker": {
          "color": "#FFA15A",
          "pattern": {
           "shape": ""
          }
         },
         "name": "35.2M",
         "offsetgroup": "35.2M",
         "orientation": "v",
         "showlegend": true,
         "texttemplate": "%{value}",
         "type": "histogram",
         "x": [
          "Mexico"
         ],
         "xaxis": "x",
         "yaxis": "y"
        },
        {
         "alignmentgroup": "True",
         "bingroup": "x",
         "hovertemplate": "Followers=49M<br>Audience Country=%{x}<br>count=%{y}<extra></extra>",
         "legendgroup": "49M",
         "marker": {
          "color": "#19d3f3",
          "pattern": {
           "shape": ""
          }
         },
         "name": "49M",
         "offsetgroup": "49M",
         "orientation": "v",
         "showlegend": true,
         "texttemplate": "%{value}",
         "type": "histogram",
         "x": [
          "Mexico"
         ],
         "xaxis": "x",
         "yaxis": "y"
        },
        {
         "alignmentgroup": "True",
         "bingroup": "x",
         "hovertemplate": "Followers=54.6M<br>Audience Country=%{x}<br>count=%{y}<extra></extra>",
         "legendgroup": "54.6M",
         "marker": {
          "color": "#FF6692",
          "pattern": {
           "shape": ""
          }
         },
         "name": "54.6M",
         "offsetgroup": "54.6M",
         "orientation": "v",
         "showlegend": true,
         "texttemplate": "%{value}",
         "type": "histogram",
         "x": [
          "Italy"
         ],
         "xaxis": "x",
         "yaxis": "y"
        },
        {
         "alignmentgroup": "True",
         "bingroup": "x",
         "hovertemplate": "Followers=51.9M<br>Audience Country=%{x}<br>count=%{y}<extra></extra>",
         "legendgroup": "51.9M",
         "marker": {
          "color": "#B6E880",
          "pattern": {
           "shape": ""
          }
         },
         "name": "51.9M",
         "offsetgroup": "51.9M",
         "orientation": "v",
         "showlegend": true,
         "texttemplate": "%{value}",
         "type": "histogram",
         "x": [
          "Egypt"
         ],
         "xaxis": "x",
         "yaxis": "y"
        },
        {
         "alignmentgroup": "True",
         "bingroup": "x",
         "hovertemplate": "Followers=22.2M<br>Audience Country=%{x}<br>count=%{y}<extra></extra>",
         "legendgroup": "22.2M",
         "marker": {
          "color": "#FF97FF",
          "pattern": {
           "shape": ""
          }
         },
         "name": "22.2M",
         "offsetgroup": "22.2M",
         "orientation": "v",
         "showlegend": true,
         "texttemplate": "%{value}",
         "type": "histogram",
         "x": [
          "Indonesia",
          "United Kingdom",
          "United Kingdom"
         ],
         "xaxis": "x",
         "yaxis": "y"
        },
        {
         "alignmentgroup": "True",
         "bingroup": "x",
         "hovertemplate": "Followers=23M<br>Audience Country=%{x}<br>count=%{y}<extra></extra>",
         "legendgroup": "23M",
         "marker": {
          "color": "#FECB52",
          "pattern": {
           "shape": ""
          }
         },
         "name": "23M",
         "offsetgroup": "23M",
         "orientation": "v",
         "showlegend": true,
         "texttemplate": "%{value}",
         "type": "histogram",
         "x": [
          "Indonesia",
          "India",
          "Brazil",
          "India"
         ],
         "xaxis": "x",
         "yaxis": "y"
        },
        {
         "alignmentgroup": "True",
         "bingroup": "x",
         "hovertemplate": "Followers=28.5M<br>Audience Country=%{x}<br>count=%{y}<extra></extra>",
         "legendgroup": "28.5M",
         "marker": {
          "color": "#636efa",
          "pattern": {
           "shape": ""
          }
         },
         "name": "28.5M",
         "offsetgroup": "28.5M",
         "orientation": "v",
         "showlegend": true,
         "texttemplate": "%{value}",
         "type": "histogram",
         "x": [
          "Turkey"
         ],
         "xaxis": "x",
         "yaxis": "y"
        },
        {
         "alignmentgroup": "True",
         "bingroup": "x",
         "hovertemplate": "Followers=30.2M<br>Audience Country=%{x}<br>count=%{y}<extra></extra>",
         "legendgroup": "30.2M",
         "marker": {
          "color": "#EF553B",
          "pattern": {
           "shape": ""
          }
         },
         "name": "30.2M",
         "offsetgroup": "30.2M",
         "orientation": "v",
         "showlegend": true,
         "texttemplate": "%{value}",
         "type": "histogram",
         "x": [
          "United States"
         ],
         "xaxis": "x",
         "yaxis": "y"
        },
        {
         "alignmentgroup": "True",
         "bingroup": "x",
         "hovertemplate": "Followers=47.7M<br>Audience Country=%{x}<br>count=%{y}<extra></extra>",
         "legendgroup": "47.7M",
         "marker": {
          "color": "#00cc96",
          "pattern": {
           "shape": ""
          }
         },
         "name": "47.7M",
         "offsetgroup": "47.7M",
         "orientation": "v",
         "showlegend": true,
         "texttemplate": "%{value}",
         "type": "histogram",
         "x": [
          "Argentina",
          "Indonesia"
         ],
         "xaxis": "x",
         "yaxis": "y"
        },
        {
         "alignmentgroup": "True",
         "bingroup": "x",
         "hovertemplate": "Followers=83.8M<br>Audience Country=%{x}<br>count=%{y}<extra></extra>",
         "legendgroup": "83.8M",
         "marker": {
          "color": "#ab63fa",
          "pattern": {
           "shape": ""
          }
         },
         "name": "83.8M",
         "offsetgroup": "83.8M",
         "orientation": "v",
         "showlegend": true,
         "texttemplate": "%{value}",
         "type": "histogram",
         "x": [
          "United States"
         ],
         "xaxis": "x",
         "yaxis": "y"
        },
        {
         "alignmentgroup": "True",
         "bingroup": "x",
         "hovertemplate": "Followers=23.3M<br>Audience Country=%{x}<br>count=%{y}<extra></extra>",
         "legendgroup": "23.3M",
         "marker": {
          "color": "#FFA15A",
          "pattern": {
           "shape": ""
          }
         },
         "name": "23.3M",
         "offsetgroup": "23.3M",
         "orientation": "v",
         "showlegend": true,
         "texttemplate": "%{value}",
         "type": "histogram",
         "x": [
          "Indonesia",
          "United States"
         ],
         "xaxis": "x",
         "yaxis": "y"
        },
        {
         "alignmentgroup": "True",
         "bingroup": "x",
         "hovertemplate": "Followers=121.8M<br>Audience Country=%{x}<br>count=%{y}<extra></extra>",
         "legendgroup": "121.8M",
         "marker": {
          "color": "#19d3f3",
          "pattern": {
           "shape": ""
          }
         },
         "name": "121.8M",
         "offsetgroup": "121.8M",
         "orientation": "v",
         "showlegend": true,
         "texttemplate": "%{value}",
         "type": "histogram",
         "x": [
          "Spain"
         ],
         "xaxis": "x",
         "yaxis": "y"
        },
        {
         "alignmentgroup": "True",
         "bingroup": "x",
         "hovertemplate": "Followers=21.6M<br>Audience Country=%{x}<br>count=%{y}<extra></extra>",
         "legendgroup": "21.6M",
         "marker": {
          "color": "#FF6692",
          "pattern": {
           "shape": ""
          }
         },
         "name": "21.6M",
         "offsetgroup": "21.6M",
         "orientation": "v",
         "showlegend": true,
         "texttemplate": "%{value}",
         "type": "histogram",
         "x": [
          "Brazil",
          "Turkey"
         ],
         "xaxis": "x",
         "yaxis": "y"
        },
        {
         "alignmentgroup": "True",
         "bingroup": "x",
         "hovertemplate": "Followers=29M<br>Audience Country=%{x}<br>count=%{y}<extra></extra>",
         "legendgroup": "29M",
         "marker": {
          "color": "#B6E880",
          "pattern": {
           "shape": ""
          }
         },
         "name": "29M",
         "offsetgroup": "29M",
         "orientation": "v",
         "showlegend": true,
         "texttemplate": "%{value}",
         "type": "histogram",
         "x": [
          "Brazil",
          "Brazil"
         ],
         "xaxis": "x",
         "yaxis": "y"
        },
        {
         "alignmentgroup": "True",
         "bingroup": "x",
         "hovertemplate": "Followers=115.1M<br>Audience Country=%{x}<br>count=%{y}<extra></extra>",
         "legendgroup": "115.1M",
         "marker": {
          "color": "#FF97FF",
          "pattern": {
           "shape": ""
          }
         },
         "name": "115.1M",
         "offsetgroup": "115.1M",
         "orientation": "v",
         "showlegend": true,
         "texttemplate": "%{value}",
         "type": "histogram",
         "x": [
          "United States"
         ],
         "xaxis": "x",
         "yaxis": "y"
        },
        {
         "alignmentgroup": "True",
         "bingroup": "x",
         "hovertemplate": "Followers=110M<br>Audience Country=%{x}<br>count=%{y}<extra></extra>",
         "legendgroup": "110M",
         "marker": {
          "color": "#FECB52",
          "pattern": {
           "shape": ""
          }
         },
         "name": "110M",
         "offsetgroup": "110M",
         "orientation": "v",
         "showlegend": true,
         "texttemplate": "%{value}",
         "type": "histogram",
         "x": [
          "Indonesia"
         ],
         "xaxis": "x",
         "yaxis": "y"
        },
        {
         "alignmentgroup": "True",
         "bingroup": "x",
         "hovertemplate": "Followers=30M<br>Audience Country=%{x}<br>count=%{y}<extra></extra>",
         "legendgroup": "30M",
         "marker": {
          "color": "#636efa",
          "pattern": {
           "shape": ""
          }
         },
         "name": "30M",
         "offsetgroup": "30M",
         "orientation": "v",
         "showlegend": true,
         "texttemplate": "%{value}",
         "type": "histogram",
         "x": [
          "India"
         ],
         "xaxis": "x",
         "yaxis": "y"
        },
        {
         "alignmentgroup": "True",
         "bingroup": "x",
         "hovertemplate": "Followers=136.3M<br>Audience Country=%{x}<br>count=%{y}<extra></extra>",
         "legendgroup": "136.3M",
         "marker": {
          "color": "#EF553B",
          "pattern": {
           "shape": ""
          }
         },
         "name": "136.3M",
         "offsetgroup": "136.3M",
         "orientation": "v",
         "showlegend": true,
         "texttemplate": "%{value}",
         "type": "histogram",
         "x": [
          "United States"
         ],
         "xaxis": "x",
         "yaxis": "y"
        },
        {
         "alignmentgroup": "True",
         "bingroup": "x",
         "hovertemplate": "Followers=32.3M<br>Audience Country=%{x}<br>count=%{y}<extra></extra>",
         "legendgroup": "32.3M",
         "marker": {
          "color": "#00cc96",
          "pattern": {
           "shape": ""
          }
         },
         "name": "32.3M",
         "offsetgroup": "32.3M",
         "orientation": "v",
         "showlegend": true,
         "texttemplate": "%{value}",
         "type": "histogram",
         "x": [
          "India",
          "Mexico",
          "India",
          "United States"
         ],
         "xaxis": "x",
         "yaxis": "y"
        },
        {
         "alignmentgroup": "True",
         "bingroup": "x",
         "hovertemplate": "Followers=52.1M<br>Audience Country=%{x}<br>count=%{y}<extra></extra>",
         "legendgroup": "52.1M",
         "marker": {
          "color": "#ab63fa",
          "pattern": {
           "shape": ""
          }
         },
         "name": "52.1M",
         "offsetgroup": "52.1M",
         "orientation": "v",
         "showlegend": true,
         "texttemplate": "%{value}",
         "type": "histogram",
         "x": [
          "India"
         ],
         "xaxis": "x",
         "yaxis": "y"
        },
        {
         "alignmentgroup": "True",
         "bingroup": "x",
         "hovertemplate": "Followers=14.4M<br>Audience Country=%{x}<br>count=%{y}<extra></extra>",
         "legendgroup": "14.4M",
         "marker": {
          "color": "#FFA15A",
          "pattern": {
           "shape": ""
          }
         },
         "name": "14.4M",
         "offsetgroup": "14.4M",
         "orientation": "v",
         "showlegend": true,
         "texttemplate": "%{value}",
         "type": "histogram",
         "x": [
          "Mexico",
          "Indonesia",
          "Indonesia",
          "Brazil",
          "United Arab Emirates",
          "India"
         ],
         "xaxis": "x",
         "yaxis": "y"
        },
        {
         "alignmentgroup": "True",
         "bingroup": "x",
         "hovertemplate": "Followers=28.9M<br>Audience Country=%{x}<br>count=%{y}<extra></extra>",
         "legendgroup": "28.9M",
         "marker": {
          "color": "#19d3f3",
          "pattern": {
           "shape": ""
          }
         },
         "name": "28.9M",
         "offsetgroup": "28.9M",
         "orientation": "v",
         "showlegend": true,
         "texttemplate": "%{value}",
         "type": "histogram",
         "x": [
          "China"
         ],
         "xaxis": "x",
         "yaxis": "y"
        },
        {
         "alignmentgroup": "True",
         "bingroup": "x",
         "hovertemplate": "Followers=67.8M<br>Audience Country=%{x}<br>count=%{y}<extra></extra>",
         "legendgroup": "67.8M",
         "marker": {
          "color": "#FF6692",
          "pattern": {
           "shape": ""
          }
         },
         "name": "67.8M",
         "offsetgroup": "67.8M",
         "orientation": "v",
         "showlegend": true,
         "texttemplate": "%{value}",
         "type": "histogram",
         "x": [
          "India"
         ],
         "xaxis": "x",
         "yaxis": "y"
        },
        {
         "alignmentgroup": "True",
         "bingroup": "x",
         "hovertemplate": "Followers=34.5M<br>Audience Country=%{x}<br>count=%{y}<extra></extra>",
         "legendgroup": "34.5M",
         "marker": {
          "color": "#B6E880",
          "pattern": {
           "shape": ""
          }
         },
         "name": "34.5M",
         "offsetgroup": "34.5M",
         "orientation": "v",
         "showlegend": true,
         "texttemplate": "%{value}",
         "type": "histogram",
         "x": [
          "Mexico"
         ],
         "xaxis": "x",
         "yaxis": "y"
        },
        {
         "alignmentgroup": "True",
         "bingroup": "x",
         "hovertemplate": "Followers=45.9M<br>Audience Country=%{x}<br>count=%{y}<extra></extra>",
         "legendgroup": "45.9M",
         "marker": {
          "color": "#FF97FF",
          "pattern": {
           "shape": ""
          }
         },
         "name": "45.9M",
         "offsetgroup": "45.9M",
         "orientation": "v",
         "showlegend": true,
         "texttemplate": "%{value}",
         "type": "histogram",
         "x": [
          "United States"
         ],
         "xaxis": "x",
         "yaxis": "y"
        },
        {
         "alignmentgroup": "True",
         "bingroup": "x",
         "hovertemplate": "Followers=55.9M<br>Audience Country=%{x}<br>count=%{y}<extra></extra>",
         "legendgroup": "55.9M",
         "marker": {
          "color": "#FECB52",
          "pattern": {
           "shape": ""
          }
         },
         "name": "55.9M",
         "offsetgroup": "55.9M",
         "orientation": "v",
         "showlegend": true,
         "texttemplate": "%{value}",
         "type": "histogram",
         "x": [
          "France"
         ],
         "xaxis": "x",
         "yaxis": "y"
        },
        {
         "alignmentgroup": "True",
         "bingroup": "x",
         "hovertemplate": "Followers=53.9M<br>Audience Country=%{x}<br>count=%{y}<extra></extra>",
         "legendgroup": "53.9M",
         "marker": {
          "color": "#636efa",
          "pattern": {
           "shape": ""
          }
         },
         "name": "53.9M",
         "offsetgroup": "53.9M",
         "orientation": "v",
         "showlegend": true,
         "texttemplate": "%{value}",
         "type": "histogram",
         "x": [
          "United States"
         ],
         "xaxis": "x",
         "yaxis": "y"
        },
        {
         "alignmentgroup": "True",
         "bingroup": "x",
         "hovertemplate": "Followers=20M<br>Audience Country=%{x}<br>count=%{y}<extra></extra>",
         "legendgroup": "20M",
         "marker": {
          "color": "#EF553B",
          "pattern": {
           "shape": ""
          }
         },
         "name": "20M",
         "offsetgroup": "20M",
         "orientation": "v",
         "showlegend": true,
         "texttemplate": "%{value}",
         "type": "histogram",
         "x": [
          "Argentina",
          "Brazil",
          "Russia"
         ],
         "xaxis": "x",
         "yaxis": "y"
        },
        {
         "alignmentgroup": "True",
         "bingroup": "x",
         "hovertemplate": "Followers=21.9M<br>Audience Country=%{x}<br>count=%{y}<extra></extra>",
         "legendgroup": "21.9M",
         "marker": {
          "color": "#00cc96",
          "pattern": {
           "shape": ""
          }
         },
         "name": "21.9M",
         "offsetgroup": "21.9M",
         "orientation": "v",
         "showlegend": true,
         "texttemplate": "%{value}",
         "type": "histogram",
         "x": [
          "Indonesia",
          "United States"
         ],
         "xaxis": "x",
         "yaxis": "y"
        },
        {
         "alignmentgroup": "True",
         "bingroup": "x",
         "hovertemplate": "Followers=9.6M<br>Audience Country=%{x}<br>count=%{y}<extra></extra>",
         "legendgroup": "9.6M",
         "marker": {
          "color": "#ab63fa",
          "pattern": {
           "shape": ""
          }
         },
         "name": "9.6M",
         "offsetgroup": "9.6M",
         "orientation": "v",
         "showlegend": true,
         "texttemplate": "%{value}",
         "type": "histogram",
         "x": [
          "India",
          "United States",
          "United States",
          "United Kingdom",
          "India",
          "Brazil",
          "Indonesia",
          "Indonesia",
          "Spain"
         ],
         "xaxis": "x",
         "yaxis": "y"
        },
        {
         "alignmentgroup": "True",
         "bingroup": "x",
         "hovertemplate": "Followers=17M<br>Audience Country=%{x}<br>count=%{y}<extra></extra>",
         "legendgroup": "17M",
         "marker": {
          "color": "#FFA15A",
          "pattern": {
           "shape": ""
          }
         },
         "name": "17M",
         "offsetgroup": "17M",
         "orientation": "v",
         "showlegend": true,
         "texttemplate": "%{value}",
         "type": "histogram",
         "x": [
          "United States",
          "Mexico",
          "Brazil",
          "United States"
         ],
         "xaxis": "x",
         "yaxis": "y"
        },
        {
         "alignmentgroup": "True",
         "bingroup": "x",
         "hovertemplate": "Followers=26.1M<br>Audience Country=%{x}<br>count=%{y}<extra></extra>",
         "legendgroup": "26.1M",
         "marker": {
          "color": "#19d3f3",
          "pattern": {
           "shape": ""
          }
         },
         "name": "26.1M",
         "offsetgroup": "26.1M",
         "orientation": "v",
         "showlegend": true,
         "texttemplate": "%{value}",
         "type": "histogram",
         "x": [
          "Indonesia"
         ],
         "xaxis": "x",
         "yaxis": "y"
        },
        {
         "alignmentgroup": "True",
         "bingroup": "x",
         "hovertemplate": "Followers=80.2M<br>Audience Country=%{x}<br>count=%{y}<extra></extra>",
         "legendgroup": "80.2M",
         "marker": {
          "color": "#FF6692",
          "pattern": {
           "shape": ""
          }
         },
         "name": "80.2M",
         "offsetgroup": "80.2M",
         "orientation": "v",
         "showlegend": true,
         "texttemplate": "%{value}",
         "type": "histogram",
         "x": [
          "India"
         ],
         "xaxis": "x",
         "yaxis": "y"
        },
        {
         "alignmentgroup": "True",
         "bingroup": "x",
         "hovertemplate": "Followers=24.1M<br>Audience Country=%{x}<br>count=%{y}<extra></extra>",
         "legendgroup": "24.1M",
         "marker": {
          "color": "#B6E880",
          "pattern": {
           "shape": ""
          }
         },
         "name": "24.1M",
         "offsetgroup": "24.1M",
         "orientation": "v",
         "showlegend": true,
         "texttemplate": "%{value}",
         "type": "histogram",
         "x": [
          "Brazil"
         ],
         "xaxis": "x",
         "yaxis": "y"
        },
        {
         "alignmentgroup": "True",
         "bingroup": "x",
         "hovertemplate": "Followers=40.7M<br>Audience Country=%{x}<br>count=%{y}<extra></extra>",
         "legendgroup": "40.7M",
         "marker": {
          "color": "#FF97FF",
          "pattern": {
           "shape": ""
          }
         },
         "name": "40.7M",
         "offsetgroup": "40.7M",
         "orientation": "v",
         "showlegend": true,
         "texttemplate": "%{value}",
         "type": "histogram",
         "x": [
          "Brazil",
          "India"
         ],
         "xaxis": "x",
         "yaxis": "y"
        },
        {
         "alignmentgroup": "True",
         "bingroup": "x",
         "hovertemplate": "Followers=14.3M<br>Audience Country=%{x}<br>count=%{y}<extra></extra>",
         "legendgroup": "14.3M",
         "marker": {
          "color": "#FECB52",
          "pattern": {
           "shape": ""
          }
         },
         "name": "14.3M",
         "offsetgroup": "14.3M",
         "orientation": "v",
         "showlegend": true,
         "texttemplate": "%{value}",
         "type": "histogram",
         "x": [
          "South Korea",
          "Argentina",
          "Indonesia"
         ],
         "xaxis": "x",
         "yaxis": "y"
        },
        {
         "alignmentgroup": "True",
         "bingroup": "x",
         "hovertemplate": "Followers=40.4M<br>Audience Country=%{x}<br>count=%{y}<extra></extra>",
         "legendgroup": "40.4M",
         "marker": {
          "color": "#636efa",
          "pattern": {
           "shape": ""
          }
         },
         "name": "40.4M",
         "offsetgroup": "40.4M",
         "orientation": "v",
         "showlegend": true,
         "texttemplate": "%{value}",
         "type": "histogram",
         "x": [
          "United States"
         ],
         "xaxis": "x",
         "yaxis": "y"
        },
        {
         "alignmentgroup": "True",
         "bingroup": "x",
         "hovertemplate": "Followers=227.6M<br>Audience Country=%{x}<br>count=%{y}<extra></extra>",
         "legendgroup": "227.6M",
         "marker": {
          "color": "#EF553B",
          "pattern": {
           "shape": ""
          }
         },
         "name": "227.6M",
         "offsetgroup": "227.6M",
         "orientation": "v",
         "showlegend": true,
         "texttemplate": "%{value}",
         "type": "histogram",
         "x": [
          "United States"
         ],
         "xaxis": "x",
         "yaxis": "y"
        },
        {
         "alignmentgroup": "True",
         "bingroup": "x",
         "hovertemplate": "Followers=24.6M<br>Audience Country=%{x}<br>count=%{y}<extra></extra>",
         "legendgroup": "24.6M",
         "marker": {
          "color": "#00cc96",
          "pattern": {
           "shape": ""
          }
         },
         "name": "24.6M",
         "offsetgroup": "24.6M",
         "orientation": "v",
         "showlegend": true,
         "texttemplate": "%{value}",
         "type": "histogram",
         "x": [
          "Brazil",
          "Brazil",
          "India",
          "Nigeria"
         ],
         "xaxis": "x",
         "yaxis": "y"
        },
        {
         "alignmentgroup": "True",
         "bingroup": "x",
         "hovertemplate": "Followers=25.4M<br>Audience Country=%{x}<br>count=%{y}<extra></extra>",
         "legendgroup": "25.4M",
         "marker": {
          "color": "#ab63fa",
          "pattern": {
           "shape": ""
          }
         },
         "name": "25.4M",
         "offsetgroup": "25.4M",
         "orientation": "v",
         "showlegend": true,
         "texttemplate": "%{value}",
         "type": "histogram",
         "x": [
          "Russia",
          "United States"
         ],
         "xaxis": "x",
         "yaxis": "y"
        },
        {
         "alignmentgroup": "True",
         "bingroup": "x",
         "hovertemplate": "Followers=27.8M<br>Audience Country=%{x}<br>count=%{y}<extra></extra>",
         "legendgroup": "27.8M",
         "marker": {
          "color": "#FFA15A",
          "pattern": {
           "shape": ""
          }
         },
         "name": "27.8M",
         "offsetgroup": "27.8M",
         "orientation": "v",
         "showlegend": true,
         "texttemplate": "%{value}",
         "type": "histogram",
         "x": [
          "India",
          "India"
         ],
         "xaxis": "x",
         "yaxis": "y"
        },
        {
         "alignmentgroup": "True",
         "bingroup": "x",
         "hovertemplate": "Followers=43.3M<br>Audience Country=%{x}<br>count=%{y}<extra></extra>",
         "legendgroup": "43.3M",
         "marker": {
          "color": "#19d3f3",
          "pattern": {
           "shape": ""
          }
         },
         "name": "43.3M",
         "offsetgroup": "43.3M",
         "orientation": "v",
         "showlegend": true,
         "texttemplate": "%{value}",
         "type": "histogram",
         "x": [
          "India"
         ],
         "xaxis": "x",
         "yaxis": "y"
        },
        {
         "alignmentgroup": "True",
         "bingroup": "x",
         "hovertemplate": "Followers=167.2M<br>Audience Country=%{x}<br>count=%{y}<extra></extra>",
         "legendgroup": "167.2M",
         "marker": {
          "color": "#FF6692",
          "pattern": {
           "shape": ""
          }
         },
         "name": "167.2M",
         "offsetgroup": "167.2M",
         "orientation": "v",
         "showlegend": true,
         "texttemplate": "%{value}",
         "type": "histogram",
         "x": [
          "Brazil"
         ],
         "xaxis": "x",
         "yaxis": "y"
        },
        {
         "alignmentgroup": "True",
         "bingroup": "x",
         "hovertemplate": "Followers=20.4M<br>Audience Country=%{x}<br>count=%{y}<extra></extra>",
         "legendgroup": "20.4M",
         "marker": {
          "color": "#B6E880",
          "pattern": {
           "shape": ""
          }
         },
         "name": "20.4M",
         "offsetgroup": "20.4M",
         "orientation": "v",
         "showlegend": true,
         "texttemplate": "%{value}",
         "type": "histogram",
         "x": [
          "United States",
          "Brazil",
          "India"
         ],
         "xaxis": "x",
         "yaxis": "y"
        },
        {
         "alignmentgroup": "True",
         "bingroup": "x",
         "hovertemplate": "Followers=81.7M<br>Audience Country=%{x}<br>count=%{y}<extra></extra>",
         "legendgroup": "81.7M",
         "marker": {
          "color": "#FF97FF",
          "pattern": {
           "shape": ""
          }
         },
         "name": "81.7M",
         "offsetgroup": "81.7M",
         "orientation": "v",
         "showlegend": true,
         "texttemplate": "%{value}",
         "type": "histogram",
         "x": [
          "Brazil"
         ],
         "xaxis": "x",
         "yaxis": "y"
        },
        {
         "alignmentgroup": "True",
         "bingroup": "x",
         "hovertemplate": "Followers=42M<br>Audience Country=%{x}<br>count=%{y}<extra></extra>",
         "legendgroup": "42M",
         "marker": {
          "color": "#FECB52",
          "pattern": {
           "shape": ""
          }
         },
         "name": "42M",
         "offsetgroup": "42M",
         "orientation": "v",
         "showlegend": true,
         "texttemplate": "%{value}",
         "type": "histogram",
         "x": [
          "India"
         ],
         "xaxis": "x",
         "yaxis": "y"
        },
        {
         "alignmentgroup": "True",
         "bingroup": "x",
         "hovertemplate": "Followers=62.6M<br>Audience Country=%{x}<br>count=%{y}<extra></extra>",
         "legendgroup": "62.6M",
         "marker": {
          "color": "#636efa",
          "pattern": {
           "shape": ""
          }
         },
         "name": "62.6M",
         "offsetgroup": "62.6M",
         "orientation": "v",
         "showlegend": true,
         "texttemplate": "%{value}",
         "type": "histogram",
         "x": [
          "India"
         ],
         "xaxis": "x",
         "yaxis": "y"
        },
        {
         "alignmentgroup": "True",
         "bingroup": "x",
         "hovertemplate": "Followers=35.4M<br>Audience Country=%{x}<br>count=%{y}<extra></extra>",
         "legendgroup": "35.4M",
         "marker": {
          "color": "#EF553B",
          "pattern": {
           "shape": ""
          }
         },
         "name": "35.4M",
         "offsetgroup": "35.4M",
         "orientation": "v",
         "showlegend": true,
         "texttemplate": "%{value}",
         "type": "histogram",
         "x": [
          "United States",
          "India",
          "United States"
         ],
         "xaxis": "x",
         "yaxis": "y"
        },
        {
         "alignmentgroup": "True",
         "bingroup": "x",
         "hovertemplate": "Followers=12.1M<br>Audience Country=%{x}<br>count=%{y}<extra></extra>",
         "legendgroup": "12.1M",
         "marker": {
          "color": "#00cc96",
          "pattern": {
           "shape": ""
          }
         },
         "name": "12.1M",
         "offsetgroup": "12.1M",
         "orientation": "v",
         "showlegend": true,
         "texttemplate": "%{value}",
         "type": "histogram",
         "x": [
          "Indonesia",
          "United States",
          "United States"
         ],
         "xaxis": "x",
         "yaxis": "y"
        },
        {
         "alignmentgroup": "True",
         "bingroup": "x",
         "hovertemplate": "Followers=53.1M<br>Audience Country=%{x}<br>count=%{y}<extra></extra>",
         "legendgroup": "53.1M",
         "marker": {
          "color": "#ab63fa",
          "pattern": {
           "shape": ""
          }
         },
         "name": "53.1M",
         "offsetgroup": "53.1M",
         "orientation": "v",
         "showlegend": true,
         "texttemplate": "%{value}",
         "type": "histogram",
         "x": [
          "United States",
          "India"
         ],
         "xaxis": "x",
         "yaxis": "y"
        },
        {
         "alignmentgroup": "True",
         "bingroup": "x",
         "hovertemplate": "Followers=49.7M<br>Audience Country=%{x}<br>count=%{y}<extra></extra>",
         "legendgroup": "49.7M",
         "marker": {
          "color": "#FFA15A",
          "pattern": {
           "shape": ""
          }
         },
         "name": "49.7M",
         "offsetgroup": "49.7M",
         "orientation": "v",
         "showlegend": true,
         "texttemplate": "%{value}",
         "type": "histogram",
         "x": [
          "India"
         ],
         "xaxis": "x",
         "yaxis": "y"
        },
        {
         "alignmentgroup": "True",
         "bingroup": "x",
         "hovertemplate": "Followers=23.4M<br>Audience Country=%{x}<br>count=%{y}<extra></extra>",
         "legendgroup": "23.4M",
         "marker": {
          "color": "#19d3f3",
          "pattern": {
           "shape": ""
          }
         },
         "name": "23.4M",
         "offsetgroup": "23.4M",
         "orientation": "v",
         "showlegend": true,
         "texttemplate": "%{value}",
         "type": "histogram",
         "x": [
          "South Korea",
          "United States"
         ],
         "xaxis": "x",
         "yaxis": "y"
        },
        {
         "alignmentgroup": "True",
         "bingroup": "x",
         "hovertemplate": "Followers=19M<br>Audience Country=%{x}<br>count=%{y}<extra></extra>",
         "legendgroup": "19M",
         "marker": {
          "color": "#FF6692",
          "pattern": {
           "shape": ""
          }
         },
         "name": "19M",
         "offsetgroup": "19M",
         "orientation": "v",
         "showlegend": true,
         "texttemplate": "%{value}",
         "type": "histogram",
         "x": [
          "United States",
          "Brazil",
          "United States"
         ],
         "xaxis": "x",
         "yaxis": "y"
        },
        {
         "alignmentgroup": "True",
         "bingroup": "x",
         "hovertemplate": "Followers=20.9M<br>Audience Country=%{x}<br>count=%{y}<extra></extra>",
         "legendgroup": "20.9M",
         "marker": {
          "color": "#B6E880",
          "pattern": {
           "shape": ""
          }
         },
         "name": "20.9M",
         "offsetgroup": "20.9M",
         "orientation": "v",
         "showlegend": true,
         "texttemplate": "%{value}",
         "type": "histogram",
         "x": [
          "Spain",
          "Indonesia",
          "Brazil"
         ],
         "xaxis": "x",
         "yaxis": "y"
        },
        {
         "alignmentgroup": "True",
         "bingroup": "x",
         "hovertemplate": "Followers=75.6M<br>Audience Country=%{x}<br>count=%{y}<extra></extra>",
         "legendgroup": "75.6M",
         "marker": {
          "color": "#FF97FF",
          "pattern": {
           "shape": ""
          }
         },
         "name": "75.6M",
         "offsetgroup": "75.6M",
         "orientation": "v",
         "showlegend": true,
         "texttemplate": "%{value}",
         "type": "histogram",
         "x": [
          "India"
         ],
         "xaxis": "x",
         "yaxis": "y"
        },
        {
         "alignmentgroup": "True",
         "bingroup": "x",
         "hovertemplate": "Followers=43.5M<br>Audience Country=%{x}<br>count=%{y}<extra></extra>",
         "legendgroup": "43.5M",
         "marker": {
          "color": "#FECB52",
          "pattern": {
           "shape": ""
          }
         },
         "name": "43.5M",
         "offsetgroup": "43.5M",
         "orientation": "v",
         "showlegend": true,
         "texttemplate": "%{value}",
         "type": "histogram",
         "x": [
          "India"
         ],
         "xaxis": "x",
         "yaxis": "y"
        },
        {
         "alignmentgroup": "True",
         "bingroup": "x",
         "hovertemplate": "Followers=12.6M<br>Audience Country=%{x}<br>count=%{y}<extra></extra>",
         "legendgroup": "12.6M",
         "marker": {
          "color": "#636efa",
          "pattern": {
           "shape": ""
          }
         },
         "name": "12.6M",
         "offsetgroup": "12.6M",
         "orientation": "v",
         "showlegend": true,
         "texttemplate": "%{value}",
         "type": "histogram",
         "x": [
          "United States",
          "India"
         ],
         "xaxis": "x",
         "yaxis": "y"
        },
        {
         "alignmentgroup": "True",
         "bingroup": "x",
         "hovertemplate": "Followers=73.4M<br>Audience Country=%{x}<br>count=%{y}<extra></extra>",
         "legendgroup": "73.4M",
         "marker": {
          "color": "#EF553B",
          "pattern": {
           "shape": ""
          }
         },
         "name": "73.4M",
         "offsetgroup": "73.4M",
         "orientation": "v",
         "showlegend": true,
         "texttemplate": "%{value}",
         "type": "histogram",
         "x": [
          "India"
         ],
         "xaxis": "x",
         "yaxis": "y"
        },
        {
         "alignmentgroup": "True",
         "bingroup": "x",
         "hovertemplate": "Followers=21.3M<br>Audience Country=%{x}<br>count=%{y}<extra></extra>",
         "legendgroup": "21.3M",
         "marker": {
          "color": "#00cc96",
          "pattern": {
           "shape": ""
          }
         },
         "name": "21.3M",
         "offsetgroup": "21.3M",
         "orientation": "v",
         "showlegend": true,
         "texttemplate": "%{value}",
         "type": "histogram",
         "x": [
          "Brazil",
          "Brazil",
          "United States"
         ],
         "xaxis": "x",
         "yaxis": "y"
        },
        {
         "alignmentgroup": "True",
         "bingroup": "x",
         "hovertemplate": "Followers=29.5M<br>Audience Country=%{x}<br>count=%{y}<extra></extra>",
         "legendgroup": "29.5M",
         "marker": {
          "color": "#ab63fa",
          "pattern": {
           "shape": ""
          }
         },
         "name": "29.5M",
         "offsetgroup": "29.5M",
         "orientation": "v",
         "showlegend": true,
         "texttemplate": "%{value}",
         "type": "histogram",
         "x": [
          "United States",
          "Brazil"
         ],
         "xaxis": "x",
         "yaxis": "y"
        },
        {
         "alignmentgroup": "True",
         "bingroup": "x",
         "hovertemplate": "Followers=16.8M<br>Audience Country=%{x}<br>count=%{y}<extra></extra>",
         "legendgroup": "16.8M",
         "marker": {
          "color": "#FFA15A",
          "pattern": {
           "shape": ""
          }
         },
         "name": "16.8M",
         "offsetgroup": "16.8M",
         "orientation": "v",
         "showlegend": true,
         "texttemplate": "%{value}",
         "type": "histogram",
         "x": [
          "United States",
          "United States",
          "United States",
          "Brazil"
         ],
         "xaxis": "x",
         "yaxis": "y"
        },
        {
         "alignmentgroup": "True",
         "bingroup": "x",
         "hovertemplate": "Followers=41.6M<br>Audience Country=%{x}<br>count=%{y}<extra></extra>",
         "legendgroup": "41.6M",
         "marker": {
          "color": "#19d3f3",
          "pattern": {
           "shape": ""
          }
         },
         "name": "41.6M",
         "offsetgroup": "41.6M",
         "orientation": "v",
         "showlegend": true,
         "texttemplate": "%{value}",
         "type": "histogram",
         "x": [
          "United States"
         ],
         "xaxis": "x",
         "yaxis": "y"
        },
        {
         "alignmentgroup": "True",
         "bingroup": "x",
         "hovertemplate": "Followers=62.7M<br>Audience Country=%{x}<br>count=%{y}<extra></extra>",
         "legendgroup": "62.7M",
         "marker": {
          "color": "#FF6692",
          "pattern": {
           "shape": ""
          }
         },
         "name": "62.7M",
         "offsetgroup": "62.7M",
         "orientation": "v",
         "showlegend": true,
         "texttemplate": "%{value}",
         "type": "histogram",
         "x": [
          "Italy"
         ],
         "xaxis": "x",
         "yaxis": "y"
        },
        {
         "alignmentgroup": "True",
         "bingroup": "x",
         "hovertemplate": "Followers=53M<br>Audience Country=%{x}<br>count=%{y}<extra></extra>",
         "legendgroup": "53M",
         "marker": {
          "color": "#B6E880",
          "pattern": {
           "shape": ""
          }
         },
         "name": "53M",
         "offsetgroup": "53M",
         "orientation": "v",
         "showlegend": true,
         "texttemplate": "%{value}",
         "type": "histogram",
         "x": [
          "India",
          "India"
         ],
         "xaxis": "x",
         "yaxis": "y"
        },
        {
         "alignmentgroup": "True",
         "bingroup": "x",
         "hovertemplate": "Followers=232.2M<br>Audience Country=%{x}<br>count=%{y}<extra></extra>",
         "legendgroup": "232.2M",
         "marker": {
          "color": "#FF97FF",
          "pattern": {
           "shape": ""
          }
         },
         "name": "232.2M",
         "offsetgroup": "232.2M",
         "orientation": "v",
         "showlegend": true,
         "texttemplate": "%{value}",
         "type": "histogram",
         "x": [
          "United States"
         ],
         "xaxis": "x",
         "yaxis": "y"
        },
        {
         "alignmentgroup": "True",
         "bingroup": "x",
         "hovertemplate": "Followers=31.8M<br>Audience Country=%{x}<br>count=%{y}<extra></extra>",
         "legendgroup": "31.8M",
         "marker": {
          "color": "#FECB52",
          "pattern": {
           "shape": ""
          }
         },
         "name": "31.8M",
         "offsetgroup": "31.8M",
         "orientation": "v",
         "showlegend": true,
         "texttemplate": "%{value}",
         "type": "histogram",
         "x": [
          "United States",
          "United States",
          "Brazil"
         ],
         "xaxis": "x",
         "yaxis": "y"
        },
        {
         "alignmentgroup": "True",
         "bingroup": "x",
         "hovertemplate": "Followers=62.2M<br>Audience Country=%{x}<br>count=%{y}<extra></extra>",
         "legendgroup": "62.2M",
         "marker": {
          "color": "#636efa",
          "pattern": {
           "shape": ""
          }
         },
         "name": "62.2M",
         "offsetgroup": "62.2M",
         "orientation": "v",
         "showlegend": true,
         "texttemplate": "%{value}",
         "type": "histogram",
         "x": [
          "India"
         ],
         "xaxis": "x",
         "yaxis": "y"
        },
        {
         "alignmentgroup": "True",
         "bingroup": "x",
         "hovertemplate": "Followers=47.8M<br>Audience Country=%{x}<br>count=%{y}<extra></extra>",
         "legendgroup": "47.8M",
         "marker": {
          "color": "#EF553B",
          "pattern": {
           "shape": ""
          }
         },
         "name": "47.8M",
         "offsetgroup": "47.8M",
         "orientation": "v",
         "showlegend": true,
         "texttemplate": "%{value}",
         "type": "histogram",
         "x": [
          "Spain"
         ],
         "xaxis": "x",
         "yaxis": "y"
        },
        {
         "alignmentgroup": "True",
         "bingroup": "x",
         "hovertemplate": "Followers=41.2M<br>Audience Country=%{x}<br>count=%{y}<extra></extra>",
         "legendgroup": "41.2M",
         "marker": {
          "color": "#00cc96",
          "pattern": {
           "shape": ""
          }
         },
         "name": "41.2M",
         "offsetgroup": "41.2M",
         "orientation": "v",
         "showlegend": true,
         "texttemplate": "%{value}",
         "type": "histogram",
         "x": [
          "India"
         ],
         "xaxis": "x",
         "yaxis": "y"
        },
        {
         "alignmentgroup": "True",
         "bingroup": "x",
         "hovertemplate": "Followers=27.4M<br>Audience Country=%{x}<br>count=%{y}<extra></extra>",
         "legendgroup": "27.4M",
         "marker": {
          "color": "#ab63fa",
          "pattern": {
           "shape": ""
          }
         },
         "name": "27.4M",
         "offsetgroup": "27.4M",
         "orientation": "v",
         "showlegend": true,
         "texttemplate": "%{value}",
         "type": "histogram",
         "x": [
          "Brazil",
          "Brazil",
          "Brazil"
         ],
         "xaxis": "x",
         "yaxis": "y"
        },
        {
         "alignmentgroup": "True",
         "bingroup": "x",
         "hovertemplate": "Followers=57.2M<br>Audience Country=%{x}<br>count=%{y}<extra></extra>",
         "legendgroup": "57.2M",
         "marker": {
          "color": "#FFA15A",
          "pattern": {
           "shape": ""
          }
         },
         "name": "57.2M",
         "offsetgroup": "57.2M",
         "orientation": "v",
         "showlegend": true,
         "texttemplate": "%{value}",
         "type": "histogram",
         "x": [
          "Spain"
         ],
         "xaxis": "x",
         "yaxis": "y"
        },
        {
         "alignmentgroup": "True",
         "bingroup": "x",
         "hovertemplate": "Followers=23.6M<br>Audience Country=%{x}<br>count=%{y}<extra></extra>",
         "legendgroup": "23.6M",
         "marker": {
          "color": "#19d3f3",
          "pattern": {
           "shape": ""
          }
         },
         "name": "23.6M",
         "offsetgroup": "23.6M",
         "orientation": "v",
         "showlegend": true,
         "texttemplate": "%{value}",
         "type": "histogram",
         "x": [
          "India"
         ],
         "xaxis": "x",
         "yaxis": "y"
        },
        {
         "alignmentgroup": "True",
         "bingroup": "x",
         "hovertemplate": "Followers=30.7M<br>Audience Country=%{x}<br>count=%{y}<extra></extra>",
         "legendgroup": "30.7M",
         "marker": {
          "color": "#FF6692",
          "pattern": {
           "shape": ""
          }
         },
         "name": "30.7M",
         "offsetgroup": "30.7M",
         "orientation": "v",
         "showlegend": true,
         "texttemplate": "%{value}",
         "type": "histogram",
         "x": [
          "Iran",
          "India"
         ],
         "xaxis": "x",
         "yaxis": "y"
        },
        {
         "alignmentgroup": "True",
         "bingroup": "x",
         "hovertemplate": "Followers=16M<br>Audience Country=%{x}<br>count=%{y}<extra></extra>",
         "legendgroup": "16M",
         "marker": {
          "color": "#B6E880",
          "pattern": {
           "shape": ""
          }
         },
         "name": "16M",
         "offsetgroup": "16M",
         "orientation": "v",
         "showlegend": true,
         "texttemplate": "%{value}",
         "type": "histogram",
         "x": [
          "India",
          "Brazil",
          "Brazil",
          "India",
          "India",
          "Brazil"
         ],
         "xaxis": "x",
         "yaxis": "y"
        },
        {
         "alignmentgroup": "True",
         "bingroup": "x",
         "hovertemplate": "Followers=29.1M<br>Audience Country=%{x}<br>count=%{y}<extra></extra>",
         "legendgroup": "29.1M",
         "marker": {
          "color": "#FF97FF",
          "pattern": {
           "shape": ""
          }
         },
         "name": "29.1M",
         "offsetgroup": "29.1M",
         "orientation": "v",
         "showlegend": true,
         "texttemplate": "%{value}",
         "type": "histogram",
         "x": [
          "United States"
         ],
         "xaxis": "x",
         "yaxis": "y"
        },
        {
         "alignmentgroup": "True",
         "bingroup": "x",
         "hovertemplate": "Followers=40.3M<br>Audience Country=%{x}<br>count=%{y}<extra></extra>",
         "legendgroup": "40.3M",
         "marker": {
          "color": "#FECB52",
          "pattern": {
           "shape": ""
          }
         },
         "name": "40.3M",
         "offsetgroup": "40.3M",
         "orientation": "v",
         "showlegend": true,
         "texttemplate": "%{value}",
         "type": "histogram",
         "x": [
          "United States"
         ],
         "xaxis": "x",
         "yaxis": "y"
        },
        {
         "alignmentgroup": "True",
         "bingroup": "x",
         "hovertemplate": "Followers=35.3M<br>Audience Country=%{x}<br>count=%{y}<extra></extra>",
         "legendgroup": "35.3M",
         "marker": {
          "color": "#636efa",
          "pattern": {
           "shape": ""
          }
         },
         "name": "35.3M",
         "offsetgroup": "35.3M",
         "orientation": "v",
         "showlegend": true,
         "texttemplate": "%{value}",
         "type": "histogram",
         "x": [
          "India"
         ],
         "xaxis": "x",
         "yaxis": "y"
        },
        {
         "alignmentgroup": "True",
         "bingroup": "x",
         "hovertemplate": "Followers=24.4M<br>Audience Country=%{x}<br>count=%{y}<extra></extra>",
         "legendgroup": "24.4M",
         "marker": {
          "color": "#EF553B",
          "pattern": {
           "shape": ""
          }
         },
         "name": "24.4M",
         "offsetgroup": "24.4M",
         "orientation": "v",
         "showlegend": true,
         "texttemplate": "%{value}",
         "type": "histogram",
         "x": [
          "United States",
          "India",
          "United States",
          "India"
         ],
         "xaxis": "x",
         "yaxis": "y"
        },
        {
         "alignmentgroup": "True",
         "bingroup": "x",
         "hovertemplate": "Followers=13.6M<br>Audience Country=%{x}<br>count=%{y}<extra></extra>",
         "legendgroup": "13.6M",
         "marker": {
          "color": "#00cc96",
          "pattern": {
           "shape": ""
          }
         },
         "name": "13.6M",
         "offsetgroup": "13.6M",
         "orientation": "v",
         "showlegend": true,
         "texttemplate": "%{value}",
         "type": "histogram",
         "x": [
          "United States",
          "Mexico",
          "Argentina",
          "Russia",
          "Indonesia",
          "Brazil"
         ],
         "xaxis": "x",
         "yaxis": "y"
        },
        {
         "alignmentgroup": "True",
         "bingroup": "x",
         "hovertemplate": "Followers=17.1M<br>Audience Country=%{x}<br>count=%{y}<extra></extra>",
         "legendgroup": "17.1M",
         "marker": {
          "color": "#ab63fa",
          "pattern": {
           "shape": ""
          }
         },
         "name": "17.1M",
         "offsetgroup": "17.1M",
         "orientation": "v",
         "showlegend": true,
         "texttemplate": "%{value}",
         "type": "histogram",
         "x": [
          "Brazil"
         ],
         "xaxis": "x",
         "yaxis": "y"
        },
        {
         "alignmentgroup": "True",
         "bingroup": "x",
         "hovertemplate": "Followers=20.7M<br>Audience Country=%{x}<br>count=%{y}<extra></extra>",
         "legendgroup": "20.7M",
         "marker": {
          "color": "#FFA15A",
          "pattern": {
           "shape": ""
          }
         },
         "name": "20.7M",
         "offsetgroup": "20.7M",
         "orientation": "v",
         "showlegend": true,
         "texttemplate": "%{value}",
         "type": "histogram",
         "x": [
          "India",
          "Argentina",
          "Brazil"
         ],
         "xaxis": "x",
         "yaxis": "y"
        },
        {
         "alignmentgroup": "True",
         "bingroup": "x",
         "hovertemplate": "Followers=44.1M<br>Audience Country=%{x}<br>count=%{y}<extra></extra>",
         "legendgroup": "44.1M",
         "marker": {
          "color": "#19d3f3",
          "pattern": {
           "shape": ""
          }
         },
         "name": "44.1M",
         "offsetgroup": "44.1M",
         "orientation": "v",
         "showlegend": true,
         "texttemplate": "%{value}",
         "type": "histogram",
         "x": [
          "Brazil"
         ],
         "xaxis": "x",
         "yaxis": "y"
        },
        {
         "alignmentgroup": "True",
         "bingroup": "x",
         "hovertemplate": "Followers=95.7M<br>Audience Country=%{x}<br>count=%{y}<extra></extra>",
         "legendgroup": "95.7M",
         "marker": {
          "color": "#FF6692",
          "pattern": {
           "shape": ""
          }
         },
         "name": "95.7M",
         "offsetgroup": "95.7M",
         "orientation": "v",
         "showlegend": true,
         "texttemplate": "%{value}",
         "type": "histogram",
         "x": [
          "Brazil"
         ],
         "xaxis": "x",
         "yaxis": "y"
        },
        {
         "alignmentgroup": "True",
         "bingroup": "x",
         "hovertemplate": "Followers=50.8M<br>Audience Country=%{x}<br>count=%{y}<extra></extra>",
         "legendgroup": "50.8M",
         "marker": {
          "color": "#B6E880",
          "pattern": {
           "shape": ""
          }
         },
         "name": "50.8M",
         "offsetgroup": "50.8M",
         "orientation": "v",
         "showlegend": true,
         "texttemplate": "%{value}",
         "type": "histogram",
         "x": [
          "Spain"
         ],
         "xaxis": "x",
         "yaxis": "y"
        },
        {
         "alignmentgroup": "True",
         "bingroup": "x",
         "hovertemplate": "Followers=36.2M<br>Audience Country=%{x}<br>count=%{y}<extra></extra>",
         "legendgroup": "36.2M",
         "marker": {
          "color": "#FF97FF",
          "pattern": {
           "shape": ""
          }
         },
         "name": "36.2M",
         "offsetgroup": "36.2M",
         "orientation": "v",
         "showlegend": true,
         "texttemplate": "%{value}",
         "type": "histogram",
         "x": [
          "Iran"
         ],
         "xaxis": "x",
         "yaxis": "y"
        },
        {
         "alignmentgroup": "True",
         "bingroup": "x",
         "hovertemplate": "Followers=14.1M<br>Audience Country=%{x}<br>count=%{y}<extra></extra>",
         "legendgroup": "14.1M",
         "marker": {
          "color": "#FECB52",
          "pattern": {
           "shape": ""
          }
         },
         "name": "14.1M",
         "offsetgroup": "14.1M",
         "orientation": "v",
         "showlegend": true,
         "texttemplate": "%{value}",
         "type": "histogram",
         "x": [
          "Indonesia",
          "India",
          "Indonesia",
          "United States",
          "Mexico",
          "Brazil",
          "Russia",
          "Chile"
         ],
         "xaxis": "x",
         "yaxis": "y"
        },
        {
         "alignmentgroup": "True",
         "bingroup": "x",
         "hovertemplate": "Followers=10.8M<br>Audience Country=%{x}<br>count=%{y}<extra></extra>",
         "legendgroup": "10.8M",
         "marker": {
          "color": "#636efa",
          "pattern": {
           "shape": ""
          }
         },
         "name": "10.8M",
         "offsetgroup": "10.8M",
         "orientation": "v",
         "showlegend": true,
         "texttemplate": "%{value}",
         "type": "histogram",
         "x": [
          "India",
          "India"
         ],
         "xaxis": "x",
         "yaxis": "y"
        },
        {
         "alignmentgroup": "True",
         "bingroup": "x",
         "hovertemplate": "Followers=20.6M<br>Audience Country=%{x}<br>count=%{y}<extra></extra>",
         "legendgroup": "20.6M",
         "marker": {
          "color": "#EF553B",
          "pattern": {
           "shape": ""
          }
         },
         "name": "20.6M",
         "offsetgroup": "20.6M",
         "orientation": "v",
         "showlegend": true,
         "texttemplate": "%{value}",
         "type": "histogram",
         "x": [
          "Indonesia"
         ],
         "xaxis": "x",
         "yaxis": "y"
        },
        {
         "alignmentgroup": "True",
         "bingroup": "x",
         "hovertemplate": "Followers=49.8M<br>Audience Country=%{x}<br>count=%{y}<extra></extra>",
         "legendgroup": "49.8M",
         "marker": {
          "color": "#00cc96",
          "pattern": {
           "shape": ""
          }
         },
         "name": "49.8M",
         "offsetgroup": "49.8M",
         "orientation": "v",
         "showlegend": true,
         "texttemplate": "%{value}",
         "type": "histogram",
         "x": [
          "Colombia"
         ],
         "xaxis": "x",
         "yaxis": "y"
        },
        {
         "alignmentgroup": "True",
         "bingroup": "x",
         "hovertemplate": "Followers=9.8M<br>Audience Country=%{x}<br>count=%{y}<extra></extra>",
         "legendgroup": "9.8M",
         "marker": {
          "color": "#ab63fa",
          "pattern": {
           "shape": ""
          }
         },
         "name": "9.8M",
         "offsetgroup": "9.8M",
         "orientation": "v",
         "showlegend": true,
         "texttemplate": "%{value}",
         "type": "histogram",
         "x": [
          "Indonesia",
          "Indonesia",
          "Argentina",
          "Brazil",
          "India",
          "Russia",
          "Italy",
          "Brazil",
          "Iran"
         ],
         "xaxis": "x",
         "yaxis": "y"
        },
        {
         "alignmentgroup": "True",
         "bingroup": "x",
         "hovertemplate": "Followers=21.2M<br>Audience Country=%{x}<br>count=%{y}<extra></extra>",
         "legendgroup": "21.2M",
         "marker": {
          "color": "#FFA15A",
          "pattern": {
           "shape": ""
          }
         },
         "name": "21.2M",
         "offsetgroup": "21.2M",
         "orientation": "v",
         "showlegend": true,
         "texttemplate": "%{value}",
         "type": "histogram",
         "x": [
          "Colombia",
          "Indonesia",
          "United States"
         ],
         "xaxis": "x",
         "yaxis": "y"
        },
        {
         "alignmentgroup": "True",
         "bingroup": "x",
         "hovertemplate": "Followers=15.9M<br>Audience Country=%{x}<br>count=%{y}<extra></extra>",
         "legendgroup": "15.9M",
         "marker": {
          "color": "#19d3f3",
          "pattern": {
           "shape": ""
          }
         },
         "name": "15.9M",
         "offsetgroup": "15.9M",
         "orientation": "v",
         "showlegend": true,
         "texttemplate": "%{value}",
         "type": "histogram",
         "x": [
          "United States",
          "India",
          "Spain",
          "Brazil"
         ],
         "xaxis": "x",
         "yaxis": "y"
        },
        {
         "alignmentgroup": "True",
         "bingroup": "x",
         "hovertemplate": "Followers=25.8M<br>Audience Country=%{x}<br>count=%{y}<extra></extra>",
         "legendgroup": "25.8M",
         "marker": {
          "color": "#FF6692",
          "pattern": {
           "shape": ""
          }
         },
         "name": "25.8M",
         "offsetgroup": "25.8M",
         "orientation": "v",
         "showlegend": true,
         "texttemplate": "%{value}",
         "type": "histogram",
         "x": [
          "Brazil"
         ],
         "xaxis": "x",
         "yaxis": "y"
        },
        {
         "alignmentgroup": "True",
         "bingroup": "x",
         "hovertemplate": "Followers=18.9M<br>Audience Country=%{x}<br>count=%{y}<extra></extra>",
         "legendgroup": "18.9M",
         "marker": {
          "color": "#B6E880",
          "pattern": {
           "shape": ""
          }
         },
         "name": "18.9M",
         "offsetgroup": "18.9M",
         "orientation": "v",
         "showlegend": true,
         "texttemplate": "%{value}",
         "type": "histogram",
         "x": [
          "Mexico",
          "United States"
         ],
         "xaxis": "x",
         "yaxis": "y"
        },
        {
         "alignmentgroup": "True",
         "bingroup": "x",
         "hovertemplate": "Followers=24.5M<br>Audience Country=%{x}<br>count=%{y}<extra></extra>",
         "legendgroup": "24.5M",
         "marker": {
          "color": "#FF97FF",
          "pattern": {
           "shape": ""
          }
         },
         "name": "24.5M",
         "offsetgroup": "24.5M",
         "orientation": "v",
         "showlegend": true,
         "texttemplate": "%{value}",
         "type": "histogram",
         "x": [
          "Turkey",
          "United States"
         ],
         "xaxis": "x",
         "yaxis": "y"
        },
        {
         "alignmentgroup": "True",
         "bingroup": "x",
         "hovertemplate": "Followers=37M<br>Audience Country=%{x}<br>count=%{y}<extra></extra>",
         "legendgroup": "37M",
         "marker": {
          "color": "#FECB52",
          "pattern": {
           "shape": ""
          }
         },
         "name": "37M",
         "offsetgroup": "37M",
         "orientation": "v",
         "showlegend": true,
         "texttemplate": "%{value}",
         "type": "histogram",
         "x": [
          "Turkey",
          "India"
         ],
         "xaxis": "x",
         "yaxis": "y"
        },
        {
         "alignmentgroup": "True",
         "bingroup": "x",
         "hovertemplate": "Followers=8.5M<br>Audience Country=%{x}<br>count=%{y}<extra></extra>",
         "legendgroup": "8.5M",
         "marker": {
          "color": "#636efa",
          "pattern": {
           "shape": ""
          }
         },
         "name": "8.5M",
         "offsetgroup": "8.5M",
         "orientation": "v",
         "showlegend": true,
         "texttemplate": "%{value}",
         "type": "histogram",
         "x": [
          "Indonesia",
          "United States",
          "United States",
          "United States",
          "India",
          "Turkey",
          "India"
         ],
         "xaxis": "x",
         "yaxis": "y"
        },
        {
         "alignmentgroup": "True",
         "bingroup": "x",
         "hovertemplate": "Followers=44.5M<br>Audience Country=%{x}<br>count=%{y}<extra></extra>",
         "legendgroup": "44.5M",
         "marker": {
          "color": "#EF553B",
          "pattern": {
           "shape": ""
          }
         },
         "name": "44.5M",
         "offsetgroup": "44.5M",
         "orientation": "v",
         "showlegend": true,
         "texttemplate": "%{value}",
         "type": "histogram",
         "x": [
          "United States"
         ],
         "xaxis": "x",
         "yaxis": "y"
        },
        {
         "alignmentgroup": "True",
         "bingroup": "x",
         "hovertemplate": "Followers=44.7M<br>Audience Country=%{x}<br>count=%{y}<extra></extra>",
         "legendgroup": "44.7M",
         "marker": {
          "color": "#00cc96",
          "pattern": {
           "shape": ""
          }
         },
         "name": "44.7M",
         "offsetgroup": "44.7M",
         "orientation": "v",
         "showlegend": true,
         "texttemplate": "%{value}",
         "type": "histogram",
         "x": [
          "United States"
         ],
         "xaxis": "x",
         "yaxis": "y"
        },
        {
         "alignmentgroup": "True",
         "bingroup": "x",
         "hovertemplate": "Followers=20.5M<br>Audience Country=%{x}<br>count=%{y}<extra></extra>",
         "legendgroup": "20.5M",
         "marker": {
          "color": "#ab63fa",
          "pattern": {
           "shape": ""
          }
         },
         "name": "20.5M",
         "offsetgroup": "20.5M",
         "orientation": "v",
         "showlegend": true,
         "texttemplate": "%{value}",
         "type": "histogram",
         "x": [
          "Brazil",
          "India"
         ],
         "xaxis": "x",
         "yaxis": "y"
        },
        {
         "alignmentgroup": "True",
         "bingroup": "x",
         "hovertemplate": "Followers=65.5M<br>Audience Country=%{x}<br>count=%{y}<extra></extra>",
         "legendgroup": "65.5M",
         "marker": {
          "color": "#FFA15A",
          "pattern": {
           "shape": ""
          }
         },
         "name": "65.5M",
         "offsetgroup": "65.5M",
         "orientation": "v",
         "showlegend": true,
         "texttemplate": "%{value}",
         "type": "histogram",
         "x": [
          "United States"
         ],
         "xaxis": "x",
         "yaxis": "y"
        },
        {
         "alignmentgroup": "True",
         "bingroup": "x",
         "hovertemplate": "Followers=13M<br>Audience Country=%{x}<br>count=%{y}<extra></extra>",
         "legendgroup": "13M",
         "marker": {
          "color": "#19d3f3",
          "pattern": {
           "shape": ""
          }
         },
         "name": "13M",
         "offsetgroup": "13M",
         "orientation": "v",
         "showlegend": true,
         "texttemplate": "%{value}",
         "type": "histogram",
         "x": [
          "United States",
          "Indonesia",
          "Mexico",
          "Iraq"
         ],
         "xaxis": "x",
         "yaxis": "y"
        },
        {
         "alignmentgroup": "True",
         "bingroup": "x",
         "hovertemplate": "Followers=19.1M<br>Audience Country=%{x}<br>count=%{y}<extra></extra>",
         "legendgroup": "19.1M",
         "marker": {
          "color": "#FF6692",
          "pattern": {
           "shape": ""
          }
         },
         "name": "19.1M",
         "offsetgroup": "19.1M",
         "orientation": "v",
         "showlegend": true,
         "texttemplate": "%{value}",
         "type": "histogram",
         "x": [
          "United States",
          "Spain",
          "United States"
         ],
         "xaxis": "x",
         "yaxis": "y"
        },
        {
         "alignmentgroup": "True",
         "bingroup": "x",
         "hovertemplate": "Followers=24.3M<br>Audience Country=%{x}<br>count=%{y}<extra></extra>",
         "legendgroup": "24.3M",
         "marker": {
          "color": "#B6E880",
          "pattern": {
           "shape": ""
          }
         },
         "name": "24.3M",
         "offsetgroup": "24.3M",
         "orientation": "v",
         "showlegend": true,
         "texttemplate": "%{value}",
         "type": "histogram",
         "x": [
          "Spain",
          "India",
          "India",
          "India"
         ],
         "xaxis": "x",
         "yaxis": "y"
        },
        {
         "alignmentgroup": "True",
         "bingroup": "x",
         "hovertemplate": "Followers=10.7M<br>Audience Country=%{x}<br>count=%{y}<extra></extra>",
         "legendgroup": "10.7M",
         "marker": {
          "color": "#FF97FF",
          "pattern": {
           "shape": ""
          }
         },
         "name": "10.7M",
         "offsetgroup": "10.7M",
         "orientation": "v",
         "showlegend": true,
         "texttemplate": "%{value}",
         "type": "histogram",
         "x": [
          "Indonesia",
          "Russia",
          "Indonesia",
          "Spain",
          "Brazil",
          "Indonesia",
          "Indonesia"
         ],
         "xaxis": "x",
         "yaxis": "y"
        },
        {
         "alignmentgroup": "True",
         "bingroup": "x",
         "hovertemplate": "Followers=10.3M<br>Audience Country=%{x}<br>count=%{y}<extra></extra>",
         "legendgroup": "10.3M",
         "marker": {
          "color": "#FECB52",
          "pattern": {
           "shape": ""
          }
         },
         "name": "10.3M",
         "offsetgroup": "10.3M",
         "orientation": "v",
         "showlegend": true,
         "texttemplate": "%{value}",
         "type": "histogram",
         "x": [
          "Indonesia",
          "Indonesia",
          "Turkey",
          "Indonesia",
          "United States",
          "Albania"
         ],
         "xaxis": "x",
         "yaxis": "y"
        },
        {
         "alignmentgroup": "True",
         "bingroup": "x",
         "hovertemplate": "Followers=54.7M<br>Audience Country=%{x}<br>count=%{y}<extra></extra>",
         "legendgroup": "54.7M",
         "marker": {
          "color": "#636efa",
          "pattern": {
           "shape": ""
          }
         },
         "name": "54.7M",
         "offsetgroup": "54.7M",
         "orientation": "v",
         "showlegend": true,
         "texttemplate": "%{value}",
         "type": "histogram",
         "x": [
          "Brazil"
         ],
         "xaxis": "x",
         "yaxis": "y"
        },
        {
         "alignmentgroup": "True",
         "bingroup": "x",
         "hovertemplate": "Followers=52.3M<br>Audience Country=%{x}<br>count=%{y}<extra></extra>",
         "legendgroup": "52.3M",
         "marker": {
          "color": "#EF553B",
          "pattern": {
           "shape": ""
          }
         },
         "name": "52.3M",
         "offsetgroup": "52.3M",
         "orientation": "v",
         "showlegend": true,
         "texttemplate": "%{value}",
         "type": "histogram",
         "x": [
          "Spain"
         ],
         "xaxis": "x",
         "yaxis": "y"
        },
        {
         "alignmentgroup": "True",
         "bingroup": "x",
         "hovertemplate": "Followers=35.9M<br>Audience Country=%{x}<br>count=%{y}<extra></extra>",
         "legendgroup": "35.9M",
         "marker": {
          "color": "#00cc96",
          "pattern": {
           "shape": ""
          }
         },
         "name": "35.9M",
         "offsetgroup": "35.9M",
         "orientation": "v",
         "showlegend": true,
         "texttemplate": "%{value}",
         "type": "histogram",
         "x": [
          "Mexico"
         ],
         "xaxis": "x",
         "yaxis": "y"
        },
        {
         "alignmentgroup": "True",
         "bingroup": "x",
         "hovertemplate": "Followers=6.6M<br>Audience Country=%{x}<br>count=%{y}<extra></extra>",
         "legendgroup": "6.6M",
         "marker": {
          "color": "#ab63fa",
          "pattern": {
           "shape": ""
          }
         },
         "name": "6.6M",
         "offsetgroup": "6.6M",
         "orientation": "v",
         "showlegend": true,
         "texttemplate": "%{value}",
         "type": "histogram",
         "x": [
          "United States",
          "United States",
          "India",
          "Pakistan"
         ],
         "xaxis": "x",
         "yaxis": "y"
        },
        {
         "alignmentgroup": "True",
         "bingroup": "x",
         "hovertemplate": "Followers=21.4M<br>Audience Country=%{x}<br>count=%{y}<extra></extra>",
         "legendgroup": "21.4M",
         "marker": {
          "color": "#FFA15A",
          "pattern": {
           "shape": ""
          }
         },
         "name": "21.4M",
         "offsetgroup": "21.4M",
         "orientation": "v",
         "showlegend": true,
         "texttemplate": "%{value}",
         "type": "histogram",
         "x": [
          "India",
          "United States"
         ],
         "xaxis": "x",
         "yaxis": "y"
        },
        {
         "alignmentgroup": "True",
         "bingroup": "x",
         "hovertemplate": "Followers=13.5M<br>Audience Country=%{x}<br>count=%{y}<extra></extra>",
         "legendgroup": "13.5M",
         "marker": {
          "color": "#19d3f3",
          "pattern": {
           "shape": ""
          }
         },
         "name": "13.5M",
         "offsetgroup": "13.5M",
         "orientation": "v",
         "showlegend": true,
         "texttemplate": "%{value}",
         "type": "histogram",
         "x": [
          "Argentina",
          "Indonesia",
          "United States",
          "India",
          "Philippines",
          "United Kingdom",
          "Indonesia",
          "Brazil",
          "Spain"
         ],
         "xaxis": "x",
         "yaxis": "y"
        },
        {
         "alignmentgroup": "True",
         "bingroup": "x",
         "hovertemplate": "Followers=25.7M<br>Audience Country=%{x}<br>count=%{y}<extra></extra>",
         "legendgroup": "25.7M",
         "marker": {
          "color": "#FF6692",
          "pattern": {
           "shape": ""
          }
         },
         "name": "25.7M",
         "offsetgroup": "25.7M",
         "orientation": "v",
         "showlegend": true,
         "texttemplate": "%{value}",
         "type": "histogram",
         "x": [
          "Brazil",
          "Indonesia",
          "Brazil"
         ],
         "xaxis": "x",
         "yaxis": "y"
        },
        {
         "alignmentgroup": "True",
         "bingroup": "x",
         "hovertemplate": "Followers=14.6M<br>Audience Country=%{x}<br>count=%{y}<extra></extra>",
         "legendgroup": "14.6M",
         "marker": {
          "color": "#B6E880",
          "pattern": {
           "shape": ""
          }
         },
         "name": "14.6M",
         "offsetgroup": "14.6M",
         "orientation": "v",
         "showlegend": true,
         "texttemplate": "%{value}",
         "type": "histogram",
         "x": [
          "Indonesia",
          "India",
          "India",
          "India",
          "India",
          "United States"
         ],
         "xaxis": "x",
         "yaxis": "y"
        },
        {
         "alignmentgroup": "True",
         "bingroup": "x",
         "hovertemplate": "Followers=14M<br>Audience Country=%{x}<br>count=%{y}<extra></extra>",
         "legendgroup": "14M",
         "marker": {
          "color": "#FF97FF",
          "pattern": {
           "shape": ""
          }
         },
         "name": "14M",
         "offsetgroup": "14M",
         "orientation": "v",
         "showlegend": true,
         "texttemplate": "%{value}",
         "type": "histogram",
         "x": [
          "Indonesia",
          "United States"
         ],
         "xaxis": "x",
         "yaxis": "y"
        },
        {
         "alignmentgroup": "True",
         "bingroup": "x",
         "hovertemplate": "Followers=16.6M<br>Audience Country=%{x}<br>count=%{y}<extra></extra>",
         "legendgroup": "16.6M",
         "marker": {
          "color": "#FECB52",
          "pattern": {
           "shape": ""
          }
         },
         "name": "16.6M",
         "offsetgroup": "16.6M",
         "orientation": "v",
         "showlegend": true,
         "texttemplate": "%{value}",
         "type": "histogram",
         "x": [
          "Brazil",
          "United States",
          "Brazil"
         ],
         "xaxis": "x",
         "yaxis": "y"
        },
        {
         "alignmentgroup": "True",
         "bingroup": "x",
         "hovertemplate": "Followers=28.8M<br>Audience Country=%{x}<br>count=%{y}<extra></extra>",
         "legendgroup": "28.8M",
         "marker": {
          "color": "#636efa",
          "pattern": {
           "shape": ""
          }
         },
         "name": "28.8M",
         "offsetgroup": "28.8M",
         "orientation": "v",
         "showlegend": true,
         "texttemplate": "%{value}",
         "type": "histogram",
         "x": [
          "Spain"
         ],
         "xaxis": "x",
         "yaxis": "y"
        },
        {
         "alignmentgroup": "True",
         "bingroup": "x",
         "hovertemplate": "Followers=6.9M<br>Audience Country=%{x}<br>count=%{y}<extra></extra>",
         "legendgroup": "6.9M",
         "marker": {
          "color": "#EF553B",
          "pattern": {
           "shape": ""
          }
         },
         "name": "6.9M",
         "offsetgroup": "6.9M",
         "orientation": "v",
         "showlegend": true,
         "texttemplate": "%{value}",
         "type": "histogram",
         "x": [
          "Turkey",
          "Turkey",
          "Indonesia",
          "Indonesia",
          "Indonesia",
          "Indonesia",
          "Indonesia",
          "Brazil",
          "Brazil",
          "United Arab Emirates",
          "United States",
          "Kazakhstan",
          "United States"
         ],
         "xaxis": "x",
         "yaxis": "y"
        },
        {
         "alignmentgroup": "True",
         "bingroup": "x",
         "hovertemplate": "Followers=33.1M<br>Audience Country=%{x}<br>count=%{y}<extra></extra>",
         "legendgroup": "33.1M",
         "marker": {
          "color": "#00cc96",
          "pattern": {
           "shape": ""
          }
         },
         "name": "33.1M",
         "offsetgroup": "33.1M",
         "orientation": "v",
         "showlegend": true,
         "texttemplate": "%{value}",
         "type": "histogram",
         "x": [
          "Spain",
          "India"
         ],
         "xaxis": "x",
         "yaxis": "y"
        },
        {
         "alignmentgroup": "True",
         "bingroup": "x",
         "hovertemplate": "Followers=21.7M<br>Audience Country=%{x}<br>count=%{y}<extra></extra>",
         "legendgroup": "21.7M",
         "marker": {
          "color": "#ab63fa",
          "pattern": {
           "shape": ""
          }
         },
         "name": "21.7M",
         "offsetgroup": "21.7M",
         "orientation": "v",
         "showlegend": true,
         "texttemplate": "%{value}",
         "type": "histogram",
         "x": [
          "India",
          "Brazil"
         ],
         "xaxis": "x",
         "yaxis": "y"
        },
        {
         "alignmentgroup": "True",
         "bingroup": "x",
         "hovertemplate": "Followers=12.3M<br>Audience Country=%{x}<br>count=%{y}<extra></extra>",
         "legendgroup": "12.3M",
         "marker": {
          "color": "#FFA15A",
          "pattern": {
           "shape": ""
          }
         },
         "name": "12.3M",
         "offsetgroup": "12.3M",
         "orientation": "v",
         "showlegend": true,
         "texttemplate": "%{value}",
         "type": "histogram",
         "x": [
          "United States",
          "Brazil",
          "India",
          "United Kingdom",
          "Indonesia",
          "United States"
         ],
         "xaxis": "x",
         "yaxis": "y"
        },
        {
         "alignmentgroup": "True",
         "bingroup": "x",
         "hovertemplate": "Followers=62.9M<br>Audience Country=%{x}<br>count=%{y}<extra></extra>",
         "legendgroup": "62.9M",
         "marker": {
          "color": "#19d3f3",
          "pattern": {
           "shape": ""
          }
         },
         "name": "62.9M",
         "offsetgroup": "62.9M",
         "orientation": "v",
         "showlegend": true,
         "texttemplate": "%{value}",
         "type": "histogram",
         "x": [
          "Brazil"
         ],
         "xaxis": "x",
         "yaxis": "y"
        },
        {
         "alignmentgroup": "True",
         "bingroup": "x",
         "hovertemplate": "Followers=16.1M<br>Audience Country=%{x}<br>count=%{y}<extra></extra>",
         "legendgroup": "16.1M",
         "marker": {
          "color": "#FF6692",
          "pattern": {
           "shape": ""
          }
         },
         "name": "16.1M",
         "offsetgroup": "16.1M",
         "orientation": "v",
         "showlegend": true,
         "texttemplate": "%{value}",
         "type": "histogram",
         "x": [
          "United States",
          "Brazil"
         ],
         "xaxis": "x",
         "yaxis": "y"
        },
        {
         "alignmentgroup": "True",
         "bingroup": "x",
         "hovertemplate": "Followers=25.5M<br>Audience Country=%{x}<br>count=%{y}<extra></extra>",
         "legendgroup": "25.5M",
         "marker": {
          "color": "#B6E880",
          "pattern": {
           "shape": ""
          }
         },
         "name": "25.5M",
         "offsetgroup": "25.5M",
         "orientation": "v",
         "showlegend": true,
         "texttemplate": "%{value}",
         "type": "histogram",
         "x": [
          "India"
         ],
         "xaxis": "x",
         "yaxis": "y"
        },
        {
         "alignmentgroup": "True",
         "bingroup": "x",
         "hovertemplate": "Followers=18.5M<br>Audience Country=%{x}<br>count=%{y}<extra></extra>",
         "legendgroup": "18.5M",
         "marker": {
          "color": "#FF97FF",
          "pattern": {
           "shape": ""
          }
         },
         "name": "18.5M",
         "offsetgroup": "18.5M",
         "orientation": "v",
         "showlegend": true,
         "texttemplate": "%{value}",
         "type": "histogram",
         "x": [
          "Brazil"
         ],
         "xaxis": "x",
         "yaxis": "y"
        },
        {
         "alignmentgroup": "True",
         "bingroup": "x",
         "hovertemplate": "Followers=70.4M<br>Audience Country=%{x}<br>count=%{y}<extra></extra>",
         "legendgroup": "70.4M",
         "marker": {
          "color": "#FECB52",
          "pattern": {
           "shape": ""
          }
         },
         "name": "70.4M",
         "offsetgroup": "70.4M",
         "orientation": "v",
         "showlegend": true,
         "texttemplate": "%{value}",
         "type": "histogram",
         "x": [
          "India"
         ],
         "xaxis": "x",
         "yaxis": "y"
        },
        {
         "alignmentgroup": "True",
         "bingroup": "x",
         "hovertemplate": "Followers=10.9M<br>Audience Country=%{x}<br>count=%{y}<extra></extra>",
         "legendgroup": "10.9M",
         "marker": {
          "color": "#636efa",
          "pattern": {
           "shape": ""
          }
         },
         "name": "10.9M",
         "offsetgroup": "10.9M",
         "orientation": "v",
         "showlegend": true,
         "texttemplate": "%{value}",
         "type": "histogram",
         "x": [
          "India",
          "Spain",
          "United States"
         ],
         "xaxis": "x",
         "yaxis": "y"
        },
        {
         "alignmentgroup": "True",
         "bingroup": "x",
         "hovertemplate": "Followers=74.5M<br>Audience Country=%{x}<br>count=%{y}<extra></extra>",
         "legendgroup": "74.5M",
         "marker": {
          "color": "#EF553B",
          "pattern": {
           "shape": ""
          }
         },
         "name": "74.5M",
         "offsetgroup": "74.5M",
         "orientation": "v",
         "showlegend": true,
         "texttemplate": "%{value}",
         "type": "histogram",
         "x": [
          "India"
         ],
         "xaxis": "x",
         "yaxis": "y"
        },
        {
         "alignmentgroup": "True",
         "bingroup": "x",
         "hovertemplate": "Followers=17.7M<br>Audience Country=%{x}<br>count=%{y}<extra></extra>",
         "legendgroup": "17.7M",
         "marker": {
          "color": "#00cc96",
          "pattern": {
           "shape": ""
          }
         },
         "name": "17.7M",
         "offsetgroup": "17.7M",
         "orientation": "v",
         "showlegend": true,
         "texttemplate": "%{value}",
         "type": "histogram",
         "x": [
          "India",
          "Argentina"
         ],
         "xaxis": "x",
         "yaxis": "y"
        },
        {
         "alignmentgroup": "True",
         "bingroup": "x",
         "hovertemplate": "Followers=19.8M<br>Audience Country=%{x}<br>count=%{y}<extra></extra>",
         "legendgroup": "19.8M",
         "marker": {
          "color": "#ab63fa",
          "pattern": {
           "shape": ""
          }
         },
         "name": "19.8M",
         "offsetgroup": "19.8M",
         "orientation": "v",
         "showlegend": true,
         "texttemplate": "%{value}",
         "type": "histogram",
         "x": [
          "United States",
          "Brazil",
          "Italy"
         ],
         "xaxis": "x",
         "yaxis": "y"
        },
        {
         "alignmentgroup": "True",
         "bingroup": "x",
         "hovertemplate": "Followers=9M<br>Audience Country=%{x}<br>count=%{y}<extra></extra>",
         "legendgroup": "9M",
         "marker": {
          "color": "#FFA15A",
          "pattern": {
           "shape": ""
          }
         },
         "name": "9M",
         "offsetgroup": "9M",
         "orientation": "v",
         "showlegend": true,
         "texttemplate": "%{value}",
         "type": "histogram",
         "x": [
          "Indonesia",
          "Iran",
          "United States",
          "Spain",
          "United States",
          "United States",
          "Syria",
          "Iran",
          "United States",
          "Brazil",
          "United States"
         ],
         "xaxis": "x",
         "yaxis": "y"
        },
        {
         "alignmentgroup": "True",
         "bingroup": "x",
         "hovertemplate": "Followers=15.5M<br>Audience Country=%{x}<br>count=%{y}<extra></extra>",
         "legendgroup": "15.5M",
         "marker": {
          "color": "#19d3f3",
          "pattern": {
           "shape": ""
          }
         },
         "name": "15.5M",
         "offsetgroup": "15.5M",
         "orientation": "v",
         "showlegend": true,
         "texttemplate": "%{value}",
         "type": "histogram",
         "x": [
          "Indonesia",
          "Brazil",
          "Mexico"
         ],
         "xaxis": "x",
         "yaxis": "y"
        },
        {
         "alignmentgroup": "True",
         "bingroup": "x",
         "hovertemplate": "Followers=9.1M<br>Audience Country=%{x}<br>count=%{y}<extra></extra>",
         "legendgroup": "9.1M",
         "marker": {
          "color": "#FF6692",
          "pattern": {
           "shape": ""
          }
         },
         "name": "9.1M",
         "offsetgroup": "9.1M",
         "orientation": "v",
         "showlegend": true,
         "texttemplate": "%{value}",
         "type": "histogram",
         "x": [
          "Iran",
          "Algeria",
          "Mexico",
          "Brazil"
         ],
         "xaxis": "x",
         "yaxis": "y"
        },
        {
         "alignmentgroup": "True",
         "bingroup": "x",
         "hovertemplate": "Followers=31.3M<br>Audience Country=%{x}<br>count=%{y}<extra></extra>",
         "legendgroup": "31.3M",
         "marker": {
          "color": "#B6E880",
          "pattern": {
           "shape": ""
          }
         },
         "name": "31.3M",
         "offsetgroup": "31.3M",
         "orientation": "v",
         "showlegend": true,
         "texttemplate": "%{value}",
         "type": "histogram",
         "x": [
          "Indonesia",
          "United States"
         ],
         "xaxis": "x",
         "yaxis": "y"
        },
        {
         "alignmentgroup": "True",
         "bingroup": "x",
         "hovertemplate": "Followers=22.1M<br>Audience Country=%{x}<br>count=%{y}<extra></extra>",
         "legendgroup": "22.1M",
         "marker": {
          "color": "#FF97FF",
          "pattern": {
           "shape": ""
          }
         },
         "name": "22.1M",
         "offsetgroup": "22.1M",
         "orientation": "v",
         "showlegend": true,
         "texttemplate": "%{value}",
         "type": "histogram",
         "x": [
          "United States",
          "India"
         ],
         "xaxis": "x",
         "yaxis": "y"
        },
        {
         "alignmentgroup": "True",
         "bingroup": "x",
         "hovertemplate": "Followers=23.1M<br>Audience Country=%{x}<br>count=%{y}<extra></extra>",
         "legendgroup": "23.1M",
         "marker": {
          "color": "#FECB52",
          "pattern": {
           "shape": ""
          }
         },
         "name": "23.1M",
         "offsetgroup": "23.1M",
         "orientation": "v",
         "showlegend": true,
         "texttemplate": "%{value}",
         "type": "histogram",
         "x": [
          "United States"
         ],
         "xaxis": "x",
         "yaxis": "y"
        },
        {
         "alignmentgroup": "True",
         "bingroup": "x",
         "hovertemplate": "Followers=15.1M<br>Audience Country=%{x}<br>count=%{y}<extra></extra>",
         "legendgroup": "15.1M",
         "marker": {
          "color": "#636efa",
          "pattern": {
           "shape": ""
          }
         },
         "name": "15.1M",
         "offsetgroup": "15.1M",
         "orientation": "v",
         "showlegend": true,
         "texttemplate": "%{value}",
         "type": "histogram",
         "x": [
          "Indonesia",
          "Russia",
          "Brazil"
         ],
         "xaxis": "x",
         "yaxis": "y"
        },
        {
         "alignmentgroup": "True",
         "bingroup": "x",
         "hovertemplate": "Followers=27.2M<br>Audience Country=%{x}<br>count=%{y}<extra></extra>",
         "legendgroup": "27.2M",
         "marker": {
          "color": "#EF553B",
          "pattern": {
           "shape": ""
          }
         },
         "name": "27.2M",
         "offsetgroup": "27.2M",
         "orientation": "v",
         "showlegend": true,
         "texttemplate": "%{value}",
         "type": "histogram",
         "x": [
          "Brazil"
         ],
         "xaxis": "x",
         "yaxis": "y"
        },
        {
         "alignmentgroup": "True",
         "bingroup": "x",
         "hovertemplate": "Followers=10M<br>Audience Country=%{x}<br>count=%{y}<extra></extra>",
         "legendgroup": "10M",
         "marker": {
          "color": "#00cc96",
          "pattern": {
           "shape": ""
          }
         },
         "name": "10M",
         "offsetgroup": "10M",
         "orientation": "v",
         "showlegend": true,
         "texttemplate": "%{value}",
         "type": "histogram",
         "x": [
          "Mexico",
          "Indonesia",
          "Indonesia",
          "Brazil",
          "Brazil"
         ],
         "xaxis": "x",
         "yaxis": "y"
        },
        {
         "alignmentgroup": "True",
         "bingroup": "x",
         "hovertemplate": "Followers=17.9M<br>Audience Country=%{x}<br>count=%{y}<extra></extra>",
         "legendgroup": "17.9M",
         "marker": {
          "color": "#ab63fa",
          "pattern": {
           "shape": ""
          }
         },
         "name": "17.9M",
         "offsetgroup": "17.9M",
         "orientation": "v",
         "showlegend": true,
         "texttemplate": "%{value}",
         "type": "histogram",
         "x": [
          "Indonesia",
          "Russia",
          "Argentina"
         ],
         "xaxis": "x",
         "yaxis": "y"
        },
        {
         "alignmentgroup": "True",
         "bingroup": "x",
         "hovertemplate": "Followers=38M<br>Audience Country=%{x}<br>count=%{y}<extra></extra>",
         "legendgroup": "38M",
         "marker": {
          "color": "#FFA15A",
          "pattern": {
           "shape": ""
          }
         },
         "name": "38M",
         "offsetgroup": "38M",
         "orientation": "v",
         "showlegend": true,
         "texttemplate": "%{value}",
         "type": "histogram",
         "x": [
          "India"
         ],
         "xaxis": "x",
         "yaxis": "y"
        },
        {
         "alignmentgroup": "True",
         "bingroup": "x",
         "hovertemplate": "Followers=23.5M<br>Audience Country=%{x}<br>count=%{y}<extra></extra>",
         "legendgroup": "23.5M",
         "marker": {
          "color": "#19d3f3",
          "pattern": {
           "shape": ""
          }
         },
         "name": "23.5M",
         "offsetgroup": "23.5M",
         "orientation": "v",
         "showlegend": true,
         "texttemplate": "%{value}",
         "type": "histogram",
         "x": [
          "Argentina",
          "Russia",
          "Brazil"
         ],
         "xaxis": "x",
         "yaxis": "y"
        },
        {
         "alignmentgroup": "True",
         "bingroup": "x",
         "hovertemplate": "Followers=61.2M<br>Audience Country=%{x}<br>count=%{y}<extra></extra>",
         "legendgroup": "61.2M",
         "marker": {
          "color": "#FF6692",
          "pattern": {
           "shape": ""
          }
         },
         "name": "61.2M",
         "offsetgroup": "61.2M",
         "orientation": "v",
         "showlegend": true,
         "texttemplate": "%{value}",
         "type": "histogram",
         "x": [
          "Brazil",
          "Brazil"
         ],
         "xaxis": "x",
         "yaxis": "y"
        },
        {
         "alignmentgroup": "True",
         "bingroup": "x",
         "hovertemplate": "Followers=27.9M<br>Audience Country=%{x}<br>count=%{y}<extra></extra>",
         "legendgroup": "27.9M",
         "marker": {
          "color": "#B6E880",
          "pattern": {
           "shape": ""
          }
         },
         "name": "27.9M",
         "offsetgroup": "27.9M",
         "orientation": "v",
         "showlegend": true,
         "texttemplate": "%{value}",
         "type": "histogram",
         "x": [
          "India"
         ],
         "xaxis": "x",
         "yaxis": "y"
        },
        {
         "alignmentgroup": "True",
         "bingroup": "x",
         "hovertemplate": "Followers=17.4M<br>Audience Country=%{x}<br>count=%{y}<extra></extra>",
         "legendgroup": "17.4M",
         "marker": {
          "color": "#FF97FF",
          "pattern": {
           "shape": ""
          }
         },
         "name": "17.4M",
         "offsetgroup": "17.4M",
         "orientation": "v",
         "showlegend": true,
         "texttemplate": "%{value}",
         "type": "histogram",
         "x": [
          "Brazil",
          "Italy"
         ],
         "xaxis": "x",
         "yaxis": "y"
        },
        {
         "alignmentgroup": "True",
         "bingroup": "x",
         "hovertemplate": "Followers=13.8M<br>Audience Country=%{x}<br>count=%{y}<extra></extra>",
         "legendgroup": "13.8M",
         "marker": {
          "color": "#FECB52",
          "pattern": {
           "shape": ""
          }
         },
         "name": "13.8M",
         "offsetgroup": "13.8M",
         "orientation": "v",
         "showlegend": true,
         "texttemplate": "%{value}",
         "type": "histogram",
         "x": [
          "Argentina",
          "Philippines",
          "Turkey"
         ],
         "xaxis": "x",
         "yaxis": "y"
        },
        {
         "alignmentgroup": "True",
         "bingroup": "x",
         "hovertemplate": "Followers=9.4M<br>Audience Country=%{x}<br>count=%{y}<extra></extra>",
         "legendgroup": "9.4M",
         "marker": {
          "color": "#636efa",
          "pattern": {
           "shape": ""
          }
         },
         "name": "9.4M",
         "offsetgroup": "9.4M",
         "orientation": "v",
         "showlegend": true,
         "texttemplate": "%{value}",
         "type": "histogram",
         "x": [
          "Indonesia",
          "United States",
          "Russia",
          "Iran",
          "India",
          "Mexico",
          "Mexico",
          "Turkey",
          "United States"
         ],
         "xaxis": "x",
         "yaxis": "y"
        },
        {
         "alignmentgroup": "True",
         "bingroup": "x",
         "hovertemplate": "Followers=18.3M<br>Audience Country=%{x}<br>count=%{y}<extra></extra>",
         "legendgroup": "18.3M",
         "marker": {
          "color": "#EF553B",
          "pattern": {
           "shape": ""
          }
         },
         "name": "18.3M",
         "offsetgroup": "18.3M",
         "orientation": "v",
         "showlegend": true,
         "texttemplate": "%{value}",
         "type": "histogram",
         "x": [
          "Argentina",
          "Indonesia",
          "Brazil"
         ],
         "xaxis": "x",
         "yaxis": "y"
        },
        {
         "alignmentgroup": "True",
         "bingroup": "x",
         "hovertemplate": "Followers=12.9M<br>Audience Country=%{x}<br>count=%{y}<extra></extra>",
         "legendgroup": "12.9M",
         "marker": {
          "color": "#00cc96",
          "pattern": {
           "shape": ""
          }
         },
         "name": "12.9M",
         "offsetgroup": "12.9M",
         "orientation": "v",
         "showlegend": true,
         "texttemplate": "%{value}",
         "type": "histogram",
         "x": [
          "India",
          "Mexico",
          "Brazil",
          "United States"
         ],
         "xaxis": "x",
         "yaxis": "y"
        },
        {
         "alignmentgroup": "True",
         "bingroup": "x",
         "hovertemplate": "Followers=7.6M<br>Audience Country=%{x}<br>count=%{y}<extra></extra>",
         "legendgroup": "7.6M",
         "marker": {
          "color": "#ab63fa",
          "pattern": {
           "shape": ""
          }
         },
         "name": "7.6M",
         "offsetgroup": "7.6M",
         "orientation": "v",
         "showlegend": true,
         "texttemplate": "%{value}",
         "type": "histogram",
         "x": [
          "Brazil",
          "United States",
          "United States",
          "United States",
          "Indonesia",
          "United Kingdom",
          "Indonesia",
          "Philippines"
         ],
         "xaxis": "x",
         "yaxis": "y"
        },
        {
         "alignmentgroup": "True",
         "bingroup": "x",
         "hovertemplate": "Followers=8.7M<br>Audience Country=%{x}<br>count=%{y}<extra></extra>",
         "legendgroup": "8.7M",
         "marker": {
          "color": "#FFA15A",
          "pattern": {
           "shape": ""
          }
         },
         "name": "8.7M",
         "offsetgroup": "8.7M",
         "orientation": "v",
         "showlegend": true,
         "texttemplate": "%{value}",
         "type": "histogram",
         "x": [
          "Indonesia",
          "India",
          "Spain",
          "Mexico",
          "India",
          "Spain",
          "Iran"
         ],
         "xaxis": "x",
         "yaxis": "y"
        },
        {
         "alignmentgroup": "True",
         "bingroup": "x",
         "hovertemplate": "Followers=15.2M<br>Audience Country=%{x}<br>count=%{y}<extra></extra>",
         "legendgroup": "15.2M",
         "marker": {
          "color": "#19d3f3",
          "pattern": {
           "shape": ""
          }
         },
         "name": "15.2M",
         "offsetgroup": "15.2M",
         "orientation": "v",
         "showlegend": true,
         "texttemplate": "%{value}",
         "type": "histogram",
         "x": [
          "Russia",
          "Iran",
          "United States"
         ],
         "xaxis": "x",
         "yaxis": "y"
        },
        {
         "alignmentgroup": "True",
         "bingroup": "x",
         "hovertemplate": "Followers=6.3M<br>Audience Country=%{x}<br>count=%{y}<extra></extra>",
         "legendgroup": "6.3M",
         "marker": {
          "color": "#FF6692",
          "pattern": {
           "shape": ""
          }
         },
         "name": "6.3M",
         "offsetgroup": "6.3M",
         "orientation": "v",
         "showlegend": true,
         "texttemplate": "%{value}",
         "type": "histogram",
         "x": [
          "United States",
          "United States",
          "United States",
          "United States",
          "United States",
          "Brazil",
          "United States",
          "Spain",
          "Germany"
         ],
         "xaxis": "x",
         "yaxis": "y"
        },
        {
         "alignmentgroup": "True",
         "bingroup": "x",
         "hovertemplate": "Followers=10.2M<br>Audience Country=%{x}<br>count=%{y}<extra></extra>",
         "legendgroup": "10.2M",
         "marker": {
          "color": "#B6E880",
          "pattern": {
           "shape": ""
          }
         },
         "name": "10.2M",
         "offsetgroup": "10.2M",
         "orientation": "v",
         "showlegend": true,
         "texttemplate": "%{value}",
         "type": "histogram",
         "x": [
          "Indonesia",
          "United States",
          "United States",
          "Indonesia",
          "Indonesia"
         ],
         "xaxis": "x",
         "yaxis": "y"
        },
        {
         "alignmentgroup": "True",
         "bingroup": "x",
         "hovertemplate": "Followers=11.1M<br>Audience Country=%{x}<br>count=%{y}<extra></extra>",
         "legendgroup": "11.1M",
         "marker": {
          "color": "#FF97FF",
          "pattern": {
           "shape": ""
          }
         },
         "name": "11.1M",
         "offsetgroup": "11.1M",
         "orientation": "v",
         "showlegend": true,
         "texttemplate": "%{value}",
         "type": "histogram",
         "x": [
          "Mexico",
          "United States"
         ],
         "xaxis": "x",
         "yaxis": "y"
        },
        {
         "alignmentgroup": "True",
         "bingroup": "x",
         "hovertemplate": "Followers=5.6M<br>Audience Country=%{x}<br>count=%{y}<extra></extra>",
         "legendgroup": "5.6M",
         "marker": {
          "color": "#FECB52",
          "pattern": {
           "shape": ""
          }
         },
         "name": "5.6M",
         "offsetgroup": "5.6M",
         "orientation": "v",
         "showlegend": true,
         "texttemplate": "%{value}",
         "type": "histogram",
         "x": [
          "United States",
          "Indonesia",
          "India",
          "United States",
          "India"
         ],
         "xaxis": "x",
         "yaxis": "y"
        },
        {
         "alignmentgroup": "True",
         "bingroup": "x",
         "hovertemplate": "Followers=22.3M<br>Audience Country=%{x}<br>count=%{y}<extra></extra>",
         "legendgroup": "22.3M",
         "marker": {
          "color": "#636efa",
          "pattern": {
           "shape": ""
          }
         },
         "name": "22.3M",
         "offsetgroup": "22.3M",
         "orientation": "v",
         "showlegend": true,
         "texttemplate": "%{value}",
         "type": "histogram",
         "x": [
          "Mexico"
         ],
         "xaxis": "x",
         "yaxis": "y"
        },
        {
         "alignmentgroup": "True",
         "bingroup": "x",
         "hovertemplate": "Followers=15M<br>Audience Country=%{x}<br>count=%{y}<extra></extra>",
         "legendgroup": "15M",
         "marker": {
          "color": "#EF553B",
          "pattern": {
           "shape": ""
          }
         },
         "name": "15M",
         "offsetgroup": "15M",
         "orientation": "v",
         "showlegend": true,
         "texttemplate": "%{value}",
         "type": "histogram",
         "x": [
          "Spain",
          "India",
          "United States",
          "Iraq",
          "France"
         ],
         "xaxis": "x",
         "yaxis": "y"
        },
        {
         "alignmentgroup": "True",
         "bingroup": "x",
         "hovertemplate": "Followers=15.3M<br>Audience Country=%{x}<br>count=%{y}<extra></extra>",
         "legendgroup": "15.3M",
         "marker": {
          "color": "#00cc96",
          "pattern": {
           "shape": ""
          }
         },
         "name": "15.3M",
         "offsetgroup": "15.3M",
         "orientation": "v",
         "showlegend": true,
         "texttemplate": "%{value}",
         "type": "histogram",
         "x": [
          "Brazil",
          "India",
          "India",
          "India",
          "United States"
         ],
         "xaxis": "x",
         "yaxis": "y"
        },
        {
         "alignmentgroup": "True",
         "bingroup": "x",
         "hovertemplate": "Followers=67.4M<br>Audience Country=%{x}<br>count=%{y}<extra></extra>",
         "legendgroup": "67.4M",
         "marker": {
          "color": "#ab63fa",
          "pattern": {
           "shape": ""
          }
         },
         "name": "67.4M",
         "offsetgroup": "67.4M",
         "orientation": "v",
         "showlegend": true,
         "texttemplate": "%{value}",
         "type": "histogram",
         "x": [
          "Brazil"
         ],
         "xaxis": "x",
         "yaxis": "y"
        },
        {
         "alignmentgroup": "True",
         "bingroup": "x",
         "hovertemplate": "Followers=9.3M<br>Audience Country=%{x}<br>count=%{y}<extra></extra>",
         "legendgroup": "9.3M",
         "marker": {
          "color": "#FFA15A",
          "pattern": {
           "shape": ""
          }
         },
         "name": "9.3M",
         "offsetgroup": "9.3M",
         "orientation": "v",
         "showlegend": true,
         "texttemplate": "%{value}",
         "type": "histogram",
         "x": [
          "Indonesia",
          "Turkey",
          "United States"
         ],
         "xaxis": "x",
         "yaxis": "y"
        },
        {
         "alignmentgroup": "True",
         "bingroup": "x",
         "hovertemplate": "Followers=32.8M<br>Audience Country=%{x}<br>count=%{y}<extra></extra>",
         "legendgroup": "32.8M",
         "marker": {
          "color": "#19d3f3",
          "pattern": {
           "shape": ""
          }
         },
         "name": "32.8M",
         "offsetgroup": "32.8M",
         "orientation": "v",
         "showlegend": true,
         "texttemplate": "%{value}",
         "type": "histogram",
         "x": [
          "Mexico",
          "India"
         ],
         "xaxis": "x",
         "yaxis": "y"
        },
        {
         "alignmentgroup": "True",
         "bingroup": "x",
         "hovertemplate": "Followers=14.9M<br>Audience Country=%{x}<br>count=%{y}<extra></extra>",
         "legendgroup": "14.9M",
         "marker": {
          "color": "#FF6692",
          "pattern": {
           "shape": ""
          }
         },
         "name": "14.9M",
         "offsetgroup": "14.9M",
         "orientation": "v",
         "showlegend": true,
         "texttemplate": "%{value}",
         "type": "histogram",
         "x": [
          "India",
          "Brazil",
          "Nigeria",
          "United States"
         ],
         "xaxis": "x",
         "yaxis": "y"
        },
        {
         "alignmentgroup": "True",
         "bingroup": "x",
         "hovertemplate": "Followers=18.7M<br>Audience Country=%{x}<br>count=%{y}<extra></extra>",
         "legendgroup": "18.7M",
         "marker": {
          "color": "#B6E880",
          "pattern": {
           "shape": ""
          }
         },
         "name": "18.7M",
         "offsetgroup": "18.7M",
         "orientation": "v",
         "showlegend": true,
         "texttemplate": "%{value}",
         "type": "histogram",
         "x": [
          "South Korea",
          "United States",
          "Brazil",
          "Brazil"
         ],
         "xaxis": "x",
         "yaxis": "y"
        },
        {
         "alignmentgroup": "True",
         "bingroup": "x",
         "hovertemplate": "Followers=13.7M<br>Audience Country=%{x}<br>count=%{y}<extra></extra>",
         "legendgroup": "13.7M",
         "marker": {
          "color": "#FF97FF",
          "pattern": {
           "shape": ""
          }
         },
         "name": "13.7M",
         "offsetgroup": "13.7M",
         "orientation": "v",
         "showlegend": true,
         "texttemplate": "%{value}",
         "type": "histogram",
         "x": [
          "Indonesia",
          "Indonesia",
          "Turkey",
          "Turkey"
         ],
         "xaxis": "x",
         "yaxis": "y"
        },
        {
         "alignmentgroup": "True",
         "bingroup": "x",
         "hovertemplate": "Followers=44M<br>Audience Country=%{x}<br>count=%{y}<extra></extra>",
         "legendgroup": "44M",
         "marker": {
          "color": "#FECB52",
          "pattern": {
           "shape": ""
          }
         },
         "name": "44M",
         "offsetgroup": "44M",
         "orientation": "v",
         "showlegend": true,
         "texttemplate": "%{value}",
         "type": "histogram",
         "x": [
          "Brazil"
         ],
         "xaxis": "x",
         "yaxis": "y"
        },
        {
         "alignmentgroup": "True",
         "bingroup": "x",
         "hovertemplate": "Followers=27.3M<br>Audience Country=%{x}<br>count=%{y}<extra></extra>",
         "legendgroup": "27.3M",
         "marker": {
          "color": "#636efa",
          "pattern": {
           "shape": ""
          }
         },
         "name": "27.3M",
         "offsetgroup": "27.3M",
         "orientation": "v",
         "showlegend": true,
         "texttemplate": "%{value}",
         "type": "histogram",
         "x": [
          "India",
          "United States"
         ],
         "xaxis": "x",
         "yaxis": "y"
        },
        {
         "alignmentgroup": "True",
         "bingroup": "x",
         "hovertemplate": "Followers=35.1M<br>Audience Country=%{x}<br>count=%{y}<extra></extra>",
         "legendgroup": "35.1M",
         "marker": {
          "color": "#EF553B",
          "pattern": {
           "shape": ""
          }
         },
         "name": "35.1M",
         "offsetgroup": "35.1M",
         "orientation": "v",
         "showlegend": true,
         "texttemplate": "%{value}",
         "type": "histogram",
         "x": [
          "India"
         ],
         "xaxis": "x",
         "yaxis": "y"
        },
        {
         "alignmentgroup": "True",
         "bingroup": "x",
         "hovertemplate": "Followers=14.2M<br>Audience Country=%{x}<br>count=%{y}<extra></extra>",
         "legendgroup": "14.2M",
         "marker": {
          "color": "#00cc96",
          "pattern": {
           "shape": ""
          }
         },
         "name": "14.2M",
         "offsetgroup": "14.2M",
         "orientation": "v",
         "showlegend": true,
         "texttemplate": "%{value}",
         "type": "histogram",
         "x": [
          "Indonesia",
          "United States",
          "Italy",
          "United States",
          "Indonesia",
          "Brazil",
          "United States"
         ],
         "xaxis": "x",
         "yaxis": "y"
        },
        {
         "alignmentgroup": "True",
         "bingroup": "x",
         "hovertemplate": "Followers=43.2M<br>Audience Country=%{x}<br>count=%{y}<extra></extra>",
         "legendgroup": "43.2M",
         "marker": {
          "color": "#ab63fa",
          "pattern": {
           "shape": ""
          }
         },
         "name": "43.2M",
         "offsetgroup": "43.2M",
         "orientation": "v",
         "showlegend": true,
         "texttemplate": "%{value}",
         "type": "histogram",
         "x": [
          "India"
         ],
         "xaxis": "x",
         "yaxis": "y"
        },
        {
         "alignmentgroup": "True",
         "bingroup": "x",
         "hovertemplate": "Followers=13.1M<br>Audience Country=%{x}<br>count=%{y}<extra></extra>",
         "legendgroup": "13.1M",
         "marker": {
          "color": "#FFA15A",
          "pattern": {
           "shape": ""
          }
         },
         "name": "13.1M",
         "offsetgroup": "13.1M",
         "orientation": "v",
         "showlegend": true,
         "texttemplate": "%{value}",
         "type": "histogram",
         "x": [
          "United States",
          "United States",
          "United States",
          "India"
         ],
         "xaxis": "x",
         "yaxis": "y"
        },
        {
         "alignmentgroup": "True",
         "bingroup": "x",
         "hovertemplate": "Followers=8M<br>Audience Country=%{x}<br>count=%{y}<extra></extra>",
         "legendgroup": "8M",
         "marker": {
          "color": "#19d3f3",
          "pattern": {
           "shape": ""
          }
         },
         "name": "8M",
         "offsetgroup": "8M",
         "orientation": "v",
         "showlegend": true,
         "texttemplate": "%{value}",
         "type": "histogram",
         "x": [
          "Indonesia",
          "Italy",
          "United States",
          "United States",
          "Brazil",
          "India"
         ],
         "xaxis": "x",
         "yaxis": "y"
        },
        {
         "alignmentgroup": "True",
         "bingroup": "x",
         "hovertemplate": "Followers=5.8M<br>Audience Country=%{x}<br>count=%{y}<extra></extra>",
         "legendgroup": "5.8M",
         "marker": {
          "color": "#FF6692",
          "pattern": {
           "shape": ""
          }
         },
         "name": "5.8M",
         "offsetgroup": "5.8M",
         "orientation": "v",
         "showlegend": true,
         "texttemplate": "%{value}",
         "type": "histogram",
         "x": [
          "United States",
          "United States",
          "Indonesia",
          "Mexico",
          "Brazil"
         ],
         "xaxis": "x",
         "yaxis": "y"
        },
        {
         "alignmentgroup": "True",
         "bingroup": "x",
         "hovertemplate": "Followers=5.7M<br>Audience Country=%{x}<br>count=%{y}<extra></extra>",
         "legendgroup": "5.7M",
         "marker": {
          "color": "#B6E880",
          "pattern": {
           "shape": ""
          }
         },
         "name": "5.7M",
         "offsetgroup": "5.7M",
         "orientation": "v",
         "showlegend": true,
         "texttemplate": "%{value}",
         "type": "histogram",
         "x": [
          null,
          null
         ],
         "xaxis": "x",
         "yaxis": "y"
        },
        {
         "alignmentgroup": "True",
         "bingroup": "x",
         "hovertemplate": "Followers=12.5M<br>Audience Country=%{x}<br>count=%{y}<extra></extra>",
         "legendgroup": "12.5M",
         "marker": {
          "color": "#FF97FF",
          "pattern": {
           "shape": ""
          }
         },
         "name": "12.5M",
         "offsetgroup": "12.5M",
         "orientation": "v",
         "showlegend": true,
         "texttemplate": "%{value}",
         "type": "histogram",
         "x": [
          "Indonesia",
          "Indonesia",
          "United States",
          "United States"
         ],
         "xaxis": "x",
         "yaxis": "y"
        },
        {
         "alignmentgroup": "True",
         "bingroup": "x",
         "hovertemplate": "Followers=16.5M<br>Audience Country=%{x}<br>count=%{y}<extra></extra>",
         "legendgroup": "16.5M",
         "marker": {
          "color": "#FECB52",
          "pattern": {
           "shape": ""
          }
         },
         "name": "16.5M",
         "offsetgroup": "16.5M",
         "orientation": "v",
         "showlegend": true,
         "texttemplate": "%{value}",
         "type": "histogram",
         "x": [
          "United States"
         ],
         "xaxis": "x",
         "yaxis": "y"
        },
        {
         "alignmentgroup": "True",
         "bingroup": "x",
         "hovertemplate": "Followers=5.5M<br>Audience Country=%{x}<br>count=%{y}<extra></extra>",
         "legendgroup": "5.5M",
         "marker": {
          "color": "#636efa",
          "pattern": {
           "shape": ""
          }
         },
         "name": "5.5M",
         "offsetgroup": "5.5M",
         "orientation": "v",
         "showlegend": true,
         "texttemplate": "%{value}",
         "type": "histogram",
         "x": [
          "United States",
          "Indonesia",
          "Indonesia"
         ],
         "xaxis": "x",
         "yaxis": "y"
        },
        {
         "alignmentgroup": "True",
         "bingroup": "x",
         "hovertemplate": "Followers=8.2M<br>Audience Country=%{x}<br>count=%{y}<extra></extra>",
         "legendgroup": "8.2M",
         "marker": {
          "color": "#EF553B",
          "pattern": {
           "shape": ""
          }
         },
         "name": "8.2M",
         "offsetgroup": "8.2M",
         "orientation": "v",
         "showlegend": true,
         "texttemplate": "%{value}",
         "type": "histogram",
         "x": [
          "United States",
          "Brazil",
          "Indonesia",
          "United States",
          "Mexico",
          "India"
         ],
         "xaxis": "x",
         "yaxis": "y"
        },
        {
         "alignmentgroup": "True",
         "bingroup": "x",
         "hovertemplate": "Followers=33.8M<br>Audience Country=%{x}<br>count=%{y}<extra></extra>",
         "legendgroup": "33.8M",
         "marker": {
          "color": "#00cc96",
          "pattern": {
           "shape": ""
          }
         },
         "name": "33.8M",
         "offsetgroup": "33.8M",
         "orientation": "v",
         "showlegend": true,
         "texttemplate": "%{value}",
         "type": "histogram",
         "x": [
          "United States"
         ],
         "xaxis": "x",
         "yaxis": "y"
        },
        {
         "alignmentgroup": "True",
         "bingroup": "x",
         "hovertemplate": "Followers=14.7M<br>Audience Country=%{x}<br>count=%{y}<extra></extra>",
         "legendgroup": "14.7M",
         "marker": {
          "color": "#ab63fa",
          "pattern": {
           "shape": ""
          }
         },
         "name": "14.7M",
         "offsetgroup": "14.7M",
         "orientation": "v",
         "showlegend": true,
         "texttemplate": "%{value}",
         "type": "histogram",
         "x": [
          "Argentina",
          "Russia"
         ],
         "xaxis": "x",
         "yaxis": "y"
        },
        {
         "alignmentgroup": "True",
         "bingroup": "x",
         "hovertemplate": "Followers=22.6M<br>Audience Country=%{x}<br>count=%{y}<extra></extra>",
         "legendgroup": "22.6M",
         "marker": {
          "color": "#FFA15A",
          "pattern": {
           "shape": ""
          }
         },
         "name": "22.6M",
         "offsetgroup": "22.6M",
         "orientation": "v",
         "showlegend": true,
         "texttemplate": "%{value}",
         "type": "histogram",
         "x": [
          "India"
         ],
         "xaxis": "x",
         "yaxis": "y"
        },
        {
         "alignmentgroup": "True",
         "bingroup": "x",
         "hovertemplate": "Followers=26.8M<br>Audience Country=%{x}<br>count=%{y}<extra></extra>",
         "legendgroup": "26.8M",
         "marker": {
          "color": "#19d3f3",
          "pattern": {
           "shape": ""
          }
         },
         "name": "26.8M",
         "offsetgroup": "26.8M",
         "orientation": "v",
         "showlegend": true,
         "texttemplate": "%{value}",
         "type": "histogram",
         "x": [
          "Poland"
         ],
         "xaxis": "x",
         "yaxis": "y"
        },
        {
         "alignmentgroup": "True",
         "bingroup": "x",
         "hovertemplate": "Followers=58.6M<br>Audience Country=%{x}<br>count=%{y}<extra></extra>",
         "legendgroup": "58.6M",
         "marker": {
          "color": "#FF6692",
          "pattern": {
           "shape": ""
          }
         },
         "name": "58.6M",
         "offsetgroup": "58.6M",
         "orientation": "v",
         "showlegend": true,
         "texttemplate": "%{value}",
         "type": "histogram",
         "x": [
          "Brazil"
         ],
         "xaxis": "x",
         "yaxis": "y"
        },
        {
         "alignmentgroup": "True",
         "bingroup": "x",
         "hovertemplate": "Followers=4.8M<br>Audience Country=%{x}<br>count=%{y}<extra></extra>",
         "legendgroup": "4.8M",
         "marker": {
          "color": "#B6E880",
          "pattern": {
           "shape": ""
          }
         },
         "name": "4.8M",
         "offsetgroup": "4.8M",
         "orientation": "v",
         "showlegend": true,
         "texttemplate": "%{value}",
         "type": "histogram",
         "x": [
          "United States",
          "Indonesia",
          "Argentina",
          "United States"
         ],
         "xaxis": "x",
         "yaxis": "y"
        },
        {
         "alignmentgroup": "True",
         "bingroup": "x",
         "hovertemplate": "Followers=8.4M<br>Audience Country=%{x}<br>count=%{y}<extra></extra>",
         "legendgroup": "8.4M",
         "marker": {
          "color": "#FF97FF",
          "pattern": {
           "shape": ""
          }
         },
         "name": "8.4M",
         "offsetgroup": "8.4M",
         "orientation": "v",
         "showlegend": true,
         "texttemplate": "%{value}",
         "type": "histogram",
         "x": [
          "Indonesia",
          "United States",
          "Brazil",
          "Italy",
          "India"
         ],
         "xaxis": "x",
         "yaxis": "y"
        },
        {
         "alignmentgroup": "True",
         "bingroup": "x",
         "hovertemplate": "Followers=8.3M<br>Audience Country=%{x}<br>count=%{y}<extra></extra>",
         "legendgroup": "8.3M",
         "marker": {
          "color": "#FECB52",
          "pattern": {
           "shape": ""
          }
         },
         "name": "8.3M",
         "offsetgroup": "8.3M",
         "orientation": "v",
         "showlegend": true,
         "texttemplate": "%{value}",
         "type": "histogram",
         "x": [
          "Indonesia",
          "United States"
         ],
         "xaxis": "x",
         "yaxis": "y"
        },
        {
         "alignmentgroup": "True",
         "bingroup": "x",
         "hovertemplate": "Followers=5.9M<br>Audience Country=%{x}<br>count=%{y}<extra></extra>",
         "legendgroup": "5.9M",
         "marker": {
          "color": "#636efa",
          "pattern": {
           "shape": ""
          }
         },
         "name": "5.9M",
         "offsetgroup": "5.9M",
         "orientation": "v",
         "showlegend": true,
         "texttemplate": "%{value}",
         "type": "histogram",
         "x": [
          "Indonesia",
          "Mexico",
          null,
          "India"
         ],
         "xaxis": "x",
         "yaxis": "y"
        },
        {
         "alignmentgroup": "True",
         "bingroup": "x",
         "hovertemplate": "Followers=6.5M<br>Audience Country=%{x}<br>count=%{y}<extra></extra>",
         "legendgroup": "6.5M",
         "marker": {
          "color": "#EF553B",
          "pattern": {
           "shape": ""
          }
         },
         "name": "6.5M",
         "offsetgroup": "6.5M",
         "orientation": "v",
         "showlegend": true,
         "texttemplate": "%{value}",
         "type": "histogram",
         "x": [
          "United States",
          "Indonesia",
          "Iran",
          "United States",
          "Turkey"
         ],
         "xaxis": "x",
         "yaxis": "y"
        },
        {
         "alignmentgroup": "True",
         "bingroup": "x",
         "hovertemplate": "Followers=12M<br>Audience Country=%{x}<br>count=%{y}<extra></extra>",
         "legendgroup": "12M",
         "marker": {
          "color": "#00cc96",
          "pattern": {
           "shape": ""
          }
         },
         "name": "12M",
         "offsetgroup": "12M",
         "orientation": "v",
         "showlegend": true,
         "texttemplate": "%{value}",
         "type": "histogram",
         "x": [
          "Mexico",
          "Iran",
          "Spain"
         ],
         "xaxis": "x",
         "yaxis": "y"
        },
        {
         "alignmentgroup": "True",
         "bingroup": "x",
         "hovertemplate": "Followers=7.3M<br>Audience Country=%{x}<br>count=%{y}<extra></extra>",
         "legendgroup": "7.3M",
         "marker": {
          "color": "#ab63fa",
          "pattern": {
           "shape": ""
          }
         },
         "name": "7.3M",
         "offsetgroup": "7.3M",
         "orientation": "v",
         "showlegend": true,
         "texttemplate": "%{value}",
         "type": "histogram",
         "x": [
          "Brazil",
          "Indonesia",
          "United States",
          "Indonesia",
          "United States",
          "Brazil",
          "Russia",
          "United States",
          "United States",
          "South Korea",
          "Iran",
          "United States",
          "United States",
          "Indonesia"
         ],
         "xaxis": "x",
         "yaxis": "y"
        },
        {
         "alignmentgroup": "True",
         "bingroup": "x",
         "hovertemplate": "Followers=10.5M<br>Audience Country=%{x}<br>count=%{y}<extra></extra>",
         "legendgroup": "10.5M",
         "marker": {
          "color": "#FFA15A",
          "pattern": {
           "shape": ""
          }
         },
         "name": "10.5M",
         "offsetgroup": "10.5M",
         "orientation": "v",
         "showlegend": true,
         "texttemplate": "%{value}",
         "type": "histogram",
         "x": [
          "Indonesia",
          "United States"
         ],
         "xaxis": "x",
         "yaxis": "y"
        },
        {
         "alignmentgroup": "True",
         "bingroup": "x",
         "hovertemplate": "Followers=12.8M<br>Audience Country=%{x}<br>count=%{y}<extra></extra>",
         "legendgroup": "12.8M",
         "marker": {
          "color": "#19d3f3",
          "pattern": {
           "shape": ""
          }
         },
         "name": "12.8M",
         "offsetgroup": "12.8M",
         "orientation": "v",
         "showlegend": true,
         "texttemplate": "%{value}",
         "type": "histogram",
         "x": [
          "Thailand",
          "Brazil",
          "Brazil",
          "United Kingdom",
          "United States"
         ],
         "xaxis": "x",
         "yaxis": "y"
        },
        {
         "alignmentgroup": "True",
         "bingroup": "x",
         "hovertemplate": "Followers=16.9M<br>Audience Country=%{x}<br>count=%{y}<extra></extra>",
         "legendgroup": "16.9M",
         "marker": {
          "color": "#FF6692",
          "pattern": {
           "shape": ""
          }
         },
         "name": "16.9M",
         "offsetgroup": "16.9M",
         "orientation": "v",
         "showlegend": true,
         "texttemplate": "%{value}",
         "type": "histogram",
         "x": [
          "Indonesia",
          "United States",
          "Thailand",
          "United States"
         ],
         "xaxis": "x",
         "yaxis": "y"
        },
        {
         "alignmentgroup": "True",
         "bingroup": "x",
         "hovertemplate": "Followers=18.4M<br>Audience Country=%{x}<br>count=%{y}<extra></extra>",
         "legendgroup": "18.4M",
         "marker": {
          "color": "#B6E880",
          "pattern": {
           "shape": ""
          }
         },
         "name": "18.4M",
         "offsetgroup": "18.4M",
         "orientation": "v",
         "showlegend": true,
         "texttemplate": "%{value}",
         "type": "histogram",
         "x": [
          "United States",
          "India",
          "Indonesia",
          "Russia",
          "Italy"
         ],
         "xaxis": "x",
         "yaxis": "y"
        },
        {
         "alignmentgroup": "True",
         "bingroup": "x",
         "hovertemplate": "Followers=17.3M<br>Audience Country=%{x}<br>count=%{y}<extra></extra>",
         "legendgroup": "17.3M",
         "marker": {
          "color": "#FF97FF",
          "pattern": {
           "shape": ""
          }
         },
         "name": "17.3M",
         "offsetgroup": "17.3M",
         "orientation": "v",
         "showlegend": true,
         "texttemplate": "%{value}",
         "type": "histogram",
         "x": [
          "Philippines",
          "Philippines"
         ],
         "xaxis": "x",
         "yaxis": "y"
        },
        {
         "alignmentgroup": "True",
         "bingroup": "x",
         "hovertemplate": "Followers=14.8M<br>Audience Country=%{x}<br>count=%{y}<extra></extra>",
         "legendgroup": "14.8M",
         "marker": {
          "color": "#FECB52",
          "pattern": {
           "shape": ""
          }
         },
         "name": "14.8M",
         "offsetgroup": "14.8M",
         "orientation": "v",
         "showlegend": true,
         "texttemplate": "%{value}",
         "type": "histogram",
         "x": [
          "India",
          "Mexico"
         ],
         "xaxis": "x",
         "yaxis": "y"
        },
        {
         "alignmentgroup": "True",
         "bingroup": "x",
         "hovertemplate": "Followers=5.3M<br>Audience Country=%{x}<br>count=%{y}<extra></extra>",
         "legendgroup": "5.3M",
         "marker": {
          "color": "#636efa",
          "pattern": {
           "shape": ""
          }
         },
         "name": "5.3M",
         "offsetgroup": "5.3M",
         "orientation": "v",
         "showlegend": true,
         "texttemplate": "%{value}",
         "type": "histogram",
         "x": [
          "United States",
          "Indonesia"
         ],
         "xaxis": "x",
         "yaxis": "y"
        },
        {
         "alignmentgroup": "True",
         "bingroup": "x",
         "hovertemplate": "Followers=22.9M<br>Audience Country=%{x}<br>count=%{y}<extra></extra>",
         "legendgroup": "22.9M",
         "marker": {
          "color": "#EF553B",
          "pattern": {
           "shape": ""
          }
         },
         "name": "22.9M",
         "offsetgroup": "22.9M",
         "orientation": "v",
         "showlegend": true,
         "texttemplate": "%{value}",
         "type": "histogram",
         "x": [
          "United States"
         ],
         "xaxis": "x",
         "yaxis": "y"
        },
        {
         "alignmentgroup": "True",
         "bingroup": "x",
         "hovertemplate": "Followers=22.4M<br>Audience Country=%{x}<br>count=%{y}<extra></extra>",
         "legendgroup": "22.4M",
         "marker": {
          "color": "#00cc96",
          "pattern": {
           "shape": ""
          }
         },
         "name": "22.4M",
         "offsetgroup": "22.4M",
         "orientation": "v",
         "showlegend": true,
         "texttemplate": "%{value}",
         "type": "histogram",
         "x": [
          "United States",
          "Brazil",
          "United States"
         ],
         "xaxis": "x",
         "yaxis": "y"
        },
        {
         "alignmentgroup": "True",
         "bingroup": "x",
         "hovertemplate": "Followers=40.1M<br>Audience Country=%{x}<br>count=%{y}<extra></extra>",
         "legendgroup": "40.1M",
         "marker": {
          "color": "#ab63fa",
          "pattern": {
           "shape": ""
          }
         },
         "name": "40.1M",
         "offsetgroup": "40.1M",
         "orientation": "v",
         "showlegend": true,
         "texttemplate": "%{value}",
         "type": "histogram",
         "x": [
          "India"
         ],
         "xaxis": "x",
         "yaxis": "y"
        },
        {
         "alignmentgroup": "True",
         "bingroup": "x",
         "hovertemplate": "Followers=9.9M<br>Audience Country=%{x}<br>count=%{y}<extra></extra>",
         "legendgroup": "9.9M",
         "marker": {
          "color": "#FFA15A",
          "pattern": {
           "shape": ""
          }
         },
         "name": "9.9M",
         "offsetgroup": "9.9M",
         "orientation": "v",
         "showlegend": true,
         "texttemplate": "%{value}",
         "type": "histogram",
         "x": [
          "Indonesia",
          "Morocco",
          "Brazil",
          "Brazil",
          "Japan",
          "Brazil",
          "Brazil"
         ],
         "xaxis": "x",
         "yaxis": "y"
        },
        {
         "alignmentgroup": "True",
         "bingroup": "x",
         "hovertemplate": "Followers=11.6M<br>Audience Country=%{x}<br>count=%{y}<extra></extra>",
         "legendgroup": "11.6M",
         "marker": {
          "color": "#19d3f3",
          "pattern": {
           "shape": ""
          }
         },
         "name": "11.6M",
         "offsetgroup": "11.6M",
         "orientation": "v",
         "showlegend": true,
         "texttemplate": "%{value}",
         "type": "histogram",
         "x": [
          "United Kingdom",
          "United Kingdom",
          "India",
          "Russia",
          "India",
          "United States",
          "Iran",
          "United States"
         ],
         "xaxis": "x",
         "yaxis": "y"
        },
        {
         "alignmentgroup": "True",
         "bingroup": "x",
         "hovertemplate": "Followers=18M<br>Audience Country=%{x}<br>count=%{y}<extra></extra>",
         "legendgroup": "18M",
         "marker": {
          "color": "#FF6692",
          "pattern": {
           "shape": ""
          }
         },
         "name": "18M",
         "offsetgroup": "18M",
         "orientation": "v",
         "showlegend": true,
         "texttemplate": "%{value}",
         "type": "histogram",
         "x": [
          "United Kingdom"
         ],
         "xaxis": "x",
         "yaxis": "y"
        },
        {
         "alignmentgroup": "True",
         "bingroup": "x",
         "hovertemplate": "Followers=65.4M<br>Audience Country=%{x}<br>count=%{y}<extra></extra>",
         "legendgroup": "65.4M",
         "marker": {
          "color": "#B6E880",
          "pattern": {
           "shape": ""
          }
         },
         "name": "65.4M",
         "offsetgroup": "65.4M",
         "orientation": "v",
         "showlegend": true,
         "texttemplate": "%{value}",
         "type": "histogram",
         "x": [
          "United States"
         ],
         "xaxis": "x",
         "yaxis": "y"
        },
        {
         "alignmentgroup": "True",
         "bingroup": "x",
         "hovertemplate": "Followers=11M<br>Audience Country=%{x}<br>count=%{y}<extra></extra>",
         "legendgroup": "11M",
         "marker": {
          "color": "#FF97FF",
          "pattern": {
           "shape": ""
          }
         },
         "name": "11M",
         "offsetgroup": "11M",
         "orientation": "v",
         "showlegend": true,
         "texttemplate": "%{value}",
         "type": "histogram",
         "x": [
          "Mexico",
          "Russia",
          "India"
         ],
         "xaxis": "x",
         "yaxis": "y"
        },
        {
         "alignmentgroup": "True",
         "bingroup": "x",
         "hovertemplate": "Followers=17.2M<br>Audience Country=%{x}<br>count=%{y}<extra></extra>",
         "legendgroup": "17.2M",
         "marker": {
          "color": "#FECB52",
          "pattern": {
           "shape": ""
          }
         },
         "name": "17.2M",
         "offsetgroup": "17.2M",
         "orientation": "v",
         "showlegend": true,
         "texttemplate": "%{value}",
         "type": "histogram",
         "x": [
          "Indonesia",
          "Mexico",
          "India",
          "India"
         ],
         "xaxis": "x",
         "yaxis": "y"
        },
        {
         "alignmentgroup": "True",
         "bingroup": "x",
         "hovertemplate": "Followers=52.8M<br>Audience Country=%{x}<br>count=%{y}<extra></extra>",
         "legendgroup": "52.8M",
         "marker": {
          "color": "#636efa",
          "pattern": {
           "shape": ""
          }
         },
         "name": "52.8M",
         "offsetgroup": "52.8M",
         "orientation": "v",
         "showlegend": true,
         "texttemplate": "%{value}",
         "type": "histogram",
         "x": [
          "Mexico"
         ],
         "xaxis": "x",
         "yaxis": "y"
        },
        {
         "alignmentgroup": "True",
         "bingroup": "x",
         "hovertemplate": "Followers=59M<br>Audience Country=%{x}<br>count=%{y}<extra></extra>",
         "legendgroup": "59M",
         "marker": {
          "color": "#EF553B",
          "pattern": {
           "shape": ""
          }
         },
         "name": "59M",
         "offsetgroup": "59M",
         "orientation": "v",
         "showlegend": true,
         "texttemplate": "%{value}",
         "type": "histogram",
         "x": [
          "United Kingdom"
         ],
         "xaxis": "x",
         "yaxis": "y"
        },
        {
         "alignmentgroup": "True",
         "bingroup": "x",
         "hovertemplate": "Followers=20.2M<br>Audience Country=%{x}<br>count=%{y}<extra></extra>",
         "legendgroup": "20.2M",
         "marker": {
          "color": "#00cc96",
          "pattern": {
           "shape": ""
          }
         },
         "name": "20.2M",
         "offsetgroup": "20.2M",
         "orientation": "v",
         "showlegend": true,
         "texttemplate": "%{value}",
         "type": "histogram",
         "x": [
          "United States",
          "Brazil"
         ],
         "xaxis": "x",
         "yaxis": "y"
        },
        {
         "alignmentgroup": "True",
         "bingroup": "x",
         "hovertemplate": "Followers=10.1M<br>Audience Country=%{x}<br>count=%{y}<extra></extra>",
         "legendgroup": "10.1M",
         "marker": {
          "color": "#ab63fa",
          "pattern": {
           "shape": ""
          }
         },
         "name": "10.1M",
         "offsetgroup": "10.1M",
         "orientation": "v",
         "showlegend": true,
         "texttemplate": "%{value}",
         "type": "histogram",
         "x": [
          "South Korea",
          "Argentina",
          "Spain",
          "Iraq",
          "India",
          "United States"
         ],
         "xaxis": "x",
         "yaxis": "y"
        },
        {
         "alignmentgroup": "True",
         "bingroup": "x",
         "hovertemplate": "Followers=25M<br>Audience Country=%{x}<br>count=%{y}<extra></extra>",
         "legendgroup": "25M",
         "marker": {
          "color": "#FFA15A",
          "pattern": {
           "shape": ""
          }
         },
         "name": "25M",
         "offsetgroup": "25M",
         "orientation": "v",
         "showlegend": true,
         "texttemplate": "%{value}",
         "type": "histogram",
         "x": [
          "United States",
          "Brazil"
         ],
         "xaxis": "x",
         "yaxis": "y"
        },
        {
         "alignmentgroup": "True",
         "bingroup": "x",
         "hovertemplate": "Followers=32M<br>Audience Country=%{x}<br>count=%{y}<extra></extra>",
         "legendgroup": "32M",
         "marker": {
          "color": "#19d3f3",
          "pattern": {
           "shape": ""
          }
         },
         "name": "32M",
         "offsetgroup": "32M",
         "orientation": "v",
         "showlegend": true,
         "texttemplate": "%{value}",
         "type": "histogram",
         "x": [
          "India"
         ],
         "xaxis": "x",
         "yaxis": "y"
        },
        {
         "alignmentgroup": "True",
         "bingroup": "x",
         "hovertemplate": "Followers=13.4M<br>Audience Country=%{x}<br>count=%{y}<extra></extra>",
         "legendgroup": "13.4M",
         "marker": {
          "color": "#FF6692",
          "pattern": {
           "shape": ""
          }
         },
         "name": "13.4M",
         "offsetgroup": "13.4M",
         "orientation": "v",
         "showlegend": true,
         "texttemplate": "%{value}",
         "type": "histogram",
         "x": [
          "India",
          "Iran",
          "Indonesia",
          "Mexico",
          "Mexico",
          "United States"
         ],
         "xaxis": "x",
         "yaxis": "y"
        },
        {
         "alignmentgroup": "True",
         "bingroup": "x",
         "hovertemplate": "Followers=7.8M<br>Audience Country=%{x}<br>count=%{y}<extra></extra>",
         "legendgroup": "7.8M",
         "marker": {
          "color": "#B6E880",
          "pattern": {
           "shape": ""
          }
         },
         "name": "7.8M",
         "offsetgroup": "7.8M",
         "orientation": "v",
         "showlegend": true,
         "texttemplate": "%{value}",
         "type": "histogram",
         "x": [
          "Spain",
          "Brazil"
         ],
         "xaxis": "x",
         "yaxis": "y"
        },
        {
         "alignmentgroup": "True",
         "bingroup": "x",
         "hovertemplate": "Followers=50.3M<br>Audience Country=%{x}<br>count=%{y}<extra></extra>",
         "legendgroup": "50.3M",
         "marker": {
          "color": "#FF97FF",
          "pattern": {
           "shape": ""
          }
         },
         "name": "50.3M",
         "offsetgroup": "50.3M",
         "orientation": "v",
         "showlegend": true,
         "texttemplate": "%{value}",
         "type": "histogram",
         "x": [
          "United States"
         ],
         "xaxis": "x",
         "yaxis": "y"
        },
        {
         "alignmentgroup": "True",
         "bingroup": "x",
         "hovertemplate": "Followers=23.9M<br>Audience Country=%{x}<br>count=%{y}<extra></extra>",
         "legendgroup": "23.9M",
         "marker": {
          "color": "#FECB52",
          "pattern": {
           "shape": ""
          }
         },
         "name": "23.9M",
         "offsetgroup": "23.9M",
         "orientation": "v",
         "showlegend": true,
         "texttemplate": "%{value}",
         "type": "histogram",
         "x": [
          "Indonesia",
          "India"
         ],
         "xaxis": "x",
         "yaxis": "y"
        },
        {
         "alignmentgroup": "True",
         "bingroup": "x",
         "hovertemplate": "Followers=19.5M<br>Audience Country=%{x}<br>count=%{y}<extra></extra>",
         "legendgroup": "19.5M",
         "marker": {
          "color": "#636efa",
          "pattern": {
           "shape": ""
          }
         },
         "name": "19.5M",
         "offsetgroup": "19.5M",
         "orientation": "v",
         "showlegend": true,
         "texttemplate": "%{value}",
         "type": "histogram",
         "x": [
          "Iran"
         ],
         "xaxis": "x",
         "yaxis": "y"
        },
        {
         "alignmentgroup": "True",
         "bingroup": "x",
         "hovertemplate": "Followers=12.2M<br>Audience Country=%{x}<br>count=%{y}<extra></extra>",
         "legendgroup": "12.2M",
         "marker": {
          "color": "#EF553B",
          "pattern": {
           "shape": ""
          }
         },
         "name": "12.2M",
         "offsetgroup": "12.2M",
         "orientation": "v",
         "showlegend": true,
         "texttemplate": "%{value}",
         "type": "histogram",
         "x": [
          "Argentina",
          "India",
          "India",
          "Iran",
          "United States",
          "India",
          "India"
         ],
         "xaxis": "x",
         "yaxis": "y"
        },
        {
         "alignmentgroup": "True",
         "bingroup": "x",
         "hovertemplate": "Followers=19.9M<br>Audience Country=%{x}<br>count=%{y}<extra></extra>",
         "legendgroup": "19.9M",
         "marker": {
          "color": "#00cc96",
          "pattern": {
           "shape": ""
          }
         },
         "name": "19.9M",
         "offsetgroup": "19.9M",
         "orientation": "v",
         "showlegend": true,
         "texttemplate": "%{value}",
         "type": "histogram",
         "x": [
          "United States",
          "India",
          "United States",
          "United States",
          "Italy"
         ],
         "xaxis": "x",
         "yaxis": "y"
        },
        {
         "alignmentgroup": "True",
         "bingroup": "x",
         "hovertemplate": "Followers=38.9M<br>Audience Country=%{x}<br>count=%{y}<extra></extra>",
         "legendgroup": "38.9M",
         "marker": {
          "color": "#ab63fa",
          "pattern": {
           "shape": ""
          }
         },
         "name": "38.9M",
         "offsetgroup": "38.9M",
         "orientation": "v",
         "showlegend": true,
         "texttemplate": "%{value}",
         "type": "histogram",
         "x": [
          "Indonesia"
         ],
         "xaxis": "x",
         "yaxis": "y"
        },
        {
         "alignmentgroup": "True",
         "bingroup": "x",
         "hovertemplate": "Followers=19.4M<br>Audience Country=%{x}<br>count=%{y}<extra></extra>",
         "legendgroup": "19.4M",
         "marker": {
          "color": "#FFA15A",
          "pattern": {
           "shape": ""
          }
         },
         "name": "19.4M",
         "offsetgroup": "19.4M",
         "orientation": "v",
         "showlegend": true,
         "texttemplate": "%{value}",
         "type": "histogram",
         "x": [
          "Egypt",
          "Brazil"
         ],
         "xaxis": "x",
         "yaxis": "y"
        },
        {
         "alignmentgroup": "True",
         "bingroup": "x",
         "hovertemplate": "Followers=148.8M<br>Audience Country=%{x}<br>count=%{y}<extra></extra>",
         "legendgroup": "148.8M",
         "marker": {
          "color": "#19d3f3",
          "pattern": {
           "shape": ""
          }
         },
         "name": "148.8M",
         "offsetgroup": "148.8M",
         "orientation": "v",
         "showlegend": true,
         "texttemplate": "%{value}",
         "type": "histogram",
         "x": [
          "United States"
         ],
         "xaxis": "x",
         "yaxis": "y"
        },
        {
         "alignmentgroup": "True",
         "bingroup": "x",
         "hovertemplate": "Followers=26.5M<br>Audience Country=%{x}<br>count=%{y}<extra></extra>",
         "legendgroup": "26.5M",
         "marker": {
          "color": "#FF6692",
          "pattern": {
           "shape": ""
          }
         },
         "name": "26.5M",
         "offsetgroup": "26.5M",
         "orientation": "v",
         "showlegend": true,
         "texttemplate": "%{value}",
         "type": "histogram",
         "x": [
          "United States"
         ],
         "xaxis": "x",
         "yaxis": "y"
        },
        {
         "alignmentgroup": "True",
         "bingroup": "x",
         "hovertemplate": "Followers=43.1M<br>Audience Country=%{x}<br>count=%{y}<extra></extra>",
         "legendgroup": "43.1M",
         "marker": {
          "color": "#B6E880",
          "pattern": {
           "shape": ""
          }
         },
         "name": "43.1M",
         "offsetgroup": "43.1M",
         "orientation": "v",
         "showlegend": true,
         "texttemplate": "%{value}",
         "type": "histogram",
         "x": [
          "Brazil"
         ],
         "xaxis": "x",
         "yaxis": "y"
        },
        {
         "alignmentgroup": "True",
         "bingroup": "x",
         "hovertemplate": "Followers=27.7M<br>Audience Country=%{x}<br>count=%{y}<extra></extra>",
         "legendgroup": "27.7M",
         "marker": {
          "color": "#FF97FF",
          "pattern": {
           "shape": ""
          }
         },
         "name": "27.7M",
         "offsetgroup": "27.7M",
         "orientation": "v",
         "showlegend": true,
         "texttemplate": "%{value}",
         "type": "histogram",
         "x": [
          "Brazil"
         ],
         "xaxis": "x",
         "yaxis": "y"
        },
        {
         "alignmentgroup": "True",
         "bingroup": "x",
         "hovertemplate": "Followers=27.5M<br>Audience Country=%{x}<br>count=%{y}<extra></extra>",
         "legendgroup": "27.5M",
         "marker": {
          "color": "#FECB52",
          "pattern": {
           "shape": ""
          }
         },
         "name": "27.5M",
         "offsetgroup": "27.5M",
         "orientation": "v",
         "showlegend": true,
         "texttemplate": "%{value}",
         "type": "histogram",
         "x": [
          "Argentina",
          "Italy"
         ],
         "xaxis": "x",
         "yaxis": "y"
        },
        {
         "alignmentgroup": "True",
         "bingroup": "x",
         "hovertemplate": "Followers=8.1M<br>Audience Country=%{x}<br>count=%{y}<extra></extra>",
         "legendgroup": "8.1M",
         "marker": {
          "color": "#636efa",
          "pattern": {
           "shape": ""
          }
         },
         "name": "8.1M",
         "offsetgroup": "8.1M",
         "orientation": "v",
         "showlegend": true,
         "texttemplate": "%{value}",
         "type": "histogram",
         "x": [
          "India",
          "Brazil",
          "Brazil",
          "Iran",
          "Mexico",
          "United States",
          "United States",
          "Indonesia",
          "Indonesia"
         ],
         "xaxis": "x",
         "yaxis": "y"
        },
        {
         "alignmentgroup": "True",
         "bingroup": "x",
         "hovertemplate": "Followers=4.9M<br>Audience Country=%{x}<br>count=%{y}<extra></extra>",
         "legendgroup": "4.9M",
         "marker": {
          "color": "#EF553B",
          "pattern": {
           "shape": ""
          }
         },
         "name": "4.9M",
         "offsetgroup": "4.9M",
         "orientation": "v",
         "showlegend": true,
         "texttemplate": "%{value}",
         "type": "histogram",
         "x": [
          "Indonesia",
          "South Korea",
          "India",
          "Indonesia",
          "United States"
         ],
         "xaxis": "x",
         "yaxis": "y"
        },
        {
         "alignmentgroup": "True",
         "bingroup": "x",
         "hovertemplate": "Followers=18.1M<br>Audience Country=%{x}<br>count=%{y}<extra></extra>",
         "legendgroup": "18.1M",
         "marker": {
          "color": "#00cc96",
          "pattern": {
           "shape": ""
          }
         },
         "name": "18.1M",
         "offsetgroup": "18.1M",
         "orientation": "v",
         "showlegend": true,
         "texttemplate": "%{value}",
         "type": "histogram",
         "x": [
          "South Korea",
          "United States",
          "Brazil"
         ],
         "xaxis": "x",
         "yaxis": "y"
        },
        {
         "alignmentgroup": "True",
         "bingroup": "x",
         "hovertemplate": "Followers=13.9M<br>Audience Country=%{x}<br>count=%{y}<extra></extra>",
         "legendgroup": "13.9M",
         "marker": {
          "color": "#ab63fa",
          "pattern": {
           "shape": ""
          }
         },
         "name": "13.9M",
         "offsetgroup": "13.9M",
         "orientation": "v",
         "showlegend": true,
         "texttemplate": "%{value}",
         "type": "histogram",
         "x": [
          "United States",
          "Brazil",
          "Brazil",
          "Italy",
          "United States",
          "Indonesia",
          "United States",
          "United States"
         ],
         "xaxis": "x",
         "yaxis": "y"
        },
        {
         "alignmentgroup": "True",
         "bingroup": "x",
         "hovertemplate": "Followers=58.2M<br>Audience Country=%{x}<br>count=%{y}<extra></extra>",
         "legendgroup": "58.2M",
         "marker": {
          "color": "#FFA15A",
          "pattern": {
           "shape": ""
          }
         },
         "name": "58.2M",
         "offsetgroup": "58.2M",
         "orientation": "v",
         "showlegend": true,
         "texttemplate": "%{value}",
         "type": "histogram",
         "x": [
          "Indonesia"
         ],
         "xaxis": "x",
         "yaxis": "y"
        },
        {
         "alignmentgroup": "True",
         "bingroup": "x",
         "hovertemplate": "Followers=5.1M<br>Audience Country=%{x}<br>count=%{y}<extra></extra>",
         "legendgroup": "5.1M",
         "marker": {
          "color": "#19d3f3",
          "pattern": {
           "shape": ""
          }
         },
         "name": "5.1M",
         "offsetgroup": "5.1M",
         "orientation": "v",
         "showlegend": true,
         "texttemplate": "%{value}",
         "type": "histogram",
         "x": [
          "Indonesia",
          "Argentina",
          "India",
          "United States"
         ],
         "xaxis": "x",
         "yaxis": "y"
        },
        {
         "alignmentgroup": "True",
         "bingroup": "x",
         "hovertemplate": "Followers=7.9M<br>Audience Country=%{x}<br>count=%{y}<extra></extra>",
         "legendgroup": "7.9M",
         "marker": {
          "color": "#FF6692",
          "pattern": {
           "shape": ""
          }
         },
         "name": "7.9M",
         "offsetgroup": "7.9M",
         "orientation": "v",
         "showlegend": true,
         "texttemplate": "%{value}",
         "type": "histogram",
         "x": [
          "United States",
          "Brazil",
          "Argentina",
          "France",
          "Brazil",
          "United States"
         ],
         "xaxis": "x",
         "yaxis": "y"
        },
        {
         "alignmentgroup": "True",
         "bingroup": "x",
         "hovertemplate": "Followers=13.2M<br>Audience Country=%{x}<br>count=%{y}<extra></extra>",
         "legendgroup": "13.2M",
         "marker": {
          "color": "#B6E880",
          "pattern": {
           "shape": ""
          }
         },
         "name": "13.2M",
         "offsetgroup": "13.2M",
         "orientation": "v",
         "showlegend": true,
         "texttemplate": "%{value}",
         "type": "histogram",
         "x": [
          "United States",
          "Turkey",
          "Brazil",
          "Brazil",
          "United States"
         ],
         "xaxis": "x",
         "yaxis": "y"
        },
        {
         "alignmentgroup": "True",
         "bingroup": "x",
         "hovertemplate": "Followers=6.2M<br>Audience Country=%{x}<br>count=%{y}<extra></extra>",
         "legendgroup": "6.2M",
         "marker": {
          "color": "#FF97FF",
          "pattern": {
           "shape": ""
          }
         },
         "name": "6.2M",
         "offsetgroup": "6.2M",
         "orientation": "v",
         "showlegend": true,
         "texttemplate": "%{value}",
         "type": "histogram",
         "x": [
          "United States",
          "United States",
          "India"
         ],
         "xaxis": "x",
         "yaxis": "y"
        },
        {
         "alignmentgroup": "True",
         "bingroup": "x",
         "hovertemplate": "Followers=13.3M<br>Audience Country=%{x}<br>count=%{y}<extra></extra>",
         "legendgroup": "13.3M",
         "marker": {
          "color": "#FECB52",
          "pattern": {
           "shape": ""
          }
         },
         "name": "13.3M",
         "offsetgroup": "13.3M",
         "orientation": "v",
         "showlegend": true,
         "texttemplate": "%{value}",
         "type": "histogram",
         "x": [
          "Indonesia",
          "United States"
         ],
         "xaxis": "x",
         "yaxis": "y"
        },
        {
         "alignmentgroup": "True",
         "bingroup": "x",
         "hovertemplate": "Followers=34.8M<br>Audience Country=%{x}<br>count=%{y}<extra></extra>",
         "legendgroup": "34.8M",
         "marker": {
          "color": "#636efa",
          "pattern": {
           "shape": ""
          }
         },
         "name": "34.8M",
         "offsetgroup": "34.8M",
         "orientation": "v",
         "showlegend": true,
         "texttemplate": "%{value}",
         "type": "histogram",
         "x": [
          "Brazil",
          "Indonesia"
         ],
         "xaxis": "x",
         "yaxis": "y"
        },
        {
         "alignmentgroup": "True",
         "bingroup": "x",
         "hovertemplate": "Followers=33.7M<br>Audience Country=%{x}<br>count=%{y}<extra></extra>",
         "legendgroup": "33.7M",
         "marker": {
          "color": "#EF553B",
          "pattern": {
           "shape": ""
          }
         },
         "name": "33.7M",
         "offsetgroup": "33.7M",
         "orientation": "v",
         "showlegend": true,
         "texttemplate": "%{value}",
         "type": "histogram",
         "x": [
          "Brazil"
         ],
         "xaxis": "x",
         "yaxis": "y"
        },
        {
         "alignmentgroup": "True",
         "bingroup": "x",
         "hovertemplate": "Followers=16.2M<br>Audience Country=%{x}<br>count=%{y}<extra></extra>",
         "legendgroup": "16.2M",
         "marker": {
          "color": "#00cc96",
          "pattern": {
           "shape": ""
          }
         },
         "name": "16.2M",
         "offsetgroup": "16.2M",
         "orientation": "v",
         "showlegend": true,
         "texttemplate": "%{value}",
         "type": "histogram",
         "x": [
          "United States",
          "India"
         ],
         "xaxis": "x",
         "yaxis": "y"
        },
        {
         "alignmentgroup": "True",
         "bingroup": "x",
         "hovertemplate": "Followers=6.4M<br>Audience Country=%{x}<br>count=%{y}<extra></extra>",
         "legendgroup": "6.4M",
         "marker": {
          "color": "#ab63fa",
          "pattern": {
           "shape": ""
          }
         },
         "name": "6.4M",
         "offsetgroup": "6.4M",
         "orientation": "v",
         "showlegend": true,
         "texttemplate": "%{value}",
         "type": "histogram",
         "x": [
          "Indonesia",
          "Brazil",
          "Mexico"
         ],
         "xaxis": "x",
         "yaxis": "y"
        },
        {
         "alignmentgroup": "True",
         "bingroup": "x",
         "hovertemplate": "Followers=19.6M<br>Audience Country=%{x}<br>count=%{y}<extra></extra>",
         "legendgroup": "19.6M",
         "marker": {
          "color": "#FFA15A",
          "pattern": {
           "shape": ""
          }
         },
         "name": "19.6M",
         "offsetgroup": "19.6M",
         "orientation": "v",
         "showlegend": true,
         "texttemplate": "%{value}",
         "type": "histogram",
         "x": [
          "United States"
         ],
         "xaxis": "x",
         "yaxis": "y"
        },
        {
         "alignmentgroup": "True",
         "bingroup": "x",
         "hovertemplate": "Followers=6.7M<br>Audience Country=%{x}<br>count=%{y}<extra></extra>",
         "legendgroup": "6.7M",
         "marker": {
          "color": "#19d3f3",
          "pattern": {
           "shape": ""
          }
         },
         "name": "6.7M",
         "offsetgroup": "6.7M",
         "orientation": "v",
         "showlegend": true,
         "texttemplate": "%{value}",
         "type": "histogram",
         "x": [
          "Indonesia",
          "United States",
          "United States",
          "United States",
          "United States"
         ],
         "xaxis": "x",
         "yaxis": "y"
        },
        {
         "alignmentgroup": "True",
         "bingroup": "x",
         "hovertemplate": "Followers=5.4M<br>Audience Country=%{x}<br>count=%{y}<extra></extra>",
         "legendgroup": "5.4M",
         "marker": {
          "color": "#FF6692",
          "pattern": {
           "shape": ""
          }
         },
         "name": "5.4M",
         "offsetgroup": "5.4M",
         "orientation": "v",
         "showlegend": true,
         "texttemplate": "%{value}",
         "type": "histogram",
         "x": [
          "Indonesia",
          "Mexico",
          "United States",
          "United States",
          "United States",
          "Indonesia"
         ],
         "xaxis": "x",
         "yaxis": "y"
        },
        {
         "alignmentgroup": "True",
         "bingroup": "x",
         "hovertemplate": "Followers=16.4M<br>Audience Country=%{x}<br>count=%{y}<extra></extra>",
         "legendgroup": "16.4M",
         "marker": {
          "color": "#B6E880",
          "pattern": {
           "shape": ""
          }
         },
         "name": "16.4M",
         "offsetgroup": "16.4M",
         "orientation": "v",
         "showlegend": true,
         "texttemplate": "%{value}",
         "type": "histogram",
         "x": [
          "United States",
          "United States"
         ],
         "xaxis": "x",
         "yaxis": "y"
        },
        {
         "alignmentgroup": "True",
         "bingroup": "x",
         "hovertemplate": "Followers=46.4M<br>Audience Country=%{x}<br>count=%{y}<extra></extra>",
         "legendgroup": "46.4M",
         "marker": {
          "color": "#FF97FF",
          "pattern": {
           "shape": ""
          }
         },
         "name": "46.4M",
         "offsetgroup": "46.4M",
         "orientation": "v",
         "showlegend": true,
         "texttemplate": "%{value}",
         "type": "histogram",
         "x": [
          "United States"
         ],
         "xaxis": "x",
         "yaxis": "y"
        },
        {
         "alignmentgroup": "True",
         "bingroup": "x",
         "hovertemplate": "Followers=6M<br>Audience Country=%{x}<br>count=%{y}<extra></extra>",
         "legendgroup": "6M",
         "marker": {
          "color": "#FECB52",
          "pattern": {
           "shape": ""
          }
         },
         "name": "6M",
         "offsetgroup": "6M",
         "orientation": "v",
         "showlegend": true,
         "texttemplate": "%{value}",
         "type": "histogram",
         "x": [
          "South Korea",
          "Argentina",
          "Indonesia",
          "India",
          "India"
         ],
         "xaxis": "x",
         "yaxis": "y"
        },
        {
         "alignmentgroup": "True",
         "bingroup": "x",
         "hovertemplate": "Followers=39.5M<br>Audience Country=%{x}<br>count=%{y}<extra></extra>",
         "legendgroup": "39.5M",
         "marker": {
          "color": "#636efa",
          "pattern": {
           "shape": ""
          }
         },
         "name": "39.5M",
         "offsetgroup": "39.5M",
         "orientation": "v",
         "showlegend": true,
         "texttemplate": "%{value}",
         "type": "histogram",
         "x": [
          "United States",
          "United Kingdom"
         ],
         "xaxis": "x",
         "yaxis": "y"
        },
        {
         "alignmentgroup": "True",
         "bingroup": "x",
         "hovertemplate": "Followers=46.1M<br>Audience Country=%{x}<br>count=%{y}<extra></extra>",
         "legendgroup": "46.1M",
         "marker": {
          "color": "#EF553B",
          "pattern": {
           "shape": ""
          }
         },
         "name": "46.1M",
         "offsetgroup": "46.1M",
         "orientation": "v",
         "showlegend": true,
         "texttemplate": "%{value}",
         "type": "histogram",
         "x": [
          "Brazil"
         ],
         "xaxis": "x",
         "yaxis": "y"
        },
        {
         "alignmentgroup": "True",
         "bingroup": "x",
         "hovertemplate": "Followers=19.2M<br>Audience Country=%{x}<br>count=%{y}<extra></extra>",
         "legendgroup": "19.2M",
         "marker": {
          "color": "#00cc96",
          "pattern": {
           "shape": ""
          }
         },
         "name": "19.2M",
         "offsetgroup": "19.2M",
         "orientation": "v",
         "showlegend": true,
         "texttemplate": "%{value}",
         "type": "histogram",
         "x": [
          "United States"
         ],
         "xaxis": "x",
         "yaxis": "y"
        },
        {
         "alignmentgroup": "True",
         "bingroup": "x",
         "hovertemplate": "Followers=17.5M<br>Audience Country=%{x}<br>count=%{y}<extra></extra>",
         "legendgroup": "17.5M",
         "marker": {
          "color": "#ab63fa",
          "pattern": {
           "shape": ""
          }
         },
         "name": "17.5M",
         "offsetgroup": "17.5M",
         "orientation": "v",
         "showlegend": true,
         "texttemplate": "%{value}",
         "type": "histogram",
         "x": [
          "Russia",
          "Brazil"
         ],
         "xaxis": "x",
         "yaxis": "y"
        },
        {
         "alignmentgroup": "True",
         "bingroup": "x",
         "hovertemplate": "Followers=29.8M<br>Audience Country=%{x}<br>count=%{y}<extra></extra>",
         "legendgroup": "29.8M",
         "marker": {
          "color": "#FFA15A",
          "pattern": {
           "shape": ""
          }
         },
         "name": "29.8M",
         "offsetgroup": "29.8M",
         "orientation": "v",
         "showlegend": true,
         "texttemplate": "%{value}",
         "type": "histogram",
         "x": [
          "Mexico"
         ],
         "xaxis": "x",
         "yaxis": "y"
        },
        {
         "alignmentgroup": "True",
         "bingroup": "x",
         "hovertemplate": "Followers=36.4M<br>Audience Country=%{x}<br>count=%{y}<extra></extra>",
         "legendgroup": "36.4M",
         "marker": {
          "color": "#19d3f3",
          "pattern": {
           "shape": ""
          }
         },
         "name": "36.4M",
         "offsetgroup": "36.4M",
         "orientation": "v",
         "showlegend": true,
         "texttemplate": "%{value}",
         "type": "histogram",
         "x": [
          "Spain"
         ],
         "xaxis": "x",
         "yaxis": "y"
        },
        {
         "alignmentgroup": "True",
         "bingroup": "x",
         "hovertemplate": "Followers=9.5M<br>Audience Country=%{x}<br>count=%{y}<extra></extra>",
         "legendgroup": "9.5M",
         "marker": {
          "color": "#FF6692",
          "pattern": {
           "shape": ""
          }
         },
         "name": "9.5M",
         "offsetgroup": "9.5M",
         "orientation": "v",
         "showlegend": true,
         "texttemplate": "%{value}",
         "type": "histogram",
         "x": [
          "Brazil",
          "United States",
          "India",
          "Colombia"
         ],
         "xaxis": "x",
         "yaxis": "y"
        },
        {
         "alignmentgroup": "True",
         "bingroup": "x",
         "hovertemplate": "Followers=7.1M<br>Audience Country=%{x}<br>count=%{y}<extra></extra>",
         "legendgroup": "7.1M",
         "marker": {
          "color": "#B6E880",
          "pattern": {
           "shape": ""
          }
         },
         "name": "7.1M",
         "offsetgroup": "7.1M",
         "orientation": "v",
         "showlegend": true,
         "texttemplate": "%{value}",
         "type": "histogram",
         "x": [
          "United States",
          "United States",
          "United States",
          "Indonesia"
         ],
         "xaxis": "x",
         "yaxis": "y"
        },
        {
         "alignmentgroup": "True",
         "bingroup": "x",
         "hovertemplate": "Followers=7.4M<br>Audience Country=%{x}<br>count=%{y}<extra></extra>",
         "legendgroup": "7.4M",
         "marker": {
          "color": "#FF97FF",
          "pattern": {
           "shape": ""
          }
         },
         "name": "7.4M",
         "offsetgroup": "7.4M",
         "orientation": "v",
         "showlegend": true,
         "texttemplate": "%{value}",
         "type": "histogram",
         "x": [
          "Iraq",
          "Brazil",
          "United States",
          "United States",
          "United States",
          "Morocco",
          "United States",
          "Spain",
          "Indonesia"
         ],
         "xaxis": "x",
         "yaxis": "y"
        },
        {
         "alignmentgroup": "True",
         "bingroup": "x",
         "hovertemplate": "Followers=11.8M<br>Audience Country=%{x}<br>count=%{y}<extra></extra>",
         "legendgroup": "11.8M",
         "marker": {
          "color": "#FECB52",
          "pattern": {
           "shape": ""
          }
         },
         "name": "11.8M",
         "offsetgroup": "11.8M",
         "orientation": "v",
         "showlegend": true,
         "texttemplate": "%{value}",
         "type": "histogram",
         "x": [
          "Indonesia",
          "Thailand"
         ],
         "xaxis": "x",
         "yaxis": "y"
        },
        {
         "alignmentgroup": "True",
         "bingroup": "x",
         "hovertemplate": "Followers=22.7M<br>Audience Country=%{x}<br>count=%{y}<extra></extra>",
         "legendgroup": "22.7M",
         "marker": {
          "color": "#636efa",
          "pattern": {
           "shape": ""
          }
         },
         "name": "22.7M",
         "offsetgroup": "22.7M",
         "orientation": "v",
         "showlegend": true,
         "texttemplate": "%{value}",
         "type": "histogram",
         "x": [
          "United States",
          "United States",
          "Egypt"
         ],
         "xaxis": "x",
         "yaxis": "y"
        },
        {
         "alignmentgroup": "True",
         "bingroup": "x",
         "hovertemplate": "Followers=11.5M<br>Audience Country=%{x}<br>count=%{y}<extra></extra>",
         "legendgroup": "11.5M",
         "marker": {
          "color": "#EF553B",
          "pattern": {
           "shape": ""
          }
         },
         "name": "11.5M",
         "offsetgroup": "11.5M",
         "orientation": "v",
         "showlegend": true,
         "texttemplate": "%{value}",
         "type": "histogram",
         "x": [
          "India",
          "India",
          "Turkey",
          "Turkey"
         ],
         "xaxis": "x",
         "yaxis": "y"
        },
        {
         "alignmentgroup": "True",
         "bingroup": "x",
         "hovertemplate": "Followers=33.5M<br>Audience Country=%{x}<br>count=%{y}<extra></extra>",
         "legendgroup": "33.5M",
         "marker": {
          "color": "#00cc96",
          "pattern": {
           "shape": ""
          }
         },
         "name": "33.5M",
         "offsetgroup": "33.5M",
         "orientation": "v",
         "showlegend": true,
         "texttemplate": "%{value}",
         "type": "histogram",
         "x": [
          "Russia"
         ],
         "xaxis": "x",
         "yaxis": "y"
        },
        {
         "alignmentgroup": "True",
         "bingroup": "x",
         "hovertemplate": "Followers=43.8M<br>Audience Country=%{x}<br>count=%{y}<extra></extra>",
         "legendgroup": "43.8M",
         "marker": {
          "color": "#ab63fa",
          "pattern": {
           "shape": ""
          }
         },
         "name": "43.8M",
         "offsetgroup": "43.8M",
         "orientation": "v",
         "showlegend": true,
         "texttemplate": "%{value}",
         "type": "histogram",
         "x": [
          "Brazil"
         ],
         "xaxis": "x",
         "yaxis": "y"
        },
        {
         "alignmentgroup": "True",
         "bingroup": "x",
         "hovertemplate": "Followers=9.7M<br>Audience Country=%{x}<br>count=%{y}<extra></extra>",
         "legendgroup": "9.7M",
         "marker": {
          "color": "#FFA15A",
          "pattern": {
           "shape": ""
          }
         },
         "name": "9.7M",
         "offsetgroup": "9.7M",
         "orientation": "v",
         "showlegend": true,
         "texttemplate": "%{value}",
         "type": "histogram",
         "x": [
          "United States",
          "Brazil",
          "United States"
         ],
         "xaxis": "x",
         "yaxis": "y"
        },
        {
         "alignmentgroup": "True",
         "bingroup": "x",
         "hovertemplate": "Followers=43.4M<br>Audience Country=%{x}<br>count=%{y}<extra></extra>",
         "legendgroup": "43.4M",
         "marker": {
          "color": "#19d3f3",
          "pattern": {
           "shape": ""
          }
         },
         "name": "43.4M",
         "offsetgroup": "43.4M",
         "orientation": "v",
         "showlegend": true,
         "texttemplate": "%{value}",
         "type": "histogram",
         "x": [
          "Colombia"
         ],
         "xaxis": "x",
         "yaxis": "y"
        },
        {
         "alignmentgroup": "True",
         "bingroup": "x",
         "hovertemplate": "Followers=45.2M<br>Audience Country=%{x}<br>count=%{y}<extra></extra>",
         "legendgroup": "45.2M",
         "marker": {
          "color": "#FF6692",
          "pattern": {
           "shape": ""
          }
         },
         "name": "45.2M",
         "offsetgroup": "45.2M",
         "orientation": "v",
         "showlegend": true,
         "texttemplate": "%{value}",
         "type": "histogram",
         "x": [
          "Brazil"
         ],
         "xaxis": "x",
         "yaxis": "y"
        },
        {
         "alignmentgroup": "True",
         "bingroup": "x",
         "hovertemplate": "Followers=30.5M<br>Audience Country=%{x}<br>count=%{y}<extra></extra>",
         "legendgroup": "30.5M",
         "marker": {
          "color": "#B6E880",
          "pattern": {
           "shape": ""
          }
         },
         "name": "30.5M",
         "offsetgroup": "30.5M",
         "orientation": "v",
         "showlegend": true,
         "texttemplate": "%{value}",
         "type": "histogram",
         "x": [
          "United States"
         ],
         "xaxis": "x",
         "yaxis": "y"
        },
        {
         "alignmentgroup": "True",
         "bingroup": "x",
         "hovertemplate": "Followers=28.4M<br>Audience Country=%{x}<br>count=%{y}<extra></extra>",
         "legendgroup": "28.4M",
         "marker": {
          "color": "#FF97FF",
          "pattern": {
           "shape": ""
          }
         },
         "name": "28.4M",
         "offsetgroup": "28.4M",
         "orientation": "v",
         "showlegend": true,
         "texttemplate": "%{value}",
         "type": "histogram",
         "x": [
          "Brazil",
          "United States"
         ],
         "xaxis": "x",
         "yaxis": "y"
        },
        {
         "alignmentgroup": "True",
         "bingroup": "x",
         "hovertemplate": "Followers=11.4M<br>Audience Country=%{x}<br>count=%{y}<extra></extra>",
         "legendgroup": "11.4M",
         "marker": {
          "color": "#FECB52",
          "pattern": {
           "shape": ""
          }
         },
         "name": "11.4M",
         "offsetgroup": "11.4M",
         "orientation": "v",
         "showlegend": true,
         "texttemplate": "%{value}",
         "type": "histogram",
         "x": [
          "Thailand",
          "Brazil"
         ],
         "xaxis": "x",
         "yaxis": "y"
        },
        {
         "alignmentgroup": "True",
         "bingroup": "x",
         "hovertemplate": "Followers=11.7M<br>Audience Country=%{x}<br>count=%{y}<extra></extra>",
         "legendgroup": "11.7M",
         "marker": {
          "color": "#636efa",
          "pattern": {
           "shape": ""
          }
         },
         "name": "11.7M",
         "offsetgroup": "11.7M",
         "orientation": "v",
         "showlegend": true,
         "texttemplate": "%{value}",
         "type": "histogram",
         "x": [
          "Brazil",
          "United States",
          "Spain",
          "Brazil"
         ],
         "xaxis": "x",
         "yaxis": "y"
        },
        {
         "alignmentgroup": "True",
         "bingroup": "x",
         "hovertemplate": "Followers=8.6M<br>Audience Country=%{x}<br>count=%{y}<extra></extra>",
         "legendgroup": "8.6M",
         "marker": {
          "color": "#EF553B",
          "pattern": {
           "shape": ""
          }
         },
         "name": "8.6M",
         "offsetgroup": "8.6M",
         "orientation": "v",
         "showlegend": true,
         "texttemplate": "%{value}",
         "type": "histogram",
         "x": [
          "Italy",
          "United Kingdom",
          "Colombia",
          "India"
         ],
         "xaxis": "x",
         "yaxis": "y"
        },
        {
         "alignmentgroup": "True",
         "bingroup": "x",
         "hovertemplate": "Followers=33.3M<br>Audience Country=%{x}<br>count=%{y}<extra></extra>",
         "legendgroup": "33.3M",
         "marker": {
          "color": "#00cc96",
          "pattern": {
           "shape": ""
          }
         },
         "name": "33.3M",
         "offsetgroup": "33.3M",
         "orientation": "v",
         "showlegend": true,
         "texttemplate": "%{value}",
         "type": "histogram",
         "x": [
          "Germany"
         ],
         "xaxis": "x",
         "yaxis": "y"
        },
        {
         "alignmentgroup": "True",
         "bingroup": "x",
         "hovertemplate": "Followers=29.3M<br>Audience Country=%{x}<br>count=%{y}<extra></extra>",
         "legendgroup": "29.3M",
         "marker": {
          "color": "#ab63fa",
          "pattern": {
           "shape": ""
          }
         },
         "name": "29.3M",
         "offsetgroup": "29.3M",
         "orientation": "v",
         "showlegend": true,
         "texttemplate": "%{value}",
         "type": "histogram",
         "x": [
          "India"
         ],
         "xaxis": "x",
         "yaxis": "y"
        },
        {
         "alignmentgroup": "True",
         "bingroup": "x",
         "hovertemplate": "Followers=24.9M<br>Audience Country=%{x}<br>count=%{y}<extra></extra>",
         "legendgroup": "24.9M",
         "marker": {
          "color": "#FFA15A",
          "pattern": {
           "shape": ""
          }
         },
         "name": "24.9M",
         "offsetgroup": "24.9M",
         "orientation": "v",
         "showlegend": true,
         "texttemplate": "%{value}",
         "type": "histogram",
         "x": [
          "Spain"
         ],
         "xaxis": "x",
         "yaxis": "y"
        },
        {
         "alignmentgroup": "True",
         "bingroup": "x",
         "hovertemplate": "Followers=8.8M<br>Audience Country=%{x}<br>count=%{y}<extra></extra>",
         "legendgroup": "8.8M",
         "marker": {
          "color": "#19d3f3",
          "pattern": {
           "shape": ""
          }
         },
         "name": "8.8M",
         "offsetgroup": "8.8M",
         "orientation": "v",
         "showlegend": true,
         "texttemplate": "%{value}",
         "type": "histogram",
         "x": [
          "Indonesia",
          "Colombia",
          "Colombia",
          "United States",
          "India"
         ],
         "xaxis": "x",
         "yaxis": "y"
        },
        {
         "alignmentgroup": "True",
         "bingroup": "x",
         "hovertemplate": "Followers=3.7M<br>Audience Country=%{x}<br>count=%{y}<extra></extra>",
         "legendgroup": "3.7M",
         "marker": {
          "color": "#FF6692",
          "pattern": {
           "shape": ""
          }
         },
         "name": "3.7M",
         "offsetgroup": "3.7M",
         "orientation": "v",
         "showlegend": true,
         "texttemplate": "%{value}",
         "type": "histogram",
         "x": [
          "South Korea",
          "United Kingdom",
          "Thailand",
          "Thailand",
          "Italy"
         ],
         "xaxis": "x",
         "yaxis": "y"
        },
        {
         "alignmentgroup": "True",
         "bingroup": "x",
         "hovertemplate": "Followers=47.4M<br>Audience Country=%{x}<br>count=%{y}<extra></extra>",
         "legendgroup": "47.4M",
         "marker": {
          "color": "#B6E880",
          "pattern": {
           "shape": ""
          }
         },
         "name": "47.4M",
         "offsetgroup": "47.4M",
         "orientation": "v",
         "showlegend": true,
         "texttemplate": "%{value}",
         "type": "histogram",
         "x": [
          "Indonesia"
         ],
         "xaxis": "x",
         "yaxis": "y"
        },
        {
         "alignmentgroup": "True",
         "bingroup": "x",
         "hovertemplate": "Followers=46.9M<br>Audience Country=%{x}<br>count=%{y}<extra></extra>",
         "legendgroup": "46.9M",
         "marker": {
          "color": "#FF97FF",
          "pattern": {
           "shape": ""
          }
         },
         "name": "46.9M",
         "offsetgroup": "46.9M",
         "orientation": "v",
         "showlegend": true,
         "texttemplate": "%{value}",
         "type": "histogram",
         "x": [
          "Turkey"
         ],
         "xaxis": "x",
         "yaxis": "y"
        },
        {
         "alignmentgroup": "True",
         "bingroup": "x",
         "hovertemplate": "Followers=25.9M<br>Audience Country=%{x}<br>count=%{y}<extra></extra>",
         "legendgroup": "25.9M",
         "marker": {
          "color": "#FECB52",
          "pattern": {
           "shape": ""
          }
         },
         "name": "25.9M",
         "offsetgroup": "25.9M",
         "orientation": "v",
         "showlegend": true,
         "texttemplate": "%{value}",
         "type": "histogram",
         "x": [
          "United States"
         ],
         "xaxis": "x",
         "yaxis": "y"
        },
        {
         "alignmentgroup": "True",
         "bingroup": "x",
         "hovertemplate": "Followers=20.1M<br>Audience Country=%{x}<br>count=%{y}<extra></extra>",
         "legendgroup": "20.1M",
         "marker": {
          "color": "#636efa",
          "pattern": {
           "shape": ""
          }
         },
         "name": "20.1M",
         "offsetgroup": "20.1M",
         "orientation": "v",
         "showlegend": true,
         "texttemplate": "%{value}",
         "type": "histogram",
         "x": [
          "Colombia",
          "United States",
          "Brazil"
         ],
         "xaxis": "x",
         "yaxis": "y"
        },
        {
         "alignmentgroup": "True",
         "bingroup": "x",
         "hovertemplate": "Followers=9.2M<br>Audience Country=%{x}<br>count=%{y}<extra></extra>",
         "legendgroup": "9.2M",
         "marker": {
          "color": "#EF553B",
          "pattern": {
           "shape": ""
          }
         },
         "name": "9.2M",
         "offsetgroup": "9.2M",
         "orientation": "v",
         "showlegend": true,
         "texttemplate": "%{value}",
         "type": "histogram",
         "x": [
          "United States",
          "Indonesia",
          "United States",
          "Brazil"
         ],
         "xaxis": "x",
         "yaxis": "y"
        },
        {
         "alignmentgroup": "True",
         "bingroup": "x",
         "hovertemplate": "Followers=53.6M<br>Audience Country=%{x}<br>count=%{y}<extra></extra>",
         "legendgroup": "53.6M",
         "marker": {
          "color": "#00cc96",
          "pattern": {
           "shape": ""
          }
         },
         "name": "53.6M",
         "offsetgroup": "53.6M",
         "orientation": "v",
         "showlegend": true,
         "texttemplate": "%{value}",
         "type": "histogram",
         "x": [
          "Brazil"
         ],
         "xaxis": "x",
         "yaxis": "y"
        },
        {
         "alignmentgroup": "True",
         "bingroup": "x",
         "hovertemplate": "Followers=54.2M<br>Audience Country=%{x}<br>count=%{y}<extra></extra>",
         "legendgroup": "54.2M",
         "marker": {
          "color": "#ab63fa",
          "pattern": {
           "shape": ""
          }
         },
         "name": "54.2M",
         "offsetgroup": "54.2M",
         "orientation": "v",
         "showlegend": true,
         "texttemplate": "%{value}",
         "type": "histogram",
         "x": [
          "United States"
         ],
         "xaxis": "x",
         "yaxis": "y"
        },
        {
         "alignmentgroup": "True",
         "bingroup": "x",
         "hovertemplate": "Followers=21.1M<br>Audience Country=%{x}<br>count=%{y}<extra></extra>",
         "legendgroup": "21.1M",
         "marker": {
          "color": "#FFA15A",
          "pattern": {
           "shape": ""
          }
         },
         "name": "21.1M",
         "offsetgroup": "21.1M",
         "orientation": "v",
         "showlegend": true,
         "texttemplate": "%{value}",
         "type": "histogram",
         "x": [
          "United States"
         ],
         "xaxis": "x",
         "yaxis": "y"
        },
        {
         "alignmentgroup": "True",
         "bingroup": "x",
         "hovertemplate": "Followers=4.7M<br>Audience Country=%{x}<br>count=%{y}<extra></extra>",
         "legendgroup": "4.7M",
         "marker": {
          "color": "#19d3f3",
          "pattern": {
           "shape": ""
          }
         },
         "name": "4.7M",
         "offsetgroup": "4.7M",
         "orientation": "v",
         "showlegend": true,
         "texttemplate": "%{value}",
         "type": "histogram",
         "x": [
          null,
          "Brazil"
         ],
         "xaxis": "x",
         "yaxis": "y"
        },
        {
         "alignmentgroup": "True",
         "bingroup": "x",
         "hovertemplate": "Followers=5.2M<br>Audience Country=%{x}<br>count=%{y}<extra></extra>",
         "legendgroup": "5.2M",
         "marker": {
          "color": "#FF6692",
          "pattern": {
           "shape": ""
          }
         },
         "name": "5.2M",
         "offsetgroup": "5.2M",
         "orientation": "v",
         "showlegend": true,
         "texttemplate": "%{value}",
         "type": "histogram",
         "x": [
          "United States",
          "Indonesia"
         ],
         "xaxis": "x",
         "yaxis": "y"
        },
        {
         "alignmentgroup": "True",
         "bingroup": "x",
         "hovertemplate": "Followers=6.1M<br>Audience Country=%{x}<br>count=%{y}<extra></extra>",
         "legendgroup": "6.1M",
         "marker": {
          "color": "#B6E880",
          "pattern": {
           "shape": ""
          }
         },
         "name": "6.1M",
         "offsetgroup": "6.1M",
         "orientation": "v",
         "showlegend": true,
         "texttemplate": "%{value}",
         "type": "histogram",
         "x": [
          "India",
          "Indonesia",
          "United States",
          "Italy",
          "India",
          "United States",
          "India"
         ],
         "xaxis": "x",
         "yaxis": "y"
        },
        {
         "alignmentgroup": "True",
         "bingroup": "x",
         "hovertemplate": "Followers=26.7M<br>Audience Country=%{x}<br>count=%{y}<extra></extra>",
         "legendgroup": "26.7M",
         "marker": {
          "color": "#FF97FF",
          "pattern": {
           "shape": ""
          }
         },
         "name": "26.7M",
         "offsetgroup": "26.7M",
         "orientation": "v",
         "showlegend": true,
         "texttemplate": "%{value}",
         "type": "histogram",
         "x": [
          "Spain"
         ],
         "xaxis": "x",
         "yaxis": "y"
        },
        {
         "alignmentgroup": "True",
         "bingroup": "x",
         "hovertemplate": "Followers=7M<br>Audience Country=%{x}<br>count=%{y}<extra></extra>",
         "legendgroup": "7M",
         "marker": {
          "color": "#FECB52",
          "pattern": {
           "shape": ""
          }
         },
         "name": "7M",
         "offsetgroup": "7M",
         "orientation": "v",
         "showlegend": true,
         "texttemplate": "%{value}",
         "type": "histogram",
         "x": [
          "United States",
          "Brazil",
          "United States",
          "United States",
          "Russia",
          "Russia",
          "India"
         ],
         "xaxis": "x",
         "yaxis": "y"
        },
        {
         "alignmentgroup": "True",
         "bingroup": "x",
         "hovertemplate": "Followers=11.3M<br>Audience Country=%{x}<br>count=%{y}<extra></extra>",
         "legendgroup": "11.3M",
         "marker": {
          "color": "#636efa",
          "pattern": {
           "shape": ""
          }
         },
         "name": "11.3M",
         "offsetgroup": "11.3M",
         "orientation": "v",
         "showlegend": true,
         "texttemplate": "%{value}",
         "type": "histogram",
         "x": [
          "India",
          "United States"
         ],
         "xaxis": "x",
         "yaxis": "y"
        },
        {
         "alignmentgroup": "True",
         "bingroup": "x",
         "hovertemplate": "Followers=3.9M<br>Audience Country=%{x}<br>count=%{y}<extra></extra>",
         "legendgroup": "3.9M",
         "marker": {
          "color": "#EF553B",
          "pattern": {
           "shape": ""
          }
         },
         "name": "3.9M",
         "offsetgroup": "3.9M",
         "orientation": "v",
         "showlegend": true,
         "texttemplate": "%{value}",
         "type": "histogram",
         "x": [
          "Indonesia",
          "Indonesia",
          "United States"
         ],
         "xaxis": "x",
         "yaxis": "y"
        },
        {
         "alignmentgroup": "True",
         "bingroup": "x",
         "hovertemplate": "Followers=10.4M<br>Audience Country=%{x}<br>count=%{y}<extra></extra>",
         "legendgroup": "10.4M",
         "marker": {
          "color": "#00cc96",
          "pattern": {
           "shape": ""
          }
         },
         "name": "10.4M",
         "offsetgroup": "10.4M",
         "orientation": "v",
         "showlegend": true,
         "texttemplate": "%{value}",
         "type": "histogram",
         "x": [
          "India",
          "United States",
          "Russia",
          "United States"
         ],
         "xaxis": "x",
         "yaxis": "y"
        },
        {
         "alignmentgroup": "True",
         "bingroup": "x",
         "hovertemplate": "Followers=10.6M<br>Audience Country=%{x}<br>count=%{y}<extra></extra>",
         "legendgroup": "10.6M",
         "marker": {
          "color": "#ab63fa",
          "pattern": {
           "shape": ""
          }
         },
         "name": "10.6M",
         "offsetgroup": "10.6M",
         "orientation": "v",
         "showlegend": true,
         "texttemplate": "%{value}",
         "type": "histogram",
         "x": [
          "Spain",
          "United States",
          "India",
          "India",
          "Brazil"
         ],
         "xaxis": "x",
         "yaxis": "y"
        },
        {
         "alignmentgroup": "True",
         "bingroup": "x",
         "hovertemplate": "Followers=4.2M<br>Audience Country=%{x}<br>count=%{y}<extra></extra>",
         "legendgroup": "4.2M",
         "marker": {
          "color": "#FFA15A",
          "pattern": {
           "shape": ""
          }
         },
         "name": "4.2M",
         "offsetgroup": "4.2M",
         "orientation": "v",
         "showlegend": true,
         "texttemplate": "%{value}",
         "type": "histogram",
         "x": [
          null,
          "India",
          "South Korea"
         ],
         "xaxis": "x",
         "yaxis": "y"
        },
        {
         "alignmentgroup": "True",
         "bingroup": "x",
         "hovertemplate": "Followers=57.9M<br>Audience Country=%{x}<br>count=%{y}<extra></extra>",
         "legendgroup": "57.9M",
         "marker": {
          "color": "#19d3f3",
          "pattern": {
           "shape": ""
          }
         },
         "name": "57.9M",
         "offsetgroup": "57.9M",
         "orientation": "v",
         "showlegend": true,
         "texttemplate": "%{value}",
         "type": "histogram",
         "x": [
          "United Kingdom"
         ],
         "xaxis": "x",
         "yaxis": "y"
        },
        {
         "alignmentgroup": "True",
         "bingroup": "x",
         "hovertemplate": "Followers=4.3M<br>Audience Country=%{x}<br>count=%{y}<extra></extra>",
         "legendgroup": "4.3M",
         "marker": {
          "color": "#FF6692",
          "pattern": {
           "shape": ""
          }
         },
         "name": "4.3M",
         "offsetgroup": "4.3M",
         "orientation": "v",
         "showlegend": true,
         "texttemplate": "%{value}",
         "type": "histogram",
         "x": [
          "United States",
          "United States"
         ],
         "xaxis": "x",
         "yaxis": "y"
        },
        {
         "alignmentgroup": "True",
         "bingroup": "x",
         "hovertemplate": "Followers=34.2M<br>Audience Country=%{x}<br>count=%{y}<extra></extra>",
         "legendgroup": "34.2M",
         "marker": {
          "color": "#B6E880",
          "pattern": {
           "shape": ""
          }
         },
         "name": "34.2M",
         "offsetgroup": "34.2M",
         "orientation": "v",
         "showlegend": true,
         "texttemplate": "%{value}",
         "type": "histogram",
         "x": [
          "Germany"
         ],
         "xaxis": "x",
         "yaxis": "y"
        },
        {
         "alignmentgroup": "True",
         "bingroup": "x",
         "hovertemplate": "Followers=54M<br>Audience Country=%{x}<br>count=%{y}<extra></extra>",
         "legendgroup": "54M",
         "marker": {
          "color": "#FF97FF",
          "pattern": {
           "shape": ""
          }
         },
         "name": "54M",
         "offsetgroup": "54M",
         "orientation": "v",
         "showlegend": true,
         "texttemplate": "%{value}",
         "type": "histogram",
         "x": [
          "India"
         ],
         "xaxis": "x",
         "yaxis": "y"
        },
        {
         "alignmentgroup": "True",
         "bingroup": "x",
         "hovertemplate": "Followers=14.5M<br>Audience Country=%{x}<br>count=%{y}<extra></extra>",
         "legendgroup": "14.5M",
         "marker": {
          "color": "#FECB52",
          "pattern": {
           "shape": ""
          }
         },
         "name": "14.5M",
         "offsetgroup": "14.5M",
         "orientation": "v",
         "showlegend": true,
         "texttemplate": "%{value}",
         "type": "histogram",
         "x": [
          "Indonesia",
          "Spain",
          "Spain"
         ],
         "xaxis": "x",
         "yaxis": "y"
        },
        {
         "alignmentgroup": "True",
         "bingroup": "x",
         "hovertemplate": "Followers=24M<br>Audience Country=%{x}<br>count=%{y}<extra></extra>",
         "legendgroup": "24M",
         "marker": {
          "color": "#636efa",
          "pattern": {
           "shape": ""
          }
         },
         "name": "24M",
         "offsetgroup": "24M",
         "orientation": "v",
         "showlegend": true,
         "texttemplate": "%{value}",
         "type": "histogram",
         "x": [
          "India"
         ],
         "xaxis": "x",
         "yaxis": "y"
        },
        {
         "alignmentgroup": "True",
         "bingroup": "x",
         "hovertemplate": "Followers=74.6M<br>Audience Country=%{x}<br>count=%{y}<extra></extra>",
         "legendgroup": "74.6M",
         "marker": {
          "color": "#EF553B",
          "pattern": {
           "shape": ""
          }
         },
         "name": "74.6M",
         "offsetgroup": "74.6M",
         "orientation": "v",
         "showlegend": true,
         "texttemplate": "%{value}",
         "type": "histogram",
         "x": [
          "United States"
         ],
         "xaxis": "x",
         "yaxis": "y"
        },
        {
         "alignmentgroup": "True",
         "bingroup": "x",
         "hovertemplate": "Followers=34.3M<br>Audience Country=%{x}<br>count=%{y}<extra></extra>",
         "legendgroup": "34.3M",
         "marker": {
          "color": "#00cc96",
          "pattern": {
           "shape": ""
          }
         },
         "name": "34.3M",
         "offsetgroup": "34.3M",
         "orientation": "v",
         "showlegend": true,
         "texttemplate": "%{value}",
         "type": "histogram",
         "x": [
          "Germany"
         ],
         "xaxis": "x",
         "yaxis": "y"
        },
        {
         "alignmentgroup": "True",
         "bingroup": "x",
         "hovertemplate": "Followers=5M<br>Audience Country=%{x}<br>count=%{y}<extra></extra>",
         "legendgroup": "5M",
         "marker": {
          "color": "#ab63fa",
          "pattern": {
           "shape": ""
          }
         },
         "name": "5M",
         "offsetgroup": "5M",
         "orientation": "v",
         "showlegend": true,
         "texttemplate": "%{value}",
         "type": "histogram",
         "x": [
          "Japan",
          "United Kingdom",
          "Japan",
          "Philippines",
          "Philippines"
         ],
         "xaxis": "x",
         "yaxis": "y"
        },
        {
         "alignmentgroup": "True",
         "bingroup": "x",
         "hovertemplate": "Followers=8.9M<br>Audience Country=%{x}<br>count=%{y}<extra></extra>",
         "legendgroup": "8.9M",
         "marker": {
          "color": "#FFA15A",
          "pattern": {
           "shape": ""
          }
         },
         "name": "8.9M",
         "offsetgroup": "8.9M",
         "orientation": "v",
         "showlegend": true,
         "texttemplate": "%{value}",
         "type": "histogram",
         "x": [
          "United States"
         ],
         "xaxis": "x",
         "yaxis": "y"
        },
        {
         "alignmentgroup": "True",
         "bingroup": "x",
         "hovertemplate": "Followers=18.6M<br>Audience Country=%{x}<br>count=%{y}<extra></extra>",
         "legendgroup": "18.6M",
         "marker": {
          "color": "#19d3f3",
          "pattern": {
           "shape": ""
          }
         },
         "name": "18.6M",
         "offsetgroup": "18.6M",
         "orientation": "v",
         "showlegend": true,
         "texttemplate": "%{value}",
         "type": "histogram",
         "x": [
          "Russia"
         ],
         "xaxis": "x",
         "yaxis": "y"
        },
        {
         "alignmentgroup": "True",
         "bingroup": "x",
         "hovertemplate": "Followers=4.4M<br>Audience Country=%{x}<br>count=%{y}<extra></extra>",
         "legendgroup": "4.4M",
         "marker": {
          "color": "#FF6692",
          "pattern": {
           "shape": ""
          }
         },
         "name": "4.4M",
         "offsetgroup": "4.4M",
         "orientation": "v",
         "showlegend": true,
         "texttemplate": "%{value}",
         "type": "histogram",
         "x": [
          "Indonesia",
          "India",
          "Japan"
         ],
         "xaxis": "x",
         "yaxis": "y"
        },
        {
         "alignmentgroup": "True",
         "bingroup": "x",
         "hovertemplate": "Followers=2.5M<br>Audience Country=%{x}<br>count=%{y}<extra></extra>",
         "legendgroup": "2.5M",
         "marker": {
          "color": "#B6E880",
          "pattern": {
           "shape": ""
          }
         },
         "name": "2.5M",
         "offsetgroup": "2.5M",
         "orientation": "v",
         "showlegend": true,
         "texttemplate": "%{value}",
         "type": "histogram",
         "x": [
          null,
          null
         ],
         "xaxis": "x",
         "yaxis": "y"
        },
        {
         "alignmentgroup": "True",
         "bingroup": "x",
         "hovertemplate": "Followers=22.5M<br>Audience Country=%{x}<br>count=%{y}<extra></extra>",
         "legendgroup": "22.5M",
         "marker": {
          "color": "#FF97FF",
          "pattern": {
           "shape": ""
          }
         },
         "name": "22.5M",
         "offsetgroup": "22.5M",
         "orientation": "v",
         "showlegend": true,
         "texttemplate": "%{value}",
         "type": "histogram",
         "x": [
          "Brazil"
         ],
         "xaxis": "x",
         "yaxis": "y"
        },
        {
         "alignmentgroup": "True",
         "bingroup": "x",
         "hovertemplate": "Followers=16.7M<br>Audience Country=%{x}<br>count=%{y}<extra></extra>",
         "legendgroup": "16.7M",
         "marker": {
          "color": "#FECB52",
          "pattern": {
           "shape": ""
          }
         },
         "name": "16.7M",
         "offsetgroup": "16.7M",
         "orientation": "v",
         "showlegend": true,
         "texttemplate": "%{value}",
         "type": "histogram",
         "x": [
          "Indonesia"
         ],
         "xaxis": "x",
         "yaxis": "y"
        },
        {
         "alignmentgroup": "True",
         "bingroup": "x",
         "hovertemplate": "Followers=4.5M<br>Audience Country=%{x}<br>count=%{y}<extra></extra>",
         "legendgroup": "4.5M",
         "marker": {
          "color": "#636efa",
          "pattern": {
           "shape": ""
          }
         },
         "name": "4.5M",
         "offsetgroup": "4.5M",
         "orientation": "v",
         "showlegend": true,
         "texttemplate": "%{value}",
         "type": "histogram",
         "x": [
          "Indonesia",
          "Indonesia",
          "Iran"
         ],
         "xaxis": "x",
         "yaxis": "y"
        },
        {
         "alignmentgroup": "True",
         "bingroup": "x",
         "hovertemplate": "Followers=15.4M<br>Audience Country=%{x}<br>count=%{y}<extra></extra>",
         "legendgroup": "15.4M",
         "marker": {
          "color": "#EF553B",
          "pattern": {
           "shape": ""
          }
         },
         "name": "15.4M",
         "offsetgroup": "15.4M",
         "orientation": "v",
         "showlegend": true,
         "texttemplate": "%{value}",
         "type": "histogram",
         "x": [
          "Indonesia",
          "Brazil"
         ],
         "xaxis": "x",
         "yaxis": "y"
        },
        {
         "alignmentgroup": "True",
         "bingroup": "x",
         "hovertemplate": "Followers=3.8M<br>Audience Country=%{x}<br>count=%{y}<extra></extra>",
         "legendgroup": "3.8M",
         "marker": {
          "color": "#00cc96",
          "pattern": {
           "shape": ""
          }
         },
         "name": "3.8M",
         "offsetgroup": "3.8M",
         "orientation": "v",
         "showlegend": true,
         "texttemplate": "%{value}",
         "type": "histogram",
         "x": [
          "Mexico",
          "Italy"
         ],
         "xaxis": "x",
         "yaxis": "y"
        },
        {
         "alignmentgroup": "True",
         "bingroup": "x",
         "hovertemplate": "Followers=3M<br>Audience Country=%{x}<br>count=%{y}<extra></extra>",
         "legendgroup": "3M",
         "marker": {
          "color": "#ab63fa",
          "pattern": {
           "shape": ""
          }
         },
         "name": "3M",
         "offsetgroup": "3M",
         "orientation": "v",
         "showlegend": true,
         "texttemplate": "%{value}",
         "type": "histogram",
         "x": [
          "United States",
          "United States",
          "Iran",
          "Indonesia"
         ],
         "xaxis": "x",
         "yaxis": "y"
        },
        {
         "alignmentgroup": "True",
         "bingroup": "x",
         "hovertemplate": "Followers=21.5M<br>Audience Country=%{x}<br>count=%{y}<extra></extra>",
         "legendgroup": "21.5M",
         "marker": {
          "color": "#FFA15A",
          "pattern": {
           "shape": ""
          }
         },
         "name": "21.5M",
         "offsetgroup": "21.5M",
         "orientation": "v",
         "showlegend": true,
         "texttemplate": "%{value}",
         "type": "histogram",
         "x": [
          "United States",
          "Brazil",
          "Indonesia"
         ],
         "xaxis": "x",
         "yaxis": "y"
        },
        {
         "alignmentgroup": "True",
         "bingroup": "x",
         "hovertemplate": "Followers=12.4M<br>Audience Country=%{x}<br>count=%{y}<extra></extra>",
         "legendgroup": "12.4M",
         "marker": {
          "color": "#19d3f3",
          "pattern": {
           "shape": ""
          }
         },
         "name": "12.4M",
         "offsetgroup": "12.4M",
         "orientation": "v",
         "showlegend": true,
         "texttemplate": "%{value}",
         "type": "histogram",
         "x": [
          "Turkey",
          "United States"
         ],
         "xaxis": "x",
         "yaxis": "y"
        },
        {
         "alignmentgroup": "True",
         "bingroup": "x",
         "hovertemplate": "Followers=69M<br>Audience Country=%{x}<br>count=%{y}<extra></extra>",
         "legendgroup": "69M",
         "marker": {
          "color": "#FF6692",
          "pattern": {
           "shape": ""
          }
         },
         "name": "69M",
         "offsetgroup": "69M",
         "orientation": "v",
         "showlegend": true,
         "texttemplate": "%{value}",
         "type": "histogram",
         "x": [
          "United States"
         ],
         "xaxis": "x",
         "yaxis": "y"
        },
        {
         "alignmentgroup": "True",
         "bingroup": "x",
         "hovertemplate": "Followers=2.9M<br>Audience Country=%{x}<br>count=%{y}<extra></extra>",
         "legendgroup": "2.9M",
         "marker": {
          "color": "#B6E880",
          "pattern": {
           "shape": ""
          }
         },
         "name": "2.9M",
         "offsetgroup": "2.9M",
         "orientation": "v",
         "showlegend": true,
         "texttemplate": "%{value}",
         "type": "histogram",
         "x": [
          "Indonesia"
         ],
         "xaxis": "x",
         "yaxis": "y"
        },
        {
         "alignmentgroup": "True",
         "bingroup": "x",
         "hovertemplate": "Followers=11.9M<br>Audience Country=%{x}<br>count=%{y}<extra></extra>",
         "legendgroup": "11.9M",
         "marker": {
          "color": "#FF97FF",
          "pattern": {
           "shape": ""
          }
         },
         "name": "11.9M",
         "offsetgroup": "11.9M",
         "orientation": "v",
         "showlegend": true,
         "texttemplate": "%{value}",
         "type": "histogram",
         "x": [
          "Brazil",
          "Brazil"
         ],
         "xaxis": "x",
         "yaxis": "y"
        },
        {
         "alignmentgroup": "True",
         "bingroup": "x",
         "hovertemplate": "Followers=15.6M<br>Audience Country=%{x}<br>count=%{y}<extra></extra>",
         "legendgroup": "15.6M",
         "marker": {
          "color": "#FECB52",
          "pattern": {
           "shape": ""
          }
         },
         "name": "15.6M",
         "offsetgroup": "15.6M",
         "orientation": "v",
         "showlegend": true,
         "texttemplate": "%{value}",
         "type": "histogram",
         "x": [
          "United States",
          "Spain"
         ],
         "xaxis": "x",
         "yaxis": "y"
        },
        {
         "alignmentgroup": "True",
         "bingroup": "x",
         "hovertemplate": "Followers=7.7M<br>Audience Country=%{x}<br>count=%{y}<extra></extra>",
         "legendgroup": "7.7M",
         "marker": {
          "color": "#636efa",
          "pattern": {
           "shape": ""
          }
         },
         "name": "7.7M",
         "offsetgroup": "7.7M",
         "orientation": "v",
         "showlegend": true,
         "texttemplate": "%{value}",
         "type": "histogram",
         "x": [
          "Indonesia",
          "France",
          "United States"
         ],
         "xaxis": "x",
         "yaxis": "y"
        },
        {
         "alignmentgroup": "True",
         "bingroup": "x",
         "hovertemplate": "Followers=4.1M<br>Audience Country=%{x}<br>count=%{y}<extra></extra>",
         "legendgroup": "4.1M",
         "marker": {
          "color": "#EF553B",
          "pattern": {
           "shape": ""
          }
         },
         "name": "4.1M",
         "offsetgroup": "4.1M",
         "orientation": "v",
         "showlegend": true,
         "texttemplate": "%{value}",
         "type": "histogram",
         "x": [
          null,
          "Indonesia",
          "Indonesia"
         ],
         "xaxis": "x",
         "yaxis": "y"
        },
        {
         "alignmentgroup": "True",
         "bingroup": "x",
         "hovertemplate": "Followers=29.7M<br>Audience Country=%{x}<br>count=%{y}<extra></extra>",
         "legendgroup": "29.7M",
         "marker": {
          "color": "#00cc96",
          "pattern": {
           "shape": ""
          }
         },
         "name": "29.7M",
         "offsetgroup": "29.7M",
         "orientation": "v",
         "showlegend": true,
         "texttemplate": "%{value}",
         "type": "histogram",
         "x": [
          "Argentina"
         ],
         "xaxis": "x",
         "yaxis": "y"
        },
        {
         "alignmentgroup": "True",
         "bingroup": "x",
         "hovertemplate": "Followers=39.7M<br>Audience Country=%{x}<br>count=%{y}<extra></extra>",
         "legendgroup": "39.7M",
         "marker": {
          "color": "#ab63fa",
          "pattern": {
           "shape": ""
          }
         },
         "name": "39.7M",
         "offsetgroup": "39.7M",
         "orientation": "v",
         "showlegend": true,
         "texttemplate": "%{value}",
         "type": "histogram",
         "x": [
          "Spain"
         ],
         "xaxis": "x",
         "yaxis": "y"
        },
        {
         "alignmentgroup": "True",
         "bingroup": "x",
         "hovertemplate": "Followers=1.6M<br>Audience Country=%{x}<br>count=%{y}<extra></extra>",
         "legendgroup": "1.6M",
         "marker": {
          "color": "#FFA15A",
          "pattern": {
           "shape": ""
          }
         },
         "name": "1.6M",
         "offsetgroup": "1.6M",
         "orientation": "v",
         "showlegend": true,
         "texttemplate": "%{value}",
         "type": "histogram",
         "x": [
          "Senegal"
         ],
         "xaxis": "x",
         "yaxis": "y"
        },
        {
         "alignmentgroup": "True",
         "bingroup": "x",
         "hovertemplate": "Followers=3.1M<br>Audience Country=%{x}<br>count=%{y}<extra></extra>",
         "legendgroup": "3.1M",
         "marker": {
          "color": "#19d3f3",
          "pattern": {
           "shape": ""
          }
         },
         "name": "3.1M",
         "offsetgroup": "3.1M",
         "orientation": "v",
         "showlegend": true,
         "texttemplate": "%{value}",
         "type": "histogram",
         "x": [
          "United States",
          "United States"
         ],
         "xaxis": "x",
         "yaxis": "y"
        },
        {
         "alignmentgroup": "True",
         "bingroup": "x",
         "hovertemplate": "Followers=31.5M<br>Audience Country=%{x}<br>count=%{y}<extra></extra>",
         "legendgroup": "31.5M",
         "marker": {
          "color": "#FF6692",
          "pattern": {
           "shape": ""
          }
         },
         "name": "31.5M",
         "offsetgroup": "31.5M",
         "orientation": "v",
         "showlegend": true,
         "texttemplate": "%{value}",
         "type": "histogram",
         "x": [
          "Brazil"
         ],
         "xaxis": "x",
         "yaxis": "y"
        },
        {
         "alignmentgroup": "True",
         "bingroup": "x",
         "hovertemplate": "Followers=30.4M<br>Audience Country=%{x}<br>count=%{y}<extra></extra>",
         "legendgroup": "30.4M",
         "marker": {
          "color": "#B6E880",
          "pattern": {
           "shape": ""
          }
         },
         "name": "30.4M",
         "offsetgroup": "30.4M",
         "orientation": "v",
         "showlegend": true,
         "texttemplate": "%{value}",
         "type": "histogram",
         "x": [
          "Brazil"
         ],
         "xaxis": "x",
         "yaxis": "y"
        },
        {
         "alignmentgroup": "True",
         "bingroup": "x",
         "hovertemplate": "Followers=7.5M<br>Audience Country=%{x}<br>count=%{y}<extra></extra>",
         "legendgroup": "7.5M",
         "marker": {
          "color": "#FF97FF",
          "pattern": {
           "shape": ""
          }
         },
         "name": "7.5M",
         "offsetgroup": "7.5M",
         "orientation": "v",
         "showlegend": true,
         "texttemplate": "%{value}",
         "type": "histogram",
         "x": [
          "India",
          "Mexico",
          "United States"
         ],
         "xaxis": "x",
         "yaxis": "y"
        },
        {
         "alignmentgroup": "True",
         "bingroup": "x",
         "hovertemplate": "Followers=4.6M<br>Audience Country=%{x}<br>count=%{y}<extra></extra>",
         "legendgroup": "4.6M",
         "marker": {
          "color": "#FECB52",
          "pattern": {
           "shape": ""
          }
         },
         "name": "4.6M",
         "offsetgroup": "4.6M",
         "orientation": "v",
         "showlegend": true,
         "texttemplate": "%{value}",
         "type": "histogram",
         "x": [
          "Iran",
          "United States"
         ],
         "xaxis": "x",
         "yaxis": "y"
        },
        {
         "alignmentgroup": "True",
         "bingroup": "x",
         "hovertemplate": "Followers=6.8M<br>Audience Country=%{x}<br>count=%{y}<extra></extra>",
         "legendgroup": "6.8M",
         "marker": {
          "color": "#636efa",
          "pattern": {
           "shape": ""
          }
         },
         "name": "6.8M",
         "offsetgroup": "6.8M",
         "orientation": "v",
         "showlegend": true,
         "texttemplate": "%{value}",
         "type": "histogram",
         "x": [
          "United States",
          "Brazil",
          "United States"
         ],
         "xaxis": "x",
         "yaxis": "y"
        },
        {
         "alignmentgroup": "True",
         "bingroup": "x",
         "hovertemplate": "Followers=39.6M<br>Audience Country=%{x}<br>count=%{y}<extra></extra>",
         "legendgroup": "39.6M",
         "marker": {
          "color": "#EF553B",
          "pattern": {
           "shape": ""
          }
         },
         "name": "39.6M",
         "offsetgroup": "39.6M",
         "orientation": "v",
         "showlegend": true,
         "texttemplate": "%{value}",
         "type": "histogram",
         "x": [
          "Indonesia",
          "United States"
         ],
         "xaxis": "x",
         "yaxis": "y"
        },
        {
         "alignmentgroup": "True",
         "bingroup": "x",
         "hovertemplate": "Followers=3.5M<br>Audience Country=%{x}<br>count=%{y}<extra></extra>",
         "legendgroup": "3.5M",
         "marker": {
          "color": "#00cc96",
          "pattern": {
           "shape": ""
          }
         },
         "name": "3.5M",
         "offsetgroup": "3.5M",
         "orientation": "v",
         "showlegend": true,
         "texttemplate": "%{value}",
         "type": "histogram",
         "x": [
          "Brazil",
          "Mexico",
          "Russia",
          "France",
          "India"
         ],
         "xaxis": "x",
         "yaxis": "y"
        },
        {
         "alignmentgroup": "True",
         "bingroup": "x",
         "hovertemplate": "Followers=18.8M<br>Audience Country=%{x}<br>count=%{y}<extra></extra>",
         "legendgroup": "18.8M",
         "marker": {
          "color": "#ab63fa",
          "pattern": {
           "shape": ""
          }
         },
         "name": "18.8M",
         "offsetgroup": "18.8M",
         "orientation": "v",
         "showlegend": true,
         "texttemplate": "%{value}",
         "type": "histogram",
         "x": [
          "Russia"
         ],
         "xaxis": "x",
         "yaxis": "y"
        },
        {
         "alignmentgroup": "True",
         "bingroup": "x",
         "hovertemplate": "Followers=123.7M<br>Audience Country=%{x}<br>count=%{y}<extra></extra>",
         "legendgroup": "123.7M",
         "marker": {
          "color": "#FFA15A",
          "pattern": {
           "shape": ""
          }
         },
         "name": "123.7M",
         "offsetgroup": "123.7M",
         "orientation": "v",
         "showlegend": true,
         "texttemplate": "%{value}",
         "type": "histogram",
         "x": [
          "United States"
         ],
         "xaxis": "x",
         "yaxis": "y"
        },
        {
         "alignmentgroup": "True",
         "bingroup": "x",
         "hovertemplate": "Followers=3.2M<br>Audience Country=%{x}<br>count=%{y}<extra></extra>",
         "legendgroup": "3.2M",
         "marker": {
          "color": "#19d3f3",
          "pattern": {
           "shape": ""
          }
         },
         "name": "3.2M",
         "offsetgroup": "3.2M",
         "orientation": "v",
         "showlegend": true,
         "texttemplate": "%{value}",
         "type": "histogram",
         "x": [
          "India",
          "South Korea"
         ],
         "xaxis": "x",
         "yaxis": "y"
        },
        {
         "alignmentgroup": "True",
         "bingroup": "x",
         "hovertemplate": "Followers=25.3M<br>Audience Country=%{x}<br>count=%{y}<extra></extra>",
         "legendgroup": "25.3M",
         "marker": {
          "color": "#FF6692",
          "pattern": {
           "shape": ""
          }
         },
         "name": "25.3M",
         "offsetgroup": "25.3M",
         "orientation": "v",
         "showlegend": true,
         "texttemplate": "%{value}",
         "type": "histogram",
         "x": [
          "Brazil"
         ],
         "xaxis": "x",
         "yaxis": "y"
        },
        {
         "alignmentgroup": "True",
         "bingroup": "x",
         "hovertemplate": "Followers=19.3M<br>Audience Country=%{x}<br>count=%{y}<extra></extra>",
         "legendgroup": "19.3M",
         "marker": {
          "color": "#B6E880",
          "pattern": {
           "shape": ""
          }
         },
         "name": "19.3M",
         "offsetgroup": "19.3M",
         "orientation": "v",
         "showlegend": true,
         "texttemplate": "%{value}",
         "type": "histogram",
         "x": [
          "United States"
         ],
         "xaxis": "x",
         "yaxis": "y"
        },
        {
         "alignmentgroup": "True",
         "bingroup": "x",
         "hovertemplate": "Followers=12.7M<br>Audience Country=%{x}<br>count=%{y}<extra></extra>",
         "legendgroup": "12.7M",
         "marker": {
          "color": "#FF97FF",
          "pattern": {
           "shape": ""
          }
         },
         "name": "12.7M",
         "offsetgroup": "12.7M",
         "orientation": "v",
         "showlegend": true,
         "texttemplate": "%{value}",
         "type": "histogram",
         "x": [
          "United States"
         ],
         "xaxis": "x",
         "yaxis": "y"
        },
        {
         "alignmentgroup": "True",
         "bingroup": "x",
         "hovertemplate": "Followers=4M<br>Audience Country=%{x}<br>count=%{y}<extra></extra>",
         "legendgroup": "4M",
         "marker": {
          "color": "#FECB52",
          "pattern": {
           "shape": ""
          }
         },
         "name": "4M",
         "offsetgroup": "4M",
         "orientation": "v",
         "showlegend": true,
         "texttemplate": "%{value}",
         "type": "histogram",
         "x": [
          "United Kingdom",
          "Russia",
          "Brazil",
          "Indonesia"
         ],
         "xaxis": "x",
         "yaxis": "y"
        },
        {
         "alignmentgroup": "True",
         "bingroup": "x",
         "hovertemplate": "Followers=22M<br>Audience Country=%{x}<br>count=%{y}<extra></extra>",
         "legendgroup": "22M",
         "marker": {
          "color": "#636efa",
          "pattern": {
           "shape": ""
          }
         },
         "name": "22M",
         "offsetgroup": "22M",
         "orientation": "v",
         "showlegend": true,
         "texttemplate": "%{value}",
         "type": "histogram",
         "x": [
          "Brazil"
         ],
         "xaxis": "x",
         "yaxis": "y"
        },
        {
         "alignmentgroup": "True",
         "bingroup": "x",
         "hovertemplate": "Followers=15.7M<br>Audience Country=%{x}<br>count=%{y}<extra></extra>",
         "legendgroup": "15.7M",
         "marker": {
          "color": "#EF553B",
          "pattern": {
           "shape": ""
          }
         },
         "name": "15.7M",
         "offsetgroup": "15.7M",
         "orientation": "v",
         "showlegend": true,
         "texttemplate": "%{value}",
         "type": "histogram",
         "x": [
          "Egypt"
         ],
         "xaxis": "x",
         "yaxis": "y"
        },
        {
         "alignmentgroup": "True",
         "bingroup": "x",
         "hovertemplate": "Followers=3.6M<br>Audience Country=%{x}<br>count=%{y}<extra></extra>",
         "legendgroup": "3.6M",
         "marker": {
          "color": "#00cc96",
          "pattern": {
           "shape": ""
          }
         },
         "name": "3.6M",
         "offsetgroup": "3.6M",
         "orientation": "v",
         "showlegend": true,
         "texttemplate": "%{value}",
         "type": "histogram",
         "x": [
          "Indonesia"
         ],
         "xaxis": "x",
         "yaxis": "y"
        },
        {
         "alignmentgroup": "True",
         "bingroup": "x",
         "hovertemplate": "Followers=21M<br>Audience Country=%{x}<br>count=%{y}<extra></extra>",
         "legendgroup": "21M",
         "marker": {
          "color": "#ab63fa",
          "pattern": {
           "shape": ""
          }
         },
         "name": "21M",
         "offsetgroup": "21M",
         "orientation": "v",
         "showlegend": true,
         "texttemplate": "%{value}",
         "type": "histogram",
         "x": [
          "Indonesia"
         ],
         "xaxis": "x",
         "yaxis": "y"
        },
        {
         "alignmentgroup": "True",
         "bingroup": "x",
         "hovertemplate": "Followers=16.3M<br>Audience Country=%{x}<br>count=%{y}<extra></extra>",
         "legendgroup": "16.3M",
         "marker": {
          "color": "#FFA15A",
          "pattern": {
           "shape": ""
          }
         },
         "name": "16.3M",
         "offsetgroup": "16.3M",
         "orientation": "v",
         "showlegend": true,
         "texttemplate": "%{value}",
         "type": "histogram",
         "x": [
          "Iran"
         ],
         "xaxis": "x",
         "yaxis": "y"
        },
        {
         "alignmentgroup": "True",
         "bingroup": "x",
         "hovertemplate": "Followers=38.4M<br>Audience Country=%{x}<br>count=%{y}<extra></extra>",
         "legendgroup": "38.4M",
         "marker": {
          "color": "#19d3f3",
          "pattern": {
           "shape": ""
          }
         },
         "name": "38.4M",
         "offsetgroup": "38.4M",
         "orientation": "v",
         "showlegend": true,
         "texttemplate": "%{value}",
         "type": "histogram",
         "x": [
          "India"
         ],
         "xaxis": "x",
         "yaxis": "y"
        },
        {
         "alignmentgroup": "True",
         "bingroup": "x",
         "hovertemplate": "Followers=7.2M<br>Audience Country=%{x}<br>count=%{y}<extra></extra>",
         "legendgroup": "7.2M",
         "marker": {
          "color": "#FF6692",
          "pattern": {
           "shape": ""
          }
         },
         "name": "7.2M",
         "offsetgroup": "7.2M",
         "orientation": "v",
         "showlegend": true,
         "texttemplate": "%{value}",
         "type": "histogram",
         "x": [
          "Turkey"
         ],
         "xaxis": "x",
         "yaxis": "y"
        },
        {
         "alignmentgroup": "True",
         "bingroup": "x",
         "hovertemplate": "Followers=26M<br>Audience Country=%{x}<br>count=%{y}<extra></extra>",
         "legendgroup": "26M",
         "marker": {
          "color": "#B6E880",
          "pattern": {
           "shape": ""
          }
         },
         "name": "26M",
         "offsetgroup": "26M",
         "orientation": "v",
         "showlegend": true,
         "texttemplate": "%{value}",
         "type": "histogram",
         "x": [
          "India"
         ],
         "xaxis": "x",
         "yaxis": "y"
        },
        {
         "alignmentgroup": "True",
         "bingroup": "x",
         "hovertemplate": "Followers=17.8M<br>Audience Country=%{x}<br>count=%{y}<extra></extra>",
         "legendgroup": "17.8M",
         "marker": {
          "color": "#FF97FF",
          "pattern": {
           "shape": ""
          }
         },
         "name": "17.8M",
         "offsetgroup": "17.8M",
         "orientation": "v",
         "showlegend": true,
         "texttemplate": "%{value}",
         "type": "histogram",
         "x": [
          "United States"
         ],
         "xaxis": "x",
         "yaxis": "y"
        },
        {
         "alignmentgroup": "True",
         "bingroup": "x",
         "hovertemplate": "Followers=11.2M<br>Audience Country=%{x}<br>count=%{y}<extra></extra>",
         "legendgroup": "11.2M",
         "marker": {
          "color": "#FECB52",
          "pattern": {
           "shape": ""
          }
         },
         "name": "11.2M",
         "offsetgroup": "11.2M",
         "orientation": "v",
         "showlegend": true,
         "texttemplate": "%{value}",
         "type": "histogram",
         "x": [
          "Brazil"
         ],
         "xaxis": "x",
         "yaxis": "y"
        },
        {
         "alignmentgroup": "True",
         "bingroup": "x",
         "hovertemplate": "Followers=19.7M<br>Audience Country=%{x}<br>count=%{y}<extra></extra>",
         "legendgroup": "19.7M",
         "marker": {
          "color": "#636efa",
          "pattern": {
           "shape": ""
          }
         },
         "name": "19.7M",
         "offsetgroup": "19.7M",
         "orientation": "v",
         "showlegend": true,
         "texttemplate": "%{value}",
         "type": "histogram",
         "x": [
          "United States"
         ],
         "xaxis": "x",
         "yaxis": "y"
        },
        {
         "alignmentgroup": "True",
         "bingroup": "x",
         "hovertemplate": "Followers=2.6M<br>Audience Country=%{x}<br>count=%{y}<extra></extra>",
         "legendgroup": "2.6M",
         "marker": {
          "color": "#EF553B",
          "pattern": {
           "shape": ""
          }
         },
         "name": "2.6M",
         "offsetgroup": "2.6M",
         "orientation": "v",
         "showlegend": true,
         "texttemplate": "%{value}",
         "type": "histogram",
         "x": [
          "India"
         ],
         "xaxis": "x",
         "yaxis": "y"
        },
        {
         "alignmentgroup": "True",
         "bingroup": "x",
         "hovertemplate": "Followers=15.8M<br>Audience Country=%{x}<br>count=%{y}<extra></extra>",
         "legendgroup": "15.8M",
         "marker": {
          "color": "#00cc96",
          "pattern": {
           "shape": ""
          }
         },
         "name": "15.8M",
         "offsetgroup": "15.8M",
         "orientation": "v",
         "showlegend": true,
         "texttemplate": "%{value}",
         "type": "histogram",
         "x": [
          "Egypt"
         ],
         "xaxis": "x",
         "yaxis": "y"
        },
        {
         "alignmentgroup": "True",
         "bingroup": "x",
         "hovertemplate": "Followers=24.8M<br>Audience Country=%{x}<br>count=%{y}<extra></extra>",
         "legendgroup": "24.8M",
         "marker": {
          "color": "#ab63fa",
          "pattern": {
           "shape": ""
          }
         },
         "name": "24.8M",
         "offsetgroup": "24.8M",
         "orientation": "v",
         "showlegend": true,
         "texttemplate": "%{value}",
         "type": "histogram",
         "x": [
          "United States"
         ],
         "xaxis": "x",
         "yaxis": "y"
        },
        {
         "alignmentgroup": "True",
         "bingroup": "x",
         "hovertemplate": "Followers=3.4M<br>Audience Country=%{x}<br>count=%{y}<extra></extra>",
         "legendgroup": "3.4M",
         "marker": {
          "color": "#FFA15A",
          "pattern": {
           "shape": ""
          }
         },
         "name": "3.4M",
         "offsetgroup": "3.4M",
         "orientation": "v",
         "showlegend": true,
         "texttemplate": "%{value}",
         "type": "histogram",
         "x": [
          "Indonesia"
         ],
         "xaxis": "x",
         "yaxis": "y"
        }
       ],
       "layout": {
        "barmode": "relative",
        "legend": {
         "title": {
          "text": "Followers"
         },
         "tracegroupgap": 0
        },
        "margin": {
         "t": 60
        },
        "template": {
         "data": {
          "bar": [
           {
            "error_x": {
             "color": "#2a3f5f"
            },
            "error_y": {
             "color": "#2a3f5f"
            },
            "marker": {
             "line": {
              "color": "#E5ECF6",
              "width": 0.5
             },
             "pattern": {
              "fillmode": "overlay",
              "size": 10,
              "solidity": 0.2
             }
            },
            "type": "bar"
           }
          ],
          "barpolar": [
           {
            "marker": {
             "line": {
              "color": "#E5ECF6",
              "width": 0.5
             },
             "pattern": {
              "fillmode": "overlay",
              "size": 10,
              "solidity": 0.2
             }
            },
            "type": "barpolar"
           }
          ],
          "carpet": [
           {
            "aaxis": {
             "endlinecolor": "#2a3f5f",
             "gridcolor": "white",
             "linecolor": "white",
             "minorgridcolor": "white",
             "startlinecolor": "#2a3f5f"
            },
            "baxis": {
             "endlinecolor": "#2a3f5f",
             "gridcolor": "white",
             "linecolor": "white",
             "minorgridcolor": "white",
             "startlinecolor": "#2a3f5f"
            },
            "type": "carpet"
           }
          ],
          "choropleth": [
           {
            "colorbar": {
             "outlinewidth": 0,
             "ticks": ""
            },
            "type": "choropleth"
           }
          ],
          "contour": [
           {
            "colorbar": {
             "outlinewidth": 0,
             "ticks": ""
            },
            "colorscale": [
             [
              0,
              "#0d0887"
             ],
             [
              0.1111111111111111,
              "#46039f"
             ],
             [
              0.2222222222222222,
              "#7201a8"
             ],
             [
              0.3333333333333333,
              "#9c179e"
             ],
             [
              0.4444444444444444,
              "#bd3786"
             ],
             [
              0.5555555555555556,
              "#d8576b"
             ],
             [
              0.6666666666666666,
              "#ed7953"
             ],
             [
              0.7777777777777778,
              "#fb9f3a"
             ],
             [
              0.8888888888888888,
              "#fdca26"
             ],
             [
              1,
              "#f0f921"
             ]
            ],
            "type": "contour"
           }
          ],
          "contourcarpet": [
           {
            "colorbar": {
             "outlinewidth": 0,
             "ticks": ""
            },
            "type": "contourcarpet"
           }
          ],
          "heatmap": [
           {
            "colorbar": {
             "outlinewidth": 0,
             "ticks": ""
            },
            "colorscale": [
             [
              0,
              "#0d0887"
             ],
             [
              0.1111111111111111,
              "#46039f"
             ],
             [
              0.2222222222222222,
              "#7201a8"
             ],
             [
              0.3333333333333333,
              "#9c179e"
             ],
             [
              0.4444444444444444,
              "#bd3786"
             ],
             [
              0.5555555555555556,
              "#d8576b"
             ],
             [
              0.6666666666666666,
              "#ed7953"
             ],
             [
              0.7777777777777778,
              "#fb9f3a"
             ],
             [
              0.8888888888888888,
              "#fdca26"
             ],
             [
              1,
              "#f0f921"
             ]
            ],
            "type": "heatmap"
           }
          ],
          "heatmapgl": [
           {
            "colorbar": {
             "outlinewidth": 0,
             "ticks": ""
            },
            "colorscale": [
             [
              0,
              "#0d0887"
             ],
             [
              0.1111111111111111,
              "#46039f"
             ],
             [
              0.2222222222222222,
              "#7201a8"
             ],
             [
              0.3333333333333333,
              "#9c179e"
             ],
             [
              0.4444444444444444,
              "#bd3786"
             ],
             [
              0.5555555555555556,
              "#d8576b"
             ],
             [
              0.6666666666666666,
              "#ed7953"
             ],
             [
              0.7777777777777778,
              "#fb9f3a"
             ],
             [
              0.8888888888888888,
              "#fdca26"
             ],
             [
              1,
              "#f0f921"
             ]
            ],
            "type": "heatmapgl"
           }
          ],
          "histogram": [
           {
            "marker": {
             "pattern": {
              "fillmode": "overlay",
              "size": 10,
              "solidity": 0.2
             }
            },
            "type": "histogram"
           }
          ],
          "histogram2d": [
           {
            "colorbar": {
             "outlinewidth": 0,
             "ticks": ""
            },
            "colorscale": [
             [
              0,
              "#0d0887"
             ],
             [
              0.1111111111111111,
              "#46039f"
             ],
             [
              0.2222222222222222,
              "#7201a8"
             ],
             [
              0.3333333333333333,
              "#9c179e"
             ],
             [
              0.4444444444444444,
              "#bd3786"
             ],
             [
              0.5555555555555556,
              "#d8576b"
             ],
             [
              0.6666666666666666,
              "#ed7953"
             ],
             [
              0.7777777777777778,
              "#fb9f3a"
             ],
             [
              0.8888888888888888,
              "#fdca26"
             ],
             [
              1,
              "#f0f921"
             ]
            ],
            "type": "histogram2d"
           }
          ],
          "histogram2dcontour": [
           {
            "colorbar": {
             "outlinewidth": 0,
             "ticks": ""
            },
            "colorscale": [
             [
              0,
              "#0d0887"
             ],
             [
              0.1111111111111111,
              "#46039f"
             ],
             [
              0.2222222222222222,
              "#7201a8"
             ],
             [
              0.3333333333333333,
              "#9c179e"
             ],
             [
              0.4444444444444444,
              "#bd3786"
             ],
             [
              0.5555555555555556,
              "#d8576b"
             ],
             [
              0.6666666666666666,
              "#ed7953"
             ],
             [
              0.7777777777777778,
              "#fb9f3a"
             ],
             [
              0.8888888888888888,
              "#fdca26"
             ],
             [
              1,
              "#f0f921"
             ]
            ],
            "type": "histogram2dcontour"
           }
          ],
          "mesh3d": [
           {
            "colorbar": {
             "outlinewidth": 0,
             "ticks": ""
            },
            "type": "mesh3d"
           }
          ],
          "parcoords": [
           {
            "line": {
             "colorbar": {
              "outlinewidth": 0,
              "ticks": ""
             }
            },
            "type": "parcoords"
           }
          ],
          "pie": [
           {
            "automargin": true,
            "type": "pie"
           }
          ],
          "scatter": [
           {
            "fillpattern": {
             "fillmode": "overlay",
             "size": 10,
             "solidity": 0.2
            },
            "type": "scatter"
           }
          ],
          "scatter3d": [
           {
            "line": {
             "colorbar": {
              "outlinewidth": 0,
              "ticks": ""
             }
            },
            "marker": {
             "colorbar": {
              "outlinewidth": 0,
              "ticks": ""
             }
            },
            "type": "scatter3d"
           }
          ],
          "scattercarpet": [
           {
            "marker": {
             "colorbar": {
              "outlinewidth": 0,
              "ticks": ""
             }
            },
            "type": "scattercarpet"
           }
          ],
          "scattergeo": [
           {
            "marker": {
             "colorbar": {
              "outlinewidth": 0,
              "ticks": ""
             }
            },
            "type": "scattergeo"
           }
          ],
          "scattergl": [
           {
            "marker": {
             "colorbar": {
              "outlinewidth": 0,
              "ticks": ""
             }
            },
            "type": "scattergl"
           }
          ],
          "scattermapbox": [
           {
            "marker": {
             "colorbar": {
              "outlinewidth": 0,
              "ticks": ""
             }
            },
            "type": "scattermapbox"
           }
          ],
          "scatterpolar": [
           {
            "marker": {
             "colorbar": {
              "outlinewidth": 0,
              "ticks": ""
             }
            },
            "type": "scatterpolar"
           }
          ],
          "scatterpolargl": [
           {
            "marker": {
             "colorbar": {
              "outlinewidth": 0,
              "ticks": ""
             }
            },
            "type": "scatterpolargl"
           }
          ],
          "scatterternary": [
           {
            "marker": {
             "colorbar": {
              "outlinewidth": 0,
              "ticks": ""
             }
            },
            "type": "scatterternary"
           }
          ],
          "surface": [
           {
            "colorbar": {
             "outlinewidth": 0,
             "ticks": ""
            },
            "colorscale": [
             [
              0,
              "#0d0887"
             ],
             [
              0.1111111111111111,
              "#46039f"
             ],
             [
              0.2222222222222222,
              "#7201a8"
             ],
             [
              0.3333333333333333,
              "#9c179e"
             ],
             [
              0.4444444444444444,
              "#bd3786"
             ],
             [
              0.5555555555555556,
              "#d8576b"
             ],
             [
              0.6666666666666666,
              "#ed7953"
             ],
             [
              0.7777777777777778,
              "#fb9f3a"
             ],
             [
              0.8888888888888888,
              "#fdca26"
             ],
             [
              1,
              "#f0f921"
             ]
            ],
            "type": "surface"
           }
          ],
          "table": [
           {
            "cells": {
             "fill": {
              "color": "#EBF0F8"
             },
             "line": {
              "color": "white"
             }
            },
            "header": {
             "fill": {
              "color": "#C8D4E3"
             },
             "line": {
              "color": "white"
             }
            },
            "type": "table"
           }
          ]
         },
         "layout": {
          "annotationdefaults": {
           "arrowcolor": "#2a3f5f",
           "arrowhead": 0,
           "arrowwidth": 1
          },
          "autotypenumbers": "strict",
          "coloraxis": {
           "colorbar": {
            "outlinewidth": 0,
            "ticks": ""
           }
          },
          "colorscale": {
           "diverging": [
            [
             0,
             "#8e0152"
            ],
            [
             0.1,
             "#c51b7d"
            ],
            [
             0.2,
             "#de77ae"
            ],
            [
             0.3,
             "#f1b6da"
            ],
            [
             0.4,
             "#fde0ef"
            ],
            [
             0.5,
             "#f7f7f7"
            ],
            [
             0.6,
             "#e6f5d0"
            ],
            [
             0.7,
             "#b8e186"
            ],
            [
             0.8,
             "#7fbc41"
            ],
            [
             0.9,
             "#4d9221"
            ],
            [
             1,
             "#276419"
            ]
           ],
           "sequential": [
            [
             0,
             "#0d0887"
            ],
            [
             0.1111111111111111,
             "#46039f"
            ],
            [
             0.2222222222222222,
             "#7201a8"
            ],
            [
             0.3333333333333333,
             "#9c179e"
            ],
            [
             0.4444444444444444,
             "#bd3786"
            ],
            [
             0.5555555555555556,
             "#d8576b"
            ],
            [
             0.6666666666666666,
             "#ed7953"
            ],
            [
             0.7777777777777778,
             "#fb9f3a"
            ],
            [
             0.8888888888888888,
             "#fdca26"
            ],
            [
             1,
             "#f0f921"
            ]
           ],
           "sequentialminus": [
            [
             0,
             "#0d0887"
            ],
            [
             0.1111111111111111,
             "#46039f"
            ],
            [
             0.2222222222222222,
             "#7201a8"
            ],
            [
             0.3333333333333333,
             "#9c179e"
            ],
            [
             0.4444444444444444,
             "#bd3786"
            ],
            [
             0.5555555555555556,
             "#d8576b"
            ],
            [
             0.6666666666666666,
             "#ed7953"
            ],
            [
             0.7777777777777778,
             "#fb9f3a"
            ],
            [
             0.8888888888888888,
             "#fdca26"
            ],
            [
             1,
             "#f0f921"
            ]
           ]
          },
          "colorway": [
           "#636efa",
           "#EF553B",
           "#00cc96",
           "#ab63fa",
           "#FFA15A",
           "#19d3f3",
           "#FF6692",
           "#B6E880",
           "#FF97FF",
           "#FECB52"
          ],
          "font": {
           "color": "#2a3f5f"
          },
          "geo": {
           "bgcolor": "white",
           "lakecolor": "white",
           "landcolor": "#E5ECF6",
           "showlakes": true,
           "showland": true,
           "subunitcolor": "white"
          },
          "hoverlabel": {
           "align": "left"
          },
          "hovermode": "closest",
          "mapbox": {
           "style": "light"
          },
          "paper_bgcolor": "white",
          "plot_bgcolor": "#E5ECF6",
          "polar": {
           "angularaxis": {
            "gridcolor": "white",
            "linecolor": "white",
            "ticks": ""
           },
           "bgcolor": "#E5ECF6",
           "radialaxis": {
            "gridcolor": "white",
            "linecolor": "white",
            "ticks": ""
           }
          },
          "scene": {
           "xaxis": {
            "backgroundcolor": "#E5ECF6",
            "gridcolor": "white",
            "gridwidth": 2,
            "linecolor": "white",
            "showbackground": true,
            "ticks": "",
            "zerolinecolor": "white"
           },
           "yaxis": {
            "backgroundcolor": "#E5ECF6",
            "gridcolor": "white",
            "gridwidth": 2,
            "linecolor": "white",
            "showbackground": true,
            "ticks": "",
            "zerolinecolor": "white"
           },
           "zaxis": {
            "backgroundcolor": "#E5ECF6",
            "gridcolor": "white",
            "gridwidth": 2,
            "linecolor": "white",
            "showbackground": true,
            "ticks": "",
            "zerolinecolor": "white"
           }
          },
          "shapedefaults": {
           "line": {
            "color": "#2a3f5f"
           }
          },
          "ternary": {
           "aaxis": {
            "gridcolor": "white",
            "linecolor": "white",
            "ticks": ""
           },
           "baxis": {
            "gridcolor": "white",
            "linecolor": "white",
            "ticks": ""
           },
           "bgcolor": "#E5ECF6",
           "caxis": {
            "gridcolor": "white",
            "linecolor": "white",
            "ticks": ""
           }
          },
          "title": {
           "x": 0.05
          },
          "xaxis": {
           "automargin": true,
           "gridcolor": "white",
           "linecolor": "white",
           "ticks": "",
           "title": {
            "standoff": 15
           },
           "zerolinecolor": "white",
           "zerolinewidth": 2
          },
          "yaxis": {
           "automargin": true,
           "gridcolor": "white",
           "linecolor": "white",
           "ticks": "",
           "title": {
            "standoff": 15
           },
           "zerolinecolor": "white",
           "zerolinewidth": 2
          }
         }
        },
        "xaxis": {
         "anchor": "y",
         "domain": [
          0,
          1
         ],
         "title": {
          "text": "Audience Country"
         }
        },
        "yaxis": {
         "anchor": "x",
         "domain": [
          0,
          1
         ],
         "title": {
          "text": "count"
         }
        }
       }
      },
      "text/html": [
       "<div>                            <div id=\"41ee232d-2877-4d43-a29e-0824e3ce7939\" class=\"plotly-graph-div\" style=\"height:525px; width:100%;\"></div>            <script type=\"text/javascript\">                require([\"plotly\"], function(Plotly) {                    window.PLOTLYENV=window.PLOTLYENV || {};                                    if (document.getElementById(\"41ee232d-2877-4d43-a29e-0824e3ce7939\")) {                    Plotly.newPlot(                        \"41ee232d-2877-4d43-a29e-0824e3ce7939\",                        [{\"alignmentgroup\":\"True\",\"bingroup\":\"x\",\"hovertemplate\":\"Followers=462.9M<br>Audience Country=%{x}<br>count=%{y}<extra></extra>\",\"legendgroup\":\"462.9M\",\"marker\":{\"color\":\"#636efa\",\"pattern\":{\"shape\":\"\"}},\"name\":\"462.9M\",\"offsetgroup\":\"462.9M\",\"orientation\":\"v\",\"showlegend\":true,\"texttemplate\":\"%{value}\",\"x\":[\"India\"],\"xaxis\":\"x\",\"yaxis\":\"y\",\"type\":\"histogram\"},{\"alignmentgroup\":\"True\",\"bingroup\":\"x\",\"hovertemplate\":\"Followers=347.2M<br>Audience Country=%{x}<br>count=%{y}<extra></extra>\",\"legendgroup\":\"347.2M\",\"marker\":{\"color\":\"#EF553B\",\"pattern\":{\"shape\":\"\"}},\"name\":\"347.2M\",\"offsetgroup\":\"347.2M\",\"orientation\":\"v\",\"showlegend\":true,\"texttemplate\":\"%{value}\",\"x\":[\"Argentina\"],\"xaxis\":\"x\",\"yaxis\":\"y\",\"type\":\"histogram\"},{\"alignmentgroup\":\"True\",\"bingroup\":\"x\",\"hovertemplate\":\"Followers=247.6M<br>Audience Country=%{x}<br>count=%{y}<extra></extra>\",\"legendgroup\":\"247.6M\",\"marker\":{\"color\":\"#00cc96\",\"pattern\":{\"shape\":\"\"}},\"name\":\"247.6M\",\"offsetgroup\":\"247.6M\",\"orientation\":\"v\",\"showlegend\":true,\"texttemplate\":\"%{value}\",\"x\":[\"United States\"],\"xaxis\":\"x\",\"yaxis\":\"y\",\"type\":\"histogram\"},{\"alignmentgroup\":\"True\",\"bingroup\":\"x\",\"hovertemplate\":\"Followers=321.4M<br>Audience Country=%{x}<br>count=%{y}<extra></extra>\",\"legendgroup\":\"321.4M\",\"marker\":{\"color\":\"#ab63fa\",\"pattern\":{\"shape\":\"\"}},\"name\":\"321.4M\",\"offsetgroup\":\"321.4M\",\"orientation\":\"v\",\"showlegend\":true,\"texttemplate\":\"%{value}\",\"x\":[\"United States\"],\"xaxis\":\"x\",\"yaxis\":\"y\",\"type\":\"histogram\"},{\"alignmentgroup\":\"True\",\"bingroup\":\"x\",\"hovertemplate\":\"Followers=147M<br>Audience Country=%{x}<br>count=%{y}<extra></extra>\",\"legendgroup\":\"147M\",\"marker\":{\"color\":\"#FFA15A\",\"pattern\":{\"shape\":\"\"}},\"name\":\"147M\",\"offsetgroup\":\"147M\",\"orientation\":\"v\",\"showlegend\":true,\"texttemplate\":\"%{value}\",\"x\":[\"United States\"],\"xaxis\":\"x\",\"yaxis\":\"y\",\"type\":\"histogram\"},{\"alignmentgroup\":\"True\",\"bingroup\":\"x\",\"hovertemplate\":\"Followers=323.6M<br>Audience Country=%{x}<br>count=%{y}<extra></extra>\",\"legendgroup\":\"323.6M\",\"marker\":{\"color\":\"#19d3f3\",\"pattern\":{\"shape\":\"\"}},\"name\":\"323.6M\",\"offsetgroup\":\"323.6M\",\"orientation\":\"v\",\"showlegend\":true,\"texttemplate\":\"%{value}\",\"x\":[\"United States\"],\"xaxis\":\"x\",\"yaxis\":\"y\",\"type\":\"histogram\"},{\"alignmentgroup\":\"True\",\"bingroup\":\"x\",\"hovertemplate\":\"Followers=218.2M<br>Audience Country=%{x}<br>count=%{y}<extra></extra>\",\"legendgroup\":\"218.2M\",\"marker\":{\"color\":\"#FF6692\",\"pattern\":{\"shape\":\"\"}},\"name\":\"218.2M\",\"offsetgroup\":\"218.2M\",\"orientation\":\"v\",\"showlegend\":true,\"texttemplate\":\"%{value}\",\"x\":[\"Brazil\"],\"xaxis\":\"x\",\"yaxis\":\"y\",\"type\":\"histogram\"},{\"alignmentgroup\":\"True\",\"bingroup\":\"x\",\"hovertemplate\":\"Followers=357M<br>Audience Country=%{x}<br>count=%{y}<extra></extra>\",\"legendgroup\":\"357M\",\"marker\":{\"color\":\"#B6E880\",\"pattern\":{\"shape\":\"\"}},\"name\":\"357M\",\"offsetgroup\":\"357M\",\"orientation\":\"v\",\"showlegend\":true,\"texttemplate\":\"%{value}\",\"x\":[\"United States\"],\"xaxis\":\"x\",\"yaxis\":\"y\",\"type\":\"histogram\"},{\"alignmentgroup\":\"True\",\"bingroup\":\"x\",\"hovertemplate\":\"Followers=334.9M<br>Audience Country=%{x}<br>count=%{y}<extra></extra>\",\"legendgroup\":\"334.9M\",\"marker\":{\"color\":\"#FF97FF\",\"pattern\":{\"shape\":\"\"}},\"name\":\"334.9M\",\"offsetgroup\":\"334.9M\",\"orientation\":\"v\",\"showlegend\":true,\"texttemplate\":\"%{value}\",\"x\":[\"United States\"],\"xaxis\":\"x\",\"yaxis\":\"y\",\"type\":\"histogram\"},{\"alignmentgroup\":\"True\",\"bingroup\":\"x\",\"hovertemplate\":\"Followers=46.3M<br>Audience Country=%{x}<br>count=%{y}<extra></extra>\",\"legendgroup\":\"46.3M\",\"marker\":{\"color\":\"#FECB52\",\"pattern\":{\"shape\":\"\"}},\"name\":\"46.3M\",\"offsetgroup\":\"46.3M\",\"orientation\":\"v\",\"showlegend\":true,\"texttemplate\":\"%{value}\",\"x\":[\"United States\",\"United States\"],\"xaxis\":\"x\",\"yaxis\":\"y\",\"type\":\"histogram\"},{\"alignmentgroup\":\"True\",\"bingroup\":\"x\",\"hovertemplate\":\"Followers=79.9M<br>Audience Country=%{x}<br>count=%{y}<extra></extra>\",\"legendgroup\":\"79.9M\",\"marker\":{\"color\":\"#636efa\",\"pattern\":{\"shape\":\"\"}},\"name\":\"79.9M\",\"offsetgroup\":\"79.9M\",\"orientation\":\"v\",\"showlegend\":true,\"texttemplate\":\"%{value}\",\"x\":[\"Indonesia\"],\"xaxis\":\"x\",\"yaxis\":\"y\",\"type\":\"histogram\"},{\"alignmentgroup\":\"True\",\"bingroup\":\"x\",\"hovertemplate\":\"Followers=68.2M<br>Audience Country=%{x}<br>count=%{y}<extra></extra>\",\"legendgroup\":\"68.2M\",\"marker\":{\"color\":\"#EF553B\",\"pattern\":{\"shape\":\"\"}},\"name\":\"68.2M\",\"offsetgroup\":\"68.2M\",\"orientation\":\"v\",\"showlegend\":true,\"texttemplate\":\"%{value}\",\"x\":[\"Indonesia\",\"India\"],\"xaxis\":\"x\",\"yaxis\":\"y\",\"type\":\"histogram\"},{\"alignmentgroup\":\"True\",\"bingroup\":\"x\",\"hovertemplate\":\"Followers=206.9M<br>Audience Country=%{x}<br>count=%{y}<extra></extra>\",\"legendgroup\":\"206.9M\",\"marker\":{\"color\":\"#00cc96\",\"pattern\":{\"shape\":\"\"}},\"name\":\"206.9M\",\"offsetgroup\":\"206.9M\",\"orientation\":\"v\",\"showlegend\":true,\"texttemplate\":\"%{value}\",\"x\":[\"India\"],\"xaxis\":\"x\",\"yaxis\":\"y\",\"type\":\"histogram\"},{\"alignmentgroup\":\"True\",\"bingroup\":\"x\",\"hovertemplate\":\"Followers=67.6M<br>Audience Country=%{x}<br>count=%{y}<extra></extra>\",\"legendgroup\":\"67.6M\",\"marker\":{\"color\":\"#ab63fa\",\"pattern\":{\"shape\":\"\"}},\"name\":\"67.6M\",\"offsetgroup\":\"67.6M\",\"orientation\":\"v\",\"showlegend\":true,\"texttemplate\":\"%{value}\",\"x\":[\"United States\"],\"xaxis\":\"x\",\"yaxis\":\"y\",\"type\":\"histogram\"},{\"alignmentgroup\":\"True\",\"bingroup\":\"x\",\"hovertemplate\":\"Followers=38.1M<br>Audience Country=%{x}<br>count=%{y}<extra></extra>\",\"legendgroup\":\"38.1M\",\"marker\":{\"color\":\"#FFA15A\",\"pattern\":{\"shape\":\"\"}},\"name\":\"38.1M\",\"offsetgroup\":\"38.1M\",\"orientation\":\"v\",\"showlegend\":true,\"texttemplate\":\"%{value}\",\"x\":[null],\"xaxis\":\"x\",\"yaxis\":\"y\",\"type\":\"histogram\"},{\"alignmentgroup\":\"True\",\"bingroup\":\"x\",\"hovertemplate\":\"Followers=36.5M<br>Audience Country=%{x}<br>count=%{y}<extra></extra>\",\"legendgroup\":\"36.5M\",\"marker\":{\"color\":\"#19d3f3\",\"pattern\":{\"shape\":\"\"}},\"name\":\"36.5M\",\"offsetgroup\":\"36.5M\",\"orientation\":\"v\",\"showlegend\":true,\"texttemplate\":\"%{value}\",\"x\":[null],\"xaxis\":\"x\",\"yaxis\":\"y\",\"type\":\"histogram\"},{\"alignmentgroup\":\"True\",\"bingroup\":\"x\",\"hovertemplate\":\"Followers=37.4M<br>Audience Country=%{x}<br>count=%{y}<extra></extra>\",\"legendgroup\":\"37.4M\",\"marker\":{\"color\":\"#FF6692\",\"pattern\":{\"shape\":\"\"}},\"name\":\"37.4M\",\"offsetgroup\":\"37.4M\",\"orientation\":\"v\",\"showlegend\":true,\"texttemplate\":\"%{value}\",\"x\":[\"United States\",\"South Korea\",\"United States\",\"India\"],\"xaxis\":\"x\",\"yaxis\":\"y\",\"type\":\"histogram\"},{\"alignmentgroup\":\"True\",\"bingroup\":\"x\",\"hovertemplate\":\"Followers=267.4M<br>Audience Country=%{x}<br>count=%{y}<extra></extra>\",\"legendgroup\":\"267.4M\",\"marker\":{\"color\":\"#B6E880\",\"pattern\":{\"shape\":\"\"}},\"name\":\"267.4M\",\"offsetgroup\":\"267.4M\",\"orientation\":\"v\",\"showlegend\":true,\"texttemplate\":\"%{value}\",\"x\":[\"United States\"],\"xaxis\":\"x\",\"yaxis\":\"y\",\"type\":\"histogram\"},{\"alignmentgroup\":\"True\",\"bingroup\":\"x\",\"hovertemplate\":\"Followers=260.4M<br>Audience Country=%{x}<br>count=%{y}<extra></extra>\",\"legendgroup\":\"260.4M\",\"marker\":{\"color\":\"#FF97FF\",\"pattern\":{\"shape\":\"\"}},\"name\":\"260.4M\",\"offsetgroup\":\"260.4M\",\"orientation\":\"v\",\"showlegend\":true,\"texttemplate\":\"%{value}\",\"x\":[\"United States\"],\"xaxis\":\"x\",\"yaxis\":\"y\",\"type\":\"histogram\"},{\"alignmentgroup\":\"True\",\"bingroup\":\"x\",\"hovertemplate\":\"Followers=62.1M<br>Audience Country=%{x}<br>count=%{y}<extra></extra>\",\"legendgroup\":\"62.1M\",\"marker\":{\"color\":\"#FECB52\",\"pattern\":{\"shape\":\"\"}},\"name\":\"62.1M\",\"offsetgroup\":\"62.1M\",\"orientation\":\"v\",\"showlegend\":true,\"texttemplate\":\"%{value}\",\"x\":[\"Indonesia\"],\"xaxis\":\"x\",\"yaxis\":\"y\",\"type\":\"histogram\"},{\"alignmentgroup\":\"True\",\"bingroup\":\"x\",\"hovertemplate\":\"Followers=104.3M<br>Audience Country=%{x}<br>count=%{y}<extra></extra>\",\"legendgroup\":\"104.3M\",\"marker\":{\"color\":\"#636efa\",\"pattern\":{\"shape\":\"\"}},\"name\":\"104.3M\",\"offsetgroup\":\"104.3M\",\"orientation\":\"v\",\"showlegend\":true,\"texttemplate\":\"%{value}\",\"x\":[\"United States\"],\"xaxis\":\"x\",\"yaxis\":\"y\",\"type\":\"histogram\"},{\"alignmentgroup\":\"True\",\"bingroup\":\"x\",\"hovertemplate\":\"Followers=176.2M<br>Audience Country=%{x}<br>count=%{y}<extra></extra>\",\"legendgroup\":\"176.2M\",\"marker\":{\"color\":\"#EF553B\",\"pattern\":{\"shape\":\"\"}},\"name\":\"176.2M\",\"offsetgroup\":\"176.2M\",\"orientation\":\"v\",\"showlegend\":true,\"texttemplate\":\"%{value}\",\"x\":[\"Brazil\"],\"xaxis\":\"x\",\"yaxis\":\"y\",\"type\":\"histogram\"},{\"alignmentgroup\":\"True\",\"bingroup\":\"x\",\"hovertemplate\":\"Followers=78.6M<br>Audience Country=%{x}<br>count=%{y}<extra></extra>\",\"legendgroup\":\"78.6M\",\"marker\":{\"color\":\"#00cc96\",\"pattern\":{\"shape\":\"\"}},\"name\":\"78.6M\",\"offsetgroup\":\"78.6M\",\"orientation\":\"v\",\"showlegend\":true,\"texttemplate\":\"%{value}\",\"x\":[\"India\",\"India\",\"India\"],\"xaxis\":\"x\",\"yaxis\":\"y\",\"type\":\"histogram\"},{\"alignmentgroup\":\"True\",\"bingroup\":\"x\",\"hovertemplate\":\"Followers=245.9M<br>Audience Country=%{x}<br>count=%{y}<extra></extra>\",\"legendgroup\":\"245.9M\",\"marker\":{\"color\":\"#ab63fa\",\"pattern\":{\"shape\":\"\"}},\"name\":\"245.9M\",\"offsetgroup\":\"245.9M\",\"orientation\":\"v\",\"showlegend\":true,\"texttemplate\":\"%{value}\",\"x\":[\"India\"],\"xaxis\":\"x\",\"yaxis\":\"y\",\"type\":\"histogram\"},{\"alignmentgroup\":\"True\",\"bingroup\":\"x\",\"hovertemplate\":\"Followers=61M<br>Audience Country=%{x}<br>count=%{y}<extra></extra>\",\"legendgroup\":\"61M\",\"marker\":{\"color\":\"#FFA15A\",\"pattern\":{\"shape\":\"\"}},\"name\":\"61M\",\"offsetgroup\":\"61M\",\"orientation\":\"v\",\"showlegend\":true,\"texttemplate\":\"%{value}\",\"x\":[\"Indonesia\"],\"xaxis\":\"x\",\"yaxis\":\"y\",\"type\":\"histogram\"},{\"alignmentgroup\":\"True\",\"bingroup\":\"x\",\"hovertemplate\":\"Followers=41.4M<br>Audience Country=%{x}<br>count=%{y}<extra></extra>\",\"legendgroup\":\"41.4M\",\"marker\":{\"color\":\"#19d3f3\",\"pattern\":{\"shape\":\"\"}},\"name\":\"41.4M\",\"offsetgroup\":\"41.4M\",\"orientation\":\"v\",\"showlegend\":true,\"texttemplate\":\"%{value}\",\"x\":[\"United States\"],\"xaxis\":\"x\",\"yaxis\":\"y\",\"type\":\"histogram\"},{\"alignmentgroup\":\"True\",\"bingroup\":\"x\",\"hovertemplate\":\"Followers=197.8M<br>Audience Country=%{x}<br>count=%{y}<extra></extra>\",\"legendgroup\":\"197.8M\",\"marker\":{\"color\":\"#FF6692\",\"pattern\":{\"shape\":\"\"}},\"name\":\"197.8M\",\"offsetgroup\":\"197.8M\",\"orientation\":\"v\",\"showlegend\":true,\"texttemplate\":\"%{value}\",\"x\":[\"United States\"],\"xaxis\":\"x\",\"yaxis\":\"y\",\"type\":\"histogram\"},{\"alignmentgroup\":\"True\",\"bingroup\":\"x\",\"hovertemplate\":\"Followers=528.4M<br>Audience Country=%{x}<br>count=%{y}<extra></extra>\",\"legendgroup\":\"528.4M\",\"marker\":{\"color\":\"#B6E880\",\"pattern\":{\"shape\":\"\"}},\"name\":\"528.4M\",\"offsetgroup\":\"528.4M\",\"orientation\":\"v\",\"showlegend\":true,\"texttemplate\":\"%{value}\",\"x\":[\"India\"],\"xaxis\":\"x\",\"yaxis\":\"y\",\"type\":\"histogram\"},{\"alignmentgroup\":\"True\",\"bingroup\":\"x\",\"hovertemplate\":\"Followers=43M<br>Audience Country=%{x}<br>count=%{y}<extra></extra>\",\"legendgroup\":\"43M\",\"marker\":{\"color\":\"#FF97FF\",\"pattern\":{\"shape\":\"\"}},\"name\":\"43M\",\"offsetgroup\":\"43M\",\"orientation\":\"v\",\"showlegend\":true,\"texttemplate\":\"%{value}\",\"x\":[null,\"United States\"],\"xaxis\":\"x\",\"yaxis\":\"y\",\"type\":\"histogram\"},{\"alignmentgroup\":\"True\",\"bingroup\":\"x\",\"hovertemplate\":\"Followers=66M<br>Audience Country=%{x}<br>count=%{y}<extra></extra>\",\"legendgroup\":\"66M\",\"marker\":{\"color\":\"#FECB52\",\"pattern\":{\"shape\":\"\"}},\"name\":\"66M\",\"offsetgroup\":\"66M\",\"orientation\":\"v\",\"showlegend\":true,\"texttemplate\":\"%{value}\",\"x\":[\"Indonesia\"],\"xaxis\":\"x\",\"yaxis\":\"y\",\"type\":\"histogram\"},{\"alignmentgroup\":\"True\",\"bingroup\":\"x\",\"hovertemplate\":\"Followers=137.3M<br>Audience Country=%{x}<br>count=%{y}<extra></extra>\",\"legendgroup\":\"137.3M\",\"marker\":{\"color\":\"#636efa\",\"pattern\":{\"shape\":\"\"}},\"name\":\"137.3M\",\"offsetgroup\":\"137.3M\",\"orientation\":\"v\",\"showlegend\":true,\"texttemplate\":\"%{value}\",\"x\":[\"United States\"],\"xaxis\":\"x\",\"yaxis\":\"y\",\"type\":\"histogram\"},{\"alignmentgroup\":\"True\",\"bingroup\":\"x\",\"hovertemplate\":\"Followers=189M<br>Audience Country=%{x}<br>count=%{y}<extra></extra>\",\"legendgroup\":\"189M\",\"marker\":{\"color\":\"#EF553B\",\"pattern\":{\"shape\":\"\"}},\"name\":\"189M\",\"offsetgroup\":\"189M\",\"orientation\":\"v\",\"showlegend\":true,\"texttemplate\":\"%{value}\",\"x\":[\"United States\"],\"xaxis\":\"x\",\"yaxis\":\"y\",\"type\":\"histogram\"},{\"alignmentgroup\":\"True\",\"bingroup\":\"x\",\"hovertemplate\":\"Followers=54.5M<br>Audience Country=%{x}<br>count=%{y}<extra></extra>\",\"legendgroup\":\"54.5M\",\"marker\":{\"color\":\"#00cc96\",\"pattern\":{\"shape\":\"\"}},\"name\":\"54.5M\",\"offsetgroup\":\"54.5M\",\"orientation\":\"v\",\"showlegend\":true,\"texttemplate\":\"%{value}\",\"x\":[\"Mexico\"],\"xaxis\":\"x\",\"yaxis\":\"y\",\"type\":\"histogram\"},{\"alignmentgroup\":\"True\",\"bingroup\":\"x\",\"hovertemplate\":\"Followers=46.2M<br>Audience Country=%{x}<br>count=%{y}<extra></extra>\",\"legendgroup\":\"46.2M\",\"marker\":{\"color\":\"#ab63fa\",\"pattern\":{\"shape\":\"\"}},\"name\":\"46.2M\",\"offsetgroup\":\"46.2M\",\"orientation\":\"v\",\"showlegend\":true,\"texttemplate\":\"%{value}\",\"x\":[\"India\"],\"xaxis\":\"x\",\"yaxis\":\"y\",\"type\":\"histogram\"},{\"alignmentgroup\":\"True\",\"bingroup\":\"x\",\"hovertemplate\":\"Followers=36M<br>Audience Country=%{x}<br>count=%{y}<extra></extra>\",\"legendgroup\":\"36M\",\"marker\":{\"color\":\"#FFA15A\",\"pattern\":{\"shape\":\"\"}},\"name\":\"36M\",\"offsetgroup\":\"36M\",\"orientation\":\"v\",\"showlegend\":true,\"texttemplate\":\"%{value}\",\"x\":[null,\"United States\"],\"xaxis\":\"x\",\"yaxis\":\"y\",\"type\":\"histogram\"},{\"alignmentgroup\":\"True\",\"bingroup\":\"x\",\"hovertemplate\":\"Followers=53.2M<br>Audience Country=%{x}<br>count=%{y}<extra></extra>\",\"legendgroup\":\"53.2M\",\"marker\":{\"color\":\"#19d3f3\",\"pattern\":{\"shape\":\"\"}},\"name\":\"53.2M\",\"offsetgroup\":\"53.2M\",\"orientation\":\"v\",\"showlegend\":true,\"texttemplate\":\"%{value}\",\"x\":[\"Brazil\",\"India\",\"United States\"],\"xaxis\":\"x\",\"yaxis\":\"y\",\"type\":\"histogram\"},{\"alignmentgroup\":\"True\",\"bingroup\":\"x\",\"hovertemplate\":\"Followers=74.9M<br>Audience Country=%{x}<br>count=%{y}<extra></extra>\",\"legendgroup\":\"74.9M\",\"marker\":{\"color\":\"#FF6692\",\"pattern\":{\"shape\":\"\"}},\"name\":\"74.9M\",\"offsetgroup\":\"74.9M\",\"orientation\":\"v\",\"showlegend\":true,\"texttemplate\":\"%{value}\",\"x\":[\"United States\"],\"xaxis\":\"x\",\"yaxis\":\"y\",\"type\":\"histogram\"},{\"alignmentgroup\":\"True\",\"bingroup\":\"x\",\"hovertemplate\":\"Followers=217.5M<br>Audience Country=%{x}<br>count=%{y}<extra></extra>\",\"legendgroup\":\"217.5M\",\"marker\":{\"color\":\"#B6E880\",\"pattern\":{\"shape\":\"\"}},\"name\":\"217.5M\",\"offsetgroup\":\"217.5M\",\"orientation\":\"v\",\"showlegend\":true,\"texttemplate\":\"%{value}\",\"x\":[\"United States\"],\"xaxis\":\"x\",\"yaxis\":\"y\",\"type\":\"histogram\"},{\"alignmentgroup\":\"True\",\"bingroup\":\"x\",\"hovertemplate\":\"Followers=127.4M<br>Audience Country=%{x}<br>count=%{y}<extra></extra>\",\"legendgroup\":\"127.4M\",\"marker\":{\"color\":\"#FF97FF\",\"pattern\":{\"shape\":\"\"}},\"name\":\"127.4M\",\"offsetgroup\":\"127.4M\",\"orientation\":\"v\",\"showlegend\":true,\"texttemplate\":\"%{value}\",\"x\":[\"United States\"],\"xaxis\":\"x\",\"yaxis\":\"y\",\"type\":\"histogram\"},{\"alignmentgroup\":\"True\",\"bingroup\":\"x\",\"hovertemplate\":\"Followers=327.3M<br>Audience Country=%{x}<br>count=%{y}<extra></extra>\",\"legendgroup\":\"327.3M\",\"marker\":{\"color\":\"#FECB52\",\"pattern\":{\"shape\":\"\"}},\"name\":\"327.3M\",\"offsetgroup\":\"327.3M\",\"orientation\":\"v\",\"showlegend\":true,\"texttemplate\":\"%{value}\",\"x\":[\"India\"],\"xaxis\":\"x\",\"yaxis\":\"y\",\"type\":\"histogram\"},{\"alignmentgroup\":\"True\",\"bingroup\":\"x\",\"hovertemplate\":\"Followers=50.6M<br>Audience Country=%{x}<br>count=%{y}<extra></extra>\",\"legendgroup\":\"50.6M\",\"marker\":{\"color\":\"#636efa\",\"pattern\":{\"shape\":\"\"}},\"name\":\"50.6M\",\"offsetgroup\":\"50.6M\",\"orientation\":\"v\",\"showlegend\":true,\"texttemplate\":\"%{value}\",\"x\":[\"United States\"],\"xaxis\":\"x\",\"yaxis\":\"y\",\"type\":\"histogram\"},{\"alignmentgroup\":\"True\",\"bingroup\":\"x\",\"hovertemplate\":\"Followers=39M<br>Audience Country=%{x}<br>count=%{y}<extra></extra>\",\"legendgroup\":\"39M\",\"marker\":{\"color\":\"#EF553B\",\"pattern\":{\"shape\":\"\"}},\"name\":\"39M\",\"offsetgroup\":\"39M\",\"orientation\":\"v\",\"showlegend\":true,\"texttemplate\":\"%{value}\",\"x\":[\"India\"],\"xaxis\":\"x\",\"yaxis\":\"y\",\"type\":\"histogram\"},{\"alignmentgroup\":\"True\",\"bingroup\":\"x\",\"hovertemplate\":\"Followers=116.6M<br>Audience Country=%{x}<br>count=%{y}<extra></extra>\",\"legendgroup\":\"116.6M\",\"marker\":{\"color\":\"#00cc96\",\"pattern\":{\"shape\":\"\"}},\"name\":\"116.6M\",\"offsetgroup\":\"116.6M\",\"orientation\":\"v\",\"showlegend\":true,\"texttemplate\":\"%{value}\",\"x\":[\"United States\"],\"xaxis\":\"x\",\"yaxis\":\"y\",\"type\":\"histogram\"},{\"alignmentgroup\":\"True\",\"bingroup\":\"x\",\"hovertemplate\":\"Followers=65.6M<br>Audience Country=%{x}<br>count=%{y}<extra></extra>\",\"legendgroup\":\"65.6M\",\"marker\":{\"color\":\"#ab63fa\",\"pattern\":{\"shape\":\"\"}},\"name\":\"65.6M\",\"offsetgroup\":\"65.6M\",\"orientation\":\"v\",\"showlegend\":true,\"texttemplate\":\"%{value}\",\"x\":[\"India\"],\"xaxis\":\"x\",\"yaxis\":\"y\",\"type\":\"histogram\"},{\"alignmentgroup\":\"True\",\"bingroup\":\"x\",\"hovertemplate\":\"Followers=178.2M<br>Audience Country=%{x}<br>count=%{y}<extra></extra>\",\"legendgroup\":\"178.2M\",\"marker\":{\"color\":\"#FFA15A\",\"pattern\":{\"shape\":\"\"}},\"name\":\"178.2M\",\"offsetgroup\":\"178.2M\",\"orientation\":\"v\",\"showlegend\":true,\"texttemplate\":\"%{value}\",\"x\":[\"United States\"],\"xaxis\":\"x\",\"yaxis\":\"y\",\"type\":\"histogram\"},{\"alignmentgroup\":\"True\",\"bingroup\":\"x\",\"hovertemplate\":\"Followers=29.2M<br>Audience Country=%{x}<br>count=%{y}<extra></extra>\",\"legendgroup\":\"29.2M\",\"marker\":{\"color\":\"#19d3f3\",\"pattern\":{\"shape\":\"\"}},\"name\":\"29.2M\",\"offsetgroup\":\"29.2M\",\"orientation\":\"v\",\"showlegend\":true,\"texttemplate\":\"%{value}\",\"x\":[\"Indonesia\"],\"xaxis\":\"x\",\"yaxis\":\"y\",\"type\":\"histogram\"},{\"alignmentgroup\":\"True\",\"bingroup\":\"x\",\"hovertemplate\":\"Followers=45.8M<br>Audience Country=%{x}<br>count=%{y}<extra></extra>\",\"legendgroup\":\"45.8M\",\"marker\":{\"color\":\"#FF6692\",\"pattern\":{\"shape\":\"\"}},\"name\":\"45.8M\",\"offsetgroup\":\"45.8M\",\"orientation\":\"v\",\"showlegend\":true,\"texttemplate\":\"%{value}\",\"x\":[\"United States\",\"Argentina\",\"United States\"],\"xaxis\":\"x\",\"yaxis\":\"y\",\"type\":\"histogram\"},{\"alignmentgroup\":\"True\",\"bingroup\":\"x\",\"hovertemplate\":\"Followers=29.4M<br>Audience Country=%{x}<br>count=%{y}<extra></extra>\",\"legendgroup\":\"29.4M\",\"marker\":{\"color\":\"#B6E880\",\"pattern\":{\"shape\":\"\"}},\"name\":\"29.4M\",\"offsetgroup\":\"29.4M\",\"orientation\":\"v\",\"showlegend\":true,\"texttemplate\":\"%{value}\",\"x\":[\"Russia\",null,null],\"xaxis\":\"x\",\"yaxis\":\"y\",\"type\":\"histogram\"},{\"alignmentgroup\":\"True\",\"bingroup\":\"x\",\"hovertemplate\":\"Followers=27M<br>Audience Country=%{x}<br>count=%{y}<extra></extra>\",\"legendgroup\":\"27M\",\"marker\":{\"color\":\"#FF97FF\",\"pattern\":{\"shape\":\"\"}},\"name\":\"27M\",\"offsetgroup\":\"27M\",\"orientation\":\"v\",\"showlegend\":true,\"texttemplate\":\"%{value}\",\"x\":[\"South Korea\",\"Spain\",\"United States\"],\"xaxis\":\"x\",\"yaxis\":\"y\",\"type\":\"histogram\"},{\"alignmentgroup\":\"True\",\"bingroup\":\"x\",\"hovertemplate\":\"Followers=30.1M<br>Audience Country=%{x}<br>count=%{y}<extra></extra>\",\"legendgroup\":\"30.1M\",\"marker\":{\"color\":\"#FECB52\",\"pattern\":{\"shape\":\"\"}},\"name\":\"30.1M\",\"offsetgroup\":\"30.1M\",\"orientation\":\"v\",\"showlegend\":true,\"texttemplate\":\"%{value}\",\"x\":[\"Indonesia\",\"United States\"],\"xaxis\":\"x\",\"yaxis\":\"y\",\"type\":\"histogram\"},{\"alignmentgroup\":\"True\",\"bingroup\":\"x\",\"hovertemplate\":\"Followers=69.4M<br>Audience Country=%{x}<br>count=%{y}<extra></extra>\",\"legendgroup\":\"69.4M\",\"marker\":{\"color\":\"#636efa\",\"pattern\":{\"shape\":\"\"}},\"name\":\"69.4M\",\"offsetgroup\":\"69.4M\",\"orientation\":\"v\",\"showlegend\":true,\"texttemplate\":\"%{value}\",\"x\":[\"Brazil\"],\"xaxis\":\"x\",\"yaxis\":\"y\",\"type\":\"histogram\"},{\"alignmentgroup\":\"True\",\"bingroup\":\"x\",\"hovertemplate\":\"Followers=72.4M<br>Audience Country=%{x}<br>count=%{y}<extra></extra>\",\"legendgroup\":\"72.4M\",\"marker\":{\"color\":\"#EF553B\",\"pattern\":{\"shape\":\"\"}},\"name\":\"72.4M\",\"offsetgroup\":\"72.4M\",\"orientation\":\"v\",\"showlegend\":true,\"texttemplate\":\"%{value}\",\"x\":[\"France\"],\"xaxis\":\"x\",\"yaxis\":\"y\",\"type\":\"histogram\"},{\"alignmentgroup\":\"True\",\"bingroup\":\"x\",\"hovertemplate\":\"Followers=26.6M<br>Audience Country=%{x}<br>count=%{y}<extra></extra>\",\"legendgroup\":\"26.6M\",\"marker\":{\"color\":\"#00cc96\",\"pattern\":{\"shape\":\"\"}},\"name\":\"26.6M\",\"offsetgroup\":\"26.6M\",\"orientation\":\"v\",\"showlegend\":true,\"texttemplate\":\"%{value}\",\"x\":[\"India\",\"Indonesia\"],\"xaxis\":\"x\",\"yaxis\":\"y\",\"type\":\"histogram\"},{\"alignmentgroup\":\"True\",\"bingroup\":\"x\",\"hovertemplate\":\"Followers=67.2M<br>Audience Country=%{x}<br>count=%{y}<extra></extra>\",\"legendgroup\":\"67.2M\",\"marker\":{\"color\":\"#ab63fa\",\"pattern\":{\"shape\":\"\"}},\"name\":\"67.2M\",\"offsetgroup\":\"67.2M\",\"orientation\":\"v\",\"showlegend\":true,\"texttemplate\":\"%{value}\",\"x\":[\"India\"],\"xaxis\":\"x\",\"yaxis\":\"y\",\"type\":\"histogram\"},{\"alignmentgroup\":\"True\",\"bingroup\":\"x\",\"hovertemplate\":\"Followers=27.1M<br>Audience Country=%{x}<br>count=%{y}<extra></extra>\",\"legendgroup\":\"27.1M\",\"marker\":{\"color\":\"#FFA15A\",\"pattern\":{\"shape\":\"\"}},\"name\":\"27.1M\",\"offsetgroup\":\"27.1M\",\"orientation\":\"v\",\"showlegend\":true,\"texttemplate\":\"%{value}\",\"x\":[\"India\",\"Brazil\"],\"xaxis\":\"x\",\"yaxis\":\"y\",\"type\":\"histogram\"},{\"alignmentgroup\":\"True\",\"bingroup\":\"x\",\"hovertemplate\":\"Followers=59.3M<br>Audience Country=%{x}<br>count=%{y}<extra></extra>\",\"legendgroup\":\"59.3M\",\"marker\":{\"color\":\"#19d3f3\",\"pattern\":{\"shape\":\"\"}},\"name\":\"59.3M\",\"offsetgroup\":\"59.3M\",\"orientation\":\"v\",\"showlegend\":true,\"texttemplate\":\"%{value}\",\"x\":[\"India\"],\"xaxis\":\"x\",\"yaxis\":\"y\",\"type\":\"histogram\"},{\"alignmentgroup\":\"True\",\"bingroup\":\"x\",\"hovertemplate\":\"Followers=85.1M<br>Audience Country=%{x}<br>count=%{y}<extra></extra>\",\"legendgroup\":\"85.1M\",\"marker\":{\"color\":\"#FF6692\",\"pattern\":{\"shape\":\"\"}},\"name\":\"85.1M\",\"offsetgroup\":\"85.1M\",\"orientation\":\"v\",\"showlegend\":true,\"texttemplate\":\"%{value}\",\"x\":[\"Mexico\"],\"xaxis\":\"x\",\"yaxis\":\"y\",\"type\":\"histogram\"},{\"alignmentgroup\":\"True\",\"bingroup\":\"x\",\"hovertemplate\":\"Followers=48.1M<br>Audience Country=%{x}<br>count=%{y}<extra></extra>\",\"legendgroup\":\"48.1M\",\"marker\":{\"color\":\"#B6E880\",\"pattern\":{\"shape\":\"\"}},\"name\":\"48.1M\",\"offsetgroup\":\"48.1M\",\"orientation\":\"v\",\"showlegend\":true,\"texttemplate\":\"%{value}\",\"x\":[\"United States\"],\"xaxis\":\"x\",\"yaxis\":\"y\",\"type\":\"histogram\"},{\"alignmentgroup\":\"True\",\"bingroup\":\"x\",\"hovertemplate\":\"Followers=64.4M<br>Audience Country=%{x}<br>count=%{y}<extra></extra>\",\"legendgroup\":\"64.4M\",\"marker\":{\"color\":\"#FF97FF\",\"pattern\":{\"shape\":\"\"}},\"name\":\"64.4M\",\"offsetgroup\":\"64.4M\",\"orientation\":\"v\",\"showlegend\":true,\"texttemplate\":\"%{value}\",\"x\":[\"Brazil\"],\"xaxis\":\"x\",\"yaxis\":\"y\",\"type\":\"histogram\"},{\"alignmentgroup\":\"True\",\"bingroup\":\"x\",\"hovertemplate\":\"Followers=24.7M<br>Audience Country=%{x}<br>count=%{y}<extra></extra>\",\"legendgroup\":\"24.7M\",\"marker\":{\"color\":\"#FECB52\",\"pattern\":{\"shape\":\"\"}},\"name\":\"24.7M\",\"offsetgroup\":\"24.7M\",\"orientation\":\"v\",\"showlegend\":true,\"texttemplate\":\"%{value}\",\"x\":[\"Brazil\",\"Indonesia\",\"United States\"],\"xaxis\":\"x\",\"yaxis\":\"y\",\"type\":\"histogram\"},{\"alignmentgroup\":\"True\",\"bingroup\":\"x\",\"hovertemplate\":\"Followers=32.9M<br>Audience Country=%{x}<br>count=%{y}<extra></extra>\",\"legendgroup\":\"32.9M\",\"marker\":{\"color\":\"#636efa\",\"pattern\":{\"shape\":\"\"}},\"name\":\"32.9M\",\"offsetgroup\":\"32.9M\",\"orientation\":\"v\",\"showlegend\":true,\"texttemplate\":\"%{value}\",\"x\":[\"India\",\"United States\"],\"xaxis\":\"x\",\"yaxis\":\"y\",\"type\":\"histogram\"},{\"alignmentgroup\":\"True\",\"bingroup\":\"x\",\"hovertemplate\":\"Followers=48.9M<br>Audience Country=%{x}<br>count=%{y}<extra></extra>\",\"legendgroup\":\"48.9M\",\"marker\":{\"color\":\"#EF553B\",\"pattern\":{\"shape\":\"\"}},\"name\":\"48.9M\",\"offsetgroup\":\"48.9M\",\"orientation\":\"v\",\"showlegend\":true,\"texttemplate\":\"%{value}\",\"x\":[\"United States\",\"United States\"],\"xaxis\":\"x\",\"yaxis\":\"y\",\"type\":\"histogram\"},{\"alignmentgroup\":\"True\",\"bingroup\":\"x\",\"hovertemplate\":\"Followers=24.2M<br>Audience Country=%{x}<br>count=%{y}<extra></extra>\",\"legendgroup\":\"24.2M\",\"marker\":{\"color\":\"#00cc96\",\"pattern\":{\"shape\":\"\"}},\"name\":\"24.2M\",\"offsetgroup\":\"24.2M\",\"orientation\":\"v\",\"showlegend\":true,\"texttemplate\":\"%{value}\",\"x\":[\"United States\",\"India\"],\"xaxis\":\"x\",\"yaxis\":\"y\",\"type\":\"histogram\"},{\"alignmentgroup\":\"True\",\"bingroup\":\"x\",\"hovertemplate\":\"Followers=55.1M<br>Audience Country=%{x}<br>count=%{y}<extra></extra>\",\"legendgroup\":\"55.1M\",\"marker\":{\"color\":\"#ab63fa\",\"pattern\":{\"shape\":\"\"}},\"name\":\"55.1M\",\"offsetgroup\":\"55.1M\",\"orientation\":\"v\",\"showlegend\":true,\"texttemplate\":\"%{value}\",\"x\":[\"India\"],\"xaxis\":\"x\",\"yaxis\":\"y\",\"type\":\"histogram\"},{\"alignmentgroup\":\"True\",\"bingroup\":\"x\",\"hovertemplate\":\"Followers=35.2M<br>Audience Country=%{x}<br>count=%{y}<extra></extra>\",\"legendgroup\":\"35.2M\",\"marker\":{\"color\":\"#FFA15A\",\"pattern\":{\"shape\":\"\"}},\"name\":\"35.2M\",\"offsetgroup\":\"35.2M\",\"orientation\":\"v\",\"showlegend\":true,\"texttemplate\":\"%{value}\",\"x\":[\"Mexico\"],\"xaxis\":\"x\",\"yaxis\":\"y\",\"type\":\"histogram\"},{\"alignmentgroup\":\"True\",\"bingroup\":\"x\",\"hovertemplate\":\"Followers=49M<br>Audience Country=%{x}<br>count=%{y}<extra></extra>\",\"legendgroup\":\"49M\",\"marker\":{\"color\":\"#19d3f3\",\"pattern\":{\"shape\":\"\"}},\"name\":\"49M\",\"offsetgroup\":\"49M\",\"orientation\":\"v\",\"showlegend\":true,\"texttemplate\":\"%{value}\",\"x\":[\"Mexico\"],\"xaxis\":\"x\",\"yaxis\":\"y\",\"type\":\"histogram\"},{\"alignmentgroup\":\"True\",\"bingroup\":\"x\",\"hovertemplate\":\"Followers=54.6M<br>Audience Country=%{x}<br>count=%{y}<extra></extra>\",\"legendgroup\":\"54.6M\",\"marker\":{\"color\":\"#FF6692\",\"pattern\":{\"shape\":\"\"}},\"name\":\"54.6M\",\"offsetgroup\":\"54.6M\",\"orientation\":\"v\",\"showlegend\":true,\"texttemplate\":\"%{value}\",\"x\":[\"Italy\"],\"xaxis\":\"x\",\"yaxis\":\"y\",\"type\":\"histogram\"},{\"alignmentgroup\":\"True\",\"bingroup\":\"x\",\"hovertemplate\":\"Followers=51.9M<br>Audience Country=%{x}<br>count=%{y}<extra></extra>\",\"legendgroup\":\"51.9M\",\"marker\":{\"color\":\"#B6E880\",\"pattern\":{\"shape\":\"\"}},\"name\":\"51.9M\",\"offsetgroup\":\"51.9M\",\"orientation\":\"v\",\"showlegend\":true,\"texttemplate\":\"%{value}\",\"x\":[\"Egypt\"],\"xaxis\":\"x\",\"yaxis\":\"y\",\"type\":\"histogram\"},{\"alignmentgroup\":\"True\",\"bingroup\":\"x\",\"hovertemplate\":\"Followers=22.2M<br>Audience Country=%{x}<br>count=%{y}<extra></extra>\",\"legendgroup\":\"22.2M\",\"marker\":{\"color\":\"#FF97FF\",\"pattern\":{\"shape\":\"\"}},\"name\":\"22.2M\",\"offsetgroup\":\"22.2M\",\"orientation\":\"v\",\"showlegend\":true,\"texttemplate\":\"%{value}\",\"x\":[\"Indonesia\",\"United Kingdom\",\"United Kingdom\"],\"xaxis\":\"x\",\"yaxis\":\"y\",\"type\":\"histogram\"},{\"alignmentgroup\":\"True\",\"bingroup\":\"x\",\"hovertemplate\":\"Followers=23M<br>Audience Country=%{x}<br>count=%{y}<extra></extra>\",\"legendgroup\":\"23M\",\"marker\":{\"color\":\"#FECB52\",\"pattern\":{\"shape\":\"\"}},\"name\":\"23M\",\"offsetgroup\":\"23M\",\"orientation\":\"v\",\"showlegend\":true,\"texttemplate\":\"%{value}\",\"x\":[\"Indonesia\",\"India\",\"Brazil\",\"India\"],\"xaxis\":\"x\",\"yaxis\":\"y\",\"type\":\"histogram\"},{\"alignmentgroup\":\"True\",\"bingroup\":\"x\",\"hovertemplate\":\"Followers=28.5M<br>Audience Country=%{x}<br>count=%{y}<extra></extra>\",\"legendgroup\":\"28.5M\",\"marker\":{\"color\":\"#636efa\",\"pattern\":{\"shape\":\"\"}},\"name\":\"28.5M\",\"offsetgroup\":\"28.5M\",\"orientation\":\"v\",\"showlegend\":true,\"texttemplate\":\"%{value}\",\"x\":[\"Turkey\"],\"xaxis\":\"x\",\"yaxis\":\"y\",\"type\":\"histogram\"},{\"alignmentgroup\":\"True\",\"bingroup\":\"x\",\"hovertemplate\":\"Followers=30.2M<br>Audience Country=%{x}<br>count=%{y}<extra></extra>\",\"legendgroup\":\"30.2M\",\"marker\":{\"color\":\"#EF553B\",\"pattern\":{\"shape\":\"\"}},\"name\":\"30.2M\",\"offsetgroup\":\"30.2M\",\"orientation\":\"v\",\"showlegend\":true,\"texttemplate\":\"%{value}\",\"x\":[\"United States\"],\"xaxis\":\"x\",\"yaxis\":\"y\",\"type\":\"histogram\"},{\"alignmentgroup\":\"True\",\"bingroup\":\"x\",\"hovertemplate\":\"Followers=47.7M<br>Audience Country=%{x}<br>count=%{y}<extra></extra>\",\"legendgroup\":\"47.7M\",\"marker\":{\"color\":\"#00cc96\",\"pattern\":{\"shape\":\"\"}},\"name\":\"47.7M\",\"offsetgroup\":\"47.7M\",\"orientation\":\"v\",\"showlegend\":true,\"texttemplate\":\"%{value}\",\"x\":[\"Argentina\",\"Indonesia\"],\"xaxis\":\"x\",\"yaxis\":\"y\",\"type\":\"histogram\"},{\"alignmentgroup\":\"True\",\"bingroup\":\"x\",\"hovertemplate\":\"Followers=83.8M<br>Audience Country=%{x}<br>count=%{y}<extra></extra>\",\"legendgroup\":\"83.8M\",\"marker\":{\"color\":\"#ab63fa\",\"pattern\":{\"shape\":\"\"}},\"name\":\"83.8M\",\"offsetgroup\":\"83.8M\",\"orientation\":\"v\",\"showlegend\":true,\"texttemplate\":\"%{value}\",\"x\":[\"United States\"],\"xaxis\":\"x\",\"yaxis\":\"y\",\"type\":\"histogram\"},{\"alignmentgroup\":\"True\",\"bingroup\":\"x\",\"hovertemplate\":\"Followers=23.3M<br>Audience Country=%{x}<br>count=%{y}<extra></extra>\",\"legendgroup\":\"23.3M\",\"marker\":{\"color\":\"#FFA15A\",\"pattern\":{\"shape\":\"\"}},\"name\":\"23.3M\",\"offsetgroup\":\"23.3M\",\"orientation\":\"v\",\"showlegend\":true,\"texttemplate\":\"%{value}\",\"x\":[\"Indonesia\",\"United States\"],\"xaxis\":\"x\",\"yaxis\":\"y\",\"type\":\"histogram\"},{\"alignmentgroup\":\"True\",\"bingroup\":\"x\",\"hovertemplate\":\"Followers=121.8M<br>Audience Country=%{x}<br>count=%{y}<extra></extra>\",\"legendgroup\":\"121.8M\",\"marker\":{\"color\":\"#19d3f3\",\"pattern\":{\"shape\":\"\"}},\"name\":\"121.8M\",\"offsetgroup\":\"121.8M\",\"orientation\":\"v\",\"showlegend\":true,\"texttemplate\":\"%{value}\",\"x\":[\"Spain\"],\"xaxis\":\"x\",\"yaxis\":\"y\",\"type\":\"histogram\"},{\"alignmentgroup\":\"True\",\"bingroup\":\"x\",\"hovertemplate\":\"Followers=21.6M<br>Audience Country=%{x}<br>count=%{y}<extra></extra>\",\"legendgroup\":\"21.6M\",\"marker\":{\"color\":\"#FF6692\",\"pattern\":{\"shape\":\"\"}},\"name\":\"21.6M\",\"offsetgroup\":\"21.6M\",\"orientation\":\"v\",\"showlegend\":true,\"texttemplate\":\"%{value}\",\"x\":[\"Brazil\",\"Turkey\"],\"xaxis\":\"x\",\"yaxis\":\"y\",\"type\":\"histogram\"},{\"alignmentgroup\":\"True\",\"bingroup\":\"x\",\"hovertemplate\":\"Followers=29M<br>Audience Country=%{x}<br>count=%{y}<extra></extra>\",\"legendgroup\":\"29M\",\"marker\":{\"color\":\"#B6E880\",\"pattern\":{\"shape\":\"\"}},\"name\":\"29M\",\"offsetgroup\":\"29M\",\"orientation\":\"v\",\"showlegend\":true,\"texttemplate\":\"%{value}\",\"x\":[\"Brazil\",\"Brazil\"],\"xaxis\":\"x\",\"yaxis\":\"y\",\"type\":\"histogram\"},{\"alignmentgroup\":\"True\",\"bingroup\":\"x\",\"hovertemplate\":\"Followers=115.1M<br>Audience Country=%{x}<br>count=%{y}<extra></extra>\",\"legendgroup\":\"115.1M\",\"marker\":{\"color\":\"#FF97FF\",\"pattern\":{\"shape\":\"\"}},\"name\":\"115.1M\",\"offsetgroup\":\"115.1M\",\"orientation\":\"v\",\"showlegend\":true,\"texttemplate\":\"%{value}\",\"x\":[\"United States\"],\"xaxis\":\"x\",\"yaxis\":\"y\",\"type\":\"histogram\"},{\"alignmentgroup\":\"True\",\"bingroup\":\"x\",\"hovertemplate\":\"Followers=110M<br>Audience Country=%{x}<br>count=%{y}<extra></extra>\",\"legendgroup\":\"110M\",\"marker\":{\"color\":\"#FECB52\",\"pattern\":{\"shape\":\"\"}},\"name\":\"110M\",\"offsetgroup\":\"110M\",\"orientation\":\"v\",\"showlegend\":true,\"texttemplate\":\"%{value}\",\"x\":[\"Indonesia\"],\"xaxis\":\"x\",\"yaxis\":\"y\",\"type\":\"histogram\"},{\"alignmentgroup\":\"True\",\"bingroup\":\"x\",\"hovertemplate\":\"Followers=30M<br>Audience Country=%{x}<br>count=%{y}<extra></extra>\",\"legendgroup\":\"30M\",\"marker\":{\"color\":\"#636efa\",\"pattern\":{\"shape\":\"\"}},\"name\":\"30M\",\"offsetgroup\":\"30M\",\"orientation\":\"v\",\"showlegend\":true,\"texttemplate\":\"%{value}\",\"x\":[\"India\"],\"xaxis\":\"x\",\"yaxis\":\"y\",\"type\":\"histogram\"},{\"alignmentgroup\":\"True\",\"bingroup\":\"x\",\"hovertemplate\":\"Followers=136.3M<br>Audience Country=%{x}<br>count=%{y}<extra></extra>\",\"legendgroup\":\"136.3M\",\"marker\":{\"color\":\"#EF553B\",\"pattern\":{\"shape\":\"\"}},\"name\":\"136.3M\",\"offsetgroup\":\"136.3M\",\"orientation\":\"v\",\"showlegend\":true,\"texttemplate\":\"%{value}\",\"x\":[\"United States\"],\"xaxis\":\"x\",\"yaxis\":\"y\",\"type\":\"histogram\"},{\"alignmentgroup\":\"True\",\"bingroup\":\"x\",\"hovertemplate\":\"Followers=32.3M<br>Audience Country=%{x}<br>count=%{y}<extra></extra>\",\"legendgroup\":\"32.3M\",\"marker\":{\"color\":\"#00cc96\",\"pattern\":{\"shape\":\"\"}},\"name\":\"32.3M\",\"offsetgroup\":\"32.3M\",\"orientation\":\"v\",\"showlegend\":true,\"texttemplate\":\"%{value}\",\"x\":[\"India\",\"Mexico\",\"India\",\"United States\"],\"xaxis\":\"x\",\"yaxis\":\"y\",\"type\":\"histogram\"},{\"alignmentgroup\":\"True\",\"bingroup\":\"x\",\"hovertemplate\":\"Followers=52.1M<br>Audience Country=%{x}<br>count=%{y}<extra></extra>\",\"legendgroup\":\"52.1M\",\"marker\":{\"color\":\"#ab63fa\",\"pattern\":{\"shape\":\"\"}},\"name\":\"52.1M\",\"offsetgroup\":\"52.1M\",\"orientation\":\"v\",\"showlegend\":true,\"texttemplate\":\"%{value}\",\"x\":[\"India\"],\"xaxis\":\"x\",\"yaxis\":\"y\",\"type\":\"histogram\"},{\"alignmentgroup\":\"True\",\"bingroup\":\"x\",\"hovertemplate\":\"Followers=14.4M<br>Audience Country=%{x}<br>count=%{y}<extra></extra>\",\"legendgroup\":\"14.4M\",\"marker\":{\"color\":\"#FFA15A\",\"pattern\":{\"shape\":\"\"}},\"name\":\"14.4M\",\"offsetgroup\":\"14.4M\",\"orientation\":\"v\",\"showlegend\":true,\"texttemplate\":\"%{value}\",\"x\":[\"Mexico\",\"Indonesia\",\"Indonesia\",\"Brazil\",\"United Arab Emirates\",\"India\"],\"xaxis\":\"x\",\"yaxis\":\"y\",\"type\":\"histogram\"},{\"alignmentgroup\":\"True\",\"bingroup\":\"x\",\"hovertemplate\":\"Followers=28.9M<br>Audience Country=%{x}<br>count=%{y}<extra></extra>\",\"legendgroup\":\"28.9M\",\"marker\":{\"color\":\"#19d3f3\",\"pattern\":{\"shape\":\"\"}},\"name\":\"28.9M\",\"offsetgroup\":\"28.9M\",\"orientation\":\"v\",\"showlegend\":true,\"texttemplate\":\"%{value}\",\"x\":[\"China\"],\"xaxis\":\"x\",\"yaxis\":\"y\",\"type\":\"histogram\"},{\"alignmentgroup\":\"True\",\"bingroup\":\"x\",\"hovertemplate\":\"Followers=67.8M<br>Audience Country=%{x}<br>count=%{y}<extra></extra>\",\"legendgroup\":\"67.8M\",\"marker\":{\"color\":\"#FF6692\",\"pattern\":{\"shape\":\"\"}},\"name\":\"67.8M\",\"offsetgroup\":\"67.8M\",\"orientation\":\"v\",\"showlegend\":true,\"texttemplate\":\"%{value}\",\"x\":[\"India\"],\"xaxis\":\"x\",\"yaxis\":\"y\",\"type\":\"histogram\"},{\"alignmentgroup\":\"True\",\"bingroup\":\"x\",\"hovertemplate\":\"Followers=34.5M<br>Audience Country=%{x}<br>count=%{y}<extra></extra>\",\"legendgroup\":\"34.5M\",\"marker\":{\"color\":\"#B6E880\",\"pattern\":{\"shape\":\"\"}},\"name\":\"34.5M\",\"offsetgroup\":\"34.5M\",\"orientation\":\"v\",\"showlegend\":true,\"texttemplate\":\"%{value}\",\"x\":[\"Mexico\"],\"xaxis\":\"x\",\"yaxis\":\"y\",\"type\":\"histogram\"},{\"alignmentgroup\":\"True\",\"bingroup\":\"x\",\"hovertemplate\":\"Followers=45.9M<br>Audience Country=%{x}<br>count=%{y}<extra></extra>\",\"legendgroup\":\"45.9M\",\"marker\":{\"color\":\"#FF97FF\",\"pattern\":{\"shape\":\"\"}},\"name\":\"45.9M\",\"offsetgroup\":\"45.9M\",\"orientation\":\"v\",\"showlegend\":true,\"texttemplate\":\"%{value}\",\"x\":[\"United States\"],\"xaxis\":\"x\",\"yaxis\":\"y\",\"type\":\"histogram\"},{\"alignmentgroup\":\"True\",\"bingroup\":\"x\",\"hovertemplate\":\"Followers=55.9M<br>Audience Country=%{x}<br>count=%{y}<extra></extra>\",\"legendgroup\":\"55.9M\",\"marker\":{\"color\":\"#FECB52\",\"pattern\":{\"shape\":\"\"}},\"name\":\"55.9M\",\"offsetgroup\":\"55.9M\",\"orientation\":\"v\",\"showlegend\":true,\"texttemplate\":\"%{value}\",\"x\":[\"France\"],\"xaxis\":\"x\",\"yaxis\":\"y\",\"type\":\"histogram\"},{\"alignmentgroup\":\"True\",\"bingroup\":\"x\",\"hovertemplate\":\"Followers=53.9M<br>Audience Country=%{x}<br>count=%{y}<extra></extra>\",\"legendgroup\":\"53.9M\",\"marker\":{\"color\":\"#636efa\",\"pattern\":{\"shape\":\"\"}},\"name\":\"53.9M\",\"offsetgroup\":\"53.9M\",\"orientation\":\"v\",\"showlegend\":true,\"texttemplate\":\"%{value}\",\"x\":[\"United States\"],\"xaxis\":\"x\",\"yaxis\":\"y\",\"type\":\"histogram\"},{\"alignmentgroup\":\"True\",\"bingroup\":\"x\",\"hovertemplate\":\"Followers=20M<br>Audience Country=%{x}<br>count=%{y}<extra></extra>\",\"legendgroup\":\"20M\",\"marker\":{\"color\":\"#EF553B\",\"pattern\":{\"shape\":\"\"}},\"name\":\"20M\",\"offsetgroup\":\"20M\",\"orientation\":\"v\",\"showlegend\":true,\"texttemplate\":\"%{value}\",\"x\":[\"Argentina\",\"Brazil\",\"Russia\"],\"xaxis\":\"x\",\"yaxis\":\"y\",\"type\":\"histogram\"},{\"alignmentgroup\":\"True\",\"bingroup\":\"x\",\"hovertemplate\":\"Followers=21.9M<br>Audience Country=%{x}<br>count=%{y}<extra></extra>\",\"legendgroup\":\"21.9M\",\"marker\":{\"color\":\"#00cc96\",\"pattern\":{\"shape\":\"\"}},\"name\":\"21.9M\",\"offsetgroup\":\"21.9M\",\"orientation\":\"v\",\"showlegend\":true,\"texttemplate\":\"%{value}\",\"x\":[\"Indonesia\",\"United States\"],\"xaxis\":\"x\",\"yaxis\":\"y\",\"type\":\"histogram\"},{\"alignmentgroup\":\"True\",\"bingroup\":\"x\",\"hovertemplate\":\"Followers=9.6M<br>Audience Country=%{x}<br>count=%{y}<extra></extra>\",\"legendgroup\":\"9.6M\",\"marker\":{\"color\":\"#ab63fa\",\"pattern\":{\"shape\":\"\"}},\"name\":\"9.6M\",\"offsetgroup\":\"9.6M\",\"orientation\":\"v\",\"showlegend\":true,\"texttemplate\":\"%{value}\",\"x\":[\"India\",\"United States\",\"United States\",\"United Kingdom\",\"India\",\"Brazil\",\"Indonesia\",\"Indonesia\",\"Spain\"],\"xaxis\":\"x\",\"yaxis\":\"y\",\"type\":\"histogram\"},{\"alignmentgroup\":\"True\",\"bingroup\":\"x\",\"hovertemplate\":\"Followers=17M<br>Audience Country=%{x}<br>count=%{y}<extra></extra>\",\"legendgroup\":\"17M\",\"marker\":{\"color\":\"#FFA15A\",\"pattern\":{\"shape\":\"\"}},\"name\":\"17M\",\"offsetgroup\":\"17M\",\"orientation\":\"v\",\"showlegend\":true,\"texttemplate\":\"%{value}\",\"x\":[\"United States\",\"Mexico\",\"Brazil\",\"United States\"],\"xaxis\":\"x\",\"yaxis\":\"y\",\"type\":\"histogram\"},{\"alignmentgroup\":\"True\",\"bingroup\":\"x\",\"hovertemplate\":\"Followers=26.1M<br>Audience Country=%{x}<br>count=%{y}<extra></extra>\",\"legendgroup\":\"26.1M\",\"marker\":{\"color\":\"#19d3f3\",\"pattern\":{\"shape\":\"\"}},\"name\":\"26.1M\",\"offsetgroup\":\"26.1M\",\"orientation\":\"v\",\"showlegend\":true,\"texttemplate\":\"%{value}\",\"x\":[\"Indonesia\"],\"xaxis\":\"x\",\"yaxis\":\"y\",\"type\":\"histogram\"},{\"alignmentgroup\":\"True\",\"bingroup\":\"x\",\"hovertemplate\":\"Followers=80.2M<br>Audience Country=%{x}<br>count=%{y}<extra></extra>\",\"legendgroup\":\"80.2M\",\"marker\":{\"color\":\"#FF6692\",\"pattern\":{\"shape\":\"\"}},\"name\":\"80.2M\",\"offsetgroup\":\"80.2M\",\"orientation\":\"v\",\"showlegend\":true,\"texttemplate\":\"%{value}\",\"x\":[\"India\"],\"xaxis\":\"x\",\"yaxis\":\"y\",\"type\":\"histogram\"},{\"alignmentgroup\":\"True\",\"bingroup\":\"x\",\"hovertemplate\":\"Followers=24.1M<br>Audience Country=%{x}<br>count=%{y}<extra></extra>\",\"legendgroup\":\"24.1M\",\"marker\":{\"color\":\"#B6E880\",\"pattern\":{\"shape\":\"\"}},\"name\":\"24.1M\",\"offsetgroup\":\"24.1M\",\"orientation\":\"v\",\"showlegend\":true,\"texttemplate\":\"%{value}\",\"x\":[\"Brazil\"],\"xaxis\":\"x\",\"yaxis\":\"y\",\"type\":\"histogram\"},{\"alignmentgroup\":\"True\",\"bingroup\":\"x\",\"hovertemplate\":\"Followers=40.7M<br>Audience Country=%{x}<br>count=%{y}<extra></extra>\",\"legendgroup\":\"40.7M\",\"marker\":{\"color\":\"#FF97FF\",\"pattern\":{\"shape\":\"\"}},\"name\":\"40.7M\",\"offsetgroup\":\"40.7M\",\"orientation\":\"v\",\"showlegend\":true,\"texttemplate\":\"%{value}\",\"x\":[\"Brazil\",\"India\"],\"xaxis\":\"x\",\"yaxis\":\"y\",\"type\":\"histogram\"},{\"alignmentgroup\":\"True\",\"bingroup\":\"x\",\"hovertemplate\":\"Followers=14.3M<br>Audience Country=%{x}<br>count=%{y}<extra></extra>\",\"legendgroup\":\"14.3M\",\"marker\":{\"color\":\"#FECB52\",\"pattern\":{\"shape\":\"\"}},\"name\":\"14.3M\",\"offsetgroup\":\"14.3M\",\"orientation\":\"v\",\"showlegend\":true,\"texttemplate\":\"%{value}\",\"x\":[\"South Korea\",\"Argentina\",\"Indonesia\"],\"xaxis\":\"x\",\"yaxis\":\"y\",\"type\":\"histogram\"},{\"alignmentgroup\":\"True\",\"bingroup\":\"x\",\"hovertemplate\":\"Followers=40.4M<br>Audience Country=%{x}<br>count=%{y}<extra></extra>\",\"legendgroup\":\"40.4M\",\"marker\":{\"color\":\"#636efa\",\"pattern\":{\"shape\":\"\"}},\"name\":\"40.4M\",\"offsetgroup\":\"40.4M\",\"orientation\":\"v\",\"showlegend\":true,\"texttemplate\":\"%{value}\",\"x\":[\"United States\"],\"xaxis\":\"x\",\"yaxis\":\"y\",\"type\":\"histogram\"},{\"alignmentgroup\":\"True\",\"bingroup\":\"x\",\"hovertemplate\":\"Followers=227.6M<br>Audience Country=%{x}<br>count=%{y}<extra></extra>\",\"legendgroup\":\"227.6M\",\"marker\":{\"color\":\"#EF553B\",\"pattern\":{\"shape\":\"\"}},\"name\":\"227.6M\",\"offsetgroup\":\"227.6M\",\"orientation\":\"v\",\"showlegend\":true,\"texttemplate\":\"%{value}\",\"x\":[\"United States\"],\"xaxis\":\"x\",\"yaxis\":\"y\",\"type\":\"histogram\"},{\"alignmentgroup\":\"True\",\"bingroup\":\"x\",\"hovertemplate\":\"Followers=24.6M<br>Audience Country=%{x}<br>count=%{y}<extra></extra>\",\"legendgroup\":\"24.6M\",\"marker\":{\"color\":\"#00cc96\",\"pattern\":{\"shape\":\"\"}},\"name\":\"24.6M\",\"offsetgroup\":\"24.6M\",\"orientation\":\"v\",\"showlegend\":true,\"texttemplate\":\"%{value}\",\"x\":[\"Brazil\",\"Brazil\",\"India\",\"Nigeria\"],\"xaxis\":\"x\",\"yaxis\":\"y\",\"type\":\"histogram\"},{\"alignmentgroup\":\"True\",\"bingroup\":\"x\",\"hovertemplate\":\"Followers=25.4M<br>Audience Country=%{x}<br>count=%{y}<extra></extra>\",\"legendgroup\":\"25.4M\",\"marker\":{\"color\":\"#ab63fa\",\"pattern\":{\"shape\":\"\"}},\"name\":\"25.4M\",\"offsetgroup\":\"25.4M\",\"orientation\":\"v\",\"showlegend\":true,\"texttemplate\":\"%{value}\",\"x\":[\"Russia\",\"United States\"],\"xaxis\":\"x\",\"yaxis\":\"y\",\"type\":\"histogram\"},{\"alignmentgroup\":\"True\",\"bingroup\":\"x\",\"hovertemplate\":\"Followers=27.8M<br>Audience Country=%{x}<br>count=%{y}<extra></extra>\",\"legendgroup\":\"27.8M\",\"marker\":{\"color\":\"#FFA15A\",\"pattern\":{\"shape\":\"\"}},\"name\":\"27.8M\",\"offsetgroup\":\"27.8M\",\"orientation\":\"v\",\"showlegend\":true,\"texttemplate\":\"%{value}\",\"x\":[\"India\",\"India\"],\"xaxis\":\"x\",\"yaxis\":\"y\",\"type\":\"histogram\"},{\"alignmentgroup\":\"True\",\"bingroup\":\"x\",\"hovertemplate\":\"Followers=43.3M<br>Audience Country=%{x}<br>count=%{y}<extra></extra>\",\"legendgroup\":\"43.3M\",\"marker\":{\"color\":\"#19d3f3\",\"pattern\":{\"shape\":\"\"}},\"name\":\"43.3M\",\"offsetgroup\":\"43.3M\",\"orientation\":\"v\",\"showlegend\":true,\"texttemplate\":\"%{value}\",\"x\":[\"India\"],\"xaxis\":\"x\",\"yaxis\":\"y\",\"type\":\"histogram\"},{\"alignmentgroup\":\"True\",\"bingroup\":\"x\",\"hovertemplate\":\"Followers=167.2M<br>Audience Country=%{x}<br>count=%{y}<extra></extra>\",\"legendgroup\":\"167.2M\",\"marker\":{\"color\":\"#FF6692\",\"pattern\":{\"shape\":\"\"}},\"name\":\"167.2M\",\"offsetgroup\":\"167.2M\",\"orientation\":\"v\",\"showlegend\":true,\"texttemplate\":\"%{value}\",\"x\":[\"Brazil\"],\"xaxis\":\"x\",\"yaxis\":\"y\",\"type\":\"histogram\"},{\"alignmentgroup\":\"True\",\"bingroup\":\"x\",\"hovertemplate\":\"Followers=20.4M<br>Audience Country=%{x}<br>count=%{y}<extra></extra>\",\"legendgroup\":\"20.4M\",\"marker\":{\"color\":\"#B6E880\",\"pattern\":{\"shape\":\"\"}},\"name\":\"20.4M\",\"offsetgroup\":\"20.4M\",\"orientation\":\"v\",\"showlegend\":true,\"texttemplate\":\"%{value}\",\"x\":[\"United States\",\"Brazil\",\"India\"],\"xaxis\":\"x\",\"yaxis\":\"y\",\"type\":\"histogram\"},{\"alignmentgroup\":\"True\",\"bingroup\":\"x\",\"hovertemplate\":\"Followers=81.7M<br>Audience Country=%{x}<br>count=%{y}<extra></extra>\",\"legendgroup\":\"81.7M\",\"marker\":{\"color\":\"#FF97FF\",\"pattern\":{\"shape\":\"\"}},\"name\":\"81.7M\",\"offsetgroup\":\"81.7M\",\"orientation\":\"v\",\"showlegend\":true,\"texttemplate\":\"%{value}\",\"x\":[\"Brazil\"],\"xaxis\":\"x\",\"yaxis\":\"y\",\"type\":\"histogram\"},{\"alignmentgroup\":\"True\",\"bingroup\":\"x\",\"hovertemplate\":\"Followers=42M<br>Audience Country=%{x}<br>count=%{y}<extra></extra>\",\"legendgroup\":\"42M\",\"marker\":{\"color\":\"#FECB52\",\"pattern\":{\"shape\":\"\"}},\"name\":\"42M\",\"offsetgroup\":\"42M\",\"orientation\":\"v\",\"showlegend\":true,\"texttemplate\":\"%{value}\",\"x\":[\"India\"],\"xaxis\":\"x\",\"yaxis\":\"y\",\"type\":\"histogram\"},{\"alignmentgroup\":\"True\",\"bingroup\":\"x\",\"hovertemplate\":\"Followers=62.6M<br>Audience Country=%{x}<br>count=%{y}<extra></extra>\",\"legendgroup\":\"62.6M\",\"marker\":{\"color\":\"#636efa\",\"pattern\":{\"shape\":\"\"}},\"name\":\"62.6M\",\"offsetgroup\":\"62.6M\",\"orientation\":\"v\",\"showlegend\":true,\"texttemplate\":\"%{value}\",\"x\":[\"India\"],\"xaxis\":\"x\",\"yaxis\":\"y\",\"type\":\"histogram\"},{\"alignmentgroup\":\"True\",\"bingroup\":\"x\",\"hovertemplate\":\"Followers=35.4M<br>Audience Country=%{x}<br>count=%{y}<extra></extra>\",\"legendgroup\":\"35.4M\",\"marker\":{\"color\":\"#EF553B\",\"pattern\":{\"shape\":\"\"}},\"name\":\"35.4M\",\"offsetgroup\":\"35.4M\",\"orientation\":\"v\",\"showlegend\":true,\"texttemplate\":\"%{value}\",\"x\":[\"United States\",\"India\",\"United States\"],\"xaxis\":\"x\",\"yaxis\":\"y\",\"type\":\"histogram\"},{\"alignmentgroup\":\"True\",\"bingroup\":\"x\",\"hovertemplate\":\"Followers=12.1M<br>Audience Country=%{x}<br>count=%{y}<extra></extra>\",\"legendgroup\":\"12.1M\",\"marker\":{\"color\":\"#00cc96\",\"pattern\":{\"shape\":\"\"}},\"name\":\"12.1M\",\"offsetgroup\":\"12.1M\",\"orientation\":\"v\",\"showlegend\":true,\"texttemplate\":\"%{value}\",\"x\":[\"Indonesia\",\"United States\",\"United States\"],\"xaxis\":\"x\",\"yaxis\":\"y\",\"type\":\"histogram\"},{\"alignmentgroup\":\"True\",\"bingroup\":\"x\",\"hovertemplate\":\"Followers=53.1M<br>Audience Country=%{x}<br>count=%{y}<extra></extra>\",\"legendgroup\":\"53.1M\",\"marker\":{\"color\":\"#ab63fa\",\"pattern\":{\"shape\":\"\"}},\"name\":\"53.1M\",\"offsetgroup\":\"53.1M\",\"orientation\":\"v\",\"showlegend\":true,\"texttemplate\":\"%{value}\",\"x\":[\"United States\",\"India\"],\"xaxis\":\"x\",\"yaxis\":\"y\",\"type\":\"histogram\"},{\"alignmentgroup\":\"True\",\"bingroup\":\"x\",\"hovertemplate\":\"Followers=49.7M<br>Audience Country=%{x}<br>count=%{y}<extra></extra>\",\"legendgroup\":\"49.7M\",\"marker\":{\"color\":\"#FFA15A\",\"pattern\":{\"shape\":\"\"}},\"name\":\"49.7M\",\"offsetgroup\":\"49.7M\",\"orientation\":\"v\",\"showlegend\":true,\"texttemplate\":\"%{value}\",\"x\":[\"India\"],\"xaxis\":\"x\",\"yaxis\":\"y\",\"type\":\"histogram\"},{\"alignmentgroup\":\"True\",\"bingroup\":\"x\",\"hovertemplate\":\"Followers=23.4M<br>Audience Country=%{x}<br>count=%{y}<extra></extra>\",\"legendgroup\":\"23.4M\",\"marker\":{\"color\":\"#19d3f3\",\"pattern\":{\"shape\":\"\"}},\"name\":\"23.4M\",\"offsetgroup\":\"23.4M\",\"orientation\":\"v\",\"showlegend\":true,\"texttemplate\":\"%{value}\",\"x\":[\"South Korea\",\"United States\"],\"xaxis\":\"x\",\"yaxis\":\"y\",\"type\":\"histogram\"},{\"alignmentgroup\":\"True\",\"bingroup\":\"x\",\"hovertemplate\":\"Followers=19M<br>Audience Country=%{x}<br>count=%{y}<extra></extra>\",\"legendgroup\":\"19M\",\"marker\":{\"color\":\"#FF6692\",\"pattern\":{\"shape\":\"\"}},\"name\":\"19M\",\"offsetgroup\":\"19M\",\"orientation\":\"v\",\"showlegend\":true,\"texttemplate\":\"%{value}\",\"x\":[\"United States\",\"Brazil\",\"United States\"],\"xaxis\":\"x\",\"yaxis\":\"y\",\"type\":\"histogram\"},{\"alignmentgroup\":\"True\",\"bingroup\":\"x\",\"hovertemplate\":\"Followers=20.9M<br>Audience Country=%{x}<br>count=%{y}<extra></extra>\",\"legendgroup\":\"20.9M\",\"marker\":{\"color\":\"#B6E880\",\"pattern\":{\"shape\":\"\"}},\"name\":\"20.9M\",\"offsetgroup\":\"20.9M\",\"orientation\":\"v\",\"showlegend\":true,\"texttemplate\":\"%{value}\",\"x\":[\"Spain\",\"Indonesia\",\"Brazil\"],\"xaxis\":\"x\",\"yaxis\":\"y\",\"type\":\"histogram\"},{\"alignmentgroup\":\"True\",\"bingroup\":\"x\",\"hovertemplate\":\"Followers=75.6M<br>Audience Country=%{x}<br>count=%{y}<extra></extra>\",\"legendgroup\":\"75.6M\",\"marker\":{\"color\":\"#FF97FF\",\"pattern\":{\"shape\":\"\"}},\"name\":\"75.6M\",\"offsetgroup\":\"75.6M\",\"orientation\":\"v\",\"showlegend\":true,\"texttemplate\":\"%{value}\",\"x\":[\"India\"],\"xaxis\":\"x\",\"yaxis\":\"y\",\"type\":\"histogram\"},{\"alignmentgroup\":\"True\",\"bingroup\":\"x\",\"hovertemplate\":\"Followers=43.5M<br>Audience Country=%{x}<br>count=%{y}<extra></extra>\",\"legendgroup\":\"43.5M\",\"marker\":{\"color\":\"#FECB52\",\"pattern\":{\"shape\":\"\"}},\"name\":\"43.5M\",\"offsetgroup\":\"43.5M\",\"orientation\":\"v\",\"showlegend\":true,\"texttemplate\":\"%{value}\",\"x\":[\"India\"],\"xaxis\":\"x\",\"yaxis\":\"y\",\"type\":\"histogram\"},{\"alignmentgroup\":\"True\",\"bingroup\":\"x\",\"hovertemplate\":\"Followers=12.6M<br>Audience Country=%{x}<br>count=%{y}<extra></extra>\",\"legendgroup\":\"12.6M\",\"marker\":{\"color\":\"#636efa\",\"pattern\":{\"shape\":\"\"}},\"name\":\"12.6M\",\"offsetgroup\":\"12.6M\",\"orientation\":\"v\",\"showlegend\":true,\"texttemplate\":\"%{value}\",\"x\":[\"United States\",\"India\"],\"xaxis\":\"x\",\"yaxis\":\"y\",\"type\":\"histogram\"},{\"alignmentgroup\":\"True\",\"bingroup\":\"x\",\"hovertemplate\":\"Followers=73.4M<br>Audience Country=%{x}<br>count=%{y}<extra></extra>\",\"legendgroup\":\"73.4M\",\"marker\":{\"color\":\"#EF553B\",\"pattern\":{\"shape\":\"\"}},\"name\":\"73.4M\",\"offsetgroup\":\"73.4M\",\"orientation\":\"v\",\"showlegend\":true,\"texttemplate\":\"%{value}\",\"x\":[\"India\"],\"xaxis\":\"x\",\"yaxis\":\"y\",\"type\":\"histogram\"},{\"alignmentgroup\":\"True\",\"bingroup\":\"x\",\"hovertemplate\":\"Followers=21.3M<br>Audience Country=%{x}<br>count=%{y}<extra></extra>\",\"legendgroup\":\"21.3M\",\"marker\":{\"color\":\"#00cc96\",\"pattern\":{\"shape\":\"\"}},\"name\":\"21.3M\",\"offsetgroup\":\"21.3M\",\"orientation\":\"v\",\"showlegend\":true,\"texttemplate\":\"%{value}\",\"x\":[\"Brazil\",\"Brazil\",\"United States\"],\"xaxis\":\"x\",\"yaxis\":\"y\",\"type\":\"histogram\"},{\"alignmentgroup\":\"True\",\"bingroup\":\"x\",\"hovertemplate\":\"Followers=29.5M<br>Audience Country=%{x}<br>count=%{y}<extra></extra>\",\"legendgroup\":\"29.5M\",\"marker\":{\"color\":\"#ab63fa\",\"pattern\":{\"shape\":\"\"}},\"name\":\"29.5M\",\"offsetgroup\":\"29.5M\",\"orientation\":\"v\",\"showlegend\":true,\"texttemplate\":\"%{value}\",\"x\":[\"United States\",\"Brazil\"],\"xaxis\":\"x\",\"yaxis\":\"y\",\"type\":\"histogram\"},{\"alignmentgroup\":\"True\",\"bingroup\":\"x\",\"hovertemplate\":\"Followers=16.8M<br>Audience Country=%{x}<br>count=%{y}<extra></extra>\",\"legendgroup\":\"16.8M\",\"marker\":{\"color\":\"#FFA15A\",\"pattern\":{\"shape\":\"\"}},\"name\":\"16.8M\",\"offsetgroup\":\"16.8M\",\"orientation\":\"v\",\"showlegend\":true,\"texttemplate\":\"%{value}\",\"x\":[\"United States\",\"United States\",\"United States\",\"Brazil\"],\"xaxis\":\"x\",\"yaxis\":\"y\",\"type\":\"histogram\"},{\"alignmentgroup\":\"True\",\"bingroup\":\"x\",\"hovertemplate\":\"Followers=41.6M<br>Audience Country=%{x}<br>count=%{y}<extra></extra>\",\"legendgroup\":\"41.6M\",\"marker\":{\"color\":\"#19d3f3\",\"pattern\":{\"shape\":\"\"}},\"name\":\"41.6M\",\"offsetgroup\":\"41.6M\",\"orientation\":\"v\",\"showlegend\":true,\"texttemplate\":\"%{value}\",\"x\":[\"United States\"],\"xaxis\":\"x\",\"yaxis\":\"y\",\"type\":\"histogram\"},{\"alignmentgroup\":\"True\",\"bingroup\":\"x\",\"hovertemplate\":\"Followers=62.7M<br>Audience Country=%{x}<br>count=%{y}<extra></extra>\",\"legendgroup\":\"62.7M\",\"marker\":{\"color\":\"#FF6692\",\"pattern\":{\"shape\":\"\"}},\"name\":\"62.7M\",\"offsetgroup\":\"62.7M\",\"orientation\":\"v\",\"showlegend\":true,\"texttemplate\":\"%{value}\",\"x\":[\"Italy\"],\"xaxis\":\"x\",\"yaxis\":\"y\",\"type\":\"histogram\"},{\"alignmentgroup\":\"True\",\"bingroup\":\"x\",\"hovertemplate\":\"Followers=53M<br>Audience Country=%{x}<br>count=%{y}<extra></extra>\",\"legendgroup\":\"53M\",\"marker\":{\"color\":\"#B6E880\",\"pattern\":{\"shape\":\"\"}},\"name\":\"53M\",\"offsetgroup\":\"53M\",\"orientation\":\"v\",\"showlegend\":true,\"texttemplate\":\"%{value}\",\"x\":[\"India\",\"India\"],\"xaxis\":\"x\",\"yaxis\":\"y\",\"type\":\"histogram\"},{\"alignmentgroup\":\"True\",\"bingroup\":\"x\",\"hovertemplate\":\"Followers=232.2M<br>Audience Country=%{x}<br>count=%{y}<extra></extra>\",\"legendgroup\":\"232.2M\",\"marker\":{\"color\":\"#FF97FF\",\"pattern\":{\"shape\":\"\"}},\"name\":\"232.2M\",\"offsetgroup\":\"232.2M\",\"orientation\":\"v\",\"showlegend\":true,\"texttemplate\":\"%{value}\",\"x\":[\"United States\"],\"xaxis\":\"x\",\"yaxis\":\"y\",\"type\":\"histogram\"},{\"alignmentgroup\":\"True\",\"bingroup\":\"x\",\"hovertemplate\":\"Followers=31.8M<br>Audience Country=%{x}<br>count=%{y}<extra></extra>\",\"legendgroup\":\"31.8M\",\"marker\":{\"color\":\"#FECB52\",\"pattern\":{\"shape\":\"\"}},\"name\":\"31.8M\",\"offsetgroup\":\"31.8M\",\"orientation\":\"v\",\"showlegend\":true,\"texttemplate\":\"%{value}\",\"x\":[\"United States\",\"United States\",\"Brazil\"],\"xaxis\":\"x\",\"yaxis\":\"y\",\"type\":\"histogram\"},{\"alignmentgroup\":\"True\",\"bingroup\":\"x\",\"hovertemplate\":\"Followers=62.2M<br>Audience Country=%{x}<br>count=%{y}<extra></extra>\",\"legendgroup\":\"62.2M\",\"marker\":{\"color\":\"#636efa\",\"pattern\":{\"shape\":\"\"}},\"name\":\"62.2M\",\"offsetgroup\":\"62.2M\",\"orientation\":\"v\",\"showlegend\":true,\"texttemplate\":\"%{value}\",\"x\":[\"India\"],\"xaxis\":\"x\",\"yaxis\":\"y\",\"type\":\"histogram\"},{\"alignmentgroup\":\"True\",\"bingroup\":\"x\",\"hovertemplate\":\"Followers=47.8M<br>Audience Country=%{x}<br>count=%{y}<extra></extra>\",\"legendgroup\":\"47.8M\",\"marker\":{\"color\":\"#EF553B\",\"pattern\":{\"shape\":\"\"}},\"name\":\"47.8M\",\"offsetgroup\":\"47.8M\",\"orientation\":\"v\",\"showlegend\":true,\"texttemplate\":\"%{value}\",\"x\":[\"Spain\"],\"xaxis\":\"x\",\"yaxis\":\"y\",\"type\":\"histogram\"},{\"alignmentgroup\":\"True\",\"bingroup\":\"x\",\"hovertemplate\":\"Followers=41.2M<br>Audience Country=%{x}<br>count=%{y}<extra></extra>\",\"legendgroup\":\"41.2M\",\"marker\":{\"color\":\"#00cc96\",\"pattern\":{\"shape\":\"\"}},\"name\":\"41.2M\",\"offsetgroup\":\"41.2M\",\"orientation\":\"v\",\"showlegend\":true,\"texttemplate\":\"%{value}\",\"x\":[\"India\"],\"xaxis\":\"x\",\"yaxis\":\"y\",\"type\":\"histogram\"},{\"alignmentgroup\":\"True\",\"bingroup\":\"x\",\"hovertemplate\":\"Followers=27.4M<br>Audience Country=%{x}<br>count=%{y}<extra></extra>\",\"legendgroup\":\"27.4M\",\"marker\":{\"color\":\"#ab63fa\",\"pattern\":{\"shape\":\"\"}},\"name\":\"27.4M\",\"offsetgroup\":\"27.4M\",\"orientation\":\"v\",\"showlegend\":true,\"texttemplate\":\"%{value}\",\"x\":[\"Brazil\",\"Brazil\",\"Brazil\"],\"xaxis\":\"x\",\"yaxis\":\"y\",\"type\":\"histogram\"},{\"alignmentgroup\":\"True\",\"bingroup\":\"x\",\"hovertemplate\":\"Followers=57.2M<br>Audience Country=%{x}<br>count=%{y}<extra></extra>\",\"legendgroup\":\"57.2M\",\"marker\":{\"color\":\"#FFA15A\",\"pattern\":{\"shape\":\"\"}},\"name\":\"57.2M\",\"offsetgroup\":\"57.2M\",\"orientation\":\"v\",\"showlegend\":true,\"texttemplate\":\"%{value}\",\"x\":[\"Spain\"],\"xaxis\":\"x\",\"yaxis\":\"y\",\"type\":\"histogram\"},{\"alignmentgroup\":\"True\",\"bingroup\":\"x\",\"hovertemplate\":\"Followers=23.6M<br>Audience Country=%{x}<br>count=%{y}<extra></extra>\",\"legendgroup\":\"23.6M\",\"marker\":{\"color\":\"#19d3f3\",\"pattern\":{\"shape\":\"\"}},\"name\":\"23.6M\",\"offsetgroup\":\"23.6M\",\"orientation\":\"v\",\"showlegend\":true,\"texttemplate\":\"%{value}\",\"x\":[\"India\"],\"xaxis\":\"x\",\"yaxis\":\"y\",\"type\":\"histogram\"},{\"alignmentgroup\":\"True\",\"bingroup\":\"x\",\"hovertemplate\":\"Followers=30.7M<br>Audience Country=%{x}<br>count=%{y}<extra></extra>\",\"legendgroup\":\"30.7M\",\"marker\":{\"color\":\"#FF6692\",\"pattern\":{\"shape\":\"\"}},\"name\":\"30.7M\",\"offsetgroup\":\"30.7M\",\"orientation\":\"v\",\"showlegend\":true,\"texttemplate\":\"%{value}\",\"x\":[\"Iran\",\"India\"],\"xaxis\":\"x\",\"yaxis\":\"y\",\"type\":\"histogram\"},{\"alignmentgroup\":\"True\",\"bingroup\":\"x\",\"hovertemplate\":\"Followers=16M<br>Audience Country=%{x}<br>count=%{y}<extra></extra>\",\"legendgroup\":\"16M\",\"marker\":{\"color\":\"#B6E880\",\"pattern\":{\"shape\":\"\"}},\"name\":\"16M\",\"offsetgroup\":\"16M\",\"orientation\":\"v\",\"showlegend\":true,\"texttemplate\":\"%{value}\",\"x\":[\"India\",\"Brazil\",\"Brazil\",\"India\",\"India\",\"Brazil\"],\"xaxis\":\"x\",\"yaxis\":\"y\",\"type\":\"histogram\"},{\"alignmentgroup\":\"True\",\"bingroup\":\"x\",\"hovertemplate\":\"Followers=29.1M<br>Audience Country=%{x}<br>count=%{y}<extra></extra>\",\"legendgroup\":\"29.1M\",\"marker\":{\"color\":\"#FF97FF\",\"pattern\":{\"shape\":\"\"}},\"name\":\"29.1M\",\"offsetgroup\":\"29.1M\",\"orientation\":\"v\",\"showlegend\":true,\"texttemplate\":\"%{value}\",\"x\":[\"United States\"],\"xaxis\":\"x\",\"yaxis\":\"y\",\"type\":\"histogram\"},{\"alignmentgroup\":\"True\",\"bingroup\":\"x\",\"hovertemplate\":\"Followers=40.3M<br>Audience Country=%{x}<br>count=%{y}<extra></extra>\",\"legendgroup\":\"40.3M\",\"marker\":{\"color\":\"#FECB52\",\"pattern\":{\"shape\":\"\"}},\"name\":\"40.3M\",\"offsetgroup\":\"40.3M\",\"orientation\":\"v\",\"showlegend\":true,\"texttemplate\":\"%{value}\",\"x\":[\"United States\"],\"xaxis\":\"x\",\"yaxis\":\"y\",\"type\":\"histogram\"},{\"alignmentgroup\":\"True\",\"bingroup\":\"x\",\"hovertemplate\":\"Followers=35.3M<br>Audience Country=%{x}<br>count=%{y}<extra></extra>\",\"legendgroup\":\"35.3M\",\"marker\":{\"color\":\"#636efa\",\"pattern\":{\"shape\":\"\"}},\"name\":\"35.3M\",\"offsetgroup\":\"35.3M\",\"orientation\":\"v\",\"showlegend\":true,\"texttemplate\":\"%{value}\",\"x\":[\"India\"],\"xaxis\":\"x\",\"yaxis\":\"y\",\"type\":\"histogram\"},{\"alignmentgroup\":\"True\",\"bingroup\":\"x\",\"hovertemplate\":\"Followers=24.4M<br>Audience Country=%{x}<br>count=%{y}<extra></extra>\",\"legendgroup\":\"24.4M\",\"marker\":{\"color\":\"#EF553B\",\"pattern\":{\"shape\":\"\"}},\"name\":\"24.4M\",\"offsetgroup\":\"24.4M\",\"orientation\":\"v\",\"showlegend\":true,\"texttemplate\":\"%{value}\",\"x\":[\"United States\",\"India\",\"United States\",\"India\"],\"xaxis\":\"x\",\"yaxis\":\"y\",\"type\":\"histogram\"},{\"alignmentgroup\":\"True\",\"bingroup\":\"x\",\"hovertemplate\":\"Followers=13.6M<br>Audience Country=%{x}<br>count=%{y}<extra></extra>\",\"legendgroup\":\"13.6M\",\"marker\":{\"color\":\"#00cc96\",\"pattern\":{\"shape\":\"\"}},\"name\":\"13.6M\",\"offsetgroup\":\"13.6M\",\"orientation\":\"v\",\"showlegend\":true,\"texttemplate\":\"%{value}\",\"x\":[\"United States\",\"Mexico\",\"Argentina\",\"Russia\",\"Indonesia\",\"Brazil\"],\"xaxis\":\"x\",\"yaxis\":\"y\",\"type\":\"histogram\"},{\"alignmentgroup\":\"True\",\"bingroup\":\"x\",\"hovertemplate\":\"Followers=17.1M<br>Audience Country=%{x}<br>count=%{y}<extra></extra>\",\"legendgroup\":\"17.1M\",\"marker\":{\"color\":\"#ab63fa\",\"pattern\":{\"shape\":\"\"}},\"name\":\"17.1M\",\"offsetgroup\":\"17.1M\",\"orientation\":\"v\",\"showlegend\":true,\"texttemplate\":\"%{value}\",\"x\":[\"Brazil\"],\"xaxis\":\"x\",\"yaxis\":\"y\",\"type\":\"histogram\"},{\"alignmentgroup\":\"True\",\"bingroup\":\"x\",\"hovertemplate\":\"Followers=20.7M<br>Audience Country=%{x}<br>count=%{y}<extra></extra>\",\"legendgroup\":\"20.7M\",\"marker\":{\"color\":\"#FFA15A\",\"pattern\":{\"shape\":\"\"}},\"name\":\"20.7M\",\"offsetgroup\":\"20.7M\",\"orientation\":\"v\",\"showlegend\":true,\"texttemplate\":\"%{value}\",\"x\":[\"India\",\"Argentina\",\"Brazil\"],\"xaxis\":\"x\",\"yaxis\":\"y\",\"type\":\"histogram\"},{\"alignmentgroup\":\"True\",\"bingroup\":\"x\",\"hovertemplate\":\"Followers=44.1M<br>Audience Country=%{x}<br>count=%{y}<extra></extra>\",\"legendgroup\":\"44.1M\",\"marker\":{\"color\":\"#19d3f3\",\"pattern\":{\"shape\":\"\"}},\"name\":\"44.1M\",\"offsetgroup\":\"44.1M\",\"orientation\":\"v\",\"showlegend\":true,\"texttemplate\":\"%{value}\",\"x\":[\"Brazil\"],\"xaxis\":\"x\",\"yaxis\":\"y\",\"type\":\"histogram\"},{\"alignmentgroup\":\"True\",\"bingroup\":\"x\",\"hovertemplate\":\"Followers=95.7M<br>Audience Country=%{x}<br>count=%{y}<extra></extra>\",\"legendgroup\":\"95.7M\",\"marker\":{\"color\":\"#FF6692\",\"pattern\":{\"shape\":\"\"}},\"name\":\"95.7M\",\"offsetgroup\":\"95.7M\",\"orientation\":\"v\",\"showlegend\":true,\"texttemplate\":\"%{value}\",\"x\":[\"Brazil\"],\"xaxis\":\"x\",\"yaxis\":\"y\",\"type\":\"histogram\"},{\"alignmentgroup\":\"True\",\"bingroup\":\"x\",\"hovertemplate\":\"Followers=50.8M<br>Audience Country=%{x}<br>count=%{y}<extra></extra>\",\"legendgroup\":\"50.8M\",\"marker\":{\"color\":\"#B6E880\",\"pattern\":{\"shape\":\"\"}},\"name\":\"50.8M\",\"offsetgroup\":\"50.8M\",\"orientation\":\"v\",\"showlegend\":true,\"texttemplate\":\"%{value}\",\"x\":[\"Spain\"],\"xaxis\":\"x\",\"yaxis\":\"y\",\"type\":\"histogram\"},{\"alignmentgroup\":\"True\",\"bingroup\":\"x\",\"hovertemplate\":\"Followers=36.2M<br>Audience Country=%{x}<br>count=%{y}<extra></extra>\",\"legendgroup\":\"36.2M\",\"marker\":{\"color\":\"#FF97FF\",\"pattern\":{\"shape\":\"\"}},\"name\":\"36.2M\",\"offsetgroup\":\"36.2M\",\"orientation\":\"v\",\"showlegend\":true,\"texttemplate\":\"%{value}\",\"x\":[\"Iran\"],\"xaxis\":\"x\",\"yaxis\":\"y\",\"type\":\"histogram\"},{\"alignmentgroup\":\"True\",\"bingroup\":\"x\",\"hovertemplate\":\"Followers=14.1M<br>Audience Country=%{x}<br>count=%{y}<extra></extra>\",\"legendgroup\":\"14.1M\",\"marker\":{\"color\":\"#FECB52\",\"pattern\":{\"shape\":\"\"}},\"name\":\"14.1M\",\"offsetgroup\":\"14.1M\",\"orientation\":\"v\",\"showlegend\":true,\"texttemplate\":\"%{value}\",\"x\":[\"Indonesia\",\"India\",\"Indonesia\",\"United States\",\"Mexico\",\"Brazil\",\"Russia\",\"Chile\"],\"xaxis\":\"x\",\"yaxis\":\"y\",\"type\":\"histogram\"},{\"alignmentgroup\":\"True\",\"bingroup\":\"x\",\"hovertemplate\":\"Followers=10.8M<br>Audience Country=%{x}<br>count=%{y}<extra></extra>\",\"legendgroup\":\"10.8M\",\"marker\":{\"color\":\"#636efa\",\"pattern\":{\"shape\":\"\"}},\"name\":\"10.8M\",\"offsetgroup\":\"10.8M\",\"orientation\":\"v\",\"showlegend\":true,\"texttemplate\":\"%{value}\",\"x\":[\"India\",\"India\"],\"xaxis\":\"x\",\"yaxis\":\"y\",\"type\":\"histogram\"},{\"alignmentgroup\":\"True\",\"bingroup\":\"x\",\"hovertemplate\":\"Followers=20.6M<br>Audience Country=%{x}<br>count=%{y}<extra></extra>\",\"legendgroup\":\"20.6M\",\"marker\":{\"color\":\"#EF553B\",\"pattern\":{\"shape\":\"\"}},\"name\":\"20.6M\",\"offsetgroup\":\"20.6M\",\"orientation\":\"v\",\"showlegend\":true,\"texttemplate\":\"%{value}\",\"x\":[\"Indonesia\"],\"xaxis\":\"x\",\"yaxis\":\"y\",\"type\":\"histogram\"},{\"alignmentgroup\":\"True\",\"bingroup\":\"x\",\"hovertemplate\":\"Followers=49.8M<br>Audience Country=%{x}<br>count=%{y}<extra></extra>\",\"legendgroup\":\"49.8M\",\"marker\":{\"color\":\"#00cc96\",\"pattern\":{\"shape\":\"\"}},\"name\":\"49.8M\",\"offsetgroup\":\"49.8M\",\"orientation\":\"v\",\"showlegend\":true,\"texttemplate\":\"%{value}\",\"x\":[\"Colombia\"],\"xaxis\":\"x\",\"yaxis\":\"y\",\"type\":\"histogram\"},{\"alignmentgroup\":\"True\",\"bingroup\":\"x\",\"hovertemplate\":\"Followers=9.8M<br>Audience Country=%{x}<br>count=%{y}<extra></extra>\",\"legendgroup\":\"9.8M\",\"marker\":{\"color\":\"#ab63fa\",\"pattern\":{\"shape\":\"\"}},\"name\":\"9.8M\",\"offsetgroup\":\"9.8M\",\"orientation\":\"v\",\"showlegend\":true,\"texttemplate\":\"%{value}\",\"x\":[\"Indonesia\",\"Indonesia\",\"Argentina\",\"Brazil\",\"India\",\"Russia\",\"Italy\",\"Brazil\",\"Iran\"],\"xaxis\":\"x\",\"yaxis\":\"y\",\"type\":\"histogram\"},{\"alignmentgroup\":\"True\",\"bingroup\":\"x\",\"hovertemplate\":\"Followers=21.2M<br>Audience Country=%{x}<br>count=%{y}<extra></extra>\",\"legendgroup\":\"21.2M\",\"marker\":{\"color\":\"#FFA15A\",\"pattern\":{\"shape\":\"\"}},\"name\":\"21.2M\",\"offsetgroup\":\"21.2M\",\"orientation\":\"v\",\"showlegend\":true,\"texttemplate\":\"%{value}\",\"x\":[\"Colombia\",\"Indonesia\",\"United States\"],\"xaxis\":\"x\",\"yaxis\":\"y\",\"type\":\"histogram\"},{\"alignmentgroup\":\"True\",\"bingroup\":\"x\",\"hovertemplate\":\"Followers=15.9M<br>Audience Country=%{x}<br>count=%{y}<extra></extra>\",\"legendgroup\":\"15.9M\",\"marker\":{\"color\":\"#19d3f3\",\"pattern\":{\"shape\":\"\"}},\"name\":\"15.9M\",\"offsetgroup\":\"15.9M\",\"orientation\":\"v\",\"showlegend\":true,\"texttemplate\":\"%{value}\",\"x\":[\"United States\",\"India\",\"Spain\",\"Brazil\"],\"xaxis\":\"x\",\"yaxis\":\"y\",\"type\":\"histogram\"},{\"alignmentgroup\":\"True\",\"bingroup\":\"x\",\"hovertemplate\":\"Followers=25.8M<br>Audience Country=%{x}<br>count=%{y}<extra></extra>\",\"legendgroup\":\"25.8M\",\"marker\":{\"color\":\"#FF6692\",\"pattern\":{\"shape\":\"\"}},\"name\":\"25.8M\",\"offsetgroup\":\"25.8M\",\"orientation\":\"v\",\"showlegend\":true,\"texttemplate\":\"%{value}\",\"x\":[\"Brazil\"],\"xaxis\":\"x\",\"yaxis\":\"y\",\"type\":\"histogram\"},{\"alignmentgroup\":\"True\",\"bingroup\":\"x\",\"hovertemplate\":\"Followers=18.9M<br>Audience Country=%{x}<br>count=%{y}<extra></extra>\",\"legendgroup\":\"18.9M\",\"marker\":{\"color\":\"#B6E880\",\"pattern\":{\"shape\":\"\"}},\"name\":\"18.9M\",\"offsetgroup\":\"18.9M\",\"orientation\":\"v\",\"showlegend\":true,\"texttemplate\":\"%{value}\",\"x\":[\"Mexico\",\"United States\"],\"xaxis\":\"x\",\"yaxis\":\"y\",\"type\":\"histogram\"},{\"alignmentgroup\":\"True\",\"bingroup\":\"x\",\"hovertemplate\":\"Followers=24.5M<br>Audience Country=%{x}<br>count=%{y}<extra></extra>\",\"legendgroup\":\"24.5M\",\"marker\":{\"color\":\"#FF97FF\",\"pattern\":{\"shape\":\"\"}},\"name\":\"24.5M\",\"offsetgroup\":\"24.5M\",\"orientation\":\"v\",\"showlegend\":true,\"texttemplate\":\"%{value}\",\"x\":[\"Turkey\",\"United States\"],\"xaxis\":\"x\",\"yaxis\":\"y\",\"type\":\"histogram\"},{\"alignmentgroup\":\"True\",\"bingroup\":\"x\",\"hovertemplate\":\"Followers=37M<br>Audience Country=%{x}<br>count=%{y}<extra></extra>\",\"legendgroup\":\"37M\",\"marker\":{\"color\":\"#FECB52\",\"pattern\":{\"shape\":\"\"}},\"name\":\"37M\",\"offsetgroup\":\"37M\",\"orientation\":\"v\",\"showlegend\":true,\"texttemplate\":\"%{value}\",\"x\":[\"Turkey\",\"India\"],\"xaxis\":\"x\",\"yaxis\":\"y\",\"type\":\"histogram\"},{\"alignmentgroup\":\"True\",\"bingroup\":\"x\",\"hovertemplate\":\"Followers=8.5M<br>Audience Country=%{x}<br>count=%{y}<extra></extra>\",\"legendgroup\":\"8.5M\",\"marker\":{\"color\":\"#636efa\",\"pattern\":{\"shape\":\"\"}},\"name\":\"8.5M\",\"offsetgroup\":\"8.5M\",\"orientation\":\"v\",\"showlegend\":true,\"texttemplate\":\"%{value}\",\"x\":[\"Indonesia\",\"United States\",\"United States\",\"United States\",\"India\",\"Turkey\",\"India\"],\"xaxis\":\"x\",\"yaxis\":\"y\",\"type\":\"histogram\"},{\"alignmentgroup\":\"True\",\"bingroup\":\"x\",\"hovertemplate\":\"Followers=44.5M<br>Audience Country=%{x}<br>count=%{y}<extra></extra>\",\"legendgroup\":\"44.5M\",\"marker\":{\"color\":\"#EF553B\",\"pattern\":{\"shape\":\"\"}},\"name\":\"44.5M\",\"offsetgroup\":\"44.5M\",\"orientation\":\"v\",\"showlegend\":true,\"texttemplate\":\"%{value}\",\"x\":[\"United States\"],\"xaxis\":\"x\",\"yaxis\":\"y\",\"type\":\"histogram\"},{\"alignmentgroup\":\"True\",\"bingroup\":\"x\",\"hovertemplate\":\"Followers=44.7M<br>Audience Country=%{x}<br>count=%{y}<extra></extra>\",\"legendgroup\":\"44.7M\",\"marker\":{\"color\":\"#00cc96\",\"pattern\":{\"shape\":\"\"}},\"name\":\"44.7M\",\"offsetgroup\":\"44.7M\",\"orientation\":\"v\",\"showlegend\":true,\"texttemplate\":\"%{value}\",\"x\":[\"United States\"],\"xaxis\":\"x\",\"yaxis\":\"y\",\"type\":\"histogram\"},{\"alignmentgroup\":\"True\",\"bingroup\":\"x\",\"hovertemplate\":\"Followers=20.5M<br>Audience Country=%{x}<br>count=%{y}<extra></extra>\",\"legendgroup\":\"20.5M\",\"marker\":{\"color\":\"#ab63fa\",\"pattern\":{\"shape\":\"\"}},\"name\":\"20.5M\",\"offsetgroup\":\"20.5M\",\"orientation\":\"v\",\"showlegend\":true,\"texttemplate\":\"%{value}\",\"x\":[\"Brazil\",\"India\"],\"xaxis\":\"x\",\"yaxis\":\"y\",\"type\":\"histogram\"},{\"alignmentgroup\":\"True\",\"bingroup\":\"x\",\"hovertemplate\":\"Followers=65.5M<br>Audience Country=%{x}<br>count=%{y}<extra></extra>\",\"legendgroup\":\"65.5M\",\"marker\":{\"color\":\"#FFA15A\",\"pattern\":{\"shape\":\"\"}},\"name\":\"65.5M\",\"offsetgroup\":\"65.5M\",\"orientation\":\"v\",\"showlegend\":true,\"texttemplate\":\"%{value}\",\"x\":[\"United States\"],\"xaxis\":\"x\",\"yaxis\":\"y\",\"type\":\"histogram\"},{\"alignmentgroup\":\"True\",\"bingroup\":\"x\",\"hovertemplate\":\"Followers=13M<br>Audience Country=%{x}<br>count=%{y}<extra></extra>\",\"legendgroup\":\"13M\",\"marker\":{\"color\":\"#19d3f3\",\"pattern\":{\"shape\":\"\"}},\"name\":\"13M\",\"offsetgroup\":\"13M\",\"orientation\":\"v\",\"showlegend\":true,\"texttemplate\":\"%{value}\",\"x\":[\"United States\",\"Indonesia\",\"Mexico\",\"Iraq\"],\"xaxis\":\"x\",\"yaxis\":\"y\",\"type\":\"histogram\"},{\"alignmentgroup\":\"True\",\"bingroup\":\"x\",\"hovertemplate\":\"Followers=19.1M<br>Audience Country=%{x}<br>count=%{y}<extra></extra>\",\"legendgroup\":\"19.1M\",\"marker\":{\"color\":\"#FF6692\",\"pattern\":{\"shape\":\"\"}},\"name\":\"19.1M\",\"offsetgroup\":\"19.1M\",\"orientation\":\"v\",\"showlegend\":true,\"texttemplate\":\"%{value}\",\"x\":[\"United States\",\"Spain\",\"United States\"],\"xaxis\":\"x\",\"yaxis\":\"y\",\"type\":\"histogram\"},{\"alignmentgroup\":\"True\",\"bingroup\":\"x\",\"hovertemplate\":\"Followers=24.3M<br>Audience Country=%{x}<br>count=%{y}<extra></extra>\",\"legendgroup\":\"24.3M\",\"marker\":{\"color\":\"#B6E880\",\"pattern\":{\"shape\":\"\"}},\"name\":\"24.3M\",\"offsetgroup\":\"24.3M\",\"orientation\":\"v\",\"showlegend\":true,\"texttemplate\":\"%{value}\",\"x\":[\"Spain\",\"India\",\"India\",\"India\"],\"xaxis\":\"x\",\"yaxis\":\"y\",\"type\":\"histogram\"},{\"alignmentgroup\":\"True\",\"bingroup\":\"x\",\"hovertemplate\":\"Followers=10.7M<br>Audience Country=%{x}<br>count=%{y}<extra></extra>\",\"legendgroup\":\"10.7M\",\"marker\":{\"color\":\"#FF97FF\",\"pattern\":{\"shape\":\"\"}},\"name\":\"10.7M\",\"offsetgroup\":\"10.7M\",\"orientation\":\"v\",\"showlegend\":true,\"texttemplate\":\"%{value}\",\"x\":[\"Indonesia\",\"Russia\",\"Indonesia\",\"Spain\",\"Brazil\",\"Indonesia\",\"Indonesia\"],\"xaxis\":\"x\",\"yaxis\":\"y\",\"type\":\"histogram\"},{\"alignmentgroup\":\"True\",\"bingroup\":\"x\",\"hovertemplate\":\"Followers=10.3M<br>Audience Country=%{x}<br>count=%{y}<extra></extra>\",\"legendgroup\":\"10.3M\",\"marker\":{\"color\":\"#FECB52\",\"pattern\":{\"shape\":\"\"}},\"name\":\"10.3M\",\"offsetgroup\":\"10.3M\",\"orientation\":\"v\",\"showlegend\":true,\"texttemplate\":\"%{value}\",\"x\":[\"Indonesia\",\"Indonesia\",\"Turkey\",\"Indonesia\",\"United States\",\"Albania\"],\"xaxis\":\"x\",\"yaxis\":\"y\",\"type\":\"histogram\"},{\"alignmentgroup\":\"True\",\"bingroup\":\"x\",\"hovertemplate\":\"Followers=54.7M<br>Audience Country=%{x}<br>count=%{y}<extra></extra>\",\"legendgroup\":\"54.7M\",\"marker\":{\"color\":\"#636efa\",\"pattern\":{\"shape\":\"\"}},\"name\":\"54.7M\",\"offsetgroup\":\"54.7M\",\"orientation\":\"v\",\"showlegend\":true,\"texttemplate\":\"%{value}\",\"x\":[\"Brazil\"],\"xaxis\":\"x\",\"yaxis\":\"y\",\"type\":\"histogram\"},{\"alignmentgroup\":\"True\",\"bingroup\":\"x\",\"hovertemplate\":\"Followers=52.3M<br>Audience Country=%{x}<br>count=%{y}<extra></extra>\",\"legendgroup\":\"52.3M\",\"marker\":{\"color\":\"#EF553B\",\"pattern\":{\"shape\":\"\"}},\"name\":\"52.3M\",\"offsetgroup\":\"52.3M\",\"orientation\":\"v\",\"showlegend\":true,\"texttemplate\":\"%{value}\",\"x\":[\"Spain\"],\"xaxis\":\"x\",\"yaxis\":\"y\",\"type\":\"histogram\"},{\"alignmentgroup\":\"True\",\"bingroup\":\"x\",\"hovertemplate\":\"Followers=35.9M<br>Audience Country=%{x}<br>count=%{y}<extra></extra>\",\"legendgroup\":\"35.9M\",\"marker\":{\"color\":\"#00cc96\",\"pattern\":{\"shape\":\"\"}},\"name\":\"35.9M\",\"offsetgroup\":\"35.9M\",\"orientation\":\"v\",\"showlegend\":true,\"texttemplate\":\"%{value}\",\"x\":[\"Mexico\"],\"xaxis\":\"x\",\"yaxis\":\"y\",\"type\":\"histogram\"},{\"alignmentgroup\":\"True\",\"bingroup\":\"x\",\"hovertemplate\":\"Followers=6.6M<br>Audience Country=%{x}<br>count=%{y}<extra></extra>\",\"legendgroup\":\"6.6M\",\"marker\":{\"color\":\"#ab63fa\",\"pattern\":{\"shape\":\"\"}},\"name\":\"6.6M\",\"offsetgroup\":\"6.6M\",\"orientation\":\"v\",\"showlegend\":true,\"texttemplate\":\"%{value}\",\"x\":[\"United States\",\"United States\",\"India\",\"Pakistan\"],\"xaxis\":\"x\",\"yaxis\":\"y\",\"type\":\"histogram\"},{\"alignmentgroup\":\"True\",\"bingroup\":\"x\",\"hovertemplate\":\"Followers=21.4M<br>Audience Country=%{x}<br>count=%{y}<extra></extra>\",\"legendgroup\":\"21.4M\",\"marker\":{\"color\":\"#FFA15A\",\"pattern\":{\"shape\":\"\"}},\"name\":\"21.4M\",\"offsetgroup\":\"21.4M\",\"orientation\":\"v\",\"showlegend\":true,\"texttemplate\":\"%{value}\",\"x\":[\"India\",\"United States\"],\"xaxis\":\"x\",\"yaxis\":\"y\",\"type\":\"histogram\"},{\"alignmentgroup\":\"True\",\"bingroup\":\"x\",\"hovertemplate\":\"Followers=13.5M<br>Audience Country=%{x}<br>count=%{y}<extra></extra>\",\"legendgroup\":\"13.5M\",\"marker\":{\"color\":\"#19d3f3\",\"pattern\":{\"shape\":\"\"}},\"name\":\"13.5M\",\"offsetgroup\":\"13.5M\",\"orientation\":\"v\",\"showlegend\":true,\"texttemplate\":\"%{value}\",\"x\":[\"Argentina\",\"Indonesia\",\"United States\",\"India\",\"Philippines\",\"United Kingdom\",\"Indonesia\",\"Brazil\",\"Spain\"],\"xaxis\":\"x\",\"yaxis\":\"y\",\"type\":\"histogram\"},{\"alignmentgroup\":\"True\",\"bingroup\":\"x\",\"hovertemplate\":\"Followers=25.7M<br>Audience Country=%{x}<br>count=%{y}<extra></extra>\",\"legendgroup\":\"25.7M\",\"marker\":{\"color\":\"#FF6692\",\"pattern\":{\"shape\":\"\"}},\"name\":\"25.7M\",\"offsetgroup\":\"25.7M\",\"orientation\":\"v\",\"showlegend\":true,\"texttemplate\":\"%{value}\",\"x\":[\"Brazil\",\"Indonesia\",\"Brazil\"],\"xaxis\":\"x\",\"yaxis\":\"y\",\"type\":\"histogram\"},{\"alignmentgroup\":\"True\",\"bingroup\":\"x\",\"hovertemplate\":\"Followers=14.6M<br>Audience Country=%{x}<br>count=%{y}<extra></extra>\",\"legendgroup\":\"14.6M\",\"marker\":{\"color\":\"#B6E880\",\"pattern\":{\"shape\":\"\"}},\"name\":\"14.6M\",\"offsetgroup\":\"14.6M\",\"orientation\":\"v\",\"showlegend\":true,\"texttemplate\":\"%{value}\",\"x\":[\"Indonesia\",\"India\",\"India\",\"India\",\"India\",\"United States\"],\"xaxis\":\"x\",\"yaxis\":\"y\",\"type\":\"histogram\"},{\"alignmentgroup\":\"True\",\"bingroup\":\"x\",\"hovertemplate\":\"Followers=14M<br>Audience Country=%{x}<br>count=%{y}<extra></extra>\",\"legendgroup\":\"14M\",\"marker\":{\"color\":\"#FF97FF\",\"pattern\":{\"shape\":\"\"}},\"name\":\"14M\",\"offsetgroup\":\"14M\",\"orientation\":\"v\",\"showlegend\":true,\"texttemplate\":\"%{value}\",\"x\":[\"Indonesia\",\"United States\"],\"xaxis\":\"x\",\"yaxis\":\"y\",\"type\":\"histogram\"},{\"alignmentgroup\":\"True\",\"bingroup\":\"x\",\"hovertemplate\":\"Followers=16.6M<br>Audience Country=%{x}<br>count=%{y}<extra></extra>\",\"legendgroup\":\"16.6M\",\"marker\":{\"color\":\"#FECB52\",\"pattern\":{\"shape\":\"\"}},\"name\":\"16.6M\",\"offsetgroup\":\"16.6M\",\"orientation\":\"v\",\"showlegend\":true,\"texttemplate\":\"%{value}\",\"x\":[\"Brazil\",\"United States\",\"Brazil\"],\"xaxis\":\"x\",\"yaxis\":\"y\",\"type\":\"histogram\"},{\"alignmentgroup\":\"True\",\"bingroup\":\"x\",\"hovertemplate\":\"Followers=28.8M<br>Audience Country=%{x}<br>count=%{y}<extra></extra>\",\"legendgroup\":\"28.8M\",\"marker\":{\"color\":\"#636efa\",\"pattern\":{\"shape\":\"\"}},\"name\":\"28.8M\",\"offsetgroup\":\"28.8M\",\"orientation\":\"v\",\"showlegend\":true,\"texttemplate\":\"%{value}\",\"x\":[\"Spain\"],\"xaxis\":\"x\",\"yaxis\":\"y\",\"type\":\"histogram\"},{\"alignmentgroup\":\"True\",\"bingroup\":\"x\",\"hovertemplate\":\"Followers=6.9M<br>Audience Country=%{x}<br>count=%{y}<extra></extra>\",\"legendgroup\":\"6.9M\",\"marker\":{\"color\":\"#EF553B\",\"pattern\":{\"shape\":\"\"}},\"name\":\"6.9M\",\"offsetgroup\":\"6.9M\",\"orientation\":\"v\",\"showlegend\":true,\"texttemplate\":\"%{value}\",\"x\":[\"Turkey\",\"Turkey\",\"Indonesia\",\"Indonesia\",\"Indonesia\",\"Indonesia\",\"Indonesia\",\"Brazil\",\"Brazil\",\"United Arab Emirates\",\"United States\",\"Kazakhstan\",\"United States\"],\"xaxis\":\"x\",\"yaxis\":\"y\",\"type\":\"histogram\"},{\"alignmentgroup\":\"True\",\"bingroup\":\"x\",\"hovertemplate\":\"Followers=33.1M<br>Audience Country=%{x}<br>count=%{y}<extra></extra>\",\"legendgroup\":\"33.1M\",\"marker\":{\"color\":\"#00cc96\",\"pattern\":{\"shape\":\"\"}},\"name\":\"33.1M\",\"offsetgroup\":\"33.1M\",\"orientation\":\"v\",\"showlegend\":true,\"texttemplate\":\"%{value}\",\"x\":[\"Spain\",\"India\"],\"xaxis\":\"x\",\"yaxis\":\"y\",\"type\":\"histogram\"},{\"alignmentgroup\":\"True\",\"bingroup\":\"x\",\"hovertemplate\":\"Followers=21.7M<br>Audience Country=%{x}<br>count=%{y}<extra></extra>\",\"legendgroup\":\"21.7M\",\"marker\":{\"color\":\"#ab63fa\",\"pattern\":{\"shape\":\"\"}},\"name\":\"21.7M\",\"offsetgroup\":\"21.7M\",\"orientation\":\"v\",\"showlegend\":true,\"texttemplate\":\"%{value}\",\"x\":[\"India\",\"Brazil\"],\"xaxis\":\"x\",\"yaxis\":\"y\",\"type\":\"histogram\"},{\"alignmentgroup\":\"True\",\"bingroup\":\"x\",\"hovertemplate\":\"Followers=12.3M<br>Audience Country=%{x}<br>count=%{y}<extra></extra>\",\"legendgroup\":\"12.3M\",\"marker\":{\"color\":\"#FFA15A\",\"pattern\":{\"shape\":\"\"}},\"name\":\"12.3M\",\"offsetgroup\":\"12.3M\",\"orientation\":\"v\",\"showlegend\":true,\"texttemplate\":\"%{value}\",\"x\":[\"United States\",\"Brazil\",\"India\",\"United Kingdom\",\"Indonesia\",\"United States\"],\"xaxis\":\"x\",\"yaxis\":\"y\",\"type\":\"histogram\"},{\"alignmentgroup\":\"True\",\"bingroup\":\"x\",\"hovertemplate\":\"Followers=62.9M<br>Audience Country=%{x}<br>count=%{y}<extra></extra>\",\"legendgroup\":\"62.9M\",\"marker\":{\"color\":\"#19d3f3\",\"pattern\":{\"shape\":\"\"}},\"name\":\"62.9M\",\"offsetgroup\":\"62.9M\",\"orientation\":\"v\",\"showlegend\":true,\"texttemplate\":\"%{value}\",\"x\":[\"Brazil\"],\"xaxis\":\"x\",\"yaxis\":\"y\",\"type\":\"histogram\"},{\"alignmentgroup\":\"True\",\"bingroup\":\"x\",\"hovertemplate\":\"Followers=16.1M<br>Audience Country=%{x}<br>count=%{y}<extra></extra>\",\"legendgroup\":\"16.1M\",\"marker\":{\"color\":\"#FF6692\",\"pattern\":{\"shape\":\"\"}},\"name\":\"16.1M\",\"offsetgroup\":\"16.1M\",\"orientation\":\"v\",\"showlegend\":true,\"texttemplate\":\"%{value}\",\"x\":[\"United States\",\"Brazil\"],\"xaxis\":\"x\",\"yaxis\":\"y\",\"type\":\"histogram\"},{\"alignmentgroup\":\"True\",\"bingroup\":\"x\",\"hovertemplate\":\"Followers=25.5M<br>Audience Country=%{x}<br>count=%{y}<extra></extra>\",\"legendgroup\":\"25.5M\",\"marker\":{\"color\":\"#B6E880\",\"pattern\":{\"shape\":\"\"}},\"name\":\"25.5M\",\"offsetgroup\":\"25.5M\",\"orientation\":\"v\",\"showlegend\":true,\"texttemplate\":\"%{value}\",\"x\":[\"India\"],\"xaxis\":\"x\",\"yaxis\":\"y\",\"type\":\"histogram\"},{\"alignmentgroup\":\"True\",\"bingroup\":\"x\",\"hovertemplate\":\"Followers=18.5M<br>Audience Country=%{x}<br>count=%{y}<extra></extra>\",\"legendgroup\":\"18.5M\",\"marker\":{\"color\":\"#FF97FF\",\"pattern\":{\"shape\":\"\"}},\"name\":\"18.5M\",\"offsetgroup\":\"18.5M\",\"orientation\":\"v\",\"showlegend\":true,\"texttemplate\":\"%{value}\",\"x\":[\"Brazil\"],\"xaxis\":\"x\",\"yaxis\":\"y\",\"type\":\"histogram\"},{\"alignmentgroup\":\"True\",\"bingroup\":\"x\",\"hovertemplate\":\"Followers=70.4M<br>Audience Country=%{x}<br>count=%{y}<extra></extra>\",\"legendgroup\":\"70.4M\",\"marker\":{\"color\":\"#FECB52\",\"pattern\":{\"shape\":\"\"}},\"name\":\"70.4M\",\"offsetgroup\":\"70.4M\",\"orientation\":\"v\",\"showlegend\":true,\"texttemplate\":\"%{value}\",\"x\":[\"India\"],\"xaxis\":\"x\",\"yaxis\":\"y\",\"type\":\"histogram\"},{\"alignmentgroup\":\"True\",\"bingroup\":\"x\",\"hovertemplate\":\"Followers=10.9M<br>Audience Country=%{x}<br>count=%{y}<extra></extra>\",\"legendgroup\":\"10.9M\",\"marker\":{\"color\":\"#636efa\",\"pattern\":{\"shape\":\"\"}},\"name\":\"10.9M\",\"offsetgroup\":\"10.9M\",\"orientation\":\"v\",\"showlegend\":true,\"texttemplate\":\"%{value}\",\"x\":[\"India\",\"Spain\",\"United States\"],\"xaxis\":\"x\",\"yaxis\":\"y\",\"type\":\"histogram\"},{\"alignmentgroup\":\"True\",\"bingroup\":\"x\",\"hovertemplate\":\"Followers=74.5M<br>Audience Country=%{x}<br>count=%{y}<extra></extra>\",\"legendgroup\":\"74.5M\",\"marker\":{\"color\":\"#EF553B\",\"pattern\":{\"shape\":\"\"}},\"name\":\"74.5M\",\"offsetgroup\":\"74.5M\",\"orientation\":\"v\",\"showlegend\":true,\"texttemplate\":\"%{value}\",\"x\":[\"India\"],\"xaxis\":\"x\",\"yaxis\":\"y\",\"type\":\"histogram\"},{\"alignmentgroup\":\"True\",\"bingroup\":\"x\",\"hovertemplate\":\"Followers=17.7M<br>Audience Country=%{x}<br>count=%{y}<extra></extra>\",\"legendgroup\":\"17.7M\",\"marker\":{\"color\":\"#00cc96\",\"pattern\":{\"shape\":\"\"}},\"name\":\"17.7M\",\"offsetgroup\":\"17.7M\",\"orientation\":\"v\",\"showlegend\":true,\"texttemplate\":\"%{value}\",\"x\":[\"India\",\"Argentina\"],\"xaxis\":\"x\",\"yaxis\":\"y\",\"type\":\"histogram\"},{\"alignmentgroup\":\"True\",\"bingroup\":\"x\",\"hovertemplate\":\"Followers=19.8M<br>Audience Country=%{x}<br>count=%{y}<extra></extra>\",\"legendgroup\":\"19.8M\",\"marker\":{\"color\":\"#ab63fa\",\"pattern\":{\"shape\":\"\"}},\"name\":\"19.8M\",\"offsetgroup\":\"19.8M\",\"orientation\":\"v\",\"showlegend\":true,\"texttemplate\":\"%{value}\",\"x\":[\"United States\",\"Brazil\",\"Italy\"],\"xaxis\":\"x\",\"yaxis\":\"y\",\"type\":\"histogram\"},{\"alignmentgroup\":\"True\",\"bingroup\":\"x\",\"hovertemplate\":\"Followers=9M<br>Audience Country=%{x}<br>count=%{y}<extra></extra>\",\"legendgroup\":\"9M\",\"marker\":{\"color\":\"#FFA15A\",\"pattern\":{\"shape\":\"\"}},\"name\":\"9M\",\"offsetgroup\":\"9M\",\"orientation\":\"v\",\"showlegend\":true,\"texttemplate\":\"%{value}\",\"x\":[\"Indonesia\",\"Iran\",\"United States\",\"Spain\",\"United States\",\"United States\",\"Syria\",\"Iran\",\"United States\",\"Brazil\",\"United States\"],\"xaxis\":\"x\",\"yaxis\":\"y\",\"type\":\"histogram\"},{\"alignmentgroup\":\"True\",\"bingroup\":\"x\",\"hovertemplate\":\"Followers=15.5M<br>Audience Country=%{x}<br>count=%{y}<extra></extra>\",\"legendgroup\":\"15.5M\",\"marker\":{\"color\":\"#19d3f3\",\"pattern\":{\"shape\":\"\"}},\"name\":\"15.5M\",\"offsetgroup\":\"15.5M\",\"orientation\":\"v\",\"showlegend\":true,\"texttemplate\":\"%{value}\",\"x\":[\"Indonesia\",\"Brazil\",\"Mexico\"],\"xaxis\":\"x\",\"yaxis\":\"y\",\"type\":\"histogram\"},{\"alignmentgroup\":\"True\",\"bingroup\":\"x\",\"hovertemplate\":\"Followers=9.1M<br>Audience Country=%{x}<br>count=%{y}<extra></extra>\",\"legendgroup\":\"9.1M\",\"marker\":{\"color\":\"#FF6692\",\"pattern\":{\"shape\":\"\"}},\"name\":\"9.1M\",\"offsetgroup\":\"9.1M\",\"orientation\":\"v\",\"showlegend\":true,\"texttemplate\":\"%{value}\",\"x\":[\"Iran\",\"Algeria\",\"Mexico\",\"Brazil\"],\"xaxis\":\"x\",\"yaxis\":\"y\",\"type\":\"histogram\"},{\"alignmentgroup\":\"True\",\"bingroup\":\"x\",\"hovertemplate\":\"Followers=31.3M<br>Audience Country=%{x}<br>count=%{y}<extra></extra>\",\"legendgroup\":\"31.3M\",\"marker\":{\"color\":\"#B6E880\",\"pattern\":{\"shape\":\"\"}},\"name\":\"31.3M\",\"offsetgroup\":\"31.3M\",\"orientation\":\"v\",\"showlegend\":true,\"texttemplate\":\"%{value}\",\"x\":[\"Indonesia\",\"United States\"],\"xaxis\":\"x\",\"yaxis\":\"y\",\"type\":\"histogram\"},{\"alignmentgroup\":\"True\",\"bingroup\":\"x\",\"hovertemplate\":\"Followers=22.1M<br>Audience Country=%{x}<br>count=%{y}<extra></extra>\",\"legendgroup\":\"22.1M\",\"marker\":{\"color\":\"#FF97FF\",\"pattern\":{\"shape\":\"\"}},\"name\":\"22.1M\",\"offsetgroup\":\"22.1M\",\"orientation\":\"v\",\"showlegend\":true,\"texttemplate\":\"%{value}\",\"x\":[\"United States\",\"India\"],\"xaxis\":\"x\",\"yaxis\":\"y\",\"type\":\"histogram\"},{\"alignmentgroup\":\"True\",\"bingroup\":\"x\",\"hovertemplate\":\"Followers=23.1M<br>Audience Country=%{x}<br>count=%{y}<extra></extra>\",\"legendgroup\":\"23.1M\",\"marker\":{\"color\":\"#FECB52\",\"pattern\":{\"shape\":\"\"}},\"name\":\"23.1M\",\"offsetgroup\":\"23.1M\",\"orientation\":\"v\",\"showlegend\":true,\"texttemplate\":\"%{value}\",\"x\":[\"United States\"],\"xaxis\":\"x\",\"yaxis\":\"y\",\"type\":\"histogram\"},{\"alignmentgroup\":\"True\",\"bingroup\":\"x\",\"hovertemplate\":\"Followers=15.1M<br>Audience Country=%{x}<br>count=%{y}<extra></extra>\",\"legendgroup\":\"15.1M\",\"marker\":{\"color\":\"#636efa\",\"pattern\":{\"shape\":\"\"}},\"name\":\"15.1M\",\"offsetgroup\":\"15.1M\",\"orientation\":\"v\",\"showlegend\":true,\"texttemplate\":\"%{value}\",\"x\":[\"Indonesia\",\"Russia\",\"Brazil\"],\"xaxis\":\"x\",\"yaxis\":\"y\",\"type\":\"histogram\"},{\"alignmentgroup\":\"True\",\"bingroup\":\"x\",\"hovertemplate\":\"Followers=27.2M<br>Audience Country=%{x}<br>count=%{y}<extra></extra>\",\"legendgroup\":\"27.2M\",\"marker\":{\"color\":\"#EF553B\",\"pattern\":{\"shape\":\"\"}},\"name\":\"27.2M\",\"offsetgroup\":\"27.2M\",\"orientation\":\"v\",\"showlegend\":true,\"texttemplate\":\"%{value}\",\"x\":[\"Brazil\"],\"xaxis\":\"x\",\"yaxis\":\"y\",\"type\":\"histogram\"},{\"alignmentgroup\":\"True\",\"bingroup\":\"x\",\"hovertemplate\":\"Followers=10M<br>Audience Country=%{x}<br>count=%{y}<extra></extra>\",\"legendgroup\":\"10M\",\"marker\":{\"color\":\"#00cc96\",\"pattern\":{\"shape\":\"\"}},\"name\":\"10M\",\"offsetgroup\":\"10M\",\"orientation\":\"v\",\"showlegend\":true,\"texttemplate\":\"%{value}\",\"x\":[\"Mexico\",\"Indonesia\",\"Indonesia\",\"Brazil\",\"Brazil\"],\"xaxis\":\"x\",\"yaxis\":\"y\",\"type\":\"histogram\"},{\"alignmentgroup\":\"True\",\"bingroup\":\"x\",\"hovertemplate\":\"Followers=17.9M<br>Audience Country=%{x}<br>count=%{y}<extra></extra>\",\"legendgroup\":\"17.9M\",\"marker\":{\"color\":\"#ab63fa\",\"pattern\":{\"shape\":\"\"}},\"name\":\"17.9M\",\"offsetgroup\":\"17.9M\",\"orientation\":\"v\",\"showlegend\":true,\"texttemplate\":\"%{value}\",\"x\":[\"Indonesia\",\"Russia\",\"Argentina\"],\"xaxis\":\"x\",\"yaxis\":\"y\",\"type\":\"histogram\"},{\"alignmentgroup\":\"True\",\"bingroup\":\"x\",\"hovertemplate\":\"Followers=38M<br>Audience Country=%{x}<br>count=%{y}<extra></extra>\",\"legendgroup\":\"38M\",\"marker\":{\"color\":\"#FFA15A\",\"pattern\":{\"shape\":\"\"}},\"name\":\"38M\",\"offsetgroup\":\"38M\",\"orientation\":\"v\",\"showlegend\":true,\"texttemplate\":\"%{value}\",\"x\":[\"India\"],\"xaxis\":\"x\",\"yaxis\":\"y\",\"type\":\"histogram\"},{\"alignmentgroup\":\"True\",\"bingroup\":\"x\",\"hovertemplate\":\"Followers=23.5M<br>Audience Country=%{x}<br>count=%{y}<extra></extra>\",\"legendgroup\":\"23.5M\",\"marker\":{\"color\":\"#19d3f3\",\"pattern\":{\"shape\":\"\"}},\"name\":\"23.5M\",\"offsetgroup\":\"23.5M\",\"orientation\":\"v\",\"showlegend\":true,\"texttemplate\":\"%{value}\",\"x\":[\"Argentina\",\"Russia\",\"Brazil\"],\"xaxis\":\"x\",\"yaxis\":\"y\",\"type\":\"histogram\"},{\"alignmentgroup\":\"True\",\"bingroup\":\"x\",\"hovertemplate\":\"Followers=61.2M<br>Audience Country=%{x}<br>count=%{y}<extra></extra>\",\"legendgroup\":\"61.2M\",\"marker\":{\"color\":\"#FF6692\",\"pattern\":{\"shape\":\"\"}},\"name\":\"61.2M\",\"offsetgroup\":\"61.2M\",\"orientation\":\"v\",\"showlegend\":true,\"texttemplate\":\"%{value}\",\"x\":[\"Brazil\",\"Brazil\"],\"xaxis\":\"x\",\"yaxis\":\"y\",\"type\":\"histogram\"},{\"alignmentgroup\":\"True\",\"bingroup\":\"x\",\"hovertemplate\":\"Followers=27.9M<br>Audience Country=%{x}<br>count=%{y}<extra></extra>\",\"legendgroup\":\"27.9M\",\"marker\":{\"color\":\"#B6E880\",\"pattern\":{\"shape\":\"\"}},\"name\":\"27.9M\",\"offsetgroup\":\"27.9M\",\"orientation\":\"v\",\"showlegend\":true,\"texttemplate\":\"%{value}\",\"x\":[\"India\"],\"xaxis\":\"x\",\"yaxis\":\"y\",\"type\":\"histogram\"},{\"alignmentgroup\":\"True\",\"bingroup\":\"x\",\"hovertemplate\":\"Followers=17.4M<br>Audience Country=%{x}<br>count=%{y}<extra></extra>\",\"legendgroup\":\"17.4M\",\"marker\":{\"color\":\"#FF97FF\",\"pattern\":{\"shape\":\"\"}},\"name\":\"17.4M\",\"offsetgroup\":\"17.4M\",\"orientation\":\"v\",\"showlegend\":true,\"texttemplate\":\"%{value}\",\"x\":[\"Brazil\",\"Italy\"],\"xaxis\":\"x\",\"yaxis\":\"y\",\"type\":\"histogram\"},{\"alignmentgroup\":\"True\",\"bingroup\":\"x\",\"hovertemplate\":\"Followers=13.8M<br>Audience Country=%{x}<br>count=%{y}<extra></extra>\",\"legendgroup\":\"13.8M\",\"marker\":{\"color\":\"#FECB52\",\"pattern\":{\"shape\":\"\"}},\"name\":\"13.8M\",\"offsetgroup\":\"13.8M\",\"orientation\":\"v\",\"showlegend\":true,\"texttemplate\":\"%{value}\",\"x\":[\"Argentina\",\"Philippines\",\"Turkey\"],\"xaxis\":\"x\",\"yaxis\":\"y\",\"type\":\"histogram\"},{\"alignmentgroup\":\"True\",\"bingroup\":\"x\",\"hovertemplate\":\"Followers=9.4M<br>Audience Country=%{x}<br>count=%{y}<extra></extra>\",\"legendgroup\":\"9.4M\",\"marker\":{\"color\":\"#636efa\",\"pattern\":{\"shape\":\"\"}},\"name\":\"9.4M\",\"offsetgroup\":\"9.4M\",\"orientation\":\"v\",\"showlegend\":true,\"texttemplate\":\"%{value}\",\"x\":[\"Indonesia\",\"United States\",\"Russia\",\"Iran\",\"India\",\"Mexico\",\"Mexico\",\"Turkey\",\"United States\"],\"xaxis\":\"x\",\"yaxis\":\"y\",\"type\":\"histogram\"},{\"alignmentgroup\":\"True\",\"bingroup\":\"x\",\"hovertemplate\":\"Followers=18.3M<br>Audience Country=%{x}<br>count=%{y}<extra></extra>\",\"legendgroup\":\"18.3M\",\"marker\":{\"color\":\"#EF553B\",\"pattern\":{\"shape\":\"\"}},\"name\":\"18.3M\",\"offsetgroup\":\"18.3M\",\"orientation\":\"v\",\"showlegend\":true,\"texttemplate\":\"%{value}\",\"x\":[\"Argentina\",\"Indonesia\",\"Brazil\"],\"xaxis\":\"x\",\"yaxis\":\"y\",\"type\":\"histogram\"},{\"alignmentgroup\":\"True\",\"bingroup\":\"x\",\"hovertemplate\":\"Followers=12.9M<br>Audience Country=%{x}<br>count=%{y}<extra></extra>\",\"legendgroup\":\"12.9M\",\"marker\":{\"color\":\"#00cc96\",\"pattern\":{\"shape\":\"\"}},\"name\":\"12.9M\",\"offsetgroup\":\"12.9M\",\"orientation\":\"v\",\"showlegend\":true,\"texttemplate\":\"%{value}\",\"x\":[\"India\",\"Mexico\",\"Brazil\",\"United States\"],\"xaxis\":\"x\",\"yaxis\":\"y\",\"type\":\"histogram\"},{\"alignmentgroup\":\"True\",\"bingroup\":\"x\",\"hovertemplate\":\"Followers=7.6M<br>Audience Country=%{x}<br>count=%{y}<extra></extra>\",\"legendgroup\":\"7.6M\",\"marker\":{\"color\":\"#ab63fa\",\"pattern\":{\"shape\":\"\"}},\"name\":\"7.6M\",\"offsetgroup\":\"7.6M\",\"orientation\":\"v\",\"showlegend\":true,\"texttemplate\":\"%{value}\",\"x\":[\"Brazil\",\"United States\",\"United States\",\"United States\",\"Indonesia\",\"United Kingdom\",\"Indonesia\",\"Philippines\"],\"xaxis\":\"x\",\"yaxis\":\"y\",\"type\":\"histogram\"},{\"alignmentgroup\":\"True\",\"bingroup\":\"x\",\"hovertemplate\":\"Followers=8.7M<br>Audience Country=%{x}<br>count=%{y}<extra></extra>\",\"legendgroup\":\"8.7M\",\"marker\":{\"color\":\"#FFA15A\",\"pattern\":{\"shape\":\"\"}},\"name\":\"8.7M\",\"offsetgroup\":\"8.7M\",\"orientation\":\"v\",\"showlegend\":true,\"texttemplate\":\"%{value}\",\"x\":[\"Indonesia\",\"India\",\"Spain\",\"Mexico\",\"India\",\"Spain\",\"Iran\"],\"xaxis\":\"x\",\"yaxis\":\"y\",\"type\":\"histogram\"},{\"alignmentgroup\":\"True\",\"bingroup\":\"x\",\"hovertemplate\":\"Followers=15.2M<br>Audience Country=%{x}<br>count=%{y}<extra></extra>\",\"legendgroup\":\"15.2M\",\"marker\":{\"color\":\"#19d3f3\",\"pattern\":{\"shape\":\"\"}},\"name\":\"15.2M\",\"offsetgroup\":\"15.2M\",\"orientation\":\"v\",\"showlegend\":true,\"texttemplate\":\"%{value}\",\"x\":[\"Russia\",\"Iran\",\"United States\"],\"xaxis\":\"x\",\"yaxis\":\"y\",\"type\":\"histogram\"},{\"alignmentgroup\":\"True\",\"bingroup\":\"x\",\"hovertemplate\":\"Followers=6.3M<br>Audience Country=%{x}<br>count=%{y}<extra></extra>\",\"legendgroup\":\"6.3M\",\"marker\":{\"color\":\"#FF6692\",\"pattern\":{\"shape\":\"\"}},\"name\":\"6.3M\",\"offsetgroup\":\"6.3M\",\"orientation\":\"v\",\"showlegend\":true,\"texttemplate\":\"%{value}\",\"x\":[\"United States\",\"United States\",\"United States\",\"United States\",\"United States\",\"Brazil\",\"United States\",\"Spain\",\"Germany\"],\"xaxis\":\"x\",\"yaxis\":\"y\",\"type\":\"histogram\"},{\"alignmentgroup\":\"True\",\"bingroup\":\"x\",\"hovertemplate\":\"Followers=10.2M<br>Audience Country=%{x}<br>count=%{y}<extra></extra>\",\"legendgroup\":\"10.2M\",\"marker\":{\"color\":\"#B6E880\",\"pattern\":{\"shape\":\"\"}},\"name\":\"10.2M\",\"offsetgroup\":\"10.2M\",\"orientation\":\"v\",\"showlegend\":true,\"texttemplate\":\"%{value}\",\"x\":[\"Indonesia\",\"United States\",\"United States\",\"Indonesia\",\"Indonesia\"],\"xaxis\":\"x\",\"yaxis\":\"y\",\"type\":\"histogram\"},{\"alignmentgroup\":\"True\",\"bingroup\":\"x\",\"hovertemplate\":\"Followers=11.1M<br>Audience Country=%{x}<br>count=%{y}<extra></extra>\",\"legendgroup\":\"11.1M\",\"marker\":{\"color\":\"#FF97FF\",\"pattern\":{\"shape\":\"\"}},\"name\":\"11.1M\",\"offsetgroup\":\"11.1M\",\"orientation\":\"v\",\"showlegend\":true,\"texttemplate\":\"%{value}\",\"x\":[\"Mexico\",\"United States\"],\"xaxis\":\"x\",\"yaxis\":\"y\",\"type\":\"histogram\"},{\"alignmentgroup\":\"True\",\"bingroup\":\"x\",\"hovertemplate\":\"Followers=5.6M<br>Audience Country=%{x}<br>count=%{y}<extra></extra>\",\"legendgroup\":\"5.6M\",\"marker\":{\"color\":\"#FECB52\",\"pattern\":{\"shape\":\"\"}},\"name\":\"5.6M\",\"offsetgroup\":\"5.6M\",\"orientation\":\"v\",\"showlegend\":true,\"texttemplate\":\"%{value}\",\"x\":[\"United States\",\"Indonesia\",\"India\",\"United States\",\"India\"],\"xaxis\":\"x\",\"yaxis\":\"y\",\"type\":\"histogram\"},{\"alignmentgroup\":\"True\",\"bingroup\":\"x\",\"hovertemplate\":\"Followers=22.3M<br>Audience Country=%{x}<br>count=%{y}<extra></extra>\",\"legendgroup\":\"22.3M\",\"marker\":{\"color\":\"#636efa\",\"pattern\":{\"shape\":\"\"}},\"name\":\"22.3M\",\"offsetgroup\":\"22.3M\",\"orientation\":\"v\",\"showlegend\":true,\"texttemplate\":\"%{value}\",\"x\":[\"Mexico\"],\"xaxis\":\"x\",\"yaxis\":\"y\",\"type\":\"histogram\"},{\"alignmentgroup\":\"True\",\"bingroup\":\"x\",\"hovertemplate\":\"Followers=15M<br>Audience Country=%{x}<br>count=%{y}<extra></extra>\",\"legendgroup\":\"15M\",\"marker\":{\"color\":\"#EF553B\",\"pattern\":{\"shape\":\"\"}},\"name\":\"15M\",\"offsetgroup\":\"15M\",\"orientation\":\"v\",\"showlegend\":true,\"texttemplate\":\"%{value}\",\"x\":[\"Spain\",\"India\",\"United States\",\"Iraq\",\"France\"],\"xaxis\":\"x\",\"yaxis\":\"y\",\"type\":\"histogram\"},{\"alignmentgroup\":\"True\",\"bingroup\":\"x\",\"hovertemplate\":\"Followers=15.3M<br>Audience Country=%{x}<br>count=%{y}<extra></extra>\",\"legendgroup\":\"15.3M\",\"marker\":{\"color\":\"#00cc96\",\"pattern\":{\"shape\":\"\"}},\"name\":\"15.3M\",\"offsetgroup\":\"15.3M\",\"orientation\":\"v\",\"showlegend\":true,\"texttemplate\":\"%{value}\",\"x\":[\"Brazil\",\"India\",\"India\",\"India\",\"United States\"],\"xaxis\":\"x\",\"yaxis\":\"y\",\"type\":\"histogram\"},{\"alignmentgroup\":\"True\",\"bingroup\":\"x\",\"hovertemplate\":\"Followers=67.4M<br>Audience Country=%{x}<br>count=%{y}<extra></extra>\",\"legendgroup\":\"67.4M\",\"marker\":{\"color\":\"#ab63fa\",\"pattern\":{\"shape\":\"\"}},\"name\":\"67.4M\",\"offsetgroup\":\"67.4M\",\"orientation\":\"v\",\"showlegend\":true,\"texttemplate\":\"%{value}\",\"x\":[\"Brazil\"],\"xaxis\":\"x\",\"yaxis\":\"y\",\"type\":\"histogram\"},{\"alignmentgroup\":\"True\",\"bingroup\":\"x\",\"hovertemplate\":\"Followers=9.3M<br>Audience Country=%{x}<br>count=%{y}<extra></extra>\",\"legendgroup\":\"9.3M\",\"marker\":{\"color\":\"#FFA15A\",\"pattern\":{\"shape\":\"\"}},\"name\":\"9.3M\",\"offsetgroup\":\"9.3M\",\"orientation\":\"v\",\"showlegend\":true,\"texttemplate\":\"%{value}\",\"x\":[\"Indonesia\",\"Turkey\",\"United States\"],\"xaxis\":\"x\",\"yaxis\":\"y\",\"type\":\"histogram\"},{\"alignmentgroup\":\"True\",\"bingroup\":\"x\",\"hovertemplate\":\"Followers=32.8M<br>Audience Country=%{x}<br>count=%{y}<extra></extra>\",\"legendgroup\":\"32.8M\",\"marker\":{\"color\":\"#19d3f3\",\"pattern\":{\"shape\":\"\"}},\"name\":\"32.8M\",\"offsetgroup\":\"32.8M\",\"orientation\":\"v\",\"showlegend\":true,\"texttemplate\":\"%{value}\",\"x\":[\"Mexico\",\"India\"],\"xaxis\":\"x\",\"yaxis\":\"y\",\"type\":\"histogram\"},{\"alignmentgroup\":\"True\",\"bingroup\":\"x\",\"hovertemplate\":\"Followers=14.9M<br>Audience Country=%{x}<br>count=%{y}<extra></extra>\",\"legendgroup\":\"14.9M\",\"marker\":{\"color\":\"#FF6692\",\"pattern\":{\"shape\":\"\"}},\"name\":\"14.9M\",\"offsetgroup\":\"14.9M\",\"orientation\":\"v\",\"showlegend\":true,\"texttemplate\":\"%{value}\",\"x\":[\"India\",\"Brazil\",\"Nigeria\",\"United States\"],\"xaxis\":\"x\",\"yaxis\":\"y\",\"type\":\"histogram\"},{\"alignmentgroup\":\"True\",\"bingroup\":\"x\",\"hovertemplate\":\"Followers=18.7M<br>Audience Country=%{x}<br>count=%{y}<extra></extra>\",\"legendgroup\":\"18.7M\",\"marker\":{\"color\":\"#B6E880\",\"pattern\":{\"shape\":\"\"}},\"name\":\"18.7M\",\"offsetgroup\":\"18.7M\",\"orientation\":\"v\",\"showlegend\":true,\"texttemplate\":\"%{value}\",\"x\":[\"South Korea\",\"United States\",\"Brazil\",\"Brazil\"],\"xaxis\":\"x\",\"yaxis\":\"y\",\"type\":\"histogram\"},{\"alignmentgroup\":\"True\",\"bingroup\":\"x\",\"hovertemplate\":\"Followers=13.7M<br>Audience Country=%{x}<br>count=%{y}<extra></extra>\",\"legendgroup\":\"13.7M\",\"marker\":{\"color\":\"#FF97FF\",\"pattern\":{\"shape\":\"\"}},\"name\":\"13.7M\",\"offsetgroup\":\"13.7M\",\"orientation\":\"v\",\"showlegend\":true,\"texttemplate\":\"%{value}\",\"x\":[\"Indonesia\",\"Indonesia\",\"Turkey\",\"Turkey\"],\"xaxis\":\"x\",\"yaxis\":\"y\",\"type\":\"histogram\"},{\"alignmentgroup\":\"True\",\"bingroup\":\"x\",\"hovertemplate\":\"Followers=44M<br>Audience Country=%{x}<br>count=%{y}<extra></extra>\",\"legendgroup\":\"44M\",\"marker\":{\"color\":\"#FECB52\",\"pattern\":{\"shape\":\"\"}},\"name\":\"44M\",\"offsetgroup\":\"44M\",\"orientation\":\"v\",\"showlegend\":true,\"texttemplate\":\"%{value}\",\"x\":[\"Brazil\"],\"xaxis\":\"x\",\"yaxis\":\"y\",\"type\":\"histogram\"},{\"alignmentgroup\":\"True\",\"bingroup\":\"x\",\"hovertemplate\":\"Followers=27.3M<br>Audience Country=%{x}<br>count=%{y}<extra></extra>\",\"legendgroup\":\"27.3M\",\"marker\":{\"color\":\"#636efa\",\"pattern\":{\"shape\":\"\"}},\"name\":\"27.3M\",\"offsetgroup\":\"27.3M\",\"orientation\":\"v\",\"showlegend\":true,\"texttemplate\":\"%{value}\",\"x\":[\"India\",\"United States\"],\"xaxis\":\"x\",\"yaxis\":\"y\",\"type\":\"histogram\"},{\"alignmentgroup\":\"True\",\"bingroup\":\"x\",\"hovertemplate\":\"Followers=35.1M<br>Audience Country=%{x}<br>count=%{y}<extra></extra>\",\"legendgroup\":\"35.1M\",\"marker\":{\"color\":\"#EF553B\",\"pattern\":{\"shape\":\"\"}},\"name\":\"35.1M\",\"offsetgroup\":\"35.1M\",\"orientation\":\"v\",\"showlegend\":true,\"texttemplate\":\"%{value}\",\"x\":[\"India\"],\"xaxis\":\"x\",\"yaxis\":\"y\",\"type\":\"histogram\"},{\"alignmentgroup\":\"True\",\"bingroup\":\"x\",\"hovertemplate\":\"Followers=14.2M<br>Audience Country=%{x}<br>count=%{y}<extra></extra>\",\"legendgroup\":\"14.2M\",\"marker\":{\"color\":\"#00cc96\",\"pattern\":{\"shape\":\"\"}},\"name\":\"14.2M\",\"offsetgroup\":\"14.2M\",\"orientation\":\"v\",\"showlegend\":true,\"texttemplate\":\"%{value}\",\"x\":[\"Indonesia\",\"United States\",\"Italy\",\"United States\",\"Indonesia\",\"Brazil\",\"United States\"],\"xaxis\":\"x\",\"yaxis\":\"y\",\"type\":\"histogram\"},{\"alignmentgroup\":\"True\",\"bingroup\":\"x\",\"hovertemplate\":\"Followers=43.2M<br>Audience Country=%{x}<br>count=%{y}<extra></extra>\",\"legendgroup\":\"43.2M\",\"marker\":{\"color\":\"#ab63fa\",\"pattern\":{\"shape\":\"\"}},\"name\":\"43.2M\",\"offsetgroup\":\"43.2M\",\"orientation\":\"v\",\"showlegend\":true,\"texttemplate\":\"%{value}\",\"x\":[\"India\"],\"xaxis\":\"x\",\"yaxis\":\"y\",\"type\":\"histogram\"},{\"alignmentgroup\":\"True\",\"bingroup\":\"x\",\"hovertemplate\":\"Followers=13.1M<br>Audience Country=%{x}<br>count=%{y}<extra></extra>\",\"legendgroup\":\"13.1M\",\"marker\":{\"color\":\"#FFA15A\",\"pattern\":{\"shape\":\"\"}},\"name\":\"13.1M\",\"offsetgroup\":\"13.1M\",\"orientation\":\"v\",\"showlegend\":true,\"texttemplate\":\"%{value}\",\"x\":[\"United States\",\"United States\",\"United States\",\"India\"],\"xaxis\":\"x\",\"yaxis\":\"y\",\"type\":\"histogram\"},{\"alignmentgroup\":\"True\",\"bingroup\":\"x\",\"hovertemplate\":\"Followers=8M<br>Audience Country=%{x}<br>count=%{y}<extra></extra>\",\"legendgroup\":\"8M\",\"marker\":{\"color\":\"#19d3f3\",\"pattern\":{\"shape\":\"\"}},\"name\":\"8M\",\"offsetgroup\":\"8M\",\"orientation\":\"v\",\"showlegend\":true,\"texttemplate\":\"%{value}\",\"x\":[\"Indonesia\",\"Italy\",\"United States\",\"United States\",\"Brazil\",\"India\"],\"xaxis\":\"x\",\"yaxis\":\"y\",\"type\":\"histogram\"},{\"alignmentgroup\":\"True\",\"bingroup\":\"x\",\"hovertemplate\":\"Followers=5.8M<br>Audience Country=%{x}<br>count=%{y}<extra></extra>\",\"legendgroup\":\"5.8M\",\"marker\":{\"color\":\"#FF6692\",\"pattern\":{\"shape\":\"\"}},\"name\":\"5.8M\",\"offsetgroup\":\"5.8M\",\"orientation\":\"v\",\"showlegend\":true,\"texttemplate\":\"%{value}\",\"x\":[\"United States\",\"United States\",\"Indonesia\",\"Mexico\",\"Brazil\"],\"xaxis\":\"x\",\"yaxis\":\"y\",\"type\":\"histogram\"},{\"alignmentgroup\":\"True\",\"bingroup\":\"x\",\"hovertemplate\":\"Followers=5.7M<br>Audience Country=%{x}<br>count=%{y}<extra></extra>\",\"legendgroup\":\"5.7M\",\"marker\":{\"color\":\"#B6E880\",\"pattern\":{\"shape\":\"\"}},\"name\":\"5.7M\",\"offsetgroup\":\"5.7M\",\"orientation\":\"v\",\"showlegend\":true,\"texttemplate\":\"%{value}\",\"x\":[null,null],\"xaxis\":\"x\",\"yaxis\":\"y\",\"type\":\"histogram\"},{\"alignmentgroup\":\"True\",\"bingroup\":\"x\",\"hovertemplate\":\"Followers=12.5M<br>Audience Country=%{x}<br>count=%{y}<extra></extra>\",\"legendgroup\":\"12.5M\",\"marker\":{\"color\":\"#FF97FF\",\"pattern\":{\"shape\":\"\"}},\"name\":\"12.5M\",\"offsetgroup\":\"12.5M\",\"orientation\":\"v\",\"showlegend\":true,\"texttemplate\":\"%{value}\",\"x\":[\"Indonesia\",\"Indonesia\",\"United States\",\"United States\"],\"xaxis\":\"x\",\"yaxis\":\"y\",\"type\":\"histogram\"},{\"alignmentgroup\":\"True\",\"bingroup\":\"x\",\"hovertemplate\":\"Followers=16.5M<br>Audience Country=%{x}<br>count=%{y}<extra></extra>\",\"legendgroup\":\"16.5M\",\"marker\":{\"color\":\"#FECB52\",\"pattern\":{\"shape\":\"\"}},\"name\":\"16.5M\",\"offsetgroup\":\"16.5M\",\"orientation\":\"v\",\"showlegend\":true,\"texttemplate\":\"%{value}\",\"x\":[\"United States\"],\"xaxis\":\"x\",\"yaxis\":\"y\",\"type\":\"histogram\"},{\"alignmentgroup\":\"True\",\"bingroup\":\"x\",\"hovertemplate\":\"Followers=5.5M<br>Audience Country=%{x}<br>count=%{y}<extra></extra>\",\"legendgroup\":\"5.5M\",\"marker\":{\"color\":\"#636efa\",\"pattern\":{\"shape\":\"\"}},\"name\":\"5.5M\",\"offsetgroup\":\"5.5M\",\"orientation\":\"v\",\"showlegend\":true,\"texttemplate\":\"%{value}\",\"x\":[\"United States\",\"Indonesia\",\"Indonesia\"],\"xaxis\":\"x\",\"yaxis\":\"y\",\"type\":\"histogram\"},{\"alignmentgroup\":\"True\",\"bingroup\":\"x\",\"hovertemplate\":\"Followers=8.2M<br>Audience Country=%{x}<br>count=%{y}<extra></extra>\",\"legendgroup\":\"8.2M\",\"marker\":{\"color\":\"#EF553B\",\"pattern\":{\"shape\":\"\"}},\"name\":\"8.2M\",\"offsetgroup\":\"8.2M\",\"orientation\":\"v\",\"showlegend\":true,\"texttemplate\":\"%{value}\",\"x\":[\"United States\",\"Brazil\",\"Indonesia\",\"United States\",\"Mexico\",\"India\"],\"xaxis\":\"x\",\"yaxis\":\"y\",\"type\":\"histogram\"},{\"alignmentgroup\":\"True\",\"bingroup\":\"x\",\"hovertemplate\":\"Followers=33.8M<br>Audience Country=%{x}<br>count=%{y}<extra></extra>\",\"legendgroup\":\"33.8M\",\"marker\":{\"color\":\"#00cc96\",\"pattern\":{\"shape\":\"\"}},\"name\":\"33.8M\",\"offsetgroup\":\"33.8M\",\"orientation\":\"v\",\"showlegend\":true,\"texttemplate\":\"%{value}\",\"x\":[\"United States\"],\"xaxis\":\"x\",\"yaxis\":\"y\",\"type\":\"histogram\"},{\"alignmentgroup\":\"True\",\"bingroup\":\"x\",\"hovertemplate\":\"Followers=14.7M<br>Audience Country=%{x}<br>count=%{y}<extra></extra>\",\"legendgroup\":\"14.7M\",\"marker\":{\"color\":\"#ab63fa\",\"pattern\":{\"shape\":\"\"}},\"name\":\"14.7M\",\"offsetgroup\":\"14.7M\",\"orientation\":\"v\",\"showlegend\":true,\"texttemplate\":\"%{value}\",\"x\":[\"Argentina\",\"Russia\"],\"xaxis\":\"x\",\"yaxis\":\"y\",\"type\":\"histogram\"},{\"alignmentgroup\":\"True\",\"bingroup\":\"x\",\"hovertemplate\":\"Followers=22.6M<br>Audience Country=%{x}<br>count=%{y}<extra></extra>\",\"legendgroup\":\"22.6M\",\"marker\":{\"color\":\"#FFA15A\",\"pattern\":{\"shape\":\"\"}},\"name\":\"22.6M\",\"offsetgroup\":\"22.6M\",\"orientation\":\"v\",\"showlegend\":true,\"texttemplate\":\"%{value}\",\"x\":[\"India\"],\"xaxis\":\"x\",\"yaxis\":\"y\",\"type\":\"histogram\"},{\"alignmentgroup\":\"True\",\"bingroup\":\"x\",\"hovertemplate\":\"Followers=26.8M<br>Audience Country=%{x}<br>count=%{y}<extra></extra>\",\"legendgroup\":\"26.8M\",\"marker\":{\"color\":\"#19d3f3\",\"pattern\":{\"shape\":\"\"}},\"name\":\"26.8M\",\"offsetgroup\":\"26.8M\",\"orientation\":\"v\",\"showlegend\":true,\"texttemplate\":\"%{value}\",\"x\":[\"Poland\"],\"xaxis\":\"x\",\"yaxis\":\"y\",\"type\":\"histogram\"},{\"alignmentgroup\":\"True\",\"bingroup\":\"x\",\"hovertemplate\":\"Followers=58.6M<br>Audience Country=%{x}<br>count=%{y}<extra></extra>\",\"legendgroup\":\"58.6M\",\"marker\":{\"color\":\"#FF6692\",\"pattern\":{\"shape\":\"\"}},\"name\":\"58.6M\",\"offsetgroup\":\"58.6M\",\"orientation\":\"v\",\"showlegend\":true,\"texttemplate\":\"%{value}\",\"x\":[\"Brazil\"],\"xaxis\":\"x\",\"yaxis\":\"y\",\"type\":\"histogram\"},{\"alignmentgroup\":\"True\",\"bingroup\":\"x\",\"hovertemplate\":\"Followers=4.8M<br>Audience Country=%{x}<br>count=%{y}<extra></extra>\",\"legendgroup\":\"4.8M\",\"marker\":{\"color\":\"#B6E880\",\"pattern\":{\"shape\":\"\"}},\"name\":\"4.8M\",\"offsetgroup\":\"4.8M\",\"orientation\":\"v\",\"showlegend\":true,\"texttemplate\":\"%{value}\",\"x\":[\"United States\",\"Indonesia\",\"Argentina\",\"United States\"],\"xaxis\":\"x\",\"yaxis\":\"y\",\"type\":\"histogram\"},{\"alignmentgroup\":\"True\",\"bingroup\":\"x\",\"hovertemplate\":\"Followers=8.4M<br>Audience Country=%{x}<br>count=%{y}<extra></extra>\",\"legendgroup\":\"8.4M\",\"marker\":{\"color\":\"#FF97FF\",\"pattern\":{\"shape\":\"\"}},\"name\":\"8.4M\",\"offsetgroup\":\"8.4M\",\"orientation\":\"v\",\"showlegend\":true,\"texttemplate\":\"%{value}\",\"x\":[\"Indonesia\",\"United States\",\"Brazil\",\"Italy\",\"India\"],\"xaxis\":\"x\",\"yaxis\":\"y\",\"type\":\"histogram\"},{\"alignmentgroup\":\"True\",\"bingroup\":\"x\",\"hovertemplate\":\"Followers=8.3M<br>Audience Country=%{x}<br>count=%{y}<extra></extra>\",\"legendgroup\":\"8.3M\",\"marker\":{\"color\":\"#FECB52\",\"pattern\":{\"shape\":\"\"}},\"name\":\"8.3M\",\"offsetgroup\":\"8.3M\",\"orientation\":\"v\",\"showlegend\":true,\"texttemplate\":\"%{value}\",\"x\":[\"Indonesia\",\"United States\"],\"xaxis\":\"x\",\"yaxis\":\"y\",\"type\":\"histogram\"},{\"alignmentgroup\":\"True\",\"bingroup\":\"x\",\"hovertemplate\":\"Followers=5.9M<br>Audience Country=%{x}<br>count=%{y}<extra></extra>\",\"legendgroup\":\"5.9M\",\"marker\":{\"color\":\"#636efa\",\"pattern\":{\"shape\":\"\"}},\"name\":\"5.9M\",\"offsetgroup\":\"5.9M\",\"orientation\":\"v\",\"showlegend\":true,\"texttemplate\":\"%{value}\",\"x\":[\"Indonesia\",\"Mexico\",null,\"India\"],\"xaxis\":\"x\",\"yaxis\":\"y\",\"type\":\"histogram\"},{\"alignmentgroup\":\"True\",\"bingroup\":\"x\",\"hovertemplate\":\"Followers=6.5M<br>Audience Country=%{x}<br>count=%{y}<extra></extra>\",\"legendgroup\":\"6.5M\",\"marker\":{\"color\":\"#EF553B\",\"pattern\":{\"shape\":\"\"}},\"name\":\"6.5M\",\"offsetgroup\":\"6.5M\",\"orientation\":\"v\",\"showlegend\":true,\"texttemplate\":\"%{value}\",\"x\":[\"United States\",\"Indonesia\",\"Iran\",\"United States\",\"Turkey\"],\"xaxis\":\"x\",\"yaxis\":\"y\",\"type\":\"histogram\"},{\"alignmentgroup\":\"True\",\"bingroup\":\"x\",\"hovertemplate\":\"Followers=12M<br>Audience Country=%{x}<br>count=%{y}<extra></extra>\",\"legendgroup\":\"12M\",\"marker\":{\"color\":\"#00cc96\",\"pattern\":{\"shape\":\"\"}},\"name\":\"12M\",\"offsetgroup\":\"12M\",\"orientation\":\"v\",\"showlegend\":true,\"texttemplate\":\"%{value}\",\"x\":[\"Mexico\",\"Iran\",\"Spain\"],\"xaxis\":\"x\",\"yaxis\":\"y\",\"type\":\"histogram\"},{\"alignmentgroup\":\"True\",\"bingroup\":\"x\",\"hovertemplate\":\"Followers=7.3M<br>Audience Country=%{x}<br>count=%{y}<extra></extra>\",\"legendgroup\":\"7.3M\",\"marker\":{\"color\":\"#ab63fa\",\"pattern\":{\"shape\":\"\"}},\"name\":\"7.3M\",\"offsetgroup\":\"7.3M\",\"orientation\":\"v\",\"showlegend\":true,\"texttemplate\":\"%{value}\",\"x\":[\"Brazil\",\"Indonesia\",\"United States\",\"Indonesia\",\"United States\",\"Brazil\",\"Russia\",\"United States\",\"United States\",\"South Korea\",\"Iran\",\"United States\",\"United States\",\"Indonesia\"],\"xaxis\":\"x\",\"yaxis\":\"y\",\"type\":\"histogram\"},{\"alignmentgroup\":\"True\",\"bingroup\":\"x\",\"hovertemplate\":\"Followers=10.5M<br>Audience Country=%{x}<br>count=%{y}<extra></extra>\",\"legendgroup\":\"10.5M\",\"marker\":{\"color\":\"#FFA15A\",\"pattern\":{\"shape\":\"\"}},\"name\":\"10.5M\",\"offsetgroup\":\"10.5M\",\"orientation\":\"v\",\"showlegend\":true,\"texttemplate\":\"%{value}\",\"x\":[\"Indonesia\",\"United States\"],\"xaxis\":\"x\",\"yaxis\":\"y\",\"type\":\"histogram\"},{\"alignmentgroup\":\"True\",\"bingroup\":\"x\",\"hovertemplate\":\"Followers=12.8M<br>Audience Country=%{x}<br>count=%{y}<extra></extra>\",\"legendgroup\":\"12.8M\",\"marker\":{\"color\":\"#19d3f3\",\"pattern\":{\"shape\":\"\"}},\"name\":\"12.8M\",\"offsetgroup\":\"12.8M\",\"orientation\":\"v\",\"showlegend\":true,\"texttemplate\":\"%{value}\",\"x\":[\"Thailand\",\"Brazil\",\"Brazil\",\"United Kingdom\",\"United States\"],\"xaxis\":\"x\",\"yaxis\":\"y\",\"type\":\"histogram\"},{\"alignmentgroup\":\"True\",\"bingroup\":\"x\",\"hovertemplate\":\"Followers=16.9M<br>Audience Country=%{x}<br>count=%{y}<extra></extra>\",\"legendgroup\":\"16.9M\",\"marker\":{\"color\":\"#FF6692\",\"pattern\":{\"shape\":\"\"}},\"name\":\"16.9M\",\"offsetgroup\":\"16.9M\",\"orientation\":\"v\",\"showlegend\":true,\"texttemplate\":\"%{value}\",\"x\":[\"Indonesia\",\"United States\",\"Thailand\",\"United States\"],\"xaxis\":\"x\",\"yaxis\":\"y\",\"type\":\"histogram\"},{\"alignmentgroup\":\"True\",\"bingroup\":\"x\",\"hovertemplate\":\"Followers=18.4M<br>Audience Country=%{x}<br>count=%{y}<extra></extra>\",\"legendgroup\":\"18.4M\",\"marker\":{\"color\":\"#B6E880\",\"pattern\":{\"shape\":\"\"}},\"name\":\"18.4M\",\"offsetgroup\":\"18.4M\",\"orientation\":\"v\",\"showlegend\":true,\"texttemplate\":\"%{value}\",\"x\":[\"United States\",\"India\",\"Indonesia\",\"Russia\",\"Italy\"],\"xaxis\":\"x\",\"yaxis\":\"y\",\"type\":\"histogram\"},{\"alignmentgroup\":\"True\",\"bingroup\":\"x\",\"hovertemplate\":\"Followers=17.3M<br>Audience Country=%{x}<br>count=%{y}<extra></extra>\",\"legendgroup\":\"17.3M\",\"marker\":{\"color\":\"#FF97FF\",\"pattern\":{\"shape\":\"\"}},\"name\":\"17.3M\",\"offsetgroup\":\"17.3M\",\"orientation\":\"v\",\"showlegend\":true,\"texttemplate\":\"%{value}\",\"x\":[\"Philippines\",\"Philippines\"],\"xaxis\":\"x\",\"yaxis\":\"y\",\"type\":\"histogram\"},{\"alignmentgroup\":\"True\",\"bingroup\":\"x\",\"hovertemplate\":\"Followers=14.8M<br>Audience Country=%{x}<br>count=%{y}<extra></extra>\",\"legendgroup\":\"14.8M\",\"marker\":{\"color\":\"#FECB52\",\"pattern\":{\"shape\":\"\"}},\"name\":\"14.8M\",\"offsetgroup\":\"14.8M\",\"orientation\":\"v\",\"showlegend\":true,\"texttemplate\":\"%{value}\",\"x\":[\"India\",\"Mexico\"],\"xaxis\":\"x\",\"yaxis\":\"y\",\"type\":\"histogram\"},{\"alignmentgroup\":\"True\",\"bingroup\":\"x\",\"hovertemplate\":\"Followers=5.3M<br>Audience Country=%{x}<br>count=%{y}<extra></extra>\",\"legendgroup\":\"5.3M\",\"marker\":{\"color\":\"#636efa\",\"pattern\":{\"shape\":\"\"}},\"name\":\"5.3M\",\"offsetgroup\":\"5.3M\",\"orientation\":\"v\",\"showlegend\":true,\"texttemplate\":\"%{value}\",\"x\":[\"United States\",\"Indonesia\"],\"xaxis\":\"x\",\"yaxis\":\"y\",\"type\":\"histogram\"},{\"alignmentgroup\":\"True\",\"bingroup\":\"x\",\"hovertemplate\":\"Followers=22.9M<br>Audience Country=%{x}<br>count=%{y}<extra></extra>\",\"legendgroup\":\"22.9M\",\"marker\":{\"color\":\"#EF553B\",\"pattern\":{\"shape\":\"\"}},\"name\":\"22.9M\",\"offsetgroup\":\"22.9M\",\"orientation\":\"v\",\"showlegend\":true,\"texttemplate\":\"%{value}\",\"x\":[\"United States\"],\"xaxis\":\"x\",\"yaxis\":\"y\",\"type\":\"histogram\"},{\"alignmentgroup\":\"True\",\"bingroup\":\"x\",\"hovertemplate\":\"Followers=22.4M<br>Audience Country=%{x}<br>count=%{y}<extra></extra>\",\"legendgroup\":\"22.4M\",\"marker\":{\"color\":\"#00cc96\",\"pattern\":{\"shape\":\"\"}},\"name\":\"22.4M\",\"offsetgroup\":\"22.4M\",\"orientation\":\"v\",\"showlegend\":true,\"texttemplate\":\"%{value}\",\"x\":[\"United States\",\"Brazil\",\"United States\"],\"xaxis\":\"x\",\"yaxis\":\"y\",\"type\":\"histogram\"},{\"alignmentgroup\":\"True\",\"bingroup\":\"x\",\"hovertemplate\":\"Followers=40.1M<br>Audience Country=%{x}<br>count=%{y}<extra></extra>\",\"legendgroup\":\"40.1M\",\"marker\":{\"color\":\"#ab63fa\",\"pattern\":{\"shape\":\"\"}},\"name\":\"40.1M\",\"offsetgroup\":\"40.1M\",\"orientation\":\"v\",\"showlegend\":true,\"texttemplate\":\"%{value}\",\"x\":[\"India\"],\"xaxis\":\"x\",\"yaxis\":\"y\",\"type\":\"histogram\"},{\"alignmentgroup\":\"True\",\"bingroup\":\"x\",\"hovertemplate\":\"Followers=9.9M<br>Audience Country=%{x}<br>count=%{y}<extra></extra>\",\"legendgroup\":\"9.9M\",\"marker\":{\"color\":\"#FFA15A\",\"pattern\":{\"shape\":\"\"}},\"name\":\"9.9M\",\"offsetgroup\":\"9.9M\",\"orientation\":\"v\",\"showlegend\":true,\"texttemplate\":\"%{value}\",\"x\":[\"Indonesia\",\"Morocco\",\"Brazil\",\"Brazil\",\"Japan\",\"Brazil\",\"Brazil\"],\"xaxis\":\"x\",\"yaxis\":\"y\",\"type\":\"histogram\"},{\"alignmentgroup\":\"True\",\"bingroup\":\"x\",\"hovertemplate\":\"Followers=11.6M<br>Audience Country=%{x}<br>count=%{y}<extra></extra>\",\"legendgroup\":\"11.6M\",\"marker\":{\"color\":\"#19d3f3\",\"pattern\":{\"shape\":\"\"}},\"name\":\"11.6M\",\"offsetgroup\":\"11.6M\",\"orientation\":\"v\",\"showlegend\":true,\"texttemplate\":\"%{value}\",\"x\":[\"United Kingdom\",\"United Kingdom\",\"India\",\"Russia\",\"India\",\"United States\",\"Iran\",\"United States\"],\"xaxis\":\"x\",\"yaxis\":\"y\",\"type\":\"histogram\"},{\"alignmentgroup\":\"True\",\"bingroup\":\"x\",\"hovertemplate\":\"Followers=18M<br>Audience Country=%{x}<br>count=%{y}<extra></extra>\",\"legendgroup\":\"18M\",\"marker\":{\"color\":\"#FF6692\",\"pattern\":{\"shape\":\"\"}},\"name\":\"18M\",\"offsetgroup\":\"18M\",\"orientation\":\"v\",\"showlegend\":true,\"texttemplate\":\"%{value}\",\"x\":[\"United Kingdom\"],\"xaxis\":\"x\",\"yaxis\":\"y\",\"type\":\"histogram\"},{\"alignmentgroup\":\"True\",\"bingroup\":\"x\",\"hovertemplate\":\"Followers=65.4M<br>Audience Country=%{x}<br>count=%{y}<extra></extra>\",\"legendgroup\":\"65.4M\",\"marker\":{\"color\":\"#B6E880\",\"pattern\":{\"shape\":\"\"}},\"name\":\"65.4M\",\"offsetgroup\":\"65.4M\",\"orientation\":\"v\",\"showlegend\":true,\"texttemplate\":\"%{value}\",\"x\":[\"United States\"],\"xaxis\":\"x\",\"yaxis\":\"y\",\"type\":\"histogram\"},{\"alignmentgroup\":\"True\",\"bingroup\":\"x\",\"hovertemplate\":\"Followers=11M<br>Audience Country=%{x}<br>count=%{y}<extra></extra>\",\"legendgroup\":\"11M\",\"marker\":{\"color\":\"#FF97FF\",\"pattern\":{\"shape\":\"\"}},\"name\":\"11M\",\"offsetgroup\":\"11M\",\"orientation\":\"v\",\"showlegend\":true,\"texttemplate\":\"%{value}\",\"x\":[\"Mexico\",\"Russia\",\"India\"],\"xaxis\":\"x\",\"yaxis\":\"y\",\"type\":\"histogram\"},{\"alignmentgroup\":\"True\",\"bingroup\":\"x\",\"hovertemplate\":\"Followers=17.2M<br>Audience Country=%{x}<br>count=%{y}<extra></extra>\",\"legendgroup\":\"17.2M\",\"marker\":{\"color\":\"#FECB52\",\"pattern\":{\"shape\":\"\"}},\"name\":\"17.2M\",\"offsetgroup\":\"17.2M\",\"orientation\":\"v\",\"showlegend\":true,\"texttemplate\":\"%{value}\",\"x\":[\"Indonesia\",\"Mexico\",\"India\",\"India\"],\"xaxis\":\"x\",\"yaxis\":\"y\",\"type\":\"histogram\"},{\"alignmentgroup\":\"True\",\"bingroup\":\"x\",\"hovertemplate\":\"Followers=52.8M<br>Audience Country=%{x}<br>count=%{y}<extra></extra>\",\"legendgroup\":\"52.8M\",\"marker\":{\"color\":\"#636efa\",\"pattern\":{\"shape\":\"\"}},\"name\":\"52.8M\",\"offsetgroup\":\"52.8M\",\"orientation\":\"v\",\"showlegend\":true,\"texttemplate\":\"%{value}\",\"x\":[\"Mexico\"],\"xaxis\":\"x\",\"yaxis\":\"y\",\"type\":\"histogram\"},{\"alignmentgroup\":\"True\",\"bingroup\":\"x\",\"hovertemplate\":\"Followers=59M<br>Audience Country=%{x}<br>count=%{y}<extra></extra>\",\"legendgroup\":\"59M\",\"marker\":{\"color\":\"#EF553B\",\"pattern\":{\"shape\":\"\"}},\"name\":\"59M\",\"offsetgroup\":\"59M\",\"orientation\":\"v\",\"showlegend\":true,\"texttemplate\":\"%{value}\",\"x\":[\"United Kingdom\"],\"xaxis\":\"x\",\"yaxis\":\"y\",\"type\":\"histogram\"},{\"alignmentgroup\":\"True\",\"bingroup\":\"x\",\"hovertemplate\":\"Followers=20.2M<br>Audience Country=%{x}<br>count=%{y}<extra></extra>\",\"legendgroup\":\"20.2M\",\"marker\":{\"color\":\"#00cc96\",\"pattern\":{\"shape\":\"\"}},\"name\":\"20.2M\",\"offsetgroup\":\"20.2M\",\"orientation\":\"v\",\"showlegend\":true,\"texttemplate\":\"%{value}\",\"x\":[\"United States\",\"Brazil\"],\"xaxis\":\"x\",\"yaxis\":\"y\",\"type\":\"histogram\"},{\"alignmentgroup\":\"True\",\"bingroup\":\"x\",\"hovertemplate\":\"Followers=10.1M<br>Audience Country=%{x}<br>count=%{y}<extra></extra>\",\"legendgroup\":\"10.1M\",\"marker\":{\"color\":\"#ab63fa\",\"pattern\":{\"shape\":\"\"}},\"name\":\"10.1M\",\"offsetgroup\":\"10.1M\",\"orientation\":\"v\",\"showlegend\":true,\"texttemplate\":\"%{value}\",\"x\":[\"South Korea\",\"Argentina\",\"Spain\",\"Iraq\",\"India\",\"United States\"],\"xaxis\":\"x\",\"yaxis\":\"y\",\"type\":\"histogram\"},{\"alignmentgroup\":\"True\",\"bingroup\":\"x\",\"hovertemplate\":\"Followers=25M<br>Audience Country=%{x}<br>count=%{y}<extra></extra>\",\"legendgroup\":\"25M\",\"marker\":{\"color\":\"#FFA15A\",\"pattern\":{\"shape\":\"\"}},\"name\":\"25M\",\"offsetgroup\":\"25M\",\"orientation\":\"v\",\"showlegend\":true,\"texttemplate\":\"%{value}\",\"x\":[\"United States\",\"Brazil\"],\"xaxis\":\"x\",\"yaxis\":\"y\",\"type\":\"histogram\"},{\"alignmentgroup\":\"True\",\"bingroup\":\"x\",\"hovertemplate\":\"Followers=32M<br>Audience Country=%{x}<br>count=%{y}<extra></extra>\",\"legendgroup\":\"32M\",\"marker\":{\"color\":\"#19d3f3\",\"pattern\":{\"shape\":\"\"}},\"name\":\"32M\",\"offsetgroup\":\"32M\",\"orientation\":\"v\",\"showlegend\":true,\"texttemplate\":\"%{value}\",\"x\":[\"India\"],\"xaxis\":\"x\",\"yaxis\":\"y\",\"type\":\"histogram\"},{\"alignmentgroup\":\"True\",\"bingroup\":\"x\",\"hovertemplate\":\"Followers=13.4M<br>Audience Country=%{x}<br>count=%{y}<extra></extra>\",\"legendgroup\":\"13.4M\",\"marker\":{\"color\":\"#FF6692\",\"pattern\":{\"shape\":\"\"}},\"name\":\"13.4M\",\"offsetgroup\":\"13.4M\",\"orientation\":\"v\",\"showlegend\":true,\"texttemplate\":\"%{value}\",\"x\":[\"India\",\"Iran\",\"Indonesia\",\"Mexico\",\"Mexico\",\"United States\"],\"xaxis\":\"x\",\"yaxis\":\"y\",\"type\":\"histogram\"},{\"alignmentgroup\":\"True\",\"bingroup\":\"x\",\"hovertemplate\":\"Followers=7.8M<br>Audience Country=%{x}<br>count=%{y}<extra></extra>\",\"legendgroup\":\"7.8M\",\"marker\":{\"color\":\"#B6E880\",\"pattern\":{\"shape\":\"\"}},\"name\":\"7.8M\",\"offsetgroup\":\"7.8M\",\"orientation\":\"v\",\"showlegend\":true,\"texttemplate\":\"%{value}\",\"x\":[\"Spain\",\"Brazil\"],\"xaxis\":\"x\",\"yaxis\":\"y\",\"type\":\"histogram\"},{\"alignmentgroup\":\"True\",\"bingroup\":\"x\",\"hovertemplate\":\"Followers=50.3M<br>Audience Country=%{x}<br>count=%{y}<extra></extra>\",\"legendgroup\":\"50.3M\",\"marker\":{\"color\":\"#FF97FF\",\"pattern\":{\"shape\":\"\"}},\"name\":\"50.3M\",\"offsetgroup\":\"50.3M\",\"orientation\":\"v\",\"showlegend\":true,\"texttemplate\":\"%{value}\",\"x\":[\"United States\"],\"xaxis\":\"x\",\"yaxis\":\"y\",\"type\":\"histogram\"},{\"alignmentgroup\":\"True\",\"bingroup\":\"x\",\"hovertemplate\":\"Followers=23.9M<br>Audience Country=%{x}<br>count=%{y}<extra></extra>\",\"legendgroup\":\"23.9M\",\"marker\":{\"color\":\"#FECB52\",\"pattern\":{\"shape\":\"\"}},\"name\":\"23.9M\",\"offsetgroup\":\"23.9M\",\"orientation\":\"v\",\"showlegend\":true,\"texttemplate\":\"%{value}\",\"x\":[\"Indonesia\",\"India\"],\"xaxis\":\"x\",\"yaxis\":\"y\",\"type\":\"histogram\"},{\"alignmentgroup\":\"True\",\"bingroup\":\"x\",\"hovertemplate\":\"Followers=19.5M<br>Audience Country=%{x}<br>count=%{y}<extra></extra>\",\"legendgroup\":\"19.5M\",\"marker\":{\"color\":\"#636efa\",\"pattern\":{\"shape\":\"\"}},\"name\":\"19.5M\",\"offsetgroup\":\"19.5M\",\"orientation\":\"v\",\"showlegend\":true,\"texttemplate\":\"%{value}\",\"x\":[\"Iran\"],\"xaxis\":\"x\",\"yaxis\":\"y\",\"type\":\"histogram\"},{\"alignmentgroup\":\"True\",\"bingroup\":\"x\",\"hovertemplate\":\"Followers=12.2M<br>Audience Country=%{x}<br>count=%{y}<extra></extra>\",\"legendgroup\":\"12.2M\",\"marker\":{\"color\":\"#EF553B\",\"pattern\":{\"shape\":\"\"}},\"name\":\"12.2M\",\"offsetgroup\":\"12.2M\",\"orientation\":\"v\",\"showlegend\":true,\"texttemplate\":\"%{value}\",\"x\":[\"Argentina\",\"India\",\"India\",\"Iran\",\"United States\",\"India\",\"India\"],\"xaxis\":\"x\",\"yaxis\":\"y\",\"type\":\"histogram\"},{\"alignmentgroup\":\"True\",\"bingroup\":\"x\",\"hovertemplate\":\"Followers=19.9M<br>Audience Country=%{x}<br>count=%{y}<extra></extra>\",\"legendgroup\":\"19.9M\",\"marker\":{\"color\":\"#00cc96\",\"pattern\":{\"shape\":\"\"}},\"name\":\"19.9M\",\"offsetgroup\":\"19.9M\",\"orientation\":\"v\",\"showlegend\":true,\"texttemplate\":\"%{value}\",\"x\":[\"United States\",\"India\",\"United States\",\"United States\",\"Italy\"],\"xaxis\":\"x\",\"yaxis\":\"y\",\"type\":\"histogram\"},{\"alignmentgroup\":\"True\",\"bingroup\":\"x\",\"hovertemplate\":\"Followers=38.9M<br>Audience Country=%{x}<br>count=%{y}<extra></extra>\",\"legendgroup\":\"38.9M\",\"marker\":{\"color\":\"#ab63fa\",\"pattern\":{\"shape\":\"\"}},\"name\":\"38.9M\",\"offsetgroup\":\"38.9M\",\"orientation\":\"v\",\"showlegend\":true,\"texttemplate\":\"%{value}\",\"x\":[\"Indonesia\"],\"xaxis\":\"x\",\"yaxis\":\"y\",\"type\":\"histogram\"},{\"alignmentgroup\":\"True\",\"bingroup\":\"x\",\"hovertemplate\":\"Followers=19.4M<br>Audience Country=%{x}<br>count=%{y}<extra></extra>\",\"legendgroup\":\"19.4M\",\"marker\":{\"color\":\"#FFA15A\",\"pattern\":{\"shape\":\"\"}},\"name\":\"19.4M\",\"offsetgroup\":\"19.4M\",\"orientation\":\"v\",\"showlegend\":true,\"texttemplate\":\"%{value}\",\"x\":[\"Egypt\",\"Brazil\"],\"xaxis\":\"x\",\"yaxis\":\"y\",\"type\":\"histogram\"},{\"alignmentgroup\":\"True\",\"bingroup\":\"x\",\"hovertemplate\":\"Followers=148.8M<br>Audience Country=%{x}<br>count=%{y}<extra></extra>\",\"legendgroup\":\"148.8M\",\"marker\":{\"color\":\"#19d3f3\",\"pattern\":{\"shape\":\"\"}},\"name\":\"148.8M\",\"offsetgroup\":\"148.8M\",\"orientation\":\"v\",\"showlegend\":true,\"texttemplate\":\"%{value}\",\"x\":[\"United States\"],\"xaxis\":\"x\",\"yaxis\":\"y\",\"type\":\"histogram\"},{\"alignmentgroup\":\"True\",\"bingroup\":\"x\",\"hovertemplate\":\"Followers=26.5M<br>Audience Country=%{x}<br>count=%{y}<extra></extra>\",\"legendgroup\":\"26.5M\",\"marker\":{\"color\":\"#FF6692\",\"pattern\":{\"shape\":\"\"}},\"name\":\"26.5M\",\"offsetgroup\":\"26.5M\",\"orientation\":\"v\",\"showlegend\":true,\"texttemplate\":\"%{value}\",\"x\":[\"United States\"],\"xaxis\":\"x\",\"yaxis\":\"y\",\"type\":\"histogram\"},{\"alignmentgroup\":\"True\",\"bingroup\":\"x\",\"hovertemplate\":\"Followers=43.1M<br>Audience Country=%{x}<br>count=%{y}<extra></extra>\",\"legendgroup\":\"43.1M\",\"marker\":{\"color\":\"#B6E880\",\"pattern\":{\"shape\":\"\"}},\"name\":\"43.1M\",\"offsetgroup\":\"43.1M\",\"orientation\":\"v\",\"showlegend\":true,\"texttemplate\":\"%{value}\",\"x\":[\"Brazil\"],\"xaxis\":\"x\",\"yaxis\":\"y\",\"type\":\"histogram\"},{\"alignmentgroup\":\"True\",\"bingroup\":\"x\",\"hovertemplate\":\"Followers=27.7M<br>Audience Country=%{x}<br>count=%{y}<extra></extra>\",\"legendgroup\":\"27.7M\",\"marker\":{\"color\":\"#FF97FF\",\"pattern\":{\"shape\":\"\"}},\"name\":\"27.7M\",\"offsetgroup\":\"27.7M\",\"orientation\":\"v\",\"showlegend\":true,\"texttemplate\":\"%{value}\",\"x\":[\"Brazil\"],\"xaxis\":\"x\",\"yaxis\":\"y\",\"type\":\"histogram\"},{\"alignmentgroup\":\"True\",\"bingroup\":\"x\",\"hovertemplate\":\"Followers=27.5M<br>Audience Country=%{x}<br>count=%{y}<extra></extra>\",\"legendgroup\":\"27.5M\",\"marker\":{\"color\":\"#FECB52\",\"pattern\":{\"shape\":\"\"}},\"name\":\"27.5M\",\"offsetgroup\":\"27.5M\",\"orientation\":\"v\",\"showlegend\":true,\"texttemplate\":\"%{value}\",\"x\":[\"Argentina\",\"Italy\"],\"xaxis\":\"x\",\"yaxis\":\"y\",\"type\":\"histogram\"},{\"alignmentgroup\":\"True\",\"bingroup\":\"x\",\"hovertemplate\":\"Followers=8.1M<br>Audience Country=%{x}<br>count=%{y}<extra></extra>\",\"legendgroup\":\"8.1M\",\"marker\":{\"color\":\"#636efa\",\"pattern\":{\"shape\":\"\"}},\"name\":\"8.1M\",\"offsetgroup\":\"8.1M\",\"orientation\":\"v\",\"showlegend\":true,\"texttemplate\":\"%{value}\",\"x\":[\"India\",\"Brazil\",\"Brazil\",\"Iran\",\"Mexico\",\"United States\",\"United States\",\"Indonesia\",\"Indonesia\"],\"xaxis\":\"x\",\"yaxis\":\"y\",\"type\":\"histogram\"},{\"alignmentgroup\":\"True\",\"bingroup\":\"x\",\"hovertemplate\":\"Followers=4.9M<br>Audience Country=%{x}<br>count=%{y}<extra></extra>\",\"legendgroup\":\"4.9M\",\"marker\":{\"color\":\"#EF553B\",\"pattern\":{\"shape\":\"\"}},\"name\":\"4.9M\",\"offsetgroup\":\"4.9M\",\"orientation\":\"v\",\"showlegend\":true,\"texttemplate\":\"%{value}\",\"x\":[\"Indonesia\",\"South Korea\",\"India\",\"Indonesia\",\"United States\"],\"xaxis\":\"x\",\"yaxis\":\"y\",\"type\":\"histogram\"},{\"alignmentgroup\":\"True\",\"bingroup\":\"x\",\"hovertemplate\":\"Followers=18.1M<br>Audience Country=%{x}<br>count=%{y}<extra></extra>\",\"legendgroup\":\"18.1M\",\"marker\":{\"color\":\"#00cc96\",\"pattern\":{\"shape\":\"\"}},\"name\":\"18.1M\",\"offsetgroup\":\"18.1M\",\"orientation\":\"v\",\"showlegend\":true,\"texttemplate\":\"%{value}\",\"x\":[\"South Korea\",\"United States\",\"Brazil\"],\"xaxis\":\"x\",\"yaxis\":\"y\",\"type\":\"histogram\"},{\"alignmentgroup\":\"True\",\"bingroup\":\"x\",\"hovertemplate\":\"Followers=13.9M<br>Audience Country=%{x}<br>count=%{y}<extra></extra>\",\"legendgroup\":\"13.9M\",\"marker\":{\"color\":\"#ab63fa\",\"pattern\":{\"shape\":\"\"}},\"name\":\"13.9M\",\"offsetgroup\":\"13.9M\",\"orientation\":\"v\",\"showlegend\":true,\"texttemplate\":\"%{value}\",\"x\":[\"United States\",\"Brazil\",\"Brazil\",\"Italy\",\"United States\",\"Indonesia\",\"United States\",\"United States\"],\"xaxis\":\"x\",\"yaxis\":\"y\",\"type\":\"histogram\"},{\"alignmentgroup\":\"True\",\"bingroup\":\"x\",\"hovertemplate\":\"Followers=58.2M<br>Audience Country=%{x}<br>count=%{y}<extra></extra>\",\"legendgroup\":\"58.2M\",\"marker\":{\"color\":\"#FFA15A\",\"pattern\":{\"shape\":\"\"}},\"name\":\"58.2M\",\"offsetgroup\":\"58.2M\",\"orientation\":\"v\",\"showlegend\":true,\"texttemplate\":\"%{value}\",\"x\":[\"Indonesia\"],\"xaxis\":\"x\",\"yaxis\":\"y\",\"type\":\"histogram\"},{\"alignmentgroup\":\"True\",\"bingroup\":\"x\",\"hovertemplate\":\"Followers=5.1M<br>Audience Country=%{x}<br>count=%{y}<extra></extra>\",\"legendgroup\":\"5.1M\",\"marker\":{\"color\":\"#19d3f3\",\"pattern\":{\"shape\":\"\"}},\"name\":\"5.1M\",\"offsetgroup\":\"5.1M\",\"orientation\":\"v\",\"showlegend\":true,\"texttemplate\":\"%{value}\",\"x\":[\"Indonesia\",\"Argentina\",\"India\",\"United States\"],\"xaxis\":\"x\",\"yaxis\":\"y\",\"type\":\"histogram\"},{\"alignmentgroup\":\"True\",\"bingroup\":\"x\",\"hovertemplate\":\"Followers=7.9M<br>Audience Country=%{x}<br>count=%{y}<extra></extra>\",\"legendgroup\":\"7.9M\",\"marker\":{\"color\":\"#FF6692\",\"pattern\":{\"shape\":\"\"}},\"name\":\"7.9M\",\"offsetgroup\":\"7.9M\",\"orientation\":\"v\",\"showlegend\":true,\"texttemplate\":\"%{value}\",\"x\":[\"United States\",\"Brazil\",\"Argentina\",\"France\",\"Brazil\",\"United States\"],\"xaxis\":\"x\",\"yaxis\":\"y\",\"type\":\"histogram\"},{\"alignmentgroup\":\"True\",\"bingroup\":\"x\",\"hovertemplate\":\"Followers=13.2M<br>Audience Country=%{x}<br>count=%{y}<extra></extra>\",\"legendgroup\":\"13.2M\",\"marker\":{\"color\":\"#B6E880\",\"pattern\":{\"shape\":\"\"}},\"name\":\"13.2M\",\"offsetgroup\":\"13.2M\",\"orientation\":\"v\",\"showlegend\":true,\"texttemplate\":\"%{value}\",\"x\":[\"United States\",\"Turkey\",\"Brazil\",\"Brazil\",\"United States\"],\"xaxis\":\"x\",\"yaxis\":\"y\",\"type\":\"histogram\"},{\"alignmentgroup\":\"True\",\"bingroup\":\"x\",\"hovertemplate\":\"Followers=6.2M<br>Audience Country=%{x}<br>count=%{y}<extra></extra>\",\"legendgroup\":\"6.2M\",\"marker\":{\"color\":\"#FF97FF\",\"pattern\":{\"shape\":\"\"}},\"name\":\"6.2M\",\"offsetgroup\":\"6.2M\",\"orientation\":\"v\",\"showlegend\":true,\"texttemplate\":\"%{value}\",\"x\":[\"United States\",\"United States\",\"India\"],\"xaxis\":\"x\",\"yaxis\":\"y\",\"type\":\"histogram\"},{\"alignmentgroup\":\"True\",\"bingroup\":\"x\",\"hovertemplate\":\"Followers=13.3M<br>Audience Country=%{x}<br>count=%{y}<extra></extra>\",\"legendgroup\":\"13.3M\",\"marker\":{\"color\":\"#FECB52\",\"pattern\":{\"shape\":\"\"}},\"name\":\"13.3M\",\"offsetgroup\":\"13.3M\",\"orientation\":\"v\",\"showlegend\":true,\"texttemplate\":\"%{value}\",\"x\":[\"Indonesia\",\"United States\"],\"xaxis\":\"x\",\"yaxis\":\"y\",\"type\":\"histogram\"},{\"alignmentgroup\":\"True\",\"bingroup\":\"x\",\"hovertemplate\":\"Followers=34.8M<br>Audience Country=%{x}<br>count=%{y}<extra></extra>\",\"legendgroup\":\"34.8M\",\"marker\":{\"color\":\"#636efa\",\"pattern\":{\"shape\":\"\"}},\"name\":\"34.8M\",\"offsetgroup\":\"34.8M\",\"orientation\":\"v\",\"showlegend\":true,\"texttemplate\":\"%{value}\",\"x\":[\"Brazil\",\"Indonesia\"],\"xaxis\":\"x\",\"yaxis\":\"y\",\"type\":\"histogram\"},{\"alignmentgroup\":\"True\",\"bingroup\":\"x\",\"hovertemplate\":\"Followers=33.7M<br>Audience Country=%{x}<br>count=%{y}<extra></extra>\",\"legendgroup\":\"33.7M\",\"marker\":{\"color\":\"#EF553B\",\"pattern\":{\"shape\":\"\"}},\"name\":\"33.7M\",\"offsetgroup\":\"33.7M\",\"orientation\":\"v\",\"showlegend\":true,\"texttemplate\":\"%{value}\",\"x\":[\"Brazil\"],\"xaxis\":\"x\",\"yaxis\":\"y\",\"type\":\"histogram\"},{\"alignmentgroup\":\"True\",\"bingroup\":\"x\",\"hovertemplate\":\"Followers=16.2M<br>Audience Country=%{x}<br>count=%{y}<extra></extra>\",\"legendgroup\":\"16.2M\",\"marker\":{\"color\":\"#00cc96\",\"pattern\":{\"shape\":\"\"}},\"name\":\"16.2M\",\"offsetgroup\":\"16.2M\",\"orientation\":\"v\",\"showlegend\":true,\"texttemplate\":\"%{value}\",\"x\":[\"United States\",\"India\"],\"xaxis\":\"x\",\"yaxis\":\"y\",\"type\":\"histogram\"},{\"alignmentgroup\":\"True\",\"bingroup\":\"x\",\"hovertemplate\":\"Followers=6.4M<br>Audience Country=%{x}<br>count=%{y}<extra></extra>\",\"legendgroup\":\"6.4M\",\"marker\":{\"color\":\"#ab63fa\",\"pattern\":{\"shape\":\"\"}},\"name\":\"6.4M\",\"offsetgroup\":\"6.4M\",\"orientation\":\"v\",\"showlegend\":true,\"texttemplate\":\"%{value}\",\"x\":[\"Indonesia\",\"Brazil\",\"Mexico\"],\"xaxis\":\"x\",\"yaxis\":\"y\",\"type\":\"histogram\"},{\"alignmentgroup\":\"True\",\"bingroup\":\"x\",\"hovertemplate\":\"Followers=19.6M<br>Audience Country=%{x}<br>count=%{y}<extra></extra>\",\"legendgroup\":\"19.6M\",\"marker\":{\"color\":\"#FFA15A\",\"pattern\":{\"shape\":\"\"}},\"name\":\"19.6M\",\"offsetgroup\":\"19.6M\",\"orientation\":\"v\",\"showlegend\":true,\"texttemplate\":\"%{value}\",\"x\":[\"United States\"],\"xaxis\":\"x\",\"yaxis\":\"y\",\"type\":\"histogram\"},{\"alignmentgroup\":\"True\",\"bingroup\":\"x\",\"hovertemplate\":\"Followers=6.7M<br>Audience Country=%{x}<br>count=%{y}<extra></extra>\",\"legendgroup\":\"6.7M\",\"marker\":{\"color\":\"#19d3f3\",\"pattern\":{\"shape\":\"\"}},\"name\":\"6.7M\",\"offsetgroup\":\"6.7M\",\"orientation\":\"v\",\"showlegend\":true,\"texttemplate\":\"%{value}\",\"x\":[\"Indonesia\",\"United States\",\"United States\",\"United States\",\"United States\"],\"xaxis\":\"x\",\"yaxis\":\"y\",\"type\":\"histogram\"},{\"alignmentgroup\":\"True\",\"bingroup\":\"x\",\"hovertemplate\":\"Followers=5.4M<br>Audience Country=%{x}<br>count=%{y}<extra></extra>\",\"legendgroup\":\"5.4M\",\"marker\":{\"color\":\"#FF6692\",\"pattern\":{\"shape\":\"\"}},\"name\":\"5.4M\",\"offsetgroup\":\"5.4M\",\"orientation\":\"v\",\"showlegend\":true,\"texttemplate\":\"%{value}\",\"x\":[\"Indonesia\",\"Mexico\",\"United States\",\"United States\",\"United States\",\"Indonesia\"],\"xaxis\":\"x\",\"yaxis\":\"y\",\"type\":\"histogram\"},{\"alignmentgroup\":\"True\",\"bingroup\":\"x\",\"hovertemplate\":\"Followers=16.4M<br>Audience Country=%{x}<br>count=%{y}<extra></extra>\",\"legendgroup\":\"16.4M\",\"marker\":{\"color\":\"#B6E880\",\"pattern\":{\"shape\":\"\"}},\"name\":\"16.4M\",\"offsetgroup\":\"16.4M\",\"orientation\":\"v\",\"showlegend\":true,\"texttemplate\":\"%{value}\",\"x\":[\"United States\",\"United States\"],\"xaxis\":\"x\",\"yaxis\":\"y\",\"type\":\"histogram\"},{\"alignmentgroup\":\"True\",\"bingroup\":\"x\",\"hovertemplate\":\"Followers=46.4M<br>Audience Country=%{x}<br>count=%{y}<extra></extra>\",\"legendgroup\":\"46.4M\",\"marker\":{\"color\":\"#FF97FF\",\"pattern\":{\"shape\":\"\"}},\"name\":\"46.4M\",\"offsetgroup\":\"46.4M\",\"orientation\":\"v\",\"showlegend\":true,\"texttemplate\":\"%{value}\",\"x\":[\"United States\"],\"xaxis\":\"x\",\"yaxis\":\"y\",\"type\":\"histogram\"},{\"alignmentgroup\":\"True\",\"bingroup\":\"x\",\"hovertemplate\":\"Followers=6M<br>Audience Country=%{x}<br>count=%{y}<extra></extra>\",\"legendgroup\":\"6M\",\"marker\":{\"color\":\"#FECB52\",\"pattern\":{\"shape\":\"\"}},\"name\":\"6M\",\"offsetgroup\":\"6M\",\"orientation\":\"v\",\"showlegend\":true,\"texttemplate\":\"%{value}\",\"x\":[\"South Korea\",\"Argentina\",\"Indonesia\",\"India\",\"India\"],\"xaxis\":\"x\",\"yaxis\":\"y\",\"type\":\"histogram\"},{\"alignmentgroup\":\"True\",\"bingroup\":\"x\",\"hovertemplate\":\"Followers=39.5M<br>Audience Country=%{x}<br>count=%{y}<extra></extra>\",\"legendgroup\":\"39.5M\",\"marker\":{\"color\":\"#636efa\",\"pattern\":{\"shape\":\"\"}},\"name\":\"39.5M\",\"offsetgroup\":\"39.5M\",\"orientation\":\"v\",\"showlegend\":true,\"texttemplate\":\"%{value}\",\"x\":[\"United States\",\"United Kingdom\"],\"xaxis\":\"x\",\"yaxis\":\"y\",\"type\":\"histogram\"},{\"alignmentgroup\":\"True\",\"bingroup\":\"x\",\"hovertemplate\":\"Followers=46.1M<br>Audience Country=%{x}<br>count=%{y}<extra></extra>\",\"legendgroup\":\"46.1M\",\"marker\":{\"color\":\"#EF553B\",\"pattern\":{\"shape\":\"\"}},\"name\":\"46.1M\",\"offsetgroup\":\"46.1M\",\"orientation\":\"v\",\"showlegend\":true,\"texttemplate\":\"%{value}\",\"x\":[\"Brazil\"],\"xaxis\":\"x\",\"yaxis\":\"y\",\"type\":\"histogram\"},{\"alignmentgroup\":\"True\",\"bingroup\":\"x\",\"hovertemplate\":\"Followers=19.2M<br>Audience Country=%{x}<br>count=%{y}<extra></extra>\",\"legendgroup\":\"19.2M\",\"marker\":{\"color\":\"#00cc96\",\"pattern\":{\"shape\":\"\"}},\"name\":\"19.2M\",\"offsetgroup\":\"19.2M\",\"orientation\":\"v\",\"showlegend\":true,\"texttemplate\":\"%{value}\",\"x\":[\"United States\"],\"xaxis\":\"x\",\"yaxis\":\"y\",\"type\":\"histogram\"},{\"alignmentgroup\":\"True\",\"bingroup\":\"x\",\"hovertemplate\":\"Followers=17.5M<br>Audience Country=%{x}<br>count=%{y}<extra></extra>\",\"legendgroup\":\"17.5M\",\"marker\":{\"color\":\"#ab63fa\",\"pattern\":{\"shape\":\"\"}},\"name\":\"17.5M\",\"offsetgroup\":\"17.5M\",\"orientation\":\"v\",\"showlegend\":true,\"texttemplate\":\"%{value}\",\"x\":[\"Russia\",\"Brazil\"],\"xaxis\":\"x\",\"yaxis\":\"y\",\"type\":\"histogram\"},{\"alignmentgroup\":\"True\",\"bingroup\":\"x\",\"hovertemplate\":\"Followers=29.8M<br>Audience Country=%{x}<br>count=%{y}<extra></extra>\",\"legendgroup\":\"29.8M\",\"marker\":{\"color\":\"#FFA15A\",\"pattern\":{\"shape\":\"\"}},\"name\":\"29.8M\",\"offsetgroup\":\"29.8M\",\"orientation\":\"v\",\"showlegend\":true,\"texttemplate\":\"%{value}\",\"x\":[\"Mexico\"],\"xaxis\":\"x\",\"yaxis\":\"y\",\"type\":\"histogram\"},{\"alignmentgroup\":\"True\",\"bingroup\":\"x\",\"hovertemplate\":\"Followers=36.4M<br>Audience Country=%{x}<br>count=%{y}<extra></extra>\",\"legendgroup\":\"36.4M\",\"marker\":{\"color\":\"#19d3f3\",\"pattern\":{\"shape\":\"\"}},\"name\":\"36.4M\",\"offsetgroup\":\"36.4M\",\"orientation\":\"v\",\"showlegend\":true,\"texttemplate\":\"%{value}\",\"x\":[\"Spain\"],\"xaxis\":\"x\",\"yaxis\":\"y\",\"type\":\"histogram\"},{\"alignmentgroup\":\"True\",\"bingroup\":\"x\",\"hovertemplate\":\"Followers=9.5M<br>Audience Country=%{x}<br>count=%{y}<extra></extra>\",\"legendgroup\":\"9.5M\",\"marker\":{\"color\":\"#FF6692\",\"pattern\":{\"shape\":\"\"}},\"name\":\"9.5M\",\"offsetgroup\":\"9.5M\",\"orientation\":\"v\",\"showlegend\":true,\"texttemplate\":\"%{value}\",\"x\":[\"Brazil\",\"United States\",\"India\",\"Colombia\"],\"xaxis\":\"x\",\"yaxis\":\"y\",\"type\":\"histogram\"},{\"alignmentgroup\":\"True\",\"bingroup\":\"x\",\"hovertemplate\":\"Followers=7.1M<br>Audience Country=%{x}<br>count=%{y}<extra></extra>\",\"legendgroup\":\"7.1M\",\"marker\":{\"color\":\"#B6E880\",\"pattern\":{\"shape\":\"\"}},\"name\":\"7.1M\",\"offsetgroup\":\"7.1M\",\"orientation\":\"v\",\"showlegend\":true,\"texttemplate\":\"%{value}\",\"x\":[\"United States\",\"United States\",\"United States\",\"Indonesia\"],\"xaxis\":\"x\",\"yaxis\":\"y\",\"type\":\"histogram\"},{\"alignmentgroup\":\"True\",\"bingroup\":\"x\",\"hovertemplate\":\"Followers=7.4M<br>Audience Country=%{x}<br>count=%{y}<extra></extra>\",\"legendgroup\":\"7.4M\",\"marker\":{\"color\":\"#FF97FF\",\"pattern\":{\"shape\":\"\"}},\"name\":\"7.4M\",\"offsetgroup\":\"7.4M\",\"orientation\":\"v\",\"showlegend\":true,\"texttemplate\":\"%{value}\",\"x\":[\"Iraq\",\"Brazil\",\"United States\",\"United States\",\"United States\",\"Morocco\",\"United States\",\"Spain\",\"Indonesia\"],\"xaxis\":\"x\",\"yaxis\":\"y\",\"type\":\"histogram\"},{\"alignmentgroup\":\"True\",\"bingroup\":\"x\",\"hovertemplate\":\"Followers=11.8M<br>Audience Country=%{x}<br>count=%{y}<extra></extra>\",\"legendgroup\":\"11.8M\",\"marker\":{\"color\":\"#FECB52\",\"pattern\":{\"shape\":\"\"}},\"name\":\"11.8M\",\"offsetgroup\":\"11.8M\",\"orientation\":\"v\",\"showlegend\":true,\"texttemplate\":\"%{value}\",\"x\":[\"Indonesia\",\"Thailand\"],\"xaxis\":\"x\",\"yaxis\":\"y\",\"type\":\"histogram\"},{\"alignmentgroup\":\"True\",\"bingroup\":\"x\",\"hovertemplate\":\"Followers=22.7M<br>Audience Country=%{x}<br>count=%{y}<extra></extra>\",\"legendgroup\":\"22.7M\",\"marker\":{\"color\":\"#636efa\",\"pattern\":{\"shape\":\"\"}},\"name\":\"22.7M\",\"offsetgroup\":\"22.7M\",\"orientation\":\"v\",\"showlegend\":true,\"texttemplate\":\"%{value}\",\"x\":[\"United States\",\"United States\",\"Egypt\"],\"xaxis\":\"x\",\"yaxis\":\"y\",\"type\":\"histogram\"},{\"alignmentgroup\":\"True\",\"bingroup\":\"x\",\"hovertemplate\":\"Followers=11.5M<br>Audience Country=%{x}<br>count=%{y}<extra></extra>\",\"legendgroup\":\"11.5M\",\"marker\":{\"color\":\"#EF553B\",\"pattern\":{\"shape\":\"\"}},\"name\":\"11.5M\",\"offsetgroup\":\"11.5M\",\"orientation\":\"v\",\"showlegend\":true,\"texttemplate\":\"%{value}\",\"x\":[\"India\",\"India\",\"Turkey\",\"Turkey\"],\"xaxis\":\"x\",\"yaxis\":\"y\",\"type\":\"histogram\"},{\"alignmentgroup\":\"True\",\"bingroup\":\"x\",\"hovertemplate\":\"Followers=33.5M<br>Audience Country=%{x}<br>count=%{y}<extra></extra>\",\"legendgroup\":\"33.5M\",\"marker\":{\"color\":\"#00cc96\",\"pattern\":{\"shape\":\"\"}},\"name\":\"33.5M\",\"offsetgroup\":\"33.5M\",\"orientation\":\"v\",\"showlegend\":true,\"texttemplate\":\"%{value}\",\"x\":[\"Russia\"],\"xaxis\":\"x\",\"yaxis\":\"y\",\"type\":\"histogram\"},{\"alignmentgroup\":\"True\",\"bingroup\":\"x\",\"hovertemplate\":\"Followers=43.8M<br>Audience Country=%{x}<br>count=%{y}<extra></extra>\",\"legendgroup\":\"43.8M\",\"marker\":{\"color\":\"#ab63fa\",\"pattern\":{\"shape\":\"\"}},\"name\":\"43.8M\",\"offsetgroup\":\"43.8M\",\"orientation\":\"v\",\"showlegend\":true,\"texttemplate\":\"%{value}\",\"x\":[\"Brazil\"],\"xaxis\":\"x\",\"yaxis\":\"y\",\"type\":\"histogram\"},{\"alignmentgroup\":\"True\",\"bingroup\":\"x\",\"hovertemplate\":\"Followers=9.7M<br>Audience Country=%{x}<br>count=%{y}<extra></extra>\",\"legendgroup\":\"9.7M\",\"marker\":{\"color\":\"#FFA15A\",\"pattern\":{\"shape\":\"\"}},\"name\":\"9.7M\",\"offsetgroup\":\"9.7M\",\"orientation\":\"v\",\"showlegend\":true,\"texttemplate\":\"%{value}\",\"x\":[\"United States\",\"Brazil\",\"United States\"],\"xaxis\":\"x\",\"yaxis\":\"y\",\"type\":\"histogram\"},{\"alignmentgroup\":\"True\",\"bingroup\":\"x\",\"hovertemplate\":\"Followers=43.4M<br>Audience Country=%{x}<br>count=%{y}<extra></extra>\",\"legendgroup\":\"43.4M\",\"marker\":{\"color\":\"#19d3f3\",\"pattern\":{\"shape\":\"\"}},\"name\":\"43.4M\",\"offsetgroup\":\"43.4M\",\"orientation\":\"v\",\"showlegend\":true,\"texttemplate\":\"%{value}\",\"x\":[\"Colombia\"],\"xaxis\":\"x\",\"yaxis\":\"y\",\"type\":\"histogram\"},{\"alignmentgroup\":\"True\",\"bingroup\":\"x\",\"hovertemplate\":\"Followers=45.2M<br>Audience Country=%{x}<br>count=%{y}<extra></extra>\",\"legendgroup\":\"45.2M\",\"marker\":{\"color\":\"#FF6692\",\"pattern\":{\"shape\":\"\"}},\"name\":\"45.2M\",\"offsetgroup\":\"45.2M\",\"orientation\":\"v\",\"showlegend\":true,\"texttemplate\":\"%{value}\",\"x\":[\"Brazil\"],\"xaxis\":\"x\",\"yaxis\":\"y\",\"type\":\"histogram\"},{\"alignmentgroup\":\"True\",\"bingroup\":\"x\",\"hovertemplate\":\"Followers=30.5M<br>Audience Country=%{x}<br>count=%{y}<extra></extra>\",\"legendgroup\":\"30.5M\",\"marker\":{\"color\":\"#B6E880\",\"pattern\":{\"shape\":\"\"}},\"name\":\"30.5M\",\"offsetgroup\":\"30.5M\",\"orientation\":\"v\",\"showlegend\":true,\"texttemplate\":\"%{value}\",\"x\":[\"United States\"],\"xaxis\":\"x\",\"yaxis\":\"y\",\"type\":\"histogram\"},{\"alignmentgroup\":\"True\",\"bingroup\":\"x\",\"hovertemplate\":\"Followers=28.4M<br>Audience Country=%{x}<br>count=%{y}<extra></extra>\",\"legendgroup\":\"28.4M\",\"marker\":{\"color\":\"#FF97FF\",\"pattern\":{\"shape\":\"\"}},\"name\":\"28.4M\",\"offsetgroup\":\"28.4M\",\"orientation\":\"v\",\"showlegend\":true,\"texttemplate\":\"%{value}\",\"x\":[\"Brazil\",\"United States\"],\"xaxis\":\"x\",\"yaxis\":\"y\",\"type\":\"histogram\"},{\"alignmentgroup\":\"True\",\"bingroup\":\"x\",\"hovertemplate\":\"Followers=11.4M<br>Audience Country=%{x}<br>count=%{y}<extra></extra>\",\"legendgroup\":\"11.4M\",\"marker\":{\"color\":\"#FECB52\",\"pattern\":{\"shape\":\"\"}},\"name\":\"11.4M\",\"offsetgroup\":\"11.4M\",\"orientation\":\"v\",\"showlegend\":true,\"texttemplate\":\"%{value}\",\"x\":[\"Thailand\",\"Brazil\"],\"xaxis\":\"x\",\"yaxis\":\"y\",\"type\":\"histogram\"},{\"alignmentgroup\":\"True\",\"bingroup\":\"x\",\"hovertemplate\":\"Followers=11.7M<br>Audience Country=%{x}<br>count=%{y}<extra></extra>\",\"legendgroup\":\"11.7M\",\"marker\":{\"color\":\"#636efa\",\"pattern\":{\"shape\":\"\"}},\"name\":\"11.7M\",\"offsetgroup\":\"11.7M\",\"orientation\":\"v\",\"showlegend\":true,\"texttemplate\":\"%{value}\",\"x\":[\"Brazil\",\"United States\",\"Spain\",\"Brazil\"],\"xaxis\":\"x\",\"yaxis\":\"y\",\"type\":\"histogram\"},{\"alignmentgroup\":\"True\",\"bingroup\":\"x\",\"hovertemplate\":\"Followers=8.6M<br>Audience Country=%{x}<br>count=%{y}<extra></extra>\",\"legendgroup\":\"8.6M\",\"marker\":{\"color\":\"#EF553B\",\"pattern\":{\"shape\":\"\"}},\"name\":\"8.6M\",\"offsetgroup\":\"8.6M\",\"orientation\":\"v\",\"showlegend\":true,\"texttemplate\":\"%{value}\",\"x\":[\"Italy\",\"United Kingdom\",\"Colombia\",\"India\"],\"xaxis\":\"x\",\"yaxis\":\"y\",\"type\":\"histogram\"},{\"alignmentgroup\":\"True\",\"bingroup\":\"x\",\"hovertemplate\":\"Followers=33.3M<br>Audience Country=%{x}<br>count=%{y}<extra></extra>\",\"legendgroup\":\"33.3M\",\"marker\":{\"color\":\"#00cc96\",\"pattern\":{\"shape\":\"\"}},\"name\":\"33.3M\",\"offsetgroup\":\"33.3M\",\"orientation\":\"v\",\"showlegend\":true,\"texttemplate\":\"%{value}\",\"x\":[\"Germany\"],\"xaxis\":\"x\",\"yaxis\":\"y\",\"type\":\"histogram\"},{\"alignmentgroup\":\"True\",\"bingroup\":\"x\",\"hovertemplate\":\"Followers=29.3M<br>Audience Country=%{x}<br>count=%{y}<extra></extra>\",\"legendgroup\":\"29.3M\",\"marker\":{\"color\":\"#ab63fa\",\"pattern\":{\"shape\":\"\"}},\"name\":\"29.3M\",\"offsetgroup\":\"29.3M\",\"orientation\":\"v\",\"showlegend\":true,\"texttemplate\":\"%{value}\",\"x\":[\"India\"],\"xaxis\":\"x\",\"yaxis\":\"y\",\"type\":\"histogram\"},{\"alignmentgroup\":\"True\",\"bingroup\":\"x\",\"hovertemplate\":\"Followers=24.9M<br>Audience Country=%{x}<br>count=%{y}<extra></extra>\",\"legendgroup\":\"24.9M\",\"marker\":{\"color\":\"#FFA15A\",\"pattern\":{\"shape\":\"\"}},\"name\":\"24.9M\",\"offsetgroup\":\"24.9M\",\"orientation\":\"v\",\"showlegend\":true,\"texttemplate\":\"%{value}\",\"x\":[\"Spain\"],\"xaxis\":\"x\",\"yaxis\":\"y\",\"type\":\"histogram\"},{\"alignmentgroup\":\"True\",\"bingroup\":\"x\",\"hovertemplate\":\"Followers=8.8M<br>Audience Country=%{x}<br>count=%{y}<extra></extra>\",\"legendgroup\":\"8.8M\",\"marker\":{\"color\":\"#19d3f3\",\"pattern\":{\"shape\":\"\"}},\"name\":\"8.8M\",\"offsetgroup\":\"8.8M\",\"orientation\":\"v\",\"showlegend\":true,\"texttemplate\":\"%{value}\",\"x\":[\"Indonesia\",\"Colombia\",\"Colombia\",\"United States\",\"India\"],\"xaxis\":\"x\",\"yaxis\":\"y\",\"type\":\"histogram\"},{\"alignmentgroup\":\"True\",\"bingroup\":\"x\",\"hovertemplate\":\"Followers=3.7M<br>Audience Country=%{x}<br>count=%{y}<extra></extra>\",\"legendgroup\":\"3.7M\",\"marker\":{\"color\":\"#FF6692\",\"pattern\":{\"shape\":\"\"}},\"name\":\"3.7M\",\"offsetgroup\":\"3.7M\",\"orientation\":\"v\",\"showlegend\":true,\"texttemplate\":\"%{value}\",\"x\":[\"South Korea\",\"United Kingdom\",\"Thailand\",\"Thailand\",\"Italy\"],\"xaxis\":\"x\",\"yaxis\":\"y\",\"type\":\"histogram\"},{\"alignmentgroup\":\"True\",\"bingroup\":\"x\",\"hovertemplate\":\"Followers=47.4M<br>Audience Country=%{x}<br>count=%{y}<extra></extra>\",\"legendgroup\":\"47.4M\",\"marker\":{\"color\":\"#B6E880\",\"pattern\":{\"shape\":\"\"}},\"name\":\"47.4M\",\"offsetgroup\":\"47.4M\",\"orientation\":\"v\",\"showlegend\":true,\"texttemplate\":\"%{value}\",\"x\":[\"Indonesia\"],\"xaxis\":\"x\",\"yaxis\":\"y\",\"type\":\"histogram\"},{\"alignmentgroup\":\"True\",\"bingroup\":\"x\",\"hovertemplate\":\"Followers=46.9M<br>Audience Country=%{x}<br>count=%{y}<extra></extra>\",\"legendgroup\":\"46.9M\",\"marker\":{\"color\":\"#FF97FF\",\"pattern\":{\"shape\":\"\"}},\"name\":\"46.9M\",\"offsetgroup\":\"46.9M\",\"orientation\":\"v\",\"showlegend\":true,\"texttemplate\":\"%{value}\",\"x\":[\"Turkey\"],\"xaxis\":\"x\",\"yaxis\":\"y\",\"type\":\"histogram\"},{\"alignmentgroup\":\"True\",\"bingroup\":\"x\",\"hovertemplate\":\"Followers=25.9M<br>Audience Country=%{x}<br>count=%{y}<extra></extra>\",\"legendgroup\":\"25.9M\",\"marker\":{\"color\":\"#FECB52\",\"pattern\":{\"shape\":\"\"}},\"name\":\"25.9M\",\"offsetgroup\":\"25.9M\",\"orientation\":\"v\",\"showlegend\":true,\"texttemplate\":\"%{value}\",\"x\":[\"United States\"],\"xaxis\":\"x\",\"yaxis\":\"y\",\"type\":\"histogram\"},{\"alignmentgroup\":\"True\",\"bingroup\":\"x\",\"hovertemplate\":\"Followers=20.1M<br>Audience Country=%{x}<br>count=%{y}<extra></extra>\",\"legendgroup\":\"20.1M\",\"marker\":{\"color\":\"#636efa\",\"pattern\":{\"shape\":\"\"}},\"name\":\"20.1M\",\"offsetgroup\":\"20.1M\",\"orientation\":\"v\",\"showlegend\":true,\"texttemplate\":\"%{value}\",\"x\":[\"Colombia\",\"United States\",\"Brazil\"],\"xaxis\":\"x\",\"yaxis\":\"y\",\"type\":\"histogram\"},{\"alignmentgroup\":\"True\",\"bingroup\":\"x\",\"hovertemplate\":\"Followers=9.2M<br>Audience Country=%{x}<br>count=%{y}<extra></extra>\",\"legendgroup\":\"9.2M\",\"marker\":{\"color\":\"#EF553B\",\"pattern\":{\"shape\":\"\"}},\"name\":\"9.2M\",\"offsetgroup\":\"9.2M\",\"orientation\":\"v\",\"showlegend\":true,\"texttemplate\":\"%{value}\",\"x\":[\"United States\",\"Indonesia\",\"United States\",\"Brazil\"],\"xaxis\":\"x\",\"yaxis\":\"y\",\"type\":\"histogram\"},{\"alignmentgroup\":\"True\",\"bingroup\":\"x\",\"hovertemplate\":\"Followers=53.6M<br>Audience Country=%{x}<br>count=%{y}<extra></extra>\",\"legendgroup\":\"53.6M\",\"marker\":{\"color\":\"#00cc96\",\"pattern\":{\"shape\":\"\"}},\"name\":\"53.6M\",\"offsetgroup\":\"53.6M\",\"orientation\":\"v\",\"showlegend\":true,\"texttemplate\":\"%{value}\",\"x\":[\"Brazil\"],\"xaxis\":\"x\",\"yaxis\":\"y\",\"type\":\"histogram\"},{\"alignmentgroup\":\"True\",\"bingroup\":\"x\",\"hovertemplate\":\"Followers=54.2M<br>Audience Country=%{x}<br>count=%{y}<extra></extra>\",\"legendgroup\":\"54.2M\",\"marker\":{\"color\":\"#ab63fa\",\"pattern\":{\"shape\":\"\"}},\"name\":\"54.2M\",\"offsetgroup\":\"54.2M\",\"orientation\":\"v\",\"showlegend\":true,\"texttemplate\":\"%{value}\",\"x\":[\"United States\"],\"xaxis\":\"x\",\"yaxis\":\"y\",\"type\":\"histogram\"},{\"alignmentgroup\":\"True\",\"bingroup\":\"x\",\"hovertemplate\":\"Followers=21.1M<br>Audience Country=%{x}<br>count=%{y}<extra></extra>\",\"legendgroup\":\"21.1M\",\"marker\":{\"color\":\"#FFA15A\",\"pattern\":{\"shape\":\"\"}},\"name\":\"21.1M\",\"offsetgroup\":\"21.1M\",\"orientation\":\"v\",\"showlegend\":true,\"texttemplate\":\"%{value}\",\"x\":[\"United States\"],\"xaxis\":\"x\",\"yaxis\":\"y\",\"type\":\"histogram\"},{\"alignmentgroup\":\"True\",\"bingroup\":\"x\",\"hovertemplate\":\"Followers=4.7M<br>Audience Country=%{x}<br>count=%{y}<extra></extra>\",\"legendgroup\":\"4.7M\",\"marker\":{\"color\":\"#19d3f3\",\"pattern\":{\"shape\":\"\"}},\"name\":\"4.7M\",\"offsetgroup\":\"4.7M\",\"orientation\":\"v\",\"showlegend\":true,\"texttemplate\":\"%{value}\",\"x\":[null,\"Brazil\"],\"xaxis\":\"x\",\"yaxis\":\"y\",\"type\":\"histogram\"},{\"alignmentgroup\":\"True\",\"bingroup\":\"x\",\"hovertemplate\":\"Followers=5.2M<br>Audience Country=%{x}<br>count=%{y}<extra></extra>\",\"legendgroup\":\"5.2M\",\"marker\":{\"color\":\"#FF6692\",\"pattern\":{\"shape\":\"\"}},\"name\":\"5.2M\",\"offsetgroup\":\"5.2M\",\"orientation\":\"v\",\"showlegend\":true,\"texttemplate\":\"%{value}\",\"x\":[\"United States\",\"Indonesia\"],\"xaxis\":\"x\",\"yaxis\":\"y\",\"type\":\"histogram\"},{\"alignmentgroup\":\"True\",\"bingroup\":\"x\",\"hovertemplate\":\"Followers=6.1M<br>Audience Country=%{x}<br>count=%{y}<extra></extra>\",\"legendgroup\":\"6.1M\",\"marker\":{\"color\":\"#B6E880\",\"pattern\":{\"shape\":\"\"}},\"name\":\"6.1M\",\"offsetgroup\":\"6.1M\",\"orientation\":\"v\",\"showlegend\":true,\"texttemplate\":\"%{value}\",\"x\":[\"India\",\"Indonesia\",\"United States\",\"Italy\",\"India\",\"United States\",\"India\"],\"xaxis\":\"x\",\"yaxis\":\"y\",\"type\":\"histogram\"},{\"alignmentgroup\":\"True\",\"bingroup\":\"x\",\"hovertemplate\":\"Followers=26.7M<br>Audience Country=%{x}<br>count=%{y}<extra></extra>\",\"legendgroup\":\"26.7M\",\"marker\":{\"color\":\"#FF97FF\",\"pattern\":{\"shape\":\"\"}},\"name\":\"26.7M\",\"offsetgroup\":\"26.7M\",\"orientation\":\"v\",\"showlegend\":true,\"texttemplate\":\"%{value}\",\"x\":[\"Spain\"],\"xaxis\":\"x\",\"yaxis\":\"y\",\"type\":\"histogram\"},{\"alignmentgroup\":\"True\",\"bingroup\":\"x\",\"hovertemplate\":\"Followers=7M<br>Audience Country=%{x}<br>count=%{y}<extra></extra>\",\"legendgroup\":\"7M\",\"marker\":{\"color\":\"#FECB52\",\"pattern\":{\"shape\":\"\"}},\"name\":\"7M\",\"offsetgroup\":\"7M\",\"orientation\":\"v\",\"showlegend\":true,\"texttemplate\":\"%{value}\",\"x\":[\"United States\",\"Brazil\",\"United States\",\"United States\",\"Russia\",\"Russia\",\"India\"],\"xaxis\":\"x\",\"yaxis\":\"y\",\"type\":\"histogram\"},{\"alignmentgroup\":\"True\",\"bingroup\":\"x\",\"hovertemplate\":\"Followers=11.3M<br>Audience Country=%{x}<br>count=%{y}<extra></extra>\",\"legendgroup\":\"11.3M\",\"marker\":{\"color\":\"#636efa\",\"pattern\":{\"shape\":\"\"}},\"name\":\"11.3M\",\"offsetgroup\":\"11.3M\",\"orientation\":\"v\",\"showlegend\":true,\"texttemplate\":\"%{value}\",\"x\":[\"India\",\"United States\"],\"xaxis\":\"x\",\"yaxis\":\"y\",\"type\":\"histogram\"},{\"alignmentgroup\":\"True\",\"bingroup\":\"x\",\"hovertemplate\":\"Followers=3.9M<br>Audience Country=%{x}<br>count=%{y}<extra></extra>\",\"legendgroup\":\"3.9M\",\"marker\":{\"color\":\"#EF553B\",\"pattern\":{\"shape\":\"\"}},\"name\":\"3.9M\",\"offsetgroup\":\"3.9M\",\"orientation\":\"v\",\"showlegend\":true,\"texttemplate\":\"%{value}\",\"x\":[\"Indonesia\",\"Indonesia\",\"United States\"],\"xaxis\":\"x\",\"yaxis\":\"y\",\"type\":\"histogram\"},{\"alignmentgroup\":\"True\",\"bingroup\":\"x\",\"hovertemplate\":\"Followers=10.4M<br>Audience Country=%{x}<br>count=%{y}<extra></extra>\",\"legendgroup\":\"10.4M\",\"marker\":{\"color\":\"#00cc96\",\"pattern\":{\"shape\":\"\"}},\"name\":\"10.4M\",\"offsetgroup\":\"10.4M\",\"orientation\":\"v\",\"showlegend\":true,\"texttemplate\":\"%{value}\",\"x\":[\"India\",\"United States\",\"Russia\",\"United States\"],\"xaxis\":\"x\",\"yaxis\":\"y\",\"type\":\"histogram\"},{\"alignmentgroup\":\"True\",\"bingroup\":\"x\",\"hovertemplate\":\"Followers=10.6M<br>Audience Country=%{x}<br>count=%{y}<extra></extra>\",\"legendgroup\":\"10.6M\",\"marker\":{\"color\":\"#ab63fa\",\"pattern\":{\"shape\":\"\"}},\"name\":\"10.6M\",\"offsetgroup\":\"10.6M\",\"orientation\":\"v\",\"showlegend\":true,\"texttemplate\":\"%{value}\",\"x\":[\"Spain\",\"United States\",\"India\",\"India\",\"Brazil\"],\"xaxis\":\"x\",\"yaxis\":\"y\",\"type\":\"histogram\"},{\"alignmentgroup\":\"True\",\"bingroup\":\"x\",\"hovertemplate\":\"Followers=4.2M<br>Audience Country=%{x}<br>count=%{y}<extra></extra>\",\"legendgroup\":\"4.2M\",\"marker\":{\"color\":\"#FFA15A\",\"pattern\":{\"shape\":\"\"}},\"name\":\"4.2M\",\"offsetgroup\":\"4.2M\",\"orientation\":\"v\",\"showlegend\":true,\"texttemplate\":\"%{value}\",\"x\":[null,\"India\",\"South Korea\"],\"xaxis\":\"x\",\"yaxis\":\"y\",\"type\":\"histogram\"},{\"alignmentgroup\":\"True\",\"bingroup\":\"x\",\"hovertemplate\":\"Followers=57.9M<br>Audience Country=%{x}<br>count=%{y}<extra></extra>\",\"legendgroup\":\"57.9M\",\"marker\":{\"color\":\"#19d3f3\",\"pattern\":{\"shape\":\"\"}},\"name\":\"57.9M\",\"offsetgroup\":\"57.9M\",\"orientation\":\"v\",\"showlegend\":true,\"texttemplate\":\"%{value}\",\"x\":[\"United Kingdom\"],\"xaxis\":\"x\",\"yaxis\":\"y\",\"type\":\"histogram\"},{\"alignmentgroup\":\"True\",\"bingroup\":\"x\",\"hovertemplate\":\"Followers=4.3M<br>Audience Country=%{x}<br>count=%{y}<extra></extra>\",\"legendgroup\":\"4.3M\",\"marker\":{\"color\":\"#FF6692\",\"pattern\":{\"shape\":\"\"}},\"name\":\"4.3M\",\"offsetgroup\":\"4.3M\",\"orientation\":\"v\",\"showlegend\":true,\"texttemplate\":\"%{value}\",\"x\":[\"United States\",\"United States\"],\"xaxis\":\"x\",\"yaxis\":\"y\",\"type\":\"histogram\"},{\"alignmentgroup\":\"True\",\"bingroup\":\"x\",\"hovertemplate\":\"Followers=34.2M<br>Audience Country=%{x}<br>count=%{y}<extra></extra>\",\"legendgroup\":\"34.2M\",\"marker\":{\"color\":\"#B6E880\",\"pattern\":{\"shape\":\"\"}},\"name\":\"34.2M\",\"offsetgroup\":\"34.2M\",\"orientation\":\"v\",\"showlegend\":true,\"texttemplate\":\"%{value}\",\"x\":[\"Germany\"],\"xaxis\":\"x\",\"yaxis\":\"y\",\"type\":\"histogram\"},{\"alignmentgroup\":\"True\",\"bingroup\":\"x\",\"hovertemplate\":\"Followers=54M<br>Audience Country=%{x}<br>count=%{y}<extra></extra>\",\"legendgroup\":\"54M\",\"marker\":{\"color\":\"#FF97FF\",\"pattern\":{\"shape\":\"\"}},\"name\":\"54M\",\"offsetgroup\":\"54M\",\"orientation\":\"v\",\"showlegend\":true,\"texttemplate\":\"%{value}\",\"x\":[\"India\"],\"xaxis\":\"x\",\"yaxis\":\"y\",\"type\":\"histogram\"},{\"alignmentgroup\":\"True\",\"bingroup\":\"x\",\"hovertemplate\":\"Followers=14.5M<br>Audience Country=%{x}<br>count=%{y}<extra></extra>\",\"legendgroup\":\"14.5M\",\"marker\":{\"color\":\"#FECB52\",\"pattern\":{\"shape\":\"\"}},\"name\":\"14.5M\",\"offsetgroup\":\"14.5M\",\"orientation\":\"v\",\"showlegend\":true,\"texttemplate\":\"%{value}\",\"x\":[\"Indonesia\",\"Spain\",\"Spain\"],\"xaxis\":\"x\",\"yaxis\":\"y\",\"type\":\"histogram\"},{\"alignmentgroup\":\"True\",\"bingroup\":\"x\",\"hovertemplate\":\"Followers=24M<br>Audience Country=%{x}<br>count=%{y}<extra></extra>\",\"legendgroup\":\"24M\",\"marker\":{\"color\":\"#636efa\",\"pattern\":{\"shape\":\"\"}},\"name\":\"24M\",\"offsetgroup\":\"24M\",\"orientation\":\"v\",\"showlegend\":true,\"texttemplate\":\"%{value}\",\"x\":[\"India\"],\"xaxis\":\"x\",\"yaxis\":\"y\",\"type\":\"histogram\"},{\"alignmentgroup\":\"True\",\"bingroup\":\"x\",\"hovertemplate\":\"Followers=74.6M<br>Audience Country=%{x}<br>count=%{y}<extra></extra>\",\"legendgroup\":\"74.6M\",\"marker\":{\"color\":\"#EF553B\",\"pattern\":{\"shape\":\"\"}},\"name\":\"74.6M\",\"offsetgroup\":\"74.6M\",\"orientation\":\"v\",\"showlegend\":true,\"texttemplate\":\"%{value}\",\"x\":[\"United States\"],\"xaxis\":\"x\",\"yaxis\":\"y\",\"type\":\"histogram\"},{\"alignmentgroup\":\"True\",\"bingroup\":\"x\",\"hovertemplate\":\"Followers=34.3M<br>Audience Country=%{x}<br>count=%{y}<extra></extra>\",\"legendgroup\":\"34.3M\",\"marker\":{\"color\":\"#00cc96\",\"pattern\":{\"shape\":\"\"}},\"name\":\"34.3M\",\"offsetgroup\":\"34.3M\",\"orientation\":\"v\",\"showlegend\":true,\"texttemplate\":\"%{value}\",\"x\":[\"Germany\"],\"xaxis\":\"x\",\"yaxis\":\"y\",\"type\":\"histogram\"},{\"alignmentgroup\":\"True\",\"bingroup\":\"x\",\"hovertemplate\":\"Followers=5M<br>Audience Country=%{x}<br>count=%{y}<extra></extra>\",\"legendgroup\":\"5M\",\"marker\":{\"color\":\"#ab63fa\",\"pattern\":{\"shape\":\"\"}},\"name\":\"5M\",\"offsetgroup\":\"5M\",\"orientation\":\"v\",\"showlegend\":true,\"texttemplate\":\"%{value}\",\"x\":[\"Japan\",\"United Kingdom\",\"Japan\",\"Philippines\",\"Philippines\"],\"xaxis\":\"x\",\"yaxis\":\"y\",\"type\":\"histogram\"},{\"alignmentgroup\":\"True\",\"bingroup\":\"x\",\"hovertemplate\":\"Followers=8.9M<br>Audience Country=%{x}<br>count=%{y}<extra></extra>\",\"legendgroup\":\"8.9M\",\"marker\":{\"color\":\"#FFA15A\",\"pattern\":{\"shape\":\"\"}},\"name\":\"8.9M\",\"offsetgroup\":\"8.9M\",\"orientation\":\"v\",\"showlegend\":true,\"texttemplate\":\"%{value}\",\"x\":[\"United States\"],\"xaxis\":\"x\",\"yaxis\":\"y\",\"type\":\"histogram\"},{\"alignmentgroup\":\"True\",\"bingroup\":\"x\",\"hovertemplate\":\"Followers=18.6M<br>Audience Country=%{x}<br>count=%{y}<extra></extra>\",\"legendgroup\":\"18.6M\",\"marker\":{\"color\":\"#19d3f3\",\"pattern\":{\"shape\":\"\"}},\"name\":\"18.6M\",\"offsetgroup\":\"18.6M\",\"orientation\":\"v\",\"showlegend\":true,\"texttemplate\":\"%{value}\",\"x\":[\"Russia\"],\"xaxis\":\"x\",\"yaxis\":\"y\",\"type\":\"histogram\"},{\"alignmentgroup\":\"True\",\"bingroup\":\"x\",\"hovertemplate\":\"Followers=4.4M<br>Audience Country=%{x}<br>count=%{y}<extra></extra>\",\"legendgroup\":\"4.4M\",\"marker\":{\"color\":\"#FF6692\",\"pattern\":{\"shape\":\"\"}},\"name\":\"4.4M\",\"offsetgroup\":\"4.4M\",\"orientation\":\"v\",\"showlegend\":true,\"texttemplate\":\"%{value}\",\"x\":[\"Indonesia\",\"India\",\"Japan\"],\"xaxis\":\"x\",\"yaxis\":\"y\",\"type\":\"histogram\"},{\"alignmentgroup\":\"True\",\"bingroup\":\"x\",\"hovertemplate\":\"Followers=2.5M<br>Audience Country=%{x}<br>count=%{y}<extra></extra>\",\"legendgroup\":\"2.5M\",\"marker\":{\"color\":\"#B6E880\",\"pattern\":{\"shape\":\"\"}},\"name\":\"2.5M\",\"offsetgroup\":\"2.5M\",\"orientation\":\"v\",\"showlegend\":true,\"texttemplate\":\"%{value}\",\"x\":[null,null],\"xaxis\":\"x\",\"yaxis\":\"y\",\"type\":\"histogram\"},{\"alignmentgroup\":\"True\",\"bingroup\":\"x\",\"hovertemplate\":\"Followers=22.5M<br>Audience Country=%{x}<br>count=%{y}<extra></extra>\",\"legendgroup\":\"22.5M\",\"marker\":{\"color\":\"#FF97FF\",\"pattern\":{\"shape\":\"\"}},\"name\":\"22.5M\",\"offsetgroup\":\"22.5M\",\"orientation\":\"v\",\"showlegend\":true,\"texttemplate\":\"%{value}\",\"x\":[\"Brazil\"],\"xaxis\":\"x\",\"yaxis\":\"y\",\"type\":\"histogram\"},{\"alignmentgroup\":\"True\",\"bingroup\":\"x\",\"hovertemplate\":\"Followers=16.7M<br>Audience Country=%{x}<br>count=%{y}<extra></extra>\",\"legendgroup\":\"16.7M\",\"marker\":{\"color\":\"#FECB52\",\"pattern\":{\"shape\":\"\"}},\"name\":\"16.7M\",\"offsetgroup\":\"16.7M\",\"orientation\":\"v\",\"showlegend\":true,\"texttemplate\":\"%{value}\",\"x\":[\"Indonesia\"],\"xaxis\":\"x\",\"yaxis\":\"y\",\"type\":\"histogram\"},{\"alignmentgroup\":\"True\",\"bingroup\":\"x\",\"hovertemplate\":\"Followers=4.5M<br>Audience Country=%{x}<br>count=%{y}<extra></extra>\",\"legendgroup\":\"4.5M\",\"marker\":{\"color\":\"#636efa\",\"pattern\":{\"shape\":\"\"}},\"name\":\"4.5M\",\"offsetgroup\":\"4.5M\",\"orientation\":\"v\",\"showlegend\":true,\"texttemplate\":\"%{value}\",\"x\":[\"Indonesia\",\"Indonesia\",\"Iran\"],\"xaxis\":\"x\",\"yaxis\":\"y\",\"type\":\"histogram\"},{\"alignmentgroup\":\"True\",\"bingroup\":\"x\",\"hovertemplate\":\"Followers=15.4M<br>Audience Country=%{x}<br>count=%{y}<extra></extra>\",\"legendgroup\":\"15.4M\",\"marker\":{\"color\":\"#EF553B\",\"pattern\":{\"shape\":\"\"}},\"name\":\"15.4M\",\"offsetgroup\":\"15.4M\",\"orientation\":\"v\",\"showlegend\":true,\"texttemplate\":\"%{value}\",\"x\":[\"Indonesia\",\"Brazil\"],\"xaxis\":\"x\",\"yaxis\":\"y\",\"type\":\"histogram\"},{\"alignmentgroup\":\"True\",\"bingroup\":\"x\",\"hovertemplate\":\"Followers=3.8M<br>Audience Country=%{x}<br>count=%{y}<extra></extra>\",\"legendgroup\":\"3.8M\",\"marker\":{\"color\":\"#00cc96\",\"pattern\":{\"shape\":\"\"}},\"name\":\"3.8M\",\"offsetgroup\":\"3.8M\",\"orientation\":\"v\",\"showlegend\":true,\"texttemplate\":\"%{value}\",\"x\":[\"Mexico\",\"Italy\"],\"xaxis\":\"x\",\"yaxis\":\"y\",\"type\":\"histogram\"},{\"alignmentgroup\":\"True\",\"bingroup\":\"x\",\"hovertemplate\":\"Followers=3M<br>Audience Country=%{x}<br>count=%{y}<extra></extra>\",\"legendgroup\":\"3M\",\"marker\":{\"color\":\"#ab63fa\",\"pattern\":{\"shape\":\"\"}},\"name\":\"3M\",\"offsetgroup\":\"3M\",\"orientation\":\"v\",\"showlegend\":true,\"texttemplate\":\"%{value}\",\"x\":[\"United States\",\"United States\",\"Iran\",\"Indonesia\"],\"xaxis\":\"x\",\"yaxis\":\"y\",\"type\":\"histogram\"},{\"alignmentgroup\":\"True\",\"bingroup\":\"x\",\"hovertemplate\":\"Followers=21.5M<br>Audience Country=%{x}<br>count=%{y}<extra></extra>\",\"legendgroup\":\"21.5M\",\"marker\":{\"color\":\"#FFA15A\",\"pattern\":{\"shape\":\"\"}},\"name\":\"21.5M\",\"offsetgroup\":\"21.5M\",\"orientation\":\"v\",\"showlegend\":true,\"texttemplate\":\"%{value}\",\"x\":[\"United States\",\"Brazil\",\"Indonesia\"],\"xaxis\":\"x\",\"yaxis\":\"y\",\"type\":\"histogram\"},{\"alignmentgroup\":\"True\",\"bingroup\":\"x\",\"hovertemplate\":\"Followers=12.4M<br>Audience Country=%{x}<br>count=%{y}<extra></extra>\",\"legendgroup\":\"12.4M\",\"marker\":{\"color\":\"#19d3f3\",\"pattern\":{\"shape\":\"\"}},\"name\":\"12.4M\",\"offsetgroup\":\"12.4M\",\"orientation\":\"v\",\"showlegend\":true,\"texttemplate\":\"%{value}\",\"x\":[\"Turkey\",\"United States\"],\"xaxis\":\"x\",\"yaxis\":\"y\",\"type\":\"histogram\"},{\"alignmentgroup\":\"True\",\"bingroup\":\"x\",\"hovertemplate\":\"Followers=69M<br>Audience Country=%{x}<br>count=%{y}<extra></extra>\",\"legendgroup\":\"69M\",\"marker\":{\"color\":\"#FF6692\",\"pattern\":{\"shape\":\"\"}},\"name\":\"69M\",\"offsetgroup\":\"69M\",\"orientation\":\"v\",\"showlegend\":true,\"texttemplate\":\"%{value}\",\"x\":[\"United States\"],\"xaxis\":\"x\",\"yaxis\":\"y\",\"type\":\"histogram\"},{\"alignmentgroup\":\"True\",\"bingroup\":\"x\",\"hovertemplate\":\"Followers=2.9M<br>Audience Country=%{x}<br>count=%{y}<extra></extra>\",\"legendgroup\":\"2.9M\",\"marker\":{\"color\":\"#B6E880\",\"pattern\":{\"shape\":\"\"}},\"name\":\"2.9M\",\"offsetgroup\":\"2.9M\",\"orientation\":\"v\",\"showlegend\":true,\"texttemplate\":\"%{value}\",\"x\":[\"Indonesia\"],\"xaxis\":\"x\",\"yaxis\":\"y\",\"type\":\"histogram\"},{\"alignmentgroup\":\"True\",\"bingroup\":\"x\",\"hovertemplate\":\"Followers=11.9M<br>Audience Country=%{x}<br>count=%{y}<extra></extra>\",\"legendgroup\":\"11.9M\",\"marker\":{\"color\":\"#FF97FF\",\"pattern\":{\"shape\":\"\"}},\"name\":\"11.9M\",\"offsetgroup\":\"11.9M\",\"orientation\":\"v\",\"showlegend\":true,\"texttemplate\":\"%{value}\",\"x\":[\"Brazil\",\"Brazil\"],\"xaxis\":\"x\",\"yaxis\":\"y\",\"type\":\"histogram\"},{\"alignmentgroup\":\"True\",\"bingroup\":\"x\",\"hovertemplate\":\"Followers=15.6M<br>Audience Country=%{x}<br>count=%{y}<extra></extra>\",\"legendgroup\":\"15.6M\",\"marker\":{\"color\":\"#FECB52\",\"pattern\":{\"shape\":\"\"}},\"name\":\"15.6M\",\"offsetgroup\":\"15.6M\",\"orientation\":\"v\",\"showlegend\":true,\"texttemplate\":\"%{value}\",\"x\":[\"United States\",\"Spain\"],\"xaxis\":\"x\",\"yaxis\":\"y\",\"type\":\"histogram\"},{\"alignmentgroup\":\"True\",\"bingroup\":\"x\",\"hovertemplate\":\"Followers=7.7M<br>Audience Country=%{x}<br>count=%{y}<extra></extra>\",\"legendgroup\":\"7.7M\",\"marker\":{\"color\":\"#636efa\",\"pattern\":{\"shape\":\"\"}},\"name\":\"7.7M\",\"offsetgroup\":\"7.7M\",\"orientation\":\"v\",\"showlegend\":true,\"texttemplate\":\"%{value}\",\"x\":[\"Indonesia\",\"France\",\"United States\"],\"xaxis\":\"x\",\"yaxis\":\"y\",\"type\":\"histogram\"},{\"alignmentgroup\":\"True\",\"bingroup\":\"x\",\"hovertemplate\":\"Followers=4.1M<br>Audience Country=%{x}<br>count=%{y}<extra></extra>\",\"legendgroup\":\"4.1M\",\"marker\":{\"color\":\"#EF553B\",\"pattern\":{\"shape\":\"\"}},\"name\":\"4.1M\",\"offsetgroup\":\"4.1M\",\"orientation\":\"v\",\"showlegend\":true,\"texttemplate\":\"%{value}\",\"x\":[null,\"Indonesia\",\"Indonesia\"],\"xaxis\":\"x\",\"yaxis\":\"y\",\"type\":\"histogram\"},{\"alignmentgroup\":\"True\",\"bingroup\":\"x\",\"hovertemplate\":\"Followers=29.7M<br>Audience Country=%{x}<br>count=%{y}<extra></extra>\",\"legendgroup\":\"29.7M\",\"marker\":{\"color\":\"#00cc96\",\"pattern\":{\"shape\":\"\"}},\"name\":\"29.7M\",\"offsetgroup\":\"29.7M\",\"orientation\":\"v\",\"showlegend\":true,\"texttemplate\":\"%{value}\",\"x\":[\"Argentina\"],\"xaxis\":\"x\",\"yaxis\":\"y\",\"type\":\"histogram\"},{\"alignmentgroup\":\"True\",\"bingroup\":\"x\",\"hovertemplate\":\"Followers=39.7M<br>Audience Country=%{x}<br>count=%{y}<extra></extra>\",\"legendgroup\":\"39.7M\",\"marker\":{\"color\":\"#ab63fa\",\"pattern\":{\"shape\":\"\"}},\"name\":\"39.7M\",\"offsetgroup\":\"39.7M\",\"orientation\":\"v\",\"showlegend\":true,\"texttemplate\":\"%{value}\",\"x\":[\"Spain\"],\"xaxis\":\"x\",\"yaxis\":\"y\",\"type\":\"histogram\"},{\"alignmentgroup\":\"True\",\"bingroup\":\"x\",\"hovertemplate\":\"Followers=1.6M<br>Audience Country=%{x}<br>count=%{y}<extra></extra>\",\"legendgroup\":\"1.6M\",\"marker\":{\"color\":\"#FFA15A\",\"pattern\":{\"shape\":\"\"}},\"name\":\"1.6M\",\"offsetgroup\":\"1.6M\",\"orientation\":\"v\",\"showlegend\":true,\"texttemplate\":\"%{value}\",\"x\":[\"Senegal\"],\"xaxis\":\"x\",\"yaxis\":\"y\",\"type\":\"histogram\"},{\"alignmentgroup\":\"True\",\"bingroup\":\"x\",\"hovertemplate\":\"Followers=3.1M<br>Audience Country=%{x}<br>count=%{y}<extra></extra>\",\"legendgroup\":\"3.1M\",\"marker\":{\"color\":\"#19d3f3\",\"pattern\":{\"shape\":\"\"}},\"name\":\"3.1M\",\"offsetgroup\":\"3.1M\",\"orientation\":\"v\",\"showlegend\":true,\"texttemplate\":\"%{value}\",\"x\":[\"United States\",\"United States\"],\"xaxis\":\"x\",\"yaxis\":\"y\",\"type\":\"histogram\"},{\"alignmentgroup\":\"True\",\"bingroup\":\"x\",\"hovertemplate\":\"Followers=31.5M<br>Audience Country=%{x}<br>count=%{y}<extra></extra>\",\"legendgroup\":\"31.5M\",\"marker\":{\"color\":\"#FF6692\",\"pattern\":{\"shape\":\"\"}},\"name\":\"31.5M\",\"offsetgroup\":\"31.5M\",\"orientation\":\"v\",\"showlegend\":true,\"texttemplate\":\"%{value}\",\"x\":[\"Brazil\"],\"xaxis\":\"x\",\"yaxis\":\"y\",\"type\":\"histogram\"},{\"alignmentgroup\":\"True\",\"bingroup\":\"x\",\"hovertemplate\":\"Followers=30.4M<br>Audience Country=%{x}<br>count=%{y}<extra></extra>\",\"legendgroup\":\"30.4M\",\"marker\":{\"color\":\"#B6E880\",\"pattern\":{\"shape\":\"\"}},\"name\":\"30.4M\",\"offsetgroup\":\"30.4M\",\"orientation\":\"v\",\"showlegend\":true,\"texttemplate\":\"%{value}\",\"x\":[\"Brazil\"],\"xaxis\":\"x\",\"yaxis\":\"y\",\"type\":\"histogram\"},{\"alignmentgroup\":\"True\",\"bingroup\":\"x\",\"hovertemplate\":\"Followers=7.5M<br>Audience Country=%{x}<br>count=%{y}<extra></extra>\",\"legendgroup\":\"7.5M\",\"marker\":{\"color\":\"#FF97FF\",\"pattern\":{\"shape\":\"\"}},\"name\":\"7.5M\",\"offsetgroup\":\"7.5M\",\"orientation\":\"v\",\"showlegend\":true,\"texttemplate\":\"%{value}\",\"x\":[\"India\",\"Mexico\",\"United States\"],\"xaxis\":\"x\",\"yaxis\":\"y\",\"type\":\"histogram\"},{\"alignmentgroup\":\"True\",\"bingroup\":\"x\",\"hovertemplate\":\"Followers=4.6M<br>Audience Country=%{x}<br>count=%{y}<extra></extra>\",\"legendgroup\":\"4.6M\",\"marker\":{\"color\":\"#FECB52\",\"pattern\":{\"shape\":\"\"}},\"name\":\"4.6M\",\"offsetgroup\":\"4.6M\",\"orientation\":\"v\",\"showlegend\":true,\"texttemplate\":\"%{value}\",\"x\":[\"Iran\",\"United States\"],\"xaxis\":\"x\",\"yaxis\":\"y\",\"type\":\"histogram\"},{\"alignmentgroup\":\"True\",\"bingroup\":\"x\",\"hovertemplate\":\"Followers=6.8M<br>Audience Country=%{x}<br>count=%{y}<extra></extra>\",\"legendgroup\":\"6.8M\",\"marker\":{\"color\":\"#636efa\",\"pattern\":{\"shape\":\"\"}},\"name\":\"6.8M\",\"offsetgroup\":\"6.8M\",\"orientation\":\"v\",\"showlegend\":true,\"texttemplate\":\"%{value}\",\"x\":[\"United States\",\"Brazil\",\"United States\"],\"xaxis\":\"x\",\"yaxis\":\"y\",\"type\":\"histogram\"},{\"alignmentgroup\":\"True\",\"bingroup\":\"x\",\"hovertemplate\":\"Followers=39.6M<br>Audience Country=%{x}<br>count=%{y}<extra></extra>\",\"legendgroup\":\"39.6M\",\"marker\":{\"color\":\"#EF553B\",\"pattern\":{\"shape\":\"\"}},\"name\":\"39.6M\",\"offsetgroup\":\"39.6M\",\"orientation\":\"v\",\"showlegend\":true,\"texttemplate\":\"%{value}\",\"x\":[\"Indonesia\",\"United States\"],\"xaxis\":\"x\",\"yaxis\":\"y\",\"type\":\"histogram\"},{\"alignmentgroup\":\"True\",\"bingroup\":\"x\",\"hovertemplate\":\"Followers=3.5M<br>Audience Country=%{x}<br>count=%{y}<extra></extra>\",\"legendgroup\":\"3.5M\",\"marker\":{\"color\":\"#00cc96\",\"pattern\":{\"shape\":\"\"}},\"name\":\"3.5M\",\"offsetgroup\":\"3.5M\",\"orientation\":\"v\",\"showlegend\":true,\"texttemplate\":\"%{value}\",\"x\":[\"Brazil\",\"Mexico\",\"Russia\",\"France\",\"India\"],\"xaxis\":\"x\",\"yaxis\":\"y\",\"type\":\"histogram\"},{\"alignmentgroup\":\"True\",\"bingroup\":\"x\",\"hovertemplate\":\"Followers=18.8M<br>Audience Country=%{x}<br>count=%{y}<extra></extra>\",\"legendgroup\":\"18.8M\",\"marker\":{\"color\":\"#ab63fa\",\"pattern\":{\"shape\":\"\"}},\"name\":\"18.8M\",\"offsetgroup\":\"18.8M\",\"orientation\":\"v\",\"showlegend\":true,\"texttemplate\":\"%{value}\",\"x\":[\"Russia\"],\"xaxis\":\"x\",\"yaxis\":\"y\",\"type\":\"histogram\"},{\"alignmentgroup\":\"True\",\"bingroup\":\"x\",\"hovertemplate\":\"Followers=123.7M<br>Audience Country=%{x}<br>count=%{y}<extra></extra>\",\"legendgroup\":\"123.7M\",\"marker\":{\"color\":\"#FFA15A\",\"pattern\":{\"shape\":\"\"}},\"name\":\"123.7M\",\"offsetgroup\":\"123.7M\",\"orientation\":\"v\",\"showlegend\":true,\"texttemplate\":\"%{value}\",\"x\":[\"United States\"],\"xaxis\":\"x\",\"yaxis\":\"y\",\"type\":\"histogram\"},{\"alignmentgroup\":\"True\",\"bingroup\":\"x\",\"hovertemplate\":\"Followers=3.2M<br>Audience Country=%{x}<br>count=%{y}<extra></extra>\",\"legendgroup\":\"3.2M\",\"marker\":{\"color\":\"#19d3f3\",\"pattern\":{\"shape\":\"\"}},\"name\":\"3.2M\",\"offsetgroup\":\"3.2M\",\"orientation\":\"v\",\"showlegend\":true,\"texttemplate\":\"%{value}\",\"x\":[\"India\",\"South Korea\"],\"xaxis\":\"x\",\"yaxis\":\"y\",\"type\":\"histogram\"},{\"alignmentgroup\":\"True\",\"bingroup\":\"x\",\"hovertemplate\":\"Followers=25.3M<br>Audience Country=%{x}<br>count=%{y}<extra></extra>\",\"legendgroup\":\"25.3M\",\"marker\":{\"color\":\"#FF6692\",\"pattern\":{\"shape\":\"\"}},\"name\":\"25.3M\",\"offsetgroup\":\"25.3M\",\"orientation\":\"v\",\"showlegend\":true,\"texttemplate\":\"%{value}\",\"x\":[\"Brazil\"],\"xaxis\":\"x\",\"yaxis\":\"y\",\"type\":\"histogram\"},{\"alignmentgroup\":\"True\",\"bingroup\":\"x\",\"hovertemplate\":\"Followers=19.3M<br>Audience Country=%{x}<br>count=%{y}<extra></extra>\",\"legendgroup\":\"19.3M\",\"marker\":{\"color\":\"#B6E880\",\"pattern\":{\"shape\":\"\"}},\"name\":\"19.3M\",\"offsetgroup\":\"19.3M\",\"orientation\":\"v\",\"showlegend\":true,\"texttemplate\":\"%{value}\",\"x\":[\"United States\"],\"xaxis\":\"x\",\"yaxis\":\"y\",\"type\":\"histogram\"},{\"alignmentgroup\":\"True\",\"bingroup\":\"x\",\"hovertemplate\":\"Followers=12.7M<br>Audience Country=%{x}<br>count=%{y}<extra></extra>\",\"legendgroup\":\"12.7M\",\"marker\":{\"color\":\"#FF97FF\",\"pattern\":{\"shape\":\"\"}},\"name\":\"12.7M\",\"offsetgroup\":\"12.7M\",\"orientation\":\"v\",\"showlegend\":true,\"texttemplate\":\"%{value}\",\"x\":[\"United States\"],\"xaxis\":\"x\",\"yaxis\":\"y\",\"type\":\"histogram\"},{\"alignmentgroup\":\"True\",\"bingroup\":\"x\",\"hovertemplate\":\"Followers=4M<br>Audience Country=%{x}<br>count=%{y}<extra></extra>\",\"legendgroup\":\"4M\",\"marker\":{\"color\":\"#FECB52\",\"pattern\":{\"shape\":\"\"}},\"name\":\"4M\",\"offsetgroup\":\"4M\",\"orientation\":\"v\",\"showlegend\":true,\"texttemplate\":\"%{value}\",\"x\":[\"United Kingdom\",\"Russia\",\"Brazil\",\"Indonesia\"],\"xaxis\":\"x\",\"yaxis\":\"y\",\"type\":\"histogram\"},{\"alignmentgroup\":\"True\",\"bingroup\":\"x\",\"hovertemplate\":\"Followers=22M<br>Audience Country=%{x}<br>count=%{y}<extra></extra>\",\"legendgroup\":\"22M\",\"marker\":{\"color\":\"#636efa\",\"pattern\":{\"shape\":\"\"}},\"name\":\"22M\",\"offsetgroup\":\"22M\",\"orientation\":\"v\",\"showlegend\":true,\"texttemplate\":\"%{value}\",\"x\":[\"Brazil\"],\"xaxis\":\"x\",\"yaxis\":\"y\",\"type\":\"histogram\"},{\"alignmentgroup\":\"True\",\"bingroup\":\"x\",\"hovertemplate\":\"Followers=15.7M<br>Audience Country=%{x}<br>count=%{y}<extra></extra>\",\"legendgroup\":\"15.7M\",\"marker\":{\"color\":\"#EF553B\",\"pattern\":{\"shape\":\"\"}},\"name\":\"15.7M\",\"offsetgroup\":\"15.7M\",\"orientation\":\"v\",\"showlegend\":true,\"texttemplate\":\"%{value}\",\"x\":[\"Egypt\"],\"xaxis\":\"x\",\"yaxis\":\"y\",\"type\":\"histogram\"},{\"alignmentgroup\":\"True\",\"bingroup\":\"x\",\"hovertemplate\":\"Followers=3.6M<br>Audience Country=%{x}<br>count=%{y}<extra></extra>\",\"legendgroup\":\"3.6M\",\"marker\":{\"color\":\"#00cc96\",\"pattern\":{\"shape\":\"\"}},\"name\":\"3.6M\",\"offsetgroup\":\"3.6M\",\"orientation\":\"v\",\"showlegend\":true,\"texttemplate\":\"%{value}\",\"x\":[\"Indonesia\"],\"xaxis\":\"x\",\"yaxis\":\"y\",\"type\":\"histogram\"},{\"alignmentgroup\":\"True\",\"bingroup\":\"x\",\"hovertemplate\":\"Followers=21M<br>Audience Country=%{x}<br>count=%{y}<extra></extra>\",\"legendgroup\":\"21M\",\"marker\":{\"color\":\"#ab63fa\",\"pattern\":{\"shape\":\"\"}},\"name\":\"21M\",\"offsetgroup\":\"21M\",\"orientation\":\"v\",\"showlegend\":true,\"texttemplate\":\"%{value}\",\"x\":[\"Indonesia\"],\"xaxis\":\"x\",\"yaxis\":\"y\",\"type\":\"histogram\"},{\"alignmentgroup\":\"True\",\"bingroup\":\"x\",\"hovertemplate\":\"Followers=16.3M<br>Audience Country=%{x}<br>count=%{y}<extra></extra>\",\"legendgroup\":\"16.3M\",\"marker\":{\"color\":\"#FFA15A\",\"pattern\":{\"shape\":\"\"}},\"name\":\"16.3M\",\"offsetgroup\":\"16.3M\",\"orientation\":\"v\",\"showlegend\":true,\"texttemplate\":\"%{value}\",\"x\":[\"Iran\"],\"xaxis\":\"x\",\"yaxis\":\"y\",\"type\":\"histogram\"},{\"alignmentgroup\":\"True\",\"bingroup\":\"x\",\"hovertemplate\":\"Followers=38.4M<br>Audience Country=%{x}<br>count=%{y}<extra></extra>\",\"legendgroup\":\"38.4M\",\"marker\":{\"color\":\"#19d3f3\",\"pattern\":{\"shape\":\"\"}},\"name\":\"38.4M\",\"offsetgroup\":\"38.4M\",\"orientation\":\"v\",\"showlegend\":true,\"texttemplate\":\"%{value}\",\"x\":[\"India\"],\"xaxis\":\"x\",\"yaxis\":\"y\",\"type\":\"histogram\"},{\"alignmentgroup\":\"True\",\"bingroup\":\"x\",\"hovertemplate\":\"Followers=7.2M<br>Audience Country=%{x}<br>count=%{y}<extra></extra>\",\"legendgroup\":\"7.2M\",\"marker\":{\"color\":\"#FF6692\",\"pattern\":{\"shape\":\"\"}},\"name\":\"7.2M\",\"offsetgroup\":\"7.2M\",\"orientation\":\"v\",\"showlegend\":true,\"texttemplate\":\"%{value}\",\"x\":[\"Turkey\"],\"xaxis\":\"x\",\"yaxis\":\"y\",\"type\":\"histogram\"},{\"alignmentgroup\":\"True\",\"bingroup\":\"x\",\"hovertemplate\":\"Followers=26M<br>Audience Country=%{x}<br>count=%{y}<extra></extra>\",\"legendgroup\":\"26M\",\"marker\":{\"color\":\"#B6E880\",\"pattern\":{\"shape\":\"\"}},\"name\":\"26M\",\"offsetgroup\":\"26M\",\"orientation\":\"v\",\"showlegend\":true,\"texttemplate\":\"%{value}\",\"x\":[\"India\"],\"xaxis\":\"x\",\"yaxis\":\"y\",\"type\":\"histogram\"},{\"alignmentgroup\":\"True\",\"bingroup\":\"x\",\"hovertemplate\":\"Followers=17.8M<br>Audience Country=%{x}<br>count=%{y}<extra></extra>\",\"legendgroup\":\"17.8M\",\"marker\":{\"color\":\"#FF97FF\",\"pattern\":{\"shape\":\"\"}},\"name\":\"17.8M\",\"offsetgroup\":\"17.8M\",\"orientation\":\"v\",\"showlegend\":true,\"texttemplate\":\"%{value}\",\"x\":[\"United States\"],\"xaxis\":\"x\",\"yaxis\":\"y\",\"type\":\"histogram\"},{\"alignmentgroup\":\"True\",\"bingroup\":\"x\",\"hovertemplate\":\"Followers=11.2M<br>Audience Country=%{x}<br>count=%{y}<extra></extra>\",\"legendgroup\":\"11.2M\",\"marker\":{\"color\":\"#FECB52\",\"pattern\":{\"shape\":\"\"}},\"name\":\"11.2M\",\"offsetgroup\":\"11.2M\",\"orientation\":\"v\",\"showlegend\":true,\"texttemplate\":\"%{value}\",\"x\":[\"Brazil\"],\"xaxis\":\"x\",\"yaxis\":\"y\",\"type\":\"histogram\"},{\"alignmentgroup\":\"True\",\"bingroup\":\"x\",\"hovertemplate\":\"Followers=19.7M<br>Audience Country=%{x}<br>count=%{y}<extra></extra>\",\"legendgroup\":\"19.7M\",\"marker\":{\"color\":\"#636efa\",\"pattern\":{\"shape\":\"\"}},\"name\":\"19.7M\",\"offsetgroup\":\"19.7M\",\"orientation\":\"v\",\"showlegend\":true,\"texttemplate\":\"%{value}\",\"x\":[\"United States\"],\"xaxis\":\"x\",\"yaxis\":\"y\",\"type\":\"histogram\"},{\"alignmentgroup\":\"True\",\"bingroup\":\"x\",\"hovertemplate\":\"Followers=2.6M<br>Audience Country=%{x}<br>count=%{y}<extra></extra>\",\"legendgroup\":\"2.6M\",\"marker\":{\"color\":\"#EF553B\",\"pattern\":{\"shape\":\"\"}},\"name\":\"2.6M\",\"offsetgroup\":\"2.6M\",\"orientation\":\"v\",\"showlegend\":true,\"texttemplate\":\"%{value}\",\"x\":[\"India\"],\"xaxis\":\"x\",\"yaxis\":\"y\",\"type\":\"histogram\"},{\"alignmentgroup\":\"True\",\"bingroup\":\"x\",\"hovertemplate\":\"Followers=15.8M<br>Audience Country=%{x}<br>count=%{y}<extra></extra>\",\"legendgroup\":\"15.8M\",\"marker\":{\"color\":\"#00cc96\",\"pattern\":{\"shape\":\"\"}},\"name\":\"15.8M\",\"offsetgroup\":\"15.8M\",\"orientation\":\"v\",\"showlegend\":true,\"texttemplate\":\"%{value}\",\"x\":[\"Egypt\"],\"xaxis\":\"x\",\"yaxis\":\"y\",\"type\":\"histogram\"},{\"alignmentgroup\":\"True\",\"bingroup\":\"x\",\"hovertemplate\":\"Followers=24.8M<br>Audience Country=%{x}<br>count=%{y}<extra></extra>\",\"legendgroup\":\"24.8M\",\"marker\":{\"color\":\"#ab63fa\",\"pattern\":{\"shape\":\"\"}},\"name\":\"24.8M\",\"offsetgroup\":\"24.8M\",\"orientation\":\"v\",\"showlegend\":true,\"texttemplate\":\"%{value}\",\"x\":[\"United States\"],\"xaxis\":\"x\",\"yaxis\":\"y\",\"type\":\"histogram\"},{\"alignmentgroup\":\"True\",\"bingroup\":\"x\",\"hovertemplate\":\"Followers=3.4M<br>Audience Country=%{x}<br>count=%{y}<extra></extra>\",\"legendgroup\":\"3.4M\",\"marker\":{\"color\":\"#FFA15A\",\"pattern\":{\"shape\":\"\"}},\"name\":\"3.4M\",\"offsetgroup\":\"3.4M\",\"orientation\":\"v\",\"showlegend\":true,\"texttemplate\":\"%{value}\",\"x\":[\"Indonesia\"],\"xaxis\":\"x\",\"yaxis\":\"y\",\"type\":\"histogram\"}],                        {\"template\":{\"data\":{\"histogram2dcontour\":[{\"type\":\"histogram2dcontour\",\"colorbar\":{\"outlinewidth\":0,\"ticks\":\"\"},\"colorscale\":[[0.0,\"#0d0887\"],[0.1111111111111111,\"#46039f\"],[0.2222222222222222,\"#7201a8\"],[0.3333333333333333,\"#9c179e\"],[0.4444444444444444,\"#bd3786\"],[0.5555555555555556,\"#d8576b\"],[0.6666666666666666,\"#ed7953\"],[0.7777777777777778,\"#fb9f3a\"],[0.8888888888888888,\"#fdca26\"],[1.0,\"#f0f921\"]]}],\"choropleth\":[{\"type\":\"choropleth\",\"colorbar\":{\"outlinewidth\":0,\"ticks\":\"\"}}],\"histogram2d\":[{\"type\":\"histogram2d\",\"colorbar\":{\"outlinewidth\":0,\"ticks\":\"\"},\"colorscale\":[[0.0,\"#0d0887\"],[0.1111111111111111,\"#46039f\"],[0.2222222222222222,\"#7201a8\"],[0.3333333333333333,\"#9c179e\"],[0.4444444444444444,\"#bd3786\"],[0.5555555555555556,\"#d8576b\"],[0.6666666666666666,\"#ed7953\"],[0.7777777777777778,\"#fb9f3a\"],[0.8888888888888888,\"#fdca26\"],[1.0,\"#f0f921\"]]}],\"heatmap\":[{\"type\":\"heatmap\",\"colorbar\":{\"outlinewidth\":0,\"ticks\":\"\"},\"colorscale\":[[0.0,\"#0d0887\"],[0.1111111111111111,\"#46039f\"],[0.2222222222222222,\"#7201a8\"],[0.3333333333333333,\"#9c179e\"],[0.4444444444444444,\"#bd3786\"],[0.5555555555555556,\"#d8576b\"],[0.6666666666666666,\"#ed7953\"],[0.7777777777777778,\"#fb9f3a\"],[0.8888888888888888,\"#fdca26\"],[1.0,\"#f0f921\"]]}],\"heatmapgl\":[{\"type\":\"heatmapgl\",\"colorbar\":{\"outlinewidth\":0,\"ticks\":\"\"},\"colorscale\":[[0.0,\"#0d0887\"],[0.1111111111111111,\"#46039f\"],[0.2222222222222222,\"#7201a8\"],[0.3333333333333333,\"#9c179e\"],[0.4444444444444444,\"#bd3786\"],[0.5555555555555556,\"#d8576b\"],[0.6666666666666666,\"#ed7953\"],[0.7777777777777778,\"#fb9f3a\"],[0.8888888888888888,\"#fdca26\"],[1.0,\"#f0f921\"]]}],\"contourcarpet\":[{\"type\":\"contourcarpet\",\"colorbar\":{\"outlinewidth\":0,\"ticks\":\"\"}}],\"contour\":[{\"type\":\"contour\",\"colorbar\":{\"outlinewidth\":0,\"ticks\":\"\"},\"colorscale\":[[0.0,\"#0d0887\"],[0.1111111111111111,\"#46039f\"],[0.2222222222222222,\"#7201a8\"],[0.3333333333333333,\"#9c179e\"],[0.4444444444444444,\"#bd3786\"],[0.5555555555555556,\"#d8576b\"],[0.6666666666666666,\"#ed7953\"],[0.7777777777777778,\"#fb9f3a\"],[0.8888888888888888,\"#fdca26\"],[1.0,\"#f0f921\"]]}],\"surface\":[{\"type\":\"surface\",\"colorbar\":{\"outlinewidth\":0,\"ticks\":\"\"},\"colorscale\":[[0.0,\"#0d0887\"],[0.1111111111111111,\"#46039f\"],[0.2222222222222222,\"#7201a8\"],[0.3333333333333333,\"#9c179e\"],[0.4444444444444444,\"#bd3786\"],[0.5555555555555556,\"#d8576b\"],[0.6666666666666666,\"#ed7953\"],[0.7777777777777778,\"#fb9f3a\"],[0.8888888888888888,\"#fdca26\"],[1.0,\"#f0f921\"]]}],\"mesh3d\":[{\"type\":\"mesh3d\",\"colorbar\":{\"outlinewidth\":0,\"ticks\":\"\"}}],\"scatter\":[{\"fillpattern\":{\"fillmode\":\"overlay\",\"size\":10,\"solidity\":0.2},\"type\":\"scatter\"}],\"parcoords\":[{\"type\":\"parcoords\",\"line\":{\"colorbar\":{\"outlinewidth\":0,\"ticks\":\"\"}}}],\"scatterpolargl\":[{\"type\":\"scatterpolargl\",\"marker\":{\"colorbar\":{\"outlinewidth\":0,\"ticks\":\"\"}}}],\"bar\":[{\"error_x\":{\"color\":\"#2a3f5f\"},\"error_y\":{\"color\":\"#2a3f5f\"},\"marker\":{\"line\":{\"color\":\"#E5ECF6\",\"width\":0.5},\"pattern\":{\"fillmode\":\"overlay\",\"size\":10,\"solidity\":0.2}},\"type\":\"bar\"}],\"scattergeo\":[{\"type\":\"scattergeo\",\"marker\":{\"colorbar\":{\"outlinewidth\":0,\"ticks\":\"\"}}}],\"scatterpolar\":[{\"type\":\"scatterpolar\",\"marker\":{\"colorbar\":{\"outlinewidth\":0,\"ticks\":\"\"}}}],\"histogram\":[{\"marker\":{\"pattern\":{\"fillmode\":\"overlay\",\"size\":10,\"solidity\":0.2}},\"type\":\"histogram\"}],\"scattergl\":[{\"type\":\"scattergl\",\"marker\":{\"colorbar\":{\"outlinewidth\":0,\"ticks\":\"\"}}}],\"scatter3d\":[{\"type\":\"scatter3d\",\"line\":{\"colorbar\":{\"outlinewidth\":0,\"ticks\":\"\"}},\"marker\":{\"colorbar\":{\"outlinewidth\":0,\"ticks\":\"\"}}}],\"scattermapbox\":[{\"type\":\"scattermapbox\",\"marker\":{\"colorbar\":{\"outlinewidth\":0,\"ticks\":\"\"}}}],\"scatterternary\":[{\"type\":\"scatterternary\",\"marker\":{\"colorbar\":{\"outlinewidth\":0,\"ticks\":\"\"}}}],\"scattercarpet\":[{\"type\":\"scattercarpet\",\"marker\":{\"colorbar\":{\"outlinewidth\":0,\"ticks\":\"\"}}}],\"carpet\":[{\"aaxis\":{\"endlinecolor\":\"#2a3f5f\",\"gridcolor\":\"white\",\"linecolor\":\"white\",\"minorgridcolor\":\"white\",\"startlinecolor\":\"#2a3f5f\"},\"baxis\":{\"endlinecolor\":\"#2a3f5f\",\"gridcolor\":\"white\",\"linecolor\":\"white\",\"minorgridcolor\":\"white\",\"startlinecolor\":\"#2a3f5f\"},\"type\":\"carpet\"}],\"table\":[{\"cells\":{\"fill\":{\"color\":\"#EBF0F8\"},\"line\":{\"color\":\"white\"}},\"header\":{\"fill\":{\"color\":\"#C8D4E3\"},\"line\":{\"color\":\"white\"}},\"type\":\"table\"}],\"barpolar\":[{\"marker\":{\"line\":{\"color\":\"#E5ECF6\",\"width\":0.5},\"pattern\":{\"fillmode\":\"overlay\",\"size\":10,\"solidity\":0.2}},\"type\":\"barpolar\"}],\"pie\":[{\"automargin\":true,\"type\":\"pie\"}]},\"layout\":{\"autotypenumbers\":\"strict\",\"colorway\":[\"#636efa\",\"#EF553B\",\"#00cc96\",\"#ab63fa\",\"#FFA15A\",\"#19d3f3\",\"#FF6692\",\"#B6E880\",\"#FF97FF\",\"#FECB52\"],\"font\":{\"color\":\"#2a3f5f\"},\"hovermode\":\"closest\",\"hoverlabel\":{\"align\":\"left\"},\"paper_bgcolor\":\"white\",\"plot_bgcolor\":\"#E5ECF6\",\"polar\":{\"bgcolor\":\"#E5ECF6\",\"angularaxis\":{\"gridcolor\":\"white\",\"linecolor\":\"white\",\"ticks\":\"\"},\"radialaxis\":{\"gridcolor\":\"white\",\"linecolor\":\"white\",\"ticks\":\"\"}},\"ternary\":{\"bgcolor\":\"#E5ECF6\",\"aaxis\":{\"gridcolor\":\"white\",\"linecolor\":\"white\",\"ticks\":\"\"},\"baxis\":{\"gridcolor\":\"white\",\"linecolor\":\"white\",\"ticks\":\"\"},\"caxis\":{\"gridcolor\":\"white\",\"linecolor\":\"white\",\"ticks\":\"\"}},\"coloraxis\":{\"colorbar\":{\"outlinewidth\":0,\"ticks\":\"\"}},\"colorscale\":{\"sequential\":[[0.0,\"#0d0887\"],[0.1111111111111111,\"#46039f\"],[0.2222222222222222,\"#7201a8\"],[0.3333333333333333,\"#9c179e\"],[0.4444444444444444,\"#bd3786\"],[0.5555555555555556,\"#d8576b\"],[0.6666666666666666,\"#ed7953\"],[0.7777777777777778,\"#fb9f3a\"],[0.8888888888888888,\"#fdca26\"],[1.0,\"#f0f921\"]],\"sequentialminus\":[[0.0,\"#0d0887\"],[0.1111111111111111,\"#46039f\"],[0.2222222222222222,\"#7201a8\"],[0.3333333333333333,\"#9c179e\"],[0.4444444444444444,\"#bd3786\"],[0.5555555555555556,\"#d8576b\"],[0.6666666666666666,\"#ed7953\"],[0.7777777777777778,\"#fb9f3a\"],[0.8888888888888888,\"#fdca26\"],[1.0,\"#f0f921\"]],\"diverging\":[[0,\"#8e0152\"],[0.1,\"#c51b7d\"],[0.2,\"#de77ae\"],[0.3,\"#f1b6da\"],[0.4,\"#fde0ef\"],[0.5,\"#f7f7f7\"],[0.6,\"#e6f5d0\"],[0.7,\"#b8e186\"],[0.8,\"#7fbc41\"],[0.9,\"#4d9221\"],[1,\"#276419\"]]},\"xaxis\":{\"gridcolor\":\"white\",\"linecolor\":\"white\",\"ticks\":\"\",\"title\":{\"standoff\":15},\"zerolinecolor\":\"white\",\"automargin\":true,\"zerolinewidth\":2},\"yaxis\":{\"gridcolor\":\"white\",\"linecolor\":\"white\",\"ticks\":\"\",\"title\":{\"standoff\":15},\"zerolinecolor\":\"white\",\"automargin\":true,\"zerolinewidth\":2},\"scene\":{\"xaxis\":{\"backgroundcolor\":\"#E5ECF6\",\"gridcolor\":\"white\",\"linecolor\":\"white\",\"showbackground\":true,\"ticks\":\"\",\"zerolinecolor\":\"white\",\"gridwidth\":2},\"yaxis\":{\"backgroundcolor\":\"#E5ECF6\",\"gridcolor\":\"white\",\"linecolor\":\"white\",\"showbackground\":true,\"ticks\":\"\",\"zerolinecolor\":\"white\",\"gridwidth\":2},\"zaxis\":{\"backgroundcolor\":\"#E5ECF6\",\"gridcolor\":\"white\",\"linecolor\":\"white\",\"showbackground\":true,\"ticks\":\"\",\"zerolinecolor\":\"white\",\"gridwidth\":2}},\"shapedefaults\":{\"line\":{\"color\":\"#2a3f5f\"}},\"annotationdefaults\":{\"arrowcolor\":\"#2a3f5f\",\"arrowhead\":0,\"arrowwidth\":1},\"geo\":{\"bgcolor\":\"white\",\"landcolor\":\"#E5ECF6\",\"subunitcolor\":\"white\",\"showland\":true,\"showlakes\":true,\"lakecolor\":\"white\"},\"title\":{\"x\":0.05},\"mapbox\":{\"style\":\"light\"}}},\"xaxis\":{\"anchor\":\"y\",\"domain\":[0.0,1.0],\"title\":{\"text\":\"Audience Country\"}},\"yaxis\":{\"anchor\":\"x\",\"domain\":[0.0,1.0],\"title\":{\"text\":\"count\"}},\"legend\":{\"title\":{\"text\":\"Followers\"},\"tracegroupgap\":0},\"margin\":{\"t\":60},\"barmode\":\"relative\"},                        {\"responsive\": true}                    ).then(function(){\n",
       "                            \n",
       "var gd = document.getElementById('41ee232d-2877-4d43-a29e-0824e3ce7939');\n",
       "var x = new MutationObserver(function (mutations, observer) {{\n",
       "        var display = window.getComputedStyle(gd).display;\n",
       "        if (!display || display === 'none') {{\n",
       "            console.log([gd, 'removed!']);\n",
       "            Plotly.purge(gd);\n",
       "            observer.disconnect();\n",
       "        }}\n",
       "}});\n",
       "\n",
       "// Listen for the removal of the full notebook cells\n",
       "var notebookContainer = gd.closest('#notebook-container');\n",
       "if (notebookContainer) {{\n",
       "    x.observe(notebookContainer, {childList: true});\n",
       "}}\n",
       "\n",
       "// Listen for the clearing of the current output cell\n",
       "var outputEl = gd.closest('.output');\n",
       "if (outputEl) {{\n",
       "    x.observe(outputEl, {childList: true});\n",
       "}}\n",
       "\n",
       "                        })                };                });            </script>        </div>"
      ]
     },
     "metadata": {},
     "output_type": "display_data"
    }
   ],
   "source": [
    "# relação entre pais e seguidores:\n",
    "\n",
    "grafico = px.histogram(tabela, x=\"Audience Country\", color=\"Followers\", text_auto=True)\n",
    "grafico.show()"
   ]
  },
  {
   "cell_type": "markdown",
   "id": "1c331941",
   "metadata": {},
   "source": [
    "1- Estados unidos tem o maior número de seguidores\n",
    "2- a india é o segundo pais com mais seguidores."
   ]
  },
  {
   "cell_type": "markdown",
   "id": "5ea541a1",
   "metadata": {},
   "source": [
    "Com base nesses dados uma possivel capanha deve ser feita em perfís de cantores do estados unidos, visto que estados unidos tem o maior numero de seguidores."
   ]
  },
  {
   "cell_type": "code",
   "execution_count": null,
   "id": "4013379a",
   "metadata": {},
   "outputs": [],
   "source": []
  }
 ],
 "metadata": {
  "kernelspec": {
   "display_name": "Python 3 (ipykernel)",
   "language": "python",
   "name": "python3"
  },
  "language_info": {
   "codemirror_mode": {
    "name": "ipython",
    "version": 3
   },
   "file_extension": ".py",
   "mimetype": "text/x-python",
   "name": "python",
   "nbconvert_exporter": "python",
   "pygments_lexer": "ipython3",
   "version": "3.9.12"
  }
 },
 "nbformat": 4,
 "nbformat_minor": 5
}
